{
 "cells": [
  {
   "attachments": {},
   "cell_type": "markdown",
   "metadata": {},
   "source": [
    "# Выбор локации для скважины"
   ]
  },
  {
   "attachments": {},
   "cell_type": "markdown",
   "metadata": {},
   "source": [
    "\n",
    "**Цель работы:**\n",
    "построить модель, которая поможет определить регион, где добыча принесёт наибольшую прибыль. \n",
    "- Расчитать средний запас предсказанного сырья и RMSE модели;\n",
    "- Спрогнозировать среднюю прибыль, 95%-й доверительный интервал и риск убытков;\n",
    "- После оценки рисков оставить регионы, в которых вероятность убытков меньше 2.5%. Выбирать регион с наибольшей средней прибылью.\n",
    "\n",
    "id — уникальный идентификатор скважины;\n",
    "\n",
    "f0, f1, f2 — три признака точек (информация о точ, что они означают отсутствует, но сами признаки значимы);\n",
    "\n",
    "product — объём запасов в скважине (тыс. баррелей)."
   ]
  },
  {
   "attachments": {},
   "cell_type": "markdown",
   "metadata": {},
   "source": [
    "## Загрузка и подготовка данных"
   ]
  },
  {
   "attachments": {},
   "cell_type": "markdown",
   "metadata": {},
   "source": [
    "### подключение необходходимых для дальнейшей работы библиотек, модулей, метрик"
   ]
  },
  {
   "cell_type": "code",
   "execution_count": 1,
   "metadata": {},
   "outputs": [],
   "source": [
    "import numpy as np\n",
    "import matplotlib.pyplot as plt\n",
    "import pandas as pd\n",
    "\n",
    "from sklearn.linear_model import LinearRegression\n",
    "from sklearn.model_selection import train_test_split\n",
    "from sklearn.metrics import mean_squared_error\n",
    "from sklearn.preprocessing import MinMaxScaler\n",
    "from sklearn.preprocessing import StandardScaler\n",
    "\n",
    "from scipy import stats as st"
   ]
  },
  {
   "cell_type": "code",
   "execution_count": 2,
   "metadata": {},
   "outputs": [],
   "source": [
    "pd.options.mode.chained_assignment = None"
   ]
  },
  {
   "attachments": {},
   "cell_type": "markdown",
   "metadata": {},
   "source": [
    "<div class=\"alert alert-block alert-success\">\n",
    "<b>Успех:</b> Отлично, что все импорты собраны в первой ячейке ноутбука! Если у того, кто будет запускать твой ноутбук будут отсутствовать некоторые библиотеки, то он это увидит сразу, а не в процессе!\n",
    "</div>"
   ]
  },
  {
   "attachments": {},
   "cell_type": "markdown",
   "metadata": {},
   "source": [
    "### Загрузка данных и ознакомление"
   ]
  },
  {
   "cell_type": "code",
   "execution_count": 3,
   "metadata": {},
   "outputs": [],
   "source": [
    "df1 = pd.read_csv('/datasets/geo_data_0.csv') #датафрейм для региона №1\n",
    "df2 = pd.read_csv('/datasets/geo_data_1.csv') #датафрейм для региона №2\n",
    "df3 = pd.read_csv('/datasets/geo_data_2.csv') #датафрейм для региона №3"
   ]
  },
  {
   "attachments": {},
   "cell_type": "markdown",
   "metadata": {},
   "source": [
    "Выведем в цикле для каждого региона первые пять строк датафрейма, общую информацию и проверим на наличие явных дубликатов"
   ]
  },
  {
   "cell_type": "code",
   "execution_count": 4,
   "metadata": {},
   "outputs": [
    {
     "name": "stdout",
     "output_type": "stream",
     "text": [
      "\u001b[1mИнформация о данных для региона № 1\n"
     ]
    },
    {
     "data": {
      "text/html": [
       "<div>\n",
       "<style scoped>\n",
       "    .dataframe tbody tr th:only-of-type {\n",
       "        vertical-align: middle;\n",
       "    }\n",
       "\n",
       "    .dataframe tbody tr th {\n",
       "        vertical-align: top;\n",
       "    }\n",
       "\n",
       "    .dataframe thead th {\n",
       "        text-align: right;\n",
       "    }\n",
       "</style>\n",
       "<table border=\"1\" class=\"dataframe\">\n",
       "  <thead>\n",
       "    <tr style=\"text-align: right;\">\n",
       "      <th></th>\n",
       "      <th>id</th>\n",
       "      <th>f0</th>\n",
       "      <th>f1</th>\n",
       "      <th>f2</th>\n",
       "      <th>product</th>\n",
       "    </tr>\n",
       "  </thead>\n",
       "  <tbody>\n",
       "    <tr>\n",
       "      <th>0</th>\n",
       "      <td>txEyH</td>\n",
       "      <td>0.705745</td>\n",
       "      <td>-0.497823</td>\n",
       "      <td>1.221170</td>\n",
       "      <td>105.280062</td>\n",
       "    </tr>\n",
       "    <tr>\n",
       "      <th>1</th>\n",
       "      <td>2acmU</td>\n",
       "      <td>1.334711</td>\n",
       "      <td>-0.340164</td>\n",
       "      <td>4.365080</td>\n",
       "      <td>73.037750</td>\n",
       "    </tr>\n",
       "    <tr>\n",
       "      <th>2</th>\n",
       "      <td>409Wp</td>\n",
       "      <td>1.022732</td>\n",
       "      <td>0.151990</td>\n",
       "      <td>1.419926</td>\n",
       "      <td>85.265647</td>\n",
       "    </tr>\n",
       "    <tr>\n",
       "      <th>3</th>\n",
       "      <td>iJLyR</td>\n",
       "      <td>-0.032172</td>\n",
       "      <td>0.139033</td>\n",
       "      <td>2.978566</td>\n",
       "      <td>168.620776</td>\n",
       "    </tr>\n",
       "    <tr>\n",
       "      <th>4</th>\n",
       "      <td>Xdl7t</td>\n",
       "      <td>1.988431</td>\n",
       "      <td>0.155413</td>\n",
       "      <td>4.751769</td>\n",
       "      <td>154.036647</td>\n",
       "    </tr>\n",
       "  </tbody>\n",
       "</table>\n",
       "</div>"
      ],
      "text/plain": [
       "      id        f0        f1        f2     product\n",
       "0  txEyH  0.705745 -0.497823  1.221170  105.280062\n",
       "1  2acmU  1.334711 -0.340164  4.365080   73.037750\n",
       "2  409Wp  1.022732  0.151990  1.419926   85.265647\n",
       "3  iJLyR -0.032172  0.139033  2.978566  168.620776\n",
       "4  Xdl7t  1.988431  0.155413  4.751769  154.036647"
      ]
     },
     "metadata": {},
     "output_type": "display_data"
    },
    {
     "name": "stdout",
     "output_type": "stream",
     "text": [
      "<class 'pandas.core.frame.DataFrame'>\n",
      "RangeIndex: 100000 entries, 0 to 99999\n",
      "Data columns (total 5 columns):\n",
      " #   Column   Non-Null Count   Dtype  \n",
      "---  ------   --------------   -----  \n",
      " 0   id       100000 non-null  object \n",
      " 1   f0       100000 non-null  float64\n",
      " 2   f1       100000 non-null  float64\n",
      " 3   f2       100000 non-null  float64\n",
      " 4   product  100000 non-null  float64\n",
      "dtypes: float64(4), object(1)\n",
      "memory usage: 3.8+ MB\n",
      "Количество явных дубикатов = 0\n",
      "\n",
      "\u001b[1mИнформация о данных для региона № 2\n"
     ]
    },
    {
     "data": {
      "text/html": [
       "<div>\n",
       "<style scoped>\n",
       "    .dataframe tbody tr th:only-of-type {\n",
       "        vertical-align: middle;\n",
       "    }\n",
       "\n",
       "    .dataframe tbody tr th {\n",
       "        vertical-align: top;\n",
       "    }\n",
       "\n",
       "    .dataframe thead th {\n",
       "        text-align: right;\n",
       "    }\n",
       "</style>\n",
       "<table border=\"1\" class=\"dataframe\">\n",
       "  <thead>\n",
       "    <tr style=\"text-align: right;\">\n",
       "      <th></th>\n",
       "      <th>id</th>\n",
       "      <th>f0</th>\n",
       "      <th>f1</th>\n",
       "      <th>f2</th>\n",
       "      <th>product</th>\n",
       "    </tr>\n",
       "  </thead>\n",
       "  <tbody>\n",
       "    <tr>\n",
       "      <th>0</th>\n",
       "      <td>kBEdx</td>\n",
       "      <td>-15.001348</td>\n",
       "      <td>-8.276000</td>\n",
       "      <td>-0.005876</td>\n",
       "      <td>3.179103</td>\n",
       "    </tr>\n",
       "    <tr>\n",
       "      <th>1</th>\n",
       "      <td>62mP7</td>\n",
       "      <td>14.272088</td>\n",
       "      <td>-3.475083</td>\n",
       "      <td>0.999183</td>\n",
       "      <td>26.953261</td>\n",
       "    </tr>\n",
       "    <tr>\n",
       "      <th>2</th>\n",
       "      <td>vyE1P</td>\n",
       "      <td>6.263187</td>\n",
       "      <td>-5.948386</td>\n",
       "      <td>5.001160</td>\n",
       "      <td>134.766305</td>\n",
       "    </tr>\n",
       "    <tr>\n",
       "      <th>3</th>\n",
       "      <td>KcrkZ</td>\n",
       "      <td>-13.081196</td>\n",
       "      <td>-11.506057</td>\n",
       "      <td>4.999415</td>\n",
       "      <td>137.945408</td>\n",
       "    </tr>\n",
       "    <tr>\n",
       "      <th>4</th>\n",
       "      <td>AHL4O</td>\n",
       "      <td>12.702195</td>\n",
       "      <td>-8.147433</td>\n",
       "      <td>5.004363</td>\n",
       "      <td>134.766305</td>\n",
       "    </tr>\n",
       "  </tbody>\n",
       "</table>\n",
       "</div>"
      ],
      "text/plain": [
       "      id         f0         f1        f2     product\n",
       "0  kBEdx -15.001348  -8.276000 -0.005876    3.179103\n",
       "1  62mP7  14.272088  -3.475083  0.999183   26.953261\n",
       "2  vyE1P   6.263187  -5.948386  5.001160  134.766305\n",
       "3  KcrkZ -13.081196 -11.506057  4.999415  137.945408\n",
       "4  AHL4O  12.702195  -8.147433  5.004363  134.766305"
      ]
     },
     "metadata": {},
     "output_type": "display_data"
    },
    {
     "name": "stdout",
     "output_type": "stream",
     "text": [
      "<class 'pandas.core.frame.DataFrame'>\n",
      "RangeIndex: 100000 entries, 0 to 99999\n",
      "Data columns (total 5 columns):\n",
      " #   Column   Non-Null Count   Dtype  \n",
      "---  ------   --------------   -----  \n",
      " 0   id       100000 non-null  object \n",
      " 1   f0       100000 non-null  float64\n",
      " 2   f1       100000 non-null  float64\n",
      " 3   f2       100000 non-null  float64\n",
      " 4   product  100000 non-null  float64\n",
      "dtypes: float64(4), object(1)\n",
      "memory usage: 3.8+ MB\n",
      "Количество явных дубикатов = 0\n",
      "\n",
      "\u001b[1mИнформация о данных для региона № 3\n"
     ]
    },
    {
     "data": {
      "text/html": [
       "<div>\n",
       "<style scoped>\n",
       "    .dataframe tbody tr th:only-of-type {\n",
       "        vertical-align: middle;\n",
       "    }\n",
       "\n",
       "    .dataframe tbody tr th {\n",
       "        vertical-align: top;\n",
       "    }\n",
       "\n",
       "    .dataframe thead th {\n",
       "        text-align: right;\n",
       "    }\n",
       "</style>\n",
       "<table border=\"1\" class=\"dataframe\">\n",
       "  <thead>\n",
       "    <tr style=\"text-align: right;\">\n",
       "      <th></th>\n",
       "      <th>id</th>\n",
       "      <th>f0</th>\n",
       "      <th>f1</th>\n",
       "      <th>f2</th>\n",
       "      <th>product</th>\n",
       "    </tr>\n",
       "  </thead>\n",
       "  <tbody>\n",
       "    <tr>\n",
       "      <th>0</th>\n",
       "      <td>fwXo0</td>\n",
       "      <td>-1.146987</td>\n",
       "      <td>0.963328</td>\n",
       "      <td>-0.828965</td>\n",
       "      <td>27.758673</td>\n",
       "    </tr>\n",
       "    <tr>\n",
       "      <th>1</th>\n",
       "      <td>WJtFt</td>\n",
       "      <td>0.262778</td>\n",
       "      <td>0.269839</td>\n",
       "      <td>-2.530187</td>\n",
       "      <td>56.069697</td>\n",
       "    </tr>\n",
       "    <tr>\n",
       "      <th>2</th>\n",
       "      <td>ovLUW</td>\n",
       "      <td>0.194587</td>\n",
       "      <td>0.289035</td>\n",
       "      <td>-5.586433</td>\n",
       "      <td>62.871910</td>\n",
       "    </tr>\n",
       "    <tr>\n",
       "      <th>3</th>\n",
       "      <td>q6cA6</td>\n",
       "      <td>2.236060</td>\n",
       "      <td>-0.553760</td>\n",
       "      <td>0.930038</td>\n",
       "      <td>114.572842</td>\n",
       "    </tr>\n",
       "    <tr>\n",
       "      <th>4</th>\n",
       "      <td>WPMUX</td>\n",
       "      <td>-0.515993</td>\n",
       "      <td>1.716266</td>\n",
       "      <td>5.899011</td>\n",
       "      <td>149.600746</td>\n",
       "    </tr>\n",
       "  </tbody>\n",
       "</table>\n",
       "</div>"
      ],
      "text/plain": [
       "      id        f0        f1        f2     product\n",
       "0  fwXo0 -1.146987  0.963328 -0.828965   27.758673\n",
       "1  WJtFt  0.262778  0.269839 -2.530187   56.069697\n",
       "2  ovLUW  0.194587  0.289035 -5.586433   62.871910\n",
       "3  q6cA6  2.236060 -0.553760  0.930038  114.572842\n",
       "4  WPMUX -0.515993  1.716266  5.899011  149.600746"
      ]
     },
     "metadata": {},
     "output_type": "display_data"
    },
    {
     "name": "stdout",
     "output_type": "stream",
     "text": [
      "<class 'pandas.core.frame.DataFrame'>\n",
      "RangeIndex: 100000 entries, 0 to 99999\n",
      "Data columns (total 5 columns):\n",
      " #   Column   Non-Null Count   Dtype  \n",
      "---  ------   --------------   -----  \n",
      " 0   id       100000 non-null  object \n",
      " 1   f0       100000 non-null  float64\n",
      " 2   f1       100000 non-null  float64\n",
      " 3   f2       100000 non-null  float64\n",
      " 4   product  100000 non-null  float64\n",
      "dtypes: float64(4), object(1)\n",
      "memory usage: 3.8+ MB\n",
      "Количество явных дубикатов = 0\n",
      "\n"
     ]
    }
   ],
   "source": [
    "df_list = [df1, df2, df3] #создадим список\n",
    "count = 1\n",
    "\n",
    "for data_frame in df_list:\n",
    "    print('\\033[1m'+'Информация о данных для региона №', count)\n",
    "    display(data_frame.head()) #первые пять строк\n",
    "    data_frame.info() #общая информация\n",
    "    print('Количество явных дубикатов =', data_frame.duplicated().sum()) #количество явных дубликатов\n",
    "    count+=1\n",
    "    print()"
   ]
  },
  {
   "cell_type": "code",
   "execution_count": 5,
   "metadata": {},
   "outputs": [
    {
     "name": "stdout",
     "output_type": "stream",
     "text": [
      "\u001b[1mГистограммы для данных по региону № 1\n"
     ]
    },
    {
     "data": {
      "image/png": "[encoded data removed]",
      "text/plain": [
       "<Figure size 576x576 with 4 Axes>"
      ]
     },
     "metadata": {
      "needs_background": "light"
     },
     "output_type": "display_data"
    },
    {
     "name": "stdout",
     "output_type": "stream",
     "text": [
      "\u001b[1mГистограммы для данных по региону № 2\n"
     ]
    },
    {
     "data": {
      "image/png": "[encoded data removed]",
      "text/plain": [
       "<Figure size 576x576 with 4 Axes>"
      ]
     },
     "metadata": {
      "needs_background": "light"
     },
     "output_type": "display_data"
    },
    {
     "name": "stdout",
     "output_type": "stream",
     "text": [
      "\u001b[1mГистограммы для данных по региону № 3\n"
     ]
    },
    {
     "data": {
      "image/png": "[encoded data removed]",
      "text/plain": [
       "<Figure size 576x576 with 4 Axes>"
      ]
     },
     "metadata": {
      "needs_background": "light"
     },
     "output_type": "display_data"
    }
   ],
   "source": [
    "#построим гистограммы для данных\n",
    "count = 1\n",
    "for data_fr in df_list:\n",
    "    print('\\033[1m'+'Гистограммы для данных по региону №', count)\n",
    "    data_fr.hist(bins=100, figsize=(8,8))\n",
    "    plt.show()\n",
    "    count += 1"
   ]
  },
  {
   "attachments": {},
   "cell_type": "markdown",
   "metadata": {},
   "source": [
    "<div class=\"alert alert-block alert-success\">\n",
    "<b>Успех:</b> Данные загружены и осмотрены корректно. Радует, что распределения были визуализированы!\n",
    "</div>"
   ]
  },
  {
   "attachments": {},
   "cell_type": "markdown",
   "metadata": {},
   "source": [
    "### Разделение на обучающую и валидационную выборки"
   ]
  },
  {
   "cell_type": "code",
   "execution_count": 6,
   "metadata": {},
   "outputs": [],
   "source": [
    "#признаками будут все столбцы, за исключением'id','product'\n",
    "features_df1 = df1.drop(['id','product'], axis=1) \n",
    "features_df2 = df2.drop(['id','product'], axis=1)\n",
    "features_df3 = df3.drop(['id','product'], axis=1)\n",
    "#столбец 'product' - целевой признак\n",
    "target_df1 = df1['product']\n",
    "target_df2 = df2['product']\n",
    "target_df3 = df3['product']"
   ]
  },
  {
   "cell_type": "code",
   "execution_count": 7,
   "metadata": {},
   "outputs": [],
   "source": [
    "#Разделим датасет в пропорции 25:75\n",
    "features_train_df1, features_valid_df1, target_train_df1, target_valid_df1 = train_test_split(features_df1,\\\n",
    "target_df1, test_size=0.25, random_state=12345)\n",
    "\n",
    "features_train_df2, features_valid_df2, target_train_df2, target_valid_df2 = train_test_split(features_df2,\\\n",
    "target_df2, test_size=0.25, random_state=12345)\n",
    "\n",
    "features_train_df3, features_valid_df3, target_train_df3, target_valid_df3 = train_test_split(features_df3,\\\n",
    "target_df3, test_size=0.25, random_state=12345)"
   ]
  },
  {
   "attachments": {},
   "cell_type": "markdown",
   "metadata": {},
   "source": [
    "Проверим размеры получившихся выборок"
   ]
  },
  {
   "cell_type": "code",
   "execution_count": 8,
   "metadata": {},
   "outputs": [
    {
     "name": "stdout",
     "output_type": "stream",
     "text": [
      "Размер обучающей выборки features_train_df1 (признаки): (75000, 3)\n",
      "Размер обучающей выборки features_train_df2 (признаки): (75000, 3)\n",
      "Размер обучающей выборки features_train_df3 (признаки): (75000, 3)\n",
      "Размер валидационной выборки features_valid_df1 (признаки): (25000, 3)\n",
      "Размер валидационной выборки features_valid_df2 (признаки): (25000, 3)\n",
      "Размер валидационной выборки features_valid_df3 (признаки): (25000, 3)\n",
      "\n",
      "Размер обучающей выборки target_train_df1 (целевые признаки): 75000\n",
      "Размер обучающей выборки target_train_df2 (целевые признаки): 75000\n",
      "Размер обучающей выборки target_train_df3 (целевые признаки): 75000\n",
      "Размер валидационной выборки target_valid_df1 (целевые признаки): 25000\n",
      "Размер валидационной выборки target_valid_df2 (целевые признаки): 25000\n",
      "Размер валидационной выборки target_valid_df3 (целевые признаки): 25000\n"
     ]
    }
   ],
   "source": [
    "#Проверка корректности проведенного разделения\n",
    "print('Размер обучающей выборки features_train_df1 (признаки):',features_train_df1.shape)\n",
    "print('Размер обучающей выборки features_train_df2 (признаки):',features_train_df2.shape)\n",
    "print('Размер обучающей выборки features_train_df3 (признаки):',features_train_df3.shape)\n",
    "print('Размер валидационной выборки features_valid_df1 (признаки):',features_valid_df1.shape)\n",
    "print('Размер валидационной выборки features_valid_df2 (признаки):',features_valid_df2.shape)\n",
    "print('Размер валидационной выборки features_valid_df3 (признаки):',features_valid_df3.shape)\n",
    "print()\n",
    "print('Размер обучающей выборки target_train_df1 (целевые признаки):',target_train_df1.shape[0])\n",
    "print('Размер обучающей выборки target_train_df2 (целевые признаки):',target_train_df2.shape[0])\n",
    "print('Размер обучающей выборки target_train_df3 (целевые признаки):',target_train_df3.shape[0])\n",
    "print('Размер валидационной выборки target_valid_df1 (целевые признаки):',target_valid_df1.shape[0])\n",
    "print('Размер валидационной выборки target_valid_df2 (целевые признаки):',target_valid_df2.shape[0])\n",
    "print('Размер валидационной выборки target_valid_df3 (целевые признаки):',target_valid_df3.shape[0])"
   ]
  },
  {
   "attachments": {},
   "cell_type": "markdown",
   "metadata": {},
   "source": [
    "### Нормализация и масштабирование данных"
   ]
  },
  {
   "attachments": {},
   "cell_type": "markdown",
   "metadata": {},
   "source": [
    "Регион №3 имеет нормальное распределение признаков, распределение признаков для регионов №1 и №2 отличается от нормального. Таким образом, для масштабирования данных в регионе №3 используем StandardScaler, а для нормализации данных в регионах №1 и №2 используем MinMaxScaler"
   ]
  },
  {
   "cell_type": "code",
   "execution_count": 9,
   "metadata": {},
   "outputs": [],
   "source": [
    "numeric_columns = ['f0', 'f1', 'f2']\n",
    "#создадим  MinMaxScaler скалер и обучим его на обучающей выборке\n",
    "scaler = MinMaxScaler()\n",
    "\n",
    "#преобразуем выборки\n",
    "scaler.fit(features_train_df1[numeric_columns]) \n",
    "features_train_df1[numeric_columns] = scaler.transform(features_train_df1[numeric_columns])\n",
    "features_valid_df1[numeric_columns] = scaler.transform(features_valid_df1[numeric_columns])\n",
    "\n",
    "scaler.fit(features_train_df2[numeric_columns]) \n",
    "features_train_df2[numeric_columns] = scaler.transform(features_train_df2[numeric_columns])\n",
    "features_valid_df2[numeric_columns] = scaler.transform(features_valid_df2[numeric_columns])"
   ]
  },
  {
   "cell_type": "code",
   "execution_count": 10,
   "metadata": {},
   "outputs": [],
   "source": [
    "#создадим StandardScaler скалер и обучим его на обучающей выборке\n",
    "scaler = StandardScaler()\n",
    "scaler.fit(features_train_df3[numeric_columns]) \n",
    "\n",
    "#преобразуем выборки\n",
    "scaler.fit(features_train_df3[numeric_columns]) \n",
    "features_train_df3[numeric_columns] = scaler.transform(features_train_df3[numeric_columns])\n",
    "features_valid_df3[numeric_columns] = scaler.transform(features_valid_df3[numeric_columns])"
   ]
  },
  {
   "attachments": {},
   "cell_type": "markdown",
   "metadata": {},
   "source": [
    "### Вывод по разделу 1"
   ]
  },
  {
   "attachments": {},
   "cell_type": "markdown",
   "metadata": {},
   "source": [
    "В разделе 1 было выполнено:\n",
    "\n",
    "- подключены необходходимые для дальнейшей работы библиотеки, модули, метрики;\n",
    "- ознакомиление с данными;\n",
    "- данные разделены на обучающую, валидационную;\n",
    "- выполнено масштабирование и нормализация данных с использованием StandardScaler для региона 3 и MinMaxScaler для регионов 1 и 2\n",
    "\n",
    "Размер, получившихся выборок для всех регионов составил:\n",
    "\n",
    "размер features_train = (75000, 3),\n",
    "\n",
    "размер features_valid = (25000, 3)"
   ]
  },
  {
   "attachments": {},
   "cell_type": "markdown",
   "metadata": {},
   "source": [
    "<div class=\"alert alert-block alert-success\">\n",
    "<b>Успех:</b> Отлично, что scaler-ы были обучены только на треине!\n",
    "</div>"
   ]
  },
  {
   "attachments": {},
   "cell_type": "markdown",
   "metadata": {},
   "source": [
    "## Обучение и проверка модели"
   ]
  },
  {
   "attachments": {},
   "cell_type": "markdown",
   "metadata": {},
   "source": [
    "В целях сокращения кода создадим функцию lr_rmse, которая на вход получает выборки из раздела 1 и возвращает предсказания модели по запасам нефти (целевого признака), выводит средний запас нефти для региона, RMSE для региона  "
   ]
  },
  {
   "cell_type": "code",
   "execution_count": 11,
   "metadata": {},
   "outputs": [],
   "source": [
    "def lr_rmse(features_train, target_train, features_valid, target_valid):\n",
    "    model = LinearRegression(n_jobs=-1)\n",
    "    model.fit(features_train, target_train)\n",
    "    predicted = model.predict(features_valid)\n",
    "    rmse = (mean_squared_error(target_valid, predicted))**0.5\n",
    "    print('Cредний предсказанный запас нефти для региона =', predicted.mean().round(2), 'тыс. бар.')\n",
    "    print('RMSE для данного региона =', rmse.round(2))\n",
    "    return predicted"
   ]
  },
  {
   "attachments": {},
   "cell_type": "markdown",
   "metadata": {},
   "source": [
    "### Регион №1"
   ]
  },
  {
   "cell_type": "code",
   "execution_count": 12,
   "metadata": {},
   "outputs": [
    {
     "name": "stdout",
     "output_type": "stream",
     "text": [
      "Cредний предсказанный запас нефти для региона = 92.59 тыс. бар.\n",
      "RMSE для данного региона = 37.58\n"
     ]
    }
   ],
   "source": [
    "predicted_valid_df1  = lr_rmse(features_train_df1, target_train_df1, features_valid_df1, target_valid_df1)"
   ]
  },
  {
   "attachments": {},
   "cell_type": "markdown",
   "metadata": {},
   "source": [
    "### Регион №2"
   ]
  },
  {
   "cell_type": "code",
   "execution_count": 13,
   "metadata": {},
   "outputs": [
    {
     "name": "stdout",
     "output_type": "stream",
     "text": [
      "Cредний предсказанный запас нефти для региона = 68.73 тыс. бар.\n",
      "RMSE для данного региона = 0.89\n"
     ]
    }
   ],
   "source": [
    "predicted_valid_df2  = lr_rmse(features_train_df2, target_train_df2, features_valid_df2, target_valid_df2)"
   ]
  },
  {
   "attachments": {},
   "cell_type": "markdown",
   "metadata": {},
   "source": [
    "### Регион №3"
   ]
  },
  {
   "cell_type": "code",
   "execution_count": 14,
   "metadata": {},
   "outputs": [
    {
     "name": "stdout",
     "output_type": "stream",
     "text": [
      "Cредний предсказанный запас нефти для региона = 94.97 тыс. бар.\n",
      "RMSE для данного региона = 40.03\n"
     ]
    }
   ],
   "source": [
    "predicted_valid_df3  = lr_rmse(features_train_df3, target_train_df3, features_valid_df3, target_valid_df3)"
   ]
  },
  {
   "attachments": {},
   "cell_type": "markdown",
   "metadata": {},
   "source": [
    "### Вывод по разделу 2"
   ]
  },
  {
   "attachments": {},
   "cell_type": "markdown",
   "metadata": {},
   "source": [
    "В разделе 2 с помощью модели LinearRegression было установлено следующее:\n",
    "- Cредний предсказанный запас нефти для региона № 1 = 92.59 тыс. бар. RMSE для данного региона = 37.58\n",
    "- Cредний предсказанный запас нефти для региона №2 = 68.73 тыс. бар. RMSE для данного региона = 0.89\n",
    "- Cредний предсказанный запас нефти для региона №3 = 94.97 тыс. бар. RMSE для данного региона = 40.03"
   ]
  },
  {
   "attachments": {},
   "cell_type": "markdown",
   "metadata": {},
   "source": [
    "<div class=\"alert alert-block alert-success\">\n",
    "<b>Успех:</b> Модели обучены корректно. Радует, что ты активно используешь функции. Это помогает избежать дублирования кода, а значит уменьшает вероятность совершить ошибку/опечатку!\n",
    "</div>"
   ]
  },
  {
   "attachments": {},
   "cell_type": "markdown",
   "metadata": {},
   "source": [
    "## Подготовка к расчёту прибыли"
   ]
  },
  {
   "attachments": {},
   "cell_type": "markdown",
   "metadata": {},
   "source": [
    "Объявим глобальные переменные, которые будут использоваться в дальнейших вычислениях"
   ]
  },
  {
   "cell_type": "code",
   "execution_count": 15,
   "metadata": {},
   "outputs": [],
   "source": [
    "RESEARCH_POINT = 500 #Количество точек для исследования\n",
    "BEST_POINTS = 200 #Количество лучших точек для исследования\n",
    "BUDGET = 10*10**9 #Бюджет на разработку скважин в регионе в рублях\n",
    "PRICE_BARREL = 450000 #Доход с единицы продукции в рублях (тыс. бар.)\n",
    "N_SELECTION = 1000 #Количество выборок для Bootstrap\n",
    "INTERVAL = 0.95 #Доверительный интервал"
   ]
  },
  {
   "attachments": {},
   "cell_type": "markdown",
   "metadata": {},
   "source": [
    "<div class=\"alert alert-block alert-success\">\n",
    "<b>Успех:</b> Радует, что в названиях константных переменных использовались только большие буквы!\n",
    "</div>"
   ]
  },
  {
   "cell_type": "code",
   "execution_count": 16,
   "metadata": {},
   "outputs": [
    {
     "name": "stdout",
     "output_type": "stream",
     "text": [
      "Стоимость бурения одной скважины = 50000000.0 руб.\n"
     ]
    }
   ],
   "source": [
    "#Стоимость строительства одной скважины\n",
    "print('Стоимость бурения одной скважины =', BUDGET/BEST_POINTS, 'руб.')"
   ]
  },
  {
   "cell_type": "code",
   "execution_count": 17,
   "metadata": {},
   "outputs": [
    {
     "name": "stdout",
     "output_type": "stream",
     "text": [
      "Минимальный объём нефти для покрытия стоимости строительства скважины = 111.11111111111111 тыс. бар.\n"
     ]
    }
   ],
   "source": [
    "#Минимальный объём нефти в скважине, нобходимый для покрытия стоимости её строительства\n",
    "print('Минимальный объём нефти для покрытия стоимости строительства скважины =',\\\n",
    "      (BUDGET/BEST_POINTS)/PRICE_BARREL, 'тыс. бар.')"
   ]
  },
  {
   "attachments": {},
   "cell_type": "markdown",
   "metadata": {},
   "source": [
    "Создадим функцию, которая принимает на входе предсказанные моделью запасы нефти в скважинах и их истинные значения (predictions и target), функция должна осуществить сортировку predictions по убыванию и выбрать 200 (BEST_POINTS) скважин с наибольшим предсказанным запасом нефти. По индексу выбранных в predictions скважин необходимо найти соответствующие им значения целевого признака в target. Функция возвращает прибыль (или убыток) от выбранных в target скважин, которая расчитывается следующим образом: цена единицы объёма (PRICE_BARREL, в рублях за тыс.баррель) * суммарный объём запасов нефти с выбранных в target скважин (тыс. баррелей) - бюджет на создание скважин (BUDGET в рублях) = прибыль(убыток) в рублях."
   ]
  },
  {
   "cell_type": "code",
   "execution_count": 18,
   "metadata": {},
   "outputs": [],
   "source": [
    "#Поскольку индексы в валидационных выборках перемешаны, то их необходимо сбросить для установления соответствия с predicted\n",
    "target_valid_df1.reset_index(drop=True, inplace=True)\n",
    "target_valid_df2.reset_index(drop=True, inplace=True)\n",
    "target_valid_df3.reset_index(drop=True, inplace=True)\n",
    "\n",
    "#Предсказания модели являются массивом numpy.ndarray. \n",
    "#Для установления соответствия по индексу между ними и target сделаем из них pd.Series\n",
    "predicted_valid_df1 = pd.Series(predicted_valid_df1)\n",
    "predicted_valid_df2 = pd.Series(predicted_valid_df2)\n",
    "predicted_valid_df3 = pd.Series(predicted_valid_df3)"
   ]
  },
  {
   "cell_type": "code",
   "execution_count": 19,
   "metadata": {},
   "outputs": [],
   "source": [
    "def profit(target, predictions, count):\n",
    "    revenue_target_sum = target[predictions.sort_values(ascending=False).index][:count].sum()\n",
    "    return PRICE_BARREL*revenue_target_sum - BUDGET #Прибыль(убыток) в рублях от count скважин"
   ]
  },
  {
   "attachments": {},
   "cell_type": "markdown",
   "metadata": {},
   "source": [
    "### Вывод по разделу 3"
   ]
  },
  {
   "attachments": {},
   "cell_type": "markdown",
   "metadata": {},
   "source": [
    "В разделе 3 были объявлены глобальные переменные, подготовлена функция для расчёта прибыли(убытка). \n",
    "\n",
    "В разделе 3 было установлено:\n",
    "- Стоимость бурения одной скважины = 50000000.00 руб.\n",
    "- Минимальный объём нефти для покрытия стоимости строительства скважины = 111.11 тыс. бар."
   ]
  },
  {
   "attachments": {},
   "cell_type": "markdown",
   "metadata": {},
   "source": [
    "## Расчёт прибыли и рисков "
   ]
  },
  {
   "attachments": {},
   "cell_type": "markdown",
   "metadata": {},
   "source": [
    "Напишем функцию и выполним процедуру Bootstrap для трёх регионов"
   ]
  },
  {
   "cell_type": "code",
   "execution_count": 20,
   "metadata": {},
   "outputs": [],
   "source": [
    "def bootstrap(target, predictions): #Создадим функцию для бутстрепа\n",
    "    values = []\n",
    "    loss =0 #Число убыточных экспериментов\n",
    "    state = np.random.RandomState(12345)\n",
    "    for i in range(N_SELECTION): #Количество повторений бутстрепа\n",
    "        #создадим случайную выборку из target с заданным количеством точек для исследования       \n",
    "        target_subsample = target.sample(n=RESEARCH_POINT, replace=True, random_state=state)\n",
    "        #Создадим выборку из элементов predictions по индексам элементов target из выборки target_subsample  \n",
    "        predict_subsample = predictions[target_subsample.index] \n",
    "        #Расчитаем значение прибыли(убытка) функцией revenue по target_subsample и predict_subsample для BEST_POINTS скважин\n",
    "        values_item = profit(target_subsample, predict_subsample, BEST_POINTS)/10**6\n",
    "        values.append(values_item)  \n",
    "        if values_item < 0:\n",
    "            loss +=1 \n",
    "    \n",
    "    values = pd.Series(values) #Для расчета среднего преобразуем список в Series\n",
    "    lower = values.quantile((1-INTERVAL)/2).round(2) #0.025% квантиль\n",
    "    upper = values.quantile(1-(1-INTERVAL)/2).round(2) #0.975% квантиль\n",
    "    \n",
    "    print('Средняя прибыль =', values.mean().round(2), 'млн. руб.')\n",
    "    print('Доверительный интервал в {} % составляет от {} до {} млн.руб.'.format(INTERVAL*100, lower, upper))\n",
    "    print('Риск убытков =', loss/N_SELECTION*100, '%')\n",
    "    return "
   ]
  },
  {
   "attachments": {},
   "cell_type": "markdown",
   "metadata": {},
   "source": [
    "Применим процедуру бутстрепа для трёх регионов:"
   ]
  },
  {
   "cell_type": "code",
   "execution_count": 21,
   "metadata": {},
   "outputs": [
    {
     "name": "stdout",
     "output_type": "stream",
     "text": [
      "Средняя прибыль = 425.94 млн. руб.\n",
      "Доверительный интервал в 95.0 % составляет от -102.09 до 947.98 млн.руб.\n",
      "Риск убытков = 6.0 %\n"
     ]
    }
   ],
   "source": [
    "bootstrap(target_valid_df1, predicted_valid_df1)"
   ]
  },
  {
   "cell_type": "code",
   "execution_count": 22,
   "metadata": {},
   "outputs": [
    {
     "name": "stdout",
     "output_type": "stream",
     "text": [
      "Средняя прибыль = 515.22 млн. руб.\n",
      "Доверительный интервал в 95.0 % составляет от 68.87 до 931.55 млн.руб.\n",
      "Риск убытков = 1.0 %\n"
     ]
    }
   ],
   "source": [
    "bootstrap(target_valid_df2, predicted_valid_df2)"
   ]
  },
  {
   "cell_type": "code",
   "execution_count": 23,
   "metadata": {},
   "outputs": [
    {
     "name": "stdout",
     "output_type": "stream",
     "text": [
      "Средняя прибыль = 435.01 млн. руб.\n",
      "Доверительный интервал в 95.0 % составляет от -128.88 до 969.71 млн.руб.\n",
      "Риск убытков = 6.4 %\n"
     ]
    }
   ],
   "source": [
    "bootstrap(target_valid_df3, predicted_valid_df3)"
   ]
  },
  {
   "attachments": {},
   "cell_type": "markdown",
   "metadata": {},
   "source": [
    "### Вывод по разделу 4"
   ]
  },
  {
   "attachments": {},
   "cell_type": "markdown",
   "metadata": {},
   "source": [
    "В разделе 4 проведена процедура Bootstrap для трёх регионов. Установлено следующее:\n",
    "\n",
    "**Для региона №1**\n",
    "\n",
    "Средняя прибыль = 425.94 млн.руб. Доверительный интервал в 95.0 % составляет от -102.09 до 947.98 млн.руб. Риск убытков = 6.0 %\n",
    "\n",
    "**Для региона №2**\n",
    "\n",
    "Средняя прибыль = 515.22 млн.руб. Доверительный интервал в 95.0 % составляет от 68.87 до 931.55 млн.руб. Риск убытков = 1.0 %\n",
    "\n",
    "**Для региона №3**\n",
    "\n",
    "Средняя прибыль = 435.01 млн.руб. Доверительный интервал в 95.0 % составляет от -128.88 до 969.71 млн.руб. Риск убытков = 6.4 %\n",
    "\n",
    "Риски для региона № 2 составляют 1% (для других регионов риск выше 2,5%).\n",
    "Средняя прибыль для региона №2 выше средней прибыли в регионах №1 и №3. Таким образом, регион №2 является наиболее перспективным для разработки месторождения"
   ]
  },
  {
   "attachments": {},
   "cell_type": "markdown",
   "metadata": {},
   "source": [
    "## Общий вывод"
   ]
  },
  {
   "attachments": {},
   "cell_type": "markdown",
   "metadata": {},
   "source": [
    "Для задачи выбора наиболее перспективного регион для бурения скважины было проведено следующее: \n",
    "\n",
    "Проведено ознакомление с данными.\n",
    "\n",
    "Проведено разделение исходных данных на обучающую и валидационную выборки выборки.\n",
    "\n",
    "Проведено масштабирование и нормализация данных с использованием StandardScaler для региона 3 и MinMaxScaler для регионов 1 и 2\n",
    "\n",
    "С помощью модели LinearRegression было установлено следующее:\n",
    "\n",
    "Cредний предсказанный запас нефти для региона № 1 = 92.59 тыс. бар. RMSE для данного региона = 37.58\n",
    "\n",
    "Cредний предсказанный запас нефти для региона №2 = 68.73 тыс. бар. RMSE для данного региона = 0.89\n",
    "\n",
    "Cредний предсказанный запас нефти для региона №3 = 94.97 тыс. бар. RMSE для данного региона = 40.03\n",
    "\n",
    "Минимальный объём нефти для покрытия стоимости строительства скважины = 111.11 тыс. бар.\n",
    "\n",
    "С помощью процедуры Bootstrap установлено:\n",
    "\n",
    "**Для региона №1**\n",
    "\n",
    "Средняя прибыль = 425.94 млн.руб. Доверительный интервал в 95.0 % составляет от -102.09 до 947.98 млн.руб. Риск убытков = 6.0 %\n",
    "\n",
    "**Для региона №2**\n",
    "\n",
    "Средняя прибыль = 515.22 млн.руб. Доверительный интервал в 95.0 % составляет от 68.87 до 931.55 млн.руб. Риск убытков = 1.0 %\n",
    "\n",
    "**Для региона №3**\n",
    "\n",
    "Средняя прибыль = 435.01 млн.руб. Доверительный интервал в 95.0 % составляет от -128.88 до 969.71 млн.руб. Риск убытков = 6.4 %\n",
    "\n",
    "**Риски для региона № 2 составляют 1% (для других регионов риск выше 2,5%). Средняя прибыль для региона №2 выше средней прибыли в регионах №1 и №3. Таким образом, регион №2 является наиболее перспективным для разработки месторождения**\n",
    "\n"
   ]
  }
 ],
 "metadata": {
  "ExecuteTimeLog": [
   {
    "duration": 1668,
    "start_time": "2022-12-22T08:35:14.039Z"
   },
   {
    "duration": 382,
    "start_time": "2022-12-22T08:35:16.736Z"
   },
   {
    "duration": 205,
    "start_time": "2022-12-22T08:35:20.977Z"
   },
   {
    "duration": 194,
    "start_time": "2022-12-22T08:35:21.731Z"
   },
   {
    "duration": 5,
    "start_time": "2022-12-22T08:35:32.567Z"
   },
   {
    "duration": 15,
    "start_time": "2022-12-22T08:36:01.505Z"
   },
   {
    "duration": 9,
    "start_time": "2022-12-22T08:36:11.689Z"
   },
   {
    "duration": 142,
    "start_time": "2022-12-22T08:36:21.284Z"
   },
   {
    "duration": 135,
    "start_time": "2022-12-22T08:36:21.648Z"
   },
   {
    "duration": 138,
    "start_time": "2022-12-22T08:36:22.041Z"
   },
   {
    "duration": 10,
    "start_time": "2022-12-22T08:36:22.673Z"
   },
   {
    "duration": 11,
    "start_time": "2022-12-22T08:36:23.384Z"
   },
   {
    "duration": 10,
    "start_time": "2022-12-22T08:36:33.201Z"
   },
   {
    "duration": 10,
    "start_time": "2022-12-22T08:37:05.344Z"
   },
   {
    "duration": 16,
    "start_time": "2022-12-22T08:37:09.865Z"
   },
   {
    "duration": 15,
    "start_time": "2022-12-22T08:42:31.696Z"
   },
   {
    "duration": 15,
    "start_time": "2022-12-22T08:42:41.622Z"
   },
   {
    "duration": 504,
    "start_time": "2022-12-22T08:50:08.699Z"
   },
   {
    "duration": 45,
    "start_time": "2022-12-22T08:51:53.672Z"
   },
   {
    "duration": 791,
    "start_time": "2022-12-22T08:54:20.727Z"
   },
   {
    "duration": 1012,
    "start_time": "2022-12-22T08:54:29.796Z"
   },
   {
    "duration": 3861,
    "start_time": "2022-12-22T08:55:01.737Z"
   },
   {
    "duration": 163,
    "start_time": "2022-12-22T08:56:00.244Z"
   },
   {
    "duration": 1082,
    "start_time": "2022-12-22T08:56:09.046Z"
   },
   {
    "duration": 13,
    "start_time": "2022-12-22T09:10:02.395Z"
   },
   {
    "duration": 3,
    "start_time": "2022-12-22T09:10:12.748Z"
   },
   {
    "duration": 16,
    "start_time": "2022-12-22T09:10:13.541Z"
   },
   {
    "duration": 24,
    "start_time": "2022-12-22T09:11:12.324Z"
   },
   {
    "duration": 3,
    "start_time": "2022-12-22T09:12:44.104Z"
   },
   {
    "duration": 3,
    "start_time": "2022-12-22T09:12:47.394Z"
   },
   {
    "duration": 9,
    "start_time": "2022-12-22T09:19:58.933Z"
   },
   {
    "duration": 37,
    "start_time": "2022-12-22T09:20:14.630Z"
   },
   {
    "duration": 38,
    "start_time": "2022-12-22T09:20:30.844Z"
   },
   {
    "duration": 39,
    "start_time": "2022-12-22T09:25:51.418Z"
   },
   {
    "duration": 4,
    "start_time": "2022-12-22T09:26:32.293Z"
   },
   {
    "duration": 21,
    "start_time": "2022-12-22T09:26:49.082Z"
   },
   {
    "duration": 16,
    "start_time": "2022-12-22T09:27:14.750Z"
   },
   {
    "duration": 49,
    "start_time": "2022-12-22T09:33:49.217Z"
   },
   {
    "duration": 332,
    "start_time": "2022-12-22T09:34:42.215Z"
   },
   {
    "duration": 3,
    "start_time": "2022-12-22T09:34:43.219Z"
   },
   {
    "duration": 36,
    "start_time": "2022-12-22T09:34:44.140Z"
   },
   {
    "duration": 13,
    "start_time": "2022-12-22T09:34:56.038Z"
   },
   {
    "duration": 11,
    "start_time": "2022-12-22T09:35:15.420Z"
   },
   {
    "duration": 24,
    "start_time": "2022-12-22T09:35:25.891Z"
   },
   {
    "duration": 56,
    "start_time": "2022-12-22T09:35:51.624Z"
   },
   {
    "duration": 772,
    "start_time": "2022-12-22T09:36:08.337Z"
   },
   {
    "duration": 1058,
    "start_time": "2022-12-22T09:36:17.712Z"
   },
   {
    "duration": 2885,
    "start_time": "2022-12-22T09:36:53.151Z"
   },
   {
    "duration": 2929,
    "start_time": "2022-12-22T09:37:31.460Z"
   },
   {
    "duration": 54,
    "start_time": "2022-12-22T09:37:52.881Z"
   },
   {
    "duration": 1188,
    "start_time": "2022-12-22T09:40:12.577Z"
   },
   {
    "duration": 885,
    "start_time": "2022-12-22T09:42:57.347Z"
   },
   {
    "duration": 3158,
    "start_time": "2022-12-22T09:43:11.803Z"
   },
   {
    "duration": 3596,
    "start_time": "2022-12-22T09:43:52.416Z"
   },
   {
    "duration": 56,
    "start_time": "2022-12-22T09:44:22.309Z"
   },
   {
    "duration": 3014,
    "start_time": "2022-12-22T09:45:20.687Z"
   },
   {
    "duration": 3203,
    "start_time": "2022-12-22T09:46:47.145Z"
   },
   {
    "duration": 950,
    "start_time": "2022-12-22T09:47:41.274Z"
   },
   {
    "duration": 1088,
    "start_time": "2022-12-22T09:48:21.647Z"
   },
   {
    "duration": 890,
    "start_time": "2022-12-22T09:49:16.618Z"
   },
   {
    "duration": 3526,
    "start_time": "2022-12-22T09:49:25.677Z"
   },
   {
    "duration": 61,
    "start_time": "2022-12-22T09:50:55.165Z"
   },
   {
    "duration": 58,
    "start_time": "2022-12-22T10:04:41.201Z"
   },
   {
    "duration": 63,
    "start_time": "2022-12-22T10:15:01.820Z"
   },
   {
    "duration": 55,
    "start_time": "2022-12-22T10:15:49.923Z"
   },
   {
    "duration": 3232,
    "start_time": "2022-12-22T10:16:55.966Z"
   },
   {
    "duration": 2774,
    "start_time": "2022-12-22T10:17:03.119Z"
   },
   {
    "duration": 3073,
    "start_time": "2022-12-22T10:17:28.602Z"
   },
   {
    "duration": 3087,
    "start_time": "2022-12-22T10:18:05.101Z"
   },
   {
    "duration": 44,
    "start_time": "2022-12-22T10:19:53.511Z"
   },
   {
    "duration": 2941,
    "start_time": "2022-12-22T10:20:04.690Z"
   },
   {
    "duration": 177,
    "start_time": "2022-12-22T10:24:18.325Z"
   },
   {
    "duration": 204,
    "start_time": "2022-12-22T10:24:35.332Z"
   },
   {
    "duration": 197,
    "start_time": "2022-12-22T10:25:01.704Z"
   },
   {
    "duration": 178,
    "start_time": "2022-12-22T10:25:15.171Z"
   },
   {
    "duration": 7,
    "start_time": "2022-12-22T11:46:11.903Z"
   },
   {
    "duration": 12,
    "start_time": "2022-12-22T12:08:08.818Z"
   },
   {
    "duration": 12,
    "start_time": "2022-12-22T12:08:28.154Z"
   },
   {
    "duration": 26,
    "start_time": "2022-12-22T12:08:31.889Z"
   },
   {
    "duration": 5,
    "start_time": "2022-12-22T12:11:41.844Z"
   },
   {
    "duration": 9,
    "start_time": "2022-12-22T12:14:10.851Z"
   },
   {
    "duration": 8,
    "start_time": "2022-12-22T12:15:42.360Z"
   },
   {
    "duration": 10,
    "start_time": "2022-12-22T12:17:12.419Z"
   },
   {
    "duration": 7,
    "start_time": "2022-12-22T12:23:03.521Z"
   },
   {
    "duration": 11,
    "start_time": "2022-12-22T12:29:51.906Z"
   },
   {
    "duration": 29,
    "start_time": "2022-12-22T12:30:40.034Z"
   },
   {
    "duration": 3,
    "start_time": "2022-12-22T12:32:42.573Z"
   },
   {
    "duration": 36,
    "start_time": "2022-12-22T12:32:48.219Z"
   },
   {
    "duration": 873,
    "start_time": "2022-12-22T12:39:05.917Z"
   },
   {
    "duration": 7,
    "start_time": "2022-12-22T12:40:28.557Z"
   },
   {
    "duration": 57,
    "start_time": "2022-12-22T12:40:40.898Z"
   },
   {
    "duration": 87,
    "start_time": "2022-12-22T12:41:03.061Z"
   },
   {
    "duration": 5,
    "start_time": "2022-12-22T12:42:59.832Z"
   },
   {
    "duration": 3,
    "start_time": "2022-12-22T12:45:40.037Z"
   },
   {
    "duration": 5,
    "start_time": "2022-12-22T12:50:26.987Z"
   },
   {
    "duration": 1430,
    "start_time": "2022-12-22T15:23:29.173Z"
   },
   {
    "duration": 3,
    "start_time": "2022-12-22T15:23:30.605Z"
   },
   {
    "duration": 425,
    "start_time": "2022-12-22T15:23:30.609Z"
   },
   {
    "duration": 241,
    "start_time": "2022-12-22T15:23:31.036Z"
   },
   {
    "duration": 3202,
    "start_time": "2022-12-22T15:23:31.280Z"
   },
   {
    "duration": 9,
    "start_time": "2022-12-22T15:23:34.484Z"
   },
   {
    "duration": 50,
    "start_time": "2022-12-22T15:23:34.495Z"
   },
   {
    "duration": 9,
    "start_time": "2022-12-22T15:23:34.546Z"
   },
   {
    "duration": 32,
    "start_time": "2022-12-22T15:23:34.556Z"
   },
   {
    "duration": 23,
    "start_time": "2022-12-22T15:23:34.590Z"
   },
   {
    "duration": 130,
    "start_time": "2022-12-22T15:23:34.615Z"
   },
   {
    "duration": 23,
    "start_time": "2022-12-22T15:31:10.609Z"
   },
   {
    "duration": 213,
    "start_time": "2022-12-22T15:31:24.400Z"
   },
   {
    "duration": 12,
    "start_time": "2022-12-22T15:38:12.769Z"
   },
   {
    "duration": 26,
    "start_time": "2022-12-22T15:38:30.039Z"
   },
   {
    "duration": 8,
    "start_time": "2022-12-22T15:51:02.840Z"
   },
   {
    "duration": 121,
    "start_time": "2022-12-22T15:51:06.512Z"
   },
   {
    "duration": 5,
    "start_time": "2022-12-22T15:51:07.406Z"
   },
   {
    "duration": 47,
    "start_time": "2022-12-22T15:51:12.510Z"
   },
   {
    "duration": 6,
    "start_time": "2022-12-22T15:51:13.068Z"
   },
   {
    "duration": 14,
    "start_time": "2022-12-22T15:58:51.570Z"
   },
   {
    "duration": 19,
    "start_time": "2022-12-22T16:07:10.383Z"
   },
   {
    "duration": 5,
    "start_time": "2022-12-22T16:07:26.840Z"
   },
   {
    "duration": 83,
    "start_time": "2022-12-22T16:08:17.436Z"
   },
   {
    "duration": 18,
    "start_time": "2022-12-22T16:08:18.251Z"
   },
   {
    "duration": 22,
    "start_time": "2022-12-22T16:09:24.441Z"
   },
   {
    "duration": 78,
    "start_time": "2022-12-23T06:50:14.895Z"
   },
   {
    "duration": 4,
    "start_time": "2022-12-23T06:50:26.265Z"
   },
   {
    "duration": 46,
    "start_time": "2022-12-23T06:50:27.535Z"
   },
   {
    "duration": 9,
    "start_time": "2022-12-23T06:50:47.834Z"
   },
   {
    "duration": 1512,
    "start_time": "2022-12-23T06:50:54.397Z"
   },
   {
    "duration": 3,
    "start_time": "2022-12-23T06:50:55.911Z"
   },
   {
    "duration": 1617,
    "start_time": "2022-12-23T06:50:55.916Z"
   },
   {
    "duration": 206,
    "start_time": "2022-12-23T06:50:57.535Z"
   },
   {
    "duration": 3185,
    "start_time": "2022-12-23T06:50:57.751Z"
   },
   {
    "duration": 14,
    "start_time": "2022-12-23T06:51:00.937Z"
   },
   {
    "duration": 63,
    "start_time": "2022-12-23T06:51:00.953Z"
   },
   {
    "duration": 21,
    "start_time": "2022-12-23T06:51:01.018Z"
   },
   {
    "duration": 93,
    "start_time": "2022-12-23T06:51:01.040Z"
   },
   {
    "duration": 38,
    "start_time": "2022-12-23T06:51:01.136Z"
   },
   {
    "duration": 10,
    "start_time": "2022-12-23T06:51:01.176Z"
   },
   {
    "duration": 401,
    "start_time": "2022-12-23T06:51:01.188Z"
   },
   {
    "duration": 0,
    "start_time": "2022-12-23T06:51:01.590Z"
   },
   {
    "duration": 0,
    "start_time": "2022-12-23T06:51:01.592Z"
   },
   {
    "duration": 0,
    "start_time": "2022-12-23T06:51:01.594Z"
   },
   {
    "duration": 4,
    "start_time": "2022-12-23T06:51:52.875Z"
   },
   {
    "duration": 14,
    "start_time": "2022-12-23T06:51:53.952Z"
   },
   {
    "duration": 4,
    "start_time": "2022-12-23T06:52:05.217Z"
   },
   {
    "duration": 20,
    "start_time": "2022-12-23T06:52:05.734Z"
   },
   {
    "duration": 4,
    "start_time": "2022-12-23T06:57:09.502Z"
   },
   {
    "duration": 17,
    "start_time": "2022-12-23T06:57:11.339Z"
   },
   {
    "duration": 14,
    "start_time": "2022-12-23T06:58:12.243Z"
   },
   {
    "duration": 15,
    "start_time": "2022-12-23T06:58:34.998Z"
   },
   {
    "duration": 16,
    "start_time": "2022-12-23T06:58:56.603Z"
   },
   {
    "duration": 16,
    "start_time": "2022-12-23T06:58:57.376Z"
   },
   {
    "duration": 17,
    "start_time": "2022-12-23T06:58:58.243Z"
   },
   {
    "duration": 4,
    "start_time": "2022-12-23T07:01:27.762Z"
   },
   {
    "duration": 20,
    "start_time": "2022-12-23T07:01:30.846Z"
   },
   {
    "duration": 14,
    "start_time": "2022-12-23T07:01:31.590Z"
   },
   {
    "duration": 13,
    "start_time": "2022-12-23T07:01:32.435Z"
   },
   {
    "duration": 5,
    "start_time": "2022-12-23T07:01:41.870Z"
   },
   {
    "duration": 13,
    "start_time": "2022-12-23T07:01:42.535Z"
   },
   {
    "duration": 14,
    "start_time": "2022-12-23T07:01:43.446Z"
   },
   {
    "duration": 14,
    "start_time": "2022-12-23T07:01:44.054Z"
   },
   {
    "duration": 1750,
    "start_time": "2022-12-23T07:04:59.522Z"
   },
   {
    "duration": 3,
    "start_time": "2022-12-23T07:05:01.275Z"
   },
   {
    "duration": 427,
    "start_time": "2022-12-23T07:05:01.279Z"
   },
   {
    "duration": 266,
    "start_time": "2022-12-23T07:05:01.708Z"
   },
   {
    "duration": 3168,
    "start_time": "2022-12-23T07:05:01.976Z"
   },
   {
    "duration": 14,
    "start_time": "2022-12-23T07:05:05.146Z"
   },
   {
    "duration": 100,
    "start_time": "2022-12-23T07:05:05.162Z"
   },
   {
    "duration": 41,
    "start_time": "2022-12-23T07:05:05.264Z"
   },
   {
    "duration": 100,
    "start_time": "2022-12-23T07:05:05.307Z"
   },
   {
    "duration": 90,
    "start_time": "2022-12-23T07:05:05.409Z"
   },
   {
    "duration": 43,
    "start_time": "2022-12-23T07:05:05.501Z"
   },
   {
    "duration": 58,
    "start_time": "2022-12-23T07:05:05.546Z"
   },
   {
    "duration": 176,
    "start_time": "2022-12-23T07:05:05.609Z"
   },
   {
    "duration": 190,
    "start_time": "2022-12-23T07:05:05.787Z"
   },
   {
    "duration": 201,
    "start_time": "2022-12-23T07:05:57.688Z"
   },
   {
    "duration": 26,
    "start_time": "2022-12-23T07:10:46.539Z"
   },
   {
    "duration": 25,
    "start_time": "2022-12-23T07:11:14.513Z"
   },
   {
    "duration": 21,
    "start_time": "2022-12-23T07:11:15.113Z"
   },
   {
    "duration": 4,
    "start_time": "2022-12-23T07:11:17.274Z"
   },
   {
    "duration": 15,
    "start_time": "2022-12-23T07:11:17.904Z"
   },
   {
    "duration": 14,
    "start_time": "2022-12-23T07:11:18.512Z"
   },
   {
    "duration": 17,
    "start_time": "2022-12-23T07:11:19.168Z"
   },
   {
    "duration": 1482,
    "start_time": "2022-12-23T07:17:36.048Z"
   },
   {
    "duration": 3,
    "start_time": "2022-12-23T07:17:37.532Z"
   },
   {
    "duration": 405,
    "start_time": "2022-12-23T07:17:37.536Z"
   },
   {
    "duration": 235,
    "start_time": "2022-12-23T07:17:37.944Z"
   },
   {
    "duration": 3191,
    "start_time": "2022-12-23T07:17:38.182Z"
   },
   {
    "duration": 10,
    "start_time": "2022-12-23T07:17:41.375Z"
   },
   {
    "duration": 57,
    "start_time": "2022-12-23T07:17:41.387Z"
   },
   {
    "duration": 10,
    "start_time": "2022-12-23T07:17:41.446Z"
   },
   {
    "duration": 50,
    "start_time": "2022-12-23T07:17:41.458Z"
   },
   {
    "duration": 24,
    "start_time": "2022-12-23T07:17:41.511Z"
   },
   {
    "duration": 5,
    "start_time": "2022-12-23T07:17:41.537Z"
   },
   {
    "duration": 22,
    "start_time": "2022-12-23T07:17:41.552Z"
   },
   {
    "duration": 85,
    "start_time": "2022-12-23T07:17:41.579Z"
   },
   {
    "duration": 191,
    "start_time": "2022-12-23T07:17:41.666Z"
   },
   {
    "duration": 6,
    "start_time": "2022-12-23T07:20:54.341Z"
   },
   {
    "duration": 16,
    "start_time": "2022-12-23T07:20:54.938Z"
   },
   {
    "duration": 13,
    "start_time": "2022-12-23T07:20:55.988Z"
   },
   {
    "duration": 18,
    "start_time": "2022-12-23T07:20:56.835Z"
   },
   {
    "duration": 3,
    "start_time": "2022-12-23T07:23:07.280Z"
   },
   {
    "duration": 280,
    "start_time": "2022-12-23T07:37:12.981Z"
   },
   {
    "duration": 230,
    "start_time": "2022-12-23T07:39:21.055Z"
   },
   {
    "duration": 3037,
    "start_time": "2022-12-23T07:39:29.673Z"
   },
   {
    "duration": 1543,
    "start_time": "2022-12-23T07:40:12.966Z"
   },
   {
    "duration": 3,
    "start_time": "2022-12-23T07:40:14.511Z"
   },
   {
    "duration": 421,
    "start_time": "2022-12-23T07:40:14.516Z"
   },
   {
    "duration": 225,
    "start_time": "2022-12-23T07:40:14.939Z"
   },
   {
    "duration": 3113,
    "start_time": "2022-12-23T07:40:15.166Z"
   },
   {
    "duration": 10,
    "start_time": "2022-12-23T07:40:18.280Z"
   },
   {
    "duration": 38,
    "start_time": "2022-12-23T07:40:18.292Z"
   },
   {
    "duration": 23,
    "start_time": "2022-12-23T07:40:18.332Z"
   },
   {
    "duration": 31,
    "start_time": "2022-12-23T07:40:18.357Z"
   },
   {
    "duration": 21,
    "start_time": "2022-12-23T07:40:18.391Z"
   },
   {
    "duration": 4,
    "start_time": "2022-12-23T07:40:18.414Z"
   },
   {
    "duration": 130,
    "start_time": "2022-12-23T07:40:18.420Z"
   },
   {
    "duration": 109,
    "start_time": "2022-12-23T07:40:18.553Z"
   },
   {
    "duration": 97,
    "start_time": "2022-12-23T07:40:18.664Z"
   },
   {
    "duration": 227,
    "start_time": "2022-12-23T07:40:59.044Z"
   },
   {
    "duration": 4,
    "start_time": "2022-12-23T08:13:25.451Z"
   },
   {
    "duration": 3,
    "start_time": "2022-12-23T08:21:05.322Z"
   },
   {
    "duration": 4,
    "start_time": "2022-12-23T08:30:39.766Z"
   },
   {
    "duration": 3,
    "start_time": "2022-12-23T08:35:22.398Z"
   },
   {
    "duration": 4,
    "start_time": "2022-12-23T08:35:22.749Z"
   },
   {
    "duration": 4,
    "start_time": "2022-12-23T08:37:20.349Z"
   },
   {
    "duration": 4,
    "start_time": "2022-12-23T08:37:20.933Z"
   },
   {
    "duration": 3,
    "start_time": "2022-12-23T08:43:40.212Z"
   },
   {
    "duration": 5,
    "start_time": "2022-12-23T08:45:57.856Z"
   },
   {
    "duration": 5,
    "start_time": "2022-12-23T08:50:10.686Z"
   },
   {
    "duration": 4,
    "start_time": "2022-12-23T08:50:18.989Z"
   },
   {
    "duration": 5,
    "start_time": "2022-12-23T08:50:19.546Z"
   },
   {
    "duration": 4,
    "start_time": "2022-12-23T08:50:34.949Z"
   },
   {
    "duration": 4,
    "start_time": "2022-12-23T08:53:58.902Z"
   },
   {
    "duration": 4,
    "start_time": "2022-12-23T08:53:59.541Z"
   },
   {
    "duration": 5,
    "start_time": "2022-12-23T08:54:00.429Z"
   },
   {
    "duration": 4,
    "start_time": "2022-12-23T08:55:56.562Z"
   },
   {
    "duration": 3,
    "start_time": "2022-12-23T08:55:57.221Z"
   },
   {
    "duration": 4,
    "start_time": "2022-12-23T08:55:58.502Z"
   },
   {
    "duration": 3,
    "start_time": "2022-12-23T08:56:04.250Z"
   },
   {
    "duration": 3,
    "start_time": "2022-12-23T08:56:10.525Z"
   },
   {
    "duration": 3,
    "start_time": "2022-12-23T08:56:12.479Z"
   },
   {
    "duration": 3,
    "start_time": "2022-12-23T08:56:43.728Z"
   },
   {
    "duration": 4,
    "start_time": "2022-12-23T08:56:44.309Z"
   },
   {
    "duration": 4,
    "start_time": "2022-12-23T08:56:45.903Z"
   },
   {
    "duration": 5,
    "start_time": "2022-12-23T08:57:00.225Z"
   },
   {
    "duration": 5,
    "start_time": "2022-12-23T08:57:01.346Z"
   },
   {
    "duration": 6,
    "start_time": "2022-12-23T08:57:02.167Z"
   },
   {
    "duration": 5,
    "start_time": "2022-12-23T08:57:18.163Z"
   },
   {
    "duration": 4,
    "start_time": "2022-12-23T08:57:18.744Z"
   },
   {
    "duration": 6,
    "start_time": "2022-12-23T08:57:19.679Z"
   },
   {
    "duration": 4,
    "start_time": "2022-12-23T08:58:54.459Z"
   },
   {
    "duration": 5,
    "start_time": "2022-12-23T08:59:25.854Z"
   },
   {
    "duration": 3,
    "start_time": "2022-12-23T08:59:30.639Z"
   },
   {
    "duration": 5,
    "start_time": "2022-12-23T08:59:31.131Z"
   },
   {
    "duration": 4,
    "start_time": "2022-12-23T08:59:31.805Z"
   },
   {
    "duration": 4,
    "start_time": "2022-12-23T09:06:15.274Z"
   },
   {
    "duration": 4,
    "start_time": "2022-12-23T09:20:44.367Z"
   },
   {
    "duration": 4,
    "start_time": "2022-12-23T09:20:59.615Z"
   },
   {
    "duration": 4,
    "start_time": "2022-12-23T09:20:59.929Z"
   },
   {
    "duration": 8,
    "start_time": "2022-12-23T09:21:00.551Z"
   },
   {
    "duration": 3,
    "start_time": "2022-12-23T09:24:43.265Z"
   },
   {
    "duration": 4,
    "start_time": "2022-12-23T09:25:54.247Z"
   },
   {
    "duration": 12,
    "start_time": "2022-12-23T10:55:27.580Z"
   },
   {
    "duration": 4,
    "start_time": "2022-12-23T11:11:02.458Z"
   },
   {
    "duration": 7,
    "start_time": "2022-12-23T11:17:45.359Z"
   },
   {
    "duration": 165,
    "start_time": "2022-12-23T11:17:47.064Z"
   },
   {
    "duration": 6,
    "start_time": "2022-12-23T11:50:26.402Z"
   },
   {
    "duration": 4,
    "start_time": "2022-12-23T11:50:27.253Z"
   },
   {
    "duration": 7,
    "start_time": "2022-12-23T11:50:28.809Z"
   },
   {
    "duration": 1644,
    "start_time": "2022-12-23T11:50:31.504Z"
   },
   {
    "duration": 1464,
    "start_time": "2022-12-23T11:53:37.777Z"
   },
   {
    "duration": 3,
    "start_time": "2022-12-23T11:53:39.243Z"
   },
   {
    "duration": 470,
    "start_time": "2022-12-23T11:53:39.256Z"
   },
   {
    "duration": 312,
    "start_time": "2022-12-23T11:53:39.730Z"
   },
   {
    "duration": 3318,
    "start_time": "2022-12-23T11:53:40.044Z"
   },
   {
    "duration": 15,
    "start_time": "2022-12-23T11:53:43.365Z"
   },
   {
    "duration": 37,
    "start_time": "2022-12-23T11:53:43.381Z"
   },
   {
    "duration": 34,
    "start_time": "2022-12-23T11:53:43.421Z"
   },
   {
    "duration": 38,
    "start_time": "2022-12-23T11:53:43.458Z"
   },
   {
    "duration": 28,
    "start_time": "2022-12-23T11:53:43.500Z"
   },
   {
    "duration": 29,
    "start_time": "2022-12-23T11:53:43.530Z"
   },
   {
    "duration": 83,
    "start_time": "2022-12-23T11:53:43.572Z"
   },
   {
    "duration": 99,
    "start_time": "2022-12-23T11:53:43.658Z"
   },
   {
    "duration": 108,
    "start_time": "2022-12-23T11:53:43.764Z"
   },
   {
    "duration": 79,
    "start_time": "2022-12-23T11:53:43.878Z"
   },
   {
    "duration": 100,
    "start_time": "2022-12-23T11:53:43.959Z"
   },
   {
    "duration": 13,
    "start_time": "2022-12-23T11:53:44.061Z"
   },
   {
    "duration": 8,
    "start_time": "2022-12-23T11:53:44.075Z"
   },
   {
    "duration": 12,
    "start_time": "2022-12-23T11:53:44.085Z"
   },
   {
    "duration": 7,
    "start_time": "2022-12-23T11:53:44.099Z"
   },
   {
    "duration": 150,
    "start_time": "2022-12-23T11:53:44.108Z"
   },
   {
    "duration": 0,
    "start_time": "2022-12-23T11:53:44.261Z"
   },
   {
    "duration": 0,
    "start_time": "2022-12-23T11:53:44.262Z"
   },
   {
    "duration": 0,
    "start_time": "2022-12-23T11:53:44.264Z"
   },
   {
    "duration": 5,
    "start_time": "2022-12-23T11:54:09.147Z"
   },
   {
    "duration": 3,
    "start_time": "2022-12-23T11:54:10.546Z"
   },
   {
    "duration": 5,
    "start_time": "2022-12-23T11:54:11.717Z"
   },
   {
    "duration": 1578,
    "start_time": "2022-12-23T11:54:13.417Z"
   },
   {
    "duration": 2009,
    "start_time": "2022-12-24T06:26:18.067Z"
   },
   {
    "duration": 5,
    "start_time": "2022-12-24T06:26:20.080Z"
   },
   {
    "duration": 2218,
    "start_time": "2022-12-24T06:26:20.087Z"
   },
   {
    "duration": 270,
    "start_time": "2022-12-24T06:26:22.306Z"
   },
   {
    "duration": 3592,
    "start_time": "2022-12-24T06:26:22.580Z"
   },
   {
    "duration": 20,
    "start_time": "2022-12-24T06:26:26.176Z"
   },
   {
    "duration": 77,
    "start_time": "2022-12-24T06:26:26.198Z"
   },
   {
    "duration": 10,
    "start_time": "2022-12-24T06:26:26.279Z"
   },
   {
    "duration": 38,
    "start_time": "2022-12-24T06:26:26.292Z"
   },
   {
    "duration": 44,
    "start_time": "2022-12-24T06:26:26.332Z"
   },
   {
    "duration": 5,
    "start_time": "2022-12-24T06:26:26.380Z"
   },
   {
    "duration": 184,
    "start_time": "2022-12-24T06:26:26.387Z"
   },
   {
    "duration": 91,
    "start_time": "2022-12-24T06:26:26.580Z"
   },
   {
    "duration": 180,
    "start_time": "2022-12-24T06:26:26.678Z"
   },
   {
    "duration": 118,
    "start_time": "2022-12-24T06:26:26.861Z"
   },
   {
    "duration": 9,
    "start_time": "2022-12-24T06:26:26.981Z"
   },
   {
    "duration": 7,
    "start_time": "2022-12-24T06:26:26.991Z"
   },
   {
    "duration": 131,
    "start_time": "2022-12-24T06:26:27.000Z"
   },
   {
    "duration": 0,
    "start_time": "2022-12-24T06:26:27.133Z"
   },
   {
    "duration": 0,
    "start_time": "2022-12-24T06:26:27.134Z"
   },
   {
    "duration": 0,
    "start_time": "2022-12-24T06:26:27.136Z"
   },
   {
    "duration": 0,
    "start_time": "2022-12-24T06:26:27.138Z"
   },
   {
    "duration": 0,
    "start_time": "2022-12-24T06:26:27.139Z"
   },
   {
    "duration": 0,
    "start_time": "2022-12-24T06:26:27.141Z"
   },
   {
    "duration": 5,
    "start_time": "2022-12-24T06:27:22.992Z"
   },
   {
    "duration": 4,
    "start_time": "2022-12-24T06:27:24.087Z"
   },
   {
    "duration": 6,
    "start_time": "2022-12-24T06:27:25.287Z"
   },
   {
    "duration": 1632,
    "start_time": "2022-12-24T06:27:26.950Z"
   },
   {
    "duration": 1419,
    "start_time": "2022-12-24T07:04:52.231Z"
   },
   {
    "duration": 3,
    "start_time": "2022-12-24T07:04:53.653Z"
   },
   {
    "duration": 430,
    "start_time": "2022-12-24T07:04:53.658Z"
   },
   {
    "duration": 247,
    "start_time": "2022-12-24T07:04:54.090Z"
   },
   {
    "duration": 3060,
    "start_time": "2022-12-24T07:04:54.351Z"
   },
   {
    "duration": 10,
    "start_time": "2022-12-24T07:04:57.413Z"
   },
   {
    "duration": 46,
    "start_time": "2022-12-24T07:04:57.425Z"
   },
   {
    "duration": 10,
    "start_time": "2022-12-24T07:04:57.473Z"
   },
   {
    "duration": 30,
    "start_time": "2022-12-24T07:04:57.484Z"
   },
   {
    "duration": 46,
    "start_time": "2022-12-24T07:04:57.516Z"
   },
   {
    "duration": 4,
    "start_time": "2022-12-24T07:04:57.564Z"
   },
   {
    "duration": 23,
    "start_time": "2022-12-24T07:04:57.570Z"
   },
   {
    "duration": 105,
    "start_time": "2022-12-24T07:04:57.656Z"
   },
   {
    "duration": 206,
    "start_time": "2022-12-24T07:04:57.765Z"
   },
   {
    "duration": 79,
    "start_time": "2022-12-24T07:04:57.974Z"
   },
   {
    "duration": 96,
    "start_time": "2022-12-24T07:04:58.056Z"
   },
   {
    "duration": 4,
    "start_time": "2022-12-24T07:04:58.155Z"
   },
   {
    "duration": 7,
    "start_time": "2022-12-24T07:04:58.161Z"
   },
   {
    "duration": 134,
    "start_time": "2022-12-24T07:04:58.170Z"
   },
   {
    "duration": 0,
    "start_time": "2022-12-24T07:04:58.306Z"
   },
   {
    "duration": 0,
    "start_time": "2022-12-24T07:04:58.309Z"
   },
   {
    "duration": 0,
    "start_time": "2022-12-24T07:04:58.311Z"
   },
   {
    "duration": 0,
    "start_time": "2022-12-24T07:04:58.313Z"
   },
   {
    "duration": 0,
    "start_time": "2022-12-24T07:04:58.314Z"
   },
   {
    "duration": 0,
    "start_time": "2022-12-24T07:04:58.315Z"
   },
   {
    "duration": 0,
    "start_time": "2022-12-24T07:04:58.317Z"
   },
   {
    "duration": 4,
    "start_time": "2022-12-24T07:09:11.230Z"
   },
   {
    "duration": 3,
    "start_time": "2022-12-24T07:09:15.634Z"
   },
   {
    "duration": 3,
    "start_time": "2022-12-24T07:09:18.695Z"
   },
   {
    "duration": 6,
    "start_time": "2022-12-24T07:09:18.943Z"
   },
   {
    "duration": 16,
    "start_time": "2022-12-24T07:09:20.581Z"
   },
   {
    "duration": 5,
    "start_time": "2022-12-24T07:12:18.929Z"
   },
   {
    "duration": 3,
    "start_time": "2022-12-24T07:12:19.061Z"
   },
   {
    "duration": 423,
    "start_time": "2022-12-24T07:12:19.065Z"
   },
   {
    "duration": 246,
    "start_time": "2022-12-24T07:12:19.489Z"
   },
   {
    "duration": 1357,
    "start_time": "2022-12-24T07:28:11.505Z"
   },
   {
    "duration": 3,
    "start_time": "2022-12-24T07:28:12.864Z"
   },
   {
    "duration": 402,
    "start_time": "2022-12-24T07:28:12.868Z"
   },
   {
    "duration": 217,
    "start_time": "2022-12-24T07:28:13.273Z"
   },
   {
    "duration": 3060,
    "start_time": "2022-12-24T07:28:13.492Z"
   },
   {
    "duration": 10,
    "start_time": "2022-12-24T07:28:16.554Z"
   },
   {
    "duration": 39,
    "start_time": "2022-12-24T07:28:16.567Z"
   },
   {
    "duration": 10,
    "start_time": "2022-12-24T07:28:16.608Z"
   },
   {
    "duration": 56,
    "start_time": "2022-12-24T07:28:16.620Z"
   },
   {
    "duration": 24,
    "start_time": "2022-12-24T07:28:16.679Z"
   },
   {
    "duration": 5,
    "start_time": "2022-12-24T07:28:16.705Z"
   },
   {
    "duration": 44,
    "start_time": "2022-12-24T07:28:16.712Z"
   },
   {
    "duration": 197,
    "start_time": "2022-12-24T07:28:16.759Z"
   },
   {
    "duration": 96,
    "start_time": "2022-12-24T07:28:16.959Z"
   },
   {
    "duration": 106,
    "start_time": "2022-12-24T07:28:17.057Z"
   },
   {
    "duration": 88,
    "start_time": "2022-12-24T07:28:17.166Z"
   },
   {
    "duration": 8,
    "start_time": "2022-12-24T07:28:17.256Z"
   },
   {
    "duration": 6,
    "start_time": "2022-12-24T07:28:17.265Z"
   },
   {
    "duration": 7,
    "start_time": "2022-12-24T07:28:17.273Z"
   },
   {
    "duration": 9,
    "start_time": "2022-12-24T07:28:17.282Z"
   },
   {
    "duration": 6,
    "start_time": "2022-12-24T07:28:17.293Z"
   },
   {
    "duration": 1453,
    "start_time": "2022-12-24T07:28:17.301Z"
   },
   {
    "duration": 1167,
    "start_time": "2022-12-24T07:28:18.756Z"
   },
   {
    "duration": 4,
    "start_time": "2022-12-24T07:28:19.924Z"
   },
   {
    "duration": 24,
    "start_time": "2022-12-24T07:28:19.930Z"
   },
   {
    "duration": 4,
    "start_time": "2022-12-24T07:29:57.463Z"
   },
   {
    "duration": 4,
    "start_time": "2022-12-24T07:30:51.574Z"
   },
   {
    "duration": 4,
    "start_time": "2022-12-24T07:30:52.398Z"
   },
   {
    "duration": 4,
    "start_time": "2022-12-24T07:32:47.819Z"
   },
   {
    "duration": 3,
    "start_time": "2022-12-24T07:32:50.218Z"
   },
   {
    "duration": 7,
    "start_time": "2022-12-24T07:32:50.601Z"
   },
   {
    "duration": 1410,
    "start_time": "2022-12-24T07:32:51.587Z"
   },
   {
    "duration": 5,
    "start_time": "2022-12-24T07:41:49.213Z"
   },
   {
    "duration": 3,
    "start_time": "2022-12-24T07:41:49.939Z"
   },
   {
    "duration": 3,
    "start_time": "2022-12-24T07:42:00.422Z"
   },
   {
    "duration": 6,
    "start_time": "2022-12-24T07:42:00.934Z"
   },
   {
    "duration": 1424,
    "start_time": "2022-12-24T07:42:20.510Z"
   },
   {
    "duration": 955,
    "start_time": "2022-12-24T07:43:35.741Z"
   },
   {
    "duration": 1448,
    "start_time": "2022-12-25T02:26:03.846Z"
   },
   {
    "duration": 3,
    "start_time": "2022-12-25T02:26:05.298Z"
   },
   {
    "duration": 865,
    "start_time": "2022-12-25T02:26:05.303Z"
   },
   {
    "duration": 284,
    "start_time": "2022-12-25T02:26:06.171Z"
   },
   {
    "duration": 2942,
    "start_time": "2022-12-25T02:26:06.458Z"
   },
   {
    "duration": 25,
    "start_time": "2022-12-25T02:26:09.402Z"
   },
   {
    "duration": 32,
    "start_time": "2022-12-25T02:26:09.433Z"
   },
   {
    "duration": 9,
    "start_time": "2022-12-25T02:26:09.466Z"
   },
   {
    "duration": 28,
    "start_time": "2022-12-25T02:26:09.477Z"
   },
   {
    "duration": 30,
    "start_time": "2022-12-25T02:26:09.507Z"
   },
   {
    "duration": 5,
    "start_time": "2022-12-25T02:26:09.539Z"
   },
   {
    "duration": 84,
    "start_time": "2022-12-25T02:26:09.546Z"
   },
   {
    "duration": 186,
    "start_time": "2022-12-25T02:26:09.632Z"
   },
   {
    "duration": 98,
    "start_time": "2022-12-25T02:26:09.825Z"
   },
   {
    "duration": 212,
    "start_time": "2022-12-25T02:26:09.925Z"
   },
   {
    "duration": 8,
    "start_time": "2022-12-25T02:26:10.139Z"
   },
   {
    "duration": 126,
    "start_time": "2022-12-25T02:26:10.149Z"
   },
   {
    "duration": 0,
    "start_time": "2022-12-25T02:26:10.278Z"
   },
   {
    "duration": 0,
    "start_time": "2022-12-25T02:26:10.279Z"
   },
   {
    "duration": 0,
    "start_time": "2022-12-25T02:26:10.280Z"
   },
   {
    "duration": 0,
    "start_time": "2022-12-25T02:26:10.282Z"
   },
   {
    "duration": 0,
    "start_time": "2022-12-25T02:26:10.284Z"
   },
   {
    "duration": 0,
    "start_time": "2022-12-25T02:26:10.285Z"
   },
   {
    "duration": 0,
    "start_time": "2022-12-25T02:26:10.287Z"
   },
   {
    "duration": 0,
    "start_time": "2022-12-25T02:26:10.288Z"
   },
   {
    "duration": 5,
    "start_time": "2022-12-25T02:27:17.515Z"
   },
   {
    "duration": 7,
    "start_time": "2022-12-25T02:27:22.630Z"
   },
   {
    "duration": 3,
    "start_time": "2022-12-25T02:27:23.578Z"
   },
   {
    "duration": 5,
    "start_time": "2022-12-25T02:27:38.336Z"
   },
   {
    "duration": 4,
    "start_time": "2022-12-25T02:33:41.440Z"
   },
   {
    "duration": 3,
    "start_time": "2022-12-25T02:38:08.131Z"
   },
   {
    "duration": 4,
    "start_time": "2022-12-25T02:38:13.635Z"
   },
   {
    "duration": 1301,
    "start_time": "2022-12-25T02:42:01.235Z"
   },
   {
    "duration": 2,
    "start_time": "2022-12-25T02:42:02.538Z"
   },
   {
    "duration": 376,
    "start_time": "2022-12-25T02:42:02.542Z"
   },
   {
    "duration": 197,
    "start_time": "2022-12-25T02:42:02.921Z"
   },
   {
    "duration": 2758,
    "start_time": "2022-12-25T02:42:03.120Z"
   },
   {
    "duration": 11,
    "start_time": "2022-12-25T02:42:05.880Z"
   },
   {
    "duration": 46,
    "start_time": "2022-12-25T02:42:05.893Z"
   },
   {
    "duration": 10,
    "start_time": "2022-12-25T02:42:05.940Z"
   },
   {
    "duration": 45,
    "start_time": "2022-12-25T02:42:05.951Z"
   },
   {
    "duration": 19,
    "start_time": "2022-12-25T02:42:05.998Z"
   },
   {
    "duration": 6,
    "start_time": "2022-12-25T02:42:06.019Z"
   },
   {
    "duration": 90,
    "start_time": "2022-12-25T02:42:06.026Z"
   },
   {
    "duration": 115,
    "start_time": "2022-12-25T02:42:06.118Z"
   },
   {
    "duration": 90,
    "start_time": "2022-12-25T02:42:06.235Z"
   },
   {
    "duration": 192,
    "start_time": "2022-12-25T02:42:06.327Z"
   },
   {
    "duration": 8,
    "start_time": "2022-12-25T02:42:06.521Z"
   },
   {
    "duration": 7,
    "start_time": "2022-12-25T02:42:06.531Z"
   },
   {
    "duration": 6,
    "start_time": "2022-12-25T02:42:06.540Z"
   },
   {
    "duration": 6,
    "start_time": "2022-12-25T02:42:06.548Z"
   },
   {
    "duration": 8,
    "start_time": "2022-12-25T02:42:06.556Z"
   },
   {
    "duration": 9,
    "start_time": "2022-12-25T02:42:06.565Z"
   },
   {
    "duration": 1515,
    "start_time": "2022-12-25T02:42:06.576Z"
   },
   {
    "duration": 962,
    "start_time": "2022-12-25T02:42:08.093Z"
   },
   {
    "duration": 4,
    "start_time": "2022-12-25T02:42:09.056Z"
   },
   {
    "duration": 12,
    "start_time": "2022-12-25T02:42:09.061Z"
   },
   {
    "duration": 5,
    "start_time": "2022-12-25T02:44:53.067Z"
   },
   {
    "duration": 6,
    "start_time": "2022-12-25T03:10:02.421Z"
   },
   {
    "duration": 1607,
    "start_time": "2022-12-25T03:10:04.582Z"
   },
   {
    "duration": 5,
    "start_time": "2022-12-25T03:10:21.317Z"
   },
   {
    "duration": 1517,
    "start_time": "2022-12-25T03:10:22.341Z"
   },
   {
    "duration": 5,
    "start_time": "2022-12-25T03:10:48.557Z"
   },
   {
    "duration": 1564,
    "start_time": "2022-12-25T03:10:51.021Z"
   },
   {
    "duration": 6,
    "start_time": "2022-12-25T03:11:16.133Z"
   },
   {
    "duration": 1458,
    "start_time": "2022-12-25T03:11:17.579Z"
   },
   {
    "duration": 5,
    "start_time": "2022-12-25T03:21:00.294Z"
   },
   {
    "duration": 1630,
    "start_time": "2022-12-25T03:21:01.807Z"
   },
   {
    "duration": 5,
    "start_time": "2022-12-25T03:21:24.343Z"
   },
   {
    "duration": 1591,
    "start_time": "2022-12-25T03:21:25.206Z"
   },
   {
    "duration": 5,
    "start_time": "2022-12-25T03:22:23.399Z"
   },
   {
    "duration": 1517,
    "start_time": "2022-12-25T03:22:24.397Z"
   },
   {
    "duration": 1613,
    "start_time": "2022-12-25T03:23:32.339Z"
   },
   {
    "duration": 4,
    "start_time": "2022-12-25T03:26:59.671Z"
   },
   {
    "duration": 1455,
    "start_time": "2022-12-25T03:27:00.733Z"
   },
   {
    "duration": 5,
    "start_time": "2022-12-25T03:27:30.477Z"
   },
   {
    "duration": 1491,
    "start_time": "2022-12-25T03:27:34.188Z"
   },
   {
    "duration": 13,
    "start_time": "2022-12-25T03:44:03.721Z"
   },
   {
    "duration": 1643,
    "start_time": "2022-12-25T03:44:05.128Z"
   },
   {
    "duration": 6,
    "start_time": "2022-12-25T03:45:01.990Z"
   },
   {
    "duration": 1543,
    "start_time": "2022-12-25T03:45:03.031Z"
   },
   {
    "duration": 5,
    "start_time": "2022-12-25T03:45:43.165Z"
   },
   {
    "duration": 1578,
    "start_time": "2022-12-25T03:45:44.636Z"
   },
   {
    "duration": 1353,
    "start_time": "2022-12-25T03:46:24.705Z"
   },
   {
    "duration": 3,
    "start_time": "2022-12-25T03:46:26.060Z"
   },
   {
    "duration": 426,
    "start_time": "2022-12-25T03:46:26.064Z"
   },
   {
    "duration": 192,
    "start_time": "2022-12-25T03:46:26.492Z"
   },
   {
    "duration": 2852,
    "start_time": "2022-12-25T03:46:26.686Z"
   },
   {
    "duration": 9,
    "start_time": "2022-12-25T03:46:29.539Z"
   },
   {
    "duration": 32,
    "start_time": "2022-12-25T03:46:29.550Z"
   },
   {
    "duration": 9,
    "start_time": "2022-12-25T03:46:29.584Z"
   },
   {
    "duration": 58,
    "start_time": "2022-12-25T03:46:29.594Z"
   },
   {
    "duration": 19,
    "start_time": "2022-12-25T03:46:29.655Z"
   },
   {
    "duration": 4,
    "start_time": "2022-12-25T03:46:29.675Z"
   },
   {
    "duration": 52,
    "start_time": "2022-12-25T03:46:29.680Z"
   },
   {
    "duration": 21,
    "start_time": "2022-12-25T03:46:29.816Z"
   },
   {
    "duration": 84,
    "start_time": "2022-12-25T03:46:29.838Z"
   },
   {
    "duration": 5,
    "start_time": "2022-12-25T03:46:29.925Z"
   },
   {
    "duration": 85,
    "start_time": "2022-12-25T03:46:29.932Z"
   },
   {
    "duration": 4,
    "start_time": "2022-12-25T03:46:30.019Z"
   },
   {
    "duration": 113,
    "start_time": "2022-12-25T03:46:30.025Z"
   },
   {
    "duration": 15,
    "start_time": "2022-12-25T03:46:30.140Z"
   },
   {
    "duration": 20,
    "start_time": "2022-12-25T03:46:30.156Z"
   },
   {
    "duration": 1724,
    "start_time": "2022-12-25T03:46:30.177Z"
   },
   {
    "duration": 0,
    "start_time": "2022-12-25T03:46:31.903Z"
   },
   {
    "duration": 0,
    "start_time": "2022-12-25T03:46:31.904Z"
   },
   {
    "duration": 0,
    "start_time": "2022-12-25T03:46:31.905Z"
   },
   {
    "duration": 0,
    "start_time": "2022-12-25T03:46:31.906Z"
   },
   {
    "duration": 4,
    "start_time": "2022-12-25T03:59:59.309Z"
   },
   {
    "duration": 6,
    "start_time": "2022-12-25T04:00:07.491Z"
   },
   {
    "duration": 1657,
    "start_time": "2022-12-25T04:00:08.810Z"
   },
   {
    "duration": 5,
    "start_time": "2022-12-25T04:01:25.505Z"
   },
   {
    "duration": 1351,
    "start_time": "2022-12-25T04:01:26.888Z"
   },
   {
    "duration": 6,
    "start_time": "2022-12-25T04:08:10.535Z"
   },
   {
    "duration": 1435,
    "start_time": "2022-12-25T04:08:11.616Z"
   },
   {
    "duration": 6,
    "start_time": "2022-12-25T04:11:24.328Z"
   },
   {
    "duration": 1492,
    "start_time": "2022-12-25T04:11:25.412Z"
   },
   {
    "duration": 10,
    "start_time": "2022-12-25T04:12:05.003Z"
   },
   {
    "duration": 1401,
    "start_time": "2022-12-25T04:12:11.732Z"
   },
   {
    "duration": 1437,
    "start_time": "2022-12-25T04:12:15.987Z"
   },
   {
    "duration": 15,
    "start_time": "2022-12-25T04:12:37.011Z"
   },
   {
    "duration": 1432,
    "start_time": "2022-12-25T04:12:38.146Z"
   },
   {
    "duration": 6,
    "start_time": "2022-12-25T04:12:51.916Z"
   },
   {
    "duration": 1382,
    "start_time": "2022-12-25T04:12:52.906Z"
   },
   {
    "duration": 5,
    "start_time": "2022-12-25T04:13:38.146Z"
   },
   {
    "duration": 1364,
    "start_time": "2022-12-25T04:13:42.130Z"
   },
   {
    "duration": 1330,
    "start_time": "2022-12-25T04:13:43.496Z"
   },
   {
    "duration": 1344,
    "start_time": "2022-12-25T04:13:44.828Z"
   },
   {
    "duration": 6,
    "start_time": "2022-12-25T04:14:43.530Z"
   },
   {
    "duration": 1459,
    "start_time": "2022-12-25T04:14:44.688Z"
   },
   {
    "duration": 1402,
    "start_time": "2022-12-25T04:14:47.560Z"
   },
   {
    "duration": 1391,
    "start_time": "2022-12-25T04:14:50.193Z"
   },
   {
    "duration": 1560,
    "start_time": "2022-12-25T08:51:12.662Z"
   },
   {
    "duration": 4,
    "start_time": "2022-12-25T08:51:14.224Z"
   },
   {
    "duration": 1543,
    "start_time": "2022-12-25T08:51:14.230Z"
   },
   {
    "duration": 224,
    "start_time": "2022-12-25T08:51:15.775Z"
   },
   {
    "duration": 3096,
    "start_time": "2022-12-25T08:51:16.001Z"
   },
   {
    "duration": 9,
    "start_time": "2022-12-25T08:51:19.099Z"
   },
   {
    "duration": 58,
    "start_time": "2022-12-25T08:51:19.110Z"
   },
   {
    "duration": 9,
    "start_time": "2022-12-25T08:51:19.170Z"
   },
   {
    "duration": 45,
    "start_time": "2022-12-25T08:51:19.180Z"
   },
   {
    "duration": 39,
    "start_time": "2022-12-25T08:51:19.228Z"
   },
   {
    "duration": 4,
    "start_time": "2022-12-25T08:51:19.269Z"
   },
   {
    "duration": 79,
    "start_time": "2022-12-25T08:51:19.275Z"
   },
   {
    "duration": 113,
    "start_time": "2022-12-25T08:51:19.357Z"
   },
   {
    "duration": 181,
    "start_time": "2022-12-25T08:51:19.473Z"
   },
   {
    "duration": 196,
    "start_time": "2022-12-25T08:51:19.657Z"
   },
   {
    "duration": 13,
    "start_time": "2022-12-25T08:51:19.855Z"
   },
   {
    "duration": 11,
    "start_time": "2022-12-25T08:51:19.870Z"
   },
   {
    "duration": 12,
    "start_time": "2022-12-25T08:51:19.884Z"
   },
   {
    "duration": 14,
    "start_time": "2022-12-25T08:51:19.898Z"
   },
   {
    "duration": 11,
    "start_time": "2022-12-25T08:51:19.915Z"
   },
   {
    "duration": 1405,
    "start_time": "2022-12-25T08:51:19.928Z"
   },
   {
    "duration": 1355,
    "start_time": "2022-12-25T08:51:21.334Z"
   },
   {
    "duration": 1379,
    "start_time": "2022-12-25T08:51:22.691Z"
   },
   {
    "duration": 1126,
    "start_time": "2022-12-25T08:52:55.670Z"
   },
   {
    "duration": 3,
    "start_time": "2022-12-25T08:52:56.799Z"
   },
   {
    "duration": 432,
    "start_time": "2022-12-25T08:52:56.803Z"
   },
   {
    "duration": 231,
    "start_time": "2022-12-25T08:52:57.237Z"
   },
   {
    "duration": 1628,
    "start_time": "2022-12-25T08:52:57.471Z"
   },
   {
    "duration": 0,
    "start_time": "2022-12-25T08:52:59.101Z"
   },
   {
    "duration": 0,
    "start_time": "2022-12-25T08:52:59.103Z"
   },
   {
    "duration": 0,
    "start_time": "2022-12-25T08:52:59.104Z"
   },
   {
    "duration": 0,
    "start_time": "2022-12-25T08:52:59.105Z"
   },
   {
    "duration": 0,
    "start_time": "2022-12-25T08:52:59.106Z"
   },
   {
    "duration": 0,
    "start_time": "2022-12-25T08:52:59.108Z"
   },
   {
    "duration": 0,
    "start_time": "2022-12-25T08:52:59.109Z"
   },
   {
    "duration": 0,
    "start_time": "2022-12-25T08:52:59.110Z"
   },
   {
    "duration": 0,
    "start_time": "2022-12-25T08:52:59.112Z"
   },
   {
    "duration": 0,
    "start_time": "2022-12-25T08:52:59.112Z"
   },
   {
    "duration": 0,
    "start_time": "2022-12-25T08:52:59.113Z"
   },
   {
    "duration": 0,
    "start_time": "2022-12-25T08:52:59.115Z"
   },
   {
    "duration": 0,
    "start_time": "2022-12-25T08:52:59.117Z"
   },
   {
    "duration": 1,
    "start_time": "2022-12-25T08:52:59.150Z"
   },
   {
    "duration": 0,
    "start_time": "2022-12-25T08:52:59.156Z"
   },
   {
    "duration": 0,
    "start_time": "2022-12-25T08:52:59.157Z"
   },
   {
    "duration": 0,
    "start_time": "2022-12-25T08:52:59.161Z"
   },
   {
    "duration": 0,
    "start_time": "2022-12-25T08:52:59.165Z"
   },
   {
    "duration": 1453,
    "start_time": "2022-12-25T08:55:47.174Z"
   },
   {
    "duration": 3,
    "start_time": "2022-12-25T08:55:48.629Z"
   },
   {
    "duration": 446,
    "start_time": "2022-12-25T08:55:48.633Z"
   },
   {
    "duration": 270,
    "start_time": "2022-12-25T08:55:49.081Z"
   },
   {
    "duration": 3243,
    "start_time": "2022-12-25T08:55:49.355Z"
   },
   {
    "duration": 9,
    "start_time": "2022-12-25T08:55:52.600Z"
   },
   {
    "duration": 54,
    "start_time": "2022-12-25T08:55:52.610Z"
   },
   {
    "duration": 9,
    "start_time": "2022-12-25T08:55:52.666Z"
   },
   {
    "duration": 30,
    "start_time": "2022-12-25T08:55:52.677Z"
   },
   {
    "duration": 21,
    "start_time": "2022-12-25T08:55:52.709Z"
   },
   {
    "duration": 27,
    "start_time": "2022-12-25T08:55:52.732Z"
   },
   {
    "duration": 95,
    "start_time": "2022-12-25T08:55:52.767Z"
   },
   {
    "duration": 186,
    "start_time": "2022-12-25T08:55:52.865Z"
   },
   {
    "duration": 106,
    "start_time": "2022-12-25T08:55:53.052Z"
   },
   {
    "duration": 85,
    "start_time": "2022-12-25T08:55:53.178Z"
   },
   {
    "duration": 10,
    "start_time": "2022-12-25T08:55:53.265Z"
   },
   {
    "duration": 18,
    "start_time": "2022-12-25T08:55:53.277Z"
   },
   {
    "duration": 9,
    "start_time": "2022-12-25T08:55:53.298Z"
   },
   {
    "duration": 12,
    "start_time": "2022-12-25T08:55:53.308Z"
   },
   {
    "duration": 7,
    "start_time": "2022-12-25T08:55:53.323Z"
   },
   {
    "duration": 1452,
    "start_time": "2022-12-25T08:55:53.332Z"
   },
   {
    "duration": 1419,
    "start_time": "2022-12-25T08:55:54.785Z"
   },
   {
    "duration": 1481,
    "start_time": "2022-12-25T08:55:56.206Z"
   },
   {
    "duration": 1451,
    "start_time": "2022-12-25T09:09:03.012Z"
   },
   {
    "duration": 3,
    "start_time": "2022-12-25T09:09:04.466Z"
   },
   {
    "duration": 431,
    "start_time": "2022-12-25T09:09:04.470Z"
   },
   {
    "duration": 222,
    "start_time": "2022-12-25T09:09:04.903Z"
   },
   {
    "duration": 3174,
    "start_time": "2022-12-25T09:09:05.127Z"
   },
   {
    "duration": 11,
    "start_time": "2022-12-25T09:09:08.303Z"
   },
   {
    "duration": 56,
    "start_time": "2022-12-25T09:09:08.316Z"
   },
   {
    "duration": 9,
    "start_time": "2022-12-25T09:09:08.374Z"
   },
   {
    "duration": 33,
    "start_time": "2022-12-25T09:09:08.385Z"
   },
   {
    "duration": 47,
    "start_time": "2022-12-25T09:09:08.421Z"
   },
   {
    "duration": 5,
    "start_time": "2022-12-25T09:09:08.469Z"
   },
   {
    "duration": 28,
    "start_time": "2022-12-25T09:09:08.475Z"
   },
   {
    "duration": 94,
    "start_time": "2022-12-25T09:09:08.561Z"
   },
   {
    "duration": 195,
    "start_time": "2022-12-25T09:09:08.657Z"
   },
   {
    "duration": 10,
    "start_time": "2022-12-25T09:09:08.856Z"
   },
   {
    "duration": 109,
    "start_time": "2022-12-25T09:09:08.867Z"
   },
   {
    "duration": 14,
    "start_time": "2022-12-25T09:09:08.978Z"
   },
   {
    "duration": 13,
    "start_time": "2022-12-25T09:09:08.994Z"
   },
   {
    "duration": 6,
    "start_time": "2022-12-25T09:09:09.009Z"
   },
   {
    "duration": 11,
    "start_time": "2022-12-25T09:09:09.017Z"
   },
   {
    "duration": 1604,
    "start_time": "2022-12-25T09:09:09.030Z"
   },
   {
    "duration": 1566,
    "start_time": "2022-12-25T09:09:10.636Z"
   },
   {
    "duration": 1533,
    "start_time": "2022-12-25T09:09:12.203Z"
   },
   {
    "duration": 1457,
    "start_time": "2022-12-25T09:09:37.522Z"
   },
   {
    "duration": 3,
    "start_time": "2022-12-25T09:09:38.981Z"
   },
   {
    "duration": 457,
    "start_time": "2022-12-25T09:09:38.986Z"
   },
   {
    "duration": 276,
    "start_time": "2022-12-25T09:09:39.446Z"
   },
   {
    "duration": 3461,
    "start_time": "2022-12-25T09:09:39.725Z"
   },
   {
    "duration": 9,
    "start_time": "2022-12-25T09:09:43.188Z"
   },
   {
    "duration": 55,
    "start_time": "2022-12-25T09:09:43.199Z"
   },
   {
    "duration": 9,
    "start_time": "2022-12-25T09:09:43.268Z"
   },
   {
    "duration": 33,
    "start_time": "2022-12-25T09:09:43.279Z"
   },
   {
    "duration": 29,
    "start_time": "2022-12-25T09:09:43.315Z"
   },
   {
    "duration": 14,
    "start_time": "2022-12-25T09:09:43.353Z"
   },
   {
    "duration": 20,
    "start_time": "2022-12-25T09:09:43.369Z"
   },
   {
    "duration": 80,
    "start_time": "2022-12-25T09:09:43.391Z"
   },
   {
    "duration": 209,
    "start_time": "2022-12-25T09:09:43.474Z"
   },
   {
    "duration": 71,
    "start_time": "2022-12-25T09:09:43.686Z"
   },
   {
    "duration": 106,
    "start_time": "2022-12-25T09:09:43.768Z"
   },
   {
    "duration": 7,
    "start_time": "2022-12-25T09:09:43.876Z"
   },
   {
    "duration": 9,
    "start_time": "2022-12-25T09:09:43.884Z"
   },
   {
    "duration": 8,
    "start_time": "2022-12-25T09:09:43.895Z"
   },
   {
    "duration": 14,
    "start_time": "2022-12-25T09:09:43.906Z"
   },
   {
    "duration": 1512,
    "start_time": "2022-12-25T09:09:43.922Z"
   },
   {
    "duration": 1555,
    "start_time": "2022-12-25T09:09:45.436Z"
   },
   {
    "duration": 1588,
    "start_time": "2022-12-25T09:09:46.993Z"
   },
   {
    "duration": 1532,
    "start_time": "2022-12-25T09:10:33.874Z"
   },
   {
    "duration": 3,
    "start_time": "2022-12-25T09:10:35.408Z"
   },
   {
    "duration": 451,
    "start_time": "2022-12-25T09:10:35.413Z"
   },
   {
    "duration": 223,
    "start_time": "2022-12-25T09:10:35.867Z"
   },
   {
    "duration": 3176,
    "start_time": "2022-12-25T09:10:36.092Z"
   },
   {
    "duration": 9,
    "start_time": "2022-12-25T09:10:39.270Z"
   },
   {
    "duration": 45,
    "start_time": "2022-12-25T09:10:39.281Z"
   },
   {
    "duration": 9,
    "start_time": "2022-12-25T09:10:39.328Z"
   },
   {
    "duration": 61,
    "start_time": "2022-12-25T09:10:39.339Z"
   },
   {
    "duration": 28,
    "start_time": "2022-12-25T09:10:39.403Z"
   },
   {
    "duration": 5,
    "start_time": "2022-12-25T09:10:39.434Z"
   },
   {
    "duration": 32,
    "start_time": "2022-12-25T09:10:39.441Z"
   },
   {
    "duration": 183,
    "start_time": "2022-12-25T09:10:39.475Z"
   },
   {
    "duration": 208,
    "start_time": "2022-12-25T09:10:39.660Z"
   },
   {
    "duration": 190,
    "start_time": "2022-12-25T09:10:39.870Z"
   },
   {
    "duration": 23,
    "start_time": "2022-12-25T09:10:40.061Z"
   },
   {
    "duration": 10,
    "start_time": "2022-12-25T09:10:40.086Z"
   },
   {
    "duration": 19,
    "start_time": "2022-12-25T09:10:40.098Z"
   },
   {
    "duration": 8,
    "start_time": "2022-12-25T09:10:40.118Z"
   },
   {
    "duration": 10,
    "start_time": "2022-12-25T09:10:40.128Z"
   },
   {
    "duration": 1531,
    "start_time": "2022-12-25T09:10:40.140Z"
   },
   {
    "duration": 1494,
    "start_time": "2022-12-25T09:10:41.674Z"
   },
   {
    "duration": 1449,
    "start_time": "2022-12-25T09:10:43.170Z"
   },
   {
    "duration": 150,
    "start_time": "2022-12-25T09:16:09.695Z"
   },
   {
    "duration": 10,
    "start_time": "2022-12-25T09:16:21.815Z"
   },
   {
    "duration": 1415,
    "start_time": "2022-12-25T09:16:36.398Z"
   },
   {
    "duration": 3,
    "start_time": "2022-12-25T09:16:37.816Z"
   },
   {
    "duration": 428,
    "start_time": "2022-12-25T09:16:37.820Z"
   },
   {
    "duration": 236,
    "start_time": "2022-12-25T09:16:38.250Z"
   },
   {
    "duration": 3384,
    "start_time": "2022-12-25T09:16:38.489Z"
   },
   {
    "duration": 10,
    "start_time": "2022-12-25T09:16:41.875Z"
   },
   {
    "duration": 40,
    "start_time": "2022-12-25T09:16:41.887Z"
   },
   {
    "duration": 34,
    "start_time": "2022-12-25T09:16:41.929Z"
   },
   {
    "duration": 32,
    "start_time": "2022-12-25T09:16:41.968Z"
   },
   {
    "duration": 25,
    "start_time": "2022-12-25T09:16:42.001Z"
   },
   {
    "duration": 5,
    "start_time": "2022-12-25T09:16:42.028Z"
   },
   {
    "duration": 23,
    "start_time": "2022-12-25T09:16:42.051Z"
   },
   {
    "duration": 175,
    "start_time": "2022-12-25T09:16:42.077Z"
   },
   {
    "duration": 116,
    "start_time": "2022-12-25T09:16:42.255Z"
   },
   {
    "duration": 190,
    "start_time": "2022-12-25T09:16:42.373Z"
   },
   {
    "duration": 17,
    "start_time": "2022-12-25T09:16:42.565Z"
   },
   {
    "duration": 126,
    "start_time": "2022-12-25T09:16:42.584Z"
   },
   {
    "duration": 0,
    "start_time": "2022-12-25T09:16:42.712Z"
   },
   {
    "duration": 0,
    "start_time": "2022-12-25T09:16:42.713Z"
   },
   {
    "duration": 0,
    "start_time": "2022-12-25T09:16:42.714Z"
   },
   {
    "duration": 0,
    "start_time": "2022-12-25T09:16:42.716Z"
   },
   {
    "duration": 0,
    "start_time": "2022-12-25T09:16:42.717Z"
   },
   {
    "duration": 0,
    "start_time": "2022-12-25T09:16:42.718Z"
   },
   {
    "duration": 4,
    "start_time": "2022-12-25T09:17:00.607Z"
   },
   {
    "duration": 5,
    "start_time": "2022-12-25T09:17:52.176Z"
   },
   {
    "duration": 1561,
    "start_time": "2022-12-25T09:29:38.478Z"
   },
   {
    "duration": 3,
    "start_time": "2022-12-25T09:29:40.041Z"
   },
   {
    "duration": 465,
    "start_time": "2022-12-25T09:29:40.045Z"
   },
   {
    "duration": 267,
    "start_time": "2022-12-25T09:29:40.513Z"
   },
   {
    "duration": 3211,
    "start_time": "2022-12-25T09:29:40.781Z"
   },
   {
    "duration": 9,
    "start_time": "2022-12-25T09:29:43.994Z"
   },
   {
    "duration": 50,
    "start_time": "2022-12-25T09:29:44.004Z"
   },
   {
    "duration": 10,
    "start_time": "2022-12-25T09:29:44.056Z"
   },
   {
    "duration": 35,
    "start_time": "2022-12-25T09:29:44.068Z"
   },
   {
    "duration": 21,
    "start_time": "2022-12-25T09:29:44.106Z"
   },
   {
    "duration": 5,
    "start_time": "2022-12-25T09:29:44.128Z"
   },
   {
    "duration": 39,
    "start_time": "2022-12-25T09:29:44.134Z"
   },
   {
    "duration": 187,
    "start_time": "2022-12-25T09:29:44.175Z"
   },
   {
    "duration": 199,
    "start_time": "2022-12-25T09:29:44.364Z"
   },
   {
    "duration": 188,
    "start_time": "2022-12-25T09:29:44.565Z"
   },
   {
    "duration": 20,
    "start_time": "2022-12-25T09:29:44.754Z"
   },
   {
    "duration": 7,
    "start_time": "2022-12-25T09:29:44.776Z"
   },
   {
    "duration": 5,
    "start_time": "2022-12-25T09:29:44.785Z"
   },
   {
    "duration": 5,
    "start_time": "2022-12-25T09:29:44.792Z"
   },
   {
    "duration": 9,
    "start_time": "2022-12-25T09:29:44.799Z"
   },
   {
    "duration": 1494,
    "start_time": "2022-12-25T09:29:44.809Z"
   },
   {
    "duration": 1477,
    "start_time": "2022-12-25T09:29:46.305Z"
   },
   {
    "duration": 1497,
    "start_time": "2022-12-25T09:29:47.784Z"
   },
   {
    "duration": 1540,
    "start_time": "2022-12-25T09:50:57.115Z"
   },
   {
    "duration": 3,
    "start_time": "2022-12-25T09:50:58.657Z"
   },
   {
    "duration": 414,
    "start_time": "2022-12-25T09:50:58.661Z"
   },
   {
    "duration": 230,
    "start_time": "2022-12-25T09:50:59.078Z"
   },
   {
    "duration": 3241,
    "start_time": "2022-12-25T09:50:59.310Z"
   },
   {
    "duration": 10,
    "start_time": "2022-12-25T09:51:02.553Z"
   },
   {
    "duration": 42,
    "start_time": "2022-12-25T09:51:02.565Z"
   },
   {
    "duration": 9,
    "start_time": "2022-12-25T09:51:02.608Z"
   },
   {
    "duration": 57,
    "start_time": "2022-12-25T09:51:02.619Z"
   },
   {
    "duration": 23,
    "start_time": "2022-12-25T09:51:02.679Z"
   },
   {
    "duration": 5,
    "start_time": "2022-12-25T09:51:02.704Z"
   },
   {
    "duration": 46,
    "start_time": "2022-12-25T09:51:02.711Z"
   },
   {
    "duration": 194,
    "start_time": "2022-12-25T09:51:02.760Z"
   },
   {
    "duration": 121,
    "start_time": "2022-12-25T09:51:02.957Z"
   },
   {
    "duration": 72,
    "start_time": "2022-12-25T09:51:03.081Z"
   },
   {
    "duration": 96,
    "start_time": "2022-12-25T09:51:03.156Z"
   },
   {
    "duration": 8,
    "start_time": "2022-12-25T09:51:03.254Z"
   },
   {
    "duration": 16,
    "start_time": "2022-12-25T09:51:03.264Z"
   },
   {
    "duration": 12,
    "start_time": "2022-12-25T09:51:03.282Z"
   },
   {
    "duration": 20,
    "start_time": "2022-12-25T09:51:03.296Z"
   },
   {
    "duration": 1480,
    "start_time": "2022-12-25T09:51:03.318Z"
   },
   {
    "duration": 1385,
    "start_time": "2022-12-25T09:51:04.800Z"
   },
   {
    "duration": 1449,
    "start_time": "2022-12-25T09:51:06.187Z"
   },
   {
    "duration": 1308,
    "start_time": "2022-12-26T07:21:26.654Z"
   },
   {
    "duration": 3,
    "start_time": "2022-12-26T07:21:27.965Z"
   },
   {
    "duration": 733,
    "start_time": "2022-12-26T07:21:27.969Z"
   },
   {
    "duration": 179,
    "start_time": "2022-12-26T07:21:28.705Z"
   },
   {
    "duration": 2504,
    "start_time": "2022-12-26T07:21:28.886Z"
   },
   {
    "duration": 12,
    "start_time": "2022-12-26T07:21:31.391Z"
   },
   {
    "duration": 42,
    "start_time": "2022-12-26T07:21:31.404Z"
   },
   {
    "duration": 9,
    "start_time": "2022-12-26T07:21:31.448Z"
   },
   {
    "duration": 40,
    "start_time": "2022-12-26T07:21:31.458Z"
   },
   {
    "duration": 19,
    "start_time": "2022-12-26T07:21:31.501Z"
   },
   {
    "duration": 18,
    "start_time": "2022-12-26T07:21:31.521Z"
   },
   {
    "duration": 21,
    "start_time": "2022-12-26T07:21:31.540Z"
   },
   {
    "duration": 12,
    "start_time": "2022-12-26T07:21:31.597Z"
   },
   {
    "duration": 192,
    "start_time": "2022-12-26T07:21:31.611Z"
   },
   {
    "duration": 93,
    "start_time": "2022-12-26T07:21:31.806Z"
   },
   {
    "duration": 96,
    "start_time": "2022-12-26T07:21:31.902Z"
   },
   {
    "duration": 23,
    "start_time": "2022-12-26T07:21:32.000Z"
   },
   {
    "duration": 13,
    "start_time": "2022-12-26T07:21:32.025Z"
   },
   {
    "duration": 16,
    "start_time": "2022-12-26T07:21:32.039Z"
   },
   {
    "duration": 13,
    "start_time": "2022-12-26T07:21:32.057Z"
   },
   {
    "duration": 1199,
    "start_time": "2022-12-26T07:21:32.071Z"
   },
   {
    "duration": 1208,
    "start_time": "2022-12-26T07:21:33.272Z"
   },
   {
    "duration": 1319,
    "start_time": "2022-12-26T07:21:34.482Z"
   },
   {
    "duration": 46,
    "start_time": "2022-12-26T08:39:53.912Z"
   },
   {
    "duration": 6,
    "start_time": "2022-12-26T08:40:30.225Z"
   },
   {
    "duration": 1217,
    "start_time": "2022-12-26T08:40:32.906Z"
   },
   {
    "duration": 1212,
    "start_time": "2022-12-26T08:40:59.904Z"
   },
   {
    "duration": 1262,
    "start_time": "2022-12-26T08:41:04.537Z"
   },
   {
    "duration": 6,
    "start_time": "2022-12-26T08:46:45.550Z"
   },
   {
    "duration": 1239,
    "start_time": "2022-12-26T08:46:47.836Z"
   },
   {
    "duration": 1293,
    "start_time": "2022-12-26T08:46:54.378Z"
   },
   {
    "duration": 1229,
    "start_time": "2022-12-26T08:46:59.098Z"
   },
   {
    "duration": 5,
    "start_time": "2022-12-26T08:51:06.088Z"
   },
   {
    "duration": 1255,
    "start_time": "2022-12-26T08:51:08.258Z"
   },
   {
    "duration": 1279,
    "start_time": "2022-12-26T09:01:09.970Z"
   },
   {
    "duration": 3,
    "start_time": "2022-12-26T09:01:11.250Z"
   },
   {
    "duration": 350,
    "start_time": "2022-12-26T09:01:11.255Z"
   },
   {
    "duration": 190,
    "start_time": "2022-12-26T09:01:11.607Z"
   },
   {
    "duration": 2760,
    "start_time": "2022-12-26T09:01:11.799Z"
   },
   {
    "duration": 9,
    "start_time": "2022-12-26T09:01:14.561Z"
   },
   {
    "duration": 46,
    "start_time": "2022-12-26T09:01:14.571Z"
   },
   {
    "duration": 8,
    "start_time": "2022-12-26T09:01:14.619Z"
   },
   {
    "duration": 31,
    "start_time": "2022-12-26T09:01:14.628Z"
   },
   {
    "duration": 37,
    "start_time": "2022-12-26T09:01:14.661Z"
   },
   {
    "duration": 4,
    "start_time": "2022-12-26T09:01:14.700Z"
   },
   {
    "duration": 28,
    "start_time": "2022-12-26T09:01:14.705Z"
   },
   {
    "duration": 166,
    "start_time": "2022-12-26T09:01:14.735Z"
   },
   {
    "duration": 115,
    "start_time": "2022-12-26T09:01:14.903Z"
   },
   {
    "duration": 77,
    "start_time": "2022-12-26T09:01:15.021Z"
   },
   {
    "duration": 98,
    "start_time": "2022-12-26T09:01:15.101Z"
   },
   {
    "duration": 14,
    "start_time": "2022-12-26T09:01:15.201Z"
   },
   {
    "duration": 12,
    "start_time": "2022-12-26T09:01:15.217Z"
   },
   {
    "duration": 20,
    "start_time": "2022-12-26T09:01:15.230Z"
   },
   {
    "duration": 29,
    "start_time": "2022-12-26T09:01:15.252Z"
   },
   {
    "duration": 1556,
    "start_time": "2022-12-26T09:01:15.282Z"
   },
   {
    "duration": 1387,
    "start_time": "2022-12-26T09:01:16.841Z"
   },
   {
    "duration": 1303,
    "start_time": "2022-12-26T09:01:18.230Z"
   },
   {
    "duration": 41,
    "start_time": "2022-12-26T09:05:29.181Z"
   },
   {
    "duration": 1230,
    "start_time": "2022-12-26T09:10:47.316Z"
   },
   {
    "duration": 2,
    "start_time": "2022-12-26T09:10:48.548Z"
   },
   {
    "duration": 352,
    "start_time": "2022-12-26T09:10:48.551Z"
   },
   {
    "duration": 210,
    "start_time": "2022-12-26T09:10:48.905Z"
   },
   {
    "duration": 2606,
    "start_time": "2022-12-26T09:10:49.117Z"
   },
   {
    "duration": 7,
    "start_time": "2022-12-26T09:10:51.725Z"
   },
   {
    "duration": 38,
    "start_time": "2022-12-26T09:10:51.734Z"
   },
   {
    "duration": 8,
    "start_time": "2022-12-26T09:10:51.774Z"
   },
   {
    "duration": 24,
    "start_time": "2022-12-26T09:10:51.797Z"
   },
   {
    "duration": 17,
    "start_time": "2022-12-26T09:10:51.824Z"
   },
   {
    "duration": 3,
    "start_time": "2022-12-26T09:10:51.842Z"
   },
   {
    "duration": 55,
    "start_time": "2022-12-26T09:10:51.847Z"
   },
   {
    "duration": 107,
    "start_time": "2022-12-26T09:10:51.904Z"
   },
   {
    "duration": 404,
    "start_time": "2022-12-26T09:10:52.013Z"
   },
   {
    "duration": 5,
    "start_time": "2022-12-26T09:10:52.499Z"
   },
   {
    "duration": 93,
    "start_time": "2022-12-26T09:10:52.506Z"
   },
   {
    "duration": 8,
    "start_time": "2022-12-26T09:10:52.600Z"
   },
   {
    "duration": 8,
    "start_time": "2022-12-26T09:10:52.610Z"
   },
   {
    "duration": 10,
    "start_time": "2022-12-26T09:10:52.621Z"
   },
   {
    "duration": 11,
    "start_time": "2022-12-26T09:10:52.633Z"
   },
   {
    "duration": 1282,
    "start_time": "2022-12-26T09:10:52.646Z"
   },
   {
    "duration": 1306,
    "start_time": "2022-12-26T09:10:53.931Z"
   },
   {
    "duration": 1253,
    "start_time": "2022-12-26T09:10:55.239Z"
   }
  ],
  "kernelspec": {
   "display_name": "Python 3 (ipykernel)",
   "language": "python",
   "name": "python3"
  },
  "language_info": {
   "codemirror_mode": {
    "name": "ipython",
    "version": 3
   },
   "file_extension": ".py",
   "mimetype": "text/x-python",
   "name": "python",
   "nbconvert_exporter": "python",
   "pygments_lexer": "ipython3",
   "version": "3.9.5"
  },
  "toc": {
   "base_numbering": 1,
   "nav_menu": {},
   "number_sections": true,
   "sideBar": true,
   "skip_h1_title": true,
   "title_cell": "Table of Contents",
   "title_sidebar": "Contents",
   "toc_cell": false,
   "toc_position": {},
   "toc_section_display": true,
   "toc_window_display": false
  }
 },
 "nbformat": 4,
 "nbformat_minor": 2
}
