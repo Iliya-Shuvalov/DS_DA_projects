{
 "cells": [
  {
   "attachments": {},
   "cell_type": "markdown",
   "metadata": {},
   "source": [
    "# Рекомендация тарифов"
   ]
  },
  {
   "attachments": {},
   "cell_type": "markdown",
   "metadata": {},
   "source": [
    "Оператор мобильной связи «Мегалайн» выяснил: многие клиенты пользуются архивными тарифами. Они хотят построить систему, способную проанализировать поведение клиентов и предложить пользователям новый тариф: «Смарт» или «Ультра».\n",
    "\n",
    "В нашем распоряжении данные о поведении клиентов, которые уже перешли на эти тарифы.\n",
    "\n",
    "**Цель работы: построить модель с максимально большим значением accuracy для задачи классификации, которая выберет подходящий тариф**\n",
    "\n",
    "Описание столбцов\n",
    "- сalls — количество звонков,\n",
    "- minutes — суммарная длительность звонков в минутах,\n",
    "- messages — количество sms-сообщений,\n",
    "- mb_used — израсходованный интернет-трафик в Мб,\n",
    "- is_ultra — каким тарифом пользовался в течение месяца («Ультра» — 1, «Смарт» — 0)."
   ]
  },
  {
   "attachments": {},
   "cell_type": "markdown",
   "metadata": {},
   "source": [
    "## Откройте и изучите файл"
   ]
  },
  {
   "attachments": {},
   "cell_type": "markdown",
   "metadata": {},
   "source": [
    "### подключение необходходимых для дальнейшей работы библиотек, модулей, метрик"
   ]
  },
  {
   "cell_type": "code",
   "execution_count": 1,
   "metadata": {},
   "outputs": [],
   "source": [
    "import pandas as pd #Импортируем библиотеку pandas\\n\",\n",
    "from sklearn.tree import DecisionTreeClassifier #импортируем модуль Решающее дерево для задачи классификации\n",
    "from sklearn.ensemble import RandomForestClassifier #импортируем модуль Случайный лес для задачи классификации\n",
    "from sklearn.linear_model import LogisticRegression #импортируем Логистическую регрессию\n",
    "from sklearn.model_selection import train_test_split #импортируем train_test_split\n",
    "from sklearn.metrics import mean_squared_error #импортируем MSE\n",
    "from sklearn.metrics import accuracy_score #импортируем accuracy\n",
    "import time #Импортируем модуль time\n",
    "import matplotlib.pyplot as plt #импортируем библиотеку matplotlib для визуализации гистограмм и графиков"
   ]
  },
  {
   "attachments": {},
   "cell_type": "markdown",
   "metadata": {},
   "source": [
    "### ознакомление с данными"
   ]
  },
  {
   "cell_type": "code",
   "execution_count": 2,
   "metadata": {},
   "outputs": [],
   "source": [
    " #Загрузим данные в df \n",
    "df = pd.read_csv('/datasets/users_behavior.csv')"
   ]
  },
  {
   "cell_type": "code",
   "execution_count": 3,
   "metadata": {},
   "outputs": [
    {
     "data": {
      "text/html": [
       "<div>\n",
       "<style scoped>\n",
       "    .dataframe tbody tr th:only-of-type {\n",
       "        vertical-align: middle;\n",
       "    }\n",
       "\n",
       "    .dataframe tbody tr th {\n",
       "        vertical-align: top;\n",
       "    }\n",
       "\n",
       "    .dataframe thead th {\n",
       "        text-align: right;\n",
       "    }\n",
       "</style>\n",
       "<table border=\"1\" class=\"dataframe\">\n",
       "  <thead>\n",
       "    <tr style=\"text-align: right;\">\n",
       "      <th></th>\n",
       "      <th>calls</th>\n",
       "      <th>minutes</th>\n",
       "      <th>messages</th>\n",
       "      <th>mb_used</th>\n",
       "      <th>is_ultra</th>\n",
       "    </tr>\n",
       "  </thead>\n",
       "  <tbody>\n",
       "    <tr>\n",
       "      <th>0</th>\n",
       "      <td>40.0</td>\n",
       "      <td>311.90</td>\n",
       "      <td>83.0</td>\n",
       "      <td>19915.42</td>\n",
       "      <td>0</td>\n",
       "    </tr>\n",
       "    <tr>\n",
       "      <th>1</th>\n",
       "      <td>85.0</td>\n",
       "      <td>516.75</td>\n",
       "      <td>56.0</td>\n",
       "      <td>22696.96</td>\n",
       "      <td>0</td>\n",
       "    </tr>\n",
       "    <tr>\n",
       "      <th>2</th>\n",
       "      <td>77.0</td>\n",
       "      <td>467.66</td>\n",
       "      <td>86.0</td>\n",
       "      <td>21060.45</td>\n",
       "      <td>0</td>\n",
       "    </tr>\n",
       "    <tr>\n",
       "      <th>3</th>\n",
       "      <td>106.0</td>\n",
       "      <td>745.53</td>\n",
       "      <td>81.0</td>\n",
       "      <td>8437.39</td>\n",
       "      <td>1</td>\n",
       "    </tr>\n",
       "    <tr>\n",
       "      <th>4</th>\n",
       "      <td>66.0</td>\n",
       "      <td>418.74</td>\n",
       "      <td>1.0</td>\n",
       "      <td>14502.75</td>\n",
       "      <td>0</td>\n",
       "    </tr>\n",
       "  </tbody>\n",
       "</table>\n",
       "</div>"
      ],
      "text/plain": [
       "   calls  minutes  messages   mb_used  is_ultra\n",
       "0   40.0   311.90      83.0  19915.42         0\n",
       "1   85.0   516.75      56.0  22696.96         0\n",
       "2   77.0   467.66      86.0  21060.45         0\n",
       "3  106.0   745.53      81.0   8437.39         1\n",
       "4   66.0   418.74       1.0  14502.75         0"
      ]
     },
     "execution_count": 3,
     "metadata": {},
     "output_type": "execute_result"
    }
   ],
   "source": [
    "df.head() #Выведем первые 5 строк df"
   ]
  },
  {
   "cell_type": "code",
   "execution_count": 4,
   "metadata": {},
   "outputs": [
    {
     "name": "stdout",
     "output_type": "stream",
     "text": [
      "<class 'pandas.core.frame.DataFrame'>\n",
      "RangeIndex: 3214 entries, 0 to 3213\n",
      "Data columns (total 5 columns):\n",
      " #   Column    Non-Null Count  Dtype  \n",
      "---  ------    --------------  -----  \n",
      " 0   calls     3214 non-null   float64\n",
      " 1   minutes   3214 non-null   float64\n",
      " 2   messages  3214 non-null   float64\n",
      " 3   mb_used   3214 non-null   float64\n",
      " 4   is_ultra  3214 non-null   int64  \n",
      "dtypes: float64(4), int64(1)\n",
      "memory usage: 125.7 KB\n"
     ]
    }
   ],
   "source": [
    "df.info() #Посмотрим общую информацию о датасете"
   ]
  },
  {
   "attachments": {},
   "cell_type": "markdown",
   "metadata": {},
   "source": [
    "### Вывод по разделу 1\n",
    "\n",
    "В разделе 1 мы подключили необходходимые для дальнейшей работы библиотеки, модули, метрики и ознакомились с данными"
   ]
  },
  {
   "attachments": {},
   "cell_type": "markdown",
   "metadata": {},
   "source": [
    "### Разбивка данных на выборки"
   ]
  },
  {
   "attachments": {},
   "cell_type": "markdown",
   "metadata": {},
   "source": [
    "Разобъём исходные данные на три выборки: обучающая выборка - 60% от всех данных, валидационная выборка - 20% от всех данных, тестовая выборка - 20 % от всех данных)"
   ]
  },
  {
   "cell_type": "code",
   "execution_count": 5,
   "metadata": {},
   "outputs": [],
   "source": [
    "#признаками будут все столбцы датасета, за исключением is_ultra\n",
    "features = df.drop('is_ultra', axis=1)\n",
    "#столбец is_ultra - целевой признак\n",
    "target = df['is_ultra']\n",
    "#Разделим датасет в пропорции 60:40\n",
    "features_train, features_valid_test, target_train, target_valid_test = train_test_split(features,\\\n",
    "target, test_size=0.4, random_state=12345, stratify=target)"
   ]
  },
  {
   "cell_type": "code",
   "execution_count": 6,
   "metadata": {},
   "outputs": [],
   "source": [
    "#Разделим 40% данных ещё раз в пропорции 50:50\n",
    "features_test, features_valid, target_test, target_valid = train_test_split(features_valid_test,\\\n",
    "target_valid_test, test_size=0.5, random_state=12345, stratify=target_valid_test)"
   ]
  },
  {
   "attachments": {},
   "cell_type": "markdown",
   "metadata": {},
   "source": [
    "### Проверка корректности проведенного разделения"
   ]
  },
  {
   "cell_type": "code",
   "execution_count": 7,
   "metadata": {},
   "outputs": [
    {
     "name": "stdout",
     "output_type": "stream",
     "text": [
      "Размер обучающей выборки (признаки): 1928\n",
      "Размер обучающей выборки (целевые значения): 1928\n",
      "Размер валидационной выборки (признаки): 643\n",
      "Размер валидационной выборки (целевые значения): 643\n",
      "Размер тестовой выборки (признаки): 643\n",
      "Размер тестовой выборки (целевые значения): 643\n"
     ]
    }
   ],
   "source": [
    "print('Размер обучающей выборки (признаки):',features_train.shape[0])\n",
    "print('Размер обучающей выборки (целевые значения):',target_train.shape[0])\n",
    "print('Размер валидационной выборки (признаки):',features_valid.shape[0])\n",
    "print('Размер валидационной выборки (целевые значения):',target_valid.shape[0])\n",
    "print('Размер тестовой выборки (признаки):',features_test.shape[0])\n",
    "print('Размер тестовой выборки (целевые значения):',target_test.shape[0])"
   ]
  },
  {
   "attachments": {},
   "cell_type": "markdown",
   "metadata": {},
   "source": [
    "### Вывод по разделу 2\n",
    "\n",
    "В разделе 2 было проведено разделение исходных данных на три выборки:\n",
    "\n",
    "1) Обучающая выборка: features_train (признаки), target_train (целевые значения)\n",
    "\n",
    "2) Валидационная выборка: features_valid (признаки), target_valid (целевые значения)\n",
    "\n",
    "3) Тестовая выборка: features_test (признаки), target_test (целевые значения)"
   ]
  },
  {
   "attachments": {},
   "cell_type": "markdown",
   "metadata": {},
   "source": [
    "## Исследуем модели"
   ]
  },
  {
   "attachments": {},
   "cell_type": "markdown",
   "metadata": {},
   "source": [
    "Для решения задачи классификации используем три модели Решающее дерево, Случайный лес и Логистическую регрессию с различными значениями гиперпараметров. Проведём обучение моделей на обучающей выборке, проверим предсказания на валидационной и тестовой выборке. Определим лучшую модель и набор гиперпараметров, дающий максимальное значение для метрики accuracy"
   ]
  },
  {
   "attachments": {},
   "cell_type": "markdown",
   "metadata": {},
   "source": [
    "### Модель Дерево решений"
   ]
  },
  {
   "cell_type": "code",
   "execution_count": 8,
   "metadata": {},
   "outputs": [
    {
     "name": "stdout",
     "output_type": "stream",
     "text": [
      "Максимальное Accuracy на валидационной выборке: 0.8118195956454122 Глубина дерева: 5\n"
     ]
    }
   ],
   "source": [
    "#Создадим пустой список. В него вложим результаты предсказания модели с различными значениями гиперпараметров\n",
    "accuracy_depth=[]\n",
    "#Лучшее значение accuracy для валидационной выборки\n",
    "best_accuracy_tree_valid = 0\n",
    "#Модель с набором гиперпараметров, показавшая лучший результат на валидационной выборке\n",
    "best_model_tree = None\n",
    "#Проверим качество модели изменяя максимальную глубину дерева от 1 до 10\n",
    "\n",
    "for i in range(1, 11):\n",
    "    model = DecisionTreeClassifier(random_state=12345, max_depth=i) #Создадим пустую модель\n",
    "    model.fit(features_train, target_train) #Обучим модель на обучающей выборке\n",
    "    predictions_valid = model.predict(features_valid) #предскажем значение целевых параметров на валидационной выборке\n",
    "    accuracy_valid = accuracy_score(target_valid, predictions_valid)  #определим accuracy для валидационной выборки\n",
    "    accuracy_depth.append([i,accuracy_valid]) #дополним список значениями: глубина дерева, accuracy для валидационной и тестовой выборки\n",
    "    if accuracy_valid > best_accuracy_tree_valid: #определим модель, дающую лучший результат для валидационной выборки\n",
    "        best_accuracy_tree_valid = accuracy_valid\n",
    "        best_depth_tree_valid = i\n",
    "        best_model_tree = model #запишем модель лучшим набором гиперпараметров\n",
    "        \n",
    "print('Максимальное Accuracy на валидационной выборке:', best_accuracy_tree_valid, 'Глубина дерева:', best_depth_tree_valid)"
   ]
  },
  {
   "cell_type": "code",
   "execution_count": 9,
   "metadata": {
    "scrolled": true
   },
   "outputs": [
    {
     "name": "stdout",
     "output_type": "stream",
     "text": [
      "ТОП десять для модели Решающее дерево\n"
     ]
    },
    {
     "data": {
      "text/html": [
       "<div>\n",
       "<style scoped>\n",
       "    .dataframe tbody tr th:only-of-type {\n",
       "        vertical-align: middle;\n",
       "    }\n",
       "\n",
       "    .dataframe tbody tr th {\n",
       "        vertical-align: top;\n",
       "    }\n",
       "\n",
       "    .dataframe thead th {\n",
       "        text-align: right;\n",
       "    }\n",
       "</style>\n",
       "<table border=\"1\" class=\"dataframe\">\n",
       "  <thead>\n",
       "    <tr style=\"text-align: right;\">\n",
       "      <th></th>\n",
       "      <th>depth</th>\n",
       "      <th>accuracy_valid</th>\n",
       "    </tr>\n",
       "  </thead>\n",
       "  <tbody>\n",
       "    <tr>\n",
       "      <th>0</th>\n",
       "      <td>5</td>\n",
       "      <td>0.811820</td>\n",
       "    </tr>\n",
       "    <tr>\n",
       "      <th>1</th>\n",
       "      <td>10</td>\n",
       "      <td>0.802488</td>\n",
       "    </tr>\n",
       "    <tr>\n",
       "      <th>2</th>\n",
       "      <td>3</td>\n",
       "      <td>0.799378</td>\n",
       "    </tr>\n",
       "    <tr>\n",
       "      <th>3</th>\n",
       "      <td>6</td>\n",
       "      <td>0.799378</td>\n",
       "    </tr>\n",
       "    <tr>\n",
       "      <th>4</th>\n",
       "      <td>7</td>\n",
       "      <td>0.797823</td>\n",
       "    </tr>\n",
       "    <tr>\n",
       "      <th>5</th>\n",
       "      <td>9</td>\n",
       "      <td>0.794712</td>\n",
       "    </tr>\n",
       "    <tr>\n",
       "      <th>6</th>\n",
       "      <td>8</td>\n",
       "      <td>0.783826</td>\n",
       "    </tr>\n",
       "    <tr>\n",
       "      <th>7</th>\n",
       "      <td>4</td>\n",
       "      <td>0.774495</td>\n",
       "    </tr>\n",
       "    <tr>\n",
       "      <th>8</th>\n",
       "      <td>2</td>\n",
       "      <td>0.768274</td>\n",
       "    </tr>\n",
       "    <tr>\n",
       "      <th>9</th>\n",
       "      <td>1</td>\n",
       "      <td>0.729393</td>\n",
       "    </tr>\n",
       "  </tbody>\n",
       "</table>\n",
       "</div>"
      ],
      "text/plain": [
       "   depth  accuracy_valid\n",
       "0      5        0.811820\n",
       "1     10        0.802488\n",
       "2      3        0.799378\n",
       "3      6        0.799378\n",
       "4      7        0.797823\n",
       "5      9        0.794712\n",
       "6      8        0.783826\n",
       "7      4        0.774495\n",
       "8      2        0.768274\n",
       "9      1        0.729393"
      ]
     },
     "metadata": {},
     "output_type": "display_data"
    }
   ],
   "source": [
    "names_column = ['depth', 'accuracy_valid'] #создадим список с названиями колонок для датафрейма\n",
    "df_accuracy_depth_tree = pd.DataFrame(data=accuracy_depth, columns=names_column).sort_values(by='accuracy_valid', ascending = False)\\\n",
    ".reset_index(drop=True) #создадим датафрейм отсортированный по accuracy\n",
    "\n",
    "print('ТОП десять для модели Решающее дерево')\n",
    "display(df_accuracy_depth_tree)"
   ]
  },
  {
   "attachments": {},
   "cell_type": "markdown",
   "metadata": {},
   "source": [
    "Визуализируем полученные для модели данные на графике"
   ]
  },
  {
   "cell_type": "code",
   "execution_count": 10,
   "metadata": {},
   "outputs": [
    {
     "data": {
      "image/png": "[encoded data removed]",
      "text/plain": [
       "<Figure size 1080x360 with 1 Axes>"
      ]
     },
     "metadata": {
      "needs_background": "light"
     },
     "output_type": "display_data"
    }
   ],
   "source": [
    "df_accuracy_depth_tree.sort_values(by='depth', ascending = False).plot(x='depth', y='accuracy_valid', \\\n",
    "style='o-', figsize=(15,5), grid = True, title = 'Модель Дерево решений')\n",
    "plt.xlabel('Глубина дерева')\n",
    "plt.ylabel('accuracy на валидационной выборке')\n",
    "plt.show()"
   ]
  },
  {
   "attachments": {},
   "cell_type": "markdown",
   "metadata": {},
   "source": [
    "### Модель Случайный лес"
   ]
  },
  {
   "cell_type": "code",
   "execution_count": 11,
   "metadata": {
    "scrolled": true
   },
   "outputs": [
    {
     "name": "stdout",
     "output_type": "stream",
     "text": [
      "Максимальное Accuracy на валидационной выборке: 0.8211508553654744 Количество деревьев: 20 Глубина дерева: 6\n"
     ]
    }
   ],
   "source": [
    "accuracy_depth_n_estimators=[] #Создадим пустой список. В него вложим результаты предсказания модели с различными значениями гиперпараметров\n",
    "best_accuracy_forest_valid = 0 #Лучшее значение accuracy для валидационной выборки\n",
    "best_model_forest = None #Сюда запишем модель с максимальным значением accuracy для валидационной выборки\n",
    "\n",
    "for j in range(10,101,10): #Проверим качество модели изменяя количество принимающих решение деревьев от 10 до 100 с шагом 10\n",
    "    for i in range(1, 11): #Проверим качество модели изменяя максимальную глубину дерева от 1 до 10\n",
    "        model = RandomForestClassifier(random_state=12345, n_estimators=j, max_depth=i) #Создадим пустую модель\n",
    "        model.fit(features_train, target_train) #Обучим модель на обучающей выборке\n",
    "        predictions_valid = model.predict(features_valid) #предскажем значение целевых параметров на валидационной выборке\n",
    "        accuracy_valid = accuracy_score(target_valid, predictions_valid) #определим accuracy для валидационной выборки\n",
    "        accuracy_depth_n_estimators.append([j,i,accuracy_valid]) #дополним список значениями: глубина дерева, количество деревьев, accuracy для валидационной выборки\n",
    "        if accuracy_valid > best_accuracy_forest_valid: #определим модель, дающую лучший результат для валидационной выборки\n",
    "            best_accuracy_forest_valid = accuracy_valid\n",
    "            best_n_estimators_valid = j\n",
    "            best_depth_tree_valid = i\n",
    "            best_model_forest = model\n",
    "\n",
    "print('Максимальное Accuracy на валидационной выборке:', best_accuracy_forest_valid,\\\n",
    "      'Количество деревьев:', best_n_estimators_valid, 'Глубина дерева:',best_depth_tree_valid)"
   ]
  },
  {
   "cell_type": "code",
   "execution_count": 12,
   "metadata": {},
   "outputs": [
    {
     "name": "stdout",
     "output_type": "stream",
     "text": [
      "ТОП десять для модели Случайный лес\n"
     ]
    },
    {
     "data": {
      "text/html": [
       "<div>\n",
       "<style scoped>\n",
       "    .dataframe tbody tr th:only-of-type {\n",
       "        vertical-align: middle;\n",
       "    }\n",
       "\n",
       "    .dataframe tbody tr th {\n",
       "        vertical-align: top;\n",
       "    }\n",
       "\n",
       "    .dataframe thead th {\n",
       "        text-align: right;\n",
       "    }\n",
       "</style>\n",
       "<table border=\"1\" class=\"dataframe\">\n",
       "  <thead>\n",
       "    <tr style=\"text-align: right;\">\n",
       "      <th></th>\n",
       "      <th>n_estimators</th>\n",
       "      <th>depth</th>\n",
       "      <th>accuracy_valid</th>\n",
       "    </tr>\n",
       "  </thead>\n",
       "  <tbody>\n",
       "    <tr>\n",
       "      <th>0</th>\n",
       "      <td>70</td>\n",
       "      <td>5</td>\n",
       "      <td>0.821151</td>\n",
       "    </tr>\n",
       "    <tr>\n",
       "      <th>1</th>\n",
       "      <td>90</td>\n",
       "      <td>6</td>\n",
       "      <td>0.821151</td>\n",
       "    </tr>\n",
       "    <tr>\n",
       "      <th>2</th>\n",
       "      <td>20</td>\n",
       "      <td>6</td>\n",
       "      <td>0.821151</td>\n",
       "    </tr>\n",
       "    <tr>\n",
       "      <th>3</th>\n",
       "      <td>100</td>\n",
       "      <td>6</td>\n",
       "      <td>0.819596</td>\n",
       "    </tr>\n",
       "    <tr>\n",
       "      <th>4</th>\n",
       "      <td>50</td>\n",
       "      <td>5</td>\n",
       "      <td>0.819596</td>\n",
       "    </tr>\n",
       "    <tr>\n",
       "      <th>5</th>\n",
       "      <td>80</td>\n",
       "      <td>9</td>\n",
       "      <td>0.819596</td>\n",
       "    </tr>\n",
       "    <tr>\n",
       "      <th>6</th>\n",
       "      <td>80</td>\n",
       "      <td>6</td>\n",
       "      <td>0.819596</td>\n",
       "    </tr>\n",
       "    <tr>\n",
       "      <th>7</th>\n",
       "      <td>80</td>\n",
       "      <td>5</td>\n",
       "      <td>0.819596</td>\n",
       "    </tr>\n",
       "    <tr>\n",
       "      <th>8</th>\n",
       "      <td>40</td>\n",
       "      <td>5</td>\n",
       "      <td>0.818040</td>\n",
       "    </tr>\n",
       "    <tr>\n",
       "      <th>9</th>\n",
       "      <td>60</td>\n",
       "      <td>5</td>\n",
       "      <td>0.818040</td>\n",
       "    </tr>\n",
       "  </tbody>\n",
       "</table>\n",
       "</div>"
      ],
      "text/plain": [
       "   n_estimators  depth  accuracy_valid\n",
       "0            70      5        0.821151\n",
       "1            90      6        0.821151\n",
       "2            20      6        0.821151\n",
       "3           100      6        0.819596\n",
       "4            50      5        0.819596\n",
       "5            80      9        0.819596\n",
       "6            80      6        0.819596\n",
       "7            80      5        0.819596\n",
       "8            40      5        0.818040\n",
       "9            60      5        0.818040"
      ]
     },
     "metadata": {},
     "output_type": "display_data"
    }
   ],
   "source": [
    "names_column_forest = ['n_estimators','depth', 'accuracy_valid'] #создадим список с названиями колонок для датафрейма\n",
    "df_accuracy_depth_forest = pd.DataFrame(data=accuracy_depth_n_estimators, columns=names_column_forest)\\\n",
    ".sort_values(by='accuracy_valid', ascending = False).reset_index(drop=True) #создадим датафрейм отсортированный по accuracy\n",
    "\n",
    "print('ТОП десять для модели Случайный лес')\n",
    "display(df_accuracy_depth_forest.head(10))"
   ]
  },
  {
   "attachments": {},
   "cell_type": "markdown",
   "metadata": {},
   "source": [
    "Визуализируем данные. Лучший результат на валидационной выборке показала модель с 70 независимыми деревьями с глубиной дерева 5. Для этого построим два графика - с фиксированным количеством независимых деревьев - 70 шт и с фиксированной глубиной дерева - 5 "
   ]
  },
  {
   "cell_type": "code",
   "execution_count": 13,
   "metadata": {},
   "outputs": [
    {
     "data": {
      "image/png": "[encoded data removed]",
      "text/plain": [
       "<Figure size 1080x360 with 1 Axes>"
      ]
     },
     "metadata": {
      "needs_background": "light"
     },
     "output_type": "display_data"
    }
   ],
   "source": [
    "df_accuracy_depth_forest.query('n_estimators == 70').sort_values(by='depth', ascending = False).plot(x='depth', y='accuracy_valid', \\\n",
    "style='o-', figsize=(15,5), grid = True, title = 'Модель Случайный лес (n_estimators = 70). Зависимость accuracy от глубины дерева')\n",
    "plt.xlabel('Глубина дерева')\n",
    "plt.ylabel('accuracy на валидационной выборке')\n",
    "plt.show()"
   ]
  },
  {
   "cell_type": "code",
   "execution_count": 14,
   "metadata": {},
   "outputs": [
    {
     "data": {
      "image/png": "[encoded data removed]",
      "text/plain": [
       "<Figure size 1080x360 with 1 Axes>"
      ]
     },
     "metadata": {
      "needs_background": "light"
     },
     "output_type": "display_data"
    }
   ],
   "source": [
    "df_accuracy_depth_forest.query('depth == 5').sort_values(by='n_estimators', ascending = False).plot(x='n_estimators', y='accuracy_valid', \\\n",
    "style='o-', figsize=(15,5), grid = True, \\\n",
    "title = 'Модель Случайный лес (depth = 5). Зависимость accuracy от числа независимых деревьев')\n",
    "plt.xlabel('Число независимых деревьев')\n",
    "plt.ylabel('accuracy на валидационной выборке')\n",
    "plt.show()"
   ]
  },
  {
   "attachments": {},
   "cell_type": "markdown",
   "metadata": {},
   "source": [
    "### Модель Логистическая регрессия"
   ]
  },
  {
   "cell_type": "code",
   "execution_count": 15,
   "metadata": {},
   "outputs": [
    {
     "name": "stdout",
     "output_type": "stream",
     "text": [
      "Максимальное Accuracy на валидационной выборке: 0.7465007776049767 Максимальное число итераций: 100\n"
     ]
    }
   ],
   "source": [
    "accuracy_max_iter=[] #Создадим пустой список. В него вложим результаты предсказания модели с различными значениями гиперпараметров\n",
    "best_accuracy_regression_valid = 0  #Лучшее значение accuracy для валидационной выборки\n",
    "best_model_regression = None #Модель с набором гиперпараметров, показавшая лучший результат на валидационной выборке\n",
    "\n",
    "for i in range(100,501,50): #Лучшее значение accuracy для тестовой выборки\n",
    "    model = LogisticRegression(random_state=12345, solver='lbfgs', max_iter=i) \n",
    "    model.fit(features_train, target_train)\n",
    "    predictions_valid = model.predict(features_valid)\n",
    "    accuracy_valid = accuracy_score(target_valid, predictions_valid)\n",
    "    accuracy_max_iter.append([i,accuracy_valid]) #дополним список значениями: максимальным числом итераций, accuracy для валидационной и тестовой выборки\n",
    "    if accuracy_valid > best_accuracy_regression_valid:\n",
    "        best_accuracy_regression_valid = accuracy_valid\n",
    "        best_max_iter = i\n",
    "        best_model_regression = model #запишем лучшую модель\n",
    "        \n",
    "print('Максимальное Accuracy на валидационной выборке:',best_accuracy_regression_valid, 'Максимальное число итераций:', \\\n",
    "      best_max_iter)"
   ]
  },
  {
   "cell_type": "code",
   "execution_count": 16,
   "metadata": {},
   "outputs": [
    {
     "data": {
      "text/html": [
       "<div>\n",
       "<style scoped>\n",
       "    .dataframe tbody tr th:only-of-type {\n",
       "        vertical-align: middle;\n",
       "    }\n",
       "\n",
       "    .dataframe tbody tr th {\n",
       "        vertical-align: top;\n",
       "    }\n",
       "\n",
       "    .dataframe thead th {\n",
       "        text-align: right;\n",
       "    }\n",
       "</style>\n",
       "<table border=\"1\" class=\"dataframe\">\n",
       "  <thead>\n",
       "    <tr style=\"text-align: right;\">\n",
       "      <th></th>\n",
       "      <th>max_iter</th>\n",
       "      <th>accuracy_valid</th>\n",
       "    </tr>\n",
       "  </thead>\n",
       "  <tbody>\n",
       "    <tr>\n",
       "      <th>0</th>\n",
       "      <td>100</td>\n",
       "      <td>0.746501</td>\n",
       "    </tr>\n",
       "    <tr>\n",
       "      <th>1</th>\n",
       "      <td>150</td>\n",
       "      <td>0.746501</td>\n",
       "    </tr>\n",
       "    <tr>\n",
       "      <th>2</th>\n",
       "      <td>200</td>\n",
       "      <td>0.746501</td>\n",
       "    </tr>\n",
       "    <tr>\n",
       "      <th>3</th>\n",
       "      <td>250</td>\n",
       "      <td>0.746501</td>\n",
       "    </tr>\n",
       "    <tr>\n",
       "      <th>4</th>\n",
       "      <td>300</td>\n",
       "      <td>0.746501</td>\n",
       "    </tr>\n",
       "    <tr>\n",
       "      <th>5</th>\n",
       "      <td>350</td>\n",
       "      <td>0.746501</td>\n",
       "    </tr>\n",
       "    <tr>\n",
       "      <th>6</th>\n",
       "      <td>400</td>\n",
       "      <td>0.746501</td>\n",
       "    </tr>\n",
       "    <tr>\n",
       "      <th>7</th>\n",
       "      <td>450</td>\n",
       "      <td>0.746501</td>\n",
       "    </tr>\n",
       "    <tr>\n",
       "      <th>8</th>\n",
       "      <td>500</td>\n",
       "      <td>0.746501</td>\n",
       "    </tr>\n",
       "  </tbody>\n",
       "</table>\n",
       "</div>"
      ],
      "text/plain": [
       "   max_iter  accuracy_valid\n",
       "0       100        0.746501\n",
       "1       150        0.746501\n",
       "2       200        0.746501\n",
       "3       250        0.746501\n",
       "4       300        0.746501\n",
       "5       350        0.746501\n",
       "6       400        0.746501\n",
       "7       450        0.746501\n",
       "8       500        0.746501"
      ]
     },
     "metadata": {},
     "output_type": "display_data"
    }
   ],
   "source": [
    "names_column_regression = ['max_iter', 'accuracy_valid'] #создадим список с названиями колонок для датафрейма\n",
    "df_accuracy_max_iter = pd.DataFrame(data=accuracy_max_iter, columns=names_column_regression)\\\n",
    ".sort_values(by='accuracy_valid', ascending = False).reset_index(drop=True) #создадим датафрейм отсортированный по accuracy для валидационной выборки в порядке убывания\n",
    "display(df_accuracy_max_iter.head(10))"
   ]
  },
  {
   "attachments": {},
   "cell_type": "markdown",
   "metadata": {},
   "source": [
    "Для гогистической регрессии получили, что результат не зависит от числа итераций (при числе итераций большем или равным 50)"
   ]
  },
  {
   "attachments": {},
   "cell_type": "markdown",
   "metadata": {},
   "source": [
    "### Вывод по разделу 3\n",
    "\n",
    "1) Лучший результат на валидационной выборке (accuracy_valid = 0.821151) показала модель Случайный лес с набором гиперпараметров: количество независимых деревьев - 70, глубина дерева - 5\n",
    "\n",
    "2) Второй результат у модели Дерево решений (accuracy_valid = 0.811820) с глубиной дерева - 5\n",
    "\n",
    "3) модели Логистическая регрессия не удалось превысит долю правильных ответов 0.75. Модель показала наилучший результат на валидационной выборке accuracy_valid = 0.746501. При этом максимальное число итераций (более 50) не повлияло на результат для данной модели."
   ]
  },
  {
   "attachments": {},
   "cell_type": "markdown",
   "metadata": {},
   "source": [
    "## Проверьте модель на тестовой выборке"
   ]
  },
  {
   "attachments": {},
   "cell_type": "markdown",
   "metadata": {},
   "source": [
    "В разделе три были установлены модели, показавшие лучшее accuracy на валидационной выборке:\n",
    "    \n",
    "- Лучшая модель Дерева решений на валидационной выборке записана в best_model_tree\n",
    "\n",
    "- Лучшая модель Случайный лес на валидационной выборке записана в best_model_forest\n",
    "\n",
    "- Лучшая модель Логистической регрессии на валидационной выборке записана в best_model_regression\n",
    "\n",
    "Проверим предсказания моделей на тестовой выборке и время работы выполнения кода для каждой из моделей"
   ]
  },
  {
   "attachments": {},
   "cell_type": "markdown",
   "metadata": {},
   "source": [
    "### модель Дерево решений на тестовой выборке"
   ]
  },
  {
   "cell_type": "code",
   "execution_count": 17,
   "metadata": {},
   "outputs": [
    {
     "name": "stdout",
     "output_type": "stream",
     "text": [
      "accuracy_valid = 0.8118195956454122\n",
      "accuracy_test = 0.7853810264385692\n",
      "Затраченное время 0.0024\n"
     ]
    }
   ],
   "source": [
    "start = time.time() #время старт\n",
    "predictions_tree_test = best_model_tree.predict(features_test) #определим предсказания модели на тестовой выборке\n",
    "end = time.time() #время стоп\n",
    "accuracy_test_tree = accuracy_score(target_test, predictions_tree_test) #определим accuracy для тестовой выборки\n",
    "\n",
    "print('accuracy_valid =',best_accuracy_tree_valid)\n",
    "print('accuracy_test =',accuracy_test_tree)\n",
    "print('Затраченное время', round((end - start),4))"
   ]
  },
  {
   "attachments": {},
   "cell_type": "markdown",
   "metadata": {},
   "source": [
    "### модель Случайный лес на тестовой выборке"
   ]
  },
  {
   "cell_type": "code",
   "execution_count": 18,
   "metadata": {},
   "outputs": [
    {
     "name": "stdout",
     "output_type": "stream",
     "text": [
      "accuracy_valid = 0.8211508553654744\n",
      "accuracy_test = 0.8009331259720062\n",
      "Затраченное время 0.0071\n"
     ]
    }
   ],
   "source": [
    "start = time.time() #время старт\n",
    "predictions_forest_test = best_model_forest.predict(features_test) #определим предсказания модели на тестовой выборке\n",
    "end = time.time() #время стоп\n",
    "accuracy_test_forest = accuracy_score(target_test, predictions_forest_test) #определим accuracy для тестовой выборки\n",
    "\n",
    "print('accuracy_valid =',best_accuracy_forest_valid)\n",
    "print('accuracy_test =',accuracy_test_forest)\n",
    "print('Затраченное время', round((end - start),4))"
   ]
  },
  {
   "attachments": {},
   "cell_type": "markdown",
   "metadata": {},
   "source": [
    "### модель Логистическая регрессия на тестовой выборке"
   ]
  },
  {
   "cell_type": "code",
   "execution_count": 19,
   "metadata": {},
   "outputs": [
    {
     "name": "stdout",
     "output_type": "stream",
     "text": [
      "accuracy_valid = 0.7465007776049767\n",
      "accuracy_test = 0.7387247278382582\n",
      "Затраченное время 0.0021\n"
     ]
    }
   ],
   "source": [
    "start = time.time() #время старт\n",
    "predictions_regression_test = best_model_regression.predict(features_test)  #определим предсказания модели на тестовой выборке\n",
    "end = time.time() #время стоп\n",
    "accuracy_regression_test = accuracy_score(target_test, predictions_regression_test) #определим accuracy для тестовой выборки\n",
    "\n",
    "print('accuracy_valid =',best_accuracy_regression_valid)\n",
    "print('accuracy_test =',accuracy_regression_test)\n",
    "print('Затраченное время', round((end - start),4))"
   ]
  },
  {
   "attachments": {},
   "cell_type": "markdown",
   "metadata": {},
   "source": [
    "### Вывод по разделу 4"
   ]
  },
  {
   "attachments": {},
   "cell_type": "markdown",
   "metadata": {},
   "source": [
    "1) Результат модели Дерева решений на тестовой выборке ухудшился, , но находится в пределах минимальной доли правильных ответов 0.75:\n",
    "\n",
    "   accuracy_valid = 0.8118195956454122\n",
    "   \n",
    "   accuracy_test = 0.7853810264385692\n",
    "   \n",
    "   Время затраченное на выполнение кода составило 0.0032 сек.\n",
    "   \n",
    "2) Результат модели Случайный лес на тестовой выборке также несколько ухудшился, но находится в пределах минимальной доли правильных ответов 0.75:\n",
    "\n",
    "   accuracy_valid = 0.8211508553654744\n",
    "   \n",
    "   accuracy_test = 0.8009331259720062\n",
    "   \n",
    "   Время затраченное на выполнение кода составило 0.0075 сек.\n",
    "   \n",
    "3) Результат модели Случайный лес на тестовой выборке ухудшился. Предсказания модели на тестовой и валидационной выборке меньше минимальной доли правильных ответов 0.75:\n",
    "\n",
    "   accuracy_valid = 0.7465007776049767\n",
    "   \n",
    "   accuracy_test = 0.7387247278382582\n",
    "   \n",
    "   Время затраченное на выполнение кода составило 0.0028 сек."
   ]
  },
  {
   "attachments": {},
   "cell_type": "markdown",
   "metadata": {},
   "source": [
    "## Общий вывод"
   ]
  },
  {
   "attachments": {},
   "cell_type": "markdown",
   "metadata": {},
   "source": [
    "Для целей построения модели для задачи классификации, которая выберет подходящий тариф, было проведено следующее: \n",
    "\n",
    "Проведено ознакомление с данными.\n",
    "\n",
    "Проведено разделение исходных данных на три выборки:\n",
    "- Обучающая выборка: features_train (признаки), target_train (целевые значения)\n",
    "- Валидационная выборка: features_valid (признаки), target_valid (целевые значения)\n",
    "- Тестовая выборка: features_test (признаки), target_test (целевые значения)\n",
    "\n",
    "Для решения задачи классификации использовались три модели: Решающее дерево, Случайный лес и Логистическая регрессия с различными значениями гиперпараметров. Проведено обучение моделей на обучающей выборке, проверка предсказаний на валидационной и тестовой выборке. Лучшая модель и набор гиперпараметров определялась по значению метрики accuracy\n",
    "\n",
    "1) Лучший результат на валидационной выборке (accuracy_valid = 0.8211508553654744) показала модель Случайный лес с набором гиперпараметров: количество независимых деревьев - 70, глубина дерева - 5\n",
    "\n",
    "2) Второй результат у модели Дерево решений (accuracy_valid = 0.8118195956454122) с глубиной дерева - 5\n",
    "\n",
    "3) модели Логистическая регрессия не удалось превысит долю правильных ответов 0.75. Модель показала наилучший результат на валидационной выборке accuracy_valid = 0.7465007776049767. При этом максимальное число итераций не повлияло на результат для данной модели.\n",
    "\n",
    "На тестовой выборке получены следующие результаты:\n",
    "\n",
    "1) Модель Случайный лес, показавшая лучший результат на валидационной выборке (accuracy_valid = 0.8211508553654744) с набором гиперпараметров: количество независимых деревьев - 70, глубина дерева - 5 показала на тестовой выборке результат accuracy_test = 0.8009331259720062. Т.е. качество модели на тестовой выборке ухудшилось, но находится в пределах минимальной доли правильных ответов 0.75\n",
    "\n",
    "2) Модель Дерево решений с глубиной дерева - 5 показала хороший результат на валидационной выборке accuracy_valid =0.8118195956454122 и на тестовой выборке accuracy_test = 0.7853810264385692\n",
    "\n",
    "3) Модели Логистическая регрессия не удалось превысит долю правильных ответов 0.75. Модель показала наилучший результат на валидационной выборке accuracy_valid = 0.7465007776049767 и accuracy_test = 0.7387247278382582 на тестовой выборке.\n",
    "\n",
    "Модель Случайный лес, показавшая лучший результат на валидационной выборке работает, как минимум, в два раза медленнее чем модели Дерево решений и Логистическая регрессия.\n",
    "\n",
    "Исходя из полученных данных самой лучшей моделью для выбора подходящего тарифа является Модель Случайный лес  с набором гиперпараметров: количество независимых деревьев - 70, глубина дерева - 5. Если принципиальное значение будет иметь скорость обработки данных, то лучшей моделью будет модель Дерево решений с глубиной дерева - 5  "
   ]
  },
  {
   "attachments": {},
   "cell_type": "markdown",
   "metadata": {},
   "source": [
    "## Проверка модели на адекватность"
   ]
  },
  {
   "attachments": {},
   "cell_type": "markdown",
   "metadata": {},
   "source": [
    "Определим адекватность моделей сравнивая значения их accuracy с алгоритмом, который предсказывающим постоянный самый распространенный ответ. Найдём каких значений в is_ultra больше 0 или 1:"
   ]
  },
  {
   "cell_type": "code",
   "execution_count": 20,
   "metadata": {},
   "outputs": [
    {
     "name": "stdout",
     "output_type": "stream",
     "text": [
      "количество значений 0 в is_ultra = 2229\n",
      "количество значений 1 в is_ultra = 985\n"
     ]
    }
   ],
   "source": [
    "df_test = df.copy() #используем копию df\n",
    "print('количество значений 0 в is_ultra =', len(df_test.query('is_ultra == 0')))\n",
    "print('количество значений 1 в is_ultra =', len(df_test.query('is_ultra == 1')))"
   ]
  },
  {
   "cell_type": "code",
   "execution_count": 21,
   "metadata": {},
   "outputs": [],
   "source": [
    "df_test['0_column'] = df_test['is_ultra']*0 #создадим столбец с нулями"
   ]
  },
  {
   "cell_type": "code",
   "execution_count": 22,
   "metadata": {},
   "outputs": [],
   "source": [
    "target_test = df_test['is_ultra'] #значения с которыми будем сравнивать предсказания нашей тревиальной модели\n",
    "predictions_test = df_test['0_column'] #предсказания нашей тревиальной модели"
   ]
  },
  {
   "cell_type": "code",
   "execution_count": 23,
   "metadata": {},
   "outputs": [
    {
     "name": "stdout",
     "output_type": "stream",
     "text": [
      "accuracy для алгоритма замены предсказаний на 0 0.693528313627878\n"
     ]
    }
   ],
   "source": [
    "print('accuracy для алгоритма замены предсказаний на 0',accuracy_score(target_test, predictions_test))"
   ]
  },
  {
   "attachments": {},
   "cell_type": "markdown",
   "metadata": {},
   "source": [
    "Таким образом, все три модели показали значение accuracy выше чем у тревиальной модели, которая предсказывает самое распространенное постоянное значение. В данном значении адекватности все три модели: Случайный лес, Дерево решений и Логистическая регрессия являются адекватными"
   ]
  }
 ],
 "metadata": {
  "ExecuteTimeLog": [
   {
    "duration": 593,
    "start_time": "2022-11-17T08:23:57.635Z"
   },
   {
    "duration": 42,
    "start_time": "2022-11-17T08:24:14.903Z"
   },
   {
    "duration": 3,
    "start_time": "2022-11-17T08:24:46.657Z"
   },
   {
    "duration": 31,
    "start_time": "2022-11-17T08:24:47.337Z"
   },
   {
    "duration": 10,
    "start_time": "2022-11-17T08:24:48.080Z"
   },
   {
    "duration": 9,
    "start_time": "2022-11-17T08:25:01.139Z"
   },
   {
    "duration": 12,
    "start_time": "2022-11-17T08:25:07.385Z"
   },
   {
    "duration": 734,
    "start_time": "2022-11-17T08:26:25.926Z"
   },
   {
    "duration": 30,
    "start_time": "2022-11-17T08:26:27.293Z"
   },
   {
    "duration": 9,
    "start_time": "2022-11-17T08:26:28.140Z"
   },
   {
    "duration": 12,
    "start_time": "2022-11-17T08:26:30.662Z"
   },
   {
    "duration": 7,
    "start_time": "2022-11-17T08:34:23.343Z"
   },
   {
    "duration": 33,
    "start_time": "2022-11-17T08:35:26.492Z"
   },
   {
    "duration": 50,
    "start_time": "2022-11-17T08:38:24.943Z"
   },
   {
    "duration": 41,
    "start_time": "2022-11-17T08:38:36.734Z"
   },
   {
    "duration": 66,
    "start_time": "2022-11-17T08:38:46.422Z"
   },
   {
    "duration": 206,
    "start_time": "2022-11-17T08:38:53.662Z"
   },
   {
    "duration": 1208,
    "start_time": "2022-11-17T08:39:11.256Z"
   },
   {
    "duration": 31,
    "start_time": "2022-11-17T08:39:12.466Z"
   },
   {
    "duration": 17,
    "start_time": "2022-11-17T08:39:12.499Z"
   },
   {
    "duration": 13,
    "start_time": "2022-11-17T08:39:12.518Z"
   },
   {
    "duration": 8,
    "start_time": "2022-11-17T08:39:12.532Z"
   },
   {
    "duration": 207,
    "start_time": "2022-11-17T08:39:12.542Z"
   },
   {
    "duration": 184,
    "start_time": "2022-11-17T08:40:09.265Z"
   },
   {
    "duration": 197,
    "start_time": "2022-11-17T08:40:24.414Z"
   },
   {
    "duration": 70,
    "start_time": "2022-11-17T08:41:52.086Z"
   },
   {
    "duration": 6,
    "start_time": "2022-11-17T08:48:21.958Z"
   },
   {
    "duration": 15,
    "start_time": "2022-11-17T08:49:12.867Z"
   },
   {
    "duration": 4,
    "start_time": "2022-11-17T08:53:41.129Z"
   },
   {
    "duration": 116,
    "start_time": "2022-11-17T09:20:16.124Z"
   },
   {
    "duration": 17,
    "start_time": "2022-11-17T10:23:02.045Z"
   },
   {
    "duration": 16,
    "start_time": "2022-11-17T10:53:05.447Z"
   },
   {
    "duration": 6,
    "start_time": "2022-11-17T10:57:59.270Z"
   },
   {
    "duration": 7,
    "start_time": "2022-11-17T10:58:33.545Z"
   },
   {
    "duration": 1072,
    "start_time": "2022-11-17T10:58:39.692Z"
   },
   {
    "duration": 32,
    "start_time": "2022-11-17T10:58:40.767Z"
   },
   {
    "duration": 18,
    "start_time": "2022-11-17T10:58:40.802Z"
   },
   {
    "duration": 12,
    "start_time": "2022-11-17T10:58:40.821Z"
   },
   {
    "duration": 7,
    "start_time": "2022-11-17T10:58:40.835Z"
   },
   {
    "duration": 121,
    "start_time": "2022-11-17T10:58:40.844Z"
   },
   {
    "duration": 18,
    "start_time": "2022-11-17T11:00:31.684Z"
   },
   {
    "duration": 18,
    "start_time": "2022-11-17T11:04:19.925Z"
   },
   {
    "duration": 12,
    "start_time": "2022-11-17T11:18:46.389Z"
   },
   {
    "duration": 12,
    "start_time": "2022-11-17T11:19:10.368Z"
   },
   {
    "duration": 4,
    "start_time": "2022-11-17T11:20:42.832Z"
   },
   {
    "duration": 11,
    "start_time": "2022-11-17T11:20:44.415Z"
   },
   {
    "duration": 7,
    "start_time": "2022-11-17T11:20:47.706Z"
   },
   {
    "duration": 19,
    "start_time": "2022-11-17T11:20:50.112Z"
   },
   {
    "duration": 1059,
    "start_time": "2022-11-17T11:21:05.508Z"
   },
   {
    "duration": 31,
    "start_time": "2022-11-17T11:21:06.569Z"
   },
   {
    "duration": 18,
    "start_time": "2022-11-17T11:21:06.602Z"
   },
   {
    "duration": 19,
    "start_time": "2022-11-17T11:21:06.622Z"
   },
   {
    "duration": 13,
    "start_time": "2022-11-17T11:21:06.643Z"
   },
   {
    "duration": 128,
    "start_time": "2022-11-17T11:21:06.658Z"
   },
   {
    "duration": 13,
    "start_time": "2022-11-17T11:37:29.421Z"
   },
   {
    "duration": 1156,
    "start_time": "2022-11-17T11:38:09.123Z"
   },
   {
    "duration": 30,
    "start_time": "2022-11-17T11:38:10.281Z"
   },
   {
    "duration": 16,
    "start_time": "2022-11-17T11:38:10.313Z"
   },
   {
    "duration": 30,
    "start_time": "2022-11-17T11:38:10.332Z"
   },
   {
    "duration": 33,
    "start_time": "2022-11-17T11:38:10.363Z"
   },
   {
    "duration": 89,
    "start_time": "2022-11-17T11:38:10.397Z"
   },
   {
    "duration": 86,
    "start_time": "2022-11-17T11:38:56.195Z"
   },
   {
    "duration": 133,
    "start_time": "2022-11-17T11:39:29.579Z"
   },
   {
    "duration": 1081,
    "start_time": "2022-11-17T11:39:35.808Z"
   },
   {
    "duration": 34,
    "start_time": "2022-11-17T11:39:36.891Z"
   },
   {
    "duration": 17,
    "start_time": "2022-11-17T11:39:36.926Z"
   },
   {
    "duration": 23,
    "start_time": "2022-11-17T11:39:36.946Z"
   },
   {
    "duration": 19,
    "start_time": "2022-11-17T11:39:36.972Z"
   },
   {
    "duration": 134,
    "start_time": "2022-11-17T11:39:36.992Z"
   },
   {
    "duration": 121,
    "start_time": "2022-11-17T11:40:59.033Z"
   },
   {
    "duration": 4,
    "start_time": "2022-11-17T11:41:13.644Z"
   },
   {
    "duration": 81,
    "start_time": "2022-11-17T11:49:27.200Z"
   },
   {
    "duration": 17259,
    "start_time": "2022-11-17T11:49:34.483Z"
   },
   {
    "duration": 16204,
    "start_time": "2022-11-17T11:55:34.453Z"
   },
   {
    "duration": 3,
    "start_time": "2022-11-17T12:15:41.821Z"
   },
   {
    "duration": 704,
    "start_time": "2022-11-17T12:18:38.773Z"
   },
   {
    "duration": 221,
    "start_time": "2022-11-17T12:19:16.155Z"
   },
   {
    "duration": 247,
    "start_time": "2022-11-17T12:19:24.215Z"
   },
   {
    "duration": 3141,
    "start_time": "2022-11-17T12:25:45.634Z"
   },
   {
    "duration": 2182,
    "start_time": "2022-11-17T12:26:58.981Z"
   },
   {
    "duration": 1213,
    "start_time": "2022-11-19T11:12:00.997Z"
   },
   {
    "duration": 54,
    "start_time": "2022-11-19T11:12:02.213Z"
   },
   {
    "duration": 20,
    "start_time": "2022-11-19T11:12:02.274Z"
   },
   {
    "duration": 18,
    "start_time": "2022-11-19T11:12:02.297Z"
   },
   {
    "duration": 19,
    "start_time": "2022-11-19T11:12:02.318Z"
   },
   {
    "duration": 13,
    "start_time": "2022-11-19T11:12:02.339Z"
   },
   {
    "duration": 87,
    "start_time": "2022-11-19T11:12:02.355Z"
   },
   {
    "duration": 11467,
    "start_time": "2022-11-19T11:12:02.444Z"
   },
   {
    "duration": 308,
    "start_time": "2022-11-19T11:12:13.914Z"
   },
   {
    "duration": 1223,
    "start_time": "2022-11-19T11:14:51.745Z"
   },
   {
    "duration": 37,
    "start_time": "2022-11-19T11:14:52.970Z"
   },
   {
    "duration": 17,
    "start_time": "2022-11-19T11:14:53.009Z"
   },
   {
    "duration": 61,
    "start_time": "2022-11-19T11:14:53.028Z"
   },
   {
    "duration": 9,
    "start_time": "2022-11-19T11:14:53.091Z"
   },
   {
    "duration": 28,
    "start_time": "2022-11-19T11:14:53.101Z"
   },
   {
    "duration": 55,
    "start_time": "2022-11-19T11:14:53.131Z"
   },
   {
    "duration": 85,
    "start_time": "2022-11-19T11:14:53.188Z"
   },
   {
    "duration": 13019,
    "start_time": "2022-11-19T11:14:53.281Z"
   },
   {
    "duration": 361,
    "start_time": "2022-11-19T11:15:06.302Z"
   },
   {
    "duration": 5,
    "start_time": "2022-11-19T11:16:45.807Z"
   },
   {
    "duration": 1129,
    "start_time": "2022-11-19T11:17:37.084Z"
   },
   {
    "duration": 31,
    "start_time": "2022-11-19T11:17:38.215Z"
   },
   {
    "duration": 24,
    "start_time": "2022-11-19T11:17:38.248Z"
   },
   {
    "duration": 15,
    "start_time": "2022-11-19T11:17:38.276Z"
   },
   {
    "duration": 10,
    "start_time": "2022-11-19T11:17:38.293Z"
   },
   {
    "duration": 11,
    "start_time": "2022-11-19T11:17:38.305Z"
   },
   {
    "duration": 6,
    "start_time": "2022-11-19T11:17:38.318Z"
   },
   {
    "duration": 66,
    "start_time": "2022-11-19T11:17:38.359Z"
   },
   {
    "duration": 12974,
    "start_time": "2022-11-19T11:17:38.427Z"
   },
   {
    "duration": 344,
    "start_time": "2022-11-19T11:17:51.404Z"
   },
   {
    "duration": 1312,
    "start_time": "2022-11-19T11:18:30.442Z"
   },
   {
    "duration": 49,
    "start_time": "2022-11-19T11:18:31.757Z"
   },
   {
    "duration": 16,
    "start_time": "2022-11-19T11:18:31.808Z"
   },
   {
    "duration": 12,
    "start_time": "2022-11-19T11:18:31.826Z"
   },
   {
    "duration": 9,
    "start_time": "2022-11-19T11:18:31.840Z"
   },
   {
    "duration": 32,
    "start_time": "2022-11-19T11:18:31.851Z"
   },
   {
    "duration": 17,
    "start_time": "2022-11-19T11:18:31.886Z"
   },
   {
    "duration": 108,
    "start_time": "2022-11-19T11:18:31.905Z"
   },
   {
    "duration": 15806,
    "start_time": "2022-11-19T11:18:32.015Z"
   },
   {
    "duration": 254,
    "start_time": "2022-11-19T11:18:47.823Z"
   },
   {
    "duration": 1290,
    "start_time": "2022-11-19T11:23:27.418Z"
   },
   {
    "duration": 33,
    "start_time": "2022-11-19T11:23:28.710Z"
   },
   {
    "duration": 23,
    "start_time": "2022-11-19T11:23:28.749Z"
   },
   {
    "duration": 21,
    "start_time": "2022-11-19T11:23:28.774Z"
   },
   {
    "duration": 11,
    "start_time": "2022-11-19T11:23:28.798Z"
   },
   {
    "duration": 7,
    "start_time": "2022-11-19T11:23:28.811Z"
   },
   {
    "duration": 39,
    "start_time": "2022-11-19T11:23:28.820Z"
   },
   {
    "duration": 93,
    "start_time": "2022-11-19T11:23:28.861Z"
   },
   {
    "duration": 15144,
    "start_time": "2022-11-19T11:23:28.958Z"
   },
   {
    "duration": 245,
    "start_time": "2022-11-19T11:23:44.103Z"
   },
   {
    "duration": 1168,
    "start_time": "2022-11-19T11:24:56.593Z"
   },
   {
    "duration": 31,
    "start_time": "2022-11-19T11:24:57.764Z"
   },
   {
    "duration": 22,
    "start_time": "2022-11-19T11:24:57.797Z"
   },
   {
    "duration": 32,
    "start_time": "2022-11-19T11:24:57.823Z"
   },
   {
    "duration": 10,
    "start_time": "2022-11-19T11:24:57.857Z"
   },
   {
    "duration": 7,
    "start_time": "2022-11-19T11:24:57.870Z"
   },
   {
    "duration": 16,
    "start_time": "2022-11-19T11:24:57.879Z"
   },
   {
    "duration": 118,
    "start_time": "2022-11-19T11:24:57.898Z"
   },
   {
    "duration": 15850,
    "start_time": "2022-11-19T11:24:58.019Z"
   },
   {
    "duration": 226,
    "start_time": "2022-11-19T11:25:13.873Z"
   },
   {
    "duration": 107,
    "start_time": "2022-11-19T11:30:51.777Z"
   },
   {
    "duration": 72,
    "start_time": "2022-11-19T11:30:54.303Z"
   },
   {
    "duration": 3,
    "start_time": "2022-11-19T11:30:55.638Z"
   },
   {
    "duration": 48,
    "start_time": "2022-11-19T11:37:22.574Z"
   },
   {
    "duration": 8,
    "start_time": "2022-11-19T11:37:31.445Z"
   },
   {
    "duration": 10,
    "start_time": "2022-11-19T11:38:42.099Z"
   },
   {
    "duration": 10,
    "start_time": "2022-11-19T11:39:41.003Z"
   },
   {
    "duration": 17418,
    "start_time": "2022-11-19T11:46:30.187Z"
   },
   {
    "duration": 17,
    "start_time": "2022-11-19T11:46:48.792Z"
   },
   {
    "duration": 9,
    "start_time": "2022-11-19T11:47:18.771Z"
   },
   {
    "duration": 16224,
    "start_time": "2022-11-19T11:48:04.238Z"
   },
   {
    "duration": 25,
    "start_time": "2022-11-19T11:48:23.743Z"
   },
   {
    "duration": 30,
    "start_time": "2022-11-19T11:50:07.011Z"
   },
   {
    "duration": 9,
    "start_time": "2022-11-19T11:50:34.139Z"
   },
   {
    "duration": 1281,
    "start_time": "2022-11-19T11:52:32.533Z"
   },
   {
    "duration": 31,
    "start_time": "2022-11-19T11:52:33.816Z"
   },
   {
    "duration": 62,
    "start_time": "2022-11-19T11:52:33.849Z"
   },
   {
    "duration": 34,
    "start_time": "2022-11-19T11:52:33.913Z"
   },
   {
    "duration": 69,
    "start_time": "2022-11-19T11:52:33.949Z"
   },
   {
    "duration": 30,
    "start_time": "2022-11-19T11:52:34.019Z"
   },
   {
    "duration": 63,
    "start_time": "2022-11-19T11:52:34.051Z"
   },
   {
    "duration": 156,
    "start_time": "2022-11-19T11:52:34.116Z"
   },
   {
    "duration": 0,
    "start_time": "2022-11-19T11:52:34.276Z"
   },
   {
    "duration": 0,
    "start_time": "2022-11-19T11:52:34.278Z"
   },
   {
    "duration": 0,
    "start_time": "2022-11-19T11:52:34.280Z"
   },
   {
    "duration": 0,
    "start_time": "2022-11-19T11:52:34.282Z"
   },
   {
    "duration": 1404,
    "start_time": "2022-11-19T11:53:41.645Z"
   },
   {
    "duration": 63,
    "start_time": "2022-11-19T11:53:43.053Z"
   },
   {
    "duration": 24,
    "start_time": "2022-11-19T11:53:43.119Z"
   },
   {
    "duration": 61,
    "start_time": "2022-11-19T11:53:43.146Z"
   },
   {
    "duration": 33,
    "start_time": "2022-11-19T11:53:43.211Z"
   },
   {
    "duration": 64,
    "start_time": "2022-11-19T11:53:43.246Z"
   },
   {
    "duration": 27,
    "start_time": "2022-11-19T11:53:43.312Z"
   },
   {
    "duration": 177,
    "start_time": "2022-11-19T11:53:43.341Z"
   },
   {
    "duration": 11,
    "start_time": "2022-11-19T11:53:43.521Z"
   },
   {
    "duration": 16900,
    "start_time": "2022-11-19T11:53:43.535Z"
   },
   {
    "duration": 23,
    "start_time": "2022-11-19T11:54:00.437Z"
   },
   {
    "duration": 256,
    "start_time": "2022-11-19T11:54:00.462Z"
   },
   {
    "duration": 17068,
    "start_time": "2022-11-19T11:57:43.174Z"
   },
   {
    "duration": 136,
    "start_time": "2022-11-19T11:59:17.886Z"
   },
   {
    "duration": 12,
    "start_time": "2022-11-19T11:59:33.886Z"
   },
   {
    "duration": 14,
    "start_time": "2022-11-19T12:00:23.620Z"
   },
   {
    "duration": 109,
    "start_time": "2022-11-19T12:04:13.882Z"
   },
   {
    "duration": 15,
    "start_time": "2022-11-19T12:04:20.094Z"
   },
   {
    "duration": 1279,
    "start_time": "2022-11-19T12:04:32.400Z"
   },
   {
    "duration": 39,
    "start_time": "2022-11-19T12:04:33.681Z"
   },
   {
    "duration": 29,
    "start_time": "2022-11-19T12:04:33.724Z"
   },
   {
    "duration": 17,
    "start_time": "2022-11-19T12:04:33.756Z"
   },
   {
    "duration": 30,
    "start_time": "2022-11-19T12:04:33.775Z"
   },
   {
    "duration": 13,
    "start_time": "2022-11-19T12:04:33.808Z"
   },
   {
    "duration": 7,
    "start_time": "2022-11-19T12:04:33.824Z"
   },
   {
    "duration": 130,
    "start_time": "2022-11-19T12:04:33.833Z"
   },
   {
    "duration": 16,
    "start_time": "2022-11-19T12:04:33.966Z"
   },
   {
    "duration": 17544,
    "start_time": "2022-11-19T12:04:33.986Z"
   },
   {
    "duration": 22,
    "start_time": "2022-11-19T12:04:51.533Z"
   },
   {
    "duration": 271,
    "start_time": "2022-11-19T12:04:51.558Z"
   },
   {
    "duration": 151,
    "start_time": "2022-11-19T12:09:22.952Z"
   },
   {
    "duration": 92,
    "start_time": "2022-11-19T12:09:41.015Z"
   },
   {
    "duration": 27,
    "start_time": "2022-11-19T12:11:39.444Z"
   },
   {
    "duration": 141,
    "start_time": "2022-11-19T12:12:29.131Z"
   },
   {
    "duration": 11,
    "start_time": "2022-11-19T12:12:35.221Z"
   },
   {
    "duration": 17252,
    "start_time": "2022-11-19T12:25:05.143Z"
   },
   {
    "duration": 21,
    "start_time": "2022-11-19T12:26:16.754Z"
   },
   {
    "duration": 1588,
    "start_time": "2022-11-19T18:36:54.851Z"
   },
   {
    "duration": 125,
    "start_time": "2022-11-19T18:36:56.441Z"
   },
   {
    "duration": 15,
    "start_time": "2022-11-19T18:36:56.568Z"
   },
   {
    "duration": 14,
    "start_time": "2022-11-19T18:36:56.585Z"
   },
   {
    "duration": 7,
    "start_time": "2022-11-19T18:36:56.601Z"
   },
   {
    "duration": 7,
    "start_time": "2022-11-19T18:36:56.610Z"
   },
   {
    "duration": 8,
    "start_time": "2022-11-19T18:36:56.618Z"
   },
   {
    "duration": 86,
    "start_time": "2022-11-19T18:36:56.627Z"
   },
   {
    "duration": 9,
    "start_time": "2022-11-19T18:36:56.716Z"
   },
   {
    "duration": 13980,
    "start_time": "2022-11-19T18:36:56.727Z"
   },
   {
    "duration": 14,
    "start_time": "2022-11-19T18:37:10.709Z"
   },
   {
    "duration": 192,
    "start_time": "2022-11-19T18:37:10.725Z"
   },
   {
    "duration": 13,
    "start_time": "2022-11-19T18:45:15.983Z"
   },
   {
    "duration": 1123,
    "start_time": "2022-11-20T04:37:12.330Z"
   },
   {
    "duration": 31,
    "start_time": "2022-11-20T04:38:06.689Z"
   },
   {
    "duration": 17,
    "start_time": "2022-11-20T04:38:07.308Z"
   },
   {
    "duration": 12,
    "start_time": "2022-11-20T04:38:22.105Z"
   },
   {
    "duration": 9,
    "start_time": "2022-11-20T04:53:06.736Z"
   },
   {
    "duration": 102,
    "start_time": "2022-11-20T04:58:01.043Z"
   },
   {
    "duration": 7,
    "start_time": "2022-11-20T04:58:53.302Z"
   },
   {
    "duration": 5,
    "start_time": "2022-11-20T04:58:53.835Z"
   },
   {
    "duration": 6,
    "start_time": "2022-11-20T04:58:56.963Z"
   },
   {
    "duration": 16,
    "start_time": "2022-11-20T04:59:02.157Z"
   },
   {
    "duration": 67,
    "start_time": "2022-11-20T04:59:29.148Z"
   },
   {
    "duration": 9,
    "start_time": "2022-11-20T04:59:40.140Z"
   },
   {
    "duration": 9,
    "start_time": "2022-11-20T05:05:23.657Z"
   },
   {
    "duration": 41,
    "start_time": "2022-11-20T05:07:23.112Z"
   },
   {
    "duration": 441,
    "start_time": "2022-11-20T05:07:55.455Z"
   },
   {
    "duration": 48,
    "start_time": "2022-11-20T05:08:00.656Z"
   },
   {
    "duration": 245,
    "start_time": "2022-11-20T05:08:11.798Z"
   },
   {
    "duration": 126,
    "start_time": "2022-11-20T05:08:26.863Z"
   },
   {
    "duration": 123,
    "start_time": "2022-11-20T05:09:00.733Z"
   },
   {
    "duration": 127,
    "start_time": "2022-11-20T05:09:09.453Z"
   },
   {
    "duration": 291,
    "start_time": "2022-11-20T05:09:43.580Z"
   },
   {
    "duration": 166,
    "start_time": "2022-11-20T05:12:07.457Z"
   },
   {
    "duration": 167,
    "start_time": "2022-11-20T05:12:43.264Z"
   },
   {
    "duration": 168,
    "start_time": "2022-11-20T05:15:35.612Z"
   },
   {
    "duration": 160,
    "start_time": "2022-11-20T05:15:51.012Z"
   },
   {
    "duration": 173,
    "start_time": "2022-11-20T05:16:45.334Z"
   },
   {
    "duration": 13558,
    "start_time": "2022-11-20T05:20:01.282Z"
   },
   {
    "duration": 71,
    "start_time": "2022-11-20T05:21:39.960Z"
   },
   {
    "duration": 1350,
    "start_time": "2022-11-20T05:23:26.248Z"
   },
   {
    "duration": 33,
    "start_time": "2022-11-20T05:23:27.600Z"
   },
   {
    "duration": 16,
    "start_time": "2022-11-20T05:23:27.635Z"
   },
   {
    "duration": 14,
    "start_time": "2022-11-20T05:23:27.653Z"
   },
   {
    "duration": 8,
    "start_time": "2022-11-20T05:23:27.669Z"
   },
   {
    "duration": 6,
    "start_time": "2022-11-20T05:23:27.679Z"
   },
   {
    "duration": 7,
    "start_time": "2022-11-20T05:23:27.687Z"
   },
   {
    "duration": 105,
    "start_time": "2022-11-20T05:23:27.696Z"
   },
   {
    "duration": 10,
    "start_time": "2022-11-20T05:23:27.803Z"
   },
   {
    "duration": 203,
    "start_time": "2022-11-20T05:23:27.815Z"
   },
   {
    "duration": 13345,
    "start_time": "2022-11-20T05:23:28.020Z"
   },
   {
    "duration": 120,
    "start_time": "2022-11-20T05:23:41.367Z"
   },
   {
    "duration": 0,
    "start_time": "2022-11-20T05:23:41.489Z"
   },
   {
    "duration": 13277,
    "start_time": "2022-11-20T05:27:05.922Z"
   },
   {
    "duration": 15,
    "start_time": "2022-11-20T05:28:27.010Z"
   },
   {
    "duration": 10,
    "start_time": "2022-11-20T05:28:41.033Z"
   },
   {
    "duration": 11,
    "start_time": "2022-11-20T05:29:17.571Z"
   },
   {
    "duration": 11,
    "start_time": "2022-11-20T05:30:36.847Z"
   },
   {
    "duration": 9,
    "start_time": "2022-11-20T05:33:31.019Z"
   },
   {
    "duration": 11,
    "start_time": "2022-11-20T05:34:03.986Z"
   },
   {
    "duration": 186,
    "start_time": "2022-11-20T05:35:28.825Z"
   },
   {
    "duration": 167,
    "start_time": "2022-11-20T05:36:42.949Z"
   },
   {
    "duration": 166,
    "start_time": "2022-11-20T05:37:12.780Z"
   },
   {
    "duration": 265,
    "start_time": "2022-11-20T05:39:54.859Z"
   },
   {
    "duration": 181,
    "start_time": "2022-11-20T05:40:44.495Z"
   },
   {
    "duration": 59,
    "start_time": "2022-11-20T09:56:10.654Z"
   },
   {
    "duration": 1558,
    "start_time": "2022-11-20T09:56:16.548Z"
   },
   {
    "duration": 32,
    "start_time": "2022-11-20T09:56:18.108Z"
   },
   {
    "duration": 18,
    "start_time": "2022-11-20T09:56:18.142Z"
   },
   {
    "duration": 31,
    "start_time": "2022-11-20T09:56:18.167Z"
   },
   {
    "duration": 27,
    "start_time": "2022-11-20T09:56:18.201Z"
   },
   {
    "duration": 31,
    "start_time": "2022-11-20T09:56:18.231Z"
   },
   {
    "duration": 37,
    "start_time": "2022-11-20T09:56:18.267Z"
   },
   {
    "duration": 100,
    "start_time": "2022-11-20T09:56:18.306Z"
   },
   {
    "duration": 12,
    "start_time": "2022-11-20T09:56:18.408Z"
   },
   {
    "duration": 158,
    "start_time": "2022-11-20T09:56:18.423Z"
   },
   {
    "duration": 0,
    "start_time": "2022-11-20T09:56:18.583Z"
   },
   {
    "duration": 0,
    "start_time": "2022-11-20T09:56:18.584Z"
   },
   {
    "duration": 0,
    "start_time": "2022-11-20T09:56:18.586Z"
   },
   {
    "duration": 0,
    "start_time": "2022-11-20T09:56:18.587Z"
   },
   {
    "duration": 0,
    "start_time": "2022-11-20T09:56:18.589Z"
   },
   {
    "duration": 208,
    "start_time": "2022-11-20T09:58:45.989Z"
   },
   {
    "duration": 16299,
    "start_time": "2022-11-20T09:59:01.334Z"
   },
   {
    "duration": 29,
    "start_time": "2022-11-20T09:59:26.852Z"
   },
   {
    "duration": 287,
    "start_time": "2022-11-20T09:59:31.012Z"
   },
   {
    "duration": 286,
    "start_time": "2022-11-20T09:59:32.786Z"
   },
   {
    "duration": 353,
    "start_time": "2022-11-20T10:03:37.882Z"
   },
   {
    "duration": 388,
    "start_time": "2022-11-20T10:03:48.805Z"
   },
   {
    "duration": 393,
    "start_time": "2022-11-20T10:05:12.708Z"
   },
   {
    "duration": 7,
    "start_time": "2022-11-20T10:09:14.309Z"
   },
   {
    "duration": 1385,
    "start_time": "2022-11-20T10:09:19.094Z"
   },
   {
    "duration": 32,
    "start_time": "2022-11-20T10:09:20.482Z"
   },
   {
    "duration": 16,
    "start_time": "2022-11-20T10:09:20.515Z"
   },
   {
    "duration": 28,
    "start_time": "2022-11-20T10:09:20.533Z"
   },
   {
    "duration": 37,
    "start_time": "2022-11-20T10:09:20.563Z"
   },
   {
    "duration": 31,
    "start_time": "2022-11-20T10:09:20.603Z"
   },
   {
    "duration": 16,
    "start_time": "2022-11-20T10:09:20.637Z"
   },
   {
    "duration": 102,
    "start_time": "2022-11-20T10:09:20.655Z"
   },
   {
    "duration": 16,
    "start_time": "2022-11-20T10:09:20.761Z"
   },
   {
    "duration": 217,
    "start_time": "2022-11-20T10:09:20.780Z"
   },
   {
    "duration": 15163,
    "start_time": "2022-11-20T10:09:21.000Z"
   },
   {
    "duration": 16,
    "start_time": "2022-11-20T10:09:36.164Z"
   },
   {
    "duration": 204,
    "start_time": "2022-11-20T10:09:36.182Z"
   },
   {
    "duration": 243,
    "start_time": "2022-11-20T10:09:36.388Z"
   },
   {
    "duration": 175,
    "start_time": "2022-11-20T10:09:36.632Z"
   },
   {
    "duration": 302,
    "start_time": "2022-11-20T10:11:18.394Z"
   },
   {
    "duration": 429,
    "start_time": "2022-11-20T10:11:19.906Z"
   },
   {
    "duration": 360,
    "start_time": "2022-11-20T10:11:59.070Z"
   },
   {
    "duration": 461,
    "start_time": "2022-11-20T10:12:34.489Z"
   },
   {
    "duration": 130,
    "start_time": "2022-11-20T10:14:48.893Z"
   },
   {
    "duration": 25,
    "start_time": "2022-11-20T10:16:08.691Z"
   },
   {
    "duration": 12,
    "start_time": "2022-11-20T10:16:20.076Z"
   },
   {
    "duration": 164,
    "start_time": "2022-11-20T10:17:44.290Z"
   },
   {
    "duration": 18,
    "start_time": "2022-11-20T10:17:45.451Z"
   },
   {
    "duration": 382,
    "start_time": "2022-11-20T10:18:01.322Z"
   },
   {
    "duration": 11,
    "start_time": "2022-11-20T10:18:03.016Z"
   },
   {
    "duration": 10,
    "start_time": "2022-11-20T10:18:14.073Z"
   },
   {
    "duration": 480,
    "start_time": "2022-11-20T10:24:18.808Z"
   },
   {
    "duration": 17,
    "start_time": "2022-11-20T10:24:21.186Z"
   },
   {
    "duration": 352,
    "start_time": "2022-11-20T10:24:41.392Z"
   },
   {
    "duration": 16,
    "start_time": "2022-11-20T10:24:42.855Z"
   },
   {
    "duration": 458,
    "start_time": "2022-11-20T10:24:50.287Z"
   },
   {
    "duration": 12,
    "start_time": "2022-11-20T10:24:52.895Z"
   },
   {
    "duration": 54,
    "start_time": "2022-11-20T10:26:22.038Z"
   },
   {
    "duration": 6,
    "start_time": "2022-11-20T10:35:40.886Z"
   },
   {
    "duration": 19,
    "start_time": "2022-11-20T10:44:13.951Z"
   },
   {
    "duration": 9,
    "start_time": "2022-11-20T10:44:54.372Z"
   },
   {
    "duration": 8,
    "start_time": "2022-11-20T10:47:23.100Z"
   },
   {
    "duration": 10,
    "start_time": "2022-11-20T10:48:06.406Z"
   },
   {
    "duration": 10,
    "start_time": "2022-11-20T10:48:44.230Z"
   },
   {
    "duration": 13,
    "start_time": "2022-11-20T10:51:40.390Z"
   },
   {
    "duration": 56,
    "start_time": "2022-11-20T10:52:28.736Z"
   },
   {
    "duration": 14,
    "start_time": "2022-11-20T10:52:34.667Z"
   },
   {
    "duration": 13,
    "start_time": "2022-11-20T10:52:47.768Z"
   },
   {
    "duration": 15,
    "start_time": "2022-11-20T10:55:14.201Z"
   },
   {
    "duration": 22,
    "start_time": "2022-11-20T10:55:35.443Z"
   },
   {
    "duration": 355,
    "start_time": "2022-11-20T10:58:04.179Z"
   },
   {
    "duration": 10,
    "start_time": "2022-11-20T10:58:05.631Z"
   },
   {
    "duration": 12,
    "start_time": "2022-11-20T10:58:10.038Z"
   },
   {
    "duration": 13,
    "start_time": "2022-11-20T10:58:10.988Z"
   },
   {
    "duration": 10,
    "start_time": "2022-11-20T10:58:12.673Z"
   },
   {
    "duration": 8,
    "start_time": "2022-11-20T10:59:00.886Z"
   },
   {
    "duration": 16,
    "start_time": "2022-11-20T11:30:43.223Z"
   },
   {
    "duration": 1983,
    "start_time": "2022-11-20T11:31:04.112Z"
   },
   {
    "duration": 38,
    "start_time": "2022-11-20T11:31:06.102Z"
   },
   {
    "duration": 70,
    "start_time": "2022-11-20T11:31:06.146Z"
   },
   {
    "duration": 43,
    "start_time": "2022-11-20T11:31:06.221Z"
   },
   {
    "duration": 54,
    "start_time": "2022-11-20T11:31:06.266Z"
   },
   {
    "duration": 24,
    "start_time": "2022-11-20T11:31:06.323Z"
   },
   {
    "duration": 66,
    "start_time": "2022-11-20T11:31:06.350Z"
   },
   {
    "duration": 129,
    "start_time": "2022-11-20T11:31:06.422Z"
   },
   {
    "duration": 19,
    "start_time": "2022-11-20T11:31:06.558Z"
   },
   {
    "duration": 269,
    "start_time": "2022-11-20T11:31:06.584Z"
   },
   {
    "duration": 19647,
    "start_time": "2022-11-20T11:31:06.860Z"
   },
   {
    "duration": 16,
    "start_time": "2022-11-20T11:31:26.510Z"
   },
   {
    "duration": 306,
    "start_time": "2022-11-20T11:31:26.528Z"
   },
   {
    "duration": 292,
    "start_time": "2022-11-20T11:31:26.836Z"
   },
   {
    "duration": 176,
    "start_time": "2022-11-20T11:31:27.130Z"
   },
   {
    "duration": 0,
    "start_time": "2022-11-20T11:31:27.308Z"
   },
   {
    "duration": 0,
    "start_time": "2022-11-20T11:31:27.309Z"
   },
   {
    "duration": 0,
    "start_time": "2022-11-20T11:31:27.311Z"
   },
   {
    "duration": 0,
    "start_time": "2022-11-20T11:31:27.312Z"
   },
   {
    "duration": 2038,
    "start_time": "2022-11-20T11:31:54.601Z"
   },
   {
    "duration": 73,
    "start_time": "2022-11-20T11:31:56.641Z"
   },
   {
    "duration": 19,
    "start_time": "2022-11-20T11:31:56.718Z"
   },
   {
    "duration": 14,
    "start_time": "2022-11-20T11:31:56.739Z"
   },
   {
    "duration": 30,
    "start_time": "2022-11-20T11:31:56.756Z"
   },
   {
    "duration": 11,
    "start_time": "2022-11-20T11:31:56.793Z"
   },
   {
    "duration": 29,
    "start_time": "2022-11-20T11:31:56.807Z"
   },
   {
    "duration": 161,
    "start_time": "2022-11-20T11:31:56.839Z"
   },
   {
    "duration": 18,
    "start_time": "2022-11-20T11:31:57.007Z"
   },
   {
    "duration": 238,
    "start_time": "2022-11-20T11:31:57.029Z"
   },
   {
    "duration": 19304,
    "start_time": "2022-11-20T11:31:57.269Z"
   },
   {
    "duration": 17,
    "start_time": "2022-11-20T11:32:16.576Z"
   },
   {
    "duration": 345,
    "start_time": "2022-11-20T11:32:16.595Z"
   },
   {
    "duration": 269,
    "start_time": "2022-11-20T11:32:16.943Z"
   },
   {
    "duration": 715,
    "start_time": "2022-11-20T11:32:17.217Z"
   },
   {
    "duration": 0,
    "start_time": "2022-11-20T11:32:17.935Z"
   },
   {
    "duration": 0,
    "start_time": "2022-11-20T11:32:17.939Z"
   },
   {
    "duration": 0,
    "start_time": "2022-11-20T11:32:17.941Z"
   },
   {
    "duration": 0,
    "start_time": "2022-11-20T11:32:17.942Z"
   },
   {
    "duration": 456,
    "start_time": "2022-11-20T11:32:38.390Z"
   },
   {
    "duration": 471,
    "start_time": "2022-11-20T11:33:24.376Z"
   },
   {
    "duration": 10,
    "start_time": "2022-11-20T11:33:27.022Z"
   },
   {
    "duration": 1827,
    "start_time": "2022-11-20T11:33:32.636Z"
   },
   {
    "duration": 59,
    "start_time": "2022-11-20T11:33:34.465Z"
   },
   {
    "duration": 25,
    "start_time": "2022-11-20T11:33:34.526Z"
   },
   {
    "duration": 26,
    "start_time": "2022-11-20T11:33:34.557Z"
   },
   {
    "duration": 46,
    "start_time": "2022-11-20T11:33:34.587Z"
   },
   {
    "duration": 83,
    "start_time": "2022-11-20T11:33:34.636Z"
   },
   {
    "duration": 22,
    "start_time": "2022-11-20T11:33:34.722Z"
   },
   {
    "duration": 173,
    "start_time": "2022-11-20T11:33:34.746Z"
   },
   {
    "duration": 14,
    "start_time": "2022-11-20T11:33:34.922Z"
   },
   {
    "duration": 298,
    "start_time": "2022-11-20T11:33:34.941Z"
   },
   {
    "duration": 17621,
    "start_time": "2022-11-20T11:33:35.241Z"
   },
   {
    "duration": 19,
    "start_time": "2022-11-20T11:33:52.865Z"
   },
   {
    "duration": 344,
    "start_time": "2022-11-20T11:33:52.886Z"
   },
   {
    "duration": 285,
    "start_time": "2022-11-20T11:33:53.232Z"
   },
   {
    "duration": 530,
    "start_time": "2022-11-20T11:33:53.520Z"
   },
   {
    "duration": 17,
    "start_time": "2022-11-20T11:33:54.051Z"
   },
   {
    "duration": 43,
    "start_time": "2022-11-20T11:33:54.070Z"
   },
   {
    "duration": 14,
    "start_time": "2022-11-20T11:33:54.116Z"
   },
   {
    "duration": 8,
    "start_time": "2022-11-20T11:33:54.133Z"
   },
   {
    "duration": 227,
    "start_time": "2022-11-20T11:34:17.830Z"
   },
   {
    "duration": 1680,
    "start_time": "2022-11-20T11:38:02.209Z"
   },
   {
    "duration": 36,
    "start_time": "2022-11-20T11:38:03.893Z"
   },
   {
    "duration": 17,
    "start_time": "2022-11-20T11:38:03.931Z"
   },
   {
    "duration": 22,
    "start_time": "2022-11-20T11:38:03.951Z"
   },
   {
    "duration": 17,
    "start_time": "2022-11-20T11:38:03.975Z"
   },
   {
    "duration": 6,
    "start_time": "2022-11-20T11:38:03.994Z"
   },
   {
    "duration": 11,
    "start_time": "2022-11-20T11:38:04.002Z"
   },
   {
    "duration": 111,
    "start_time": "2022-11-20T11:38:04.015Z"
   },
   {
    "duration": 14,
    "start_time": "2022-11-20T11:38:04.128Z"
   },
   {
    "duration": 257,
    "start_time": "2022-11-20T11:38:04.145Z"
   },
   {
    "duration": 16585,
    "start_time": "2022-11-20T11:38:04.404Z"
   },
   {
    "duration": 14,
    "start_time": "2022-11-20T11:38:20.991Z"
   },
   {
    "duration": 260,
    "start_time": "2022-11-20T11:38:21.008Z"
   },
   {
    "duration": 260,
    "start_time": "2022-11-20T11:38:21.270Z"
   },
   {
    "duration": 473,
    "start_time": "2022-11-20T11:38:21.532Z"
   },
   {
    "duration": 11,
    "start_time": "2022-11-20T11:38:22.008Z"
   },
   {
    "duration": 18,
    "start_time": "2022-11-20T11:38:22.021Z"
   },
   {
    "duration": 43,
    "start_time": "2022-11-20T11:38:22.042Z"
   },
   {
    "duration": 13,
    "start_time": "2022-11-20T11:38:22.089Z"
   },
   {
    "duration": 133,
    "start_time": "2022-11-20T11:57:28.466Z"
   },
   {
    "duration": 12,
    "start_time": "2022-11-20T11:57:30.795Z"
   },
   {
    "duration": 11,
    "start_time": "2022-11-20T11:57:31.691Z"
   },
   {
    "duration": 4,
    "start_time": "2022-11-20T11:59:43.113Z"
   },
   {
    "duration": 17,
    "start_time": "2022-11-20T12:01:06.958Z"
   },
   {
    "duration": 8,
    "start_time": "2022-11-20T12:01:13.462Z"
   },
   {
    "duration": 11,
    "start_time": "2022-11-20T12:01:30.949Z"
   },
   {
    "duration": 10,
    "start_time": "2022-11-20T12:02:34.245Z"
   },
   {
    "duration": 5,
    "start_time": "2022-11-20T12:03:51.061Z"
   },
   {
    "duration": 12,
    "start_time": "2022-11-20T12:09:31.570Z"
   },
   {
    "duration": 5,
    "start_time": "2022-11-20T12:09:32.346Z"
   },
   {
    "duration": 3,
    "start_time": "2022-11-20T12:09:32.979Z"
   },
   {
    "duration": 6,
    "start_time": "2022-11-20T12:09:33.665Z"
   },
   {
    "duration": 1507,
    "start_time": "2022-11-20T12:17:51.678Z"
   },
   {
    "duration": 34,
    "start_time": "2022-11-20T12:17:53.187Z"
   },
   {
    "duration": 14,
    "start_time": "2022-11-20T12:17:53.223Z"
   },
   {
    "duration": 24,
    "start_time": "2022-11-20T12:17:53.239Z"
   },
   {
    "duration": 21,
    "start_time": "2022-11-20T12:17:53.265Z"
   },
   {
    "duration": 32,
    "start_time": "2022-11-20T12:17:53.288Z"
   },
   {
    "duration": 19,
    "start_time": "2022-11-20T12:17:53.322Z"
   },
   {
    "duration": 90,
    "start_time": "2022-11-20T12:17:53.343Z"
   },
   {
    "duration": 11,
    "start_time": "2022-11-20T12:17:53.435Z"
   },
   {
    "duration": 236,
    "start_time": "2022-11-20T12:17:53.449Z"
   },
   {
    "duration": 14603,
    "start_time": "2022-11-20T12:17:53.690Z"
   },
   {
    "duration": 12,
    "start_time": "2022-11-20T12:18:08.295Z"
   },
   {
    "duration": 226,
    "start_time": "2022-11-20T12:18:08.309Z"
   },
   {
    "duration": 209,
    "start_time": "2022-11-20T12:18:08.537Z"
   },
   {
    "duration": 326,
    "start_time": "2022-11-20T12:18:08.749Z"
   },
   {
    "duration": 10,
    "start_time": "2022-11-20T12:18:09.077Z"
   },
   {
    "duration": 11,
    "start_time": "2022-11-20T12:18:09.089Z"
   },
   {
    "duration": 14,
    "start_time": "2022-11-20T12:18:09.102Z"
   },
   {
    "duration": 38,
    "start_time": "2022-11-20T12:18:09.118Z"
   },
   {
    "duration": 10,
    "start_time": "2022-11-20T12:18:09.158Z"
   },
   {
    "duration": 20,
    "start_time": "2022-11-20T12:18:09.170Z"
   },
   {
    "duration": 13,
    "start_time": "2022-11-20T12:18:09.192Z"
   },
   {
    "duration": 9,
    "start_time": "2022-11-20T12:18:09.208Z"
   }
  ],
  "kernelspec": {
   "display_name": "Python 3 (ipykernel)",
   "language": "python",
   "name": "python3"
  },
  "language_info": {
   "codemirror_mode": {
    "name": "ipython",
    "version": 3
   },
   "file_extension": ".py",
   "mimetype": "text/x-python",
   "name": "python",
   "nbconvert_exporter": "python",
   "pygments_lexer": "ipython3",
   "version": "3.9.5"
  },
  "toc": {
   "base_numbering": 1,
   "nav_menu": {},
   "number_sections": true,
   "sideBar": true,
   "skip_h1_title": true,
   "title_cell": "Table of Contents",
   "title_sidebar": "Contents",
   "toc_cell": false,
   "toc_position": {},
   "toc_section_display": true,
   "toc_window_display": false
  }
 },
 "nbformat": 4,
 "nbformat_minor": 2
}
