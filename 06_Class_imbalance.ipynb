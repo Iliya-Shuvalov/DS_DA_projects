{
 "cells": [
  {
   "attachments": {},
   "cell_type": "markdown",
   "metadata": {
    "toc": true
   },
   "source": [
    "<h1>Содержание<span class=\"tocSkip\"></span></h1>\n",
    "<div class=\"toc\"><ul class=\"toc-item\"><li><span><a href=\"#Подготовка-данных\" data-toc-modified-id=\"Подготовка-данных-1\"><span class=\"toc-item-num\">1&nbsp;&nbsp;</span>Подготовка данных</a></span><ul class=\"toc-item\"><li><span><a href=\"#подключение-необходходимых-для-дальнейшей-работы-библиотек,-модулей,-метрик\" data-toc-modified-id=\"подключение-необходходимых-для-дальнейшей-работы-библиотек,-модулей,-метрик-1.1\"><span class=\"toc-item-num\">1.1&nbsp;&nbsp;</span>подключение необходходимых для дальнейшей работы библиотек, модулей, метрик</a></span></li><li><span><a href=\"#ознакомилление-с-данными\" data-toc-modified-id=\"ознакомилление-с-данными-1.2\"><span class=\"toc-item-num\">1.2&nbsp;&nbsp;</span>ознакомилление с данными</a></span></li><li><span><a href=\"#предобработка-данных\" data-toc-modified-id=\"предобработка-данных-1.3\"><span class=\"toc-item-num\">1.3&nbsp;&nbsp;</span>предобработка данных</a></span></li><li><span><a href=\"#разделение-данных-на-треннировочную,-валидационную-и-тестовую-выборки\" data-toc-modified-id=\"разделение-данных-на-треннировочную,-валидационную-и-тестовую-выборки-1.4\"><span class=\"toc-item-num\">1.4&nbsp;&nbsp;</span>разделение данных на треннировочную, валидационную и тестовую выборки</a></span></li><li><span><a href=\"#Дамми-признаки\" data-toc-modified-id=\"Дамми-признаки-1.5\"><span class=\"toc-item-num\">1.5&nbsp;&nbsp;</span>Дамми признаки</a></span></li><li><span><a href=\"#Масштабирование-данных\" data-toc-modified-id=\"Масштабирование-данных-1.6\"><span class=\"toc-item-num\">1.6&nbsp;&nbsp;</span>Масштабирование данных</a></span></li><li><span><a href=\"#Анализ-дисбаланса\" data-toc-modified-id=\"Анализ-дисбаланса-1.7\"><span class=\"toc-item-num\">1.7&nbsp;&nbsp;</span>Анализ дисбаланса</a></span></li><li><span><a href=\"#Вывод-по-разделу-1\" data-toc-modified-id=\"Вывод-по-разделу-1-1.8\"><span class=\"toc-item-num\">1.8&nbsp;&nbsp;</span>Вывод по разделу 1</a></span></li></ul></li><li><span><a href=\"#Исследование-задачи\" data-toc-modified-id=\"Исследование-задачи-2\"><span class=\"toc-item-num\">2&nbsp;&nbsp;</span>Исследование задачи</a></span><ul class=\"toc-item\"><li><span><a href=\"#Модель-RandomForestClassifier-без-учёта-дисбаланса-классов\" data-toc-modified-id=\"Модель-RandomForestClassifier-без-учёта-дисбаланса-классов-2.1\"><span class=\"toc-item-num\">2.1&nbsp;&nbsp;</span>Модель RandomForestClassifier без учёта дисбаланса классов</a></span><ul class=\"toc-item\"><li><span><a href=\"#Подбор-гиперпараметров-в-цикле-для-модели-RandomForestClassifier\" data-toc-modified-id=\"Подбор-гиперпараметров-в-цикле-для-модели-RandomForestClassifier-2.1.1\"><span class=\"toc-item-num\">2.1.1&nbsp;&nbsp;</span>Подбор гиперпараметров в цикле для модели RandomForestClassifier</a></span></li><li><span><a href=\"#Подбор-гиперпараметров-для-модели-RandomForestClassifier-с-помощью-GridSearhCV\" data-toc-modified-id=\"Подбор-гиперпараметров-для-модели-RandomForestClassifier-с-помощью-GridSearhCV-2.1.2\"><span class=\"toc-item-num\">2.1.2&nbsp;&nbsp;</span>Подбор гиперпараметров для модели RandomForestClassifier с помощью GridSearhCV</a></span></li><li><span><a href=\"#Подбор-гиперпараметров-для-модели-RandomForestClassifier-с-помощью-RandomizedSearchCV\" data-toc-modified-id=\"Подбор-гиперпараметров-для-модели-RandomForestClassifier-с-помощью-RandomizedSearchCV-2.1.3\"><span class=\"toc-item-num\">2.1.3&nbsp;&nbsp;</span>Подбор гиперпараметров для модели RandomForestClassifier с помощью RandomizedSearchCV</a></span></li></ul></li><li><span><a href=\"#Модель-DecisionTreeClassifier-без-учёта-дисбаланса-классов\" data-toc-modified-id=\"Модель-DecisionTreeClassifier-без-учёта-дисбаланса-классов-2.2\"><span class=\"toc-item-num\">2.2&nbsp;&nbsp;</span>Модель DecisionTreeClassifier без учёта дисбаланса классов</a></span><ul class=\"toc-item\"><li><span><a href=\"#Подбор-гиперпараметров-в-цикле-для-модели-DecisionTreeClassifier\" data-toc-modified-id=\"Подбор-гиперпараметров-в-цикле-для-модели-DecisionTreeClassifier-2.2.1\"><span class=\"toc-item-num\">2.2.1&nbsp;&nbsp;</span>Подбор гиперпараметров в цикле для модели DecisionTreeClassifier</a></span></li><li><span><a href=\"#Подбор-гиперпараметров-для-модели-DecisionTreeClassifier-с-помощью-GridSearhCV\" data-toc-modified-id=\"Подбор-гиперпараметров-для-модели-DecisionTreeClassifier-с-помощью-GridSearhCV-2.2.2\"><span class=\"toc-item-num\">2.2.2&nbsp;&nbsp;</span>Подбор гиперпараметров для модели DecisionTreeClassifier с помощью GridSearhCV</a></span></li><li><span><a href=\"#Подбор-гиперпараметров-для-модели-DecisionTreeClassifier-с-помощью-RandomizedSearchCV\" data-toc-modified-id=\"Подбор-гиперпараметров-для-модели-DecisionTreeClassifier-с-помощью-RandomizedSearchCV-2.2.3\"><span class=\"toc-item-num\">2.2.3&nbsp;&nbsp;</span>Подбор гиперпараметров для модели DecisionTreeClassifier с помощью RandomizedSearchCV</a></span></li></ul></li><li><span><a href=\"#Модель-LogisticRegression-без-учёта-дисбаланса-классов\" data-toc-modified-id=\"Модель-LogisticRegression-без-учёта-дисбаланса-классов-2.3\"><span class=\"toc-item-num\">2.3&nbsp;&nbsp;</span>Модель LogisticRegression без учёта дисбаланса классов</a></span><ul class=\"toc-item\"><li><span><a href=\"#Подбор-гиперпараметров-в-цикле-для-модели-LogisticRegression\" data-toc-modified-id=\"Подбор-гиперпараметров-в-цикле-для-модели-LogisticRegression-2.3.1\"><span class=\"toc-item-num\">2.3.1&nbsp;&nbsp;</span>Подбор гиперпараметров в цикле для модели LogisticRegression</a></span></li><li><span><a href=\"#Подбор-гиперпараметров-для-модели-LogisticRegression-с-помощью-GridSearhCV\" data-toc-modified-id=\"Подбор-гиперпараметров-для-модели-LogisticRegression-с-помощью-GridSearhCV-2.3.2\"><span class=\"toc-item-num\">2.3.2&nbsp;&nbsp;</span>Подбор гиперпараметров для модели LogisticRegression с помощью GridSearhCV</a></span></li></ul></li><li><span><a href=\"#Вывод-по-разделу-2\" data-toc-modified-id=\"Вывод-по-разделу-2-2.4\"><span class=\"toc-item-num\">2.4&nbsp;&nbsp;</span>Вывод по разделу 2</a></span></li></ul></li><li><span><a href=\"#Борьба-с-дисбалансом\" data-toc-modified-id=\"Борьба-с-дисбалансом-3\"><span class=\"toc-item-num\">3&nbsp;&nbsp;</span>Борьба с дисбалансом</a></span><ul class=\"toc-item\"><li><span><a href=\"#Аппсемплинг-(с-помощью-функции).-Модели-RandomForestClassifier,-DecisionTreeClassifier-и-LogisticRegression\" data-toc-modified-id=\"Аппсемплинг-(с-помощью-функции).-Модели-RandomForestClassifier,-DecisionTreeClassifier-и-LogisticRegression-3.1\"><span class=\"toc-item-num\">3.1&nbsp;&nbsp;</span>Аппсемплинг (с помощью функции). Модели RandomForestClassifier, DecisionTreeClassifier и LogisticRegression</a></span><ul class=\"toc-item\"><li><span><a href=\"#Модель-RandomForestClassifier\" data-toc-modified-id=\"Модель-RandomForestClassifier-3.1.1\"><span class=\"toc-item-num\">3.1.1&nbsp;&nbsp;</span>Модель RandomForestClassifier</a></span></li><li><span><a href=\"#Модель-DecisionTreeClassifier\" data-toc-modified-id=\"Модель-DecisionTreeClassifier-3.1.2\"><span class=\"toc-item-num\">3.1.2&nbsp;&nbsp;</span>Модель DecisionTreeClassifier</a></span></li><li><span><a href=\"#Модель-LogisticRegression\" data-toc-modified-id=\"Модель-LogisticRegression-3.1.3\"><span class=\"toc-item-num\">3.1.3&nbsp;&nbsp;</span>Модель LogisticRegression</a></span></li></ul></li><li><span><a href=\"#Даунсемплинг-(с-помощью-функции).-Модели-RandomForestClassifier,-DecisionTreeClassifier-и-LogisticRegression\" data-toc-modified-id=\"Даунсемплинг-(с-помощью-функции).-Модели-RandomForestClassifier,-DecisionTreeClassifier-и-LogisticRegression-3.2\"><span class=\"toc-item-num\">3.2&nbsp;&nbsp;</span>Даунсемплинг (с помощью функции). Модели RandomForestClassifier, DecisionTreeClassifier и LogisticRegression</a></span><ul class=\"toc-item\"><li><span><a href=\"#Модель-RandomForestClassifier\" data-toc-modified-id=\"Модель-RandomForestClassifier-3.2.1\"><span class=\"toc-item-num\">3.2.1&nbsp;&nbsp;</span>Модель RandomForestClassifier</a></span></li><li><span><a href=\"#Модель-DecisionTreeClassifier\" data-toc-modified-id=\"Модель-DecisionTreeClassifier-3.2.2\"><span class=\"toc-item-num\">3.2.2&nbsp;&nbsp;</span>Модель DecisionTreeClassifier</a></span></li><li><span><a href=\"#Модель-LogisticRegression\" data-toc-modified-id=\"Модель-LogisticRegression-3.2.3\"><span class=\"toc-item-num\">3.2.3&nbsp;&nbsp;</span>Модель LogisticRegression</a></span></li></ul></li><li><span><a href=\"#метод-балансировки-классов-SMOTE-и-подбор-гиперпараметров-с-использованием-кросс-валидации\" data-toc-modified-id=\"метод-балансировки-классов-SMOTE-и-подбор-гиперпараметров-с-использованием-кросс-валидации-3.3\"><span class=\"toc-item-num\">3.3&nbsp;&nbsp;</span>метод балансировки классов SMOTE и подбор гиперпараметров с использованием кросс-валидации</a></span><ul class=\"toc-item\"><li><span><a href=\"#Модель-RandomForestClassifier\" data-toc-modified-id=\"Модель-RandomForestClassifier-3.3.1\"><span class=\"toc-item-num\">3.3.1&nbsp;&nbsp;</span>Модель RandomForestClassifier</a></span><ul class=\"toc-item\"><li><span><a href=\"#Подбор-гиперпараметров-для-модели-RandomForestClassifier-с-помощью-GridSearhCV\" data-toc-modified-id=\"Подбор-гиперпараметров-для-модели-RandomForestClassifier-с-помощью-GridSearhCV-3.3.1.1\"><span class=\"toc-item-num\">3.3.1.1&nbsp;&nbsp;</span>Подбор гиперпараметров для модели RandomForestClassifier с помощью GridSearhCV</a></span></li><li><span><a href=\"#Подбор-гиперпараметров-для-модели-RandomForestClassifier-с-помощью-RandomizedSearchCV\" data-toc-modified-id=\"Подбор-гиперпараметров-для-модели-RandomForestClassifier-с-помощью-RandomizedSearchCV-3.3.1.2\"><span class=\"toc-item-num\">3.3.1.2&nbsp;&nbsp;</span>Подбор гиперпараметров для модели RandomForestClassifier с помощью RandomizedSearchCV</a></span></li></ul></li><li><span><a href=\"#Модель-DecisionTreeClassifier\" data-toc-modified-id=\"Модель-DecisionTreeClassifier-3.3.2\"><span class=\"toc-item-num\">3.3.2&nbsp;&nbsp;</span>Модель DecisionTreeClassifier</a></span><ul class=\"toc-item\"><li><span><a href=\"#Подбор-гиперпараметров-для-модели-DecisionTreeClassifier-с-помощью-GridSearhCV\" data-toc-modified-id=\"Подбор-гиперпараметров-для-модели-DecisionTreeClassifier-с-помощью-GridSearhCV-3.3.2.1\"><span class=\"toc-item-num\">3.3.2.1&nbsp;&nbsp;</span>Подбор гиперпараметров для модели DecisionTreeClassifier с помощью GridSearhCV</a></span></li><li><span><a href=\"#Подбор-гиперпараметров-для-модели-DecisionTreeClassifier-с-помощью-RandomizedSearchCV\" data-toc-modified-id=\"Подбор-гиперпараметров-для-модели-DecisionTreeClassifier-с-помощью-RandomizedSearchCV-3.3.2.2\"><span class=\"toc-item-num\">3.3.2.2&nbsp;&nbsp;</span>Подбор гиперпараметров для модели DecisionTreeClassifier с помощью RandomizedSearchCV</a></span></li></ul></li><li><span><a href=\"#Модель-LogisticRegression\" data-toc-modified-id=\"Модель-LogisticRegression-3.3.3\"><span class=\"toc-item-num\">3.3.3&nbsp;&nbsp;</span>Модель LogisticRegression</a></span><ul class=\"toc-item\"><li><span><a href=\"#Подбор-гиперпараметров-для-модели-LogisticRegression-с-помощью-GridSearhCV\" data-toc-modified-id=\"Подбор-гиперпараметров-для-модели-LogisticRegression-с-помощью-GridSearhCV-3.3.3.1\"><span class=\"toc-item-num\">3.3.3.1&nbsp;&nbsp;</span>Подбор гиперпараметров для модели LogisticRegression с помощью GridSearhCV</a></span></li></ul></li></ul></li><li><span><a href=\"#Вывод-по-разделу-3\" data-toc-modified-id=\"Вывод-по-разделу-3-3.4\"><span class=\"toc-item-num\">3.4&nbsp;&nbsp;</span>Вывод по разделу 3</a></span></li></ul></li><li><span><a href=\"#Тестирование-модели\" data-toc-modified-id=\"Тестирование-модели-4\"><span class=\"toc-item-num\">4&nbsp;&nbsp;</span>Тестирование модели</a></span><ul class=\"toc-item\"><li><span><a href=\"#ROC-кривая-модели\" data-toc-modified-id=\"ROC-кривая-модели-4.1\"><span class=\"toc-item-num\">4.1&nbsp;&nbsp;</span>ROC-кривая модели</a></span></li><li><span><a href=\"#Матрица-ошибок\" data-toc-modified-id=\"Матрица-ошибок-4.2\"><span class=\"toc-item-num\">4.2&nbsp;&nbsp;</span>Матрица ошибок</a></span></li></ul></li><li><span><a href=\"#Общий-вывод\" data-toc-modified-id=\"Общий-вывод-5\"><span class=\"toc-item-num\">5&nbsp;&nbsp;</span>Общий вывод</a></span></li><li><span><a href=\"#Чек-лист-готовности-проекта\" data-toc-modified-id=\"Чек-лист-готовности-проекта-6\"><span class=\"toc-item-num\">6&nbsp;&nbsp;</span>Чек-лист готовности проекта</a></span></li></ul></div>"
   ]
  },
  {
   "attachments": {},
   "cell_type": "markdown",
   "metadata": {},
   "source": [
    "# Отток клиентов"
   ]
  },
  {
   "attachments": {},
   "cell_type": "markdown",
   "metadata": {},
   "source": [
    "**Цель работы**\n",
    "\n",
    "Спрогнозировать, уйдёт клиент из банка в ближайшее время или нет. Предоставлены исторические данные о поведении клиентов и расторжении договоров с банком. \n",
    "\n",
    "Необходимо построить модель с предельно большим значением *F1*-меры. Дополнительно измерить *AUC-ROC*, сравнить её значение с *F1*-мерой.\n",
    "\n",
    "Источник данных: [https://www.kaggle.com/barelydedicated/bank-customer-churn-modeling](https://www.kaggle.com/barelydedicated/bank-customer-churn-modeling)\n",
    "\n",
    "**Признаки:**\n",
    "\n",
    "RowNumber — индекс строки в данных\n",
    "\n",
    "CustomerId — уникальный идентификатор клиента\n",
    "\n",
    "Surname — фамилия\n",
    "\n",
    "CreditScore — кредитный рейтинг\n",
    "\n",
    "Geography — страна проживания\n",
    "\n",
    "Gender — пол\n",
    "\n",
    "Age — возраст\n",
    "\n",
    "Tenure — сколько лет человек является клиентом банка\n",
    "\n",
    "Balance — баланс на счёте\n",
    "\n",
    "NumOfProducts — количество продуктов банка, используемых клиентом\n",
    "\n",
    "HasCrCard — наличие кредитной карты\n",
    "\n",
    "IsActiveMember — активность клиента\n",
    "\n",
    "EstimatedSalary — предполагаемая зарплата\n",
    "\n",
    "**Целевой признак**\n",
    "\n",
    "Exited — факт ухода клиента"
   ]
  },
  {
   "attachments": {},
   "cell_type": "markdown",
   "metadata": {},
   "source": [
    "## Подготовка данных"
   ]
  },
  {
   "attachments": {},
   "cell_type": "markdown",
   "metadata": {},
   "source": [
    "### подключение необходходимых для дальнейшей работы библиотек, модулей, метрик"
   ]
  },
  {
   "cell_type": "code",
   "execution_count": 1,
   "metadata": {},
   "outputs": [
    {
     "name": "stdout",
     "output_type": "stream",
     "text": [
      "Collecting imblearn\n",
      "  Downloading imblearn-0.0-py2.py3-none-any.whl (1.9 kB)\n",
      "Collecting imbalanced-learn\n",
      "  Downloading imbalanced_learn-0.11.0-py3-none-any.whl (235 kB)\n",
      "\u001b[K     |████████████████████████████████| 235 kB 1.1 MB/s eta 0:00:01\n",
      "\u001b[?25hRequirement already satisfied: numpy>=1.17.3 in /opt/conda/lib/python3.9/site-packages (from imbalanced-learn->imblearn) (1.21.1)\n",
      "Collecting scikit-learn>=1.0.2\n",
      "  Downloading scikit_learn-1.3.0-cp39-cp39-manylinux_2_17_x86_64.manylinux2014_x86_64.whl (10.9 MB)\n",
      "\u001b[K     |████████████████████████████████| 10.9 MB 15.6 MB/s eta 0:00:01\n",
      "\u001b[?25hRequirement already satisfied: scipy>=1.5.0 in /opt/conda/lib/python3.9/site-packages (from imbalanced-learn->imblearn) (1.9.1)\n",
      "Requirement already satisfied: threadpoolctl>=2.0.0 in /opt/conda/lib/python3.9/site-packages (from imbalanced-learn->imblearn) (3.1.0)\n",
      "Collecting joblib>=1.1.1\n",
      "  Downloading joblib-1.3.2-py3-none-any.whl (302 kB)\n",
      "\u001b[K     |████████████████████████████████| 302 kB 77.1 MB/s eta 0:00:01\n",
      "\u001b[?25hInstalling collected packages: joblib, scikit-learn, imbalanced-learn, imblearn\n",
      "  Attempting uninstall: joblib\n",
      "    Found existing installation: joblib 1.1.0\n",
      "    Uninstalling joblib-1.1.0:\n",
      "      Successfully uninstalled joblib-1.1.0\n",
      "  Attempting uninstall: scikit-learn\n",
      "    Found existing installation: scikit-learn 0.24.1\n",
      "    Uninstalling scikit-learn-0.24.1:\n",
      "      Successfully uninstalled scikit-learn-0.24.1\n",
      "Successfully installed imbalanced-learn-0.11.0 imblearn-0.0 joblib-1.3.2 scikit-learn-1.3.0\n"
     ]
    }
   ],
   "source": [
    "!pip install imblearn #установим билиотеку imblearn"
   ]
  },
  {
   "cell_type": "code",
   "execution_count": 2,
   "metadata": {},
   "outputs": [],
   "source": [
    "import pandas as pd #Импортируем библиотеку pandas\n",
    "import numpy as np #Импортируем библиотеку numpy\n",
    "from sklearn.model_selection import train_test_split #импортируем train_test_split для разделения на выборки\n",
    "from sklearn.utils import shuffle #импортируем shuffle для перемешивания выборки\n",
    "from sklearn.tree import DecisionTreeClassifier #импортируем модуль Решающее дерево для задачи классификации\n",
    "from sklearn.ensemble import RandomForestClassifier #импортируем модуль Случайный лес для задачи классификации\n",
    "from sklearn.linear_model import LogisticRegression #импортируем Логистическую регрессию\n",
    "from sklearn.metrics import roc_auc_score #импортируем метрику roc auc\n",
    "from sklearn.metrics import roc_curve #импорт функции РОК кривой \n",
    "from sklearn.metrics import confusion_matrix #импорт матрицы ошибок\n",
    "from sklearn.metrics import f1_score, make_scorer #импортируем метрику F1\n",
    "from sklearn.metrics import mean_squared_error #импортируем MSE\n",
    "from sklearn.metrics import accuracy_score #импортируем accuracy\n",
    "from sklearn.preprocessing import StandardScaler #импортируем StandardScaler для масштабирования данных\n",
    "from sklearn.model_selection import GridSearchCV #импортируем GridSearchCV для автоматического подбора гиперпараметров\n",
    "from sklearn.model_selection import RandomizedSearchCV #импортируем RandomizedSearchCV для автоматического подбора гиперпараметров\n",
    "from sklearn.preprocessing import OneHotEncoder\n",
    "import time #Импортируем модуль time\n",
    "import matplotlib.pyplot as plt #импортируем библиотеку matplotlib для визуализации гистограмм и графиков\n",
    "import imblearn #импортируем билиотеку imblearn\n",
    "from imblearn.over_sampling import SMOTE #импортируем билиотеку SMOTE"
   ]
  },
  {
   "attachments": {},
   "cell_type": "markdown",
   "metadata": {},
   "source": [
    "### ознакомилление с данными"
   ]
  },
  {
   "cell_type": "code",
   "execution_count": 3,
   "metadata": {},
   "outputs": [],
   "source": [
    "#Загрузим данные в df \n",
    "df = pd.read_csv('/datasets/Churn.csv')"
   ]
  },
  {
   "cell_type": "code",
   "execution_count": 4,
   "metadata": {},
   "outputs": [
    {
     "data": {
      "text/html": [
       "<div>\n",
       "<style scoped>\n",
       "    .dataframe tbody tr th:only-of-type {\n",
       "        vertical-align: middle;\n",
       "    }\n",
       "\n",
       "    .dataframe tbody tr th {\n",
       "        vertical-align: top;\n",
       "    }\n",
       "\n",
       "    .dataframe thead th {\n",
       "        text-align: right;\n",
       "    }\n",
       "</style>\n",
       "<table border=\"1\" class=\"dataframe\">\n",
       "  <thead>\n",
       "    <tr style=\"text-align: right;\">\n",
       "      <th></th>\n",
       "      <th>RowNumber</th>\n",
       "      <th>CustomerId</th>\n",
       "      <th>Surname</th>\n",
       "      <th>CreditScore</th>\n",
       "      <th>Geography</th>\n",
       "      <th>Gender</th>\n",
       "      <th>Age</th>\n",
       "      <th>Tenure</th>\n",
       "      <th>Balance</th>\n",
       "      <th>NumOfProducts</th>\n",
       "      <th>HasCrCard</th>\n",
       "      <th>IsActiveMember</th>\n",
       "      <th>EstimatedSalary</th>\n",
       "      <th>Exited</th>\n",
       "    </tr>\n",
       "  </thead>\n",
       "  <tbody>\n",
       "    <tr>\n",
       "      <th>0</th>\n",
       "      <td>1</td>\n",
       "      <td>15634602</td>\n",
       "      <td>Hargrave</td>\n",
       "      <td>619</td>\n",
       "      <td>France</td>\n",
       "      <td>Female</td>\n",
       "      <td>42</td>\n",
       "      <td>2.0</td>\n",
       "      <td>0.00</td>\n",
       "      <td>1</td>\n",
       "      <td>1</td>\n",
       "      <td>1</td>\n",
       "      <td>101348.88</td>\n",
       "      <td>1</td>\n",
       "    </tr>\n",
       "    <tr>\n",
       "      <th>1</th>\n",
       "      <td>2</td>\n",
       "      <td>15647311</td>\n",
       "      <td>Hill</td>\n",
       "      <td>608</td>\n",
       "      <td>Spain</td>\n",
       "      <td>Female</td>\n",
       "      <td>41</td>\n",
       "      <td>1.0</td>\n",
       "      <td>83807.86</td>\n",
       "      <td>1</td>\n",
       "      <td>0</td>\n",
       "      <td>1</td>\n",
       "      <td>112542.58</td>\n",
       "      <td>0</td>\n",
       "    </tr>\n",
       "    <tr>\n",
       "      <th>2</th>\n",
       "      <td>3</td>\n",
       "      <td>15619304</td>\n",
       "      <td>Onio</td>\n",
       "      <td>502</td>\n",
       "      <td>France</td>\n",
       "      <td>Female</td>\n",
       "      <td>42</td>\n",
       "      <td>8.0</td>\n",
       "      <td>159660.80</td>\n",
       "      <td>3</td>\n",
       "      <td>1</td>\n",
       "      <td>0</td>\n",
       "      <td>113931.57</td>\n",
       "      <td>1</td>\n",
       "    </tr>\n",
       "    <tr>\n",
       "      <th>3</th>\n",
       "      <td>4</td>\n",
       "      <td>15701354</td>\n",
       "      <td>Boni</td>\n",
       "      <td>699</td>\n",
       "      <td>France</td>\n",
       "      <td>Female</td>\n",
       "      <td>39</td>\n",
       "      <td>1.0</td>\n",
       "      <td>0.00</td>\n",
       "      <td>2</td>\n",
       "      <td>0</td>\n",
       "      <td>0</td>\n",
       "      <td>93826.63</td>\n",
       "      <td>0</td>\n",
       "    </tr>\n",
       "    <tr>\n",
       "      <th>4</th>\n",
       "      <td>5</td>\n",
       "      <td>15737888</td>\n",
       "      <td>Mitchell</td>\n",
       "      <td>850</td>\n",
       "      <td>Spain</td>\n",
       "      <td>Female</td>\n",
       "      <td>43</td>\n",
       "      <td>2.0</td>\n",
       "      <td>125510.82</td>\n",
       "      <td>1</td>\n",
       "      <td>1</td>\n",
       "      <td>1</td>\n",
       "      <td>79084.10</td>\n",
       "      <td>0</td>\n",
       "    </tr>\n",
       "  </tbody>\n",
       "</table>\n",
       "</div>"
      ],
      "text/plain": [
       "   RowNumber  CustomerId   Surname  CreditScore Geography  Gender  Age  \\\n",
       "0          1    15634602  Hargrave          619    France  Female   42   \n",
       "1          2    15647311      Hill          608     Spain  Female   41   \n",
       "2          3    15619304      Onio          502    France  Female   42   \n",
       "3          4    15701354      Boni          699    France  Female   39   \n",
       "4          5    15737888  Mitchell          850     Spain  Female   43   \n",
       "\n",
       "   Tenure    Balance  NumOfProducts  HasCrCard  IsActiveMember  \\\n",
       "0     2.0       0.00              1          1               1   \n",
       "1     1.0   83807.86              1          0               1   \n",
       "2     8.0  159660.80              3          1               0   \n",
       "3     1.0       0.00              2          0               0   \n",
       "4     2.0  125510.82              1          1               1   \n",
       "\n",
       "   EstimatedSalary  Exited  \n",
       "0        101348.88       1  \n",
       "1        112542.58       0  \n",
       "2        113931.57       1  \n",
       "3         93826.63       0  \n",
       "4         79084.10       0  "
      ]
     },
     "execution_count": 4,
     "metadata": {},
     "output_type": "execute_result"
    }
   ],
   "source": [
    "df.head() #Выведем первые 5 строк df"
   ]
  },
  {
   "cell_type": "code",
   "execution_count": 5,
   "metadata": {},
   "outputs": [
    {
     "name": "stdout",
     "output_type": "stream",
     "text": [
      "<class 'pandas.core.frame.DataFrame'>\n",
      "RangeIndex: 10000 entries, 0 to 9999\n",
      "Data columns (total 14 columns):\n",
      " #   Column           Non-Null Count  Dtype  \n",
      "---  ------           --------------  -----  \n",
      " 0   RowNumber        10000 non-null  int64  \n",
      " 1   CustomerId       10000 non-null  int64  \n",
      " 2   Surname          10000 non-null  object \n",
      " 3   CreditScore      10000 non-null  int64  \n",
      " 4   Geography        10000 non-null  object \n",
      " 5   Gender           10000 non-null  object \n",
      " 6   Age              10000 non-null  int64  \n",
      " 7   Tenure           9091 non-null   float64\n",
      " 8   Balance          10000 non-null  float64\n",
      " 9   NumOfProducts    10000 non-null  int64  \n",
      " 10  HasCrCard        10000 non-null  int64  \n",
      " 11  IsActiveMember   10000 non-null  int64  \n",
      " 12  EstimatedSalary  10000 non-null  float64\n",
      " 13  Exited           10000 non-null  int64  \n",
      "dtypes: float64(3), int64(8), object(3)\n",
      "memory usage: 1.1+ MB\n"
     ]
    }
   ],
   "source": [
    "df.info() #Посмотрим общую информацию о датасете"
   ]
  },
  {
   "attachments": {},
   "cell_type": "markdown",
   "metadata": {},
   "source": [
    "### предобработка данных"
   ]
  },
  {
   "attachments": {},
   "cell_type": "markdown",
   "metadata": {},
   "source": [
    "Посмотрим количество уникальных значений в столбцах RowNumber, CustomerId и Surname"
   ]
  },
  {
   "cell_type": "code",
   "execution_count": 6,
   "metadata": {},
   "outputs": [
    {
     "name": "stdout",
     "output_type": "stream",
     "text": [
      "10000\n",
      "2932\n",
      "10000\n"
     ]
    }
   ],
   "source": [
    "print(len(df['CustomerId'].unique()))\n",
    "print(len(df['Surname'].unique()))\n",
    "print(len(df['RowNumber'].unique()))"
   ]
  },
  {
   "attachments": {},
   "cell_type": "markdown",
   "metadata": {},
   "source": [
    "Все значения ID и RowNumber, как и предполагалось, уникальны. Таким образом эти столбцы, как и столбец с фамилиями клиентов не может быть признаком для построения предсказаний модели. Удалим столбцы с фамилиями, индексами строк и уникальным идентификаторами клиента (CustomerId, Surname, RowNumber)"
   ]
  },
  {
   "cell_type": "code",
   "execution_count": 7,
   "metadata": {},
   "outputs": [],
   "source": [
    "df = df.drop(['RowNumber', 'CustomerId', 'Surname'], axis=1)"
   ]
  },
  {
   "attachments": {},
   "cell_type": "markdown",
   "metadata": {},
   "source": [
    "Заменим пропуски в столбце Tenure (сколько лет человек является клиентом банка) на медианные значения"
   ]
  },
  {
   "cell_type": "code",
   "execution_count": 8,
   "metadata": {},
   "outputs": [],
   "source": [
    "median_tenure = df['Tenure'].median() #медиана по столбцу Tenure\n",
    "df['Tenure'] = df['Tenure'].fillna(median_tenure)"
   ]
  },
  {
   "cell_type": "code",
   "execution_count": 9,
   "metadata": {},
   "outputs": [
    {
     "name": "stdout",
     "output_type": "stream",
     "text": [
      "<class 'pandas.core.frame.DataFrame'>\n",
      "RangeIndex: 10000 entries, 0 to 9999\n",
      "Data columns (total 11 columns):\n",
      " #   Column           Non-Null Count  Dtype  \n",
      "---  ------           --------------  -----  \n",
      " 0   CreditScore      10000 non-null  int64  \n",
      " 1   Geography        10000 non-null  object \n",
      " 2   Gender           10000 non-null  object \n",
      " 3   Age              10000 non-null  int64  \n",
      " 4   Tenure           10000 non-null  float64\n",
      " 5   Balance          10000 non-null  float64\n",
      " 6   NumOfProducts    10000 non-null  int64  \n",
      " 7   HasCrCard        10000 non-null  int64  \n",
      " 8   IsActiveMember   10000 non-null  int64  \n",
      " 9   EstimatedSalary  10000 non-null  float64\n",
      " 10  Exited           10000 non-null  int64  \n",
      "dtypes: float64(3), int64(6), object(2)\n",
      "memory usage: 859.5+ KB\n"
     ]
    }
   ],
   "source": [
    "#убедимся, что пропуски в данных отсутствуют\n",
    "df.info()"
   ]
  },
  {
   "attachments": {},
   "cell_type": "markdown",
   "metadata": {},
   "source": [
    "### разделение данных на треннировочную, валидационную и тестовую выборки"
   ]
  },
  {
   "attachments": {},
   "cell_type": "markdown",
   "metadata": {},
   "source": [
    "Разобъём исходные данные на три выборки: обучающая выборка - 60% от всех данных, валидационная выборка - 20% от всех данных, тестовая выборка - 20 % от всех данных). Для сохранения пропорци классов в выборках при разделении используем аргумент stratify в  train_test_split"
   ]
  },
  {
   "cell_type": "code",
   "execution_count": 10,
   "metadata": {},
   "outputs": [],
   "source": [
    "#признаками будут все столбцы датасета, за исключением Exited\n",
    "features = df.drop('Exited', axis=1)\n",
    "#столбец Exited - целевой признак\n",
    "target = df['Exited']"
   ]
  },
  {
   "cell_type": "code",
   "execution_count": 11,
   "metadata": {},
   "outputs": [],
   "source": [
    "#Разделим датасет в пропорции 20:80\n",
    "features_train_valid, features_test, target_train_valid, target_test = train_test_split(features,\\\n",
    "target, test_size=0.2, random_state=12345, stratify=target)"
   ]
  },
  {
   "cell_type": "code",
   "execution_count": 12,
   "metadata": {},
   "outputs": [],
   "source": [
    "#Разделим данные ещё раз в пропорции 25:75\n",
    "features_train, features_valid, target_train, target_valid = train_test_split(features_train_valid,\\\n",
    "target_train_valid, test_size=0.25, random_state=12345, stratify=target_train_valid)"
   ]
  },
  {
   "cell_type": "code",
   "execution_count": 13,
   "metadata": {},
   "outputs": [
    {
     "name": "stdout",
     "output_type": "stream",
     "text": [
      "Размер обучающей выборки features_train (признаки): 6000\n",
      "Размер обучающей выборки target_train (целевые значения): 6000\n",
      "Размер валидационной выборки features_valid (признаки): 2000\n",
      "Размер валидационной выборки target_valid (целевые значения): 2000\n",
      "Размер тестовой выборки features_test(признаки): 2000\n",
      "Размер тестовой выборки target_test(целевые значения): 2000\n"
     ]
    }
   ],
   "source": [
    "#Проверка корректности проведенного разделения\n",
    "print('Размер обучающей выборки features_train (признаки):',features_train.shape[0])\n",
    "print('Размер обучающей выборки target_train (целевые значения):',target_train.shape[0])\n",
    "print('Размер валидационной выборки features_valid (признаки):',features_valid.shape[0])\n",
    "print('Размер валидационной выборки target_valid (целевые значения):',target_valid.shape[0])\n",
    "print('Размер тестовой выборки features_test(признаки):',features_test.shape[0])\n",
    "print('Размер тестовой выборки target_test(целевые значения):',target_test.shape[0])"
   ]
  },
  {
   "attachments": {},
   "cell_type": "markdown",
   "metadata": {},
   "source": [
    "### Дамми признаки"
   ]
  },
  {
   "attachments": {},
   "cell_type": "markdown",
   "metadata": {},
   "source": [
    "Поскольку даные в столбцах Geography и Gender имеют тип object, то преобразуем их с помощью прямого кодирования (OHE).\n",
    "Избежим дамми ловушки добавив в get_dummies аргумент drop_first=True  "
   ]
  },
  {
   "cell_type": "code",
   "execution_count": 14,
   "metadata": {},
   "outputs": [],
   "source": [
    "# features_train = pd.get_dummies(features_train, drop_first=True)\n",
    "# features_valid = pd.get_dummies(features_valid, drop_first=True)\n",
    "# features_test = pd.get_dummies(features_test, drop_first=True)\n",
    "# features_train_valid = pd.get_dummies(features_train_valid, drop_first=True)\n",
    "\n",
    "# print('размер features_train =', features_train.shape)\n",
    "# print('размер features_valid =', features_valid.shape)\n",
    "# print('размер features_test =', features_test.shape)\n",
    "# print('размер features_train_valid =', features_train_valid.shape)"
   ]
  },
  {
   "cell_type": "code",
   "execution_count": 15,
   "metadata": {},
   "outputs": [],
   "source": [
    "#Количественные признаки\n",
    "numeric_columns = ['CreditScore', 'Age', 'Tenure', 'Balance', 'NumOfProducts',\\\n",
    "                   'HasCrCard', 'IsActiveMember', 'EstimatedSalary']\n",
    "#Категориальные признаки\n",
    "categorical_columns =['Geography','Gender']"
   ]
  },
  {
   "cell_type": "code",
   "execution_count": 16,
   "metadata": {},
   "outputs": [
    {
     "data": {
      "text/html": [
       "<style>#sk-container-id-1 {color: black;}#sk-container-id-1 pre{padding: 0;}#sk-container-id-1 div.sk-toggleable {background-color: white;}#sk-container-id-1 label.sk-toggleable__label {cursor: pointer;display: block;width: 100%;margin-bottom: 0;padding: 0.3em;box-sizing: border-box;text-align: center;}#sk-container-id-1 label.sk-toggleable__label-arrow:before {content: \"▸\";float: left;margin-right: 0.25em;color: #696969;}#sk-container-id-1 label.sk-toggleable__label-arrow:hover:before {color: black;}#sk-container-id-1 div.sk-estimator:hover label.sk-toggleable__label-arrow:before {color: black;}#sk-container-id-1 div.sk-toggleable__content {max-height: 0;max-width: 0;overflow: hidden;text-align: left;background-color: #f0f8ff;}#sk-container-id-1 div.sk-toggleable__content pre {margin: 0.2em;color: black;border-radius: 0.25em;background-color: #f0f8ff;}#sk-container-id-1 input.sk-toggleable__control:checked~div.sk-toggleable__content {max-height: 200px;max-width: 100%;overflow: auto;}#sk-container-id-1 input.sk-toggleable__control:checked~label.sk-toggleable__label-arrow:before {content: \"▾\";}#sk-container-id-1 div.sk-estimator input.sk-toggleable__control:checked~label.sk-toggleable__label {background-color: #d4ebff;}#sk-container-id-1 div.sk-label input.sk-toggleable__control:checked~label.sk-toggleable__label {background-color: #d4ebff;}#sk-container-id-1 input.sk-hidden--visually {border: 0;clip: rect(1px 1px 1px 1px);clip: rect(1px, 1px, 1px, 1px);height: 1px;margin: -1px;overflow: hidden;padding: 0;position: absolute;width: 1px;}#sk-container-id-1 div.sk-estimator {font-family: monospace;background-color: #f0f8ff;border: 1px dotted black;border-radius: 0.25em;box-sizing: border-box;margin-bottom: 0.5em;}#sk-container-id-1 div.sk-estimator:hover {background-color: #d4ebff;}#sk-container-id-1 div.sk-parallel-item::after {content: \"\";width: 100%;border-bottom: 1px solid gray;flex-grow: 1;}#sk-container-id-1 div.sk-label:hover label.sk-toggleable__label {background-color: #d4ebff;}#sk-container-id-1 div.sk-serial::before {content: \"\";position: absolute;border-left: 1px solid gray;box-sizing: border-box;top: 0;bottom: 0;left: 50%;z-index: 0;}#sk-container-id-1 div.sk-serial {display: flex;flex-direction: column;align-items: center;background-color: white;padding-right: 0.2em;padding-left: 0.2em;position: relative;}#sk-container-id-1 div.sk-item {position: relative;z-index: 1;}#sk-container-id-1 div.sk-parallel {display: flex;align-items: stretch;justify-content: center;background-color: white;position: relative;}#sk-container-id-1 div.sk-item::before, #sk-container-id-1 div.sk-parallel-item::before {content: \"\";position: absolute;border-left: 1px solid gray;box-sizing: border-box;top: 0;bottom: 0;left: 50%;z-index: -1;}#sk-container-id-1 div.sk-parallel-item {display: flex;flex-direction: column;z-index: 1;position: relative;background-color: white;}#sk-container-id-1 div.sk-parallel-item:first-child::after {align-self: flex-end;width: 50%;}#sk-container-id-1 div.sk-parallel-item:last-child::after {align-self: flex-start;width: 50%;}#sk-container-id-1 div.sk-parallel-item:only-child::after {width: 0;}#sk-container-id-1 div.sk-dashed-wrapped {border: 1px dashed gray;margin: 0 0.4em 0.5em 0.4em;box-sizing: border-box;padding-bottom: 0.4em;background-color: white;}#sk-container-id-1 div.sk-label label {font-family: monospace;font-weight: bold;display: inline-block;line-height: 1.2em;}#sk-container-id-1 div.sk-label-container {text-align: center;}#sk-container-id-1 div.sk-container {/* jupyter's `normalize.less` sets `[hidden] { display: none; }` but bootstrap.min.css set `[hidden] { display: none !important; }` so we also need the `!important` here to be able to override the default hidden behavior on the sphinx rendered scikit-learn.org. See: https://github.com/scikit-learn/scikit-learn/issues/21755 */display: inline-block !important;position: relative;}#sk-container-id-1 div.sk-text-repr-fallback {display: none;}</style><div id=\"sk-container-id-1\" class=\"sk-top-container\"><div class=\"sk-text-repr-fallback\"><pre>OneHotEncoder(drop=&#x27;first&#x27;, handle_unknown=&#x27;ignore&#x27;)</pre><b>In a Jupyter environment, please rerun this cell to show the HTML representation or trust the notebook. <br />On GitHub, the HTML representation is unable to render, please try loading this page with nbviewer.org.</b></div><div class=\"sk-container\" hidden><div class=\"sk-item\"><div class=\"sk-estimator sk-toggleable\"><input class=\"sk-toggleable__control sk-hidden--visually\" id=\"sk-estimator-id-1\" type=\"checkbox\" checked><label for=\"sk-estimator-id-1\" class=\"sk-toggleable__label sk-toggleable__label-arrow\">OneHotEncoder</label><div class=\"sk-toggleable__content\"><pre>OneHotEncoder(drop=&#x27;first&#x27;, handle_unknown=&#x27;ignore&#x27;)</pre></div></div></div></div></div>"
      ],
      "text/plain": [
       "OneHotEncoder(drop='first', handle_unknown='ignore')"
      ]
     },
     "execution_count": 16,
     "metadata": {},
     "output_type": "execute_result"
    }
   ],
   "source": [
    "encoder = OneHotEncoder(handle_unknown = 'ignore', drop = 'first')\n",
    "encoder.fit(features_train[categorical_columns])"
   ]
  },
  {
   "cell_type": "code",
   "execution_count": 17,
   "metadata": {},
   "outputs": [],
   "source": [
    "features_train_encoded = pd.DataFrame(encoder.transform(features_train[categorical_columns]).toarray(),\n",
    "                                      columns=encoder.get_feature_names_out(categorical_columns), index=features_train.index)\n",
    "\n",
    "features_train=pd.concat((features_train[numeric_columns], features_train_encoded), axis=1)"
   ]
  },
  {
   "cell_type": "code",
   "execution_count": 18,
   "metadata": {},
   "outputs": [],
   "source": [
    "features_valid_encoded = pd.DataFrame(encoder.transform(features_valid[categorical_columns]).toarray(),\n",
    "                                      columns=encoder.get_feature_names_out(categorical_columns), index=features_valid.index)\n",
    "\n",
    "features_valid=pd.concat((features_valid[numeric_columns], features_valid_encoded), axis=1)"
   ]
  },
  {
   "cell_type": "code",
   "execution_count": 19,
   "metadata": {},
   "outputs": [],
   "source": [
    "features_test_encoded = pd.DataFrame(encoder.transform(features_test[categorical_columns]).toarray(),\n",
    "                                      columns=encoder.get_feature_names_out(categorical_columns), index=features_test.index)\n",
    "\n",
    "features_test=pd.concat((features_test[numeric_columns], features_test_encoded), axis=1)"
   ]
  },
  {
   "cell_type": "code",
   "execution_count": 20,
   "metadata": {},
   "outputs": [],
   "source": [
    "features_train_valid_encoded = pd.DataFrame(encoder.transform(features_train_valid[categorical_columns]).toarray(),\n",
    "                                      columns=encoder.get_feature_names_out(categorical_columns), index=features_train_valid.index)\n",
    "\n",
    "features_train_valid=pd.concat((features_train_valid[numeric_columns], features_train_valid_encoded), axis=1)"
   ]
  },
  {
   "cell_type": "code",
   "execution_count": 21,
   "metadata": {},
   "outputs": [
    {
     "data": {
      "text/html": [
       "<div>\n",
       "<style scoped>\n",
       "    .dataframe tbody tr th:only-of-type {\n",
       "        vertical-align: middle;\n",
       "    }\n",
       "\n",
       "    .dataframe tbody tr th {\n",
       "        vertical-align: top;\n",
       "    }\n",
       "\n",
       "    .dataframe thead th {\n",
       "        text-align: right;\n",
       "    }\n",
       "</style>\n",
       "<table border=\"1\" class=\"dataframe\">\n",
       "  <thead>\n",
       "    <tr style=\"text-align: right;\">\n",
       "      <th></th>\n",
       "      <th>CreditScore</th>\n",
       "      <th>Age</th>\n",
       "      <th>Tenure</th>\n",
       "      <th>Balance</th>\n",
       "      <th>NumOfProducts</th>\n",
       "      <th>HasCrCard</th>\n",
       "      <th>IsActiveMember</th>\n",
       "      <th>EstimatedSalary</th>\n",
       "      <th>Geography_Germany</th>\n",
       "      <th>Geography_Spain</th>\n",
       "      <th>Gender_Male</th>\n",
       "    </tr>\n",
       "  </thead>\n",
       "  <tbody>\n",
       "    <tr>\n",
       "      <th>5536</th>\n",
       "      <td>636</td>\n",
       "      <td>45</td>\n",
       "      <td>5.0</td>\n",
       "      <td>0.00</td>\n",
       "      <td>2</td>\n",
       "      <td>1</td>\n",
       "      <td>1</td>\n",
       "      <td>159463.80</td>\n",
       "      <td>0.0</td>\n",
       "      <td>1.0</td>\n",
       "      <td>1.0</td>\n",
       "    </tr>\n",
       "    <tr>\n",
       "      <th>8530</th>\n",
       "      <td>808</td>\n",
       "      <td>33</td>\n",
       "      <td>2.0</td>\n",
       "      <td>103516.87</td>\n",
       "      <td>1</td>\n",
       "      <td>1</td>\n",
       "      <td>0</td>\n",
       "      <td>113907.80</td>\n",
       "      <td>0.0</td>\n",
       "      <td>0.0</td>\n",
       "      <td>0.0</td>\n",
       "    </tr>\n",
       "    <tr>\n",
       "      <th>1762</th>\n",
       "      <td>758</td>\n",
       "      <td>34</td>\n",
       "      <td>1.0</td>\n",
       "      <td>154139.45</td>\n",
       "      <td>1</td>\n",
       "      <td>1</td>\n",
       "      <td>1</td>\n",
       "      <td>60728.89</td>\n",
       "      <td>0.0</td>\n",
       "      <td>0.0</td>\n",
       "      <td>0.0</td>\n",
       "    </tr>\n",
       "    <tr>\n",
       "      <th>9090</th>\n",
       "      <td>809</td>\n",
       "      <td>39</td>\n",
       "      <td>5.0</td>\n",
       "      <td>0.00</td>\n",
       "      <td>1</td>\n",
       "      <td>1</td>\n",
       "      <td>0</td>\n",
       "      <td>77705.75</td>\n",
       "      <td>0.0</td>\n",
       "      <td>0.0</td>\n",
       "      <td>0.0</td>\n",
       "    </tr>\n",
       "    <tr>\n",
       "      <th>8777</th>\n",
       "      <td>603</td>\n",
       "      <td>24</td>\n",
       "      <td>1.0</td>\n",
       "      <td>165149.13</td>\n",
       "      <td>2</td>\n",
       "      <td>1</td>\n",
       "      <td>0</td>\n",
       "      <td>21858.28</td>\n",
       "      <td>0.0</td>\n",
       "      <td>1.0</td>\n",
       "      <td>1.0</td>\n",
       "    </tr>\n",
       "  </tbody>\n",
       "</table>\n",
       "</div>"
      ],
      "text/plain": [
       "      CreditScore  Age  Tenure    Balance  NumOfProducts  HasCrCard  \\\n",
       "5536          636   45     5.0       0.00              2          1   \n",
       "8530          808   33     2.0  103516.87              1          1   \n",
       "1762          758   34     1.0  154139.45              1          1   \n",
       "9090          809   39     5.0       0.00              1          1   \n",
       "8777          603   24     1.0  165149.13              2          1   \n",
       "\n",
       "      IsActiveMember  EstimatedSalary  Geography_Germany  Geography_Spain  \\\n",
       "5536               1        159463.80                0.0              1.0   \n",
       "8530               0        113907.80                0.0              0.0   \n",
       "1762               1         60728.89                0.0              0.0   \n",
       "9090               0         77705.75                0.0              0.0   \n",
       "8777               0         21858.28                0.0              1.0   \n",
       "\n",
       "      Gender_Male  \n",
       "5536          1.0  \n",
       "8530          0.0  \n",
       "1762          0.0  \n",
       "9090          0.0  \n",
       "8777          1.0  "
      ]
     },
     "execution_count": 21,
     "metadata": {},
     "output_type": "execute_result"
    }
   ],
   "source": [
    "features_train.head()"
   ]
  },
  {
   "cell_type": "code",
   "execution_count": 22,
   "metadata": {},
   "outputs": [
    {
     "name": "stdout",
     "output_type": "stream",
     "text": [
      "<class 'pandas.core.frame.DataFrame'>\n",
      "Int64Index: 6000 entries, 5536 to 8193\n",
      "Data columns (total 11 columns):\n",
      " #   Column             Non-Null Count  Dtype  \n",
      "---  ------             --------------  -----  \n",
      " 0   CreditScore        6000 non-null   int64  \n",
      " 1   Age                6000 non-null   int64  \n",
      " 2   Tenure             6000 non-null   float64\n",
      " 3   Balance            6000 non-null   float64\n",
      " 4   NumOfProducts      6000 non-null   int64  \n",
      " 5   HasCrCard          6000 non-null   int64  \n",
      " 6   IsActiveMember     6000 non-null   int64  \n",
      " 7   EstimatedSalary    6000 non-null   float64\n",
      " 8   Geography_Germany  6000 non-null   float64\n",
      " 9   Geography_Spain    6000 non-null   float64\n",
      " 10  Gender_Male        6000 non-null   float64\n",
      "dtypes: float64(6), int64(5)\n",
      "memory usage: 562.5 KB\n"
     ]
    }
   ],
   "source": [
    "#посмотрим образовавшийся набор столбцов\n",
    "features_train.info()"
   ]
  },
  {
   "attachments": {},
   "cell_type": "markdown",
   "metadata": {},
   "source": [
    "### Масштабирование данных"
   ]
  },
  {
   "attachments": {},
   "cell_type": "markdown",
   "metadata": {},
   "source": [
    "Поскольку данные в датасете имеют различный масштаб, то для лучшего обучения модели проведем стандартизацию данных (масштабирование)"
   ]
  },
  {
   "cell_type": "code",
   "execution_count": 23,
   "metadata": {},
   "outputs": [],
   "source": [
    "#создадим скалер и обучим его на обучающей выборке\n",
    "scaler = StandardScaler()\n",
    "scaler.fit(features_train[numeric_columns]) \n",
    "#преобразуем обучающую, валидационную и тестовую выборки\n",
    "features_train[numeric_columns] = scaler.transform(features_train[numeric_columns])\n",
    "features_valid[numeric_columns] = scaler.transform(features_valid[numeric_columns]) \n",
    "features_test[numeric_columns] = scaler.transform(features_test[numeric_columns]) \n",
    "features_train_valid[numeric_columns] = scaler.transform(features_train_valid[numeric_columns]) "
   ]
  },
  {
   "attachments": {},
   "cell_type": "markdown",
   "metadata": {},
   "source": [
    "<div class=\"alert alert-success\">\n",
    "<b>Комментарий ревьюера ✔️:</b> Круто! Тут все правильно..</div>"
   ]
  },
  {
   "attachments": {},
   "cell_type": "markdown",
   "metadata": {},
   "source": [
    "### Анализ дисбаланса"
   ]
  },
  {
   "cell_type": "code",
   "execution_count": 24,
   "metadata": {},
   "outputs": [
    {
     "name": "stdout",
     "output_type": "stream",
     "text": [
      "0    0.7963\n",
      "1    0.2037\n",
      "Name: Exited, dtype: float64\n"
     ]
    },
    {
     "data": {
      "text/plain": [
       "<AxesSubplot:>"
      ]
     },
     "execution_count": 24,
     "metadata": {},
     "output_type": "execute_result"
    },
    {
     "data": {
      "image/png": "[encoded data removed]",
      "text/plain": [
       "<Figure size 432x288 with 1 Axes>"
      ]
     },
     "metadata": {
      "needs_background": "light"
     },
     "output_type": "display_data"
    }
   ],
   "source": [
    "#рассмотрим возможный дисбаланс целевого признака\n",
    "a = df['Exited'].value_counts(normalize=True)\n",
    "print(a)\n",
    "a.plot(kind='bar')"
   ]
  },
  {
   "attachments": {},
   "cell_type": "markdown",
   "metadata": {},
   "source": [
    "Имеется дисбаланс целевых признаков (0 - 79.63%, 1- 20.37%)"
   ]
  },
  {
   "attachments": {},
   "cell_type": "markdown",
   "metadata": {},
   "source": [
    "### Вывод по разделу 1\n",
    "\n",
    "В разделе 1 было выполнено:\n",
    "\n",
    "- подключены необходходимые для дальнейшей работы библиотеки, модули, метрики;\n",
    "- ознакомиление с данными;\n",
    "- удалены столбцы с фамилиями и уникальными идентификаторами клиента (CustomerId, Surname);\n",
    "- данные разделены на обучающую, валидационную и тестовые выборки;\n",
    "- данные преобразованы с помощью OneHotEncoder;\n",
    "- выполнено масштабирование данных в столбцах 'RowNumber', 'CreditScore', 'Age', 'Tenure', 'Balance', 'EstimatedSalary'\n",
    "- выявлен дисбаланс целевых признаков (0 - 79.63%, 1- 20.37%)\n",
    "\n",
    "Размер, получившихся выборок составил:\n",
    "\n",
    "размер features_train = (6000, 11),\n",
    "размер features_valid = (2000, 11),\n",
    "размер features_test = (2000, 11)\n",
    "\n"
   ]
  },
  {
   "attachments": {},
   "cell_type": "markdown",
   "metadata": {},
   "source": [
    "## Исследование задачи"
   ]
  },
  {
   "attachments": {},
   "cell_type": "markdown",
   "metadata": {},
   "source": [
    "Для решения задачи классификации используем модели RandomForestClassifier (случайный лес), DecisionTreeClassifier (предсказывающее дерево) и  LogisticRegression (логистическая регрессию) с различными значениями гиперпараметров. Проведём обучение моделей и определим лучшую модель и набор гиперпараметров, дающий максимальное значение для метрики F1"
   ]
  },
  {
   "attachments": {},
   "cell_type": "markdown",
   "metadata": {},
   "source": [
    "### Модель RandomForestClassifier без учёта дисбаланса классов"
   ]
  },
  {
   "attachments": {},
   "cell_type": "markdown",
   "metadata": {},
   "source": [
    "#### Подбор гиперпараметров в цикле для модели RandomForestClassifier"
   ]
  },
  {
   "attachments": {},
   "cell_type": "markdown",
   "metadata": {},
   "source": [
    "В цикле подберём набор гиперпараметров, обеспечивающих максимальное значение метрики F1. Дополнительно получим значение AUC-ROC, сравним значение с F1-мерой. Данные сведем в таблицу."
   ]
  },
  {
   "cell_type": "code",
   "execution_count": 25,
   "metadata": {},
   "outputs": [
    {
     "name": "stdout",
     "output_type": "stream",
     "text": [
      "CPU times: user 55.6 s, sys: 239 ms, total: 55.8 s\n",
      "Wall time: 56.2 s\n"
     ]
    }
   ],
   "source": [
    "%%time\n",
    "#В списки вложим результаты предсказания модели с различными значениями гиперпараметров\n",
    "f1_depth_n_estimators=[] \n",
    "\n",
    "#Проверим качество модели изменяя количество принимающих решение деревьев и глубину\n",
    "for n_estimators in range(20,40):\n",
    "    for max_depth in range(10,20):\n",
    "        #Создадим пустую модель и обучим её на обучающей выборке\n",
    "        model = RandomForestClassifier(random_state=12345, n_estimators=n_estimators, max_depth=max_depth) #Создадим пустую модель\n",
    "        model.fit(features_train, target_train)\n",
    "        #предскажем значение целевых параметров на валидационной выборке\n",
    "        predictions_valid = model.predict(features_valid)\n",
    "        \n",
    "        #определим f1 для валидационной выборки\n",
    "        f1_valid = f1_score(target_valid, predictions_valid)\n",
    "        \n",
    "        #определим roc_auc\n",
    "        probobilities_valid = model.predict_proba(features_valid) # вероятность принадлежности к каждому классу\n",
    "        probobilities_one_valid = probobilities_valid[:,1] #вероятности положительного класса\n",
    "        roc_auc = roc_auc_score(target_valid, probobilities_one_valid) #На вход roc_auc_score принимает значения целевого признака и вероятности положительного класса\n",
    "        \n",
    "        #дополним список значениями: глубина дерева, количество деревьев, f1 и roc-auc для валидационной выборки \n",
    "        f1_depth_n_estimators.append([max_depth, n_estimators, f1_valid, roc_auc])    "
   ]
  },
  {
   "cell_type": "code",
   "execution_count": 26,
   "metadata": {},
   "outputs": [
    {
     "name": "stdout",
     "output_type": "stream",
     "text": [
      "ТОП десять наборов гиперпараметров для модели случайный лес по метрике F1 на валидационной выборке\n"
     ]
    },
    {
     "data": {
      "text/html": [
       "<div>\n",
       "<style scoped>\n",
       "    .dataframe tbody tr th:only-of-type {\n",
       "        vertical-align: middle;\n",
       "    }\n",
       "\n",
       "    .dataframe tbody tr th {\n",
       "        vertical-align: top;\n",
       "    }\n",
       "\n",
       "    .dataframe thead th {\n",
       "        text-align: right;\n",
       "    }\n",
       "</style>\n",
       "<table border=\"1\" class=\"dataframe\">\n",
       "  <thead>\n",
       "    <tr style=\"text-align: right;\">\n",
       "      <th></th>\n",
       "      <th>max_depth</th>\n",
       "      <th>n_estimators</th>\n",
       "      <th>F1_valid</th>\n",
       "      <th>AUC-ROC</th>\n",
       "    </tr>\n",
       "  </thead>\n",
       "  <tbody>\n",
       "    <tr>\n",
       "      <th>0</th>\n",
       "      <td>15</td>\n",
       "      <td>37</td>\n",
       "      <td>0.586989</td>\n",
       "      <td>0.848839</td>\n",
       "    </tr>\n",
       "    <tr>\n",
       "      <th>1</th>\n",
       "      <td>15</td>\n",
       "      <td>36</td>\n",
       "      <td>0.584098</td>\n",
       "      <td>0.849478</td>\n",
       "    </tr>\n",
       "    <tr>\n",
       "      <th>2</th>\n",
       "      <td>18</td>\n",
       "      <td>35</td>\n",
       "      <td>0.582701</td>\n",
       "      <td>0.846693</td>\n",
       "    </tr>\n",
       "    <tr>\n",
       "      <th>3</th>\n",
       "      <td>12</td>\n",
       "      <td>23</td>\n",
       "      <td>0.582160</td>\n",
       "      <td>0.856766</td>\n",
       "    </tr>\n",
       "    <tr>\n",
       "      <th>4</th>\n",
       "      <td>17</td>\n",
       "      <td>31</td>\n",
       "      <td>0.580060</td>\n",
       "      <td>0.847110</td>\n",
       "    </tr>\n",
       "    <tr>\n",
       "      <th>5</th>\n",
       "      <td>18</td>\n",
       "      <td>27</td>\n",
       "      <td>0.579580</td>\n",
       "      <td>0.842527</td>\n",
       "    </tr>\n",
       "    <tr>\n",
       "      <th>6</th>\n",
       "      <td>12</td>\n",
       "      <td>25</td>\n",
       "      <td>0.579528</td>\n",
       "      <td>0.857614</td>\n",
       "    </tr>\n",
       "    <tr>\n",
       "      <th>7</th>\n",
       "      <td>18</td>\n",
       "      <td>28</td>\n",
       "      <td>0.579186</td>\n",
       "      <td>0.843754</td>\n",
       "    </tr>\n",
       "    <tr>\n",
       "      <th>8</th>\n",
       "      <td>18</td>\n",
       "      <td>26</td>\n",
       "      <td>0.579186</td>\n",
       "      <td>0.841501</td>\n",
       "    </tr>\n",
       "    <tr>\n",
       "      <th>9</th>\n",
       "      <td>17</td>\n",
       "      <td>34</td>\n",
       "      <td>0.578788</td>\n",
       "      <td>0.850277</td>\n",
       "    </tr>\n",
       "  </tbody>\n",
       "</table>\n",
       "</div>"
      ],
      "text/plain": [
       "   max_depth  n_estimators  F1_valid   AUC-ROC\n",
       "0         15            37  0.586989  0.848839\n",
       "1         15            36  0.584098  0.849478\n",
       "2         18            35  0.582701  0.846693\n",
       "3         12            23  0.582160  0.856766\n",
       "4         17            31  0.580060  0.847110\n",
       "5         18            27  0.579580  0.842527\n",
       "6         12            25  0.579528  0.857614\n",
       "7         18            28  0.579186  0.843754\n",
       "8         18            26  0.579186  0.841501\n",
       "9         17            34  0.578788  0.850277"
      ]
     },
     "metadata": {},
     "output_type": "display_data"
    }
   ],
   "source": [
    "#построим датафрейм по полученным данным и отсортируем его в порядке убывания f1 метрики\n",
    "names_column_forest_f1 = ['max_depth', 'n_estimators', 'F1_valid', 'AUC-ROC'] #создадим список с названиями колонок для датафрейма\n",
    "df_f1_depth_forest = pd.DataFrame(data=f1_depth_n_estimators, columns=names_column_forest_f1)\\\n",
    ".sort_values(by='F1_valid', ascending = False).reset_index(drop=True) #создадим датафрейм отсортированный по accuracy\n",
    "\n",
    "print('ТОП десять наборов гиперпараметров для модели случайный лес по метрике F1 на валидационной выборке')\n",
    "display(df_f1_depth_forest.head(10))"
   ]
  },
  {
   "attachments": {},
   "cell_type": "markdown",
   "metadata": {},
   "source": [
    "Модель, показавшая лучшее значение на валидационной выборке F1 = 0.586989, имеет гиперпараметры: число деревьев - 37, глубина дерева - 15"
   ]
  },
  {
   "attachments": {},
   "cell_type": "markdown",
   "metadata": {},
   "source": [
    "#### Подбор гиперпараметров для модели RandomForestClassifier с помощью GridSearhCV"
   ]
  },
  {
   "attachments": {},
   "cell_type": "markdown",
   "metadata": {},
   "source": [
    "Определим список возможных гиперпараметров для модели RandomForestClassifier. Выберем часть параметров, по которым будет осуществляться подбор и обеспечивающих лучшее значение метрики с помощью GridSearhCV\n"
   ]
  },
  {
   "cell_type": "code",
   "execution_count": 27,
   "metadata": {},
   "outputs": [
    {
     "data": {
      "text/plain": [
       "dict_keys(['bootstrap', 'ccp_alpha', 'class_weight', 'criterion', 'max_depth', 'max_features', 'max_leaf_nodes', 'max_samples', 'min_impurity_decrease', 'min_samples_leaf', 'min_samples_split', 'min_weight_fraction_leaf', 'n_estimators', 'n_jobs', 'oob_score', 'random_state', 'verbose', 'warm_start'])"
      ]
     },
     "execution_count": 27,
     "metadata": {},
     "output_type": "execute_result"
    }
   ],
   "source": [
    "rf = RandomForestClassifier(random_state=12345)\n",
    "rf.get_params().keys() #список возможных гиперпараметров"
   ]
  },
  {
   "attachments": {},
   "cell_type": "markdown",
   "metadata": {},
   "source": [
    "Из общего списка гиперпараметров возмём только некоторые - max_depth, n_estimators. Описание всех гиперпараметров RandomForestClassifier: https://scikit-learn.org/stable/modules/generated/sklearn.ensemble.RandomForestClassifier.html "
   ]
  },
  {
   "attachments": {},
   "cell_type": "markdown",
   "metadata": {},
   "source": [
    "Поскольку для GridSearchCV валидационная выборка не требуется т.к. используется кросс-валидация, то поиск параметров произведём на объеденённой обучающей и валидационной выборке (features_train_valid, target_train_valid). Установим параметр cv=3, соответствующий отношению треннировочной и валидационной выборки, используемых для перебора параметров в цикле (в разделе 2.1.1)"
   ]
  },
  {
   "cell_type": "code",
   "execution_count": 28,
   "metadata": {},
   "outputs": [
    {
     "name": "stdout",
     "output_type": "stream",
     "text": [
      "Гиперпараметры, обеспечивающие наибольшее значение F1 {'max_depth': 15, 'n_estimators': 45}\n",
      "Максимальное значение F1 =  0.5796220055743464\n",
      "CPU times: user 2min 46s, sys: 1.44 s, total: 2min 47s\n",
      "Wall time: 2min 48s\n"
     ]
    }
   ],
   "source": [
    "%%time\n",
    "#пространство гиперпараметров\n",
    "grid_space={'max_depth':range(10,40,5),\n",
    "            'n_estimators':range(10,110,5)\n",
    "            }\n",
    "\n",
    "grid = GridSearchCV(rf, param_grid=grid_space, cv=3, scoring='f1')\n",
    "model_grid = grid.fit(features_train_valid, target_train_valid)\n",
    "\n",
    "print('Гиперпараметры, обеспечивающие наибольшее значение F1',model_grid.best_params_)\n",
    "print('Максимальное значение F1 = ', model_grid.best_score_)"
   ]
  },
  {
   "attachments": {},
   "cell_type": "markdown",
   "metadata": {},
   "source": [
    "Модель RandomForestClassifier, определенная с помощью GridSearhCV: rf = RandomForestClassifier(max_depth=15, n_estimators=45, random_state=12345), F1=0.5796220055743464"
   ]
  },
  {
   "attachments": {},
   "cell_type": "markdown",
   "metadata": {},
   "source": [
    "#### Подбор гиперпараметров для модели RandomForestClassifier с помощью RandomizedSearchCV"
   ]
  },
  {
   "attachments": {},
   "cell_type": "markdown",
   "metadata": {},
   "source": [
    "Случайный поиск с помощью RandomForestClassifier позволит расширить диапазон поиска лучшей комбинации гиперпараметров. Установим n_iter=100 (случайный поиск будет выполняться 100 раз)"
   ]
  },
  {
   "cell_type": "code",
   "execution_count": 29,
   "metadata": {},
   "outputs": [
    {
     "name": "stdout",
     "output_type": "stream",
     "text": [
      "Гиперпараметры, обеспечивающие наибольшее значение F1 {'n_estimators': 133, 'max_depth': 61}\n",
      "Максимальное значение F1 =  0.5792748931163435\n",
      "CPU times: user 3min 58s, sys: 3.1 s, total: 4min 1s\n",
      "Wall time: 4min 3s\n"
     ]
    }
   ],
   "source": [
    "%%time\n",
    "rf = RandomForestClassifier(random_state=12345)\n",
    "\n",
    "#пространство гиперпараметров\n",
    "grid_space={'max_depth':range(10, 80),\n",
    "            'n_estimators':range(10, 200)\n",
    "            }\n",
    "\n",
    "rf_random = RandomizedSearchCV(rf, grid_space, n_iter=100, scoring='f1', cv=3)\n",
    "model_random = rf_random.fit(features_train_valid, target_train_valid)\n",
    "\n",
    "print('Гиперпараметры, обеспечивающие наибольшее значение F1', model_random.best_params_)\n",
    "print('Максимальное значение F1 = ', model_random.best_score_)"
   ]
  },
  {
   "attachments": {},
   "cell_type": "markdown",
   "metadata": {},
   "source": [
    "Модель RandomForestClassifier, определенная с помощью RandomizedSearchCV: rf = RandomForestClassifier(max_depth=33, n_estimators=95, random_state=12345), F1=0.5792748931163435"
   ]
  },
  {
   "attachments": {},
   "cell_type": "markdown",
   "metadata": {},
   "source": [
    "### Модель DecisionTreeClassifier без учёта дисбаланса классов"
   ]
  },
  {
   "attachments": {},
   "cell_type": "markdown",
   "metadata": {},
   "source": [
    "#### Подбор гиперпараметров в цикле для модели DecisionTreeClassifier "
   ]
  },
  {
   "cell_type": "code",
   "execution_count": 30,
   "metadata": {},
   "outputs": [],
   "source": [
    "#Создадим пустой список. В него вложим результаты предсказания модели с различными значениями гиперпараметров\n",
    "f1_depth=[]\n",
    "#Проверим качество модели изменяя максимальную глубину дерева от 1 до 10\n",
    "for max_depth in range(1, 100):\n",
    "    model = DecisionTreeClassifier(random_state=12345, max_depth=max_depth) #Создадим пустую модель\n",
    "    \n",
    "    model.fit(features_train, target_train) #Обучим модель на обучающей выборке\n",
    "    predictions_valid = model.predict(features_valid) #предскажем значение целевых параметров на валидационной выборке\n",
    "   \n",
    "    f1_valid = f1_score(target_valid, predictions_valid) #определим f1 для валидационной выборки\n",
    "    \n",
    "    probobilities_valid = model.predict_proba(features_valid) # вероятность принадлежности к каждому классу\n",
    "    probobilities_one_valid = probobilities_valid[:,1] #вероятности положительного класса\n",
    "    roc_auc = roc_auc_score(target_valid, probobilities_one_valid) #На вход roc_auc_score принимает значения целевого признака и вероятности положительного класса\n",
    "    \n",
    "    f1_depth.append([max_depth, f1_valid, roc_auc]) #дополним список значениями: глубина дерева, f1"
   ]
  },
  {
   "cell_type": "code",
   "execution_count": 31,
   "metadata": {},
   "outputs": [
    {
     "name": "stdout",
     "output_type": "stream",
     "text": [
      "ТОП десять для модели Решающее дерево\n"
     ]
    },
    {
     "data": {
      "text/html": [
       "<div>\n",
       "<style scoped>\n",
       "    .dataframe tbody tr th:only-of-type {\n",
       "        vertical-align: middle;\n",
       "    }\n",
       "\n",
       "    .dataframe tbody tr th {\n",
       "        vertical-align: top;\n",
       "    }\n",
       "\n",
       "    .dataframe thead th {\n",
       "        text-align: right;\n",
       "    }\n",
       "</style>\n",
       "<table border=\"1\" class=\"dataframe\">\n",
       "  <thead>\n",
       "    <tr style=\"text-align: right;\">\n",
       "      <th></th>\n",
       "      <th>max_depth</th>\n",
       "      <th>F1_valid</th>\n",
       "      <th>AUC-ROC</th>\n",
       "    </tr>\n",
       "  </thead>\n",
       "  <tbody>\n",
       "    <tr>\n",
       "      <th>0</th>\n",
       "      <td>8</td>\n",
       "      <td>0.581662</td>\n",
       "      <td>0.809727</td>\n",
       "    </tr>\n",
       "    <tr>\n",
       "      <th>1</th>\n",
       "      <td>9</td>\n",
       "      <td>0.577031</td>\n",
       "      <td>0.798327</td>\n",
       "    </tr>\n",
       "    <tr>\n",
       "      <th>2</th>\n",
       "      <td>11</td>\n",
       "      <td>0.559140</td>\n",
       "      <td>0.760795</td>\n",
       "    </tr>\n",
       "    <tr>\n",
       "      <th>3</th>\n",
       "      <td>7</td>\n",
       "      <td>0.550544</td>\n",
       "      <td>0.831058</td>\n",
       "    </tr>\n",
       "    <tr>\n",
       "      <th>4</th>\n",
       "      <td>6</td>\n",
       "      <td>0.538217</td>\n",
       "      <td>0.828456</td>\n",
       "    </tr>\n",
       "    <tr>\n",
       "      <th>5</th>\n",
       "      <td>12</td>\n",
       "      <td>0.535393</td>\n",
       "      <td>0.741709</td>\n",
       "    </tr>\n",
       "    <tr>\n",
       "      <th>6</th>\n",
       "      <td>10</td>\n",
       "      <td>0.532951</td>\n",
       "      <td>0.778875</td>\n",
       "    </tr>\n",
       "    <tr>\n",
       "      <th>7</th>\n",
       "      <td>14</td>\n",
       "      <td>0.517110</td>\n",
       "      <td>0.706380</td>\n",
       "    </tr>\n",
       "    <tr>\n",
       "      <th>8</th>\n",
       "      <td>4</td>\n",
       "      <td>0.516854</td>\n",
       "      <td>0.827219</td>\n",
       "    </tr>\n",
       "    <tr>\n",
       "      <th>9</th>\n",
       "      <td>2</td>\n",
       "      <td>0.514793</td>\n",
       "      <td>0.739756</td>\n",
       "    </tr>\n",
       "  </tbody>\n",
       "</table>\n",
       "</div>"
      ],
      "text/plain": [
       "   max_depth  F1_valid   AUC-ROC\n",
       "0          8  0.581662  0.809727\n",
       "1          9  0.577031  0.798327\n",
       "2         11  0.559140  0.760795\n",
       "3          7  0.550544  0.831058\n",
       "4          6  0.538217  0.828456\n",
       "5         12  0.535393  0.741709\n",
       "6         10  0.532951  0.778875\n",
       "7         14  0.517110  0.706380\n",
       "8          4  0.516854  0.827219\n",
       "9          2  0.514793  0.739756"
      ]
     },
     "metadata": {},
     "output_type": "display_data"
    }
   ],
   "source": [
    "#создадим список с названиями колонок для датафрейма\n",
    "names_column = ['max_depth','F1_valid','AUC-ROC'] \n",
    "\n",
    "#создадим датафрейм отсортированный по f1\n",
    "df_f1_depth_tree = pd.DataFrame(data=f1_depth, columns=names_column)\\\n",
    ".sort_values(by='F1_valid', ascending = False).reset_index(drop=True) \n",
    "\n",
    "print('ТОП десять для модели Решающее дерево')\n",
    "display(df_f1_depth_tree.head(10))"
   ]
  },
  {
   "attachments": {},
   "cell_type": "markdown",
   "metadata": {},
   "source": [
    "Модель, показавшая лучшее значение на валидационной выборке F1 = 0.581662, имеет глубину дерева = 8"
   ]
  },
  {
   "attachments": {},
   "cell_type": "markdown",
   "metadata": {},
   "source": [
    "#### Подбор гиперпараметров для модели DecisionTreeClassifier с помощью GridSearhCV"
   ]
  },
  {
   "attachments": {},
   "cell_type": "markdown",
   "metadata": {},
   "source": [
    "Определим список возможных гиперпараметров для модели RandomForestClassifier. Выберем часть параметров, по которым будет осуществляться подбор и обеспечивающих лучшее значение метрики с помощью GridSearhCV\n"
   ]
  },
  {
   "cell_type": "code",
   "execution_count": 32,
   "metadata": {},
   "outputs": [
    {
     "data": {
      "text/plain": [
       "dict_keys(['ccp_alpha', 'class_weight', 'criterion', 'max_depth', 'max_features', 'max_leaf_nodes', 'min_impurity_decrease', 'min_samples_leaf', 'min_samples_split', 'min_weight_fraction_leaf', 'random_state', 'splitter'])"
      ]
     },
     "execution_count": 32,
     "metadata": {},
     "output_type": "execute_result"
    }
   ],
   "source": [
    "dt = DecisionTreeClassifier(random_state=12345)\n",
    "dt.get_params().keys() #список возможных гиперпараметров"
   ]
  },
  {
   "attachments": {},
   "cell_type": "markdown",
   "metadata": {},
   "source": [
    "Из общего списка гиперпараметров возмём только - max_depth. Описание всех гиперпараметров DecisionTreeClassifier: https://scikit-learn.org/stable/modules/generated/sklearn.tree.DecisionTreeClassifier.html"
   ]
  },
  {
   "cell_type": "code",
   "execution_count": 33,
   "metadata": {},
   "outputs": [
    {
     "name": "stdout",
     "output_type": "stream",
     "text": [
      "Гиперпараметры, обеспечивающие наибольшее значение F1 {'max_depth': 7}\n",
      "Максимальное значение F1 =  0.5564871552438819\n",
      "CPU times: user 10.6 s, sys: 12.1 ms, total: 10.6 s\n",
      "Wall time: 10.6 s\n"
     ]
    }
   ],
   "source": [
    "%%time\n",
    "#пространство гиперпараметров\n",
    "grid_space={'max_depth':list(np.arange(1, 100))}\n",
    "\n",
    "grid = GridSearchCV(dt, param_grid=grid_space, cv=3, scoring='f1')\n",
    "model_grid = grid.fit(features_train_valid, target_train_valid)\n",
    "\n",
    "print('Гиперпараметры, обеспечивающие наибольшее значение F1',model_grid.best_params_)\n",
    "print('Максимальное значение F1 = ', model_grid.best_score_)"
   ]
  },
  {
   "attachments": {},
   "cell_type": "markdown",
   "metadata": {},
   "source": [
    "Модель DecisionTreeClassifier, определенная с помощью GridSearhCV: dt = DecisionTreeClassifier (max_depth=7, random_state=12345), F1=0.556487"
   ]
  },
  {
   "attachments": {},
   "cell_type": "markdown",
   "metadata": {},
   "source": [
    "#### Подбор гиперпараметров для модели DecisionTreeClassifier с помощью RandomizedSearchCV"
   ]
  },
  {
   "attachments": {},
   "cell_type": "markdown",
   "metadata": {},
   "source": [
    " Случайный поиск с помощью RandomForestClassifier позволит расширить диапазон поиска лучшей комбинации гиперпараметров. Установим n_iter=100 (случайный поиск будет выполняться 100 раз)"
   ]
  },
  {
   "cell_type": "code",
   "execution_count": 34,
   "metadata": {},
   "outputs": [
    {
     "name": "stdout",
     "output_type": "stream",
     "text": [
      "Гиперпараметры, обеспечивающие наибольшее значение F1 {'max_depth': 7}\n",
      "Максимальное значение F1 =  0.5564871552438819\n",
      "CPU times: user 11 s, sys: 20 ms, total: 11 s\n",
      "Wall time: 11 s\n"
     ]
    }
   ],
   "source": [
    "%%time\n",
    "dt = DecisionTreeClassifier(random_state=12345)\n",
    "\n",
    "#пространство гиперпараметров\n",
    "grid_space={'max_depth':range(1, 300)}\n",
    "\n",
    "rf_random = RandomizedSearchCV(dt, grid_space, n_iter=100, scoring='f1', cv=3)\n",
    "model_random = rf_random.fit(features_train_valid, target_train_valid)\n",
    "\n",
    "print('Гиперпараметры, обеспечивающие наибольшее значение F1', model_random.best_params_)\n",
    "print('Максимальное значение F1 = ', model_random.best_score_)"
   ]
  },
  {
   "attachments": {},
   "cell_type": "markdown",
   "metadata": {},
   "source": [
    "Модель DecisionTreeClassifier, определенная с помощью RandomizedSearchCV: dt = RandomForestClassifier(max_depth=14, random_state=12345), F1=0.5272389888241258"
   ]
  },
  {
   "attachments": {},
   "cell_type": "markdown",
   "metadata": {},
   "source": [
    "### Модель LogisticRegression без учёта дисбаланса классов"
   ]
  },
  {
   "attachments": {},
   "cell_type": "markdown",
   "metadata": {},
   "source": [
    "#### Подбор гиперпараметров в цикле для модели LogisticRegression "
   ]
  },
  {
   "attachments": {},
   "cell_type": "markdown",
   "metadata": {},
   "source": [
    "Зафиксируем рпараметры class_weight='balanced' (для автоматической настройки весов) и random_state=12345 для повторимости полученных результатов.\n",
    "\n",
    "Подберем параметр С (отвечает за регуляризацию) при котором достигается максимальное значение F1"
   ]
  },
  {
   "cell_type": "code",
   "execution_count": 35,
   "metadata": {},
   "outputs": [
    {
     "name": "stdout",
     "output_type": "stream",
     "text": [
      "CPU times: user 1.49 s, sys: 1.79 s, total: 3.28 s\n",
      "Wall time: 3.27 s\n"
     ]
    }
   ],
   "source": [
    "%%time\n",
    "#В списки вложим результаты предсказания модели с различными значениями С\n",
    "f1_c=[] \n",
    "c_value = np.arange(0.1,2.1, 0.1) #Пподберём значения С от 0.1 до 2.1 с шагом 0.1\n",
    "for c_parametr in c_value: \n",
    "    model = LogisticRegression(C=c_parametr, class_weight='balanced', random_state=12345, solver='liblinear') #Создадим пустую модель\n",
    "    model.fit(features_train, target_train) #Обучим модель на обучающей выборке\n",
    "        \n",
    "    predictions_valid = model.predict(features_valid) #предскажем значение целевых параметров на валидационной выборке\n",
    "       \n",
    "    f1_valid = f1_score(target_valid, predictions_valid) #определим f1 для валидационной выборки\n",
    "        \n",
    "    probobilities_valid = model.predict_proba(features_valid) # вероятность принадлежности к каждому классу\n",
    "    probobilities_one_valid = probobilities_valid[:,1] #вероятности положительного класса\n",
    "    roc_auc = roc_auc_score(target_valid, probobilities_one_valid) \n",
    "        \n",
    "    f1_c.append([c_parametr,f1_valid,roc_auc]) #дополним список значениями: С, f1 и roc-auc "
   ]
  },
  {
   "cell_type": "code",
   "execution_count": 36,
   "metadata": {},
   "outputs": [
    {
     "name": "stdout",
     "output_type": "stream",
     "text": [
      "ТОП десять наборов гиперпараметров для модели логистическая регрессия по метрике F1 на валидационной выборке\n"
     ]
    },
    {
     "data": {
      "text/html": [
       "<div>\n",
       "<style scoped>\n",
       "    .dataframe tbody tr th:only-of-type {\n",
       "        vertical-align: middle;\n",
       "    }\n",
       "\n",
       "    .dataframe tbody tr th {\n",
       "        vertical-align: top;\n",
       "    }\n",
       "\n",
       "    .dataframe thead th {\n",
       "        text-align: right;\n",
       "    }\n",
       "</style>\n",
       "<table border=\"1\" class=\"dataframe\">\n",
       "  <thead>\n",
       "    <tr style=\"text-align: right;\">\n",
       "      <th></th>\n",
       "      <th>C</th>\n",
       "      <th>F1_valid</th>\n",
       "      <th>AUC-ROC</th>\n",
       "    </tr>\n",
       "  </thead>\n",
       "  <tbody>\n",
       "    <tr>\n",
       "      <th>0</th>\n",
       "      <td>2.0</td>\n",
       "      <td>0.511304</td>\n",
       "      <td>0.791762</td>\n",
       "    </tr>\n",
       "    <tr>\n",
       "      <th>1</th>\n",
       "      <td>1.9</td>\n",
       "      <td>0.511304</td>\n",
       "      <td>0.791764</td>\n",
       "    </tr>\n",
       "    <tr>\n",
       "      <th>2</th>\n",
       "      <td>1.8</td>\n",
       "      <td>0.511304</td>\n",
       "      <td>0.791759</td>\n",
       "    </tr>\n",
       "    <tr>\n",
       "      <th>3</th>\n",
       "      <td>1.2</td>\n",
       "      <td>0.510860</td>\n",
       "      <td>0.791762</td>\n",
       "    </tr>\n",
       "    <tr>\n",
       "      <th>4</th>\n",
       "      <td>1.7</td>\n",
       "      <td>0.510860</td>\n",
       "      <td>0.791753</td>\n",
       "    </tr>\n",
       "    <tr>\n",
       "      <th>5</th>\n",
       "      <td>1.6</td>\n",
       "      <td>0.510860</td>\n",
       "      <td>0.791756</td>\n",
       "    </tr>\n",
       "    <tr>\n",
       "      <th>6</th>\n",
       "      <td>1.5</td>\n",
       "      <td>0.510860</td>\n",
       "      <td>0.791758</td>\n",
       "    </tr>\n",
       "    <tr>\n",
       "      <th>7</th>\n",
       "      <td>1.4</td>\n",
       "      <td>0.510860</td>\n",
       "      <td>0.791756</td>\n",
       "    </tr>\n",
       "    <tr>\n",
       "      <th>8</th>\n",
       "      <td>1.3</td>\n",
       "      <td>0.510860</td>\n",
       "      <td>0.791762</td>\n",
       "    </tr>\n",
       "    <tr>\n",
       "      <th>9</th>\n",
       "      <td>1.1</td>\n",
       "      <td>0.510860</td>\n",
       "      <td>0.791759</td>\n",
       "    </tr>\n",
       "  </tbody>\n",
       "</table>\n",
       "</div>"
      ],
      "text/plain": [
       "     C  F1_valid   AUC-ROC\n",
       "0  2.0  0.511304  0.791762\n",
       "1  1.9  0.511304  0.791764\n",
       "2  1.8  0.511304  0.791759\n",
       "3  1.2  0.510860  0.791762\n",
       "4  1.7  0.510860  0.791753\n",
       "5  1.6  0.510860  0.791756\n",
       "6  1.5  0.510860  0.791758\n",
       "7  1.4  0.510860  0.791756\n",
       "8  1.3  0.510860  0.791762\n",
       "9  1.1  0.510860  0.791759"
      ]
     },
     "metadata": {},
     "output_type": "display_data"
    }
   ],
   "source": [
    "names_column_lr_f1 = ['C', 'F1_valid', 'AUC-ROC'] #создадим список с названиями колонок для датафрейма\n",
    "df_f1_lr = pd.DataFrame(data=f1_c, columns=names_column_lr_f1)\\\n",
    ".sort_values(by='F1_valid', ascending = False).reset_index(drop=True) #создадим датафрейм отсортированный по accuracy\n",
    "\n",
    "print('ТОП десять наборов гиперпараметров для модели логистическая регрессия по метрике F1 на валидационной выборке')\n",
    "display(df_f1_lr.head(10))"
   ]
  },
  {
   "attachments": {},
   "cell_type": "markdown",
   "metadata": {},
   "source": [
    "Модель LogisticRegression, показавшая лучшее значение на валидационной выборке F1 = 0.512153, имеет параметр С = 0.2"
   ]
  },
  {
   "attachments": {},
   "cell_type": "markdown",
   "metadata": {},
   "source": [
    "#### Подбор гиперпараметров для модели LogisticRegression с помощью GridSearhCV"
   ]
  },
  {
   "attachments": {},
   "cell_type": "markdown",
   "metadata": {},
   "source": [
    "Определим список возможных гиперпараметров для модели LogisticRegression. Выберем часть параметров, по которым будет осуществляться подбор и обеспечивающих лучшее значение метрики с помощью GridSearhCV"
   ]
  },
  {
   "cell_type": "code",
   "execution_count": 37,
   "metadata": {},
   "outputs": [
    {
     "data": {
      "text/plain": [
       "dict_keys(['C', 'class_weight', 'dual', 'fit_intercept', 'intercept_scaling', 'l1_ratio', 'max_iter', 'multi_class', 'n_jobs', 'penalty', 'random_state', 'solver', 'tol', 'verbose', 'warm_start'])"
      ]
     },
     "execution_count": 37,
     "metadata": {},
     "output_type": "execute_result"
    }
   ],
   "source": [
    "lr = LogisticRegression(class_weight='balanced', random_state=12345)\n",
    "lr.get_params().keys() #список возможных гиперпараметров"
   ]
  },
  {
   "attachments": {},
   "cell_type": "markdown",
   "metadata": {},
   "source": [
    "Из общего списка гиперпараметров возмём только - solver и С. Описание всех гиперпараметров LogisticRegression: https://scikit-learn.org/stable/modules/generated/sklearn.linear_model.LogisticRegression.html"
   ]
  },
  {
   "cell_type": "code",
   "execution_count": 38,
   "metadata": {},
   "outputs": [
    {
     "name": "stdout",
     "output_type": "stream",
     "text": [
      "Гиперпараметры, обеспечивающие наибольшее значение F1 {'C': 0.6, 'solver': 'lbfgs'}\n",
      "Максимальное значение F1 =  0.4835907161318633\n",
      "CPU times: user 26.2 s, sys: 35.2 s, total: 1min 1s\n",
      "Wall time: 1min 1s\n"
     ]
    }
   ],
   "source": [
    "%%time\n",
    "grid_space = {'solver': ['newton-cg', 'lbfgs', 'liblinear', 'sag', 'saga'],\n",
    "              'C' : np.arange(0.1,1.0, 0.1)}\n",
    "\n",
    "grid = GridSearchCV(lr, param_grid=grid_space, cv=3, scoring='f1')\n",
    "model_grid = grid.fit(features_train_valid, target_train_valid)\n",
    "\n",
    "print('Гиперпараметры, обеспечивающие наибольшее значение F1',model_grid.best_params_)\n",
    "print('Максимальное значение F1 = ', model_grid.best_score_)  "
   ]
  },
  {
   "attachments": {},
   "cell_type": "markdown",
   "metadata": {},
   "source": [
    "Лучшая модель LogisticRegression, определенная с помощью GridSearhCV: lr = DecisionTreeClassifier (C = 0.1, solver = 'liblinear', class_weight='balanced', random_state=12345), F1=0.48709585958384155"
   ]
  },
  {
   "attachments": {},
   "cell_type": "markdown",
   "metadata": {},
   "source": [
    "### Вывод по разделу 2"
   ]
  },
  {
   "attachments": {},
   "cell_type": "markdown",
   "metadata": {},
   "source": [
    "В разделе 2 были рассмотрены три модели RandomForestClassifier,  Модель DecisionTreeClassifier и LogisticRegression.\n",
    "1. Для RandomForestClassifier лучшими наборами гиперпараметров являются:\n",
    "- max_depth=15, n_estimators=37 (подбор в цикле). Модель показала F1=0.586989, AUC-ROC=0.848839 на валидационной выборке \n",
    "- max_depth=15, n_estimators=45 (GridSearchCV). Модель показала F1=0.579622 на объединенной обучающей и валидационной выборке \n",
    "- max_depth=58, n_estimators=133 (RandomizedSearchCV) F1=0.579274 на объединенной обучающей и валидационной выборке\n",
    "2. Для DecisionTreeClassifier лучшими наборами гиперпараметров являются:\n",
    "- max_depth=8 (подбор в цикле) Модель показала F1=0.581662, AUC-ROC=0.809727 на валидационной выборке\n",
    "- max_depth=7 (GridSearchCV). Модель показала F1=0.579622 на объединенной обучающей и валидационной выборке \n",
    "- max_depth=14 (RandomizedSearchCV) Модель показала F1=0.527238 на объединенной обучающей и валидационной выборке\n",
    "3. Для DecisionLogisticRegression лучшими наборами гиперпараметров являются:\n",
    "- C=0.2, class_weight='balanced' (подбор в цикле). Модель показала F1=0.512153, AUC-ROC=0.791972 на валидационной выборке\n",
    "- C = 0.1, solver = 'liblinear', class_weight='balanced' (GridSearchCV). Модель показала F1=0.487095 на объединенной обучающей и валидационной выборке "
   ]
  },
  {
   "attachments": {},
   "cell_type": "markdown",
   "metadata": {},
   "source": [
    "## Борьба с дисбалансом"
   ]
  },
  {
   "attachments": {},
   "cell_type": "markdown",
   "metadata": {},
   "source": [
    "В разделе 1 было показано, что данные имеют дисбаланс в целевых признаках. Определим в количественном выражении бисбаланс между классами"
   ]
  },
  {
   "cell_type": "code",
   "execution_count": 39,
   "metadata": {},
   "outputs": [
    {
     "name": "stdout",
     "output_type": "stream",
     "text": [
      "3.9079754601227\n"
     ]
    }
   ],
   "source": [
    "print(target_train_valid.value_counts(normalize=True)[0]/target_train_valid.value_counts(normalize=True)[1])"
   ]
  },
  {
   "attachments": {},
   "cell_type": "markdown",
   "metadata": {},
   "source": [
    "Количество нулей в целевых признаках почти в четыре раза больше, чем единиц. Для борьбы с дисбалансом воспользуемся функцией, дублирующей строки с классом 1 и методом балансировки классов SMOTE"
   ]
  },
  {
   "attachments": {},
   "cell_type": "markdown",
   "metadata": {},
   "source": [
    "### Аппсемплинг (с помощью функции). Модели RandomForestClassifier, DecisionTreeClassifier и LogisticRegression "
   ]
  },
  {
   "attachments": {},
   "cell_type": "markdown",
   "metadata": {},
   "source": [
    "Устраним дисбаланс классов с помощью функции"
   ]
  },
  {
   "cell_type": "code",
   "execution_count": 40,
   "metadata": {},
   "outputs": [],
   "source": [
    "def upsample(features, target, repeat):\n",
    "    features_zeros = features[target == 0]\n",
    "    features_ones = features[target == 1]\n",
    "    target_zeros = target[target == 0]\n",
    "    target_ones = target[target == 1]\n",
    "#увеличим количество единиц в выборке в repeat раз\n",
    "    features_upsampled = pd.concat([features_zeros] + [features_ones] * repeat)\n",
    "    target_upsampled = pd.concat([target_zeros] + [target_ones] * repeat)\n",
    " # перемешаем получившиеся выборки для \"равномерного\" распределения 0 и 1   \n",
    "    features_upsampled, target_upsampled = shuffle(\n",
    "        features_upsampled, target_upsampled, random_state=12345)\n",
    "    \n",
    "    return features_upsampled, target_upsampled\n",
    "# получим features_upsampled, target_upsampled, как результат работы функции upsample\n",
    "features_upsampled, target_upsampled = upsample(features_train, target_train, 4)"
   ]
  },
  {
   "cell_type": "code",
   "execution_count": 41,
   "metadata": {},
   "outputs": [
    {
     "name": "stdout",
     "output_type": "stream",
     "text": [
      "1    0.505947\n",
      "0    0.494053\n",
      "Name: Exited, dtype: float64\n"
     ]
    },
    {
     "data": {
      "text/plain": [
       "<AxesSubplot:>"
      ]
     },
     "execution_count": 41,
     "metadata": {},
     "output_type": "execute_result"
    },
    {
     "data": {
      "image/png": "[encoded data removed]",
      "text/plain": [
       "<Figure size 432x288 with 1 Axes>"
      ]
     },
     "metadata": {
      "needs_background": "light"
     },
     "output_type": "display_data"
    }
   ],
   "source": [
    "#рассмотрим результат аппсемплинга\n",
    "a = target_upsampled.value_counts(normalize=True)\n",
    "print(a)\n",
    "a.plot(kind='bar')"
   ]
  },
  {
   "attachments": {},
   "cell_type": "markdown",
   "metadata": {},
   "source": [
    "Дисбаланс классов устранен. Подготовим данные к обучению моделей"
   ]
  },
  {
   "attachments": {},
   "cell_type": "markdown",
   "metadata": {},
   "source": [
    "#### Модель RandomForestClassifier"
   ]
  },
  {
   "cell_type": "code",
   "execution_count": 42,
   "metadata": {},
   "outputs": [
    {
     "name": "stdout",
     "output_type": "stream",
     "text": [
      "CPU times: user 1min 10s, sys: 138 ms, total: 1min 10s\n",
      "Wall time: 1min 10s\n"
     ]
    }
   ],
   "source": [
    "%%time\n",
    "#В списки вложим результаты предсказания модели с различными значениями гиперпараметров\n",
    "f1_depth_n_estimators=[] \n",
    "\n",
    "#Проверим качество модели изменяя количество принимающих решение деревьев и глубину\n",
    "for n_estimators in range(20,40):\n",
    "    for max_depth in range(10,20):\n",
    "        #Создадим пустую модель и обучим её на обучающей выборке\n",
    "        model = RandomForestClassifier(random_state=12345, n_estimators=n_estimators, max_depth=max_depth) #Создадим пустую модель\n",
    "        model.fit(features_upsampled, target_upsampled)\n",
    "        #предскажем значение целевых параметров на валидационной выборке\n",
    "        predictions_valid = model.predict(features_valid)\n",
    "        \n",
    "        #определим f1 для валидационной выборки\n",
    "        f1_valid = f1_score(target_valid, predictions_valid)\n",
    "        \n",
    "        #определим roc_auc\n",
    "        probobilities_valid = model.predict_proba(features_valid) # вероятность принадлежности к каждому классу\n",
    "        probobilities_one_valid = probobilities_valid[:,1] #вероятности положительного класса\n",
    "        roc_auc = roc_auc_score(target_valid, probobilities_one_valid) #На вход roc_auc_score принимает значения целевого признака и вероятности положительного класса\n",
    "        \n",
    "        #дополним список значениями: глубина дерева, количество деревьев, f1 и roc-auc для валидационной выборки \n",
    "        f1_depth_n_estimators.append([max_depth, n_estimators, f1_valid, roc_auc])    "
   ]
  },
  {
   "cell_type": "code",
   "execution_count": 43,
   "metadata": {},
   "outputs": [
    {
     "name": "stdout",
     "output_type": "stream",
     "text": [
      "ТОП десять наборов гиперпараметров для модели случайный лес по метрике F1 на валидационной выборке\n"
     ]
    },
    {
     "data": {
      "text/html": [
       "<div>\n",
       "<style scoped>\n",
       "    .dataframe tbody tr th:only-of-type {\n",
       "        vertical-align: middle;\n",
       "    }\n",
       "\n",
       "    .dataframe tbody tr th {\n",
       "        vertical-align: top;\n",
       "    }\n",
       "\n",
       "    .dataframe thead th {\n",
       "        text-align: right;\n",
       "    }\n",
       "</style>\n",
       "<table border=\"1\" class=\"dataframe\">\n",
       "  <thead>\n",
       "    <tr style=\"text-align: right;\">\n",
       "      <th></th>\n",
       "      <th>max_depth</th>\n",
       "      <th>n_estimators</th>\n",
       "      <th>F1_valid</th>\n",
       "      <th>AUC-ROC</th>\n",
       "    </tr>\n",
       "  </thead>\n",
       "  <tbody>\n",
       "    <tr>\n",
       "      <th>0</th>\n",
       "      <td>12</td>\n",
       "      <td>39</td>\n",
       "      <td>0.626620</td>\n",
       "      <td>0.856783</td>\n",
       "    </tr>\n",
       "    <tr>\n",
       "      <th>1</th>\n",
       "      <td>12</td>\n",
       "      <td>34</td>\n",
       "      <td>0.625147</td>\n",
       "      <td>0.855881</td>\n",
       "    </tr>\n",
       "    <tr>\n",
       "      <th>2</th>\n",
       "      <td>12</td>\n",
       "      <td>35</td>\n",
       "      <td>0.625000</td>\n",
       "      <td>0.856656</td>\n",
       "    </tr>\n",
       "    <tr>\n",
       "      <th>3</th>\n",
       "      <td>12</td>\n",
       "      <td>33</td>\n",
       "      <td>0.624113</td>\n",
       "      <td>0.855972</td>\n",
       "    </tr>\n",
       "    <tr>\n",
       "      <th>4</th>\n",
       "      <td>13</td>\n",
       "      <td>38</td>\n",
       "      <td>0.624096</td>\n",
       "      <td>0.850652</td>\n",
       "    </tr>\n",
       "    <tr>\n",
       "      <th>5</th>\n",
       "      <td>12</td>\n",
       "      <td>38</td>\n",
       "      <td>0.623529</td>\n",
       "      <td>0.857072</td>\n",
       "    </tr>\n",
       "    <tr>\n",
       "      <th>6</th>\n",
       "      <td>12</td>\n",
       "      <td>20</td>\n",
       "      <td>0.623223</td>\n",
       "      <td>0.855118</td>\n",
       "    </tr>\n",
       "    <tr>\n",
       "      <th>7</th>\n",
       "      <td>13</td>\n",
       "      <td>39</td>\n",
       "      <td>0.623030</td>\n",
       "      <td>0.849695</td>\n",
       "    </tr>\n",
       "    <tr>\n",
       "      <th>8</th>\n",
       "      <td>12</td>\n",
       "      <td>29</td>\n",
       "      <td>0.622169</td>\n",
       "      <td>0.855644</td>\n",
       "    </tr>\n",
       "    <tr>\n",
       "      <th>9</th>\n",
       "      <td>10</td>\n",
       "      <td>38</td>\n",
       "      <td>0.621885</td>\n",
       "      <td>0.861337</td>\n",
       "    </tr>\n",
       "  </tbody>\n",
       "</table>\n",
       "</div>"
      ],
      "text/plain": [
       "   max_depth  n_estimators  F1_valid   AUC-ROC\n",
       "0         12            39  0.626620  0.856783\n",
       "1         12            34  0.625147  0.855881\n",
       "2         12            35  0.625000  0.856656\n",
       "3         12            33  0.624113  0.855972\n",
       "4         13            38  0.624096  0.850652\n",
       "5         12            38  0.623529  0.857072\n",
       "6         12            20  0.623223  0.855118\n",
       "7         13            39  0.623030  0.849695\n",
       "8         12            29  0.622169  0.855644\n",
       "9         10            38  0.621885  0.861337"
      ]
     },
     "metadata": {},
     "output_type": "display_data"
    }
   ],
   "source": [
    "#построим датафрейм по полученным данным и отсортируем его в порядке убывания f1 метрики\n",
    "names_column_forest_f1 = ['max_depth', 'n_estimators', 'F1_valid', 'AUC-ROC'] #создадим список с названиями колонок для датафрейма\n",
    "df_f1_depth_forest = pd.DataFrame(data=f1_depth_n_estimators, columns=names_column_forest_f1)\\\n",
    ".sort_values(by='F1_valid', ascending = False).reset_index(drop=True) #создадим датафрейм отсортированный по accuracy\n",
    "\n",
    "print('ТОП десять наборов гиперпараметров для модели случайный лес по метрике F1 на валидационной выборке')\n",
    "display(df_f1_depth_forest.head(10))"
   ]
  },
  {
   "attachments": {},
   "cell_type": "markdown",
   "metadata": {},
   "source": [
    "Модель RandomForestClassifier, определенная с помощью цикла: rf = RandomForestClassifier(max_depth=12, n_estimators=39, random_state=12345), F1=0.626620, AUC-ROC = 0.856783"
   ]
  },
  {
   "attachments": {},
   "cell_type": "markdown",
   "metadata": {},
   "source": [
    "#### Модель DecisionTreeClassifier"
   ]
  },
  {
   "cell_type": "code",
   "execution_count": 44,
   "metadata": {},
   "outputs": [],
   "source": [
    "#Создадим пустой список. В него вложим результаты предсказания модели с различными значениями гиперпараметров\n",
    "f1_depth=[]\n",
    "#Проверим качество модели изменяя максимальную глубину дерева от 1 до 10\n",
    "for max_depth in range(1, 100):\n",
    "    model = DecisionTreeClassifier(random_state=12345, max_depth=max_depth) #Создадим пустую модель\n",
    "    \n",
    "    model.fit(features_upsampled, target_upsampled) #Обучим модель на обучающей выборке\n",
    "    predictions_valid = model.predict(features_valid) #предскажем значение целевых параметров на валидационной выборке\n",
    "   \n",
    "    f1_valid = f1_score(target_valid, predictions_valid) #определим f1 для валидационной выборки\n",
    "    \n",
    "    probobilities_valid = model.predict_proba(features_valid) # вероятность принадлежности к каждому классу\n",
    "    probobilities_one_valid = probobilities_valid[:,1] #вероятности положительного класса\n",
    "    roc_auc = roc_auc_score(target_valid, probobilities_one_valid) #На вход roc_auc_score принимает значения целевого признака и вероятности положительного класса\n",
    "    \n",
    "    f1_depth.append([max_depth, f1_valid, roc_auc]) #дополним список значениями: глубина дерева, f1"
   ]
  },
  {
   "cell_type": "code",
   "execution_count": 45,
   "metadata": {},
   "outputs": [
    {
     "name": "stdout",
     "output_type": "stream",
     "text": [
      "ТОП десять для модели Решающее дерево\n"
     ]
    },
    {
     "data": {
      "text/html": [
       "<div>\n",
       "<style scoped>\n",
       "    .dataframe tbody tr th:only-of-type {\n",
       "        vertical-align: middle;\n",
       "    }\n",
       "\n",
       "    .dataframe tbody tr th {\n",
       "        vertical-align: top;\n",
       "    }\n",
       "\n",
       "    .dataframe thead th {\n",
       "        text-align: right;\n",
       "    }\n",
       "</style>\n",
       "<table border=\"1\" class=\"dataframe\">\n",
       "  <thead>\n",
       "    <tr style=\"text-align: right;\">\n",
       "      <th></th>\n",
       "      <th>max_depth</th>\n",
       "      <th>F1_valid</th>\n",
       "      <th>AUC-ROC</th>\n",
       "    </tr>\n",
       "  </thead>\n",
       "  <tbody>\n",
       "    <tr>\n",
       "      <th>0</th>\n",
       "      <td>6</td>\n",
       "      <td>0.576544</td>\n",
       "      <td>0.836417</td>\n",
       "    </tr>\n",
       "    <tr>\n",
       "      <th>1</th>\n",
       "      <td>7</td>\n",
       "      <td>0.570136</td>\n",
       "      <td>0.815964</td>\n",
       "    </tr>\n",
       "    <tr>\n",
       "      <th>2</th>\n",
       "      <td>5</td>\n",
       "      <td>0.561856</td>\n",
       "      <td>0.841250</td>\n",
       "    </tr>\n",
       "    <tr>\n",
       "      <th>3</th>\n",
       "      <td>4</td>\n",
       "      <td>0.542259</td>\n",
       "      <td>0.833318</td>\n",
       "    </tr>\n",
       "    <tr>\n",
       "      <th>4</th>\n",
       "      <td>8</td>\n",
       "      <td>0.540092</td>\n",
       "      <td>0.793659</td>\n",
       "    </tr>\n",
       "    <tr>\n",
       "      <th>5</th>\n",
       "      <td>9</td>\n",
       "      <td>0.533333</td>\n",
       "      <td>0.760231</td>\n",
       "    </tr>\n",
       "    <tr>\n",
       "      <th>6</th>\n",
       "      <td>11</td>\n",
       "      <td>0.530194</td>\n",
       "      <td>0.728896</td>\n",
       "    </tr>\n",
       "    <tr>\n",
       "      <th>7</th>\n",
       "      <td>10</td>\n",
       "      <td>0.522417</td>\n",
       "      <td>0.744247</td>\n",
       "    </tr>\n",
       "    <tr>\n",
       "      <th>8</th>\n",
       "      <td>12</td>\n",
       "      <td>0.517350</td>\n",
       "      <td>0.708414</td>\n",
       "    </tr>\n",
       "    <tr>\n",
       "      <th>9</th>\n",
       "      <td>13</td>\n",
       "      <td>0.510158</td>\n",
       "      <td>0.705576</td>\n",
       "    </tr>\n",
       "  </tbody>\n",
       "</table>\n",
       "</div>"
      ],
      "text/plain": [
       "   max_depth  F1_valid   AUC-ROC\n",
       "0          6  0.576544  0.836417\n",
       "1          7  0.570136  0.815964\n",
       "2          5  0.561856  0.841250\n",
       "3          4  0.542259  0.833318\n",
       "4          8  0.540092  0.793659\n",
       "5          9  0.533333  0.760231\n",
       "6         11  0.530194  0.728896\n",
       "7         10  0.522417  0.744247\n",
       "8         12  0.517350  0.708414\n",
       "9         13  0.510158  0.705576"
      ]
     },
     "metadata": {},
     "output_type": "display_data"
    }
   ],
   "source": [
    "#создадим список с названиями колонок для датафрейма\n",
    "names_column = ['max_depth','F1_valid','AUC-ROC'] \n",
    "\n",
    "#создадим датафрейм отсортированный по f1\n",
    "df_f1_depth_tree = pd.DataFrame(data=f1_depth, columns=names_column)\\\n",
    ".sort_values(by='F1_valid', ascending = False).reset_index(drop=True) \n",
    "\n",
    "print('ТОП десять для модели Решающее дерево')\n",
    "display(df_f1_depth_tree.head(10))"
   ]
  },
  {
   "attachments": {},
   "cell_type": "markdown",
   "metadata": {},
   "source": [
    "Модель DecisionTreeClassifier, определенная с помощью GridSearhCV: dt = DecisionTreeClassifier (max_depth=6, random_state=12345), F1=0.576544, AUC-ROC=0.836417"
   ]
  },
  {
   "attachments": {},
   "cell_type": "markdown",
   "metadata": {},
   "source": [
    "#### Модель LogisticRegression "
   ]
  },
  {
   "cell_type": "code",
   "execution_count": 46,
   "metadata": {},
   "outputs": [
    {
     "name": "stdout",
     "output_type": "stream",
     "text": [
      "CPU times: user 1.87 s, sys: 1.99 s, total: 3.86 s\n",
      "Wall time: 3.8 s\n"
     ]
    }
   ],
   "source": [
    "%%time\n",
    "#В списки вложим результаты предсказания модели с различными значениями С\n",
    "f1_c=[] \n",
    "c_value = np.arange(0.1,2.1, 0.1) #Пподберём значения С от 0.1 до 2.1 с шагом 0.1\n",
    "for c_parametr in c_value: \n",
    "    model = LogisticRegression(C=c_parametr, random_state=12345, solver='liblinear') #Создадим пустую модель\n",
    "    model.fit(features_upsampled, target_upsampled) #Обучим модель на обучающей выборке\n",
    "        \n",
    "    predictions_valid = model.predict(features_valid) #предскажем значение целевых параметров на валидационной выборке\n",
    "       \n",
    "    f1_valid = f1_score(target_valid, predictions_valid) #определим f1 для валидационной выборки\n",
    "        \n",
    "    probobilities_valid = model.predict_proba(features_valid) # вероятность принадлежности к каждому классу\n",
    "    probobilities_one_valid = probobilities_valid[:,1] #вероятности положительного класса\n",
    "    roc_auc = roc_auc_score(target_valid, probobilities_one_valid) \n",
    "        \n",
    "    f1_c.append([c_parametr,f1_valid,roc_auc]) #дополним список значениями: С, f1 и roc-auc "
   ]
  },
  {
   "cell_type": "code",
   "execution_count": 47,
   "metadata": {},
   "outputs": [
    {
     "name": "stdout",
     "output_type": "stream",
     "text": [
      "ТОП десять наборов гиперпараметров для модели логистическая регрессия по метрике F1 на валидационной выборке\n"
     ]
    },
    {
     "data": {
      "text/html": [
       "<div>\n",
       "<style scoped>\n",
       "    .dataframe tbody tr th:only-of-type {\n",
       "        vertical-align: middle;\n",
       "    }\n",
       "\n",
       "    .dataframe tbody tr th {\n",
       "        vertical-align: top;\n",
       "    }\n",
       "\n",
       "    .dataframe thead th {\n",
       "        text-align: right;\n",
       "    }\n",
       "</style>\n",
       "<table border=\"1\" class=\"dataframe\">\n",
       "  <thead>\n",
       "    <tr style=\"text-align: right;\">\n",
       "      <th></th>\n",
       "      <th>C</th>\n",
       "      <th>F1_valid</th>\n",
       "      <th>AUC-ROC</th>\n",
       "    </tr>\n",
       "  </thead>\n",
       "  <tbody>\n",
       "    <tr>\n",
       "      <th>0</th>\n",
       "      <td>0.1</td>\n",
       "      <td>0.509871</td>\n",
       "      <td>0.791926</td>\n",
       "    </tr>\n",
       "    <tr>\n",
       "      <th>1</th>\n",
       "      <td>0.2</td>\n",
       "      <td>0.508591</td>\n",
       "      <td>0.791847</td>\n",
       "    </tr>\n",
       "    <tr>\n",
       "      <th>2</th>\n",
       "      <td>0.3</td>\n",
       "      <td>0.508155</td>\n",
       "      <td>0.791833</td>\n",
       "    </tr>\n",
       "    <tr>\n",
       "      <th>3</th>\n",
       "      <td>0.4</td>\n",
       "      <td>0.508155</td>\n",
       "      <td>0.791833</td>\n",
       "    </tr>\n",
       "    <tr>\n",
       "      <th>4</th>\n",
       "      <td>0.5</td>\n",
       "      <td>0.507719</td>\n",
       "      <td>0.791832</td>\n",
       "    </tr>\n",
       "    <tr>\n",
       "      <th>5</th>\n",
       "      <td>0.6</td>\n",
       "      <td>0.507719</td>\n",
       "      <td>0.791832</td>\n",
       "    </tr>\n",
       "    <tr>\n",
       "      <th>6</th>\n",
       "      <td>1.0</td>\n",
       "      <td>0.507284</td>\n",
       "      <td>0.791824</td>\n",
       "    </tr>\n",
       "    <tr>\n",
       "      <th>7</th>\n",
       "      <td>1.3</td>\n",
       "      <td>0.507284</td>\n",
       "      <td>0.791840</td>\n",
       "    </tr>\n",
       "    <tr>\n",
       "      <th>8</th>\n",
       "      <td>1.2</td>\n",
       "      <td>0.507284</td>\n",
       "      <td>0.791840</td>\n",
       "    </tr>\n",
       "    <tr>\n",
       "      <th>9</th>\n",
       "      <td>1.1</td>\n",
       "      <td>0.507284</td>\n",
       "      <td>0.791835</td>\n",
       "    </tr>\n",
       "  </tbody>\n",
       "</table>\n",
       "</div>"
      ],
      "text/plain": [
       "     C  F1_valid   AUC-ROC\n",
       "0  0.1  0.509871  0.791926\n",
       "1  0.2  0.508591  0.791847\n",
       "2  0.3  0.508155  0.791833\n",
       "3  0.4  0.508155  0.791833\n",
       "4  0.5  0.507719  0.791832\n",
       "5  0.6  0.507719  0.791832\n",
       "6  1.0  0.507284  0.791824\n",
       "7  1.3  0.507284  0.791840\n",
       "8  1.2  0.507284  0.791840\n",
       "9  1.1  0.507284  0.791835"
      ]
     },
     "metadata": {},
     "output_type": "display_data"
    }
   ],
   "source": [
    "names_column_lr_f1 = ['C', 'F1_valid', 'AUC-ROC'] #создадим список с названиями колонок для датафрейма\n",
    "df_f1_lr = pd.DataFrame(data=f1_c, columns=names_column_lr_f1)\\\n",
    ".sort_values(by='F1_valid', ascending = False).reset_index(drop=True) #создадим датафрейм отсортированный по accuracy\n",
    "\n",
    "print('ТОП десять наборов гиперпараметров для модели логистическая регрессия по метрике F1 на валидационной выборке')\n",
    "display(df_f1_lr.head(10))"
   ]
  },
  {
   "attachments": {},
   "cell_type": "markdown",
   "metadata": {},
   "source": [
    "Модель LogisticRegression, показавшая лучшее значение на валидационной выборке F1=0.509871, имеет AUC-ROC=0.791926, С = 0.1"
   ]
  },
  {
   "attachments": {},
   "cell_type": "markdown",
   "metadata": {},
   "source": [
    "### Даунсемплинг (с помощью функции). Модели RandomForestClassifier, DecisionTreeClassifier и LogisticRegression "
   ]
  },
  {
   "attachments": {},
   "cell_type": "markdown",
   "metadata": {},
   "source": [
    "Уменьшим количество строк, содержащих 0, чтобы сбалансировать классы. Используем функцию"
   ]
  },
  {
   "cell_type": "code",
   "execution_count": 48,
   "metadata": {},
   "outputs": [],
   "source": [
    " #создадим функцию для уменьшения нулей в выборке (избавимся от дисбаланса в данных)\n",
    "def downsample(features, target, fraction):\n",
    "    features_zeros = features[target == 0]\n",
    "    features_ones = features[target == 1]\n",
    "    target_zeros = target[target == 0]\n",
    "    target_ones = target[target == 1]\n",
    "    #уменьшим кол-во нулей в features_zeros и target_zeros в fraction раз\n",
    "    features_sample = features_zeros.sample(frac=fraction, random_state=12345)\n",
    "    target_sample = target_zeros.sample(frac=fraction, random_state=12345)\n",
    "    #соединим обратно выборку с уменьшенным кол-вом нулей и выборку с единицами для признаков и целевых значений\n",
    "    features_downsampled = pd.concat([features_sample] + [features_ones])\n",
    "    target_downsampled = pd.concat([target_sample] + [target_ones])\n",
    "    #перемешаем получившиеся выборки псевдослучайным образом\n",
    "    features_downsampled, target_downsampled = shuffle(features_downsampled, target_downsampled, random_state=12345)\n",
    "    return features_downsampled, target_downsampled\n",
    "#получим признаки и целевые значения, как результат работы функции downsample с аргументами features_train, target_train и 0.25(fraction)\n",
    "features_downsampled, target_downsampled = downsample(features_train, target_train, 0.25)"
   ]
  },
  {
   "cell_type": "code",
   "execution_count": 49,
   "metadata": {},
   "outputs": [
    {
     "name": "stdout",
     "output_type": "stream",
     "text": [
      "1    0.505947\n",
      "0    0.494053\n",
      "Name: Exited, dtype: float64\n"
     ]
    },
    {
     "data": {
      "text/plain": [
       "<AxesSubplot:>"
      ]
     },
     "execution_count": 49,
     "metadata": {},
     "output_type": "execute_result"
    },
    {
     "data": {
      "image/png": "[encoded data removed]",
      "text/plain": [
       "<Figure size 432x288 with 1 Axes>"
      ]
     },
     "metadata": {
      "needs_background": "light"
     },
     "output_type": "display_data"
    }
   ],
   "source": [
    "#рассмотрим результат работы downsampling \n",
    "d = target_upsampled.value_counts(normalize=True)\n",
    "print(d)\n",
    "d.plot(kind='bar')"
   ]
  },
  {
   "attachments": {},
   "cell_type": "markdown",
   "metadata": {},
   "source": [
    "#### Модель RandomForestClassifier"
   ]
  },
  {
   "cell_type": "code",
   "execution_count": 50,
   "metadata": {},
   "outputs": [
    {
     "name": "stdout",
     "output_type": "stream",
     "text": [
      "CPU times: user 29.9 s, sys: 123 ms, total: 30.1 s\n",
      "Wall time: 30.3 s\n"
     ]
    }
   ],
   "source": [
    "%%time\n",
    "#В списки вложим результаты предсказания модели с различными значениями гиперпараметров\n",
    "f1_depth_n_estimators=[] \n",
    "\n",
    "#Проверим качество модели изменяя количество принимающих решение деревьев и глубину\n",
    "for n_estimators in range(20,40):\n",
    "    for max_depth in range(10,20):\n",
    "        #Создадим пустую модель и обучим её на обучающей выборке\n",
    "        model = RandomForestClassifier(random_state=12345, n_estimators=n_estimators, max_depth=max_depth) #Создадим пустую модель\n",
    "        model.fit(features_downsampled, target_downsampled)\n",
    "        #предскажем значение целевых параметров на валидационной выборке\n",
    "        predictions_valid = model.predict(features_valid)\n",
    "        \n",
    "        #определим f1 для валидационной выборки\n",
    "        f1_valid = f1_score(target_valid, predictions_valid)\n",
    "        \n",
    "        #определим roc_auc\n",
    "        probobilities_valid = model.predict_proba(features_valid) # вероятность принадлежности к каждому классу\n",
    "        probobilities_one_valid = probobilities_valid[:,1] #вероятности положительного класса\n",
    "        roc_auc = roc_auc_score(target_valid, probobilities_one_valid) #На вход roc_auc_score принимает значения целевого признака и вероятности положительного класса\n",
    "        \n",
    "        #дополним список значениями: глубина дерева, количество деревьев, f1 и roc-auc для валидационной выборки \n",
    "        f1_depth_n_estimators.append([max_depth, n_estimators, f1_valid, roc_auc]) "
   ]
  },
  {
   "cell_type": "code",
   "execution_count": 51,
   "metadata": {},
   "outputs": [
    {
     "name": "stdout",
     "output_type": "stream",
     "text": [
      "ТОП десять наборов гиперпараметров для модели случайный лес по метрике F1 на валидационной выборке\n"
     ]
    },
    {
     "data": {
      "text/html": [
       "<div>\n",
       "<style scoped>\n",
       "    .dataframe tbody tr th:only-of-type {\n",
       "        vertical-align: middle;\n",
       "    }\n",
       "\n",
       "    .dataframe tbody tr th {\n",
       "        vertical-align: top;\n",
       "    }\n",
       "\n",
       "    .dataframe thead th {\n",
       "        text-align: right;\n",
       "    }\n",
       "</style>\n",
       "<table border=\"1\" class=\"dataframe\">\n",
       "  <thead>\n",
       "    <tr style=\"text-align: right;\">\n",
       "      <th></th>\n",
       "      <th>max_depth</th>\n",
       "      <th>n_estimators</th>\n",
       "      <th>F1_valid</th>\n",
       "      <th>AUC-ROC</th>\n",
       "    </tr>\n",
       "  </thead>\n",
       "  <tbody>\n",
       "    <tr>\n",
       "      <th>0</th>\n",
       "      <td>10</td>\n",
       "      <td>22</td>\n",
       "      <td>0.612440</td>\n",
       "      <td>0.861148</td>\n",
       "    </tr>\n",
       "    <tr>\n",
       "      <th>1</th>\n",
       "      <td>10</td>\n",
       "      <td>31</td>\n",
       "      <td>0.609615</td>\n",
       "      <td>0.863224</td>\n",
       "    </tr>\n",
       "    <tr>\n",
       "      <th>2</th>\n",
       "      <td>16</td>\n",
       "      <td>32</td>\n",
       "      <td>0.607379</td>\n",
       "      <td>0.855119</td>\n",
       "    </tr>\n",
       "    <tr>\n",
       "      <th>3</th>\n",
       "      <td>10</td>\n",
       "      <td>28</td>\n",
       "      <td>0.607041</td>\n",
       "      <td>0.861142</td>\n",
       "    </tr>\n",
       "    <tr>\n",
       "      <th>4</th>\n",
       "      <td>10</td>\n",
       "      <td>32</td>\n",
       "      <td>0.606763</td>\n",
       "      <td>0.863469</td>\n",
       "    </tr>\n",
       "    <tr>\n",
       "      <th>5</th>\n",
       "      <td>10</td>\n",
       "      <td>27</td>\n",
       "      <td>0.606699</td>\n",
       "      <td>0.861183</td>\n",
       "    </tr>\n",
       "    <tr>\n",
       "      <th>6</th>\n",
       "      <td>10</td>\n",
       "      <td>21</td>\n",
       "      <td>0.606635</td>\n",
       "      <td>0.860210</td>\n",
       "    </tr>\n",
       "    <tr>\n",
       "      <th>7</th>\n",
       "      <td>16</td>\n",
       "      <td>30</td>\n",
       "      <td>0.606403</td>\n",
       "      <td>0.854513</td>\n",
       "    </tr>\n",
       "    <tr>\n",
       "      <th>8</th>\n",
       "      <td>10</td>\n",
       "      <td>29</td>\n",
       "      <td>0.606352</td>\n",
       "      <td>0.861829</td>\n",
       "    </tr>\n",
       "    <tr>\n",
       "      <th>9</th>\n",
       "      <td>10</td>\n",
       "      <td>30</td>\n",
       "      <td>0.606178</td>\n",
       "      <td>0.862795</td>\n",
       "    </tr>\n",
       "  </tbody>\n",
       "</table>\n",
       "</div>"
      ],
      "text/plain": [
       "   max_depth  n_estimators  F1_valid   AUC-ROC\n",
       "0         10            22  0.612440  0.861148\n",
       "1         10            31  0.609615  0.863224\n",
       "2         16            32  0.607379  0.855119\n",
       "3         10            28  0.607041  0.861142\n",
       "4         10            32  0.606763  0.863469\n",
       "5         10            27  0.606699  0.861183\n",
       "6         10            21  0.606635  0.860210\n",
       "7         16            30  0.606403  0.854513\n",
       "8         10            29  0.606352  0.861829\n",
       "9         10            30  0.606178  0.862795"
      ]
     },
     "metadata": {},
     "output_type": "display_data"
    }
   ],
   "source": [
    "#построим датафрейм по полученным данным и отсортируем его в порядке убывания f1 метрики\n",
    "names_column_forest_f1 = ['max_depth', 'n_estimators', 'F1_valid', 'AUC-ROC'] #создадим список с названиями колонок для датафрейма\n",
    "df_f1_depth_forest = pd.DataFrame(data=f1_depth_n_estimators, columns=names_column_forest_f1)\\\n",
    ".sort_values(by='F1_valid', ascending = False).reset_index(drop=True) #создадим датафрейм отсортированный по accuracy\n",
    "\n",
    "print('ТОП десять наборов гиперпараметров для модели случайный лес по метрике F1 на валидационной выборке')\n",
    "display(df_f1_depth_forest.head(10))"
   ]
  },
  {
   "attachments": {},
   "cell_type": "markdown",
   "metadata": {},
   "source": [
    "Модель RandomForestClassifier, определенная с помощью цикла: rf = RandomForestClassifier(max_depth=10, n_estimators=22, random_state=12345), F1=0.612440, AUC-ROC = 0.861148"
   ]
  },
  {
   "attachments": {},
   "cell_type": "markdown",
   "metadata": {},
   "source": [
    "#### Модель DecisionTreeClassifier"
   ]
  },
  {
   "cell_type": "code",
   "execution_count": 52,
   "metadata": {},
   "outputs": [],
   "source": [
    "#Создадим пустой список. В него вложим результаты предсказания модели с различными значениями гиперпараметров\n",
    "f1_depth=[]\n",
    "#Проверим качество модели изменяя максимальную глубину дерева от 1 до 10\n",
    "for max_depth in range(1, 100):\n",
    "    model = DecisionTreeClassifier(random_state=12345, max_depth=max_depth) #Создадим пустую модель\n",
    "    \n",
    "    model.fit(features_downsampled, target_downsampled) #Обучим модель на обучающей выборке\n",
    "    predictions_valid = model.predict(features_valid) #предскажем значение целевых параметров на валидационной выборке\n",
    "   \n",
    "    f1_valid = f1_score(target_valid, predictions_valid) #определим f1 для валидационной выборки\n",
    "    \n",
    "    probobilities_valid = model.predict_proba(features_valid) # вероятность принадлежности к каждому классу\n",
    "    probobilities_one_valid = probobilities_valid[:,1] #вероятности положительного класса\n",
    "    roc_auc = roc_auc_score(target_valid, probobilities_one_valid) #На вход roc_auc_score принимает значения целевого признака и вероятности положительного класса\n",
    "    \n",
    "    f1_depth.append([max_depth, f1_valid, roc_auc]) #дополним список значениями: глубина дерева, f1"
   ]
  },
  {
   "cell_type": "code",
   "execution_count": 53,
   "metadata": {},
   "outputs": [
    {
     "name": "stdout",
     "output_type": "stream",
     "text": [
      "ТОП десять для модели Решающее дерево\n"
     ]
    },
    {
     "data": {
      "text/html": [
       "<div>\n",
       "<style scoped>\n",
       "    .dataframe tbody tr th:only-of-type {\n",
       "        vertical-align: middle;\n",
       "    }\n",
       "\n",
       "    .dataframe tbody tr th {\n",
       "        vertical-align: top;\n",
       "    }\n",
       "\n",
       "    .dataframe thead th {\n",
       "        text-align: right;\n",
       "    }\n",
       "</style>\n",
       "<table border=\"1\" class=\"dataframe\">\n",
       "  <thead>\n",
       "    <tr style=\"text-align: right;\">\n",
       "      <th></th>\n",
       "      <th>max_depth</th>\n",
       "      <th>F1_valid</th>\n",
       "      <th>AUC-ROC</th>\n",
       "    </tr>\n",
       "  </thead>\n",
       "  <tbody>\n",
       "    <tr>\n",
       "      <th>0</th>\n",
       "      <td>6</td>\n",
       "      <td>0.593340</td>\n",
       "      <td>0.843521</td>\n",
       "    </tr>\n",
       "    <tr>\n",
       "      <th>1</th>\n",
       "      <td>5</td>\n",
       "      <td>0.555189</td>\n",
       "      <td>0.846329</td>\n",
       "    </tr>\n",
       "    <tr>\n",
       "      <th>2</th>\n",
       "      <td>7</td>\n",
       "      <td>0.548611</td>\n",
       "      <td>0.820353</td>\n",
       "    </tr>\n",
       "    <tr>\n",
       "      <th>3</th>\n",
       "      <td>8</td>\n",
       "      <td>0.547686</td>\n",
       "      <td>0.793434</td>\n",
       "    </tr>\n",
       "    <tr>\n",
       "      <th>4</th>\n",
       "      <td>4</td>\n",
       "      <td>0.522855</td>\n",
       "      <td>0.819368</td>\n",
       "    </tr>\n",
       "    <tr>\n",
       "      <th>5</th>\n",
       "      <td>10</td>\n",
       "      <td>0.516014</td>\n",
       "      <td>0.756902</td>\n",
       "    </tr>\n",
       "    <tr>\n",
       "      <th>6</th>\n",
       "      <td>3</td>\n",
       "      <td>0.515982</td>\n",
       "      <td>0.796335</td>\n",
       "    </tr>\n",
       "    <tr>\n",
       "      <th>7</th>\n",
       "      <td>11</td>\n",
       "      <td>0.509735</td>\n",
       "      <td>0.741210</td>\n",
       "    </tr>\n",
       "    <tr>\n",
       "      <th>8</th>\n",
       "      <td>12</td>\n",
       "      <td>0.508711</td>\n",
       "      <td>0.731884</td>\n",
       "    </tr>\n",
       "    <tr>\n",
       "      <th>9</th>\n",
       "      <td>9</td>\n",
       "      <td>0.505051</td>\n",
       "      <td>0.763237</td>\n",
       "    </tr>\n",
       "  </tbody>\n",
       "</table>\n",
       "</div>"
      ],
      "text/plain": [
       "   max_depth  F1_valid   AUC-ROC\n",
       "0          6  0.593340  0.843521\n",
       "1          5  0.555189  0.846329\n",
       "2          7  0.548611  0.820353\n",
       "3          8  0.547686  0.793434\n",
       "4          4  0.522855  0.819368\n",
       "5         10  0.516014  0.756902\n",
       "6          3  0.515982  0.796335\n",
       "7         11  0.509735  0.741210\n",
       "8         12  0.508711  0.731884\n",
       "9          9  0.505051  0.763237"
      ]
     },
     "metadata": {},
     "output_type": "display_data"
    }
   ],
   "source": [
    "#создадим список с названиями колонок для датафрейма\n",
    "names_column = ['max_depth','F1_valid','AUC-ROC'] \n",
    "\n",
    "#создадим датафрейм отсортированный по f1\n",
    "df_f1_depth_tree = pd.DataFrame(data=f1_depth, columns=names_column)\\\n",
    ".sort_values(by='F1_valid', ascending = False).reset_index(drop=True) \n",
    "\n",
    "print('ТОП десять для модели Решающее дерево')\n",
    "display(df_f1_depth_tree.head(10))"
   ]
  },
  {
   "attachments": {},
   "cell_type": "markdown",
   "metadata": {},
   "source": [
    "Модель DecisionTreeClassifier, определенная с помощью цикла: rf = RandomForestClassifier(max_depth=59, random_state=12345), F1=0.593340, AUC-ROC = 0.843521"
   ]
  },
  {
   "attachments": {},
   "cell_type": "markdown",
   "metadata": {},
   "source": [
    "#### Модель LogisticRegression "
   ]
  },
  {
   "cell_type": "code",
   "execution_count": 54,
   "metadata": {},
   "outputs": [
    {
     "name": "stdout",
     "output_type": "stream",
     "text": [
      "CPU times: user 1.18 s, sys: 1.58 s, total: 2.76 s\n",
      "Wall time: 2.74 s\n"
     ]
    }
   ],
   "source": [
    "%%time\n",
    "#В списки вложим результаты предсказания модели с различными значениями С\n",
    "f1_c=[] \n",
    "c_value = np.arange(0.1,2.1, 0.1) #Пподберём значения С от 0.1 до 2.1 с шагом 0.1\n",
    "for c_parametr in c_value: \n",
    "    model = LogisticRegression(C=c_parametr, random_state=12345, solver='liblinear') #Создадим пустую модель\n",
    "    model.fit(features_downsampled, target_downsampled) #Обучим модель на обучающей выборке\n",
    "        \n",
    "    predictions_valid = model.predict(features_valid) #предскажем значение целевых параметров на валидационной выборке\n",
    "       \n",
    "    f1_valid = f1_score(target_valid, predictions_valid) #определим f1 для валидационной выборки\n",
    "        \n",
    "    probobilities_valid = model.predict_proba(features_valid) # вероятность принадлежности к каждому классу\n",
    "    probobilities_one_valid = probobilities_valid[:,1] #вероятности положительного класса\n",
    "    roc_auc = roc_auc_score(target_valid, probobilities_one_valid) \n",
    "        \n",
    "    f1_c.append([c_parametr,f1_valid,roc_auc]) #дополним список значениями: С, f1 и roc-auc "
   ]
  },
  {
   "cell_type": "code",
   "execution_count": 55,
   "metadata": {},
   "outputs": [
    {
     "name": "stdout",
     "output_type": "stream",
     "text": [
      "ТОП десять наборов гиперпараметров для модели логистическая регрессия по метрике F1 на валидационной выборке\n"
     ]
    },
    {
     "data": {
      "text/html": [
       "<div>\n",
       "<style scoped>\n",
       "    .dataframe tbody tr th:only-of-type {\n",
       "        vertical-align: middle;\n",
       "    }\n",
       "\n",
       "    .dataframe tbody tr th {\n",
       "        vertical-align: top;\n",
       "    }\n",
       "\n",
       "    .dataframe thead th {\n",
       "        text-align: right;\n",
       "    }\n",
       "</style>\n",
       "<table border=\"1\" class=\"dataframe\">\n",
       "  <thead>\n",
       "    <tr style=\"text-align: right;\">\n",
       "      <th></th>\n",
       "      <th>C</th>\n",
       "      <th>F1_valid</th>\n",
       "      <th>AUC-ROC</th>\n",
       "    </tr>\n",
       "  </thead>\n",
       "  <tbody>\n",
       "    <tr>\n",
       "      <th>0</th>\n",
       "      <td>0.2</td>\n",
       "      <td>0.506416</td>\n",
       "      <td>0.791207</td>\n",
       "    </tr>\n",
       "    <tr>\n",
       "      <th>1</th>\n",
       "      <td>0.1</td>\n",
       "      <td>0.505551</td>\n",
       "      <td>0.791118</td>\n",
       "    </tr>\n",
       "    <tr>\n",
       "      <th>2</th>\n",
       "      <td>0.3</td>\n",
       "      <td>0.505137</td>\n",
       "      <td>0.791235</td>\n",
       "    </tr>\n",
       "    <tr>\n",
       "      <th>3</th>\n",
       "      <td>1.9</td>\n",
       "      <td>0.504288</td>\n",
       "      <td>0.791215</td>\n",
       "    </tr>\n",
       "    <tr>\n",
       "      <th>4</th>\n",
       "      <td>1.8</td>\n",
       "      <td>0.504288</td>\n",
       "      <td>0.791220</td>\n",
       "    </tr>\n",
       "    <tr>\n",
       "      <th>5</th>\n",
       "      <td>1.7</td>\n",
       "      <td>0.504288</td>\n",
       "      <td>0.791215</td>\n",
       "    </tr>\n",
       "    <tr>\n",
       "      <th>6</th>\n",
       "      <td>1.6</td>\n",
       "      <td>0.504288</td>\n",
       "      <td>0.791210</td>\n",
       "    </tr>\n",
       "    <tr>\n",
       "      <th>7</th>\n",
       "      <td>2.0</td>\n",
       "      <td>0.504288</td>\n",
       "      <td>0.791203</td>\n",
       "    </tr>\n",
       "    <tr>\n",
       "      <th>8</th>\n",
       "      <td>0.9</td>\n",
       "      <td>0.503856</td>\n",
       "      <td>0.791201</td>\n",
       "    </tr>\n",
       "    <tr>\n",
       "      <th>9</th>\n",
       "      <td>1.0</td>\n",
       "      <td>0.503856</td>\n",
       "      <td>0.791213</td>\n",
       "    </tr>\n",
       "  </tbody>\n",
       "</table>\n",
       "</div>"
      ],
      "text/plain": [
       "     C  F1_valid   AUC-ROC\n",
       "0  0.2  0.506416  0.791207\n",
       "1  0.1  0.505551  0.791118\n",
       "2  0.3  0.505137  0.791235\n",
       "3  1.9  0.504288  0.791215\n",
       "4  1.8  0.504288  0.791220\n",
       "5  1.7  0.504288  0.791215\n",
       "6  1.6  0.504288  0.791210\n",
       "7  2.0  0.504288  0.791203\n",
       "8  0.9  0.503856  0.791201\n",
       "9  1.0  0.503856  0.791213"
      ]
     },
     "metadata": {},
     "output_type": "display_data"
    }
   ],
   "source": [
    "names_column_lr_f1 = ['C', 'F1_valid', 'AUC-ROC'] #создадим список с названиями колонок для датафрейма\n",
    "df_f1_lr = pd.DataFrame(data=f1_c, columns=names_column_lr_f1)\\\n",
    ".sort_values(by='F1_valid', ascending = False).reset_index(drop=True) #создадим датафрейм отсортированный по accuracy\n",
    "\n",
    "print('ТОП десять наборов гиперпараметров для модели логистическая регрессия по метрике F1 на валидационной выборке')\n",
    "display(df_f1_lr.head(10))"
   ]
  },
  {
   "attachments": {},
   "cell_type": "markdown",
   "metadata": {},
   "source": [
    "Модель LogisticRegression, показавшая лучшее значение на валидационной выборке F1=0.506416, имеет AUC-ROC=0.791207, С = 0.2"
   ]
  },
  {
   "attachments": {},
   "cell_type": "markdown",
   "metadata": {},
   "source": [
    "### метод балансировки классов SMOTE и подбор гиперпараметров с использованием кросс-валидации"
   ]
  },
  {
   "cell_type": "code",
   "execution_count": 56,
   "metadata": {},
   "outputs": [],
   "source": [
    "smt = SMOTE()\n",
    "features_upsampled, target_upsampled = smt.fit_resample(features_train_valid, target_train_valid)"
   ]
  },
  {
   "cell_type": "code",
   "execution_count": 57,
   "metadata": {},
   "outputs": [
    {
     "name": "stdout",
     "output_type": "stream",
     "text": [
      "0    0.5\n",
      "1    0.5\n",
      "Name: Exited, dtype: float64\n"
     ]
    },
    {
     "data": {
      "text/plain": [
       "<AxesSubplot:>"
      ]
     },
     "execution_count": 57,
     "metadata": {},
     "output_type": "execute_result"
    },
    {
     "data": {
      "image/png": "[encoded data removed]",
      "text/plain": [
       "<Figure size 432x288 with 1 Axes>"
      ]
     },
     "metadata": {
      "needs_background": "light"
     },
     "output_type": "display_data"
    }
   ],
   "source": [
    "#рассмотрим результат работы SMOTE\n",
    "s = target_upsampled.value_counts(normalize=True)\n",
    "print(s)\n",
    "s.plot(kind='bar')"
   ]
  },
  {
   "attachments": {},
   "cell_type": "markdown",
   "metadata": {},
   "source": [
    "#### Модель RandomForestClassifier"
   ]
  },
  {
   "attachments": {},
   "cell_type": "markdown",
   "metadata": {},
   "source": [
    "##### Подбор гиперпараметров для модели RandomForestClassifier с помощью GridSearhCV"
   ]
  },
  {
   "cell_type": "code",
   "execution_count": 58,
   "metadata": {},
   "outputs": [
    {
     "name": "stdout",
     "output_type": "stream",
     "text": [
      "Гиперпараметры, обеспечивающие наибольшее значение F1 {'max_depth': 20, 'n_estimators': 105}\n",
      "Максимальное значение F1 =  0.8989124696998722\n",
      "CPU times: user 5min 9s, sys: 826 ms, total: 5min 10s\n",
      "Wall time: 5min 10s\n"
     ]
    }
   ],
   "source": [
    "%%time\n",
    "rf = RandomForestClassifier(random_state=12345)\n",
    "#пространство гиперпараметров\n",
    "grid_space={'max_depth':range(5,40,5),\n",
    "            'n_estimators':range(10,110,5)\n",
    "            }\n",
    "\n",
    "grid = GridSearchCV(rf, param_grid=grid_space, cv=3, scoring='f1')\n",
    "model_grid = grid.fit(features_upsampled, target_upsampled)\n",
    "\n",
    "print('Гиперпараметры, обеспечивающие наибольшее значение F1',model_grid.best_params_)\n",
    "print('Максимальное значение F1 = ', model_grid.best_score_)"
   ]
  },
  {
   "attachments": {},
   "cell_type": "markdown",
   "metadata": {},
   "source": [
    "Модель RandomForestClassifier, определенная с помощью GridSearhCV: rf = RandomForestClassifier(max_depth=30, n_estimators=95, random_state=12345), F1=0.897567"
   ]
  },
  {
   "attachments": {},
   "cell_type": "markdown",
   "metadata": {},
   "source": [
    "##### Подбор гиперпараметров для модели RandomForestClassifier с помощью RandomizedSearchCV"
   ]
  },
  {
   "cell_type": "code",
   "execution_count": 59,
   "metadata": {},
   "outputs": [
    {
     "name": "stdout",
     "output_type": "stream",
     "text": [
      "Гиперпараметры, обеспечивающие наибольшее значение F1 {'n_estimators': 199, 'max_depth': 22}\n",
      "Максимальное значение F1 =  0.8989488987960055\n",
      "CPU times: user 7min 52s, sys: 3.04 s, total: 7min 55s\n",
      "Wall time: 7min 56s\n"
     ]
    }
   ],
   "source": [
    "%%time\n",
    "rf = RandomForestClassifier(random_state=12345)\n",
    "\n",
    "#пространство гиперпараметров\n",
    "grid_space={'max_depth':range(10, 80),\n",
    "            'n_estimators':range(10, 200)\n",
    "            }\n",
    "\n",
    "rf_random = RandomizedSearchCV(rf, grid_space, n_iter=100, scoring='f1', cv=3)\n",
    "model_random = rf_random.fit(features_upsampled, target_upsampled)\n",
    "\n",
    "print('Гиперпараметры, обеспечивающие наибольшее значение F1', model_random.best_params_)\n",
    "print('Максимальное значение F1 = ', model_random.best_score_)"
   ]
  },
  {
   "attachments": {},
   "cell_type": "markdown",
   "metadata": {},
   "source": [
    "Модель RandomForestClassifier, определенная с помощью RandomizedSearchCV: rf = RandomForestClassifier(max_depth=21, n_estimators=197, random_state=12345), F1=0.898109"
   ]
  },
  {
   "attachments": {},
   "cell_type": "markdown",
   "metadata": {},
   "source": [
    "#### Модель DecisionTreeClassifier"
   ]
  },
  {
   "attachments": {},
   "cell_type": "markdown",
   "metadata": {},
   "source": [
    "##### Подбор гиперпараметров для модели DecisionTreeClassifier с помощью GridSearhCV"
   ]
  },
  {
   "cell_type": "code",
   "execution_count": 60,
   "metadata": {},
   "outputs": [
    {
     "name": "stdout",
     "output_type": "stream",
     "text": [
      "Гиперпараметры, обеспечивающие наибольшее значение F1 {'max_depth': 15}\n",
      "Максимальное значение F1 =  0.8307117498207898\n",
      "CPU times: user 17.6 s, sys: 8.57 ms, total: 17.6 s\n",
      "Wall time: 17.6 s\n"
     ]
    }
   ],
   "source": [
    "%%time\n",
    "dt = DecisionTreeClassifier(random_state=12345)\n",
    "#пространство гиперпараметров\n",
    "grid_space={'max_depth':list(np.arange(1, 100))}\n",
    "\n",
    "grid = GridSearchCV(dt, param_grid=grid_space, cv=3, scoring='f1')\n",
    "model_grid = grid.fit(features_upsampled, target_upsampled)\n",
    "\n",
    "print('Гиперпараметры, обеспечивающие наибольшее значение F1',model_grid.best_params_)\n",
    "print('Максимальное значение F1 = ', model_grid.best_score_)"
   ]
  },
  {
   "attachments": {},
   "cell_type": "markdown",
   "metadata": {},
   "source": [
    "Модель DecisionTreeClassifier, определенная с помощью GridSearhCV: rf = RandomForestClassifier(max_depth=22, random_state=12345), F1=0.826824"
   ]
  },
  {
   "attachments": {},
   "cell_type": "markdown",
   "metadata": {},
   "source": [
    "##### Подбор гиперпараметров для модели DecisionTreeClassifier с помощью RandomizedSearchCV"
   ]
  },
  {
   "cell_type": "code",
   "execution_count": 61,
   "metadata": {},
   "outputs": [
    {
     "name": "stdout",
     "output_type": "stream",
     "text": [
      "Гиперпараметры, обеспечивающие наибольшее значение F1 {'max_depth': 15}\n",
      "Максимальное значение F1 =  0.8307117498207898\n",
      "CPU times: user 18.3 s, sys: 4.01 ms, total: 18.3 s\n",
      "Wall time: 18.4 s\n"
     ]
    }
   ],
   "source": [
    "%%time\n",
    "dt = DecisionTreeClassifier(random_state=12345)\n",
    "\n",
    "#пространство гиперпараметров\n",
    "grid_space={'max_depth':range(1, 300)}\n",
    "\n",
    "rf_random = RandomizedSearchCV(dt, grid_space, n_iter=100, scoring='f1', cv=3)\n",
    "model_random = rf_random.fit(features_upsampled, target_upsampled)\n",
    "\n",
    "print('Гиперпараметры, обеспечивающие наибольшее значение F1', model_random.best_params_)\n",
    "print('Максимальное значение F1 = ', model_random.best_score_)"
   ]
  },
  {
   "attachments": {},
   "cell_type": "markdown",
   "metadata": {},
   "source": [
    "Модель DecisionTreeClassifier, определенная с помощью RandomizedSearchCV: rf = RandomForestClassifier(max_depth=16, random_state=12345), F1=0.8262972"
   ]
  },
  {
   "attachments": {},
   "cell_type": "markdown",
   "metadata": {},
   "source": [
    "#### Модель LogisticRegression "
   ]
  },
  {
   "attachments": {},
   "cell_type": "markdown",
   "metadata": {},
   "source": [
    "##### Подбор гиперпараметров для модели LogisticRegression с помощью GridSearhCV"
   ]
  },
  {
   "cell_type": "code",
   "execution_count": 62,
   "metadata": {},
   "outputs": [
    {
     "name": "stdout",
     "output_type": "stream",
     "text": [
      "Гиперпараметры, обеспечивающие наибольшее значение F1 {'C': 0.30000000000000004, 'solver': 'newton-cg'}\n",
      "Максимальное значение F1 =  0.7046506703227028\n",
      "CPU times: user 31.4 s, sys: 43.1 s, total: 1min 14s\n",
      "Wall time: 1min 14s\n"
     ]
    }
   ],
   "source": [
    "%%time\n",
    "grid_space = {'solver': ['newton-cg', 'lbfgs', 'liblinear', 'sag', 'saga'],\n",
    "              'C' : np.arange(0.1,1.0, 0.1)}\n",
    "\n",
    "lr = LogisticRegression(random_state=12345)\n",
    "\n",
    "grid = GridSearchCV(lr, param_grid=grid_space, cv=3, scoring='f1')\n",
    "model_grid = grid.fit(features_upsampled, target_upsampled)\n",
    "\n",
    "print('Гиперпараметры, обеспечивающие наибольшее значение F1',model_grid.best_params_)\n",
    "print('Максимальное значение F1 = ', model_grid.best_score_) "
   ]
  },
  {
   "attachments": {},
   "cell_type": "markdown",
   "metadata": {},
   "source": [
    "Модель DecisionTreeClassifier, определенная с помощью GridSearhCV: rf = RandomForestClassifier(max_depth=22, random_state=12345), F1=0.708307"
   ]
  },
  {
   "attachments": {},
   "cell_type": "markdown",
   "metadata": {},
   "source": [
    "### Вывод по разделу 3"
   ]
  },
  {
   "attachments": {},
   "cell_type": "markdown",
   "metadata": {},
   "source": [
    "В разделе 3 был устранен дисбаланс классов тремя разными методами: апсемплинг, доунсемплинг, SMOTE. После устранения дисбаланса были рассмотрены три модели RandomForestClassifier, Модель DecisionTreeClassifier и LogisticRegression.\n",
    "\n",
    "1) Аппсемплинг (с помощью функции)\n",
    "\n",
    "- Модель RandomForestClassifier, определенная с помощью цикла: rf = RandomForestClassifier(max_depth=12, n_estimators=39, random_state=12345), F1=0.626620, AUC-ROC = 0.856783\n",
    "- Модель DecisionTreeClassifier, определенная с помощью GridSearhCV: dt = DecisionTreeClassifier (max_depth=6, random_state=12345), F1=0.576544, AUC-ROC=0.836417\n",
    "- Модель LogisticRegression, показавшая лучшее значение на валидационной выборке F1=0.509871, имеет AUC-ROC=0.791926, С = 0.1\n",
    "\n",
    "2) Даунсемплинг (с помощью функции)\n",
    "\n",
    "- Модель RandomForestClassifier, определенная с помощью цикла: rf = RandomForestClassifier(max_depth=10, n_estimators=22, random_state=12345), F1=0.612440, AUC-ROC = 0.861148\n",
    "- Модель DecisionTreeClassifier, определенная с помощью цикла: rf = RandomForestClassifier(max_depth=59, random_state=12345), F1=0.593340, AUC-ROC = 0.843521\n",
    "- Модель LogisticRegression, показавшая лучшее значение на валидационной выборке F1=0.506416, имеет AUC-ROC=0.791207, С = 0.2\n",
    "\n",
    "3) Метод балансировки классов SMOTE\n",
    "\n",
    "- Модель RandomForestClassifier, определенная с помощью GridSearhCV: rf = RandomForestClassifier(max_depth=30, n_estimators=95, random_state=12345), F1=0.897567\n",
    "- Модель RandomForestClassifier, определенная с помощью RandomizedSearchCV: rf = RandomForestClassifier(max_depth=21, n_estimators=197, random_state=12345), F1=0.898109\n",
    "- Модель DecisionTreeClassifier, определенная с помощью GridSearhCV: rf = RandomForestClassifier(max_depth=22, random_state=12345), F1=0.826824\n",
    "- Модель DecisionTreeClassifier, определенная с помощью RandomizedSearchCV: rf = RandomForestClassifier(max_depth=16, random_state=12345), F1=0.8262972\n",
    "- Модель DecisionTreeClassifier, определенная с помощью GridSearhCV: rf = RandomForestClassifier(max_depth=22, random_state=12345), F1=0.708307\n",
    "\n",
    "\n",
    "Результат полученный с применением кросс-валидации даст более предсказуемый результат на тестовой выборке. С учётом небольшой разницы в метрики между подбором в цикле и подбором при помощи RandomizedSearchCV для модели RandomForestClassifier, выберем результат, полученный RandomizedSearchCV: max_depth=21, n_estimators=197"
   ]
  },
  {
   "attachments": {},
   "cell_type": "markdown",
   "metadata": {},
   "source": [
    "## Тестирование модели"
   ]
  },
  {
   "attachments": {},
   "cell_type": "markdown",
   "metadata": {},
   "source": [
    "Была определена модель, дающая наибольшее значение метрики: RandomForestClassifier(random_state=12345, n_estimators=21, max_depth=197). Обучим её на данных с устраненным дисбалансом при использовании SMOTE и рассчитаем значение метрики тестовой выборке "
   ]
  },
  {
   "cell_type": "code",
   "execution_count": 63,
   "metadata": {},
   "outputs": [
    {
     "name": "stdout",
     "output_type": "stream",
     "text": [
      "0.6082474226804124\n"
     ]
    }
   ],
   "source": [
    "model = RandomForestClassifier(random_state=12345, n_estimators=197, max_depth=21)\n",
    "model.fit(features_upsampled, target_upsampled)\n",
    "predictions_test = model.predict(features_test)\n",
    "f1_test = f1_score(target_test, predictions_test)\n",
    "print(f1_test)"
   ]
  },
  {
   "attachments": {},
   "cell_type": "markdown",
   "metadata": {},
   "source": [
    "Модель показала результат F1 = 0.602846, выше значения F1 = 0.59 необходимого для выполнения задания"
   ]
  },
  {
   "attachments": {},
   "cell_type": "markdown",
   "metadata": {},
   "source": [
    "### ROC-кривая модели"
   ]
  },
  {
   "attachments": {},
   "cell_type": "markdown",
   "metadata": {},
   "source": [
    "По горизонтали нанесём долю ложноположительных ответов (FPR), а по вертикали — долю истинно положительных ответов (TPR)"
   ]
  },
  {
   "cell_type": "code",
   "execution_count": 64,
   "metadata": {},
   "outputs": [
    {
     "data": {
      "image/png": "[encoded data removed]",
      "text/plain": [
       "<Figure size 432x288 with 1 Axes>"
      ]
     },
     "metadata": {
      "needs_background": "light"
     },
     "output_type": "display_data"
    }
   ],
   "source": [
    "probabilities_test = model.predict_proba(features_test)\n",
    "probabilities_one_test = probabilities_test[:, 1]\n",
    "#На вход roc_curve принимает значения целевого признака и вероятности положительного класса. Перебирает разные пороги и возвращает три списка: значения FPR, значения TPR и рассмотренные пороги.\n",
    "fpr, tpr, thresholds = roc_curve(target_test, probabilities_one_test)\n",
    "#построим график\n",
    "plt.figure()\n",
    "plt.plot(fpr, tpr)\n",
    "plt.xlim([0.0, 1.0])\n",
    "plt.ylim([0.0, 1.0])\n",
    "plt.xlabel('False Positive Rate')\n",
    "plt.ylabel('True Positive Rate')\n",
    "plt.title('ROC-кривая')\n",
    "plt.plot([0, 1], [0, 1], linestyle='--')\n",
    "plt.show() "
   ]
  },
  {
   "cell_type": "code",
   "execution_count": 65,
   "metadata": {},
   "outputs": [
    {
     "name": "stdout",
     "output_type": "stream",
     "text": [
      "AUC-ROC= 0.8608909371621236\n"
     ]
    }
   ],
   "source": [
    " #определим roc_auc\n",
    "roc_auc = roc_auc_score(target_test, probabilities_one_test)\n",
    "print('AUC-ROC=',roc_auc)"
   ]
  },
  {
   "attachments": {},
   "cell_type": "markdown",
   "metadata": {},
   "source": [
    "Полученная модель отличается от случайной AUC-ROC=0.860827, что выше значения AUC-ROC=0.5 у случайной модели. Это означает хорошее качество полученной модели"
   ]
  },
  {
   "attachments": {},
   "cell_type": "markdown",
   "metadata": {},
   "source": [
    "### Матрица ошибок"
   ]
  },
  {
   "attachments": {},
   "cell_type": "markdown",
   "metadata": {},
   "source": [
    "Рассмотрим ошибки, которая допустила модель:\n",
    "- TN в левом верхнем углу\n",
    "- TP в правом нижнем углу\n",
    "- FP в правом верхнем углу\n",
    "- FN в левом нижнем углу"
   ]
  },
  {
   "cell_type": "code",
   "execution_count": 66,
   "metadata": {},
   "outputs": [
    {
     "name": "stdout",
     "output_type": "stream",
     "text": [
      "[[1460  133]\n",
      " [ 171  236]]\n"
     ]
    }
   ],
   "source": [
    "print(confusion_matrix(target_test, predictions_test))"
   ]
  },
  {
   "attachments": {},
   "cell_type": "markdown",
   "metadata": {},
   "source": [
    "133 ошибок False Positive (FP) - фактическое значение было отрицательным, но модель предсказала положительное значение. Ошибка первого рода.\n",
    "\n",
    "174 ошибок False Negative (FN) - фактическое значение было положительным, но модель предсказала отрицательное значение. Ошибка второго рода"
   ]
  },
  {
   "attachments": {},
   "cell_type": "markdown",
   "metadata": {},
   "source": [
    "## Общий вывод"
   ]
  },
  {
   "attachments": {},
   "cell_type": "markdown",
   "metadata": {},
   "source": [
    "Для целей построения модели для задачи классификации, которая предскажет отток клиентов, было проведено следующее: \n",
    "\n",
    "Проведено ознакомление с данными.\n",
    "\n",
    "Проведено разделение исходных данных выборки:\n",
    "- Обучающая выборка: features_train (признаки), target_train (целевые значения)\n",
    "- Валидационная выборка: features_valid (признаки), target_valid (целевые значения)\n",
    "- Тестовая выборка: features_test (признаки), target_test (целевые значения)\n",
    "- объединенная обучающая и валидационная выборка\n",
    "\n",
    "Проведено кодирование данных с помощью OneHotEncoder и масштабирование данных\n",
    "\n",
    "Для решения задачи  использовались три модели: RandomForestClassifier, DecisionTreeClassifier и LogisticRegression с различными значениями гиперпараметров. Проведено обучение моделей на обучающей выборке, проверка предсказаний на валидационной и тестовой выборке. Лучшая модель и набор гиперпараметров определялась по значению метрики F1 с помощью подбора гиперпараметров в цикле и методами автоматического подбора GridSearchCV и RandomizedSearchCV. \n",
    "\n",
    "Для увеличения качества предсказания было проведено устранение дисбаланса классов: аппсемплинг и даунсемплинг с помощью функции, использован метод устранения дисбаланса SMOTE. Проведено обучение моделей RandomForestClassifier, DecisionTreeClassifier и LogisticRegression  на полученных данных. Лучшая модель и набор гиперпараметров (RandomForestClassifier(random_state=12345, n_estimators=197, max_depth=21)) определялась по значению метрики F1 и была получена на данных при использовании SMOTE. \n",
    "\n",
    "На тестовой выборке для выбранной модели получены следующие результаты:\n",
    "- Модель показала результат F1 = 0.602846, выше значения F1 = 0,59 необходимого для выполнения задания\n",
    "- AUC-ROC= 0.860827, что выше значения AUC-ROC=0.5 у случайной модели. Это означает хорошее качество полученной модели\n",
    "- Модель допустила 116 ошибок False Positive (FP) и 177 ошибок False Negative (FN)"
   ]
  },
  {
   "cell_type": "code",
   "execution_count": null,
   "metadata": {},
   "outputs": [],
   "source": []
  }
 ],
 "metadata": {
  "ExecuteTimeLog": [
   {
    "duration": 1135,
    "start_time": "2022-12-05T11:32:28.371Z"
   },
   {
    "duration": 152,
    "start_time": "2022-12-05T11:33:02.422Z"
   },
   {
    "duration": 15,
    "start_time": "2022-12-05T11:33:25.629Z"
   },
   {
    "duration": 20,
    "start_time": "2022-12-05T11:34:03.310Z"
   },
   {
    "duration": 1625,
    "start_time": "2022-12-05T12:22:21.248Z"
   },
   {
    "duration": 42,
    "start_time": "2022-12-05T12:22:22.876Z"
   },
   {
    "duration": 18,
    "start_time": "2022-12-05T12:22:22.920Z"
   },
   {
    "duration": 21,
    "start_time": "2022-12-05T12:22:22.940Z"
   },
   {
    "duration": 13,
    "start_time": "2022-12-05T12:24:48.654Z"
   },
   {
    "duration": 7,
    "start_time": "2022-12-05T12:25:02.253Z"
   },
   {
    "duration": 6,
    "start_time": "2022-12-05T12:25:39.015Z"
   },
   {
    "duration": 6,
    "start_time": "2022-12-05T12:26:13.114Z"
   },
   {
    "duration": 134,
    "start_time": "2022-12-05T12:37:18.164Z"
   },
   {
    "duration": 110,
    "start_time": "2022-12-05T12:40:37.607Z"
   },
   {
    "duration": 4,
    "start_time": "2022-12-05T15:48:32.377Z"
   },
   {
    "duration": 112,
    "start_time": "2022-12-05T15:48:53.972Z"
   },
   {
    "duration": 1535,
    "start_time": "2022-12-05T15:48:58.738Z"
   },
   {
    "duration": 41,
    "start_time": "2022-12-05T15:49:00.275Z"
   },
   {
    "duration": 19,
    "start_time": "2022-12-05T15:49:00.318Z"
   },
   {
    "duration": 16,
    "start_time": "2022-12-05T15:49:00.340Z"
   },
   {
    "duration": 118,
    "start_time": "2022-12-05T15:49:00.358Z"
   },
   {
    "duration": 0,
    "start_time": "2022-12-05T15:49:00.478Z"
   },
   {
    "duration": 0,
    "start_time": "2022-12-05T15:49:00.480Z"
   },
   {
    "duration": 0,
    "start_time": "2022-12-05T15:49:00.481Z"
   },
   {
    "duration": 0,
    "start_time": "2022-12-05T15:49:00.483Z"
   },
   {
    "duration": 0,
    "start_time": "2022-12-05T15:49:00.485Z"
   },
   {
    "duration": 5,
    "start_time": "2022-12-05T15:49:22.194Z"
   },
   {
    "duration": 6,
    "start_time": "2022-12-05T15:50:09.817Z"
   },
   {
    "duration": 7,
    "start_time": "2022-12-05T15:54:22.691Z"
   },
   {
    "duration": 13,
    "start_time": "2022-12-05T15:56:17.048Z"
   },
   {
    "duration": 21,
    "start_time": "2022-12-05T15:57:07.071Z"
   },
   {
    "duration": 19,
    "start_time": "2022-12-05T15:57:23.587Z"
   },
   {
    "duration": 5,
    "start_time": "2022-12-05T15:58:33.950Z"
   },
   {
    "duration": 5,
    "start_time": "2022-12-05T16:00:36.346Z"
   },
   {
    "duration": 13,
    "start_time": "2022-12-05T16:00:54.689Z"
   },
   {
    "duration": 4,
    "start_time": "2022-12-05T16:03:48.356Z"
   },
   {
    "duration": 15,
    "start_time": "2022-12-05T16:03:48.822Z"
   },
   {
    "duration": 11,
    "start_time": "2022-12-05T16:04:21.437Z"
   },
   {
    "duration": 1363,
    "start_time": "2022-12-05T16:04:42.253Z"
   },
   {
    "duration": 40,
    "start_time": "2022-12-05T16:04:43.618Z"
   },
   {
    "duration": 16,
    "start_time": "2022-12-05T16:04:43.660Z"
   },
   {
    "duration": 13,
    "start_time": "2022-12-05T16:04:43.678Z"
   },
   {
    "duration": 5,
    "start_time": "2022-12-05T16:04:43.692Z"
   },
   {
    "duration": 7,
    "start_time": "2022-12-05T16:04:43.698Z"
   },
   {
    "duration": 33,
    "start_time": "2022-12-05T16:04:43.707Z"
   },
   {
    "duration": 14,
    "start_time": "2022-12-05T16:04:43.742Z"
   },
   {
    "duration": 12,
    "start_time": "2022-12-05T16:04:43.758Z"
   },
   {
    "duration": 8,
    "start_time": "2022-12-05T16:04:43.773Z"
   },
   {
    "duration": 8,
    "start_time": "2022-12-05T16:04:43.782Z"
   },
   {
    "duration": 132,
    "start_time": "2022-12-05T16:04:43.839Z"
   },
   {
    "duration": 0,
    "start_time": "2022-12-05T16:04:43.973Z"
   },
   {
    "duration": 28,
    "start_time": "2022-12-05T16:21:59.295Z"
   },
   {
    "duration": 1109,
    "start_time": "2022-12-05T16:23:06.523Z"
   },
   {
    "duration": 13,
    "start_time": "2022-12-05T16:23:18.939Z"
   },
   {
    "duration": 10,
    "start_time": "2022-12-05T16:24:39.460Z"
   },
   {
    "duration": 10,
    "start_time": "2022-12-05T16:27:28.085Z"
   },
   {
    "duration": 19,
    "start_time": "2022-12-05T16:28:02.475Z"
   },
   {
    "duration": 19,
    "start_time": "2022-12-05T16:29:12.666Z"
   },
   {
    "duration": 18,
    "start_time": "2022-12-05T16:29:53.935Z"
   },
   {
    "duration": 11,
    "start_time": "2022-12-05T16:30:38.056Z"
   },
   {
    "duration": 19,
    "start_time": "2022-12-05T16:30:59.376Z"
   },
   {
    "duration": 13,
    "start_time": "2022-12-05T16:31:29.416Z"
   },
   {
    "duration": 12,
    "start_time": "2022-12-05T16:32:30.197Z"
   },
   {
    "duration": 1375,
    "start_time": "2022-12-05T16:32:35.837Z"
   },
   {
    "duration": 41,
    "start_time": "2022-12-05T16:32:37.214Z"
   },
   {
    "duration": 17,
    "start_time": "2022-12-05T16:32:37.257Z"
   },
   {
    "duration": 20,
    "start_time": "2022-12-05T16:32:37.277Z"
   },
   {
    "duration": 8,
    "start_time": "2022-12-05T16:32:37.299Z"
   },
   {
    "duration": 28,
    "start_time": "2022-12-05T16:32:37.309Z"
   },
   {
    "duration": 6,
    "start_time": "2022-12-05T16:32:37.339Z"
   },
   {
    "duration": 13,
    "start_time": "2022-12-05T16:32:37.347Z"
   },
   {
    "duration": 10,
    "start_time": "2022-12-05T16:32:37.361Z"
   },
   {
    "duration": 6,
    "start_time": "2022-12-05T16:32:37.374Z"
   },
   {
    "duration": 5,
    "start_time": "2022-12-05T16:32:37.382Z"
   },
   {
    "duration": 64,
    "start_time": "2022-12-05T16:32:37.389Z"
   },
   {
    "duration": 11,
    "start_time": "2022-12-05T16:32:37.454Z"
   },
   {
    "duration": 176,
    "start_time": "2022-12-05T16:32:37.467Z"
   },
   {
    "duration": 0,
    "start_time": "2022-12-05T16:32:37.645Z"
   },
   {
    "duration": 12,
    "start_time": "2022-12-05T16:36:25.298Z"
   },
   {
    "duration": 1470,
    "start_time": "2022-12-05T16:36:33.102Z"
   },
   {
    "duration": 41,
    "start_time": "2022-12-05T16:36:34.574Z"
   },
   {
    "duration": 19,
    "start_time": "2022-12-05T16:36:34.616Z"
   },
   {
    "duration": 14,
    "start_time": "2022-12-05T16:36:34.638Z"
   },
   {
    "duration": 5,
    "start_time": "2022-12-05T16:36:34.654Z"
   },
   {
    "duration": 7,
    "start_time": "2022-12-05T16:36:34.660Z"
   },
   {
    "duration": 5,
    "start_time": "2022-12-05T16:36:34.668Z"
   },
   {
    "duration": 20,
    "start_time": "2022-12-05T16:36:34.674Z"
   },
   {
    "duration": 43,
    "start_time": "2022-12-05T16:36:34.697Z"
   },
   {
    "duration": 7,
    "start_time": "2022-12-05T16:36:34.743Z"
   },
   {
    "duration": 6,
    "start_time": "2022-12-05T16:36:34.751Z"
   },
   {
    "duration": 23,
    "start_time": "2022-12-05T16:36:34.759Z"
   },
   {
    "duration": 11,
    "start_time": "2022-12-05T16:36:34.784Z"
   },
   {
    "duration": 191,
    "start_time": "2022-12-05T16:36:34.796Z"
   },
   {
    "duration": 0,
    "start_time": "2022-12-05T16:36:34.989Z"
   },
   {
    "duration": 4,
    "start_time": "2022-12-05T16:42:00.375Z"
   },
   {
    "duration": 24,
    "start_time": "2022-12-05T16:44:34.240Z"
   },
   {
    "duration": 16,
    "start_time": "2022-12-05T16:45:00.269Z"
   },
   {
    "duration": 6,
    "start_time": "2022-12-05T16:49:02.388Z"
   },
   {
    "duration": 9,
    "start_time": "2022-12-05T16:49:24.509Z"
   },
   {
    "duration": 6,
    "start_time": "2022-12-05T16:49:45.949Z"
   },
   {
    "duration": 8,
    "start_time": "2022-12-05T16:53:40.912Z"
   },
   {
    "duration": 1591,
    "start_time": "2022-12-05T16:53:49.742Z"
   },
   {
    "duration": 40,
    "start_time": "2022-12-05T16:53:51.335Z"
   },
   {
    "duration": 18,
    "start_time": "2022-12-05T16:53:51.377Z"
   },
   {
    "duration": 15,
    "start_time": "2022-12-05T16:53:51.397Z"
   },
   {
    "duration": 7,
    "start_time": "2022-12-05T16:53:51.414Z"
   },
   {
    "duration": 9,
    "start_time": "2022-12-05T16:53:51.437Z"
   },
   {
    "duration": 7,
    "start_time": "2022-12-05T16:53:51.448Z"
   },
   {
    "duration": 11,
    "start_time": "2022-12-05T16:53:51.457Z"
   },
   {
    "duration": 9,
    "start_time": "2022-12-05T16:53:51.470Z"
   },
   {
    "duration": 6,
    "start_time": "2022-12-05T16:53:51.482Z"
   },
   {
    "duration": 6,
    "start_time": "2022-12-05T16:53:51.490Z"
   },
   {
    "duration": 24,
    "start_time": "2022-12-05T16:53:51.538Z"
   },
   {
    "duration": 12,
    "start_time": "2022-12-05T16:53:51.563Z"
   },
   {
    "duration": 12,
    "start_time": "2022-12-05T16:53:51.577Z"
   },
   {
    "duration": 159,
    "start_time": "2022-12-05T16:53:51.592Z"
   },
   {
    "duration": 0,
    "start_time": "2022-12-05T16:53:51.753Z"
   },
   {
    "duration": 0,
    "start_time": "2022-12-05T16:53:51.754Z"
   },
   {
    "duration": 34,
    "start_time": "2022-12-05T16:55:48.125Z"
   },
   {
    "duration": 37,
    "start_time": "2022-12-05T16:56:01.419Z"
   },
   {
    "duration": 1408,
    "start_time": "2022-12-05T16:57:08.588Z"
   },
   {
    "duration": 48,
    "start_time": "2022-12-05T16:57:09.998Z"
   },
   {
    "duration": 18,
    "start_time": "2022-12-05T16:57:10.048Z"
   },
   {
    "duration": 19,
    "start_time": "2022-12-05T16:57:10.068Z"
   },
   {
    "duration": 20,
    "start_time": "2022-12-05T16:57:10.089Z"
   },
   {
    "duration": 20,
    "start_time": "2022-12-05T16:57:10.111Z"
   },
   {
    "duration": 33,
    "start_time": "2022-12-05T16:57:10.133Z"
   },
   {
    "duration": 27,
    "start_time": "2022-12-05T16:57:10.168Z"
   },
   {
    "duration": 17,
    "start_time": "2022-12-05T16:57:10.197Z"
   },
   {
    "duration": 14,
    "start_time": "2022-12-05T16:57:10.216Z"
   },
   {
    "duration": 9,
    "start_time": "2022-12-05T16:57:10.232Z"
   },
   {
    "duration": 42,
    "start_time": "2022-12-05T16:57:10.242Z"
   },
   {
    "duration": 12,
    "start_time": "2022-12-05T16:57:10.286Z"
   },
   {
    "duration": 14,
    "start_time": "2022-12-05T16:57:10.300Z"
   },
   {
    "duration": 43,
    "start_time": "2022-12-05T16:57:10.315Z"
   },
   {
    "duration": 160,
    "start_time": "2022-12-05T16:57:10.360Z"
   },
   {
    "duration": 0,
    "start_time": "2022-12-05T16:57:10.522Z"
   },
   {
    "duration": 6080,
    "start_time": "2022-12-05T17:12:03.279Z"
   },
   {
    "duration": 1475,
    "start_time": "2022-12-05T17:20:19.760Z"
   },
   {
    "duration": 40,
    "start_time": "2022-12-05T17:20:21.237Z"
   },
   {
    "duration": 17,
    "start_time": "2022-12-05T17:20:21.278Z"
   },
   {
    "duration": 13,
    "start_time": "2022-12-05T17:20:21.298Z"
   },
   {
    "duration": 5,
    "start_time": "2022-12-05T17:20:21.313Z"
   },
   {
    "duration": 21,
    "start_time": "2022-12-05T17:20:21.320Z"
   },
   {
    "duration": 5,
    "start_time": "2022-12-05T17:20:21.343Z"
   },
   {
    "duration": 12,
    "start_time": "2022-12-05T17:20:21.350Z"
   },
   {
    "duration": 19,
    "start_time": "2022-12-05T17:20:21.364Z"
   },
   {
    "duration": 8,
    "start_time": "2022-12-05T17:20:21.386Z"
   },
   {
    "duration": 6,
    "start_time": "2022-12-05T17:20:21.395Z"
   },
   {
    "duration": 56,
    "start_time": "2022-12-05T17:20:21.402Z"
   },
   {
    "duration": 14,
    "start_time": "2022-12-05T17:20:21.460Z"
   },
   {
    "duration": 64,
    "start_time": "2022-12-05T17:20:21.476Z"
   },
   {
    "duration": 25445,
    "start_time": "2022-12-05T17:20:21.542Z"
   },
   {
    "duration": 127,
    "start_time": "2022-12-05T17:20:46.988Z"
   },
   {
    "duration": 0,
    "start_time": "2022-12-05T17:20:47.117Z"
   },
   {
    "duration": 0,
    "start_time": "2022-12-05T17:20:47.118Z"
   },
   {
    "duration": 12,
    "start_time": "2022-12-05T17:21:21.715Z"
   },
   {
    "duration": 12,
    "start_time": "2022-12-05T17:21:57.225Z"
   },
   {
    "duration": 1424,
    "start_time": "2022-12-05T17:27:40.508Z"
   },
   {
    "duration": 42,
    "start_time": "2022-12-05T17:27:41.936Z"
   },
   {
    "duration": 19,
    "start_time": "2022-12-05T17:27:41.980Z"
   },
   {
    "duration": 14,
    "start_time": "2022-12-05T17:27:42.002Z"
   },
   {
    "duration": 5,
    "start_time": "2022-12-05T17:27:42.018Z"
   },
   {
    "duration": 7,
    "start_time": "2022-12-05T17:27:42.037Z"
   },
   {
    "duration": 11,
    "start_time": "2022-12-05T17:27:42.046Z"
   },
   {
    "duration": 19,
    "start_time": "2022-12-05T17:27:42.058Z"
   },
   {
    "duration": 11,
    "start_time": "2022-12-05T17:27:42.079Z"
   },
   {
    "duration": 7,
    "start_time": "2022-12-05T17:27:42.093Z"
   },
   {
    "duration": 38,
    "start_time": "2022-12-05T17:27:42.102Z"
   },
   {
    "duration": 27,
    "start_time": "2022-12-05T17:27:42.142Z"
   },
   {
    "duration": 11,
    "start_time": "2022-12-05T17:27:42.171Z"
   },
   {
    "duration": 66,
    "start_time": "2022-12-05T17:27:42.184Z"
   },
   {
    "duration": 94738,
    "start_time": "2022-12-05T17:27:42.252Z"
   },
   {
    "duration": 13,
    "start_time": "2022-12-05T17:29:16.992Z"
   },
   {
    "duration": 32,
    "start_time": "2022-12-05T17:29:17.006Z"
   },
   {
    "duration": 150,
    "start_time": "2022-12-05T17:29:17.040Z"
   },
   {
    "duration": 1430,
    "start_time": "2022-12-05T17:30:00.206Z"
   },
   {
    "duration": 41,
    "start_time": "2022-12-05T17:30:01.638Z"
   },
   {
    "duration": 20,
    "start_time": "2022-12-05T17:30:01.681Z"
   },
   {
    "duration": 17,
    "start_time": "2022-12-05T17:30:01.704Z"
   },
   {
    "duration": 5,
    "start_time": "2022-12-05T17:30:01.722Z"
   },
   {
    "duration": 7,
    "start_time": "2022-12-05T17:30:01.737Z"
   },
   {
    "duration": 16,
    "start_time": "2022-12-05T17:30:01.746Z"
   },
   {
    "duration": 20,
    "start_time": "2022-12-05T17:30:01.764Z"
   },
   {
    "duration": 41,
    "start_time": "2022-12-05T17:30:01.785Z"
   },
   {
    "duration": 53,
    "start_time": "2022-12-05T17:30:01.829Z"
   },
   {
    "duration": 24,
    "start_time": "2022-12-05T17:30:01.884Z"
   },
   {
    "duration": 72,
    "start_time": "2022-12-05T17:30:01.910Z"
   },
   {
    "duration": 15,
    "start_time": "2022-12-05T17:30:01.983Z"
   },
   {
    "duration": 58,
    "start_time": "2022-12-05T17:30:01.999Z"
   },
   {
    "duration": 114241,
    "start_time": "2022-12-05T17:30:02.059Z"
   },
   {
    "duration": 12,
    "start_time": "2022-12-05T17:31:56.301Z"
   },
   {
    "duration": 28,
    "start_time": "2022-12-05T17:31:56.314Z"
   },
   {
    "duration": 150,
    "start_time": "2022-12-05T17:31:56.345Z"
   },
   {
    "duration": 435599,
    "start_time": "2022-12-05T17:37:56.610Z"
   },
   {
    "duration": 1501,
    "start_time": "2022-12-05T17:49:57.362Z"
   },
   {
    "duration": 55,
    "start_time": "2022-12-05T17:49:58.867Z"
   },
   {
    "duration": 23,
    "start_time": "2022-12-05T17:49:58.924Z"
   },
   {
    "duration": 19,
    "start_time": "2022-12-05T17:49:58.950Z"
   },
   {
    "duration": 11,
    "start_time": "2022-12-05T17:49:58.972Z"
   },
   {
    "duration": 25,
    "start_time": "2022-12-05T17:49:58.986Z"
   },
   {
    "duration": 15,
    "start_time": "2022-12-05T17:49:59.037Z"
   },
   {
    "duration": 23,
    "start_time": "2022-12-05T17:49:59.055Z"
   },
   {
    "duration": 34,
    "start_time": "2022-12-05T17:49:59.080Z"
   },
   {
    "duration": 21,
    "start_time": "2022-12-05T17:49:59.118Z"
   },
   {
    "duration": 9,
    "start_time": "2022-12-05T17:49:59.143Z"
   },
   {
    "duration": 31,
    "start_time": "2022-12-05T17:49:59.154Z"
   },
   {
    "duration": 17,
    "start_time": "2022-12-05T17:49:59.186Z"
   },
   {
    "duration": 75,
    "start_time": "2022-12-05T17:49:59.206Z"
   },
   {
    "duration": 70125,
    "start_time": "2022-12-05T17:49:59.284Z"
   },
   {
    "duration": 29,
    "start_time": "2022-12-05T17:51:09.411Z"
   },
   {
    "duration": 18,
    "start_time": "2022-12-05T17:51:09.442Z"
   },
   {
    "duration": 186,
    "start_time": "2022-12-05T17:51:09.462Z"
   },
   {
    "duration": 1478,
    "start_time": "2022-12-05T17:54:19.861Z"
   },
   {
    "duration": 42,
    "start_time": "2022-12-05T17:54:21.341Z"
   },
   {
    "duration": 19,
    "start_time": "2022-12-05T17:54:21.386Z"
   },
   {
    "duration": 32,
    "start_time": "2022-12-05T17:54:21.408Z"
   },
   {
    "duration": 7,
    "start_time": "2022-12-05T17:54:21.442Z"
   },
   {
    "duration": 17,
    "start_time": "2022-12-05T17:54:21.451Z"
   },
   {
    "duration": 28,
    "start_time": "2022-12-05T17:54:21.471Z"
   },
   {
    "duration": 45,
    "start_time": "2022-12-05T17:54:21.501Z"
   },
   {
    "duration": 43,
    "start_time": "2022-12-05T17:54:21.548Z"
   },
   {
    "duration": 45,
    "start_time": "2022-12-05T17:54:21.594Z"
   },
   {
    "duration": 30,
    "start_time": "2022-12-05T17:54:21.641Z"
   },
   {
    "duration": 49,
    "start_time": "2022-12-05T17:54:21.673Z"
   },
   {
    "duration": 12,
    "start_time": "2022-12-05T17:54:21.724Z"
   },
   {
    "duration": 46,
    "start_time": "2022-12-05T17:54:21.738Z"
   },
   {
    "duration": 241,
    "start_time": "2022-12-05T17:54:21.786Z"
   },
   {
    "duration": 11,
    "start_time": "2022-12-05T17:54:22.029Z"
   },
   {
    "duration": 42,
    "start_time": "2022-12-05T17:54:22.042Z"
   },
   {
    "duration": 168,
    "start_time": "2022-12-05T17:54:22.086Z"
   },
   {
    "duration": 1530,
    "start_time": "2022-12-05T17:57:10.096Z"
   },
   {
    "duration": 43,
    "start_time": "2022-12-05T17:57:11.629Z"
   },
   {
    "duration": 18,
    "start_time": "2022-12-05T17:57:11.674Z"
   },
   {
    "duration": 17,
    "start_time": "2022-12-05T17:57:11.695Z"
   },
   {
    "duration": 9,
    "start_time": "2022-12-05T17:57:11.714Z"
   },
   {
    "duration": 9,
    "start_time": "2022-12-05T17:57:11.737Z"
   },
   {
    "duration": 12,
    "start_time": "2022-12-05T17:57:11.747Z"
   },
   {
    "duration": 15,
    "start_time": "2022-12-05T17:57:11.762Z"
   },
   {
    "duration": 11,
    "start_time": "2022-12-05T17:57:11.779Z"
   },
   {
    "duration": 7,
    "start_time": "2022-12-05T17:57:11.794Z"
   },
   {
    "duration": 41,
    "start_time": "2022-12-05T17:57:11.803Z"
   },
   {
    "duration": 36,
    "start_time": "2022-12-05T17:57:11.846Z"
   },
   {
    "duration": 12,
    "start_time": "2022-12-05T17:57:11.884Z"
   },
   {
    "duration": 60,
    "start_time": "2022-12-05T17:57:11.898Z"
   },
   {
    "duration": 77784,
    "start_time": "2022-12-05T17:57:11.960Z"
   },
   {
    "duration": 14,
    "start_time": "2022-12-05T17:58:29.746Z"
   },
   {
    "duration": 20,
    "start_time": "2022-12-05T17:58:29.762Z"
   },
   {
    "duration": 201,
    "start_time": "2022-12-05T17:58:29.785Z"
   },
   {
    "duration": 1493,
    "start_time": "2022-12-05T18:02:40.657Z"
   },
   {
    "duration": 51,
    "start_time": "2022-12-05T18:02:42.154Z"
   },
   {
    "duration": 18,
    "start_time": "2022-12-05T18:02:42.207Z"
   },
   {
    "duration": 48,
    "start_time": "2022-12-05T18:02:42.227Z"
   },
   {
    "duration": 22,
    "start_time": "2022-12-05T18:02:42.277Z"
   },
   {
    "duration": 8,
    "start_time": "2022-12-05T18:02:42.301Z"
   },
   {
    "duration": 42,
    "start_time": "2022-12-05T18:02:42.310Z"
   },
   {
    "duration": 19,
    "start_time": "2022-12-05T18:02:42.354Z"
   },
   {
    "duration": 19,
    "start_time": "2022-12-05T18:02:42.376Z"
   },
   {
    "duration": 7,
    "start_time": "2022-12-05T18:02:42.398Z"
   },
   {
    "duration": 10,
    "start_time": "2022-12-05T18:02:42.407Z"
   },
   {
    "duration": 37,
    "start_time": "2022-12-05T18:02:42.418Z"
   },
   {
    "duration": 33,
    "start_time": "2022-12-05T18:02:42.457Z"
   },
   {
    "duration": 59,
    "start_time": "2022-12-05T18:02:42.492Z"
   },
   {
    "duration": 77278,
    "start_time": "2022-12-05T18:02:42.556Z"
   },
   {
    "duration": 23,
    "start_time": "2022-12-05T18:03:59.837Z"
   },
   {
    "duration": 161,
    "start_time": "2022-12-05T18:03:59.861Z"
   },
   {
    "duration": 1491,
    "start_time": "2022-12-05T18:05:14.355Z"
   },
   {
    "duration": 46,
    "start_time": "2022-12-05T18:05:15.848Z"
   },
   {
    "duration": 17,
    "start_time": "2022-12-05T18:05:15.896Z"
   },
   {
    "duration": 14,
    "start_time": "2022-12-05T18:05:15.915Z"
   },
   {
    "duration": 17,
    "start_time": "2022-12-05T18:05:15.931Z"
   },
   {
    "duration": 12,
    "start_time": "2022-12-05T18:05:15.953Z"
   },
   {
    "duration": 7,
    "start_time": "2022-12-05T18:05:15.967Z"
   },
   {
    "duration": 16,
    "start_time": "2022-12-05T18:05:15.975Z"
   },
   {
    "duration": 9,
    "start_time": "2022-12-05T18:05:15.993Z"
   },
   {
    "duration": 7,
    "start_time": "2022-12-05T18:05:16.004Z"
   },
   {
    "duration": 27,
    "start_time": "2022-12-05T18:05:16.012Z"
   },
   {
    "duration": 37,
    "start_time": "2022-12-05T18:05:16.042Z"
   },
   {
    "duration": 12,
    "start_time": "2022-12-05T18:05:16.081Z"
   },
   {
    "duration": 50,
    "start_time": "2022-12-05T18:05:16.095Z"
   },
   {
    "duration": 78401,
    "start_time": "2022-12-05T18:05:16.146Z"
   },
   {
    "duration": 18,
    "start_time": "2022-12-05T18:06:34.549Z"
   },
   {
    "duration": 160,
    "start_time": "2022-12-05T18:06:34.569Z"
   },
   {
    "duration": 1444,
    "start_time": "2022-12-05T18:18:35.808Z"
   },
   {
    "duration": 41,
    "start_time": "2022-12-05T18:18:37.256Z"
   },
   {
    "duration": 18,
    "start_time": "2022-12-05T18:18:37.299Z"
   },
   {
    "duration": 21,
    "start_time": "2022-12-05T18:18:37.319Z"
   },
   {
    "duration": 13,
    "start_time": "2022-12-05T18:18:37.344Z"
   },
   {
    "duration": 9,
    "start_time": "2022-12-05T18:18:37.359Z"
   },
   {
    "duration": 8,
    "start_time": "2022-12-05T18:18:37.370Z"
   },
   {
    "duration": 14,
    "start_time": "2022-12-05T18:18:37.380Z"
   },
   {
    "duration": 11,
    "start_time": "2022-12-05T18:18:37.396Z"
   },
   {
    "duration": 7,
    "start_time": "2022-12-05T18:18:37.409Z"
   },
   {
    "duration": 18,
    "start_time": "2022-12-05T18:18:37.441Z"
   },
   {
    "duration": 34,
    "start_time": "2022-12-05T18:18:37.461Z"
   },
   {
    "duration": 12,
    "start_time": "2022-12-05T18:18:37.497Z"
   },
   {
    "duration": 36,
    "start_time": "2022-12-05T18:18:37.511Z"
   },
   {
    "duration": 43576,
    "start_time": "2022-12-05T18:18:37.553Z"
   },
   {
    "duration": 26,
    "start_time": "2022-12-05T18:19:21.130Z"
   },
   {
    "duration": 163,
    "start_time": "2022-12-05T18:19:21.158Z"
   },
   {
    "duration": 1395,
    "start_time": "2022-12-05T18:26:29.667Z"
   },
   {
    "duration": 39,
    "start_time": "2022-12-05T18:26:31.064Z"
   },
   {
    "duration": 17,
    "start_time": "2022-12-05T18:26:31.105Z"
   },
   {
    "duration": 16,
    "start_time": "2022-12-05T18:26:31.123Z"
   },
   {
    "duration": 15,
    "start_time": "2022-12-05T18:26:31.141Z"
   },
   {
    "duration": 10,
    "start_time": "2022-12-05T18:26:31.158Z"
   },
   {
    "duration": 19,
    "start_time": "2022-12-05T18:26:31.170Z"
   },
   {
    "duration": 14,
    "start_time": "2022-12-05T18:26:31.191Z"
   },
   {
    "duration": 10,
    "start_time": "2022-12-05T18:26:31.206Z"
   },
   {
    "duration": 6,
    "start_time": "2022-12-05T18:26:31.218Z"
   },
   {
    "duration": 8,
    "start_time": "2022-12-05T18:26:31.225Z"
   },
   {
    "duration": 34,
    "start_time": "2022-12-05T18:26:31.241Z"
   },
   {
    "duration": 14,
    "start_time": "2022-12-05T18:26:31.277Z"
   },
   {
    "duration": 56,
    "start_time": "2022-12-05T18:26:31.292Z"
   },
   {
    "duration": 613,
    "start_time": "2022-12-05T18:26:31.351Z"
   },
   {
    "duration": 11,
    "start_time": "2022-12-05T18:26:31.966Z"
   },
   {
    "duration": 137,
    "start_time": "2022-12-05T18:26:31.978Z"
   },
   {
    "duration": 1418,
    "start_time": "2022-12-05T18:29:09.403Z"
   },
   {
    "duration": 42,
    "start_time": "2022-12-05T18:29:10.823Z"
   },
   {
    "duration": 17,
    "start_time": "2022-12-05T18:29:10.867Z"
   },
   {
    "duration": 13,
    "start_time": "2022-12-05T18:29:10.887Z"
   },
   {
    "duration": 6,
    "start_time": "2022-12-05T18:29:10.902Z"
   },
   {
    "duration": 9,
    "start_time": "2022-12-05T18:29:10.910Z"
   },
   {
    "duration": 6,
    "start_time": "2022-12-05T18:29:10.938Z"
   },
   {
    "duration": 13,
    "start_time": "2022-12-05T18:29:10.946Z"
   },
   {
    "duration": 10,
    "start_time": "2022-12-05T18:29:10.961Z"
   },
   {
    "duration": 7,
    "start_time": "2022-12-05T18:29:10.973Z"
   },
   {
    "duration": 6,
    "start_time": "2022-12-05T18:29:10.981Z"
   },
   {
    "duration": 55,
    "start_time": "2022-12-05T18:29:10.988Z"
   },
   {
    "duration": 11,
    "start_time": "2022-12-05T18:29:11.045Z"
   },
   {
    "duration": 27,
    "start_time": "2022-12-05T18:29:11.058Z"
   },
   {
    "duration": 41412,
    "start_time": "2022-12-05T18:29:11.086Z"
   },
   {
    "duration": 12,
    "start_time": "2022-12-05T18:29:52.500Z"
   },
   {
    "duration": 139,
    "start_time": "2022-12-05T18:29:52.513Z"
   },
   {
    "duration": 2,
    "start_time": "2022-12-05T18:51:03.306Z"
   },
   {
    "duration": 127,
    "start_time": "2022-12-05T18:56:48.631Z"
   },
   {
    "duration": 22,
    "start_time": "2022-12-05T18:57:19.674Z"
   },
   {
    "duration": 4,
    "start_time": "2022-12-05T19:01:26.610Z"
   },
   {
    "duration": 18,
    "start_time": "2022-12-05T19:14:15.614Z"
   },
   {
    "duration": 12,
    "start_time": "2022-12-05T19:23:57.529Z"
   },
   {
    "duration": 10,
    "start_time": "2022-12-05T19:24:51.220Z"
   },
   {
    "duration": 11,
    "start_time": "2022-12-05T19:25:02.505Z"
   },
   {
    "duration": 23,
    "start_time": "2022-12-05T19:27:31.525Z"
   },
   {
    "duration": 482,
    "start_time": "2022-12-05T19:27:43.257Z"
   },
   {
    "duration": 382,
    "start_time": "2022-12-05T19:28:16.956Z"
   },
   {
    "duration": 3198,
    "start_time": "2022-12-05T19:28:39.843Z"
   },
   {
    "duration": 19979,
    "start_time": "2022-12-05T19:29:08.659Z"
   },
   {
    "duration": 35641,
    "start_time": "2022-12-05T19:29:33.299Z"
   },
   {
    "duration": 13,
    "start_time": "2022-12-05T19:51:04.817Z"
   },
   {
    "duration": 3418,
    "start_time": "2022-12-05T19:53:01.490Z"
   },
   {
    "duration": 20,
    "start_time": "2022-12-05T19:53:47.143Z"
   },
   {
    "duration": 1483,
    "start_time": "2022-12-05T19:53:59.796Z"
   },
   {
    "duration": 43,
    "start_time": "2022-12-05T19:54:01.281Z"
   },
   {
    "duration": 19,
    "start_time": "2022-12-05T19:54:01.326Z"
   },
   {
    "duration": 19,
    "start_time": "2022-12-05T19:54:01.347Z"
   },
   {
    "duration": 5,
    "start_time": "2022-12-05T19:54:01.368Z"
   },
   {
    "duration": 14,
    "start_time": "2022-12-05T19:54:01.375Z"
   },
   {
    "duration": 15,
    "start_time": "2022-12-05T19:54:01.391Z"
   },
   {
    "duration": 39,
    "start_time": "2022-12-05T19:54:01.407Z"
   },
   {
    "duration": 35,
    "start_time": "2022-12-05T19:54:01.448Z"
   },
   {
    "duration": 76,
    "start_time": "2022-12-05T19:54:01.486Z"
   },
   {
    "duration": 24,
    "start_time": "2022-12-05T19:54:01.564Z"
   },
   {
    "duration": 45,
    "start_time": "2022-12-05T19:54:01.591Z"
   },
   {
    "duration": 15,
    "start_time": "2022-12-05T19:54:01.638Z"
   },
   {
    "duration": 31,
    "start_time": "2022-12-05T19:54:01.655Z"
   },
   {
    "duration": 42510,
    "start_time": "2022-12-05T19:54:01.688Z"
   },
   {
    "duration": 37,
    "start_time": "2022-12-05T19:54:44.200Z"
   },
   {
    "duration": 21,
    "start_time": "2022-12-05T19:54:44.241Z"
   },
   {
    "duration": 145,
    "start_time": "2022-12-05T19:54:44.265Z"
   },
   {
    "duration": 1471,
    "start_time": "2022-12-06T05:00:29.171Z"
   },
   {
    "duration": 1345,
    "start_time": "2022-12-06T05:04:49.810Z"
   },
   {
    "duration": 95,
    "start_time": "2022-12-06T05:04:51.157Z"
   },
   {
    "duration": 18,
    "start_time": "2022-12-06T05:04:51.254Z"
   },
   {
    "duration": 15,
    "start_time": "2022-12-06T05:04:51.275Z"
   },
   {
    "duration": 15,
    "start_time": "2022-12-06T05:04:51.291Z"
   },
   {
    "duration": 10,
    "start_time": "2022-12-06T05:04:51.308Z"
   },
   {
    "duration": 9,
    "start_time": "2022-12-06T05:04:51.320Z"
   },
   {
    "duration": 21,
    "start_time": "2022-12-06T05:04:51.331Z"
   },
   {
    "duration": 13,
    "start_time": "2022-12-06T05:04:51.354Z"
   },
   {
    "duration": 24,
    "start_time": "2022-12-06T05:04:51.370Z"
   },
   {
    "duration": 22,
    "start_time": "2022-12-06T05:04:51.396Z"
   },
   {
    "duration": 56,
    "start_time": "2022-12-06T05:04:51.420Z"
   },
   {
    "duration": 11,
    "start_time": "2022-12-06T05:04:51.478Z"
   },
   {
    "duration": 33,
    "start_time": "2022-12-06T05:04:51.491Z"
   },
   {
    "duration": 38794,
    "start_time": "2022-12-06T05:04:51.527Z"
   },
   {
    "duration": 14,
    "start_time": "2022-12-06T05:05:30.323Z"
   },
   {
    "duration": 22,
    "start_time": "2022-12-06T05:05:30.338Z"
   },
   {
    "duration": 503946,
    "start_time": "2022-12-06T05:05:30.362Z"
   },
   {
    "duration": 0,
    "start_time": "2022-12-06T05:13:54.309Z"
   },
   {
    "duration": 0,
    "start_time": "2022-12-06T05:13:54.316Z"
   },
   {
    "duration": 0,
    "start_time": "2022-12-06T05:13:54.318Z"
   },
   {
    "duration": 3,
    "start_time": "2022-12-06T05:13:57.671Z"
   },
   {
    "duration": 106886,
    "start_time": "2022-12-06T05:14:01.367Z"
   },
   {
    "duration": 5,
    "start_time": "2022-12-06T05:16:03.557Z"
   },
   {
    "duration": 1299,
    "start_time": "2022-12-06T05:16:37.456Z"
   },
   {
    "duration": 42,
    "start_time": "2022-12-06T05:16:38.757Z"
   },
   {
    "duration": 16,
    "start_time": "2022-12-06T05:16:38.800Z"
   },
   {
    "duration": 13,
    "start_time": "2022-12-06T05:16:38.818Z"
   },
   {
    "duration": 4,
    "start_time": "2022-12-06T05:16:38.832Z"
   },
   {
    "duration": 9,
    "start_time": "2022-12-06T05:16:38.837Z"
   },
   {
    "duration": 10,
    "start_time": "2022-12-06T05:16:38.847Z"
   },
   {
    "duration": 16,
    "start_time": "2022-12-06T05:16:38.859Z"
   },
   {
    "duration": 9,
    "start_time": "2022-12-06T05:16:38.877Z"
   },
   {
    "duration": 31,
    "start_time": "2022-12-06T05:16:38.888Z"
   },
   {
    "duration": 5,
    "start_time": "2022-12-06T05:16:38.921Z"
   },
   {
    "duration": 23,
    "start_time": "2022-12-06T05:16:38.927Z"
   },
   {
    "duration": 10,
    "start_time": "2022-12-06T05:16:38.951Z"
   },
   {
    "duration": 53,
    "start_time": "2022-12-06T05:16:38.962Z"
   },
   {
    "duration": 9450,
    "start_time": "2022-12-06T05:16:39.017Z"
   },
   {
    "duration": 14,
    "start_time": "2022-12-06T05:16:48.469Z"
   },
   {
    "duration": 16,
    "start_time": "2022-12-06T05:16:48.485Z"
   },
   {
    "duration": 10,
    "start_time": "2022-12-06T05:16:48.503Z"
   },
   {
    "duration": 1343,
    "start_time": "2022-12-06T05:17:09.488Z"
   },
   {
    "duration": 43,
    "start_time": "2022-12-06T05:17:10.833Z"
   },
   {
    "duration": 24,
    "start_time": "2022-12-06T05:17:10.877Z"
   },
   {
    "duration": 19,
    "start_time": "2022-12-06T05:17:10.903Z"
   },
   {
    "duration": 5,
    "start_time": "2022-12-06T05:17:10.923Z"
   },
   {
    "duration": 10,
    "start_time": "2022-12-06T05:17:10.930Z"
   },
   {
    "duration": 7,
    "start_time": "2022-12-06T05:17:10.942Z"
   },
   {
    "duration": 13,
    "start_time": "2022-12-06T05:17:10.951Z"
   },
   {
    "duration": 13,
    "start_time": "2022-12-06T05:17:10.966Z"
   },
   {
    "duration": 7,
    "start_time": "2022-12-06T05:17:10.982Z"
   },
   {
    "duration": 6,
    "start_time": "2022-12-06T05:17:11.015Z"
   },
   {
    "duration": 22,
    "start_time": "2022-12-06T05:17:11.022Z"
   },
   {
    "duration": 11,
    "start_time": "2022-12-06T05:17:11.046Z"
   },
   {
    "duration": 26,
    "start_time": "2022-12-06T05:17:11.058Z"
   },
   {
    "duration": 51966,
    "start_time": "2022-12-06T05:17:11.086Z"
   },
   {
    "duration": 13,
    "start_time": "2022-12-06T05:18:03.053Z"
   },
   {
    "duration": 6,
    "start_time": "2022-12-06T05:18:03.067Z"
   },
   {
    "duration": 8,
    "start_time": "2022-12-06T05:18:03.074Z"
   },
   {
    "duration": 104408,
    "start_time": "2022-12-06T05:18:03.083Z"
   },
   {
    "duration": 3,
    "start_time": "2022-12-06T05:19:47.493Z"
   },
   {
    "duration": 31,
    "start_time": "2022-12-06T05:19:47.497Z"
   },
   {
    "duration": 137,
    "start_time": "2022-12-06T05:19:47.530Z"
   },
   {
    "duration": 1525,
    "start_time": "2022-12-06T15:44:25.103Z"
   },
   {
    "duration": 348,
    "start_time": "2022-12-06T15:44:26.631Z"
   },
   {
    "duration": 16,
    "start_time": "2022-12-06T15:44:26.980Z"
   },
   {
    "duration": 15,
    "start_time": "2022-12-06T15:44:26.997Z"
   },
   {
    "duration": 5,
    "start_time": "2022-12-06T15:44:27.015Z"
   },
   {
    "duration": 4,
    "start_time": "2022-12-06T15:44:27.022Z"
   },
   {
    "duration": 8,
    "start_time": "2022-12-06T15:44:27.028Z"
   },
   {
    "duration": 14,
    "start_time": "2022-12-06T15:44:27.037Z"
   },
   {
    "duration": 10,
    "start_time": "2022-12-06T15:44:27.053Z"
   },
   {
    "duration": 5,
    "start_time": "2022-12-06T15:44:27.065Z"
   },
   {
    "duration": 7,
    "start_time": "2022-12-06T15:44:27.072Z"
   },
   {
    "duration": 20,
    "start_time": "2022-12-06T15:44:27.081Z"
   },
   {
    "duration": 29,
    "start_time": "2022-12-06T15:44:27.102Z"
   },
   {
    "duration": 114,
    "start_time": "2022-12-06T15:44:27.133Z"
   },
   {
    "duration": 0,
    "start_time": "2022-12-06T15:44:27.248Z"
   },
   {
    "duration": 0,
    "start_time": "2022-12-06T15:44:27.249Z"
   },
   {
    "duration": 0,
    "start_time": "2022-12-06T15:44:27.251Z"
   },
   {
    "duration": 0,
    "start_time": "2022-12-06T15:44:27.251Z"
   },
   {
    "duration": 0,
    "start_time": "2022-12-06T15:44:27.253Z"
   },
   {
    "duration": 0,
    "start_time": "2022-12-06T15:44:27.253Z"
   },
   {
    "duration": 0,
    "start_time": "2022-12-06T15:44:27.254Z"
   },
   {
    "duration": 0,
    "start_time": "2022-12-06T15:44:27.255Z"
   },
   {
    "duration": 1289,
    "start_time": "2022-12-06T15:45:29.384Z"
   },
   {
    "duration": 40,
    "start_time": "2022-12-06T15:45:30.674Z"
   },
   {
    "duration": 77,
    "start_time": "2022-12-06T15:45:30.715Z"
   },
   {
    "duration": 53,
    "start_time": "2022-12-06T15:45:30.794Z"
   },
   {
    "duration": 31,
    "start_time": "2022-12-06T15:45:30.849Z"
   },
   {
    "duration": 63,
    "start_time": "2022-12-06T15:45:30.882Z"
   },
   {
    "duration": 91,
    "start_time": "2022-12-06T15:45:30.947Z"
   },
   {
    "duration": 53,
    "start_time": "2022-12-06T15:45:31.039Z"
   },
   {
    "duration": 44,
    "start_time": "2022-12-06T15:45:31.094Z"
   },
   {
    "duration": 41,
    "start_time": "2022-12-06T15:45:31.141Z"
   },
   {
    "duration": 64,
    "start_time": "2022-12-06T15:45:31.184Z"
   },
   {
    "duration": 80,
    "start_time": "2022-12-06T15:45:31.250Z"
   },
   {
    "duration": 45,
    "start_time": "2022-12-06T15:45:31.332Z"
   },
   {
    "duration": 121,
    "start_time": "2022-12-06T15:45:31.378Z"
   },
   {
    "duration": 0,
    "start_time": "2022-12-06T15:45:31.501Z"
   },
   {
    "duration": 0,
    "start_time": "2022-12-06T15:45:31.503Z"
   },
   {
    "duration": 0,
    "start_time": "2022-12-06T15:45:31.504Z"
   },
   {
    "duration": 1,
    "start_time": "2022-12-06T15:45:31.505Z"
   },
   {
    "duration": 0,
    "start_time": "2022-12-06T15:45:31.507Z"
   },
   {
    "duration": 0,
    "start_time": "2022-12-06T15:45:31.508Z"
   },
   {
    "duration": 0,
    "start_time": "2022-12-06T15:45:31.509Z"
   },
   {
    "duration": 0,
    "start_time": "2022-12-06T15:45:31.511Z"
   },
   {
    "duration": 1344,
    "start_time": "2022-12-06T15:47:25.837Z"
   },
   {
    "duration": 39,
    "start_time": "2022-12-06T15:47:27.183Z"
   },
   {
    "duration": 17,
    "start_time": "2022-12-06T15:47:27.226Z"
   },
   {
    "duration": 19,
    "start_time": "2022-12-06T15:47:27.244Z"
   },
   {
    "duration": 9,
    "start_time": "2022-12-06T15:47:27.265Z"
   },
   {
    "duration": 15,
    "start_time": "2022-12-06T15:47:27.276Z"
   },
   {
    "duration": 29,
    "start_time": "2022-12-06T15:47:27.293Z"
   },
   {
    "duration": 42,
    "start_time": "2022-12-06T15:47:27.324Z"
   },
   {
    "duration": 10,
    "start_time": "2022-12-06T15:47:27.369Z"
   },
   {
    "duration": 12,
    "start_time": "2022-12-06T15:47:27.381Z"
   },
   {
    "duration": 8,
    "start_time": "2022-12-06T15:47:27.395Z"
   },
   {
    "duration": 24,
    "start_time": "2022-12-06T15:47:27.405Z"
   },
   {
    "duration": 10,
    "start_time": "2022-12-06T15:47:27.430Z"
   },
   {
    "duration": 25,
    "start_time": "2022-12-06T15:47:27.442Z"
   },
   {
    "duration": 49903,
    "start_time": "2022-12-06T15:47:27.469Z"
   },
   {
    "duration": 13,
    "start_time": "2022-12-06T15:48:17.374Z"
   },
   {
    "duration": 10,
    "start_time": "2022-12-06T15:48:17.389Z"
   },
   {
    "duration": 19,
    "start_time": "2022-12-06T15:48:17.401Z"
   },
   {
    "duration": 98385,
    "start_time": "2022-12-06T15:48:17.421Z"
   },
   {
    "duration": 3,
    "start_time": "2022-12-06T15:49:55.808Z"
   },
   {
    "duration": 47,
    "start_time": "2022-12-06T15:49:55.818Z"
   },
   {
    "duration": 161,
    "start_time": "2022-12-06T15:49:55.867Z"
   },
   {
    "duration": 1359,
    "start_time": "2022-12-06T15:54:53.721Z"
   },
   {
    "duration": 38,
    "start_time": "2022-12-06T15:54:55.082Z"
   },
   {
    "duration": 15,
    "start_time": "2022-12-06T15:54:55.122Z"
   },
   {
    "duration": 30,
    "start_time": "2022-12-06T15:54:55.139Z"
   },
   {
    "duration": 9,
    "start_time": "2022-12-06T15:54:55.171Z"
   },
   {
    "duration": 24,
    "start_time": "2022-12-06T15:54:55.181Z"
   },
   {
    "duration": 22,
    "start_time": "2022-12-06T15:54:55.207Z"
   },
   {
    "duration": 26,
    "start_time": "2022-12-06T15:54:55.230Z"
   },
   {
    "duration": 28,
    "start_time": "2022-12-06T15:54:55.258Z"
   },
   {
    "duration": 28,
    "start_time": "2022-12-06T15:54:55.289Z"
   },
   {
    "duration": 13,
    "start_time": "2022-12-06T15:54:55.319Z"
   },
   {
    "duration": 36,
    "start_time": "2022-12-06T15:54:55.334Z"
   },
   {
    "duration": 13,
    "start_time": "2022-12-06T15:54:55.372Z"
   },
   {
    "duration": 40,
    "start_time": "2022-12-06T15:54:55.387Z"
   },
   {
    "duration": 45603,
    "start_time": "2022-12-06T15:54:55.429Z"
   },
   {
    "duration": 14,
    "start_time": "2022-12-06T15:55:41.034Z"
   },
   {
    "duration": 23,
    "start_time": "2022-12-06T15:55:41.049Z"
   },
   {
    "duration": 46,
    "start_time": "2022-12-06T15:55:41.074Z"
   },
   {
    "duration": 92582,
    "start_time": "2022-12-06T15:55:41.121Z"
   },
   {
    "duration": 4,
    "start_time": "2022-12-06T15:57:13.704Z"
   },
   {
    "duration": 29,
    "start_time": "2022-12-06T15:57:13.709Z"
   },
   {
    "duration": 130,
    "start_time": "2022-12-06T15:57:13.739Z"
   },
   {
    "duration": 93506,
    "start_time": "2022-12-06T16:05:19.799Z"
   },
   {
    "duration": 1325,
    "start_time": "2022-12-06T16:08:11.735Z"
   },
   {
    "duration": 38,
    "start_time": "2022-12-06T16:08:13.062Z"
   },
   {
    "duration": 16,
    "start_time": "2022-12-06T16:08:13.102Z"
   },
   {
    "duration": 12,
    "start_time": "2022-12-06T16:08:13.120Z"
   },
   {
    "duration": 5,
    "start_time": "2022-12-06T16:08:13.134Z"
   },
   {
    "duration": 4,
    "start_time": "2022-12-06T16:08:13.141Z"
   },
   {
    "duration": 8,
    "start_time": "2022-12-06T16:08:13.146Z"
   },
   {
    "duration": 10,
    "start_time": "2022-12-06T16:08:13.156Z"
   },
   {
    "duration": 11,
    "start_time": "2022-12-06T16:08:13.167Z"
   },
   {
    "duration": 13,
    "start_time": "2022-12-06T16:08:13.180Z"
   },
   {
    "duration": 14,
    "start_time": "2022-12-06T16:08:13.194Z"
   },
   {
    "duration": 19,
    "start_time": "2022-12-06T16:08:13.226Z"
   },
   {
    "duration": 10,
    "start_time": "2022-12-06T16:08:13.247Z"
   },
   {
    "duration": 23,
    "start_time": "2022-12-06T16:08:13.258Z"
   },
   {
    "duration": 505058,
    "start_time": "2022-12-06T16:08:13.282Z"
   },
   {
    "duration": 13,
    "start_time": "2022-12-06T16:16:38.342Z"
   },
   {
    "duration": 18,
    "start_time": "2022-12-06T16:16:38.356Z"
   },
   {
    "duration": 30,
    "start_time": "2022-12-06T16:16:38.375Z"
   },
   {
    "duration": 90825,
    "start_time": "2022-12-06T16:16:38.407Z"
   },
   {
    "duration": 3,
    "start_time": "2022-12-06T16:18:09.234Z"
   },
   {
    "duration": 18,
    "start_time": "2022-12-06T16:18:09.239Z"
   },
   {
    "duration": 128,
    "start_time": "2022-12-06T16:18:09.258Z"
   },
   {
    "duration": 10605,
    "start_time": "2022-12-06T16:20:24.945Z"
   },
   {
    "duration": 1354,
    "start_time": "2022-12-06T16:22:35.205Z"
   },
   {
    "duration": 39,
    "start_time": "2022-12-06T16:22:36.561Z"
   },
   {
    "duration": 16,
    "start_time": "2022-12-06T16:22:36.601Z"
   },
   {
    "duration": 18,
    "start_time": "2022-12-06T16:22:36.619Z"
   },
   {
    "duration": 31,
    "start_time": "2022-12-06T16:22:36.638Z"
   },
   {
    "duration": 5,
    "start_time": "2022-12-06T16:22:36.671Z"
   },
   {
    "duration": 24,
    "start_time": "2022-12-06T16:22:36.677Z"
   },
   {
    "duration": 27,
    "start_time": "2022-12-06T16:22:36.702Z"
   },
   {
    "duration": 12,
    "start_time": "2022-12-06T16:22:36.731Z"
   },
   {
    "duration": 20,
    "start_time": "2022-12-06T16:22:36.746Z"
   },
   {
    "duration": 13,
    "start_time": "2022-12-06T16:22:36.767Z"
   },
   {
    "duration": 26,
    "start_time": "2022-12-06T16:22:36.782Z"
   },
   {
    "duration": 16,
    "start_time": "2022-12-06T16:22:36.809Z"
   },
   {
    "duration": 38,
    "start_time": "2022-12-06T16:22:36.826Z"
   },
   {
    "duration": 723,
    "start_time": "2022-12-06T16:22:36.866Z"
   },
   {
    "duration": 11,
    "start_time": "2022-12-06T16:22:37.591Z"
   },
   {
    "duration": 23,
    "start_time": "2022-12-06T16:22:37.603Z"
   },
   {
    "duration": 91104,
    "start_time": "2022-12-06T16:22:37.627Z"
   },
   {
    "duration": 3,
    "start_time": "2022-12-06T16:24:08.733Z"
   },
   {
    "duration": 5494,
    "start_time": "2022-12-06T16:24:08.737Z"
   },
   {
    "duration": 221,
    "start_time": "2022-12-06T16:24:14.233Z"
   },
   {
    "duration": 3,
    "start_time": "2022-12-06T16:26:55.431Z"
   },
   {
    "duration": 1311,
    "start_time": "2022-12-06T16:27:37.823Z"
   },
   {
    "duration": 38,
    "start_time": "2022-12-06T16:27:39.135Z"
   },
   {
    "duration": 16,
    "start_time": "2022-12-06T16:27:39.174Z"
   },
   {
    "duration": 11,
    "start_time": "2022-12-06T16:27:39.191Z"
   },
   {
    "duration": 4,
    "start_time": "2022-12-06T16:27:39.204Z"
   },
   {
    "duration": 4,
    "start_time": "2022-12-06T16:27:39.209Z"
   },
   {
    "duration": 17,
    "start_time": "2022-12-06T16:27:39.214Z"
   },
   {
    "duration": 13,
    "start_time": "2022-12-06T16:27:39.232Z"
   },
   {
    "duration": 9,
    "start_time": "2022-12-06T16:27:39.247Z"
   },
   {
    "duration": 6,
    "start_time": "2022-12-06T16:27:39.258Z"
   },
   {
    "duration": 6,
    "start_time": "2022-12-06T16:27:39.265Z"
   },
   {
    "duration": 20,
    "start_time": "2022-12-06T16:27:39.272Z"
   },
   {
    "duration": 41,
    "start_time": "2022-12-06T16:27:39.293Z"
   },
   {
    "duration": 23,
    "start_time": "2022-12-06T16:27:39.336Z"
   },
   {
    "duration": 749,
    "start_time": "2022-12-06T16:27:39.361Z"
   },
   {
    "duration": 16,
    "start_time": "2022-12-06T16:27:40.112Z"
   },
   {
    "duration": 4,
    "start_time": "2022-12-06T16:27:40.130Z"
   },
   {
    "duration": 91688,
    "start_time": "2022-12-06T16:27:40.136Z"
   },
   {
    "duration": 105,
    "start_time": "2022-12-06T16:29:11.826Z"
   },
   {
    "duration": 0,
    "start_time": "2022-12-06T16:29:11.933Z"
   },
   {
    "duration": 0,
    "start_time": "2022-12-06T16:29:11.934Z"
   },
   {
    "duration": 10,
    "start_time": "2022-12-06T16:30:40.797Z"
   },
   {
    "duration": 4,
    "start_time": "2022-12-06T16:30:51.748Z"
   },
   {
    "duration": 3,
    "start_time": "2022-12-06T16:31:59.523Z"
   },
   {
    "duration": 91761,
    "start_time": "2022-12-06T16:33:46.832Z"
   },
   {
    "duration": 5838,
    "start_time": "2022-12-06T16:35:18.594Z"
   },
   {
    "duration": 1295,
    "start_time": "2022-12-06T16:39:42.125Z"
   },
   {
    "duration": 38,
    "start_time": "2022-12-06T16:39:43.422Z"
   },
   {
    "duration": 16,
    "start_time": "2022-12-06T16:39:43.461Z"
   },
   {
    "duration": 12,
    "start_time": "2022-12-06T16:39:43.479Z"
   },
   {
    "duration": 5,
    "start_time": "2022-12-06T16:39:43.492Z"
   },
   {
    "duration": 7,
    "start_time": "2022-12-06T16:39:43.498Z"
   },
   {
    "duration": 8,
    "start_time": "2022-12-06T16:39:43.506Z"
   },
   {
    "duration": 14,
    "start_time": "2022-12-06T16:39:43.516Z"
   },
   {
    "duration": 10,
    "start_time": "2022-12-06T16:39:43.531Z"
   },
   {
    "duration": 10,
    "start_time": "2022-12-06T16:39:43.543Z"
   },
   {
    "duration": 9,
    "start_time": "2022-12-06T16:39:43.554Z"
   },
   {
    "duration": 28,
    "start_time": "2022-12-06T16:39:43.565Z"
   },
   {
    "duration": 9,
    "start_time": "2022-12-06T16:39:43.595Z"
   },
   {
    "duration": 29,
    "start_time": "2022-12-06T16:39:43.606Z"
   },
   {
    "duration": 727,
    "start_time": "2022-12-06T16:39:43.637Z"
   },
   {
    "duration": 12,
    "start_time": "2022-12-06T16:39:44.365Z"
   },
   {
    "duration": 69,
    "start_time": "2022-12-06T16:39:44.379Z"
   },
   {
    "duration": 0,
    "start_time": "2022-12-06T16:39:44.450Z"
   },
   {
    "duration": 0,
    "start_time": "2022-12-06T16:39:44.451Z"
   },
   {
    "duration": 0,
    "start_time": "2022-12-06T16:39:44.452Z"
   },
   {
    "duration": 0,
    "start_time": "2022-12-06T16:39:44.453Z"
   },
   {
    "duration": 2,
    "start_time": "2022-12-06T16:40:54.072Z"
   },
   {
    "duration": 179,
    "start_time": "2022-12-06T16:40:55.342Z"
   },
   {
    "duration": 3,
    "start_time": "2022-12-06T16:41:41.709Z"
   },
   {
    "duration": 21515,
    "start_time": "2022-12-06T16:41:42.637Z"
   },
   {
    "duration": 1236,
    "start_time": "2022-12-06T16:42:23.488Z"
   },
   {
    "duration": 38,
    "start_time": "2022-12-06T16:42:24.725Z"
   },
   {
    "duration": 15,
    "start_time": "2022-12-06T16:42:24.764Z"
   },
   {
    "duration": 21,
    "start_time": "2022-12-06T16:42:24.780Z"
   },
   {
    "duration": 4,
    "start_time": "2022-12-06T16:42:24.802Z"
   },
   {
    "duration": 7,
    "start_time": "2022-12-06T16:42:24.808Z"
   },
   {
    "duration": 7,
    "start_time": "2022-12-06T16:42:24.817Z"
   },
   {
    "duration": 15,
    "start_time": "2022-12-06T16:42:24.825Z"
   },
   {
    "duration": 12,
    "start_time": "2022-12-06T16:42:24.841Z"
   },
   {
    "duration": 7,
    "start_time": "2022-12-06T16:42:24.855Z"
   },
   {
    "duration": 10,
    "start_time": "2022-12-06T16:42:24.863Z"
   },
   {
    "duration": 29,
    "start_time": "2022-12-06T16:42:24.875Z"
   },
   {
    "duration": 10,
    "start_time": "2022-12-06T16:42:24.906Z"
   },
   {
    "duration": 28,
    "start_time": "2022-12-06T16:42:24.918Z"
   },
   {
    "duration": 728,
    "start_time": "2022-12-06T16:42:24.947Z"
   },
   {
    "duration": 12,
    "start_time": "2022-12-06T16:42:25.677Z"
   },
   {
    "duration": 16,
    "start_time": "2022-12-06T16:42:25.690Z"
   },
   {
    "duration": 21801,
    "start_time": "2022-12-06T16:42:25.708Z"
   },
   {
    "duration": 3,
    "start_time": "2022-12-06T16:42:47.510Z"
   },
   {
    "duration": 5120,
    "start_time": "2022-12-06T16:42:47.515Z"
   },
   {
    "duration": 127,
    "start_time": "2022-12-06T16:42:52.727Z"
   },
   {
    "duration": 5262,
    "start_time": "2022-12-06T16:43:25.572Z"
   },
   {
    "duration": 5196,
    "start_time": "2022-12-06T16:43:56.939Z"
   },
   {
    "duration": 100,
    "start_time": "2022-12-06T16:49:34.139Z"
   },
   {
    "duration": 3,
    "start_time": "2022-12-06T16:50:10.507Z"
   },
   {
    "duration": 104015,
    "start_time": "2022-12-06T16:50:17.218Z"
   },
   {
    "duration": 23,
    "start_time": "2022-12-06T16:55:32.724Z"
   },
   {
    "duration": 54540,
    "start_time": "2022-12-06T16:56:11.189Z"
   },
   {
    "duration": 20,
    "start_time": "2022-12-06T17:05:58.504Z"
   },
   {
    "duration": 37458,
    "start_time": "2022-12-06T17:06:00.596Z"
   },
   {
    "duration": 0,
    "start_time": "2022-12-06T17:06:38.056Z"
   },
   {
    "duration": 22,
    "start_time": "2022-12-06T17:06:40.283Z"
   },
   {
    "duration": 28,
    "start_time": "2022-12-06T17:06:48.180Z"
   },
   {
    "duration": 51996,
    "start_time": "2022-12-06T17:06:51.037Z"
   },
   {
    "duration": 53833,
    "start_time": "2022-12-06T17:08:00.394Z"
   },
   {
    "duration": 1327,
    "start_time": "2022-12-06T17:10:44.934Z"
   },
   {
    "duration": 39,
    "start_time": "2022-12-06T17:10:46.263Z"
   },
   {
    "duration": 15,
    "start_time": "2022-12-06T17:10:46.303Z"
   },
   {
    "duration": 47,
    "start_time": "2022-12-06T17:10:46.320Z"
   },
   {
    "duration": 33,
    "start_time": "2022-12-06T17:10:46.369Z"
   },
   {
    "duration": 46,
    "start_time": "2022-12-06T17:10:46.403Z"
   },
   {
    "duration": 10,
    "start_time": "2022-12-06T17:10:46.451Z"
   },
   {
    "duration": 12,
    "start_time": "2022-12-06T17:10:46.463Z"
   },
   {
    "duration": 14,
    "start_time": "2022-12-06T17:10:46.477Z"
   },
   {
    "duration": 8,
    "start_time": "2022-12-06T17:10:46.492Z"
   },
   {
    "duration": 5,
    "start_time": "2022-12-06T17:10:46.501Z"
   },
   {
    "duration": 20,
    "start_time": "2022-12-06T17:10:46.508Z"
   },
   {
    "duration": 9,
    "start_time": "2022-12-06T17:10:46.529Z"
   },
   {
    "duration": 21,
    "start_time": "2022-12-06T17:10:46.541Z"
   },
   {
    "duration": 704,
    "start_time": "2022-12-06T17:10:46.564Z"
   },
   {
    "duration": 11,
    "start_time": "2022-12-06T17:10:47.269Z"
   },
   {
    "duration": 5,
    "start_time": "2022-12-06T17:10:47.281Z"
   },
   {
    "duration": 21671,
    "start_time": "2022-12-06T17:10:47.287Z"
   },
   {
    "duration": 3,
    "start_time": "2022-12-06T17:11:08.959Z"
   },
   {
    "duration": 65,
    "start_time": "2022-12-06T17:11:08.964Z"
   },
   {
    "duration": 54202,
    "start_time": "2022-12-06T17:11:09.031Z"
   },
   {
    "duration": 214,
    "start_time": "2022-12-06T17:12:03.235Z"
   },
   {
    "duration": 1285,
    "start_time": "2022-12-06T17:13:41.054Z"
   },
   {
    "duration": 38,
    "start_time": "2022-12-06T17:13:42.341Z"
   },
   {
    "duration": 15,
    "start_time": "2022-12-06T17:13:42.380Z"
   },
   {
    "duration": 11,
    "start_time": "2022-12-06T17:13:42.397Z"
   },
   {
    "duration": 4,
    "start_time": "2022-12-06T17:13:42.411Z"
   },
   {
    "duration": 21,
    "start_time": "2022-12-06T17:13:42.416Z"
   },
   {
    "duration": 27,
    "start_time": "2022-12-06T17:13:42.439Z"
   },
   {
    "duration": 44,
    "start_time": "2022-12-06T17:13:42.468Z"
   },
   {
    "duration": 41,
    "start_time": "2022-12-06T17:13:42.514Z"
   },
   {
    "duration": 17,
    "start_time": "2022-12-06T17:13:42.557Z"
   },
   {
    "duration": 36,
    "start_time": "2022-12-06T17:13:42.575Z"
   },
   {
    "duration": 36,
    "start_time": "2022-12-06T17:13:42.612Z"
   },
   {
    "duration": 21,
    "start_time": "2022-12-06T17:13:42.650Z"
   },
   {
    "duration": 32,
    "start_time": "2022-12-06T17:13:42.674Z"
   },
   {
    "duration": 689884,
    "start_time": "2022-12-06T17:13:42.708Z"
   },
   {
    "duration": 14,
    "start_time": "2022-12-06T17:25:12.594Z"
   },
   {
    "duration": 3,
    "start_time": "2022-12-06T17:25:12.609Z"
   },
   {
    "duration": 2354446,
    "start_time": "2022-12-06T17:25:12.626Z"
   },
   {
    "duration": 3,
    "start_time": "2022-12-06T18:04:27.073Z"
   },
   {
    "duration": 62,
    "start_time": "2022-12-06T18:04:27.078Z"
   },
   {
    "duration": 128678,
    "start_time": "2022-12-06T18:04:27.151Z"
   },
   {
    "duration": 217,
    "start_time": "2022-12-06T18:06:35.831Z"
   },
   {
    "duration": 1381,
    "start_time": "2022-12-06T18:11:18.373Z"
   },
   {
    "duration": 41,
    "start_time": "2022-12-06T18:11:19.758Z"
   },
   {
    "duration": 18,
    "start_time": "2022-12-06T18:11:19.801Z"
   },
   {
    "duration": 74,
    "start_time": "2022-12-06T18:11:19.822Z"
   },
   {
    "duration": 60,
    "start_time": "2022-12-06T18:11:19.897Z"
   },
   {
    "duration": 17,
    "start_time": "2022-12-06T18:11:19.958Z"
   },
   {
    "duration": 31,
    "start_time": "2022-12-06T18:11:19.976Z"
   },
   {
    "duration": 60,
    "start_time": "2022-12-06T18:11:20.009Z"
   },
   {
    "duration": 33,
    "start_time": "2022-12-06T18:11:20.071Z"
   },
   {
    "duration": 28,
    "start_time": "2022-12-06T18:11:20.107Z"
   },
   {
    "duration": 50,
    "start_time": "2022-12-06T18:11:20.137Z"
   },
   {
    "duration": 59,
    "start_time": "2022-12-06T18:11:20.189Z"
   },
   {
    "duration": 42,
    "start_time": "2022-12-06T18:11:20.250Z"
   },
   {
    "duration": 59,
    "start_time": "2022-12-06T18:11:20.294Z"
   },
   {
    "duration": 223419,
    "start_time": "2022-12-06T18:11:20.358Z"
   },
   {
    "duration": 13,
    "start_time": "2022-12-06T18:15:03.778Z"
   },
   {
    "duration": 3,
    "start_time": "2022-12-06T18:15:03.793Z"
   },
   {
    "duration": 28223,
    "start_time": "2022-12-06T18:15:03.798Z"
   },
   {
    "duration": 3,
    "start_time": "2022-12-06T18:15:32.026Z"
   },
   {
    "duration": 64,
    "start_time": "2022-12-06T18:15:32.031Z"
   },
   {
    "duration": 149743,
    "start_time": "2022-12-06T18:15:32.096Z"
   },
   {
    "duration": 217,
    "start_time": "2022-12-06T18:18:01.843Z"
   },
   {
    "duration": 383,
    "start_time": "2022-12-06T18:21:51.037Z"
   },
   {
    "duration": 4,
    "start_time": "2022-12-06T18:26:26.643Z"
   },
   {
    "duration": 3,
    "start_time": "2022-12-06T18:27:50.542Z"
   },
   {
    "duration": 25680,
    "start_time": "2022-12-06T18:27:51.765Z"
   },
   {
    "duration": 3,
    "start_time": "2022-12-06T18:28:36.468Z"
   },
   {
    "duration": 25645,
    "start_time": "2022-12-06T18:28:39.213Z"
   },
   {
    "duration": 3,
    "start_time": "2022-12-06T18:29:08.539Z"
   },
   {
    "duration": 3,
    "start_time": "2022-12-06T18:30:44.498Z"
   },
   {
    "duration": 25748,
    "start_time": "2022-12-06T18:30:45.217Z"
   },
   {
    "duration": 3,
    "start_time": "2022-12-06T18:31:45.160Z"
   },
   {
    "duration": 1276,
    "start_time": "2022-12-06T18:32:13.465Z"
   },
   {
    "duration": 37,
    "start_time": "2022-12-06T18:32:14.744Z"
   },
   {
    "duration": 15,
    "start_time": "2022-12-06T18:32:14.783Z"
   },
   {
    "duration": 11,
    "start_time": "2022-12-06T18:32:14.800Z"
   },
   {
    "duration": 5,
    "start_time": "2022-12-06T18:32:14.813Z"
   },
   {
    "duration": 7,
    "start_time": "2022-12-06T18:32:14.820Z"
   },
   {
    "duration": 8,
    "start_time": "2022-12-06T18:32:14.828Z"
   },
   {
    "duration": 11,
    "start_time": "2022-12-06T18:32:14.837Z"
   },
   {
    "duration": 9,
    "start_time": "2022-12-06T18:32:14.850Z"
   },
   {
    "duration": 6,
    "start_time": "2022-12-06T18:32:14.861Z"
   },
   {
    "duration": 7,
    "start_time": "2022-12-06T18:32:14.869Z"
   },
   {
    "duration": 20,
    "start_time": "2022-12-06T18:32:14.878Z"
   },
   {
    "duration": 33,
    "start_time": "2022-12-06T18:32:14.900Z"
   },
   {
    "duration": 24,
    "start_time": "2022-12-06T18:32:14.935Z"
   },
   {
    "duration": 61451,
    "start_time": "2022-12-06T18:32:14.961Z"
   },
   {
    "duration": 26,
    "start_time": "2022-12-06T18:33:16.414Z"
   },
   {
    "duration": 347,
    "start_time": "2022-12-06T18:33:16.442Z"
   },
   {
    "duration": 4,
    "start_time": "2022-12-06T18:33:16.791Z"
   },
   {
    "duration": 25791,
    "start_time": "2022-12-06T18:33:16.796Z"
   },
   {
    "duration": 3,
    "start_time": "2022-12-06T18:33:42.589Z"
   },
   {
    "duration": 46,
    "start_time": "2022-12-06T18:33:42.593Z"
   },
   {
    "duration": 98398,
    "start_time": "2022-12-06T18:33:42.640Z"
   },
   {
    "duration": 204,
    "start_time": "2022-12-06T18:35:21.042Z"
   },
   {
    "duration": 1439,
    "start_time": "2022-12-06T18:41:51.612Z"
   },
   {
    "duration": 81,
    "start_time": "2022-12-06T18:42:02.961Z"
   },
   {
    "duration": 1179,
    "start_time": "2022-12-06T18:42:39.960Z"
   },
   {
    "duration": 107,
    "start_time": "2022-12-06T18:42:57.855Z"
   },
   {
    "duration": 116,
    "start_time": "2022-12-06T18:43:25.415Z"
   },
   {
    "duration": 1152,
    "start_time": "2022-12-06T18:44:02.686Z"
   },
   {
    "duration": 76,
    "start_time": "2022-12-06T18:44:18.737Z"
   },
   {
    "duration": 35742,
    "start_time": "2022-12-06T18:44:41.110Z"
   },
   {
    "duration": 19065,
    "start_time": "2022-12-06T18:45:20.869Z"
   },
   {
    "duration": 992,
    "start_time": "2022-12-06T18:50:51.737Z"
   },
   {
    "duration": 19,
    "start_time": "2022-12-06T18:52:00.826Z"
   },
   {
    "duration": 13,
    "start_time": "2022-12-06T18:52:16.628Z"
   },
   {
    "duration": 14,
    "start_time": "2022-12-06T18:53:32.361Z"
   },
   {
    "duration": 4,
    "start_time": "2022-12-06T18:54:40.911Z"
   },
   {
    "duration": 10,
    "start_time": "2022-12-06T18:56:12.614Z"
   },
   {
    "duration": 79,
    "start_time": "2022-12-06T18:58:01.324Z"
   },
   {
    "duration": 77,
    "start_time": "2022-12-06T18:58:26.540Z"
   },
   {
    "duration": 91,
    "start_time": "2022-12-06T19:00:38.039Z"
   },
   {
    "duration": 104,
    "start_time": "2022-12-06T19:00:52.969Z"
   },
   {
    "duration": 80,
    "start_time": "2022-12-06T19:00:58.837Z"
   },
   {
    "duration": 9,
    "start_time": "2022-12-06T19:01:20.445Z"
   },
   {
    "duration": 8,
    "start_time": "2022-12-06T19:01:34.060Z"
   },
   {
    "duration": 3933,
    "start_time": "2022-12-06T19:02:42.108Z"
   },
   {
    "duration": 14,
    "start_time": "2022-12-06T19:02:52.283Z"
   },
   {
    "duration": 11,
    "start_time": "2022-12-06T19:03:08.499Z"
   },
   {
    "duration": 3934,
    "start_time": "2022-12-06T19:06:56.595Z"
   },
   {
    "duration": 96,
    "start_time": "2022-12-06T19:07:00.535Z"
   },
   {
    "duration": 9,
    "start_time": "2022-12-06T19:08:03.700Z"
   },
   {
    "duration": 12,
    "start_time": "2022-12-06T19:08:17.629Z"
   },
   {
    "duration": 3780,
    "start_time": "2022-12-06T19:11:00.952Z"
   },
   {
    "duration": 94,
    "start_time": "2022-12-06T19:11:04.734Z"
   },
   {
    "duration": 111,
    "start_time": "2022-12-06T19:12:49.832Z"
   },
   {
    "duration": 1301,
    "start_time": "2022-12-06T19:34:36.073Z"
   },
   {
    "duration": 41,
    "start_time": "2022-12-06T19:34:37.376Z"
   },
   {
    "duration": 19,
    "start_time": "2022-12-06T19:34:37.419Z"
   },
   {
    "duration": 28,
    "start_time": "2022-12-06T19:34:37.440Z"
   },
   {
    "duration": 7,
    "start_time": "2022-12-06T19:34:37.470Z"
   },
   {
    "duration": 15,
    "start_time": "2022-12-06T19:34:37.479Z"
   },
   {
    "duration": 14,
    "start_time": "2022-12-06T19:34:37.496Z"
   },
   {
    "duration": 22,
    "start_time": "2022-12-06T19:34:37.512Z"
   },
   {
    "duration": 30,
    "start_time": "2022-12-06T19:34:37.536Z"
   },
   {
    "duration": 45,
    "start_time": "2022-12-06T19:34:37.569Z"
   },
   {
    "duration": 26,
    "start_time": "2022-12-06T19:34:37.617Z"
   },
   {
    "duration": 37,
    "start_time": "2022-12-06T19:34:37.645Z"
   },
   {
    "duration": 15,
    "start_time": "2022-12-06T19:34:37.684Z"
   },
   {
    "duration": 28,
    "start_time": "2022-12-06T19:34:37.700Z"
   },
   {
    "duration": 117,
    "start_time": "2022-12-06T19:34:37.729Z"
   },
   {
    "duration": 59783,
    "start_time": "2022-12-06T19:34:37.848Z"
   },
   {
    "duration": 12,
    "start_time": "2022-12-06T19:35:37.632Z"
   },
   {
    "duration": 3984,
    "start_time": "2022-12-06T19:35:37.646Z"
   },
   {
    "duration": 104,
    "start_time": "2022-12-06T19:35:41.631Z"
   },
   {
    "duration": 1599,
    "start_time": "2022-12-07T16:13:51.762Z"
   },
   {
    "duration": 89,
    "start_time": "2022-12-07T16:13:53.363Z"
   },
   {
    "duration": 18,
    "start_time": "2022-12-07T16:13:53.455Z"
   },
   {
    "duration": 12,
    "start_time": "2022-12-07T16:13:53.475Z"
   },
   {
    "duration": 4,
    "start_time": "2022-12-07T16:13:53.489Z"
   },
   {
    "duration": 6,
    "start_time": "2022-12-07T16:13:53.495Z"
   },
   {
    "duration": 14,
    "start_time": "2022-12-07T16:13:53.502Z"
   },
   {
    "duration": 14,
    "start_time": "2022-12-07T16:13:53.517Z"
   },
   {
    "duration": 11,
    "start_time": "2022-12-07T16:13:53.534Z"
   },
   {
    "duration": 18,
    "start_time": "2022-12-07T16:13:53.547Z"
   },
   {
    "duration": 6,
    "start_time": "2022-12-07T16:13:53.567Z"
   },
   {
    "duration": 47,
    "start_time": "2022-12-07T16:13:53.575Z"
   },
   {
    "duration": 13,
    "start_time": "2022-12-07T16:13:53.624Z"
   },
   {
    "duration": 25,
    "start_time": "2022-12-07T16:13:53.639Z"
   },
   {
    "duration": 165,
    "start_time": "2022-12-07T16:13:53.666Z"
   },
   {
    "duration": 12766,
    "start_time": "2022-12-07T16:13:53.833Z"
   },
   {
    "duration": 14,
    "start_time": "2022-12-07T16:14:06.601Z"
   },
   {
    "duration": 1316,
    "start_time": "2022-12-07T16:14:11.711Z"
   },
   {
    "duration": 41,
    "start_time": "2022-12-07T16:14:13.029Z"
   },
   {
    "duration": 16,
    "start_time": "2022-12-07T16:14:13.071Z"
   },
   {
    "duration": 11,
    "start_time": "2022-12-07T16:14:13.089Z"
   },
   {
    "duration": 6,
    "start_time": "2022-12-07T16:14:13.102Z"
   },
   {
    "duration": 8,
    "start_time": "2022-12-07T16:14:13.115Z"
   },
   {
    "duration": 8,
    "start_time": "2022-12-07T16:14:13.124Z"
   },
   {
    "duration": 11,
    "start_time": "2022-12-07T16:14:13.134Z"
   },
   {
    "duration": 13,
    "start_time": "2022-12-07T16:14:13.146Z"
   },
   {
    "duration": 8,
    "start_time": "2022-12-07T16:14:13.161Z"
   },
   {
    "duration": 5,
    "start_time": "2022-12-07T16:14:13.170Z"
   },
   {
    "duration": 44,
    "start_time": "2022-12-07T16:14:13.176Z"
   },
   {
    "duration": 11,
    "start_time": "2022-12-07T16:14:13.221Z"
   },
   {
    "duration": 24,
    "start_time": "2022-12-07T16:14:13.234Z"
   },
   {
    "duration": 140,
    "start_time": "2022-12-07T16:14:13.260Z"
   },
   {
    "duration": 382080,
    "start_time": "2022-12-07T16:14:13.415Z"
   },
   {
    "duration": 64956,
    "start_time": "2022-12-07T16:20:35.496Z"
   },
   {
    "duration": 15,
    "start_time": "2022-12-07T16:21:40.454Z"
   },
   {
    "duration": 4847,
    "start_time": "2022-12-07T16:21:40.471Z"
   },
   {
    "duration": 104,
    "start_time": "2022-12-07T16:21:45.321Z"
   },
   {
    "duration": 1375,
    "start_time": "2022-12-07T16:26:15.388Z"
   },
   {
    "duration": 41,
    "start_time": "2022-12-07T16:26:16.765Z"
   },
   {
    "duration": 16,
    "start_time": "2022-12-07T16:26:16.807Z"
   },
   {
    "duration": 12,
    "start_time": "2022-12-07T16:26:16.825Z"
   },
   {
    "duration": 5,
    "start_time": "2022-12-07T16:26:16.839Z"
   },
   {
    "duration": 4,
    "start_time": "2022-12-07T16:26:16.846Z"
   },
   {
    "duration": 7,
    "start_time": "2022-12-07T16:26:16.851Z"
   },
   {
    "duration": 16,
    "start_time": "2022-12-07T16:26:16.860Z"
   },
   {
    "duration": 16,
    "start_time": "2022-12-07T16:26:16.878Z"
   },
   {
    "duration": 6,
    "start_time": "2022-12-07T16:26:16.917Z"
   },
   {
    "duration": 25,
    "start_time": "2022-12-07T16:26:16.924Z"
   },
   {
    "duration": 56,
    "start_time": "2022-12-07T16:26:16.951Z"
   },
   {
    "duration": 18,
    "start_time": "2022-12-07T16:26:17.008Z"
   },
   {
    "duration": 42,
    "start_time": "2022-12-07T16:26:17.028Z"
   },
   {
    "duration": 123,
    "start_time": "2022-12-07T16:26:17.072Z"
   },
   {
    "duration": 69640,
    "start_time": "2022-12-07T16:26:17.196Z"
   },
   {
    "duration": 1371,
    "start_time": "2022-12-07T16:27:42.219Z"
   },
   {
    "duration": 40,
    "start_time": "2022-12-07T16:27:43.592Z"
   },
   {
    "duration": 17,
    "start_time": "2022-12-07T16:27:43.634Z"
   },
   {
    "duration": 14,
    "start_time": "2022-12-07T16:27:43.653Z"
   },
   {
    "duration": 5,
    "start_time": "2022-12-07T16:27:43.669Z"
   },
   {
    "duration": 8,
    "start_time": "2022-12-07T16:27:43.676Z"
   },
   {
    "duration": 30,
    "start_time": "2022-12-07T16:27:43.686Z"
   },
   {
    "duration": 16,
    "start_time": "2022-12-07T16:27:43.718Z"
   },
   {
    "duration": 9,
    "start_time": "2022-12-07T16:27:43.736Z"
   },
   {
    "duration": 12,
    "start_time": "2022-12-07T16:27:43.748Z"
   },
   {
    "duration": 8,
    "start_time": "2022-12-07T16:27:43.762Z"
   },
   {
    "duration": 52,
    "start_time": "2022-12-07T16:27:43.772Z"
   },
   {
    "duration": 11,
    "start_time": "2022-12-07T16:27:43.825Z"
   },
   {
    "duration": 23,
    "start_time": "2022-12-07T16:27:43.838Z"
   },
   {
    "duration": 167,
    "start_time": "2022-12-07T16:27:43.863Z"
   },
   {
    "duration": 106957,
    "start_time": "2022-12-07T16:27:44.032Z"
   },
   {
    "duration": 64534,
    "start_time": "2022-12-07T16:29:30.990Z"
   },
   {
    "duration": 14,
    "start_time": "2022-12-07T16:30:35.526Z"
   },
   {
    "duration": 4874,
    "start_time": "2022-12-07T16:30:35.541Z"
   },
   {
    "duration": 107,
    "start_time": "2022-12-07T16:30:40.418Z"
   },
   {
    "duration": 1258,
    "start_time": "2022-12-07T16:30:59.978Z"
   },
   {
    "duration": 40,
    "start_time": "2022-12-07T16:31:01.238Z"
   },
   {
    "duration": 16,
    "start_time": "2022-12-07T16:31:01.280Z"
   },
   {
    "duration": 15,
    "start_time": "2022-12-07T16:31:01.298Z"
   },
   {
    "duration": 14,
    "start_time": "2022-12-07T16:31:01.315Z"
   },
   {
    "duration": 30,
    "start_time": "2022-12-07T16:31:01.330Z"
   },
   {
    "duration": 28,
    "start_time": "2022-12-07T16:31:01.361Z"
   },
   {
    "duration": 37,
    "start_time": "2022-12-07T16:31:01.391Z"
   },
   {
    "duration": 36,
    "start_time": "2022-12-07T16:31:01.430Z"
   },
   {
    "duration": 17,
    "start_time": "2022-12-07T16:31:01.469Z"
   },
   {
    "duration": 18,
    "start_time": "2022-12-07T16:31:01.487Z"
   },
   {
    "duration": 32,
    "start_time": "2022-12-07T16:31:01.506Z"
   },
   {
    "duration": 22,
    "start_time": "2022-12-07T16:31:01.540Z"
   },
   {
    "duration": 34,
    "start_time": "2022-12-07T16:31:01.563Z"
   },
   {
    "duration": 119,
    "start_time": "2022-12-07T16:31:01.599Z"
   },
   {
    "duration": 1404,
    "start_time": "2022-12-07T16:31:35.444Z"
   },
   {
    "duration": 45,
    "start_time": "2022-12-07T16:31:36.851Z"
   },
   {
    "duration": 21,
    "start_time": "2022-12-07T16:31:36.898Z"
   },
   {
    "duration": 14,
    "start_time": "2022-12-07T16:31:36.922Z"
   },
   {
    "duration": 6,
    "start_time": "2022-12-07T16:31:36.938Z"
   },
   {
    "duration": 10,
    "start_time": "2022-12-07T16:31:36.946Z"
   },
   {
    "duration": 16,
    "start_time": "2022-12-07T16:31:36.959Z"
   },
   {
    "duration": 13,
    "start_time": "2022-12-07T16:31:36.977Z"
   },
   {
    "duration": 10,
    "start_time": "2022-12-07T16:31:37.015Z"
   },
   {
    "duration": 9,
    "start_time": "2022-12-07T16:31:37.028Z"
   },
   {
    "duration": 8,
    "start_time": "2022-12-07T16:31:37.039Z"
   },
   {
    "duration": 24,
    "start_time": "2022-12-07T16:31:37.049Z"
   },
   {
    "duration": 50,
    "start_time": "2022-12-07T16:31:37.074Z"
   },
   {
    "duration": 28,
    "start_time": "2022-12-07T16:31:37.126Z"
   },
   {
    "duration": 143,
    "start_time": "2022-12-07T16:31:37.156Z"
   },
   {
    "duration": 114492,
    "start_time": "2022-12-07T16:31:37.301Z"
   },
   {
    "duration": 64760,
    "start_time": "2022-12-07T16:33:31.795Z"
   },
   {
    "duration": 17,
    "start_time": "2022-12-07T16:34:36.559Z"
   },
   {
    "duration": 4744,
    "start_time": "2022-12-07T16:34:36.578Z"
   },
   {
    "duration": 196,
    "start_time": "2022-12-07T16:34:41.324Z"
   },
   {
    "duration": 1354,
    "start_time": "2022-12-07T16:37:38.405Z"
   },
   {
    "duration": 41,
    "start_time": "2022-12-07T16:37:39.761Z"
   },
   {
    "duration": 16,
    "start_time": "2022-12-07T16:37:39.805Z"
   },
   {
    "duration": 11,
    "start_time": "2022-12-07T16:37:39.823Z"
   },
   {
    "duration": 6,
    "start_time": "2022-12-07T16:37:39.835Z"
   },
   {
    "duration": 10,
    "start_time": "2022-12-07T16:37:39.842Z"
   },
   {
    "duration": 14,
    "start_time": "2022-12-07T16:37:39.853Z"
   },
   {
    "duration": 12,
    "start_time": "2022-12-07T16:37:39.869Z"
   },
   {
    "duration": 36,
    "start_time": "2022-12-07T16:37:39.883Z"
   },
   {
    "duration": 6,
    "start_time": "2022-12-07T16:37:39.920Z"
   },
   {
    "duration": 6,
    "start_time": "2022-12-07T16:37:39.928Z"
   },
   {
    "duration": 22,
    "start_time": "2022-12-07T16:37:39.936Z"
   },
   {
    "duration": 10,
    "start_time": "2022-12-07T16:37:39.960Z"
   },
   {
    "duration": 62,
    "start_time": "2022-12-07T16:37:39.971Z"
   },
   {
    "duration": 148,
    "start_time": "2022-12-07T16:37:40.035Z"
   },
   {
    "duration": 216590,
    "start_time": "2022-12-07T16:37:40.185Z"
   },
   {
    "duration": 272,
    "start_time": "2022-12-07T16:41:16.777Z"
   },
   {
    "duration": 64473,
    "start_time": "2022-12-07T16:41:17.051Z"
   },
   {
    "duration": 13,
    "start_time": "2022-12-07T16:42:21.526Z"
   },
   {
    "duration": 4579,
    "start_time": "2022-12-07T16:42:21.541Z"
   },
   {
    "duration": 103,
    "start_time": "2022-12-07T16:42:26.123Z"
   },
   {
    "duration": 222,
    "start_time": "2022-12-07T16:49:03.894Z"
   },
   {
    "duration": 1354,
    "start_time": "2022-12-07T17:00:11.884Z"
   },
   {
    "duration": 43,
    "start_time": "2022-12-07T17:00:13.240Z"
   },
   {
    "duration": 16,
    "start_time": "2022-12-07T17:00:13.284Z"
   },
   {
    "duration": 12,
    "start_time": "2022-12-07T17:00:13.302Z"
   },
   {
    "duration": 9,
    "start_time": "2022-12-07T17:00:13.315Z"
   },
   {
    "duration": 5,
    "start_time": "2022-12-07T17:00:13.325Z"
   },
   {
    "duration": 7,
    "start_time": "2022-12-07T17:00:13.332Z"
   },
   {
    "duration": 16,
    "start_time": "2022-12-07T17:00:13.340Z"
   },
   {
    "duration": 9,
    "start_time": "2022-12-07T17:00:13.358Z"
   },
   {
    "duration": 7,
    "start_time": "2022-12-07T17:00:13.369Z"
   },
   {
    "duration": 7,
    "start_time": "2022-12-07T17:00:13.377Z"
   },
   {
    "duration": 24,
    "start_time": "2022-12-07T17:00:13.415Z"
   },
   {
    "duration": 9,
    "start_time": "2022-12-07T17:00:13.441Z"
   },
   {
    "duration": 24,
    "start_time": "2022-12-07T17:00:13.452Z"
   },
   {
    "duration": 152,
    "start_time": "2022-12-07T17:00:13.478Z"
   },
   {
    "duration": 32,
    "start_time": "2022-12-07T17:00:13.632Z"
   },
   {
    "duration": 0,
    "start_time": "2022-12-07T17:00:13.665Z"
   },
   {
    "duration": 0,
    "start_time": "2022-12-07T17:00:13.667Z"
   },
   {
    "duration": 0,
    "start_time": "2022-12-07T17:00:13.668Z"
   },
   {
    "duration": 0,
    "start_time": "2022-12-07T17:00:13.670Z"
   },
   {
    "duration": 0,
    "start_time": "2022-12-07T17:00:13.671Z"
   },
   {
    "duration": 1351,
    "start_time": "2022-12-07T17:01:05.973Z"
   },
   {
    "duration": 40,
    "start_time": "2022-12-07T17:01:07.326Z"
   },
   {
    "duration": 17,
    "start_time": "2022-12-07T17:01:07.367Z"
   },
   {
    "duration": 18,
    "start_time": "2022-12-07T17:01:07.385Z"
   },
   {
    "duration": 6,
    "start_time": "2022-12-07T17:01:07.404Z"
   },
   {
    "duration": 8,
    "start_time": "2022-12-07T17:01:07.411Z"
   },
   {
    "duration": 8,
    "start_time": "2022-12-07T17:01:07.421Z"
   },
   {
    "duration": 16,
    "start_time": "2022-12-07T17:01:07.431Z"
   },
   {
    "duration": 11,
    "start_time": "2022-12-07T17:01:07.449Z"
   },
   {
    "duration": 9,
    "start_time": "2022-12-07T17:01:07.462Z"
   },
   {
    "duration": 8,
    "start_time": "2022-12-07T17:01:07.472Z"
   },
   {
    "duration": 43,
    "start_time": "2022-12-07T17:01:07.482Z"
   },
   {
    "duration": 10,
    "start_time": "2022-12-07T17:01:07.527Z"
   },
   {
    "duration": 24,
    "start_time": "2022-12-07T17:01:07.538Z"
   },
   {
    "duration": 158,
    "start_time": "2022-12-07T17:01:07.563Z"
   },
   {
    "duration": 81518,
    "start_time": "2022-12-07T17:01:07.723Z"
   },
   {
    "duration": 219,
    "start_time": "2022-12-07T17:02:29.242Z"
   },
   {
    "duration": 64470,
    "start_time": "2022-12-07T17:02:29.462Z"
   },
   {
    "duration": 14,
    "start_time": "2022-12-07T17:03:33.934Z"
   },
   {
    "duration": 4767,
    "start_time": "2022-12-07T17:03:33.950Z"
   },
   {
    "duration": 104,
    "start_time": "2022-12-07T17:03:38.720Z"
   },
   {
    "duration": 226,
    "start_time": "2022-12-07T17:07:54.375Z"
   },
   {
    "duration": 1321,
    "start_time": "2022-12-07T17:29:23.529Z"
   },
   {
    "duration": 40,
    "start_time": "2022-12-07T17:29:24.851Z"
   },
   {
    "duration": 15,
    "start_time": "2022-12-07T17:29:24.892Z"
   },
   {
    "duration": 12,
    "start_time": "2022-12-07T17:29:24.909Z"
   },
   {
    "duration": 6,
    "start_time": "2022-12-07T17:29:24.923Z"
   },
   {
    "duration": 4,
    "start_time": "2022-12-07T17:29:24.931Z"
   },
   {
    "duration": 8,
    "start_time": "2022-12-07T17:29:24.937Z"
   },
   {
    "duration": 17,
    "start_time": "2022-12-07T17:29:24.947Z"
   },
   {
    "duration": 10,
    "start_time": "2022-12-07T17:29:24.966Z"
   },
   {
    "duration": 7,
    "start_time": "2022-12-07T17:29:24.977Z"
   },
   {
    "duration": 33,
    "start_time": "2022-12-07T17:29:24.985Z"
   },
   {
    "duration": 24,
    "start_time": "2022-12-07T17:29:25.020Z"
   },
   {
    "duration": 9,
    "start_time": "2022-12-07T17:29:25.046Z"
   },
   {
    "duration": 24,
    "start_time": "2022-12-07T17:29:25.058Z"
   },
   {
    "duration": 156,
    "start_time": "2022-12-07T17:29:25.083Z"
   },
   {
    "duration": 38529,
    "start_time": "2022-12-07T17:29:25.241Z"
   },
   {
    "duration": 260,
    "start_time": "2022-12-07T17:30:03.772Z"
   },
   {
    "duration": 52987,
    "start_time": "2022-12-07T17:30:04.034Z"
   },
   {
    "duration": 12,
    "start_time": "2022-12-07T17:30:57.023Z"
   },
   {
    "duration": 242,
    "start_time": "2022-12-07T17:30:57.037Z"
   },
   {
    "duration": 4341,
    "start_time": "2022-12-07T17:30:57.281Z"
   },
   {
    "duration": 192,
    "start_time": "2022-12-07T17:31:01.625Z"
   },
   {
    "duration": 241,
    "start_time": "2022-12-07T17:31:01.819Z"
   },
   {
    "duration": 218,
    "start_time": "2022-12-07T17:31:07.230Z"
   },
   {
    "duration": 1280,
    "start_time": "2022-12-07T17:31:23.930Z"
   },
   {
    "duration": 41,
    "start_time": "2022-12-07T17:31:25.213Z"
   },
   {
    "duration": 16,
    "start_time": "2022-12-07T17:31:25.255Z"
   },
   {
    "duration": 12,
    "start_time": "2022-12-07T17:31:25.272Z"
   },
   {
    "duration": 7,
    "start_time": "2022-12-07T17:31:25.285Z"
   },
   {
    "duration": 4,
    "start_time": "2022-12-07T17:31:25.293Z"
   },
   {
    "duration": 17,
    "start_time": "2022-12-07T17:31:25.299Z"
   },
   {
    "duration": 12,
    "start_time": "2022-12-07T17:31:25.317Z"
   },
   {
    "duration": 10,
    "start_time": "2022-12-07T17:31:25.331Z"
   },
   {
    "duration": 7,
    "start_time": "2022-12-07T17:31:25.344Z"
   },
   {
    "duration": 5,
    "start_time": "2022-12-07T17:31:25.352Z"
   },
   {
    "duration": 20,
    "start_time": "2022-12-07T17:31:25.359Z"
   },
   {
    "duration": 43,
    "start_time": "2022-12-07T17:31:25.380Z"
   },
   {
    "duration": 23,
    "start_time": "2022-12-07T17:31:25.425Z"
   },
   {
    "duration": 139,
    "start_time": "2022-12-07T17:31:25.450Z"
   },
   {
    "duration": 38455,
    "start_time": "2022-12-07T17:31:25.590Z"
   },
   {
    "duration": 236,
    "start_time": "2022-12-07T17:32:04.048Z"
   },
   {
    "duration": 46,
    "start_time": "2022-12-07T17:32:04.287Z"
   },
   {
    "duration": 0,
    "start_time": "2022-12-07T17:32:04.335Z"
   },
   {
    "duration": 0,
    "start_time": "2022-12-07T17:32:04.337Z"
   },
   {
    "duration": 0,
    "start_time": "2022-12-07T17:32:04.338Z"
   },
   {
    "duration": 0,
    "start_time": "2022-12-07T17:32:04.340Z"
   },
   {
    "duration": 0,
    "start_time": "2022-12-07T17:32:04.341Z"
   },
   {
    "duration": 82202,
    "start_time": "2022-12-07T17:39:23.403Z"
   },
   {
    "duration": 12575,
    "start_time": "2022-12-07T18:12:14.284Z"
   },
   {
    "duration": 55808,
    "start_time": "2022-12-07T18:12:34.019Z"
   },
   {
    "duration": 370556,
    "start_time": "2022-12-07T18:14:11.571Z"
   },
   {
    "duration": 52,
    "start_time": "2022-12-07T18:25:35.801Z"
   },
   {
    "duration": 40739,
    "start_time": "2022-12-07T18:26:58.997Z"
   },
   {
    "duration": 7,
    "start_time": "2022-12-07T18:30:21.641Z"
   },
   {
    "duration": 9,
    "start_time": "2022-12-07T18:30:38.768Z"
   },
   {
    "duration": 1299,
    "start_time": "2022-12-07T18:34:31.080Z"
   },
   {
    "duration": 41,
    "start_time": "2022-12-07T18:34:32.381Z"
   },
   {
    "duration": 19,
    "start_time": "2022-12-07T18:34:32.424Z"
   },
   {
    "duration": 12,
    "start_time": "2022-12-07T18:34:32.445Z"
   },
   {
    "duration": 6,
    "start_time": "2022-12-07T18:34:32.458Z"
   },
   {
    "duration": 6,
    "start_time": "2022-12-07T18:34:32.466Z"
   },
   {
    "duration": 10,
    "start_time": "2022-12-07T18:34:32.474Z"
   },
   {
    "duration": 31,
    "start_time": "2022-12-07T18:34:32.486Z"
   },
   {
    "duration": 10,
    "start_time": "2022-12-07T18:34:32.518Z"
   },
   {
    "duration": 19,
    "start_time": "2022-12-07T18:34:32.530Z"
   },
   {
    "duration": 8,
    "start_time": "2022-12-07T18:34:32.550Z"
   },
   {
    "duration": 30,
    "start_time": "2022-12-07T18:34:32.559Z"
   },
   {
    "duration": 11,
    "start_time": "2022-12-07T18:34:32.590Z"
   },
   {
    "duration": 35,
    "start_time": "2022-12-07T18:34:32.603Z"
   },
   {
    "duration": 134,
    "start_time": "2022-12-07T18:34:32.640Z"
   },
   {
    "duration": 40219,
    "start_time": "2022-12-07T18:34:32.776Z"
   },
   {
    "duration": 64823,
    "start_time": "2022-12-07T18:35:12.997Z"
   },
   {
    "duration": 12,
    "start_time": "2022-12-07T18:36:17.822Z"
   },
   {
    "duration": 39778,
    "start_time": "2022-12-07T18:36:17.835Z"
   },
   {
    "duration": 4701,
    "start_time": "2022-12-07T18:36:57.616Z"
   },
   {
    "duration": 105,
    "start_time": "2022-12-07T18:37:02.319Z"
   },
   {
    "duration": 39844,
    "start_time": "2022-12-07T18:38:44.403Z"
   },
   {
    "duration": 2,
    "start_time": "2022-12-07T18:39:24.249Z"
   },
   {
    "duration": 40840,
    "start_time": "2022-12-07T18:42:34.766Z"
   },
   {
    "duration": 725,
    "start_time": "2022-12-07T18:43:23.844Z"
   },
   {
    "duration": 2,
    "start_time": "2022-12-07T18:47:15.500Z"
   },
   {
    "duration": 111,
    "start_time": "2022-12-07T18:59:03.573Z"
   },
   {
    "duration": 6,
    "start_time": "2022-12-07T18:59:36.551Z"
   },
   {
    "duration": 3586,
    "start_time": "2022-12-07T18:59:43.430Z"
   },
   {
    "duration": 10,
    "start_time": "2022-12-07T18:59:49.539Z"
   },
   {
    "duration": 14,
    "start_time": "2022-12-07T19:00:00.653Z"
   },
   {
    "duration": 12,
    "start_time": "2022-12-07T19:00:15.261Z"
   },
   {
    "duration": 1355,
    "start_time": "2022-12-07T19:08:10.386Z"
   },
   {
    "duration": 41,
    "start_time": "2022-12-07T19:08:11.743Z"
   },
   {
    "duration": 15,
    "start_time": "2022-12-07T19:08:11.786Z"
   },
   {
    "duration": 12,
    "start_time": "2022-12-07T19:08:11.803Z"
   },
   {
    "duration": 7,
    "start_time": "2022-12-07T19:08:11.817Z"
   },
   {
    "duration": 13,
    "start_time": "2022-12-07T19:08:11.826Z"
   },
   {
    "duration": 9,
    "start_time": "2022-12-07T19:08:11.840Z"
   },
   {
    "duration": 18,
    "start_time": "2022-12-07T19:08:11.851Z"
   },
   {
    "duration": 9,
    "start_time": "2022-12-07T19:08:11.870Z"
   },
   {
    "duration": 7,
    "start_time": "2022-12-07T19:08:11.882Z"
   },
   {
    "duration": 6,
    "start_time": "2022-12-07T19:08:11.890Z"
   },
   {
    "duration": 26,
    "start_time": "2022-12-07T19:08:11.915Z"
   },
   {
    "duration": 10,
    "start_time": "2022-12-07T19:08:11.943Z"
   },
   {
    "duration": 24,
    "start_time": "2022-12-07T19:08:11.955Z"
   },
   {
    "duration": 177,
    "start_time": "2022-12-07T19:08:11.980Z"
   },
   {
    "duration": 68917,
    "start_time": "2022-12-07T19:08:12.159Z"
   },
   {
    "duration": 12,
    "start_time": "2022-12-07T19:09:21.077Z"
   },
   {
    "duration": 31444,
    "start_time": "2022-12-07T19:09:21.091Z"
   },
   {
    "duration": 776,
    "start_time": "2022-12-07T19:09:52.538Z"
   },
   {
    "duration": 3777,
    "start_time": "2022-12-07T19:09:53.317Z"
   },
   {
    "duration": 12,
    "start_time": "2022-12-07T19:09:57.096Z"
   },
   {
    "duration": 3707,
    "start_time": "2022-12-07T19:09:57.110Z"
   },
   {
    "duration": 112,
    "start_time": "2022-12-07T19:10:00.821Z"
   },
   {
    "duration": 2,
    "start_time": "2022-12-07T19:10:00.935Z"
   },
   {
    "duration": 1899,
    "start_time": "2022-12-08T15:29:31.268Z"
   },
   {
    "duration": 7,
    "start_time": "2022-12-08T15:29:41.286Z"
   },
   {
    "duration": 69,
    "start_time": "2022-12-08T15:31:22.453Z"
   },
   {
    "duration": 368,
    "start_time": "2022-12-08T15:39:05.689Z"
   },
   {
    "duration": 23,
    "start_time": "2022-12-08T15:39:06.178Z"
   },
   {
    "duration": 20,
    "start_time": "2022-12-08T15:39:07.146Z"
   },
   {
    "duration": 7,
    "start_time": "2022-12-08T15:39:09.334Z"
   },
   {
    "duration": 8,
    "start_time": "2022-12-08T15:39:10.970Z"
   },
   {
    "duration": 8,
    "start_time": "2022-12-08T15:39:12.443Z"
   },
   {
    "duration": 18,
    "start_time": "2022-12-08T15:39:13.065Z"
   },
   {
    "duration": 20,
    "start_time": "2022-12-08T15:39:19.905Z"
   },
   {
    "duration": 169,
    "start_time": "2022-12-08T15:39:21.714Z"
   },
   {
    "duration": 15,
    "start_time": "2022-12-08T15:40:00.363Z"
   },
   {
    "duration": 10,
    "start_time": "2022-12-08T15:40:25.440Z"
   },
   {
    "duration": 17,
    "start_time": "2022-12-08T15:40:30.007Z"
   },
   {
    "duration": 9,
    "start_time": "2022-12-08T15:42:13.308Z"
   },
   {
    "duration": 7,
    "start_time": "2022-12-08T15:42:15.973Z"
   },
   {
    "duration": 16,
    "start_time": "2022-12-08T15:42:37.756Z"
   },
   {
    "duration": 15,
    "start_time": "2022-12-08T15:42:39.221Z"
   },
   {
    "duration": 11,
    "start_time": "2022-12-08T15:42:41.676Z"
   },
   {
    "duration": 1763,
    "start_time": "2022-12-08T15:43:03.697Z"
   },
   {
    "duration": 41,
    "start_time": "2022-12-08T15:43:05.463Z"
   },
   {
    "duration": 33,
    "start_time": "2022-12-08T15:43:05.506Z"
   },
   {
    "duration": 24,
    "start_time": "2022-12-08T15:43:05.541Z"
   },
   {
    "duration": 9,
    "start_time": "2022-12-08T15:43:05.568Z"
   },
   {
    "duration": 8,
    "start_time": "2022-12-08T15:43:05.579Z"
   },
   {
    "duration": 9,
    "start_time": "2022-12-08T15:43:05.589Z"
   },
   {
    "duration": 33,
    "start_time": "2022-12-08T15:43:05.601Z"
   },
   {
    "duration": 76,
    "start_time": "2022-12-08T15:43:05.639Z"
   },
   {
    "duration": 0,
    "start_time": "2022-12-08T15:43:05.718Z"
   },
   {
    "duration": 0,
    "start_time": "2022-12-08T15:43:05.721Z"
   },
   {
    "duration": 0,
    "start_time": "2022-12-08T15:43:05.726Z"
   },
   {
    "duration": 0,
    "start_time": "2022-12-08T15:43:05.727Z"
   },
   {
    "duration": 0,
    "start_time": "2022-12-08T15:43:05.728Z"
   },
   {
    "duration": 0,
    "start_time": "2022-12-08T15:43:05.731Z"
   },
   {
    "duration": 0,
    "start_time": "2022-12-08T15:43:05.732Z"
   },
   {
    "duration": 0,
    "start_time": "2022-12-08T15:43:05.733Z"
   },
   {
    "duration": 0,
    "start_time": "2022-12-08T15:43:05.738Z"
   },
   {
    "duration": 0,
    "start_time": "2022-12-08T15:43:05.739Z"
   },
   {
    "duration": 0,
    "start_time": "2022-12-08T15:43:05.740Z"
   },
   {
    "duration": 0,
    "start_time": "2022-12-08T15:43:05.741Z"
   },
   {
    "duration": 0,
    "start_time": "2022-12-08T15:43:05.742Z"
   },
   {
    "duration": 1,
    "start_time": "2022-12-08T15:43:05.743Z"
   },
   {
    "duration": 0,
    "start_time": "2022-12-08T15:43:05.745Z"
   },
   {
    "duration": 0,
    "start_time": "2022-12-08T15:43:05.746Z"
   },
   {
    "duration": 0,
    "start_time": "2022-12-08T15:43:05.750Z"
   },
   {
    "duration": 0,
    "start_time": "2022-12-08T15:43:05.751Z"
   },
   {
    "duration": 0,
    "start_time": "2022-12-08T15:43:05.752Z"
   },
   {
    "duration": 14,
    "start_time": "2022-12-08T15:43:15.652Z"
   },
   {
    "duration": 8,
    "start_time": "2022-12-08T15:43:16.744Z"
   },
   {
    "duration": 7,
    "start_time": "2022-12-08T15:43:19.594Z"
   },
   {
    "duration": 6,
    "start_time": "2022-12-08T15:45:21.679Z"
   },
   {
    "duration": 79,
    "start_time": "2022-12-08T15:46:06.359Z"
   },
   {
    "duration": 11,
    "start_time": "2022-12-08T15:46:16.846Z"
   },
   {
    "duration": 7,
    "start_time": "2022-12-08T15:46:19.503Z"
   },
   {
    "duration": 10,
    "start_time": "2022-12-08T15:46:51.100Z"
   },
   {
    "duration": 7,
    "start_time": "2022-12-08T15:46:53.253Z"
   },
   {
    "duration": 7,
    "start_time": "2022-12-08T15:47:57.572Z"
   },
   {
    "duration": 10,
    "start_time": "2022-12-08T15:48:56.324Z"
   },
   {
    "duration": 8,
    "start_time": "2022-12-08T15:48:57.394Z"
   },
   {
    "duration": 15,
    "start_time": "2022-12-08T15:49:03.135Z"
   },
   {
    "duration": 10,
    "start_time": "2022-12-08T15:49:03.832Z"
   },
   {
    "duration": 9,
    "start_time": "2022-12-08T15:49:26.515Z"
   },
   {
    "duration": 9,
    "start_time": "2022-12-08T15:49:27.066Z"
   },
   {
    "duration": 225,
    "start_time": "2022-12-08T15:55:18.788Z"
   },
   {
    "duration": 5,
    "start_time": "2022-12-08T15:55:25.369Z"
   },
   {
    "duration": 1280,
    "start_time": "2022-12-08T15:55:28.881Z"
   },
   {
    "duration": 1486,
    "start_time": "2022-12-08T15:59:46.561Z"
   },
   {
    "duration": 46,
    "start_time": "2022-12-08T15:59:48.053Z"
   },
   {
    "duration": 19,
    "start_time": "2022-12-08T15:59:48.101Z"
   },
   {
    "duration": 44,
    "start_time": "2022-12-08T15:59:48.125Z"
   },
   {
    "duration": 7,
    "start_time": "2022-12-08T15:59:48.171Z"
   },
   {
    "duration": 13,
    "start_time": "2022-12-08T15:59:48.179Z"
   },
   {
    "duration": 18,
    "start_time": "2022-12-08T15:59:48.194Z"
   },
   {
    "duration": 61,
    "start_time": "2022-12-08T15:59:48.214Z"
   },
   {
    "duration": 14,
    "start_time": "2022-12-08T15:59:48.277Z"
   },
   {
    "duration": 21,
    "start_time": "2022-12-08T15:59:48.295Z"
   },
   {
    "duration": 50,
    "start_time": "2022-12-08T15:59:48.318Z"
   },
   {
    "duration": 10,
    "start_time": "2022-12-08T15:59:48.371Z"
   },
   {
    "duration": 30,
    "start_time": "2022-12-08T15:59:48.382Z"
   },
   {
    "duration": 53,
    "start_time": "2022-12-08T15:59:48.415Z"
   },
   {
    "duration": 36,
    "start_time": "2022-12-08T15:59:48.469Z"
   },
   {
    "duration": 162,
    "start_time": "2022-12-08T15:59:48.507Z"
   },
   {
    "duration": 57007,
    "start_time": "2022-12-08T15:59:48.671Z"
   },
   {
    "duration": 14,
    "start_time": "2022-12-08T16:00:45.687Z"
   },
   {
    "duration": 12,
    "start_time": "2022-12-08T16:00:45.703Z"
   },
   {
    "duration": 1470,
    "start_time": "2022-12-08T16:00:45.717Z"
   },
   {
    "duration": 3798,
    "start_time": "2022-12-08T16:00:47.189Z"
   },
   {
    "duration": 12,
    "start_time": "2022-12-08T16:00:50.988Z"
   },
   {
    "duration": 3838,
    "start_time": "2022-12-08T16:00:51.001Z"
   },
   {
    "duration": 105,
    "start_time": "2022-12-08T16:00:54.840Z"
   },
   {
    "duration": 135,
    "start_time": "2022-12-08T16:00:54.952Z"
   },
   {
    "duration": 0,
    "start_time": "2022-12-08T16:00:55.089Z"
   },
   {
    "duration": 1567,
    "start_time": "2022-12-08T16:10:19.558Z"
   },
   {
    "duration": 64,
    "start_time": "2022-12-08T16:10:21.128Z"
   },
   {
    "duration": 19,
    "start_time": "2022-12-08T16:10:21.193Z"
   },
   {
    "duration": 58,
    "start_time": "2022-12-08T16:10:21.214Z"
   },
   {
    "duration": 17,
    "start_time": "2022-12-08T16:10:21.274Z"
   },
   {
    "duration": 11,
    "start_time": "2022-12-08T16:10:21.292Z"
   },
   {
    "duration": 14,
    "start_time": "2022-12-08T16:10:21.305Z"
   },
   {
    "duration": 64,
    "start_time": "2022-12-08T16:10:21.321Z"
   },
   {
    "duration": 28,
    "start_time": "2022-12-08T16:10:21.387Z"
   },
   {
    "duration": 70,
    "start_time": "2022-12-08T16:10:21.417Z"
   },
   {
    "duration": 10,
    "start_time": "2022-12-08T16:10:21.489Z"
   },
   {
    "duration": 67,
    "start_time": "2022-12-08T16:10:21.501Z"
   },
   {
    "duration": 40,
    "start_time": "2022-12-08T16:10:21.570Z"
   },
   {
    "duration": 78,
    "start_time": "2022-12-08T16:10:21.612Z"
   },
   {
    "duration": 67,
    "start_time": "2022-12-08T16:10:21.691Z"
   },
   {
    "duration": 158,
    "start_time": "2022-12-08T16:10:21.760Z"
   },
   {
    "duration": 1678,
    "start_time": "2022-12-08T16:10:56.174Z"
   },
   {
    "duration": 61,
    "start_time": "2022-12-08T16:10:57.859Z"
   },
   {
    "duration": 28,
    "start_time": "2022-12-08T16:10:57.929Z"
   },
   {
    "duration": 26,
    "start_time": "2022-12-08T16:10:57.967Z"
   },
   {
    "duration": 18,
    "start_time": "2022-12-08T16:10:57.995Z"
   },
   {
    "duration": 12,
    "start_time": "2022-12-08T16:10:58.015Z"
   },
   {
    "duration": 57,
    "start_time": "2022-12-08T16:10:58.029Z"
   },
   {
    "duration": 20,
    "start_time": "2022-12-08T16:10:58.088Z"
   },
   {
    "duration": 4,
    "start_time": "2022-12-08T16:10:58.110Z"
   },
   {
    "duration": 28,
    "start_time": "2022-12-08T16:10:58.117Z"
   },
   {
    "duration": 35,
    "start_time": "2022-12-08T16:10:58.147Z"
   },
   {
    "duration": 10,
    "start_time": "2022-12-08T16:10:58.184Z"
   },
   {
    "duration": 197,
    "start_time": "2022-12-08T16:10:58.196Z"
   },
   {
    "duration": 0,
    "start_time": "2022-12-08T16:10:58.395Z"
   },
   {
    "duration": 0,
    "start_time": "2022-12-08T16:10:58.397Z"
   },
   {
    "duration": 0,
    "start_time": "2022-12-08T16:10:58.399Z"
   },
   {
    "duration": 0,
    "start_time": "2022-12-08T16:10:58.401Z"
   },
   {
    "duration": 0,
    "start_time": "2022-12-08T16:10:58.402Z"
   },
   {
    "duration": 0,
    "start_time": "2022-12-08T16:10:58.404Z"
   },
   {
    "duration": 0,
    "start_time": "2022-12-08T16:10:58.405Z"
   },
   {
    "duration": 0,
    "start_time": "2022-12-08T16:10:58.431Z"
   },
   {
    "duration": 0,
    "start_time": "2022-12-08T16:10:58.438Z"
   },
   {
    "duration": 0,
    "start_time": "2022-12-08T16:10:58.446Z"
   },
   {
    "duration": 0,
    "start_time": "2022-12-08T16:10:58.453Z"
   },
   {
    "duration": 0,
    "start_time": "2022-12-08T16:10:58.458Z"
   },
   {
    "duration": 0,
    "start_time": "2022-12-08T16:10:58.465Z"
   },
   {
    "duration": 1436,
    "start_time": "2022-12-08T16:11:39.269Z"
   },
   {
    "duration": 60,
    "start_time": "2022-12-08T16:11:40.707Z"
   },
   {
    "duration": 18,
    "start_time": "2022-12-08T16:11:40.769Z"
   },
   {
    "duration": 17,
    "start_time": "2022-12-08T16:11:40.790Z"
   },
   {
    "duration": 7,
    "start_time": "2022-12-08T16:11:40.809Z"
   },
   {
    "duration": 10,
    "start_time": "2022-12-08T16:11:40.818Z"
   },
   {
    "duration": 46,
    "start_time": "2022-12-08T16:11:40.830Z"
   },
   {
    "duration": 16,
    "start_time": "2022-12-08T16:11:40.877Z"
   },
   {
    "duration": 5,
    "start_time": "2022-12-08T16:11:40.894Z"
   },
   {
    "duration": 17,
    "start_time": "2022-12-08T16:11:40.901Z"
   },
   {
    "duration": 12,
    "start_time": "2022-12-08T16:11:40.919Z"
   },
   {
    "duration": 46,
    "start_time": "2022-12-08T16:11:40.932Z"
   },
   {
    "duration": 30,
    "start_time": "2022-12-08T16:11:40.979Z"
   },
   {
    "duration": 17,
    "start_time": "2022-12-08T16:11:41.011Z"
   },
   {
    "duration": 65,
    "start_time": "2022-12-08T16:11:41.031Z"
   },
   {
    "duration": 145,
    "start_time": "2022-12-08T16:11:41.097Z"
   },
   {
    "duration": 57698,
    "start_time": "2022-12-08T16:11:41.244Z"
   },
   {
    "duration": 23,
    "start_time": "2022-12-08T16:12:38.944Z"
   },
   {
    "duration": 35,
    "start_time": "2022-12-08T16:12:38.969Z"
   },
   {
    "duration": 140082,
    "start_time": "2022-12-08T16:12:39.005Z"
   },
   {
    "duration": 3816,
    "start_time": "2022-12-08T16:14:59.089Z"
   },
   {
    "duration": 20,
    "start_time": "2022-12-08T16:15:02.908Z"
   },
   {
    "duration": 3810,
    "start_time": "2022-12-08T16:15:02.931Z"
   },
   {
    "duration": 94,
    "start_time": "2022-12-08T16:15:06.742Z"
   },
   {
    "duration": 75,
    "start_time": "2022-12-08T16:15:06.842Z"
   },
   {
    "duration": 0,
    "start_time": "2022-12-08T16:15:06.920Z"
   },
   {
    "duration": 54,
    "start_time": "2022-12-08T16:19:25.650Z"
   },
   {
    "duration": 1418,
    "start_time": "2022-12-08T17:26:20.806Z"
   },
   {
    "duration": 41,
    "start_time": "2022-12-08T17:26:22.226Z"
   },
   {
    "duration": 19,
    "start_time": "2022-12-08T17:26:22.268Z"
   },
   {
    "duration": 15,
    "start_time": "2022-12-08T17:26:22.289Z"
   },
   {
    "duration": 6,
    "start_time": "2022-12-08T17:26:22.305Z"
   },
   {
    "duration": 5,
    "start_time": "2022-12-08T17:26:22.323Z"
   },
   {
    "duration": 8,
    "start_time": "2022-12-08T17:26:22.329Z"
   },
   {
    "duration": 19,
    "start_time": "2022-12-08T17:26:22.339Z"
   },
   {
    "duration": 5,
    "start_time": "2022-12-08T17:26:22.360Z"
   },
   {
    "duration": 13,
    "start_time": "2022-12-08T17:26:22.369Z"
   },
   {
    "duration": 38,
    "start_time": "2022-12-08T17:26:22.384Z"
   },
   {
    "duration": 7,
    "start_time": "2022-12-08T17:26:22.424Z"
   },
   {
    "duration": 24,
    "start_time": "2022-12-08T17:26:22.432Z"
   },
   {
    "duration": 14,
    "start_time": "2022-12-08T17:26:22.458Z"
   },
   {
    "duration": 57,
    "start_time": "2022-12-08T17:26:22.474Z"
   },
   {
    "duration": 164,
    "start_time": "2022-12-08T17:26:22.533Z"
   },
   {
    "duration": 50240,
    "start_time": "2022-12-08T17:26:22.700Z"
   },
   {
    "duration": 13,
    "start_time": "2022-12-08T17:27:12.942Z"
   },
   {
    "duration": 22,
    "start_time": "2022-12-08T17:27:12.957Z"
   },
   {
    "duration": 12,
    "start_time": "2022-12-08T17:27:12.981Z"
   },
   {
    "duration": 128200,
    "start_time": "2022-12-08T17:27:12.995Z"
   },
   {
    "duration": 73,
    "start_time": "2022-12-08T17:29:21.196Z"
   },
   {
    "duration": 0,
    "start_time": "2022-12-08T17:29:21.271Z"
   },
   {
    "duration": 0,
    "start_time": "2022-12-08T17:29:21.272Z"
   },
   {
    "duration": 0,
    "start_time": "2022-12-08T17:29:21.273Z"
   },
   {
    "duration": 0,
    "start_time": "2022-12-08T17:29:21.274Z"
   },
   {
    "duration": 0,
    "start_time": "2022-12-08T17:29:21.275Z"
   },
   {
    "duration": 0,
    "start_time": "2022-12-08T17:29:21.277Z"
   },
   {
    "duration": 0,
    "start_time": "2022-12-08T17:29:21.278Z"
   },
   {
    "duration": 3,
    "start_time": "2022-12-08T17:30:58.180Z"
   },
   {
    "duration": 71,
    "start_time": "2022-12-08T17:30:59.583Z"
   },
   {
    "duration": 109,
    "start_time": "2022-12-08T17:31:09.870Z"
   },
   {
    "duration": 1186,
    "start_time": "2022-12-08T17:33:01.842Z"
   },
   {
    "duration": 8,
    "start_time": "2022-12-08T17:35:27.648Z"
   },
   {
    "duration": 1264,
    "start_time": "2022-12-08T17:35:31.152Z"
   },
   {
    "duration": 192,
    "start_time": "2022-12-08T17:35:36.056Z"
   },
   {
    "duration": 208,
    "start_time": "2022-12-08T17:37:00.150Z"
   },
   {
    "duration": 1176,
    "start_time": "2022-12-08T17:41:57.833Z"
   },
   {
    "duration": 1672,
    "start_time": "2022-12-08T17:45:41.316Z"
   },
   {
    "duration": 41,
    "start_time": "2022-12-08T17:45:42.990Z"
   },
   {
    "duration": 21,
    "start_time": "2022-12-08T17:45:43.033Z"
   },
   {
    "duration": 15,
    "start_time": "2022-12-08T17:45:43.057Z"
   },
   {
    "duration": 7,
    "start_time": "2022-12-08T17:45:43.073Z"
   },
   {
    "duration": 42,
    "start_time": "2022-12-08T17:45:43.081Z"
   },
   {
    "duration": 8,
    "start_time": "2022-12-08T17:45:43.125Z"
   },
   {
    "duration": 16,
    "start_time": "2022-12-08T17:45:43.135Z"
   },
   {
    "duration": 5,
    "start_time": "2022-12-08T17:45:43.153Z"
   },
   {
    "duration": 14,
    "start_time": "2022-12-08T17:45:43.161Z"
   },
   {
    "duration": 12,
    "start_time": "2022-12-08T17:45:43.177Z"
   },
   {
    "duration": 35,
    "start_time": "2022-12-08T17:45:43.191Z"
   },
   {
    "duration": 34,
    "start_time": "2022-12-08T17:45:43.228Z"
   },
   {
    "duration": 17,
    "start_time": "2022-12-08T17:45:43.263Z"
   },
   {
    "duration": 71,
    "start_time": "2022-12-08T17:45:43.283Z"
   },
   {
    "duration": 221,
    "start_time": "2022-12-08T17:45:43.356Z"
   },
   {
    "duration": 55105,
    "start_time": "2022-12-08T17:45:43.579Z"
   },
   {
    "duration": 19,
    "start_time": "2022-12-08T17:46:38.686Z"
   },
   {
    "duration": 28,
    "start_time": "2022-12-08T17:46:38.707Z"
   },
   {
    "duration": 23,
    "start_time": "2022-12-08T17:46:38.737Z"
   },
   {
    "duration": 145449,
    "start_time": "2022-12-08T17:46:38.763Z"
   },
   {
    "duration": 1614,
    "start_time": "2022-12-08T17:49:04.215Z"
   },
   {
    "duration": 246,
    "start_time": "2022-12-08T17:49:05.832Z"
   },
   {
    "duration": 1434,
    "start_time": "2022-12-08T17:49:06.081Z"
   },
   {
    "duration": 4871,
    "start_time": "2022-12-08T17:49:07.517Z"
   },
   {
    "duration": 32,
    "start_time": "2022-12-08T17:49:12.390Z"
   },
   {
    "duration": 4000,
    "start_time": "2022-12-08T17:49:12.425Z"
   },
   {
    "duration": 99,
    "start_time": "2022-12-08T17:49:16.435Z"
   },
   {
    "duration": 72,
    "start_time": "2022-12-08T17:49:16.536Z"
   },
   {
    "duration": 0,
    "start_time": "2022-12-08T17:49:16.611Z"
   },
   {
    "duration": 1163,
    "start_time": "2022-12-08T17:49:43.284Z"
   },
   {
    "duration": 173,
    "start_time": "2022-12-08T17:49:46.661Z"
   },
   {
    "duration": 1500,
    "start_time": "2022-12-08T17:49:47.875Z"
   },
   {
    "duration": 1503,
    "start_time": "2022-12-08T17:51:52.372Z"
   },
   {
    "duration": 720,
    "start_time": "2022-12-08T18:01:11.130Z"
   },
   {
    "duration": 365,
    "start_time": "2022-12-08T18:01:12.387Z"
   },
   {
    "duration": 84,
    "start_time": "2022-12-08T18:01:37.411Z"
   },
   {
    "duration": 63,
    "start_time": "2022-12-08T18:01:50.547Z"
   },
   {
    "duration": 231,
    "start_time": "2022-12-08T18:02:30.048Z"
   },
   {
    "duration": 96,
    "start_time": "2022-12-08T18:03:14.215Z"
   },
   {
    "duration": 77,
    "start_time": "2022-12-08T18:04:03.839Z"
   },
   {
    "duration": 75,
    "start_time": "2022-12-08T18:05:11.188Z"
   },
   {
    "duration": 80,
    "start_time": "2022-12-08T18:05:27.818Z"
   },
   {
    "duration": 103,
    "start_time": "2022-12-08T18:05:33.973Z"
   },
   {
    "duration": 164,
    "start_time": "2022-12-08T18:05:57.354Z"
   },
   {
    "duration": 1498,
    "start_time": "2022-12-08T18:11:49.760Z"
   },
   {
    "duration": 41,
    "start_time": "2022-12-08T18:11:51.260Z"
   },
   {
    "duration": 24,
    "start_time": "2022-12-08T18:11:51.303Z"
   },
   {
    "duration": 21,
    "start_time": "2022-12-08T18:11:51.330Z"
   },
   {
    "duration": 6,
    "start_time": "2022-12-08T18:11:51.353Z"
   },
   {
    "duration": 9,
    "start_time": "2022-12-08T18:11:51.361Z"
   },
   {
    "duration": 16,
    "start_time": "2022-12-08T18:11:51.372Z"
   },
   {
    "duration": 33,
    "start_time": "2022-12-08T18:11:51.390Z"
   },
   {
    "duration": 7,
    "start_time": "2022-12-08T18:11:51.426Z"
   },
   {
    "duration": 14,
    "start_time": "2022-12-08T18:11:51.437Z"
   },
   {
    "duration": 13,
    "start_time": "2022-12-08T18:11:51.453Z"
   },
   {
    "duration": 7,
    "start_time": "2022-12-08T18:11:51.468Z"
   },
   {
    "duration": 63,
    "start_time": "2022-12-08T18:11:51.477Z"
   },
   {
    "duration": 16,
    "start_time": "2022-12-08T18:11:51.542Z"
   },
   {
    "duration": 74,
    "start_time": "2022-12-08T18:11:51.561Z"
   },
   {
    "duration": 206,
    "start_time": "2022-12-08T18:11:51.638Z"
   },
   {
    "duration": 46572,
    "start_time": "2022-12-08T18:11:51.847Z"
   },
   {
    "duration": 132,
    "start_time": "2022-12-08T18:12:38.421Z"
   },
   {
    "duration": 0,
    "start_time": "2022-12-08T18:12:38.555Z"
   },
   {
    "duration": 0,
    "start_time": "2022-12-08T18:12:38.557Z"
   },
   {
    "duration": 0,
    "start_time": "2022-12-08T18:12:38.560Z"
   },
   {
    "duration": 0,
    "start_time": "2022-12-08T18:12:38.562Z"
   },
   {
    "duration": 0,
    "start_time": "2022-12-08T18:12:38.563Z"
   },
   {
    "duration": 0,
    "start_time": "2022-12-08T18:12:38.565Z"
   },
   {
    "duration": 0,
    "start_time": "2022-12-08T18:12:38.566Z"
   },
   {
    "duration": 0,
    "start_time": "2022-12-08T18:12:38.568Z"
   },
   {
    "duration": 0,
    "start_time": "2022-12-08T18:12:38.569Z"
   },
   {
    "duration": 0,
    "start_time": "2022-12-08T18:12:38.571Z"
   },
   {
    "duration": 1499,
    "start_time": "2022-12-08T18:12:56.634Z"
   },
   {
    "duration": 42,
    "start_time": "2022-12-08T18:12:58.136Z"
   },
   {
    "duration": 20,
    "start_time": "2022-12-08T18:12:58.180Z"
   },
   {
    "duration": 15,
    "start_time": "2022-12-08T18:12:58.202Z"
   },
   {
    "duration": 13,
    "start_time": "2022-12-08T18:12:58.223Z"
   },
   {
    "duration": 10,
    "start_time": "2022-12-08T18:12:58.238Z"
   },
   {
    "duration": 18,
    "start_time": "2022-12-08T18:12:58.251Z"
   },
   {
    "duration": 42,
    "start_time": "2022-12-08T18:12:58.272Z"
   },
   {
    "duration": 34,
    "start_time": "2022-12-08T18:12:58.316Z"
   },
   {
    "duration": 22,
    "start_time": "2022-12-08T18:12:58.353Z"
   },
   {
    "duration": 20,
    "start_time": "2022-12-08T18:12:58.377Z"
   },
   {
    "duration": 10,
    "start_time": "2022-12-08T18:12:58.399Z"
   },
   {
    "duration": 47,
    "start_time": "2022-12-08T18:12:58.411Z"
   },
   {
    "duration": 14,
    "start_time": "2022-12-08T18:12:58.460Z"
   },
   {
    "duration": 46,
    "start_time": "2022-12-08T18:12:58.476Z"
   },
   {
    "duration": 208,
    "start_time": "2022-12-08T18:12:58.524Z"
   },
   {
    "duration": 46299,
    "start_time": "2022-12-08T18:12:58.734Z"
   },
   {
    "duration": 16,
    "start_time": "2022-12-08T18:13:45.035Z"
   },
   {
    "duration": 14,
    "start_time": "2022-12-08T18:13:45.053Z"
   },
   {
    "duration": 10,
    "start_time": "2022-12-08T18:13:45.069Z"
   },
   {
    "duration": 523585,
    "start_time": "2022-12-08T18:13:45.082Z"
   },
   {
    "duration": 726,
    "start_time": "2022-12-08T18:22:28.670Z"
   },
   {
    "duration": 34,
    "start_time": "2022-12-08T18:22:29.398Z"
   },
   {
    "duration": 0,
    "start_time": "2022-12-08T18:22:29.434Z"
   },
   {
    "duration": 0,
    "start_time": "2022-12-08T18:22:29.436Z"
   },
   {
    "duration": 0,
    "start_time": "2022-12-08T18:22:29.437Z"
   },
   {
    "duration": 0,
    "start_time": "2022-12-08T18:22:29.438Z"
   },
   {
    "duration": 0,
    "start_time": "2022-12-08T18:22:29.439Z"
   },
   {
    "duration": 267404,
    "start_time": "2022-12-08T18:23:22.551Z"
   },
   {
    "duration": 142553,
    "start_time": "2022-12-08T18:35:58.976Z"
   },
   {
    "duration": 664,
    "start_time": "2022-12-08T18:40:24.846Z"
   },
   {
    "duration": 23,
    "start_time": "2022-12-08T18:44:11.932Z"
   },
   {
    "duration": 3058,
    "start_time": "2022-12-08T18:44:22.425Z"
   },
   {
    "duration": 14,
    "start_time": "2022-12-08T18:44:36.041Z"
   },
   {
    "duration": 1615,
    "start_time": "2022-12-08T18:50:52.893Z"
   },
   {
    "duration": 38,
    "start_time": "2022-12-08T18:50:54.510Z"
   },
   {
    "duration": 17,
    "start_time": "2022-12-08T18:50:54.549Z"
   },
   {
    "duration": 14,
    "start_time": "2022-12-08T18:50:54.568Z"
   },
   {
    "duration": 6,
    "start_time": "2022-12-08T18:50:54.583Z"
   },
   {
    "duration": 8,
    "start_time": "2022-12-08T18:50:54.591Z"
   },
   {
    "duration": 8,
    "start_time": "2022-12-08T18:50:54.601Z"
   },
   {
    "duration": 23,
    "start_time": "2022-12-08T18:50:54.610Z"
   },
   {
    "duration": 4,
    "start_time": "2022-12-08T18:50:54.635Z"
   },
   {
    "duration": 13,
    "start_time": "2022-12-08T18:50:54.642Z"
   },
   {
    "duration": 9,
    "start_time": "2022-12-08T18:50:54.657Z"
   },
   {
    "duration": 6,
    "start_time": "2022-12-08T18:50:54.667Z"
   },
   {
    "duration": 55,
    "start_time": "2022-12-08T18:50:54.675Z"
   },
   {
    "duration": 12,
    "start_time": "2022-12-08T18:50:54.732Z"
   },
   {
    "duration": 34,
    "start_time": "2022-12-08T18:50:54.746Z"
   },
   {
    "duration": 188,
    "start_time": "2022-12-08T18:50:54.782Z"
   },
   {
    "duration": 42534,
    "start_time": "2022-12-08T18:50:54.972Z"
   },
   {
    "duration": 21,
    "start_time": "2022-12-08T18:51:37.508Z"
   },
   {
    "duration": 9,
    "start_time": "2022-12-08T18:51:37.530Z"
   },
   {
    "duration": 132002,
    "start_time": "2022-12-08T18:51:37.541Z"
   },
   {
    "duration": 3122,
    "start_time": "2022-12-08T18:53:49.546Z"
   },
   {
    "duration": 10,
    "start_time": "2022-12-08T18:53:52.670Z"
   },
   {
    "duration": 3251,
    "start_time": "2022-12-08T18:53:52.682Z"
   },
   {
    "duration": 98,
    "start_time": "2022-12-08T18:53:55.934Z"
   },
   {
    "duration": 94,
    "start_time": "2022-12-08T18:53:56.037Z"
   },
   {
    "duration": 0,
    "start_time": "2022-12-08T18:53:56.134Z"
   },
   {
    "duration": 6,
    "start_time": "2022-12-08T18:54:54.248Z"
   },
   {
    "duration": 3902,
    "start_time": "2022-12-08T18:55:31.345Z"
   },
   {
    "duration": 8724,
    "start_time": "2022-12-08T18:56:17.337Z"
   },
   {
    "duration": 3944,
    "start_time": "2022-12-08T18:56:42.457Z"
   },
   {
    "duration": 7752,
    "start_time": "2022-12-08T18:57:45.156Z"
   },
   {
    "duration": 8049,
    "start_time": "2022-12-08T18:58:28.877Z"
   },
   {
    "duration": 1534,
    "start_time": "2022-12-09T06:19:49.673Z"
   },
   {
    "duration": 99,
    "start_time": "2022-12-09T06:19:51.209Z"
   },
   {
    "duration": 15,
    "start_time": "2022-12-09T06:19:51.310Z"
   },
   {
    "duration": 22,
    "start_time": "2022-12-09T06:19:51.327Z"
   },
   {
    "duration": 24,
    "start_time": "2022-12-09T06:19:51.351Z"
   },
   {
    "duration": 7,
    "start_time": "2022-12-09T06:19:51.376Z"
   },
   {
    "duration": 18,
    "start_time": "2022-12-09T06:19:51.385Z"
   },
   {
    "duration": 28,
    "start_time": "2022-12-09T06:19:51.405Z"
   },
   {
    "duration": 31,
    "start_time": "2022-12-09T06:19:51.434Z"
   },
   {
    "duration": 29,
    "start_time": "2022-12-09T06:19:51.467Z"
   },
   {
    "duration": 11,
    "start_time": "2022-12-09T06:19:51.498Z"
   },
   {
    "duration": 29,
    "start_time": "2022-12-09T06:19:51.511Z"
   },
   {
    "duration": 28,
    "start_time": "2022-12-09T06:19:51.542Z"
   },
   {
    "duration": 21,
    "start_time": "2022-12-09T06:19:51.572Z"
   },
   {
    "duration": 51,
    "start_time": "2022-12-09T06:19:51.595Z"
   },
   {
    "duration": 106,
    "start_time": "2022-12-09T06:19:51.648Z"
   },
   {
    "duration": 39475,
    "start_time": "2022-12-09T06:19:51.755Z"
   },
   {
    "duration": 12,
    "start_time": "2022-12-09T06:20:31.232Z"
   },
   {
    "duration": 39,
    "start_time": "2022-12-09T06:20:31.245Z"
   },
   {
    "duration": 120824,
    "start_time": "2022-12-09T06:20:31.286Z"
   },
   {
    "duration": 2906,
    "start_time": "2022-12-09T06:22:32.111Z"
   },
   {
    "duration": 10,
    "start_time": "2022-12-09T06:22:35.018Z"
   },
   {
    "duration": 11,
    "start_time": "2022-12-09T06:22:35.029Z"
   },
   {
    "duration": 7360,
    "start_time": "2022-12-09T06:22:35.041Z"
   },
   {
    "duration": 4400,
    "start_time": "2022-12-09T06:22:42.402Z"
   },
   {
    "duration": 194,
    "start_time": "2022-12-09T06:22:46.804Z"
   },
   {
    "duration": 43,
    "start_time": "2022-12-09T06:22:47.000Z"
   },
   {
    "duration": 0,
    "start_time": "2022-12-09T06:22:47.045Z"
   },
   {
    "duration": 11,
    "start_time": "2022-12-09T06:31:25.000Z"
   },
   {
    "duration": 119,
    "start_time": "2022-12-09T06:31:34.035Z"
   },
   {
    "duration": 12,
    "start_time": "2022-12-09T06:31:49.585Z"
   },
   {
    "duration": 16,
    "start_time": "2022-12-09T06:31:58.097Z"
   },
   {
    "duration": 12,
    "start_time": "2022-12-09T06:32:18.513Z"
   },
   {
    "duration": 2,
    "start_time": "2022-12-09T06:34:07.421Z"
   },
   {
    "duration": 4,
    "start_time": "2022-12-09T06:46:58.209Z"
   },
   {
    "duration": 10,
    "start_time": "2022-12-09T06:56:16.584Z"
   },
   {
    "duration": 12309,
    "start_time": "2022-12-09T06:59:15.977Z"
   },
   {
    "duration": 102094,
    "start_time": "2022-12-09T07:23:23.186Z"
   },
   {
    "duration": 39,
    "start_time": "2022-12-09T07:55:04.941Z"
   },
   {
    "duration": 189058,
    "start_time": "2022-12-09T07:55:17.716Z"
   },
   {
    "duration": 97231,
    "start_time": "2022-12-09T07:59:14.732Z"
   },
   {
    "duration": 170183,
    "start_time": "2022-12-09T08:03:36.920Z"
   },
   {
    "duration": 27226,
    "start_time": "2022-12-09T08:14:56.182Z"
   },
   {
    "duration": 20473,
    "start_time": "2022-12-09T08:18:11.198Z"
   },
   {
    "duration": 18089,
    "start_time": "2022-12-09T08:19:28.141Z"
   },
   {
    "duration": 19403,
    "start_time": "2022-12-09T08:20:02.638Z"
   },
   {
    "duration": 17622,
    "start_time": "2022-12-09T08:20:41.815Z"
   },
   {
    "duration": 11717,
    "start_time": "2022-12-09T08:21:26.183Z"
   },
   {
    "duration": 17217,
    "start_time": "2022-12-09T08:22:12.455Z"
   },
   {
    "duration": 35268,
    "start_time": "2022-12-09T08:22:50.620Z"
   },
   {
    "duration": 167749,
    "start_time": "2022-12-09T08:23:44.383Z"
   },
   {
    "duration": 326833,
    "start_time": "2022-12-09T08:26:53.767Z"
   },
   {
    "duration": 196506,
    "start_time": "2022-12-09T08:36:45.216Z"
   },
   {
    "duration": 15,
    "start_time": "2022-12-09T08:43:21.638Z"
   },
   {
    "duration": 8226,
    "start_time": "2022-12-09T08:48:47.915Z"
   },
   {
    "duration": 3665,
    "start_time": "2022-12-09T09:16:25.834Z"
   },
   {
    "duration": 104,
    "start_time": "2022-12-09T09:16:29.502Z"
   },
   {
    "duration": 4,
    "start_time": "2022-12-09T09:22:15.830Z"
   },
   {
    "duration": 4,
    "start_time": "2022-12-09T09:37:45.260Z"
   },
   {
    "duration": 81,
    "start_time": "2022-12-09T10:14:28.432Z"
   },
   {
    "duration": 18665,
    "start_time": "2022-12-09T10:15:11.540Z"
   },
   {
    "duration": 18994,
    "start_time": "2022-12-09T10:29:59.587Z"
   },
   {
    "duration": 4,
    "start_time": "2022-12-09T10:30:20.799Z"
   },
   {
    "duration": 46551,
    "start_time": "2022-12-09T10:30:23.148Z"
   },
   {
    "duration": 124996,
    "start_time": "2022-12-09T10:56:11.302Z"
   },
   {
    "duration": 1283,
    "start_time": "2022-12-09T11:04:02.690Z"
   },
   {
    "duration": 41,
    "start_time": "2022-12-09T11:04:03.975Z"
   },
   {
    "duration": 16,
    "start_time": "2022-12-09T11:04:04.017Z"
   },
   {
    "duration": 16,
    "start_time": "2022-12-09T11:04:04.034Z"
   },
   {
    "duration": 12,
    "start_time": "2022-12-09T11:04:04.051Z"
   },
   {
    "duration": 11,
    "start_time": "2022-12-09T11:04:04.064Z"
   },
   {
    "duration": 7,
    "start_time": "2022-12-09T11:04:04.076Z"
   },
   {
    "duration": 13,
    "start_time": "2022-12-09T11:04:04.084Z"
   },
   {
    "duration": 4,
    "start_time": "2022-12-09T11:04:04.099Z"
   },
   {
    "duration": 11,
    "start_time": "2022-12-09T11:04:04.105Z"
   },
   {
    "duration": 9,
    "start_time": "2022-12-09T11:04:04.117Z"
   },
   {
    "duration": 6,
    "start_time": "2022-12-09T11:04:04.127Z"
   },
   {
    "duration": 26,
    "start_time": "2022-12-09T11:04:04.134Z"
   },
   {
    "duration": 36,
    "start_time": "2022-12-09T11:04:04.162Z"
   },
   {
    "duration": 30,
    "start_time": "2022-12-09T11:04:04.200Z"
   },
   {
    "duration": 124,
    "start_time": "2022-12-09T11:04:04.231Z"
   },
   {
    "duration": 39017,
    "start_time": "2022-12-09T11:04:04.357Z"
   },
   {
    "duration": 11,
    "start_time": "2022-12-09T11:04:43.375Z"
   },
   {
    "duration": 9,
    "start_time": "2022-12-09T11:04:43.397Z"
   },
   {
    "duration": 121632,
    "start_time": "2022-12-09T11:04:43.407Z"
   },
   {
    "duration": 182742,
    "start_time": "2022-12-09T11:06:45.040Z"
   },
   {
    "duration": 2976,
    "start_time": "2022-12-09T11:09:47.784Z"
   },
   {
    "duration": 10,
    "start_time": "2022-12-09T11:09:50.762Z"
   },
   {
    "duration": 16,
    "start_time": "2022-12-09T11:09:50.774Z"
   },
   {
    "duration": 7708,
    "start_time": "2022-12-09T11:09:50.791Z"
   },
   {
    "duration": 8600,
    "start_time": "2022-12-09T11:09:58.501Z"
   },
   {
    "duration": 3404,
    "start_time": "2022-12-09T11:10:07.103Z"
   },
   {
    "duration": 189,
    "start_time": "2022-12-09T11:10:10.511Z"
   },
   {
    "duration": 5,
    "start_time": "2022-12-09T11:10:10.701Z"
   },
   {
    "duration": 38604,
    "start_time": "2022-12-09T11:10:10.707Z"
   },
   {
    "duration": 3,
    "start_time": "2022-12-09T11:10:49.398Z"
   },
   {
    "duration": 5,
    "start_time": "2022-12-09T11:43:40.568Z"
   },
   {
    "duration": 112,
    "start_time": "2022-12-09T11:53:48.197Z"
   },
   {
    "duration": 59,
    "start_time": "2022-12-09T11:55:20.695Z"
   },
   {
    "duration": 76,
    "start_time": "2022-12-09T11:56:10.574Z"
   },
   {
    "duration": 592,
    "start_time": "2022-12-09T11:56:22.239Z"
   },
   {
    "duration": 639,
    "start_time": "2022-12-09T11:57:26.120Z"
   },
   {
    "duration": 576,
    "start_time": "2022-12-09T11:57:52.318Z"
   },
   {
    "duration": 120,
    "start_time": "2022-12-09T12:01:30.298Z"
   },
   {
    "duration": 11,
    "start_time": "2022-12-09T12:03:03.895Z"
   },
   {
    "duration": 4,
    "start_time": "2022-12-09T12:03:21.865Z"
   },
   {
    "duration": 13,
    "start_time": "2022-12-09T12:04:14.762Z"
   },
   {
    "duration": 12,
    "start_time": "2022-12-09T12:04:20.985Z"
   },
   {
    "duration": 4,
    "start_time": "2022-12-09T12:04:25.311Z"
   },
   {
    "duration": 61,
    "start_time": "2022-12-10T05:05:31.417Z"
   },
   {
    "duration": 6,
    "start_time": "2022-12-10T05:05:48.166Z"
   },
   {
    "duration": 7,
    "start_time": "2022-12-10T05:06:04.083Z"
   },
   {
    "duration": 8,
    "start_time": "2022-12-10T05:07:09.390Z"
   },
   {
    "duration": 1800,
    "start_time": "2022-12-10T05:07:17.281Z"
   },
   {
    "duration": 182,
    "start_time": "2022-12-10T05:07:19.084Z"
   },
   {
    "duration": 20,
    "start_time": "2022-12-10T05:07:19.269Z"
   },
   {
    "duration": 21,
    "start_time": "2022-12-10T05:07:19.292Z"
   },
   {
    "duration": 7,
    "start_time": "2022-12-10T05:07:19.318Z"
   },
   {
    "duration": 21,
    "start_time": "2022-12-10T05:07:19.329Z"
   },
   {
    "duration": 10,
    "start_time": "2022-12-10T05:07:19.352Z"
   },
   {
    "duration": 16,
    "start_time": "2022-12-10T05:07:19.364Z"
   },
   {
    "duration": 5,
    "start_time": "2022-12-10T05:07:19.382Z"
   },
   {
    "duration": 35,
    "start_time": "2022-12-10T05:07:19.390Z"
   },
   {
    "duration": 13,
    "start_time": "2022-12-10T05:07:19.430Z"
   },
   {
    "duration": 12,
    "start_time": "2022-12-10T05:07:19.446Z"
   },
   {
    "duration": 46,
    "start_time": "2022-12-10T05:07:19.460Z"
   },
   {
    "duration": 24,
    "start_time": "2022-12-10T05:07:19.508Z"
   },
   {
    "duration": 64,
    "start_time": "2022-12-10T05:07:19.539Z"
   },
   {
    "duration": 172,
    "start_time": "2022-12-10T05:07:19.605Z"
   },
   {
    "duration": 46472,
    "start_time": "2022-12-10T05:07:19.779Z"
   },
   {
    "duration": 16,
    "start_time": "2022-12-10T05:08:06.253Z"
   },
   {
    "duration": 13,
    "start_time": "2022-12-10T05:08:06.271Z"
   },
   {
    "duration": 142420,
    "start_time": "2022-12-10T05:08:06.286Z"
   },
   {
    "duration": 222741,
    "start_time": "2022-12-10T05:10:28.707Z"
   },
   {
    "duration": 3381,
    "start_time": "2022-12-10T05:14:11.450Z"
   },
   {
    "duration": 13,
    "start_time": "2022-12-10T05:14:14.834Z"
   },
   {
    "duration": 13,
    "start_time": "2022-12-10T05:14:14.849Z"
   },
   {
    "duration": 8719,
    "start_time": "2022-12-10T05:14:14.864Z"
   },
   {
    "duration": 9162,
    "start_time": "2022-12-10T05:14:23.585Z"
   },
   {
    "duration": 2168,
    "start_time": "2022-12-10T05:14:32.749Z"
   },
   {
    "duration": 23,
    "start_time": "2022-12-10T05:14:34.923Z"
   },
   {
    "duration": 40,
    "start_time": "2022-12-10T05:14:35.015Z"
   },
   {
    "duration": 51977,
    "start_time": "2022-12-10T05:14:35.056Z"
   },
   {
    "duration": 16,
    "start_time": "2022-12-10T05:15:27.035Z"
   },
   {
    "duration": 673,
    "start_time": "2022-12-10T05:15:27.053Z"
   },
   {
    "duration": 7,
    "start_time": "2022-12-10T05:15:27.733Z"
   },
   {
    "duration": 10,
    "start_time": "2022-12-10T05:15:27.741Z"
   },
   {
    "duration": 1701,
    "start_time": "2022-12-10T05:15:27.753Z"
   },
   {
    "duration": 0,
    "start_time": "2022-12-10T05:15:29.456Z"
   },
   {
    "duration": 0,
    "start_time": "2022-12-10T05:15:29.457Z"
   },
   {
    "duration": 1267,
    "start_time": "2022-12-10T05:23:07.438Z"
   },
   {
    "duration": 11,
    "start_time": "2022-12-10T05:23:43.629Z"
   },
   {
    "duration": 1263,
    "start_time": "2022-12-10T05:24:03.906Z"
   },
   {
    "duration": 13,
    "start_time": "2022-12-10T05:24:25.432Z"
   },
   {
    "duration": 21,
    "start_time": "2022-12-10T05:33:52.134Z"
   },
   {
    "duration": 7,
    "start_time": "2022-12-10T05:34:24.527Z"
   },
   {
    "duration": 5,
    "start_time": "2022-12-10T05:34:40.538Z"
   },
   {
    "duration": 7,
    "start_time": "2022-12-10T05:34:54.633Z"
   },
   {
    "duration": 19,
    "start_time": "2022-12-10T05:40:24.110Z"
   },
   {
    "duration": 842,
    "start_time": "2022-12-10T05:41:22.265Z"
   },
   {
    "duration": 850,
    "start_time": "2022-12-10T05:41:59.544Z"
   },
   {
    "duration": 854,
    "start_time": "2022-12-10T05:42:17.511Z"
   },
   {
    "duration": 131,
    "start_time": "2022-12-10T05:44:38.011Z"
   },
   {
    "duration": 28,
    "start_time": "2022-12-10T05:45:09.746Z"
   },
   {
    "duration": 119,
    "start_time": "2022-12-10T05:45:10.924Z"
   },
   {
    "duration": 16,
    "start_time": "2022-12-10T05:45:21.738Z"
   },
   {
    "duration": 130,
    "start_time": "2022-12-10T05:45:22.507Z"
   },
   {
    "duration": 13,
    "start_time": "2022-12-10T05:45:28.778Z"
   },
   {
    "duration": 117,
    "start_time": "2022-12-10T05:45:31.334Z"
   },
   {
    "duration": 5,
    "start_time": "2022-12-10T05:46:15.601Z"
   },
   {
    "duration": 6,
    "start_time": "2022-12-10T05:46:43.647Z"
   },
   {
    "duration": 7,
    "start_time": "2022-12-10T05:46:55.418Z"
   },
   {
    "duration": 8,
    "start_time": "2022-12-10T05:47:07.895Z"
   },
   {
    "duration": 5,
    "start_time": "2022-12-10T05:47:33.608Z"
   },
   {
    "duration": 6,
    "start_time": "2022-12-10T05:47:43.050Z"
   },
   {
    "duration": 5,
    "start_time": "2022-12-10T05:48:04.831Z"
   },
   {
    "duration": 8,
    "start_time": "2022-12-10T05:48:10.678Z"
   },
   {
    "duration": 4,
    "start_time": "2022-12-10T05:48:22.558Z"
   },
   {
    "duration": 5,
    "start_time": "2022-12-10T05:48:51.356Z"
   },
   {
    "duration": 4,
    "start_time": "2022-12-10T05:49:04.130Z"
   },
   {
    "duration": 4,
    "start_time": "2022-12-10T05:49:09.796Z"
   },
   {
    "duration": 5,
    "start_time": "2022-12-10T05:49:21.804Z"
   },
   {
    "duration": 6,
    "start_time": "2022-12-10T05:49:31.670Z"
   },
   {
    "duration": 4,
    "start_time": "2022-12-10T05:52:12.192Z"
   },
   {
    "duration": 14,
    "start_time": "2022-12-10T05:53:12.071Z"
   },
   {
    "duration": 13,
    "start_time": "2022-12-10T05:53:26.751Z"
   },
   {
    "duration": 12,
    "start_time": "2022-12-10T05:53:38.487Z"
   },
   {
    "duration": 14,
    "start_time": "2022-12-10T05:53:46.366Z"
   },
   {
    "duration": 4,
    "start_time": "2022-12-10T05:57:47.297Z"
   },
   {
    "duration": 17,
    "start_time": "2022-12-10T05:57:52.713Z"
   },
   {
    "duration": 6,
    "start_time": "2022-12-10T05:59:02.997Z"
   },
   {
    "duration": 6,
    "start_time": "2022-12-10T05:59:08.774Z"
   },
   {
    "duration": 1576,
    "start_time": "2022-12-10T05:59:32.493Z"
   },
   {
    "duration": 11,
    "start_time": "2022-12-10T05:59:46.230Z"
   },
   {
    "duration": 139,
    "start_time": "2022-12-10T06:00:51.516Z"
   },
   {
    "duration": 9,
    "start_time": "2022-12-10T06:01:36.460Z"
   },
   {
    "duration": 11,
    "start_time": "2022-12-10T06:02:49.953Z"
   },
   {
    "duration": 20,
    "start_time": "2022-12-10T06:03:05.096Z"
   },
   {
    "duration": 5,
    "start_time": "2022-12-10T06:04:30.352Z"
   },
   {
    "duration": 129,
    "start_time": "2022-12-10T06:04:57.485Z"
   },
   {
    "duration": 5,
    "start_time": "2022-12-10T06:04:58.702Z"
   },
   {
    "duration": 3,
    "start_time": "2022-12-10T06:05:01.405Z"
   },
   {
    "duration": 11,
    "start_time": "2022-12-10T06:05:10.790Z"
   },
   {
    "duration": 112,
    "start_time": "2022-12-10T06:05:11.618Z"
   },
   {
    "duration": 1618,
    "start_time": "2022-12-10T10:17:13.541Z"
   },
   {
    "duration": 412,
    "start_time": "2022-12-10T10:17:15.162Z"
   },
   {
    "duration": 17,
    "start_time": "2022-12-10T10:17:15.576Z"
   },
   {
    "duration": 24,
    "start_time": "2022-12-10T10:17:15.595Z"
   },
   {
    "duration": 20,
    "start_time": "2022-12-10T10:17:15.622Z"
   },
   {
    "duration": 16,
    "start_time": "2022-12-10T10:17:15.643Z"
   },
   {
    "duration": 19,
    "start_time": "2022-12-10T10:17:15.660Z"
   },
   {
    "duration": 14,
    "start_time": "2022-12-10T10:17:15.681Z"
   },
   {
    "duration": 10,
    "start_time": "2022-12-10T10:17:15.697Z"
   },
   {
    "duration": 46,
    "start_time": "2022-12-10T10:17:15.708Z"
   },
   {
    "duration": 16,
    "start_time": "2022-12-10T10:17:15.756Z"
   },
   {
    "duration": 24,
    "start_time": "2022-12-10T10:17:15.774Z"
   },
   {
    "duration": 69,
    "start_time": "2022-12-10T10:17:15.799Z"
   },
   {
    "duration": 11,
    "start_time": "2022-12-10T10:17:15.870Z"
   },
   {
    "duration": 47,
    "start_time": "2022-12-10T10:17:15.883Z"
   },
   {
    "duration": 140,
    "start_time": "2022-12-10T10:17:15.932Z"
   },
   {
    "duration": 46966,
    "start_time": "2022-12-10T10:17:16.074Z"
   },
   {
    "duration": 12,
    "start_time": "2022-12-10T10:18:03.043Z"
   },
   {
    "duration": 12,
    "start_time": "2022-12-10T10:18:03.056Z"
   },
   {
    "duration": 142981,
    "start_time": "2022-12-10T10:18:03.070Z"
   },
   {
    "duration": 215096,
    "start_time": "2022-12-10T10:20:26.053Z"
   },
   {
    "duration": 3381,
    "start_time": "2022-12-10T10:24:01.151Z"
   },
   {
    "duration": 11,
    "start_time": "2022-12-10T10:24:04.539Z"
   },
   {
    "duration": 30,
    "start_time": "2022-12-10T10:24:04.552Z"
   },
   {
    "duration": 8793,
    "start_time": "2022-12-10T10:24:04.584Z"
   },
   {
    "duration": 9148,
    "start_time": "2022-12-10T10:24:13.379Z"
   },
   {
    "duration": 2893,
    "start_time": "2022-12-10T10:24:22.529Z"
   },
   {
    "duration": 78,
    "start_time": "2022-12-10T10:24:25.439Z"
   },
   {
    "duration": 26,
    "start_time": "2022-12-10T10:24:25.519Z"
   },
   {
    "duration": 88376,
    "start_time": "2022-12-10T10:24:25.547Z"
   },
   {
    "duration": 215,
    "start_time": "2022-12-10T10:25:53.925Z"
   },
   {
    "duration": 6,
    "start_time": "2022-12-10T10:25:54.143Z"
   },
   {
    "duration": 7,
    "start_time": "2022-12-10T10:25:54.150Z"
   },
   {
    "duration": 14,
    "start_time": "2022-12-10T10:25:54.159Z"
   },
   {
    "duration": 132,
    "start_time": "2022-12-10T10:25:54.174Z"
   },
   {
    "duration": 16,
    "start_time": "2022-12-10T10:25:54.308Z"
   },
   {
    "duration": 20,
    "start_time": "2022-12-10T10:25:54.328Z"
   },
   {
    "duration": 6,
    "start_time": "2022-12-10T10:25:54.351Z"
   },
   {
    "duration": 4,
    "start_time": "2022-12-10T10:53:11.941Z"
   },
   {
    "duration": 1709,
    "start_time": "2022-12-10T11:03:29.833Z"
   },
   {
    "duration": 47,
    "start_time": "2022-12-10T11:03:31.554Z"
   },
   {
    "duration": 38,
    "start_time": "2022-12-10T11:03:31.604Z"
   },
   {
    "duration": 25,
    "start_time": "2022-12-10T11:03:31.647Z"
   },
   {
    "duration": 7,
    "start_time": "2022-12-10T11:03:31.674Z"
   },
   {
    "duration": 10,
    "start_time": "2022-12-10T11:03:31.683Z"
   },
   {
    "duration": 8,
    "start_time": "2022-12-10T11:03:31.695Z"
   },
   {
    "duration": 18,
    "start_time": "2022-12-10T11:03:31.705Z"
   },
   {
    "duration": 36,
    "start_time": "2022-12-10T11:03:31.725Z"
   },
   {
    "duration": 9,
    "start_time": "2022-12-10T11:03:31.766Z"
   },
   {
    "duration": 10,
    "start_time": "2022-12-10T11:03:31.777Z"
   },
   {
    "duration": 13,
    "start_time": "2022-12-10T11:03:31.788Z"
   },
   {
    "duration": 50,
    "start_time": "2022-12-10T11:03:31.803Z"
   },
   {
    "duration": 15,
    "start_time": "2022-12-10T11:03:31.855Z"
   },
   {
    "duration": 55,
    "start_time": "2022-12-10T11:03:31.873Z"
   },
   {
    "duration": 199,
    "start_time": "2022-12-10T11:03:31.931Z"
   },
   {
    "duration": 51396,
    "start_time": "2022-12-10T11:03:32.133Z"
   },
   {
    "duration": 21,
    "start_time": "2022-12-10T11:04:23.530Z"
   },
   {
    "duration": 26,
    "start_time": "2022-12-10T11:04:23.554Z"
   },
   {
    "duration": 151276,
    "start_time": "2022-12-10T11:04:23.582Z"
   },
   {
    "duration": 222682,
    "start_time": "2022-12-10T11:06:54.860Z"
   },
   {
    "duration": 3413,
    "start_time": "2022-12-10T11:10:37.544Z"
   },
   {
    "duration": 11,
    "start_time": "2022-12-10T11:10:40.959Z"
   },
   {
    "duration": 17,
    "start_time": "2022-12-10T11:10:40.973Z"
   },
   {
    "duration": 9086,
    "start_time": "2022-12-10T11:10:40.992Z"
   },
   {
    "duration": 9503,
    "start_time": "2022-12-10T11:10:50.079Z"
   },
   {
    "duration": 3029,
    "start_time": "2022-12-10T11:10:59.584Z"
   },
   {
    "duration": 81,
    "start_time": "2022-12-10T11:11:02.641Z"
   },
   {
    "duration": 36,
    "start_time": "2022-12-10T11:11:02.725Z"
   },
   {
    "duration": 42390,
    "start_time": "2022-12-10T11:11:02.762Z"
   },
   {
    "duration": 11,
    "start_time": "2022-12-10T11:11:45.224Z"
   },
   {
    "duration": 27,
    "start_time": "2022-12-10T11:11:45.237Z"
   },
   {
    "duration": 116,
    "start_time": "2022-12-10T11:11:45.266Z"
   },
   {
    "duration": 183,
    "start_time": "2022-12-10T11:11:45.384Z"
   },
   {
    "duration": 0,
    "start_time": "2022-12-10T11:11:45.569Z"
   },
   {
    "duration": 0,
    "start_time": "2022-12-10T11:11:45.570Z"
   },
   {
    "duration": 0,
    "start_time": "2022-12-10T11:11:45.571Z"
   },
   {
    "duration": 0,
    "start_time": "2022-12-10T11:11:45.573Z"
   },
   {
    "duration": 0,
    "start_time": "2022-12-10T11:11:45.574Z"
   },
   {
    "duration": 0,
    "start_time": "2022-12-10T11:11:45.575Z"
   },
   {
    "duration": 0,
    "start_time": "2022-12-10T11:11:45.576Z"
   },
   {
    "duration": 0,
    "start_time": "2022-12-10T11:11:45.577Z"
   },
   {
    "duration": 0,
    "start_time": "2022-12-10T11:11:45.578Z"
   },
   {
    "duration": 0,
    "start_time": "2022-12-10T11:11:45.579Z"
   },
   {
    "duration": 0,
    "start_time": "2022-12-10T11:11:45.581Z"
   },
   {
    "duration": 0,
    "start_time": "2022-12-10T11:11:45.583Z"
   },
   {
    "duration": 0,
    "start_time": "2022-12-10T11:11:45.584Z"
   },
   {
    "duration": 0,
    "start_time": "2022-12-10T11:11:45.615Z"
   },
   {
    "duration": 0,
    "start_time": "2022-12-10T11:11:45.616Z"
   },
   {
    "duration": 10,
    "start_time": "2022-12-10T11:21:11.712Z"
   },
   {
    "duration": 5,
    "start_time": "2022-12-10T11:21:14.837Z"
   },
   {
    "duration": 20,
    "start_time": "2022-12-10T11:24:37.234Z"
   },
   {
    "duration": 9,
    "start_time": "2022-12-10T11:25:25.501Z"
   },
   {
    "duration": 5,
    "start_time": "2022-12-10T11:25:32.181Z"
   },
   {
    "duration": 16,
    "start_time": "2022-12-10T11:25:41.751Z"
   },
   {
    "duration": 23,
    "start_time": "2022-12-10T11:26:49.139Z"
   },
   {
    "duration": 6,
    "start_time": "2022-12-10T11:28:00.875Z"
   },
   {
    "duration": 13,
    "start_time": "2022-12-10T11:28:01.490Z"
   },
   {
    "duration": 6,
    "start_time": "2022-12-10T11:28:02.040Z"
   },
   {
    "duration": 4,
    "start_time": "2022-12-10T11:28:02.489Z"
   },
   {
    "duration": 113,
    "start_time": "2022-12-10T11:28:03.354Z"
   },
   {
    "duration": 15,
    "start_time": "2022-12-10T11:28:05.136Z"
   },
   {
    "duration": 5,
    "start_time": "2022-12-10T11:28:05.682Z"
   },
   {
    "duration": 21,
    "start_time": "2022-12-10T11:28:06.401Z"
   },
   {
    "duration": 31,
    "start_time": "2022-12-10T11:28:11.250Z"
   },
   {
    "duration": 71405,
    "start_time": "2022-12-10T11:28:17.377Z"
   },
   {
    "duration": 22,
    "start_time": "2022-12-10T11:30:54.856Z"
   },
   {
    "duration": 9,
    "start_time": "2022-12-10T11:35:23.537Z"
   },
   {
    "duration": 21,
    "start_time": "2022-12-10T11:35:25.241Z"
   },
   {
    "duration": 4,
    "start_time": "2022-12-10T11:35:25.895Z"
   },
   {
    "duration": 6,
    "start_time": "2022-12-10T11:35:26.542Z"
   },
   {
    "duration": 119,
    "start_time": "2022-12-10T11:35:27.060Z"
   },
   {
    "duration": 9,
    "start_time": "2022-12-10T11:35:29.296Z"
   },
   {
    "duration": 6,
    "start_time": "2022-12-10T11:35:29.959Z"
   },
   {
    "duration": 72029,
    "start_time": "2022-12-10T11:35:36.033Z"
   },
   {
    "duration": 15,
    "start_time": "2022-12-10T11:36:48.065Z"
   },
   {
    "duration": 1834,
    "start_time": "2022-12-10T11:37:23.374Z"
   },
   {
    "duration": 65,
    "start_time": "2022-12-10T11:37:25.209Z"
   },
   {
    "duration": 17,
    "start_time": "2022-12-10T11:37:25.276Z"
   },
   {
    "duration": 23,
    "start_time": "2022-12-10T11:37:25.296Z"
   },
   {
    "duration": 19,
    "start_time": "2022-12-10T11:37:25.327Z"
   },
   {
    "duration": 22,
    "start_time": "2022-12-10T11:37:25.347Z"
   },
   {
    "duration": 13,
    "start_time": "2022-12-10T11:37:25.371Z"
   },
   {
    "duration": 14,
    "start_time": "2022-12-10T11:37:25.386Z"
   },
   {
    "duration": 5,
    "start_time": "2022-12-10T11:37:25.402Z"
   },
   {
    "duration": 60,
    "start_time": "2022-12-10T11:37:25.413Z"
   },
   {
    "duration": 8,
    "start_time": "2022-12-10T11:37:25.475Z"
   },
   {
    "duration": 7,
    "start_time": "2022-12-10T11:37:25.484Z"
   },
   {
    "duration": 47,
    "start_time": "2022-12-10T11:37:25.493Z"
   },
   {
    "duration": 33,
    "start_time": "2022-12-10T11:37:25.543Z"
   },
   {
    "duration": 53,
    "start_time": "2022-12-10T11:37:25.578Z"
   },
   {
    "duration": 160,
    "start_time": "2022-12-10T11:37:25.633Z"
   },
   {
    "duration": 50375,
    "start_time": "2022-12-10T11:37:25.795Z"
   },
   {
    "duration": 11,
    "start_time": "2022-12-10T11:38:16.172Z"
   },
   {
    "duration": 12,
    "start_time": "2022-12-10T11:38:16.185Z"
   },
   {
    "duration": 151876,
    "start_time": "2022-12-10T11:38:16.199Z"
   },
   {
    "duration": 238997,
    "start_time": "2022-12-10T11:40:48.076Z"
   },
   {
    "duration": 3637,
    "start_time": "2022-12-10T11:44:47.075Z"
   },
   {
    "duration": 27,
    "start_time": "2022-12-10T11:44:50.728Z"
   },
   {
    "duration": 41,
    "start_time": "2022-12-10T11:44:50.762Z"
   },
   {
    "duration": 9068,
    "start_time": "2022-12-10T11:44:50.805Z"
   },
   {
    "duration": 9578,
    "start_time": "2022-12-10T11:44:59.875Z"
   },
   {
    "duration": 3462,
    "start_time": "2022-12-10T11:45:09.456Z"
   },
   {
    "duration": 97,
    "start_time": "2022-12-10T11:45:12.934Z"
   },
   {
    "duration": 26,
    "start_time": "2022-12-10T11:45:13.034Z"
   },
   {
    "duration": 57970,
    "start_time": "2022-12-10T11:45:13.062Z"
   },
   {
    "duration": 82,
    "start_time": "2022-12-10T11:46:11.034Z"
   },
   {
    "duration": 72,
    "start_time": "2022-12-10T11:46:11.118Z"
   },
   {
    "duration": 46,
    "start_time": "2022-12-10T11:46:11.192Z"
   },
   {
    "duration": 29,
    "start_time": "2022-12-10T11:46:11.241Z"
   },
   {
    "duration": 136,
    "start_time": "2022-12-10T11:46:11.273Z"
   },
   {
    "duration": 18,
    "start_time": "2022-12-10T11:46:11.411Z"
   },
   {
    "duration": 51,
    "start_time": "2022-12-10T11:46:11.433Z"
   },
   {
    "duration": 72255,
    "start_time": "2022-12-10T11:46:11.486Z"
   },
   {
    "duration": 17,
    "start_time": "2022-12-10T11:47:23.743Z"
   },
   {
    "duration": 244803,
    "start_time": "2022-12-10T11:47:23.763Z"
   },
   {
    "duration": 324994,
    "start_time": "2022-12-10T11:51:28.567Z"
   },
   {
    "duration": 4781,
    "start_time": "2022-12-10T11:56:53.563Z"
   },
   {
    "duration": 13,
    "start_time": "2022-12-10T11:56:58.346Z"
   },
   {
    "duration": 12486,
    "start_time": "2022-12-10T11:56:58.361Z"
   },
   {
    "duration": 13016,
    "start_time": "2022-12-10T11:57:10.848Z"
   },
   {
    "duration": 3551,
    "start_time": "2022-12-10T11:57:23.866Z"
   },
   {
    "duration": 100,
    "start_time": "2022-12-10T11:57:27.419Z"
   },
   {
    "duration": 287,
    "start_time": "2022-12-10T11:57:27.524Z"
   },
   {
    "duration": 2,
    "start_time": "2022-12-10T11:57:27.815Z"
   },
   {
    "duration": 92,
    "start_time": "2022-12-10T11:57:27.819Z"
   },
   {
    "duration": 70840,
    "start_time": "2022-12-10T11:58:33.211Z"
   },
   {
    "duration": 1446,
    "start_time": "2022-12-10T12:09:29.810Z"
   },
   {
    "duration": 430,
    "start_time": "2022-12-10T12:10:33.574Z"
   },
   {
    "duration": 1367,
    "start_time": "2022-12-10T12:10:49.283Z"
   },
   {
    "duration": 952,
    "start_time": "2022-12-10T12:15:15.604Z"
   },
   {
    "duration": 43,
    "start_time": "2022-12-10T17:16:16.611Z"
   },
   {
    "duration": 2,
    "start_time": "2022-12-10T17:24:16.216Z"
   },
   {
    "duration": 1861,
    "start_time": "2022-12-10T17:30:00.359Z"
   },
   {
    "duration": 1471,
    "start_time": "2022-12-10T17:32:22.567Z"
   },
   {
    "duration": 97,
    "start_time": "2022-12-10T17:32:24.040Z"
   },
   {
    "duration": 18,
    "start_time": "2022-12-10T17:32:24.139Z"
   },
   {
    "duration": 15,
    "start_time": "2022-12-10T17:32:24.159Z"
   },
   {
    "duration": 10,
    "start_time": "2022-12-10T17:32:24.177Z"
   },
   {
    "duration": 18,
    "start_time": "2022-12-10T17:32:24.188Z"
   },
   {
    "duration": 10,
    "start_time": "2022-12-10T17:32:24.208Z"
   },
   {
    "duration": 15,
    "start_time": "2022-12-10T17:32:24.220Z"
   },
   {
    "duration": 5,
    "start_time": "2022-12-10T17:32:24.237Z"
   },
   {
    "duration": 13,
    "start_time": "2022-12-10T17:32:24.243Z"
   },
   {
    "duration": 7,
    "start_time": "2022-12-10T17:32:24.258Z"
   },
   {
    "duration": 19,
    "start_time": "2022-12-10T17:32:24.267Z"
   },
   {
    "duration": 33,
    "start_time": "2022-12-10T17:32:24.293Z"
   },
   {
    "duration": 12,
    "start_time": "2022-12-10T17:32:24.329Z"
   },
   {
    "duration": 51,
    "start_time": "2022-12-10T17:32:24.343Z"
   },
   {
    "duration": 157,
    "start_time": "2022-12-10T17:32:24.395Z"
   },
   {
    "duration": 49210,
    "start_time": "2022-12-10T17:32:24.554Z"
   },
   {
    "duration": 17,
    "start_time": "2022-12-10T17:33:13.766Z"
   },
   {
    "duration": 21,
    "start_time": "2022-12-10T17:33:13.787Z"
   },
   {
    "duration": 146817,
    "start_time": "2022-12-10T17:33:13.810Z"
   },
   {
    "duration": 216617,
    "start_time": "2022-12-10T17:35:40.629Z"
   },
   {
    "duration": 3560,
    "start_time": "2022-12-10T17:39:17.248Z"
   },
   {
    "duration": 12,
    "start_time": "2022-12-10T17:39:20.810Z"
   },
   {
    "duration": 10,
    "start_time": "2022-12-10T17:39:20.825Z"
   },
   {
    "duration": 9006,
    "start_time": "2022-12-10T17:39:20.837Z"
   },
   {
    "duration": 9256,
    "start_time": "2022-12-10T17:39:29.845Z"
   },
   {
    "duration": 3001,
    "start_time": "2022-12-10T17:39:39.103Z"
   },
   {
    "duration": 89,
    "start_time": "2022-12-10T17:39:42.106Z"
   },
   {
    "duration": 12,
    "start_time": "2022-12-10T17:39:42.197Z"
   },
   {
    "duration": 54379,
    "start_time": "2022-12-10T17:39:42.211Z"
   },
   {
    "duration": 10,
    "start_time": "2022-12-10T17:40:36.593Z"
   },
   {
    "duration": 14,
    "start_time": "2022-12-10T17:40:36.604Z"
   },
   {
    "duration": 138,
    "start_time": "2022-12-10T17:40:36.620Z"
   },
   {
    "duration": 25,
    "start_time": "2022-12-10T17:40:36.761Z"
   },
   {
    "duration": 16,
    "start_time": "2022-12-10T17:40:36.788Z"
   },
   {
    "duration": 70706,
    "start_time": "2022-12-10T17:40:36.806Z"
   },
   {
    "duration": 13,
    "start_time": "2022-12-10T17:41:47.514Z"
   },
   {
    "duration": 234841,
    "start_time": "2022-12-10T17:41:47.528Z"
   },
   {
    "duration": 316219,
    "start_time": "2022-12-10T17:45:42.371Z"
   },
   {
    "duration": 4698,
    "start_time": "2022-12-10T17:50:58.600Z"
   },
   {
    "duration": 11,
    "start_time": "2022-12-10T17:51:03.303Z"
   },
   {
    "duration": 12251,
    "start_time": "2022-12-10T17:51:03.316Z"
   },
   {
    "duration": 12419,
    "start_time": "2022-12-10T17:51:15.569Z"
   },
   {
    "duration": 3487,
    "start_time": "2022-12-10T17:51:27.992Z"
   },
   {
    "duration": 17,
    "start_time": "2022-12-10T17:51:31.481Z"
   },
   {
    "duration": 73090,
    "start_time": "2022-12-10T17:51:31.500Z"
   },
   {
    "duration": 903,
    "start_time": "2022-12-10T17:52:44.595Z"
   },
   {
    "duration": 179,
    "start_time": "2022-12-10T17:52:45.500Z"
   },
   {
    "duration": 10,
    "start_time": "2022-12-10T17:52:45.680Z"
   },
   {
    "duration": 11,
    "start_time": "2022-12-10T17:53:59.477Z"
   },
   {
    "duration": 9,
    "start_time": "2022-12-10T17:54:49.679Z"
   },
   {
    "duration": 1686,
    "start_time": "2022-12-10T18:15:02.405Z"
   },
   {
    "duration": 46,
    "start_time": "2022-12-10T18:15:04.100Z"
   },
   {
    "duration": 20,
    "start_time": "2022-12-10T18:15:04.148Z"
   },
   {
    "duration": 26,
    "start_time": "2022-12-10T18:15:04.170Z"
   },
   {
    "duration": 14,
    "start_time": "2022-12-10T18:15:04.203Z"
   },
   {
    "duration": 6,
    "start_time": "2022-12-10T18:15:04.218Z"
   },
   {
    "duration": 18,
    "start_time": "2022-12-10T18:15:04.227Z"
   },
   {
    "duration": 15,
    "start_time": "2022-12-10T18:15:04.247Z"
   },
   {
    "duration": 6,
    "start_time": "2022-12-10T18:15:04.264Z"
   },
   {
    "duration": 12,
    "start_time": "2022-12-10T18:15:04.280Z"
   },
   {
    "duration": 25,
    "start_time": "2022-12-10T18:15:04.294Z"
   },
   {
    "duration": 19,
    "start_time": "2022-12-10T18:15:04.321Z"
   },
   {
    "duration": 37,
    "start_time": "2022-12-10T18:15:04.342Z"
   },
   {
    "duration": 16,
    "start_time": "2022-12-10T18:15:04.384Z"
   },
   {
    "duration": 47,
    "start_time": "2022-12-10T18:15:04.402Z"
   },
   {
    "duration": 168,
    "start_time": "2022-12-10T18:15:04.451Z"
   },
   {
    "duration": 49295,
    "start_time": "2022-12-10T18:15:04.621Z"
   },
   {
    "duration": 17,
    "start_time": "2022-12-10T18:15:53.919Z"
   },
   {
    "duration": 19,
    "start_time": "2022-12-10T18:15:53.939Z"
   },
   {
    "duration": 145901,
    "start_time": "2022-12-10T18:15:53.961Z"
   },
   {
    "duration": 233807,
    "start_time": "2022-12-10T18:18:19.864Z"
   },
   {
    "duration": 3458,
    "start_time": "2022-12-10T18:22:13.677Z"
   },
   {
    "duration": 11,
    "start_time": "2022-12-10T18:22:17.138Z"
   },
   {
    "duration": 59,
    "start_time": "2022-12-10T18:22:17.150Z"
   },
   {
    "duration": 9116,
    "start_time": "2022-12-10T18:22:17.211Z"
   },
   {
    "duration": 9258,
    "start_time": "2022-12-10T18:22:26.330Z"
   },
   {
    "duration": 3100,
    "start_time": "2022-12-10T18:22:35.592Z"
   },
   {
    "duration": 184,
    "start_time": "2022-12-10T18:22:38.699Z"
   },
   {
    "duration": 16,
    "start_time": "2022-12-10T18:22:38.889Z"
   },
   {
    "duration": 52178,
    "start_time": "2022-12-10T18:22:38.907Z"
   },
   {
    "duration": 8,
    "start_time": "2022-12-10T18:23:31.090Z"
   },
   {
    "duration": 30,
    "start_time": "2022-12-10T18:23:31.100Z"
   },
   {
    "duration": 129,
    "start_time": "2022-12-10T18:23:31.133Z"
   },
   {
    "duration": 28,
    "start_time": "2022-12-10T18:23:31.264Z"
   },
   {
    "duration": 19,
    "start_time": "2022-12-10T18:23:31.294Z"
   },
   {
    "duration": 70350,
    "start_time": "2022-12-10T18:23:31.316Z"
   },
   {
    "duration": 27,
    "start_time": "2022-12-10T18:24:41.668Z"
   },
   {
    "duration": 227221,
    "start_time": "2022-12-10T18:24:41.698Z"
   },
   {
    "duration": 311076,
    "start_time": "2022-12-10T18:28:28.921Z"
   },
   {
    "duration": 4651,
    "start_time": "2022-12-10T18:33:39.999Z"
   },
   {
    "duration": 13,
    "start_time": "2022-12-10T18:33:44.652Z"
   },
   {
    "duration": 12198,
    "start_time": "2022-12-10T18:33:44.677Z"
   },
   {
    "duration": 12493,
    "start_time": "2022-12-10T18:33:56.878Z"
   },
   {
    "duration": 3506,
    "start_time": "2022-12-10T18:34:09.373Z"
   },
   {
    "duration": 103,
    "start_time": "2022-12-10T18:34:12.885Z"
   },
   {
    "duration": 63712,
    "start_time": "2022-12-10T18:34:12.990Z"
   },
   {
    "duration": 956,
    "start_time": "2022-12-10T18:35:16.704Z"
   },
   {
    "duration": 206,
    "start_time": "2022-12-10T18:35:17.663Z"
   },
   {
    "duration": 15,
    "start_time": "2022-12-10T18:35:17.872Z"
   },
   {
    "duration": 30,
    "start_time": "2022-12-10T18:35:17.894Z"
   },
   {
    "duration": 1474,
    "start_time": "2022-12-11T17:24:03.483Z"
   },
   {
    "duration": 47,
    "start_time": "2022-12-11T17:24:04.959Z"
   },
   {
    "duration": 18,
    "start_time": "2022-12-11T17:24:05.007Z"
   },
   {
    "duration": 13,
    "start_time": "2022-12-11T17:24:05.027Z"
   },
   {
    "duration": 13,
    "start_time": "2022-12-11T17:24:05.042Z"
   },
   {
    "duration": 10,
    "start_time": "2022-12-11T17:24:05.057Z"
   },
   {
    "duration": 9,
    "start_time": "2022-12-11T17:24:05.069Z"
   },
   {
    "duration": 16,
    "start_time": "2022-12-11T17:24:05.080Z"
   },
   {
    "duration": 7,
    "start_time": "2022-12-11T17:24:05.098Z"
   },
   {
    "duration": 10,
    "start_time": "2022-12-11T17:24:05.107Z"
   },
   {
    "duration": 10,
    "start_time": "2022-12-11T17:24:05.119Z"
   },
   {
    "duration": 5,
    "start_time": "2022-12-11T17:24:05.131Z"
   },
   {
    "duration": 42,
    "start_time": "2022-12-11T17:24:05.138Z"
   },
   {
    "duration": 9,
    "start_time": "2022-12-11T17:24:05.181Z"
   },
   {
    "duration": 24,
    "start_time": "2022-12-11T17:24:05.192Z"
   },
   {
    "duration": 226,
    "start_time": "2022-12-11T17:24:05.218Z"
   },
   {
    "duration": 43846,
    "start_time": "2022-12-11T17:24:05.446Z"
   },
   {
    "duration": 10,
    "start_time": "2022-12-11T17:24:49.294Z"
   },
   {
    "duration": 13,
    "start_time": "2022-12-11T17:24:49.305Z"
   },
   {
    "duration": 130327,
    "start_time": "2022-12-11T17:24:49.320Z"
   },
   {
    "duration": 206296,
    "start_time": "2022-12-11T17:26:59.649Z"
   },
   {
    "duration": 3179,
    "start_time": "2022-12-11T17:30:25.947Z"
   },
   {
    "duration": 10,
    "start_time": "2022-12-11T17:30:29.128Z"
   },
   {
    "duration": 36,
    "start_time": "2022-12-11T17:30:29.139Z"
   },
   {
    "duration": 7258,
    "start_time": "2022-12-11T17:30:29.177Z"
   },
   {
    "duration": 7459,
    "start_time": "2022-12-11T17:30:36.437Z"
   },
   {
    "duration": 3283,
    "start_time": "2022-12-11T17:30:43.898Z"
   },
   {
    "duration": 102,
    "start_time": "2022-12-11T17:30:47.186Z"
   },
   {
    "duration": 7,
    "start_time": "2022-12-11T17:30:47.290Z"
   },
   {
    "duration": 28080,
    "start_time": "2022-12-11T17:30:47.299Z"
   },
   {
    "duration": 5,
    "start_time": "2022-12-11T17:31:15.380Z"
   },
   {
    "duration": 15,
    "start_time": "2022-12-11T17:31:15.387Z"
   },
   {
    "duration": 223,
    "start_time": "2022-12-11T17:31:15.405Z"
   },
   {
    "duration": 9,
    "start_time": "2022-12-11T17:31:15.630Z"
   },
   {
    "duration": 6,
    "start_time": "2022-12-11T17:31:15.640Z"
   },
   {
    "duration": 63933,
    "start_time": "2022-12-11T17:31:15.647Z"
   },
   {
    "duration": 10,
    "start_time": "2022-12-11T17:32:19.581Z"
   },
   {
    "duration": 210271,
    "start_time": "2022-12-11T17:32:19.593Z"
   },
   {
    "duration": 357071,
    "start_time": "2022-12-11T17:35:49.866Z"
   },
   {
    "duration": 4129,
    "start_time": "2022-12-11T17:41:46.938Z"
   },
   {
    "duration": 16,
    "start_time": "2022-12-11T17:41:51.068Z"
   },
   {
    "duration": 10107,
    "start_time": "2022-12-11T17:41:51.085Z"
   },
   {
    "duration": 10716,
    "start_time": "2022-12-11T17:42:01.194Z"
   },
   {
    "duration": 3876,
    "start_time": "2022-12-11T17:42:11.912Z"
   },
   {
    "duration": 190,
    "start_time": "2022-12-11T17:42:15.789Z"
   },
   {
    "duration": 36302,
    "start_time": "2022-12-11T17:42:15.981Z"
   },
   {
    "duration": 842,
    "start_time": "2022-12-11T17:42:52.285Z"
   },
   {
    "duration": 298,
    "start_time": "2022-12-11T17:42:53.128Z"
   },
   {
    "duration": 6,
    "start_time": "2022-12-11T17:42:53.428Z"
   },
   {
    "duration": 8,
    "start_time": "2022-12-11T17:42:53.435Z"
   },
   {
    "duration": 1511,
    "start_time": "2022-12-12T00:32:06.871Z"
   },
   {
    "duration": 0,
    "start_time": "2022-12-12T00:32:08.385Z"
   },
   {
    "duration": 0,
    "start_time": "2022-12-12T00:32:08.386Z"
   },
   {
    "duration": 0,
    "start_time": "2022-12-12T00:32:08.387Z"
   },
   {
    "duration": 0,
    "start_time": "2022-12-12T00:32:08.388Z"
   },
   {
    "duration": 0,
    "start_time": "2022-12-12T00:32:08.389Z"
   },
   {
    "duration": 0,
    "start_time": "2022-12-12T00:32:08.390Z"
   },
   {
    "duration": 0,
    "start_time": "2022-12-12T00:32:08.391Z"
   },
   {
    "duration": 0,
    "start_time": "2022-12-12T00:32:08.392Z"
   },
   {
    "duration": 0,
    "start_time": "2022-12-12T00:32:08.393Z"
   },
   {
    "duration": 0,
    "start_time": "2022-12-12T00:32:08.394Z"
   },
   {
    "duration": 0,
    "start_time": "2022-12-12T00:32:08.395Z"
   },
   {
    "duration": 0,
    "start_time": "2022-12-12T00:32:08.396Z"
   },
   {
    "duration": 0,
    "start_time": "2022-12-12T00:32:08.397Z"
   },
   {
    "duration": 0,
    "start_time": "2022-12-12T00:32:08.397Z"
   },
   {
    "duration": 0,
    "start_time": "2022-12-12T00:32:08.415Z"
   },
   {
    "duration": 0,
    "start_time": "2022-12-12T00:32:08.416Z"
   },
   {
    "duration": 0,
    "start_time": "2022-12-12T00:32:08.417Z"
   },
   {
    "duration": 0,
    "start_time": "2022-12-12T00:32:08.418Z"
   },
   {
    "duration": 0,
    "start_time": "2022-12-12T00:32:08.419Z"
   },
   {
    "duration": 0,
    "start_time": "2022-12-12T00:32:08.420Z"
   },
   {
    "duration": 0,
    "start_time": "2022-12-12T00:32:08.421Z"
   },
   {
    "duration": 0,
    "start_time": "2022-12-12T00:32:08.423Z"
   },
   {
    "duration": 0,
    "start_time": "2022-12-12T00:32:08.424Z"
   },
   {
    "duration": 0,
    "start_time": "2022-12-12T00:32:08.425Z"
   },
   {
    "duration": 0,
    "start_time": "2022-12-12T00:32:08.426Z"
   },
   {
    "duration": 0,
    "start_time": "2022-12-12T00:32:08.427Z"
   },
   {
    "duration": 0,
    "start_time": "2022-12-12T00:32:08.428Z"
   },
   {
    "duration": 0,
    "start_time": "2022-12-12T00:32:08.429Z"
   },
   {
    "duration": 0,
    "start_time": "2022-12-12T00:32:08.430Z"
   },
   {
    "duration": 0,
    "start_time": "2022-12-12T00:32:08.431Z"
   },
   {
    "duration": 0,
    "start_time": "2022-12-12T00:32:08.433Z"
   },
   {
    "duration": 0,
    "start_time": "2022-12-12T00:32:08.434Z"
   },
   {
    "duration": 0,
    "start_time": "2022-12-12T00:32:08.435Z"
   },
   {
    "duration": 0,
    "start_time": "2022-12-12T00:32:08.436Z"
   },
   {
    "duration": 0,
    "start_time": "2022-12-12T00:32:08.437Z"
   },
   {
    "duration": 0,
    "start_time": "2022-12-12T00:32:08.438Z"
   },
   {
    "duration": 0,
    "start_time": "2022-12-12T00:32:08.439Z"
   },
   {
    "duration": 0,
    "start_time": "2022-12-12T00:32:08.440Z"
   },
   {
    "duration": 0,
    "start_time": "2022-12-12T00:32:08.441Z"
   },
   {
    "duration": 0,
    "start_time": "2022-12-12T00:32:08.443Z"
   },
   {
    "duration": 0,
    "start_time": "2022-12-12T00:32:08.444Z"
   },
   {
    "duration": 0,
    "start_time": "2022-12-12T00:32:08.445Z"
   },
   {
    "duration": 0,
    "start_time": "2022-12-12T00:32:08.446Z"
   },
   {
    "duration": 0,
    "start_time": "2022-12-12T00:32:08.447Z"
   },
   {
    "duration": 0,
    "start_time": "2022-12-12T00:32:08.448Z"
   },
   {
    "duration": 0,
    "start_time": "2022-12-12T00:32:08.449Z"
   },
   {
    "duration": 0,
    "start_time": "2022-12-12T00:32:08.450Z"
   },
   {
    "duration": 0,
    "start_time": "2022-12-12T00:32:08.516Z"
   },
   {
    "duration": 0,
    "start_time": "2022-12-12T00:32:08.517Z"
   },
   {
    "duration": 48,
    "start_time": "2022-12-12T00:38:54.547Z"
   },
   {
    "duration": 12,
    "start_time": "2022-12-12T00:39:47.056Z"
   },
   {
    "duration": 12,
    "start_time": "2022-12-12T00:41:36.113Z"
   },
   {
    "duration": 47,
    "start_time": "2022-12-12T00:44:49.612Z"
   },
   {
    "duration": 9883,
    "start_time": "2022-12-12T00:49:58.925Z"
   },
   {
    "duration": 1747,
    "start_time": "2022-12-12T00:50:14.989Z"
   },
   {
    "duration": 3062,
    "start_time": "2022-12-12T00:50:46.195Z"
   },
   {
    "duration": 0,
    "start_time": "2022-12-12T00:50:49.260Z"
   },
   {
    "duration": 1,
    "start_time": "2022-12-12T00:50:49.261Z"
   },
   {
    "duration": 0,
    "start_time": "2022-12-12T00:50:49.263Z"
   },
   {
    "duration": 0,
    "start_time": "2022-12-12T00:50:49.263Z"
   },
   {
    "duration": 0,
    "start_time": "2022-12-12T00:50:49.264Z"
   },
   {
    "duration": 0,
    "start_time": "2022-12-12T00:50:49.265Z"
   },
   {
    "duration": 0,
    "start_time": "2022-12-12T00:50:49.266Z"
   },
   {
    "duration": 0,
    "start_time": "2022-12-12T00:50:49.267Z"
   },
   {
    "duration": 0,
    "start_time": "2022-12-12T00:50:49.268Z"
   },
   {
    "duration": 0,
    "start_time": "2022-12-12T00:50:49.269Z"
   },
   {
    "duration": 0,
    "start_time": "2022-12-12T00:50:49.270Z"
   },
   {
    "duration": 0,
    "start_time": "2022-12-12T00:50:49.271Z"
   },
   {
    "duration": 0,
    "start_time": "2022-12-12T00:50:49.272Z"
   },
   {
    "duration": 0,
    "start_time": "2022-12-12T00:50:49.273Z"
   },
   {
    "duration": 0,
    "start_time": "2022-12-12T00:50:49.274Z"
   },
   {
    "duration": 0,
    "start_time": "2022-12-12T00:50:49.275Z"
   },
   {
    "duration": 0,
    "start_time": "2022-12-12T00:50:49.276Z"
   },
   {
    "duration": 0,
    "start_time": "2022-12-12T00:50:49.277Z"
   },
   {
    "duration": 0,
    "start_time": "2022-12-12T00:50:49.279Z"
   },
   {
    "duration": 0,
    "start_time": "2022-12-12T00:50:49.280Z"
   },
   {
    "duration": 0,
    "start_time": "2022-12-12T00:50:49.281Z"
   },
   {
    "duration": 0,
    "start_time": "2022-12-12T00:50:49.318Z"
   },
   {
    "duration": 0,
    "start_time": "2022-12-12T00:50:49.320Z"
   },
   {
    "duration": 0,
    "start_time": "2022-12-12T00:50:49.321Z"
   },
   {
    "duration": 0,
    "start_time": "2022-12-12T00:50:49.322Z"
   },
   {
    "duration": 0,
    "start_time": "2022-12-12T00:50:49.323Z"
   },
   {
    "duration": 0,
    "start_time": "2022-12-12T00:50:49.323Z"
   },
   {
    "duration": 0,
    "start_time": "2022-12-12T00:50:49.324Z"
   },
   {
    "duration": 0,
    "start_time": "2022-12-12T00:50:49.326Z"
   },
   {
    "duration": 0,
    "start_time": "2022-12-12T00:50:49.327Z"
   },
   {
    "duration": 0,
    "start_time": "2022-12-12T00:50:49.328Z"
   },
   {
    "duration": 0,
    "start_time": "2022-12-12T00:50:49.330Z"
   },
   {
    "duration": 0,
    "start_time": "2022-12-12T00:50:49.330Z"
   },
   {
    "duration": 1,
    "start_time": "2022-12-12T00:50:49.331Z"
   },
   {
    "duration": 0,
    "start_time": "2022-12-12T00:50:49.333Z"
   },
   {
    "duration": 0,
    "start_time": "2022-12-12T00:50:49.334Z"
   },
   {
    "duration": 0,
    "start_time": "2022-12-12T00:50:49.335Z"
   },
   {
    "duration": 0,
    "start_time": "2022-12-12T00:50:49.336Z"
   },
   {
    "duration": 0,
    "start_time": "2022-12-12T00:50:49.337Z"
   },
   {
    "duration": 0,
    "start_time": "2022-12-12T00:50:49.338Z"
   },
   {
    "duration": 0,
    "start_time": "2022-12-12T00:50:49.339Z"
   },
   {
    "duration": 0,
    "start_time": "2022-12-12T00:50:49.340Z"
   },
   {
    "duration": 0,
    "start_time": "2022-12-12T00:50:49.341Z"
   },
   {
    "duration": 0,
    "start_time": "2022-12-12T00:50:49.342Z"
   },
   {
    "duration": 0,
    "start_time": "2022-12-12T00:50:49.343Z"
   },
   {
    "duration": 0,
    "start_time": "2022-12-12T00:50:49.345Z"
   },
   {
    "duration": 0,
    "start_time": "2022-12-12T00:50:49.346Z"
   },
   {
    "duration": 0,
    "start_time": "2022-12-12T00:50:49.347Z"
   },
   {
    "duration": 0,
    "start_time": "2022-12-12T00:50:49.348Z"
   },
   {
    "duration": 0,
    "start_time": "2022-12-12T00:50:49.349Z"
   },
   {
    "duration": 26,
    "start_time": "2022-12-12T00:53:02.072Z"
   },
   {
    "duration": 4,
    "start_time": "2022-12-12T00:53:15.096Z"
   },
   {
    "duration": 19,
    "start_time": "2022-12-12T00:53:24.367Z"
   },
   {
    "duration": 2531,
    "start_time": "2022-12-12T00:54:04.142Z"
   },
   {
    "duration": 33,
    "start_time": "2022-12-12T00:54:12.586Z"
   },
   {
    "duration": 2068,
    "start_time": "2022-12-12T00:56:43.546Z"
   },
   {
    "duration": 31,
    "start_time": "2022-12-12T00:56:47.939Z"
   },
   {
    "duration": 2085,
    "start_time": "2022-12-12T00:56:58.904Z"
   },
   {
    "duration": 3141,
    "start_time": "2022-12-12T00:57:00.992Z"
   },
   {
    "duration": 0,
    "start_time": "2022-12-12T00:57:04.136Z"
   },
   {
    "duration": 0,
    "start_time": "2022-12-12T00:57:04.137Z"
   },
   {
    "duration": 0,
    "start_time": "2022-12-12T00:57:04.138Z"
   },
   {
    "duration": 0,
    "start_time": "2022-12-12T00:57:04.139Z"
   },
   {
    "duration": 0,
    "start_time": "2022-12-12T00:57:04.140Z"
   },
   {
    "duration": 0,
    "start_time": "2022-12-12T00:57:04.141Z"
   },
   {
    "duration": 0,
    "start_time": "2022-12-12T00:57:04.142Z"
   },
   {
    "duration": 0,
    "start_time": "2022-12-12T00:57:04.143Z"
   },
   {
    "duration": 0,
    "start_time": "2022-12-12T00:57:04.144Z"
   },
   {
    "duration": 0,
    "start_time": "2022-12-12T00:57:04.145Z"
   },
   {
    "duration": 0,
    "start_time": "2022-12-12T00:57:04.146Z"
   },
   {
    "duration": 0,
    "start_time": "2022-12-12T00:57:04.147Z"
   },
   {
    "duration": 0,
    "start_time": "2022-12-12T00:57:04.148Z"
   },
   {
    "duration": 0,
    "start_time": "2022-12-12T00:57:04.149Z"
   },
   {
    "duration": 0,
    "start_time": "2022-12-12T00:57:04.150Z"
   },
   {
    "duration": 0,
    "start_time": "2022-12-12T00:57:04.150Z"
   },
   {
    "duration": 0,
    "start_time": "2022-12-12T00:57:04.151Z"
   },
   {
    "duration": 0,
    "start_time": "2022-12-12T00:57:04.152Z"
   },
   {
    "duration": 0,
    "start_time": "2022-12-12T00:57:04.153Z"
   },
   {
    "duration": 0,
    "start_time": "2022-12-12T00:57:04.154Z"
   },
   {
    "duration": 0,
    "start_time": "2022-12-12T00:57:04.155Z"
   },
   {
    "duration": 0,
    "start_time": "2022-12-12T00:57:04.156Z"
   },
   {
    "duration": 0,
    "start_time": "2022-12-12T00:57:04.157Z"
   },
   {
    "duration": 0,
    "start_time": "2022-12-12T00:57:04.158Z"
   },
   {
    "duration": 0,
    "start_time": "2022-12-12T00:57:04.160Z"
   },
   {
    "duration": 0,
    "start_time": "2022-12-12T00:57:04.161Z"
   },
   {
    "duration": 0,
    "start_time": "2022-12-12T00:57:04.162Z"
   },
   {
    "duration": 0,
    "start_time": "2022-12-12T00:57:04.163Z"
   },
   {
    "duration": 0,
    "start_time": "2022-12-12T00:57:04.163Z"
   },
   {
    "duration": 0,
    "start_time": "2022-12-12T00:57:04.164Z"
   },
   {
    "duration": 0,
    "start_time": "2022-12-12T00:57:04.165Z"
   },
   {
    "duration": 0,
    "start_time": "2022-12-12T00:57:04.167Z"
   },
   {
    "duration": 0,
    "start_time": "2022-12-12T00:57:04.168Z"
   },
   {
    "duration": 0,
    "start_time": "2022-12-12T00:57:04.215Z"
   },
   {
    "duration": 0,
    "start_time": "2022-12-12T00:57:04.216Z"
   },
   {
    "duration": 0,
    "start_time": "2022-12-12T00:57:04.217Z"
   },
   {
    "duration": 0,
    "start_time": "2022-12-12T00:57:04.218Z"
   },
   {
    "duration": 1,
    "start_time": "2022-12-12T00:57:04.219Z"
   },
   {
    "duration": 0,
    "start_time": "2022-12-12T00:57:04.221Z"
   },
   {
    "duration": 0,
    "start_time": "2022-12-12T00:57:04.222Z"
   },
   {
    "duration": 0,
    "start_time": "2022-12-12T00:57:04.223Z"
   },
   {
    "duration": 0,
    "start_time": "2022-12-12T00:57:04.224Z"
   },
   {
    "duration": 0,
    "start_time": "2022-12-12T00:57:04.224Z"
   },
   {
    "duration": 0,
    "start_time": "2022-12-12T00:57:04.225Z"
   },
   {
    "duration": 0,
    "start_time": "2022-12-12T00:57:04.226Z"
   },
   {
    "duration": 0,
    "start_time": "2022-12-12T00:57:04.227Z"
   },
   {
    "duration": 0,
    "start_time": "2022-12-12T00:57:04.228Z"
   },
   {
    "duration": 0,
    "start_time": "2022-12-12T00:57:04.229Z"
   },
   {
    "duration": 0,
    "start_time": "2022-12-12T00:57:04.230Z"
   },
   {
    "duration": 0,
    "start_time": "2022-12-12T00:57:04.232Z"
   },
   {
    "duration": 54,
    "start_time": "2022-12-12T01:02:30.778Z"
   },
   {
    "duration": 5,
    "start_time": "2022-12-12T01:06:01.390Z"
   },
   {
    "duration": 4,
    "start_time": "2022-12-12T01:06:03.294Z"
   },
   {
    "duration": 2096,
    "start_time": "2022-12-12T01:06:46.212Z"
   },
   {
    "duration": 3016,
    "start_time": "2022-12-12T01:06:48.310Z"
   },
   {
    "duration": 0,
    "start_time": "2022-12-12T01:06:51.329Z"
   },
   {
    "duration": 0,
    "start_time": "2022-12-12T01:06:51.330Z"
   },
   {
    "duration": 0,
    "start_time": "2022-12-12T01:06:51.331Z"
   },
   {
    "duration": 0,
    "start_time": "2022-12-12T01:06:51.333Z"
   },
   {
    "duration": 0,
    "start_time": "2022-12-12T01:06:51.334Z"
   },
   {
    "duration": 0,
    "start_time": "2022-12-12T01:06:51.335Z"
   },
   {
    "duration": 0,
    "start_time": "2022-12-12T01:06:51.336Z"
   },
   {
    "duration": 0,
    "start_time": "2022-12-12T01:06:51.337Z"
   },
   {
    "duration": 0,
    "start_time": "2022-12-12T01:06:51.339Z"
   },
   {
    "duration": 0,
    "start_time": "2022-12-12T01:06:51.340Z"
   },
   {
    "duration": 0,
    "start_time": "2022-12-12T01:06:51.340Z"
   },
   {
    "duration": 0,
    "start_time": "2022-12-12T01:06:51.342Z"
   },
   {
    "duration": 0,
    "start_time": "2022-12-12T01:06:51.343Z"
   },
   {
    "duration": 0,
    "start_time": "2022-12-12T01:06:51.344Z"
   },
   {
    "duration": 0,
    "start_time": "2022-12-12T01:06:51.345Z"
   },
   {
    "duration": 0,
    "start_time": "2022-12-12T01:06:51.346Z"
   },
   {
    "duration": 0,
    "start_time": "2022-12-12T01:06:51.347Z"
   },
   {
    "duration": 0,
    "start_time": "2022-12-12T01:06:51.348Z"
   },
   {
    "duration": 0,
    "start_time": "2022-12-12T01:06:51.349Z"
   },
   {
    "duration": 0,
    "start_time": "2022-12-12T01:06:51.350Z"
   },
   {
    "duration": 0,
    "start_time": "2022-12-12T01:06:51.351Z"
   },
   {
    "duration": 0,
    "start_time": "2022-12-12T01:06:51.352Z"
   },
   {
    "duration": 0,
    "start_time": "2022-12-12T01:06:51.353Z"
   },
   {
    "duration": 0,
    "start_time": "2022-12-12T01:06:51.354Z"
   },
   {
    "duration": 0,
    "start_time": "2022-12-12T01:06:51.355Z"
   },
   {
    "duration": 0,
    "start_time": "2022-12-12T01:06:51.356Z"
   },
   {
    "duration": 0,
    "start_time": "2022-12-12T01:06:51.358Z"
   },
   {
    "duration": 0,
    "start_time": "2022-12-12T01:06:51.358Z"
   },
   {
    "duration": 0,
    "start_time": "2022-12-12T01:06:51.359Z"
   },
   {
    "duration": 0,
    "start_time": "2022-12-12T01:06:51.360Z"
   },
   {
    "duration": 0,
    "start_time": "2022-12-12T01:06:51.361Z"
   },
   {
    "duration": 0,
    "start_time": "2022-12-12T01:06:51.362Z"
   },
   {
    "duration": 0,
    "start_time": "2022-12-12T01:06:51.416Z"
   },
   {
    "duration": 0,
    "start_time": "2022-12-12T01:06:51.417Z"
   },
   {
    "duration": 0,
    "start_time": "2022-12-12T01:06:51.418Z"
   },
   {
    "duration": 0,
    "start_time": "2022-12-12T01:06:51.419Z"
   },
   {
    "duration": 0,
    "start_time": "2022-12-12T01:06:51.420Z"
   },
   {
    "duration": 0,
    "start_time": "2022-12-12T01:06:51.421Z"
   },
   {
    "duration": 0,
    "start_time": "2022-12-12T01:06:51.422Z"
   },
   {
    "duration": 0,
    "start_time": "2022-12-12T01:06:51.423Z"
   },
   {
    "duration": 0,
    "start_time": "2022-12-12T01:06:51.424Z"
   },
   {
    "duration": 0,
    "start_time": "2022-12-12T01:06:51.425Z"
   },
   {
    "duration": 0,
    "start_time": "2022-12-12T01:06:51.426Z"
   },
   {
    "duration": 0,
    "start_time": "2022-12-12T01:06:51.427Z"
   },
   {
    "duration": 0,
    "start_time": "2022-12-12T01:06:51.428Z"
   },
   {
    "duration": 0,
    "start_time": "2022-12-12T01:06:51.429Z"
   },
   {
    "duration": 0,
    "start_time": "2022-12-12T01:06:51.430Z"
   },
   {
    "duration": 0,
    "start_time": "2022-12-12T01:06:51.431Z"
   },
   {
    "duration": 0,
    "start_time": "2022-12-12T01:06:51.432Z"
   },
   {
    "duration": 0,
    "start_time": "2022-12-12T01:06:51.433Z"
   },
   {
    "duration": 4,
    "start_time": "2022-12-12T01:07:26.434Z"
   },
   {
    "duration": 2977,
    "start_time": "2022-12-12T01:07:26.440Z"
   },
   {
    "duration": 0,
    "start_time": "2022-12-12T01:07:29.420Z"
   },
   {
    "duration": 0,
    "start_time": "2022-12-12T01:07:29.421Z"
   },
   {
    "duration": 0,
    "start_time": "2022-12-12T01:07:29.422Z"
   },
   {
    "duration": 0,
    "start_time": "2022-12-12T01:07:29.423Z"
   },
   {
    "duration": 0,
    "start_time": "2022-12-12T01:07:29.424Z"
   },
   {
    "duration": 0,
    "start_time": "2022-12-12T01:07:29.426Z"
   },
   {
    "duration": 0,
    "start_time": "2022-12-12T01:07:29.427Z"
   },
   {
    "duration": 0,
    "start_time": "2022-12-12T01:07:29.428Z"
   },
   {
    "duration": 0,
    "start_time": "2022-12-12T01:07:29.428Z"
   },
   {
    "duration": 0,
    "start_time": "2022-12-12T01:07:29.430Z"
   },
   {
    "duration": 0,
    "start_time": "2022-12-12T01:07:29.431Z"
   },
   {
    "duration": 0,
    "start_time": "2022-12-12T01:07:29.432Z"
   },
   {
    "duration": 0,
    "start_time": "2022-12-12T01:07:29.433Z"
   },
   {
    "duration": 0,
    "start_time": "2022-12-12T01:07:29.434Z"
   },
   {
    "duration": 0,
    "start_time": "2022-12-12T01:07:29.435Z"
   },
   {
    "duration": 0,
    "start_time": "2022-12-12T01:07:29.436Z"
   },
   {
    "duration": 0,
    "start_time": "2022-12-12T01:07:29.437Z"
   },
   {
    "duration": 0,
    "start_time": "2022-12-12T01:07:29.438Z"
   },
   {
    "duration": 0,
    "start_time": "2022-12-12T01:07:29.440Z"
   },
   {
    "duration": 0,
    "start_time": "2022-12-12T01:07:29.441Z"
   },
   {
    "duration": 0,
    "start_time": "2022-12-12T01:07:29.442Z"
   },
   {
    "duration": 1,
    "start_time": "2022-12-12T01:07:29.443Z"
   },
   {
    "duration": 0,
    "start_time": "2022-12-12T01:07:29.444Z"
   },
   {
    "duration": 0,
    "start_time": "2022-12-12T01:07:29.445Z"
   },
   {
    "duration": 0,
    "start_time": "2022-12-12T01:07:29.446Z"
   },
   {
    "duration": 0,
    "start_time": "2022-12-12T01:07:29.447Z"
   },
   {
    "duration": 0,
    "start_time": "2022-12-12T01:07:29.448Z"
   },
   {
    "duration": 0,
    "start_time": "2022-12-12T01:07:29.449Z"
   },
   {
    "duration": 0,
    "start_time": "2022-12-12T01:07:29.450Z"
   },
   {
    "duration": 0,
    "start_time": "2022-12-12T01:07:29.451Z"
   },
   {
    "duration": 0,
    "start_time": "2022-12-12T01:07:29.452Z"
   },
   {
    "duration": 0,
    "start_time": "2022-12-12T01:07:29.453Z"
   },
   {
    "duration": 0,
    "start_time": "2022-12-12T01:07:29.454Z"
   },
   {
    "duration": 0,
    "start_time": "2022-12-12T01:07:29.455Z"
   },
   {
    "duration": 0,
    "start_time": "2022-12-12T01:07:29.456Z"
   },
   {
    "duration": 0,
    "start_time": "2022-12-12T01:07:29.516Z"
   },
   {
    "duration": 0,
    "start_time": "2022-12-12T01:07:29.517Z"
   },
   {
    "duration": 0,
    "start_time": "2022-12-12T01:07:29.518Z"
   },
   {
    "duration": 0,
    "start_time": "2022-12-12T01:07:29.519Z"
   },
   {
    "duration": 0,
    "start_time": "2022-12-12T01:07:29.520Z"
   },
   {
    "duration": 0,
    "start_time": "2022-12-12T01:07:29.521Z"
   },
   {
    "duration": 0,
    "start_time": "2022-12-12T01:07:29.522Z"
   },
   {
    "duration": 0,
    "start_time": "2022-12-12T01:07:29.523Z"
   },
   {
    "duration": 0,
    "start_time": "2022-12-12T01:07:29.524Z"
   },
   {
    "duration": 0,
    "start_time": "2022-12-12T01:07:29.525Z"
   },
   {
    "duration": 0,
    "start_time": "2022-12-12T01:07:29.526Z"
   },
   {
    "duration": 0,
    "start_time": "2022-12-12T01:07:29.527Z"
   },
   {
    "duration": 0,
    "start_time": "2022-12-12T01:07:29.528Z"
   },
   {
    "duration": 0,
    "start_time": "2022-12-12T01:07:29.529Z"
   },
   {
    "duration": 0,
    "start_time": "2022-12-12T01:07:29.530Z"
   },
   {
    "duration": 4,
    "start_time": "2022-12-12T02:15:33.834Z"
   },
   {
    "duration": 4,
    "start_time": "2022-12-12T02:15:55.044Z"
   },
   {
    "duration": 3010,
    "start_time": "2022-12-12T02:15:55.049Z"
   },
   {
    "duration": 0,
    "start_time": "2022-12-12T02:15:58.063Z"
   },
   {
    "duration": 0,
    "start_time": "2022-12-12T02:15:58.064Z"
   },
   {
    "duration": 0,
    "start_time": "2022-12-12T02:15:58.066Z"
   },
   {
    "duration": 0,
    "start_time": "2022-12-12T02:15:58.067Z"
   },
   {
    "duration": 0,
    "start_time": "2022-12-12T02:15:58.069Z"
   },
   {
    "duration": 0,
    "start_time": "2022-12-12T02:15:58.070Z"
   },
   {
    "duration": 0,
    "start_time": "2022-12-12T02:15:58.071Z"
   },
   {
    "duration": 0,
    "start_time": "2022-12-12T02:15:58.072Z"
   },
   {
    "duration": 0,
    "start_time": "2022-12-12T02:15:58.073Z"
   },
   {
    "duration": 0,
    "start_time": "2022-12-12T02:15:58.074Z"
   },
   {
    "duration": 0,
    "start_time": "2022-12-12T02:15:58.076Z"
   },
   {
    "duration": 0,
    "start_time": "2022-12-12T02:15:58.077Z"
   },
   {
    "duration": 0,
    "start_time": "2022-12-12T02:15:58.078Z"
   },
   {
    "duration": 0,
    "start_time": "2022-12-12T02:15:58.080Z"
   },
   {
    "duration": 0,
    "start_time": "2022-12-12T02:15:58.081Z"
   },
   {
    "duration": 0,
    "start_time": "2022-12-12T02:15:58.082Z"
   },
   {
    "duration": 0,
    "start_time": "2022-12-12T02:15:58.083Z"
   },
   {
    "duration": 0,
    "start_time": "2022-12-12T02:15:58.084Z"
   },
   {
    "duration": 0,
    "start_time": "2022-12-12T02:15:58.085Z"
   },
   {
    "duration": 0,
    "start_time": "2022-12-12T02:15:58.086Z"
   },
   {
    "duration": 0,
    "start_time": "2022-12-12T02:15:58.115Z"
   },
   {
    "duration": 0,
    "start_time": "2022-12-12T02:15:58.116Z"
   },
   {
    "duration": 0,
    "start_time": "2022-12-12T02:15:58.117Z"
   },
   {
    "duration": 0,
    "start_time": "2022-12-12T02:15:58.118Z"
   },
   {
    "duration": 0,
    "start_time": "2022-12-12T02:15:58.119Z"
   },
   {
    "duration": 0,
    "start_time": "2022-12-12T02:15:58.120Z"
   },
   {
    "duration": 0,
    "start_time": "2022-12-12T02:15:58.121Z"
   },
   {
    "duration": 0,
    "start_time": "2022-12-12T02:15:58.122Z"
   },
   {
    "duration": 0,
    "start_time": "2022-12-12T02:15:58.123Z"
   },
   {
    "duration": 0,
    "start_time": "2022-12-12T02:15:58.124Z"
   },
   {
    "duration": 0,
    "start_time": "2022-12-12T02:15:58.125Z"
   },
   {
    "duration": 0,
    "start_time": "2022-12-12T02:15:58.126Z"
   },
   {
    "duration": 0,
    "start_time": "2022-12-12T02:15:58.127Z"
   },
   {
    "duration": 0,
    "start_time": "2022-12-12T02:15:58.128Z"
   },
   {
    "duration": 0,
    "start_time": "2022-12-12T02:15:58.129Z"
   },
   {
    "duration": 0,
    "start_time": "2022-12-12T02:15:58.130Z"
   },
   {
    "duration": 0,
    "start_time": "2022-12-12T02:15:58.132Z"
   },
   {
    "duration": 0,
    "start_time": "2022-12-12T02:15:58.132Z"
   },
   {
    "duration": 0,
    "start_time": "2022-12-12T02:15:58.133Z"
   },
   {
    "duration": 0,
    "start_time": "2022-12-12T02:15:58.134Z"
   },
   {
    "duration": 0,
    "start_time": "2022-12-12T02:15:58.135Z"
   },
   {
    "duration": 0,
    "start_time": "2022-12-12T02:15:58.136Z"
   },
   {
    "duration": 0,
    "start_time": "2022-12-12T02:15:58.137Z"
   },
   {
    "duration": 0,
    "start_time": "2022-12-12T02:15:58.138Z"
   },
   {
    "duration": 0,
    "start_time": "2022-12-12T02:15:58.139Z"
   },
   {
    "duration": 0,
    "start_time": "2022-12-12T02:15:58.140Z"
   },
   {
    "duration": 0,
    "start_time": "2022-12-12T02:15:58.141Z"
   },
   {
    "duration": 0,
    "start_time": "2022-12-12T02:15:58.142Z"
   },
   {
    "duration": 0,
    "start_time": "2022-12-12T02:15:58.142Z"
   },
   {
    "duration": 0,
    "start_time": "2022-12-12T02:15:58.143Z"
   },
   {
    "duration": 4,
    "start_time": "2022-12-12T02:16:08.731Z"
   },
   {
    "duration": 5,
    "start_time": "2022-12-12T02:16:19.880Z"
   },
   {
    "duration": 89,
    "start_time": "2022-12-12T02:16:21.448Z"
   },
   {
    "duration": 16,
    "start_time": "2022-12-12T02:16:21.648Z"
   },
   {
    "duration": 12,
    "start_time": "2022-12-12T02:16:21.856Z"
   },
   {
    "duration": 6,
    "start_time": "2022-12-12T02:16:22.783Z"
   },
   {
    "duration": 4,
    "start_time": "2022-12-12T02:16:23.152Z"
   },
   {
    "duration": 5,
    "start_time": "2022-12-12T02:16:23.735Z"
   },
   {
    "duration": 11,
    "start_time": "2022-12-12T02:16:24.104Z"
   },
   {
    "duration": 5,
    "start_time": "2022-12-12T02:16:25.007Z"
   },
   {
    "duration": 9,
    "start_time": "2022-12-12T02:16:25.210Z"
   },
   {
    "duration": 8,
    "start_time": "2022-12-12T02:16:25.699Z"
   },
   {
    "duration": 6,
    "start_time": "2022-12-12T02:16:25.872Z"
   },
   {
    "duration": 25,
    "start_time": "2022-12-12T02:16:30.240Z"
   },
   {
    "duration": 12,
    "start_time": "2022-12-12T02:16:32.072Z"
   },
   {
    "duration": 31,
    "start_time": "2022-12-12T02:16:33.335Z"
   },
   {
    "duration": 111,
    "start_time": "2022-12-12T02:16:34.607Z"
   },
   {
    "duration": 40373,
    "start_time": "2022-12-12T02:16:38.400Z"
   },
   {
    "duration": 11,
    "start_time": "2022-12-12T02:17:18.775Z"
   },
   {
    "duration": 28,
    "start_time": "2022-12-12T02:17:18.788Z"
   },
   {
    "duration": 123100,
    "start_time": "2022-12-12T02:17:18.818Z"
   },
   {
    "duration": 201980,
    "start_time": "2022-12-12T02:19:21.920Z"
   },
   {
    "duration": 3145,
    "start_time": "2022-12-12T02:22:43.901Z"
   },
   {
    "duration": 11,
    "start_time": "2022-12-12T02:22:47.048Z"
   },
   {
    "duration": 15,
    "start_time": "2022-12-12T02:22:47.060Z"
   },
   {
    "duration": 8196,
    "start_time": "2022-12-12T02:22:47.077Z"
   },
   {
    "duration": 8243,
    "start_time": "2022-12-12T02:22:55.277Z"
   },
   {
    "duration": 3608,
    "start_time": "2022-12-12T02:23:03.521Z"
   },
   {
    "duration": 188,
    "start_time": "2022-12-12T02:23:07.130Z"
   },
   {
    "duration": 11,
    "start_time": "2022-12-12T02:23:07.319Z"
   },
   {
    "duration": 35386,
    "start_time": "2022-12-12T02:23:07.332Z"
   },
   {
    "duration": 5,
    "start_time": "2022-12-12T02:23:42.719Z"
   },
   {
    "duration": 5,
    "start_time": "2022-12-12T02:23:42.726Z"
   },
   {
    "duration": 45,
    "start_time": "2022-12-12T02:23:42.733Z"
   },
   {
    "duration": 109,
    "start_time": "2022-12-12T02:23:42.780Z"
   },
   {
    "duration": 24,
    "start_time": "2022-12-12T02:23:42.891Z"
   },
   {
    "duration": 5,
    "start_time": "2022-12-12T02:23:42.917Z"
   },
   {
    "duration": 74423,
    "start_time": "2022-12-12T02:23:42.924Z"
   },
   {
    "duration": 11,
    "start_time": "2022-12-12T02:24:57.349Z"
   },
   {
    "duration": 232603,
    "start_time": "2022-12-12T02:24:57.361Z"
   },
   {
    "duration": 1579,
    "start_time": "2022-12-12T06:59:14.359Z"
   },
   {
    "duration": 0,
    "start_time": "2022-12-12T06:59:15.941Z"
   },
   {
    "duration": 0,
    "start_time": "2022-12-12T06:59:15.943Z"
   },
   {
    "duration": 0,
    "start_time": "2022-12-12T06:59:15.944Z"
   },
   {
    "duration": 0,
    "start_time": "2022-12-12T06:59:15.946Z"
   },
   {
    "duration": 0,
    "start_time": "2022-12-12T06:59:15.948Z"
   },
   {
    "duration": 0,
    "start_time": "2022-12-12T06:59:15.949Z"
   },
   {
    "duration": 0,
    "start_time": "2022-12-12T06:59:15.950Z"
   },
   {
    "duration": 0,
    "start_time": "2022-12-12T06:59:15.951Z"
   },
   {
    "duration": 0,
    "start_time": "2022-12-12T06:59:15.952Z"
   },
   {
    "duration": 0,
    "start_time": "2022-12-12T06:59:15.953Z"
   },
   {
    "duration": 0,
    "start_time": "2022-12-12T06:59:15.954Z"
   },
   {
    "duration": 0,
    "start_time": "2022-12-12T06:59:15.956Z"
   },
   {
    "duration": 0,
    "start_time": "2022-12-12T06:59:15.957Z"
   },
   {
    "duration": 0,
    "start_time": "2022-12-12T06:59:15.959Z"
   },
   {
    "duration": 0,
    "start_time": "2022-12-12T06:59:15.960Z"
   },
   {
    "duration": 0,
    "start_time": "2022-12-12T06:59:15.962Z"
   },
   {
    "duration": 0,
    "start_time": "2022-12-12T06:59:15.963Z"
   },
   {
    "duration": 0,
    "start_time": "2022-12-12T06:59:15.965Z"
   },
   {
    "duration": 0,
    "start_time": "2022-12-12T06:59:15.966Z"
   },
   {
    "duration": 0,
    "start_time": "2022-12-12T06:59:15.967Z"
   },
   {
    "duration": 0,
    "start_time": "2022-12-12T06:59:15.969Z"
   },
   {
    "duration": 0,
    "start_time": "2022-12-12T06:59:15.970Z"
   },
   {
    "duration": 0,
    "start_time": "2022-12-12T06:59:15.972Z"
   },
   {
    "duration": 0,
    "start_time": "2022-12-12T06:59:15.973Z"
   },
   {
    "duration": 0,
    "start_time": "2022-12-12T06:59:15.975Z"
   },
   {
    "duration": 0,
    "start_time": "2022-12-12T06:59:15.976Z"
   },
   {
    "duration": 0,
    "start_time": "2022-12-12T06:59:15.978Z"
   },
   {
    "duration": 0,
    "start_time": "2022-12-12T06:59:15.980Z"
   },
   {
    "duration": 0,
    "start_time": "2022-12-12T06:59:16.036Z"
   },
   {
    "duration": 0,
    "start_time": "2022-12-12T06:59:16.038Z"
   },
   {
    "duration": 0,
    "start_time": "2022-12-12T06:59:16.039Z"
   },
   {
    "duration": 0,
    "start_time": "2022-12-12T06:59:16.041Z"
   },
   {
    "duration": 0,
    "start_time": "2022-12-12T06:59:16.042Z"
   },
   {
    "duration": 0,
    "start_time": "2022-12-12T06:59:16.044Z"
   },
   {
    "duration": 0,
    "start_time": "2022-12-12T06:59:16.045Z"
   },
   {
    "duration": 0,
    "start_time": "2022-12-12T06:59:16.047Z"
   },
   {
    "duration": 0,
    "start_time": "2022-12-12T06:59:16.049Z"
   },
   {
    "duration": 0,
    "start_time": "2022-12-12T06:59:16.050Z"
   },
   {
    "duration": 0,
    "start_time": "2022-12-12T06:59:16.051Z"
   },
   {
    "duration": 0,
    "start_time": "2022-12-12T06:59:16.053Z"
   },
   {
    "duration": 0,
    "start_time": "2022-12-12T06:59:16.055Z"
   },
   {
    "duration": 0,
    "start_time": "2022-12-12T06:59:16.056Z"
   },
   {
    "duration": 0,
    "start_time": "2022-12-12T06:59:16.058Z"
   },
   {
    "duration": 0,
    "start_time": "2022-12-12T06:59:16.059Z"
   },
   {
    "duration": 0,
    "start_time": "2022-12-12T06:59:16.061Z"
   },
   {
    "duration": 0,
    "start_time": "2022-12-12T06:59:16.062Z"
   },
   {
    "duration": 0,
    "start_time": "2022-12-12T06:59:16.063Z"
   },
   {
    "duration": 0,
    "start_time": "2022-12-12T06:59:16.065Z"
   },
   {
    "duration": 0,
    "start_time": "2022-12-12T06:59:16.066Z"
   },
   {
    "duration": 0,
    "start_time": "2022-12-12T06:59:16.067Z"
   },
   {
    "duration": 12,
    "start_time": "2022-12-12T06:59:27.359Z"
   },
   {
    "duration": 8,
    "start_time": "2022-12-12T08:15:00.627Z"
   },
   {
    "duration": 99,
    "start_time": "2022-12-12T08:15:03.570Z"
   },
   {
    "duration": 25,
    "start_time": "2022-12-12T08:15:03.988Z"
   },
   {
    "duration": 14,
    "start_time": "2022-12-12T08:15:04.375Z"
   },
   {
    "duration": 8,
    "start_time": "2022-12-12T08:15:06.049Z"
   },
   {
    "duration": 5,
    "start_time": "2022-12-12T08:15:06.744Z"
   },
   {
    "duration": 6,
    "start_time": "2022-12-12T08:15:07.611Z"
   },
   {
    "duration": 18,
    "start_time": "2022-12-12T08:15:08.311Z"
   },
   {
    "duration": 5,
    "start_time": "2022-12-12T08:15:09.435Z"
   },
   {
    "duration": 13,
    "start_time": "2022-12-12T08:15:09.775Z"
   },
   {
    "duration": 9,
    "start_time": "2022-12-12T08:15:10.064Z"
   },
   {
    "duration": 7,
    "start_time": "2022-12-12T08:15:10.423Z"
   },
   {
    "duration": 42,
    "start_time": "2022-12-12T08:15:12.152Z"
   },
   {
    "duration": 15,
    "start_time": "2022-12-12T08:15:13.736Z"
   },
   {
    "duration": 22,
    "start_time": "2022-12-12T08:15:25.593Z"
   },
   {
    "duration": 3,
    "start_time": "2022-12-12T08:15:30.433Z"
   },
   {
    "duration": 14,
    "start_time": "2022-12-12T08:15:31.727Z"
   },
   {
    "duration": 137,
    "start_time": "2022-12-12T08:15:50.912Z"
   },
   {
    "duration": 80802,
    "start_time": "2022-12-12T08:15:55.673Z"
   },
   {
    "duration": 14,
    "start_time": "2022-12-12T08:17:16.477Z"
   },
   {
    "duration": 21,
    "start_time": "2022-12-12T08:19:16.906Z"
   },
   {
    "duration": 132,
    "start_time": "2022-12-12T08:19:26.429Z"
   },
   {
    "duration": 97,
    "start_time": "2022-12-12T08:21:54.703Z"
   },
   {
    "duration": 107,
    "start_time": "2022-12-12T08:22:16.090Z"
   },
   {
    "duration": 40,
    "start_time": "2022-12-12T08:22:29.559Z"
   },
   {
    "duration": 109,
    "start_time": "2022-12-12T08:22:32.250Z"
   },
   {
    "duration": 6,
    "start_time": "2022-12-12T08:22:48.870Z"
   },
   {
    "duration": 38,
    "start_time": "2022-12-12T08:22:50.289Z"
   },
   {
    "duration": 13,
    "start_time": "2022-12-12T08:22:50.873Z"
   },
   {
    "duration": 15,
    "start_time": "2022-12-12T08:22:51.347Z"
   },
   {
    "duration": 6,
    "start_time": "2022-12-12T08:22:52.750Z"
   },
   {
    "duration": 4,
    "start_time": "2022-12-12T08:22:53.189Z"
   },
   {
    "duration": 5,
    "start_time": "2022-12-12T08:22:53.765Z"
   },
   {
    "duration": 14,
    "start_time": "2022-12-12T08:22:54.150Z"
   },
   {
    "duration": 5,
    "start_time": "2022-12-12T08:22:54.669Z"
   },
   {
    "duration": 8,
    "start_time": "2022-12-12T08:22:54.919Z"
   },
   {
    "duration": 8,
    "start_time": "2022-12-12T08:22:55.056Z"
   },
   {
    "duration": 7,
    "start_time": "2022-12-12T08:22:55.215Z"
   },
   {
    "duration": 30,
    "start_time": "2022-12-12T08:22:56.198Z"
   },
   {
    "duration": 13,
    "start_time": "2022-12-12T08:22:57.950Z"
   },
   {
    "duration": 15,
    "start_time": "2022-12-12T08:23:09.659Z"
   },
   {
    "duration": 140,
    "start_time": "2022-12-12T08:23:12.710Z"
   },
   {
    "duration": 64380,
    "start_time": "2022-12-12T08:23:50.864Z"
   },
   {
    "duration": 15,
    "start_time": "2022-12-12T08:24:55.247Z"
   },
   {
    "duration": 4306,
    "start_time": "2022-12-12T08:26:35.080Z"
   },
   {
    "duration": 13,
    "start_time": "2022-12-12T08:26:39.388Z"
   },
   {
    "duration": 4198,
    "start_time": "2022-12-12T08:27:14.977Z"
   },
   {
    "duration": 15,
    "start_time": "2022-12-12T08:27:21.288Z"
   },
   {
    "duration": 5098,
    "start_time": "2022-12-12T08:28:26.450Z"
   },
   {
    "duration": 188,
    "start_time": "2022-12-12T08:28:31.550Z"
   },
   {
    "duration": 16,
    "start_time": "2022-12-12T08:37:07.453Z"
   },
   {
    "duration": 10,
    "start_time": "2022-12-12T08:39:15.668Z"
   },
   {
    "duration": 6887,
    "start_time": "2022-12-12T08:39:38.843Z"
   },
   {
    "duration": 24,
    "start_time": "2022-12-12T08:39:48.145Z"
   },
   {
    "duration": 20,
    "start_time": "2022-12-12T08:40:02.023Z"
   },
   {
    "duration": 16,
    "start_time": "2022-12-12T08:40:49.414Z"
   },
   {
    "duration": 1275,
    "start_time": "2022-12-12T08:40:57.386Z"
   },
   {
    "duration": 44,
    "start_time": "2022-12-12T08:40:58.664Z"
   },
   {
    "duration": 18,
    "start_time": "2022-12-12T08:40:58.710Z"
   },
   {
    "duration": 22,
    "start_time": "2022-12-12T08:40:58.730Z"
   },
   {
    "duration": 12,
    "start_time": "2022-12-12T08:40:58.754Z"
   },
   {
    "duration": 11,
    "start_time": "2022-12-12T08:40:58.768Z"
   },
   {
    "duration": 10,
    "start_time": "2022-12-12T08:40:58.781Z"
   },
   {
    "duration": 27,
    "start_time": "2022-12-12T08:40:58.792Z"
   },
   {
    "duration": 13,
    "start_time": "2022-12-12T08:40:58.821Z"
   },
   {
    "duration": 57,
    "start_time": "2022-12-12T08:40:58.837Z"
   },
   {
    "duration": 20,
    "start_time": "2022-12-12T08:40:58.895Z"
   },
   {
    "duration": 8,
    "start_time": "2022-12-12T08:40:58.916Z"
   },
   {
    "duration": 61,
    "start_time": "2022-12-12T08:40:58.926Z"
   },
   {
    "duration": 16,
    "start_time": "2022-12-12T08:40:58.989Z"
   },
   {
    "duration": 65,
    "start_time": "2022-12-12T08:40:59.007Z"
   },
   {
    "duration": 144,
    "start_time": "2022-12-12T08:40:59.074Z"
   },
   {
    "duration": 12948,
    "start_time": "2022-12-12T08:40:59.220Z"
   },
   {
    "duration": 16,
    "start_time": "2022-12-12T08:41:12.170Z"
   },
   {
    "duration": 9,
    "start_time": "2022-12-12T08:41:12.188Z"
   },
   {
    "duration": 1388,
    "start_time": "2022-12-12T08:41:26.163Z"
   },
   {
    "duration": 43,
    "start_time": "2022-12-12T08:41:27.554Z"
   },
   {
    "duration": 20,
    "start_time": "2022-12-12T08:41:27.599Z"
   },
   {
    "duration": 20,
    "start_time": "2022-12-12T08:41:27.621Z"
   },
   {
    "duration": 22,
    "start_time": "2022-12-12T08:41:27.643Z"
   },
   {
    "duration": 15,
    "start_time": "2022-12-12T08:41:27.668Z"
   },
   {
    "duration": 36,
    "start_time": "2022-12-12T08:41:27.686Z"
   },
   {
    "duration": 51,
    "start_time": "2022-12-12T08:41:27.727Z"
   },
   {
    "duration": 6,
    "start_time": "2022-12-12T08:41:27.781Z"
   },
   {
    "duration": 23,
    "start_time": "2022-12-12T08:41:27.790Z"
   },
   {
    "duration": 30,
    "start_time": "2022-12-12T08:41:27.814Z"
   },
   {
    "duration": 22,
    "start_time": "2022-12-12T08:41:27.849Z"
   },
   {
    "duration": 59,
    "start_time": "2022-12-12T08:41:27.873Z"
   },
   {
    "duration": 20,
    "start_time": "2022-12-12T08:41:27.934Z"
   },
   {
    "duration": 97,
    "start_time": "2022-12-12T08:41:27.960Z"
   },
   {
    "duration": 159,
    "start_time": "2022-12-12T08:41:28.060Z"
   },
   {
    "duration": 54542,
    "start_time": "2022-12-12T08:41:28.222Z"
   },
   {
    "duration": 16,
    "start_time": "2022-12-12T08:42:22.767Z"
   },
   {
    "duration": 23,
    "start_time": "2022-12-12T08:42:22.786Z"
   },
   {
    "duration": 166332,
    "start_time": "2022-12-12T08:42:22.812Z"
   },
   {
    "duration": 99067,
    "start_time": "2022-12-12T08:45:09.153Z"
   },
   {
    "duration": 4423,
    "start_time": "2022-12-12T08:46:48.222Z"
   },
   {
    "duration": 28,
    "start_time": "2022-12-12T08:46:52.657Z"
   },
   {
    "duration": 32,
    "start_time": "2022-12-12T08:46:52.687Z"
   },
   {
    "duration": 9686,
    "start_time": "2022-12-12T08:46:52.721Z"
   },
   {
    "duration": 10062,
    "start_time": "2022-12-12T08:47:02.409Z"
   },
   {
    "duration": 3003,
    "start_time": "2022-12-12T08:47:12.474Z"
   },
   {
    "duration": 94,
    "start_time": "2022-12-12T08:47:15.545Z"
   },
   {
    "duration": 35,
    "start_time": "2022-12-12T08:47:15.643Z"
   },
   {
    "duration": 87890,
    "start_time": "2022-12-12T08:47:15.680Z"
   },
   {
    "duration": 7,
    "start_time": "2022-12-12T08:48:43.572Z"
   },
   {
    "duration": 17,
    "start_time": "2022-12-12T08:48:43.636Z"
   },
   {
    "duration": 49,
    "start_time": "2022-12-12T08:48:43.659Z"
   },
   {
    "duration": 286,
    "start_time": "2022-12-12T08:48:43.711Z"
   },
   {
    "duration": 2,
    "start_time": "2022-12-12T08:48:44.001Z"
   },
   {
    "duration": 73,
    "start_time": "2022-12-12T08:48:44.005Z"
   },
   {
    "duration": 71794,
    "start_time": "2022-12-12T08:48:44.080Z"
   },
   {
    "duration": 14,
    "start_time": "2022-12-12T08:49:55.876Z"
   },
   {
    "duration": 9,
    "start_time": "2022-12-12T08:49:55.893Z"
   },
   {
    "duration": 15,
    "start_time": "2022-12-12T08:49:55.905Z"
   },
   {
    "duration": 4420,
    "start_time": "2022-12-12T08:49:55.935Z"
   },
   {
    "duration": 13,
    "start_time": "2022-12-12T08:50:00.357Z"
   },
   {
    "duration": 48,
    "start_time": "2022-12-12T08:50:00.372Z"
   },
   {
    "duration": 34,
    "start_time": "2022-12-12T08:50:00.422Z"
   },
   {
    "duration": 3681,
    "start_time": "2022-12-12T08:50:00.458Z"
   },
   {
    "duration": 21,
    "start_time": "2022-12-12T08:50:04.142Z"
   },
   {
    "duration": 103,
    "start_time": "2022-12-12T08:50:04.167Z"
   },
   {
    "duration": 822,
    "start_time": "2022-12-12T08:50:04.334Z"
   },
   {
    "duration": 200,
    "start_time": "2022-12-12T08:50:05.158Z"
   },
   {
    "duration": 7,
    "start_time": "2022-12-12T08:50:05.360Z"
   },
   {
    "duration": 22,
    "start_time": "2022-12-12T08:50:05.370Z"
   },
   {
    "duration": 17,
    "start_time": "2022-12-12T08:50:05.396Z"
   },
   {
    "duration": 3,
    "start_time": "2022-12-12T09:15:54.374Z"
   },
   {
    "duration": 51,
    "start_time": "2022-12-12T09:20:44.558Z"
   },
   {
    "duration": 103,
    "start_time": "2022-12-12T09:20:45.403Z"
   },
   {
    "duration": 2,
    "start_time": "2022-12-12T09:26:49.096Z"
   },
   {
    "duration": 260540,
    "start_time": "2022-12-12T09:35:03.461Z"
   },
   {
    "duration": 1332,
    "start_time": "2022-12-12T09:50:15.891Z"
   },
   {
    "duration": 42,
    "start_time": "2022-12-12T09:50:17.225Z"
   },
   {
    "duration": 18,
    "start_time": "2022-12-12T09:50:17.269Z"
   },
   {
    "duration": 24,
    "start_time": "2022-12-12T09:50:17.290Z"
   },
   {
    "duration": 23,
    "start_time": "2022-12-12T09:50:17.316Z"
   },
   {
    "duration": 35,
    "start_time": "2022-12-12T09:50:17.341Z"
   },
   {
    "duration": 25,
    "start_time": "2022-12-12T09:50:17.378Z"
   },
   {
    "duration": 39,
    "start_time": "2022-12-12T09:50:17.405Z"
   },
   {
    "duration": 24,
    "start_time": "2022-12-12T09:50:17.446Z"
   },
   {
    "duration": 35,
    "start_time": "2022-12-12T09:50:17.473Z"
   },
   {
    "duration": 42,
    "start_time": "2022-12-12T09:50:17.510Z"
   },
   {
    "duration": 18,
    "start_time": "2022-12-12T09:50:17.554Z"
   },
   {
    "duration": 65,
    "start_time": "2022-12-12T09:50:17.575Z"
   },
   {
    "duration": 12,
    "start_time": "2022-12-12T09:50:17.642Z"
   },
   {
    "duration": 51,
    "start_time": "2022-12-12T09:50:17.655Z"
   },
   {
    "duration": 148,
    "start_time": "2022-12-12T09:50:17.708Z"
   },
   {
    "duration": 51506,
    "start_time": "2022-12-12T09:50:17.858Z"
   },
   {
    "duration": 13,
    "start_time": "2022-12-12T09:51:09.366Z"
   },
   {
    "duration": 17,
    "start_time": "2022-12-12T09:51:09.381Z"
   },
   {
    "duration": 161433,
    "start_time": "2022-12-12T09:51:09.401Z"
   },
   {
    "duration": 254101,
    "start_time": "2022-12-12T09:53:50.849Z"
   },
   {
    "duration": 3726,
    "start_time": "2022-12-12T09:58:04.954Z"
   },
   {
    "duration": 12,
    "start_time": "2022-12-12T09:58:08.682Z"
   },
   {
    "duration": 69,
    "start_time": "2022-12-12T09:58:08.697Z"
   },
   {
    "duration": 9544,
    "start_time": "2022-12-12T09:58:08.768Z"
   },
   {
    "duration": 10059,
    "start_time": "2022-12-12T09:58:18.314Z"
   },
   {
    "duration": 3668,
    "start_time": "2022-12-12T09:58:28.375Z"
   },
   {
    "duration": 82,
    "start_time": "2022-12-12T09:58:32.062Z"
   },
   {
    "duration": 35,
    "start_time": "2022-12-12T09:58:32.149Z"
   },
   {
    "duration": 74662,
    "start_time": "2022-12-12T09:58:32.186Z"
   },
   {
    "duration": 12,
    "start_time": "2022-12-12T09:59:46.853Z"
   },
   {
    "duration": 20,
    "start_time": "2022-12-12T09:59:46.868Z"
   },
   {
    "duration": 155,
    "start_time": "2022-12-12T09:59:46.890Z"
   },
   {
    "duration": 73191,
    "start_time": "2022-12-12T09:59:47.046Z"
   },
   {
    "duration": 19,
    "start_time": "2022-12-12T10:01:00.239Z"
   },
   {
    "duration": 4336,
    "start_time": "2022-12-12T10:01:00.260Z"
   },
   {
    "duration": 11,
    "start_time": "2022-12-12T10:01:04.598Z"
   },
   {
    "duration": 3729,
    "start_time": "2022-12-12T10:01:04.611Z"
   },
   {
    "duration": 98,
    "start_time": "2022-12-12T10:01:08.343Z"
   },
   {
    "duration": 56,
    "start_time": "2022-12-12T10:01:08.446Z"
   },
   {
    "duration": 74,
    "start_time": "2022-12-12T10:01:08.505Z"
   },
   {
    "duration": 126,
    "start_time": "2022-12-12T10:01:08.581Z"
   },
   {
    "duration": 281074,
    "start_time": "2022-12-12T10:01:08.709Z"
   },
   {
    "duration": 403781,
    "start_time": "2022-12-12T10:05:49.785Z"
   },
   {
    "duration": 14383,
    "start_time": "2022-12-12T10:12:33.567Z"
   },
   {
    "duration": 14874,
    "start_time": "2022-12-12T10:12:47.952Z"
   },
   {
    "duration": 41024,
    "start_time": "2022-12-12T10:13:02.828Z"
   },
   {
    "duration": 1155,
    "start_time": "2022-12-12T10:13:43.854Z"
   },
   {
    "duration": 176,
    "start_time": "2022-12-12T10:13:45.012Z"
   },
   {
    "duration": 7,
    "start_time": "2022-12-12T10:13:45.190Z"
   },
   {
    "duration": 9,
    "start_time": "2022-12-12T10:13:45.198Z"
   },
   {
    "duration": 125,
    "start_time": "2022-12-12T10:26:20.762Z"
   },
   {
    "duration": 7,
    "start_time": "2022-12-12T10:27:51.856Z"
   },
   {
    "duration": 22,
    "start_time": "2022-12-12T10:28:00.421Z"
   },
   {
    "duration": 14,
    "start_time": "2022-12-12T10:28:24.537Z"
   },
   {
    "duration": 14,
    "start_time": "2022-12-12T10:28:41.453Z"
   },
   {
    "duration": 10,
    "start_time": "2022-12-12T10:28:50.154Z"
   },
   {
    "duration": 15,
    "start_time": "2022-12-12T10:29:32.051Z"
   },
   {
    "duration": 12,
    "start_time": "2022-12-12T10:29:40.652Z"
   },
   {
    "duration": 1410,
    "start_time": "2022-12-12T10:29:48.747Z"
   },
   {
    "duration": 44,
    "start_time": "2022-12-12T10:29:50.159Z"
   },
   {
    "duration": 19,
    "start_time": "2022-12-12T10:29:50.205Z"
   },
   {
    "duration": 22,
    "start_time": "2022-12-12T10:29:50.226Z"
   },
   {
    "duration": 8,
    "start_time": "2022-12-12T10:29:50.252Z"
   },
   {
    "duration": 26,
    "start_time": "2022-12-12T10:29:50.262Z"
   },
   {
    "duration": 19,
    "start_time": "2022-12-12T10:29:50.290Z"
   },
   {
    "duration": 15,
    "start_time": "2022-12-12T10:29:50.310Z"
   },
   {
    "duration": 29,
    "start_time": "2022-12-12T10:29:50.327Z"
   },
   {
    "duration": 28,
    "start_time": "2022-12-12T10:29:50.360Z"
   },
   {
    "duration": 32,
    "start_time": "2022-12-12T10:29:50.390Z"
   },
   {
    "duration": 38,
    "start_time": "2022-12-12T10:29:50.424Z"
   },
   {
    "duration": 12,
    "start_time": "2022-12-12T10:29:50.464Z"
   },
   {
    "duration": 9,
    "start_time": "2022-12-12T10:29:50.478Z"
   },
   {
    "duration": 12,
    "start_time": "2022-12-12T10:29:50.489Z"
   },
   {
    "duration": 9,
    "start_time": "2022-12-12T10:29:50.503Z"
   },
   {
    "duration": 28,
    "start_time": "2022-12-12T10:29:50.513Z"
   },
   {
    "duration": 136,
    "start_time": "2022-12-12T10:29:50.542Z"
   },
   {
    "duration": 0,
    "start_time": "2022-12-12T10:29:50.681Z"
   },
   {
    "duration": 0,
    "start_time": "2022-12-12T10:29:50.682Z"
   },
   {
    "duration": 0,
    "start_time": "2022-12-12T10:29:50.683Z"
   },
   {
    "duration": 0,
    "start_time": "2022-12-12T10:29:50.685Z"
   },
   {
    "duration": 0,
    "start_time": "2022-12-12T10:29:50.686Z"
   },
   {
    "duration": 0,
    "start_time": "2022-12-12T10:29:50.687Z"
   },
   {
    "duration": 0,
    "start_time": "2022-12-12T10:29:50.688Z"
   },
   {
    "duration": 0,
    "start_time": "2022-12-12T10:29:50.689Z"
   },
   {
    "duration": 0,
    "start_time": "2022-12-12T10:29:50.690Z"
   },
   {
    "duration": 0,
    "start_time": "2022-12-12T10:29:50.691Z"
   },
   {
    "duration": 0,
    "start_time": "2022-12-12T10:29:50.692Z"
   },
   {
    "duration": 0,
    "start_time": "2022-12-12T10:29:50.693Z"
   },
   {
    "duration": 0,
    "start_time": "2022-12-12T10:29:50.694Z"
   },
   {
    "duration": 0,
    "start_time": "2022-12-12T10:29:50.696Z"
   },
   {
    "duration": 0,
    "start_time": "2022-12-12T10:29:50.697Z"
   },
   {
    "duration": 0,
    "start_time": "2022-12-12T10:29:50.699Z"
   },
   {
    "duration": 0,
    "start_time": "2022-12-12T10:29:50.701Z"
   },
   {
    "duration": 0,
    "start_time": "2022-12-12T10:29:50.702Z"
   },
   {
    "duration": 0,
    "start_time": "2022-12-12T10:29:50.735Z"
   },
   {
    "duration": 0,
    "start_time": "2022-12-12T10:29:50.736Z"
   },
   {
    "duration": 0,
    "start_time": "2022-12-12T10:29:50.737Z"
   },
   {
    "duration": 0,
    "start_time": "2022-12-12T10:29:50.740Z"
   },
   {
    "duration": 0,
    "start_time": "2022-12-12T10:29:50.741Z"
   },
   {
    "duration": 1,
    "start_time": "2022-12-12T10:29:50.741Z"
   },
   {
    "duration": 0,
    "start_time": "2022-12-12T10:29:50.742Z"
   },
   {
    "duration": 0,
    "start_time": "2022-12-12T10:29:50.743Z"
   },
   {
    "duration": 0,
    "start_time": "2022-12-12T10:29:50.744Z"
   },
   {
    "duration": 0,
    "start_time": "2022-12-12T10:29:50.745Z"
   },
   {
    "duration": 0,
    "start_time": "2022-12-12T10:29:50.746Z"
   },
   {
    "duration": 0,
    "start_time": "2022-12-12T10:29:50.747Z"
   },
   {
    "duration": 0,
    "start_time": "2022-12-12T10:29:50.748Z"
   },
   {
    "duration": 0,
    "start_time": "2022-12-12T10:29:50.749Z"
   },
   {
    "duration": 0,
    "start_time": "2022-12-12T10:29:50.750Z"
   },
   {
    "duration": 0,
    "start_time": "2022-12-12T10:29:50.752Z"
   },
   {
    "duration": 0,
    "start_time": "2022-12-12T10:29:50.753Z"
   },
   {
    "duration": 0,
    "start_time": "2022-12-12T10:29:50.754Z"
   },
   {
    "duration": 0,
    "start_time": "2022-12-12T10:29:50.756Z"
   },
   {
    "duration": 0,
    "start_time": "2022-12-12T10:29:50.757Z"
   },
   {
    "duration": 0,
    "start_time": "2022-12-12T10:29:50.758Z"
   },
   {
    "duration": 0,
    "start_time": "2022-12-12T10:29:50.759Z"
   },
   {
    "duration": 0,
    "start_time": "2022-12-12T10:29:50.760Z"
   },
   {
    "duration": 191,
    "start_time": "2022-12-12T10:40:02.878Z"
   },
   {
    "duration": 16,
    "start_time": "2022-12-12T10:44:57.362Z"
   },
   {
    "duration": 12,
    "start_time": "2022-12-12T10:54:02.190Z"
   },
   {
    "duration": 3,
    "start_time": "2022-12-12T10:54:04.976Z"
   },
   {
    "duration": 3,
    "start_time": "2022-12-12T10:54:05.880Z"
   },
   {
    "duration": 3,
    "start_time": "2022-12-12T10:54:06.379Z"
   },
   {
    "duration": 15,
    "start_time": "2022-12-12T10:54:06.936Z"
   },
   {
    "duration": 9,
    "start_time": "2022-12-12T10:54:32.555Z"
   },
   {
    "duration": 17,
    "start_time": "2022-12-12T10:54:34.959Z"
   },
   {
    "duration": 16,
    "start_time": "2022-12-12T10:55:13.660Z"
   },
   {
    "duration": 3,
    "start_time": "2022-12-12T11:00:46.545Z"
   },
   {
    "duration": 3,
    "start_time": "2022-12-12T11:00:48.071Z"
   },
   {
    "duration": 3,
    "start_time": "2022-12-12T11:00:48.581Z"
   },
   {
    "duration": 7,
    "start_time": "2022-12-12T11:00:49.264Z"
   },
   {
    "duration": 12,
    "start_time": "2022-12-12T11:00:50.417Z"
   },
   {
    "duration": 14,
    "start_time": "2022-12-12T11:01:07.865Z"
   },
   {
    "duration": 3,
    "start_time": "2022-12-12T11:02:59.399Z"
   },
   {
    "duration": 15,
    "start_time": "2022-12-12T11:03:00.943Z"
   },
   {
    "duration": 14,
    "start_time": "2022-12-12T11:03:24.417Z"
   },
   {
    "duration": 1202,
    "start_time": "2022-12-12T11:03:34.940Z"
   },
   {
    "duration": 41,
    "start_time": "2022-12-12T11:03:36.144Z"
   },
   {
    "duration": 17,
    "start_time": "2022-12-12T11:03:36.186Z"
   },
   {
    "duration": 14,
    "start_time": "2022-12-12T11:03:36.205Z"
   },
   {
    "duration": 5,
    "start_time": "2022-12-12T11:03:36.220Z"
   },
   {
    "duration": 9,
    "start_time": "2022-12-12T11:03:36.227Z"
   },
   {
    "duration": 5,
    "start_time": "2022-12-12T11:03:36.238Z"
   },
   {
    "duration": 21,
    "start_time": "2022-12-12T11:03:36.245Z"
   },
   {
    "duration": 5,
    "start_time": "2022-12-12T11:03:36.268Z"
   },
   {
    "duration": 18,
    "start_time": "2022-12-12T11:03:36.277Z"
   },
   {
    "duration": 9,
    "start_time": "2022-12-12T11:03:36.297Z"
   },
   {
    "duration": 26,
    "start_time": "2022-12-12T11:03:36.309Z"
   },
   {
    "duration": 4,
    "start_time": "2022-12-12T11:03:36.337Z"
   },
   {
    "duration": 21,
    "start_time": "2022-12-12T11:03:36.342Z"
   },
   {
    "duration": 10,
    "start_time": "2022-12-12T11:03:36.365Z"
   },
   {
    "duration": 13,
    "start_time": "2022-12-12T11:03:36.377Z"
   },
   {
    "duration": 13,
    "start_time": "2022-12-12T11:03:36.392Z"
   },
   {
    "duration": 136,
    "start_time": "2022-12-12T11:03:36.406Z"
   },
   {
    "duration": 0,
    "start_time": "2022-12-12T11:03:36.545Z"
   },
   {
    "duration": 0,
    "start_time": "2022-12-12T11:03:36.546Z"
   },
   {
    "duration": 0,
    "start_time": "2022-12-12T11:03:36.548Z"
   },
   {
    "duration": 0,
    "start_time": "2022-12-12T11:03:36.549Z"
   },
   {
    "duration": 0,
    "start_time": "2022-12-12T11:03:36.551Z"
   },
   {
    "duration": 0,
    "start_time": "2022-12-12T11:03:36.553Z"
   },
   {
    "duration": 0,
    "start_time": "2022-12-12T11:03:36.554Z"
   },
   {
    "duration": 0,
    "start_time": "2022-12-12T11:03:36.556Z"
   },
   {
    "duration": 0,
    "start_time": "2022-12-12T11:03:36.558Z"
   },
   {
    "duration": 0,
    "start_time": "2022-12-12T11:03:36.559Z"
   },
   {
    "duration": 0,
    "start_time": "2022-12-12T11:03:36.560Z"
   },
   {
    "duration": 0,
    "start_time": "2022-12-12T11:03:36.562Z"
   },
   {
    "duration": 0,
    "start_time": "2022-12-12T11:03:36.564Z"
   },
   {
    "duration": 0,
    "start_time": "2022-12-12T11:03:36.565Z"
   },
   {
    "duration": 0,
    "start_time": "2022-12-12T11:03:36.567Z"
   },
   {
    "duration": 0,
    "start_time": "2022-12-12T11:03:36.568Z"
   },
   {
    "duration": 0,
    "start_time": "2022-12-12T11:03:36.570Z"
   },
   {
    "duration": 0,
    "start_time": "2022-12-12T11:03:36.571Z"
   },
   {
    "duration": 0,
    "start_time": "2022-12-12T11:03:36.573Z"
   },
   {
    "duration": 0,
    "start_time": "2022-12-12T11:03:36.574Z"
   },
   {
    "duration": 0,
    "start_time": "2022-12-12T11:03:36.576Z"
   },
   {
    "duration": 0,
    "start_time": "2022-12-12T11:03:36.577Z"
   },
   {
    "duration": 0,
    "start_time": "2022-12-12T11:03:36.578Z"
   },
   {
    "duration": 0,
    "start_time": "2022-12-12T11:03:36.580Z"
   },
   {
    "duration": 0,
    "start_time": "2022-12-12T11:03:36.581Z"
   },
   {
    "duration": 0,
    "start_time": "2022-12-12T11:03:36.635Z"
   },
   {
    "duration": 0,
    "start_time": "2022-12-12T11:03:36.636Z"
   },
   {
    "duration": 0,
    "start_time": "2022-12-12T11:03:36.638Z"
   },
   {
    "duration": 0,
    "start_time": "2022-12-12T11:03:36.639Z"
   },
   {
    "duration": 0,
    "start_time": "2022-12-12T11:03:36.640Z"
   },
   {
    "duration": 0,
    "start_time": "2022-12-12T11:03:36.641Z"
   },
   {
    "duration": 0,
    "start_time": "2022-12-12T11:03:36.643Z"
   },
   {
    "duration": 0,
    "start_time": "2022-12-12T11:03:36.643Z"
   },
   {
    "duration": 0,
    "start_time": "2022-12-12T11:03:36.644Z"
   },
   {
    "duration": 0,
    "start_time": "2022-12-12T11:03:36.646Z"
   },
   {
    "duration": 0,
    "start_time": "2022-12-12T11:03:36.647Z"
   },
   {
    "duration": 0,
    "start_time": "2022-12-12T11:03:36.648Z"
   },
   {
    "duration": 0,
    "start_time": "2022-12-12T11:03:36.649Z"
   },
   {
    "duration": 0,
    "start_time": "2022-12-12T11:03:36.650Z"
   },
   {
    "duration": 0,
    "start_time": "2022-12-12T11:03:36.652Z"
   },
   {
    "duration": 1282,
    "start_time": "2022-12-12T11:06:00.446Z"
   },
   {
    "duration": 42,
    "start_time": "2022-12-12T11:06:01.730Z"
   },
   {
    "duration": 19,
    "start_time": "2022-12-12T11:06:01.774Z"
   },
   {
    "duration": 29,
    "start_time": "2022-12-12T11:06:01.795Z"
   },
   {
    "duration": 23,
    "start_time": "2022-12-12T11:06:01.826Z"
   },
   {
    "duration": 34,
    "start_time": "2022-12-12T11:06:01.852Z"
   },
   {
    "duration": 42,
    "start_time": "2022-12-12T11:06:01.888Z"
   },
   {
    "duration": 41,
    "start_time": "2022-12-12T11:06:01.933Z"
   },
   {
    "duration": 18,
    "start_time": "2022-12-12T11:06:01.977Z"
   },
   {
    "duration": 31,
    "start_time": "2022-12-12T11:06:02.000Z"
   },
   {
    "duration": 12,
    "start_time": "2022-12-12T11:06:02.032Z"
   },
   {
    "duration": 13,
    "start_time": "2022-12-12T11:06:02.046Z"
   },
   {
    "duration": 19,
    "start_time": "2022-12-12T11:06:02.061Z"
   },
   {
    "duration": 20,
    "start_time": "2022-12-12T11:06:02.082Z"
   },
   {
    "duration": 11,
    "start_time": "2022-12-12T11:06:02.104Z"
   },
   {
    "duration": 21,
    "start_time": "2022-12-12T11:06:02.116Z"
   },
   {
    "duration": 123,
    "start_time": "2022-12-12T11:06:02.139Z"
   },
   {
    "duration": 0,
    "start_time": "2022-12-12T11:06:02.265Z"
   },
   {
    "duration": 0,
    "start_time": "2022-12-12T11:06:02.266Z"
   },
   {
    "duration": 0,
    "start_time": "2022-12-12T11:06:02.268Z"
   },
   {
    "duration": 0,
    "start_time": "2022-12-12T11:06:02.269Z"
   },
   {
    "duration": 0,
    "start_time": "2022-12-12T11:06:02.270Z"
   },
   {
    "duration": 0,
    "start_time": "2022-12-12T11:06:02.272Z"
   },
   {
    "duration": 0,
    "start_time": "2022-12-12T11:06:02.273Z"
   },
   {
    "duration": 0,
    "start_time": "2022-12-12T11:06:02.274Z"
   },
   {
    "duration": 0,
    "start_time": "2022-12-12T11:06:02.276Z"
   },
   {
    "duration": 0,
    "start_time": "2022-12-12T11:06:02.277Z"
   },
   {
    "duration": 0,
    "start_time": "2022-12-12T11:06:02.278Z"
   },
   {
    "duration": 0,
    "start_time": "2022-12-12T11:06:02.279Z"
   },
   {
    "duration": 0,
    "start_time": "2022-12-12T11:06:02.280Z"
   },
   {
    "duration": 0,
    "start_time": "2022-12-12T11:06:02.281Z"
   },
   {
    "duration": 0,
    "start_time": "2022-12-12T11:06:02.282Z"
   },
   {
    "duration": 0,
    "start_time": "2022-12-12T11:06:02.283Z"
   },
   {
    "duration": 0,
    "start_time": "2022-12-12T11:06:02.285Z"
   },
   {
    "duration": 0,
    "start_time": "2022-12-12T11:06:02.286Z"
   },
   {
    "duration": 0,
    "start_time": "2022-12-12T11:06:02.287Z"
   },
   {
    "duration": 0,
    "start_time": "2022-12-12T11:06:02.289Z"
   },
   {
    "duration": 0,
    "start_time": "2022-12-12T11:06:02.290Z"
   },
   {
    "duration": 0,
    "start_time": "2022-12-12T11:06:02.291Z"
   },
   {
    "duration": 0,
    "start_time": "2022-12-12T11:06:02.336Z"
   },
   {
    "duration": 0,
    "start_time": "2022-12-12T11:06:02.337Z"
   },
   {
    "duration": 0,
    "start_time": "2022-12-12T11:06:02.339Z"
   },
   {
    "duration": 0,
    "start_time": "2022-12-12T11:06:02.339Z"
   },
   {
    "duration": 0,
    "start_time": "2022-12-12T11:06:02.340Z"
   },
   {
    "duration": 0,
    "start_time": "2022-12-12T11:06:02.342Z"
   },
   {
    "duration": 0,
    "start_time": "2022-12-12T11:06:02.343Z"
   },
   {
    "duration": 0,
    "start_time": "2022-12-12T11:06:02.344Z"
   },
   {
    "duration": 0,
    "start_time": "2022-12-12T11:06:02.345Z"
   },
   {
    "duration": 0,
    "start_time": "2022-12-12T11:06:02.346Z"
   },
   {
    "duration": 0,
    "start_time": "2022-12-12T11:06:02.347Z"
   },
   {
    "duration": 0,
    "start_time": "2022-12-12T11:06:02.348Z"
   },
   {
    "duration": 0,
    "start_time": "2022-12-12T11:06:02.349Z"
   },
   {
    "duration": 0,
    "start_time": "2022-12-12T11:06:02.350Z"
   },
   {
    "duration": 0,
    "start_time": "2022-12-12T11:06:02.351Z"
   },
   {
    "duration": 0,
    "start_time": "2022-12-12T11:06:02.352Z"
   },
   {
    "duration": 0,
    "start_time": "2022-12-12T11:06:02.354Z"
   },
   {
    "duration": 0,
    "start_time": "2022-12-12T11:06:02.355Z"
   },
   {
    "duration": 10,
    "start_time": "2022-12-12T11:06:46.090Z"
   },
   {
    "duration": 29,
    "start_time": "2022-12-12T11:06:48.018Z"
   },
   {
    "duration": 11,
    "start_time": "2022-12-12T11:09:13.390Z"
   },
   {
    "duration": 13,
    "start_time": "2022-12-12T11:09:30.758Z"
   },
   {
    "duration": 20,
    "start_time": "2022-12-12T11:10:08.037Z"
   },
   {
    "duration": 11,
    "start_time": "2022-12-12T11:10:12.294Z"
   },
   {
    "duration": 18,
    "start_time": "2022-12-12T11:11:38.975Z"
   },
   {
    "duration": 12,
    "start_time": "2022-12-12T11:12:11.359Z"
   },
   {
    "duration": 148,
    "start_time": "2022-12-12T11:12:17.967Z"
   },
   {
    "duration": 1177,
    "start_time": "2022-12-12T11:12:28.789Z"
   },
   {
    "duration": 40,
    "start_time": "2022-12-12T11:12:29.969Z"
   },
   {
    "duration": 20,
    "start_time": "2022-12-12T11:12:30.010Z"
   },
   {
    "duration": 28,
    "start_time": "2022-12-12T11:12:30.032Z"
   },
   {
    "duration": 8,
    "start_time": "2022-12-12T11:12:30.062Z"
   },
   {
    "duration": 9,
    "start_time": "2022-12-12T11:12:30.071Z"
   },
   {
    "duration": 12,
    "start_time": "2022-12-12T11:12:30.082Z"
   },
   {
    "duration": 26,
    "start_time": "2022-12-12T11:12:30.096Z"
   },
   {
    "duration": 31,
    "start_time": "2022-12-12T11:12:30.124Z"
   },
   {
    "duration": 17,
    "start_time": "2022-12-12T11:12:30.158Z"
   },
   {
    "duration": 16,
    "start_time": "2022-12-12T11:12:30.177Z"
   },
   {
    "duration": 17,
    "start_time": "2022-12-12T11:12:30.195Z"
   },
   {
    "duration": 13,
    "start_time": "2022-12-12T11:12:30.214Z"
   },
   {
    "duration": 30,
    "start_time": "2022-12-12T11:12:30.230Z"
   },
   {
    "duration": 20,
    "start_time": "2022-12-12T11:12:30.262Z"
   },
   {
    "duration": 21,
    "start_time": "2022-12-12T11:12:30.284Z"
   },
   {
    "duration": 13,
    "start_time": "2022-12-12T11:12:30.307Z"
   },
   {
    "duration": 18,
    "start_time": "2022-12-12T11:12:30.322Z"
   },
   {
    "duration": 53,
    "start_time": "2022-12-12T11:12:30.341Z"
   },
   {
    "duration": 23,
    "start_time": "2022-12-12T11:12:30.396Z"
   },
   {
    "duration": 39,
    "start_time": "2022-12-12T11:12:30.420Z"
   },
   {
    "duration": 140,
    "start_time": "2022-12-12T11:12:30.461Z"
   },
   {
    "duration": 51037,
    "start_time": "2022-12-12T11:12:30.602Z"
   },
   {
    "duration": 16,
    "start_time": "2022-12-12T11:13:21.643Z"
   },
   {
    "duration": 15,
    "start_time": "2022-12-12T11:13:21.661Z"
   },
   {
    "duration": 153549,
    "start_time": "2022-12-12T11:13:21.677Z"
   },
   {
    "duration": 253973,
    "start_time": "2022-12-12T11:15:55.228Z"
   },
   {
    "duration": 3612,
    "start_time": "2022-12-12T11:20:09.204Z"
   },
   {
    "duration": 31,
    "start_time": "2022-12-12T11:20:12.819Z"
   },
   {
    "duration": 68,
    "start_time": "2022-12-12T11:20:12.854Z"
   },
   {
    "duration": 9265,
    "start_time": "2022-12-12T11:20:12.924Z"
   },
   {
    "duration": 9687,
    "start_time": "2022-12-12T11:20:22.191Z"
   },
   {
    "duration": 3559,
    "start_time": "2022-12-12T11:20:31.880Z"
   },
   {
    "duration": 15,
    "start_time": "2022-12-12T11:20:35.442Z"
   },
   {
    "duration": 83,
    "start_time": "2022-12-12T11:20:35.460Z"
   },
   {
    "duration": 62300,
    "start_time": "2022-12-12T11:20:35.545Z"
   },
   {
    "duration": 6,
    "start_time": "2022-12-12T11:21:37.850Z"
   },
   {
    "duration": 18,
    "start_time": "2022-12-12T11:21:37.858Z"
   },
   {
    "duration": 118,
    "start_time": "2022-12-12T11:21:37.878Z"
   },
   {
    "duration": 69156,
    "start_time": "2022-12-12T11:21:37.999Z"
   },
   {
    "duration": 13,
    "start_time": "2022-12-12T11:22:47.157Z"
   },
   {
    "duration": 4155,
    "start_time": "2022-12-12T11:22:47.172Z"
   },
   {
    "duration": 23,
    "start_time": "2022-12-12T11:22:51.329Z"
   },
   {
    "duration": 3715,
    "start_time": "2022-12-12T11:22:51.354Z"
   },
   {
    "duration": 97,
    "start_time": "2022-12-12T11:22:55.142Z"
   },
   {
    "duration": 56,
    "start_time": "2022-12-12T11:22:55.241Z"
   },
   {
    "duration": 59,
    "start_time": "2022-12-12T11:22:55.298Z"
   },
   {
    "duration": 149,
    "start_time": "2022-12-12T11:22:55.359Z"
   },
   {
    "duration": 282021,
    "start_time": "2022-12-12T11:22:55.511Z"
   },
   {
    "duration": 402845,
    "start_time": "2022-12-12T11:27:37.536Z"
   },
   {
    "duration": 15114,
    "start_time": "2022-12-12T11:34:20.383Z"
   },
   {
    "duration": 16397,
    "start_time": "2022-12-12T11:34:35.500Z"
   },
   {
    "duration": 1328,
    "start_time": "2022-12-12T11:35:24.395Z"
   },
   {
    "duration": 50,
    "start_time": "2022-12-12T11:35:25.725Z"
   },
   {
    "duration": 18,
    "start_time": "2022-12-12T11:35:25.776Z"
   },
   {
    "duration": 24,
    "start_time": "2022-12-12T11:35:25.797Z"
   },
   {
    "duration": 19,
    "start_time": "2022-12-12T11:35:25.824Z"
   },
   {
    "duration": 29,
    "start_time": "2022-12-12T11:35:25.845Z"
   },
   {
    "duration": 22,
    "start_time": "2022-12-12T11:35:25.876Z"
   },
   {
    "duration": 39,
    "start_time": "2022-12-12T11:35:25.901Z"
   },
   {
    "duration": 14,
    "start_time": "2022-12-12T11:35:25.944Z"
   },
   {
    "duration": 35,
    "start_time": "2022-12-12T11:35:25.961Z"
   },
   {
    "duration": 26,
    "start_time": "2022-12-12T11:35:25.998Z"
   },
   {
    "duration": 8,
    "start_time": "2022-12-12T11:35:26.026Z"
   },
   {
    "duration": 44,
    "start_time": "2022-12-12T11:35:26.035Z"
   },
   {
    "duration": 23,
    "start_time": "2022-12-12T11:35:26.081Z"
   },
   {
    "duration": 14,
    "start_time": "2022-12-12T11:35:26.106Z"
   },
   {
    "duration": 41,
    "start_time": "2022-12-12T11:35:26.122Z"
   },
   {
    "duration": 27,
    "start_time": "2022-12-12T11:35:26.165Z"
   },
   {
    "duration": 16,
    "start_time": "2022-12-12T11:35:26.194Z"
   },
   {
    "duration": 19,
    "start_time": "2022-12-12T11:35:26.212Z"
   },
   {
    "duration": 39,
    "start_time": "2022-12-12T11:35:26.233Z"
   },
   {
    "duration": 49,
    "start_time": "2022-12-12T11:35:26.274Z"
   },
   {
    "duration": 142,
    "start_time": "2022-12-12T11:35:26.325Z"
   },
   {
    "duration": 51322,
    "start_time": "2022-12-12T11:35:26.469Z"
   },
   {
    "duration": 12,
    "start_time": "2022-12-12T11:36:17.792Z"
   },
   {
    "duration": 15,
    "start_time": "2022-12-12T11:36:17.805Z"
   },
   {
    "duration": 170069,
    "start_time": "2022-12-12T11:36:17.822Z"
   },
   {
    "duration": 251312,
    "start_time": "2022-12-12T11:39:07.893Z"
   },
   {
    "duration": 3852,
    "start_time": "2022-12-12T11:43:19.210Z"
   },
   {
    "duration": 14,
    "start_time": "2022-12-12T11:43:23.064Z"
   },
   {
    "duration": 9,
    "start_time": "2022-12-12T11:43:23.080Z"
   },
   {
    "duration": 9293,
    "start_time": "2022-12-12T11:43:23.091Z"
   },
   {
    "duration": 9997,
    "start_time": "2022-12-12T11:43:32.385Z"
   },
   {
    "duration": 2974,
    "start_time": "2022-12-12T11:43:42.383Z"
   },
   {
    "duration": 96,
    "start_time": "2022-12-12T11:43:45.359Z"
   },
   {
    "duration": 34,
    "start_time": "2022-12-12T11:43:45.457Z"
   },
   {
    "duration": 79876,
    "start_time": "2022-12-12T11:43:45.493Z"
   },
   {
    "duration": 19,
    "start_time": "2022-12-12T11:45:05.434Z"
   },
   {
    "duration": 116,
    "start_time": "2022-12-12T11:45:05.458Z"
   },
   {
    "duration": 150,
    "start_time": "2022-12-12T11:45:05.577Z"
   },
   {
    "duration": 73804,
    "start_time": "2022-12-12T11:45:05.729Z"
   },
   {
    "duration": 26,
    "start_time": "2022-12-12T11:46:19.535Z"
   },
   {
    "duration": 4495,
    "start_time": "2022-12-12T11:46:19.565Z"
   },
   {
    "duration": 16,
    "start_time": "2022-12-12T11:46:24.064Z"
   },
   {
    "duration": 3478,
    "start_time": "2022-12-12T11:46:24.082Z"
   },
   {
    "duration": 177,
    "start_time": "2022-12-12T11:46:27.561Z"
   },
   {
    "duration": 49,
    "start_time": "2022-12-12T11:46:27.745Z"
   },
   {
    "duration": 58,
    "start_time": "2022-12-12T11:46:27.796Z"
   },
   {
    "duration": 115,
    "start_time": "2022-12-12T11:46:27.862Z"
   },
   {
    "duration": 313649,
    "start_time": "2022-12-12T11:46:27.980Z"
   },
   {
    "duration": 430222,
    "start_time": "2022-12-12T11:51:41.634Z"
   },
   {
    "duration": 15229,
    "start_time": "2022-12-12T11:58:51.859Z"
   },
   {
    "duration": 16528,
    "start_time": "2022-12-12T11:59:07.090Z"
   },
   {
    "duration": 62436,
    "start_time": "2022-12-12T11:59:23.620Z"
   },
   {
    "duration": 1293,
    "start_time": "2022-12-12T12:00:26.058Z"
   },
   {
    "duration": 175,
    "start_time": "2022-12-12T12:00:27.353Z"
   },
   {
    "duration": 17,
    "start_time": "2022-12-12T12:00:27.529Z"
   },
   {
    "duration": 32,
    "start_time": "2022-12-12T12:00:27.548Z"
   },
   {
    "duration": 11,
    "start_time": "2022-12-12T12:14:10.412Z"
   },
   {
    "duration": 111,
    "start_time": "2022-12-12T12:14:37.549Z"
   },
   {
    "duration": 13,
    "start_time": "2022-12-12T12:15:01.989Z"
   },
   {
    "duration": 121,
    "start_time": "2022-12-12T12:15:02.590Z"
   },
   {
    "duration": 2663,
    "start_time": "2022-12-12T12:23:55.531Z"
   },
   {
    "duration": 1192,
    "start_time": "2022-12-12T12:23:58.197Z"
   },
   {
    "duration": 41,
    "start_time": "2022-12-12T12:23:59.391Z"
   },
   {
    "duration": 18,
    "start_time": "2022-12-12T12:23:59.435Z"
   },
   {
    "duration": 14,
    "start_time": "2022-12-12T12:23:59.455Z"
   },
   {
    "duration": 27,
    "start_time": "2022-12-12T12:23:59.471Z"
   },
   {
    "duration": 14,
    "start_time": "2022-12-12T12:23:59.499Z"
   },
   {
    "duration": 9,
    "start_time": "2022-12-12T12:23:59.514Z"
   },
   {
    "duration": 14,
    "start_time": "2022-12-12T12:23:59.524Z"
   },
   {
    "duration": 10,
    "start_time": "2022-12-12T12:23:59.541Z"
   },
   {
    "duration": 12,
    "start_time": "2022-12-12T12:23:59.553Z"
   },
   {
    "duration": 7,
    "start_time": "2022-12-12T12:23:59.567Z"
   },
   {
    "duration": 5,
    "start_time": "2022-12-12T12:23:59.576Z"
   },
   {
    "duration": 6,
    "start_time": "2022-12-12T12:23:59.583Z"
   },
   {
    "duration": 6,
    "start_time": "2022-12-12T12:23:59.591Z"
   },
   {
    "duration": 8,
    "start_time": "2022-12-12T12:23:59.599Z"
   },
   {
    "duration": 27,
    "start_time": "2022-12-12T12:23:59.608Z"
   },
   {
    "duration": 11,
    "start_time": "2022-12-12T12:23:59.637Z"
   },
   {
    "duration": 25,
    "start_time": "2022-12-12T12:23:59.649Z"
   },
   {
    "duration": 17,
    "start_time": "2022-12-12T12:23:59.676Z"
   },
   {
    "duration": 10,
    "start_time": "2022-12-12T12:23:59.695Z"
   },
   {
    "duration": 59,
    "start_time": "2022-12-12T12:23:59.707Z"
   },
   {
    "duration": 169,
    "start_time": "2022-12-12T12:23:59.768Z"
   },
   {
    "duration": 47442,
    "start_time": "2022-12-12T12:23:59.938Z"
   },
   {
    "duration": 12,
    "start_time": "2022-12-12T12:24:47.381Z"
   },
   {
    "duration": 28,
    "start_time": "2022-12-12T12:24:47.395Z"
   },
   {
    "duration": 143070,
    "start_time": "2022-12-12T12:24:47.424Z"
   },
   {
    "duration": 233072,
    "start_time": "2022-12-12T12:27:10.498Z"
   },
   {
    "duration": 3364,
    "start_time": "2022-12-12T12:31:03.572Z"
   },
   {
    "duration": 10,
    "start_time": "2022-12-12T12:31:06.938Z"
   },
   {
    "duration": 9,
    "start_time": "2022-12-12T12:31:06.950Z"
   },
   {
    "duration": 8519,
    "start_time": "2022-12-12T12:31:06.961Z"
   },
   {
    "duration": 8973,
    "start_time": "2022-12-12T12:31:15.482Z"
   },
   {
    "duration": 3685,
    "start_time": "2022-12-12T12:31:24.456Z"
   },
   {
    "duration": 102,
    "start_time": "2022-12-12T12:31:28.143Z"
   },
   {
    "duration": 94,
    "start_time": "2022-12-12T12:31:28.248Z"
   },
   {
    "duration": 35393,
    "start_time": "2022-12-12T12:31:28.344Z"
   },
   {
    "duration": 9,
    "start_time": "2022-12-12T12:32:03.740Z"
   },
   {
    "duration": 13,
    "start_time": "2022-12-12T12:32:03.836Z"
   },
   {
    "duration": 117,
    "start_time": "2022-12-12T12:32:03.851Z"
   },
   {
    "duration": 64948,
    "start_time": "2022-12-12T12:32:03.969Z"
   },
   {
    "duration": 17,
    "start_time": "2022-12-12T12:33:08.920Z"
   },
   {
    "duration": 4164,
    "start_time": "2022-12-12T12:33:08.939Z"
   },
   {
    "duration": 12,
    "start_time": "2022-12-12T12:33:13.105Z"
   },
   {
    "duration": 3927,
    "start_time": "2022-12-12T12:33:13.118Z"
   },
   {
    "duration": 190,
    "start_time": "2022-12-12T12:33:17.047Z"
   },
   {
    "duration": 15,
    "start_time": "2022-12-12T12:33:17.240Z"
   },
   {
    "duration": 122,
    "start_time": "2022-12-12T12:33:17.257Z"
   },
   {
    "duration": 65866,
    "start_time": "2022-12-12T12:33:17.381Z"
   },
   {
    "duration": 12,
    "start_time": "2022-12-12T12:34:23.249Z"
   },
   {
    "duration": 4220,
    "start_time": "2022-12-12T12:34:23.263Z"
   },
   {
    "duration": 3774,
    "start_time": "2022-12-12T12:34:27.485Z"
   },
   {
    "duration": 103,
    "start_time": "2022-12-12T12:34:31.345Z"
   },
   {
    "duration": 69,
    "start_time": "2022-12-12T12:34:31.450Z"
   },
   {
    "duration": 105,
    "start_time": "2022-12-12T12:34:31.520Z"
   },
   {
    "duration": 273839,
    "start_time": "2022-12-12T12:34:31.639Z"
   },
   {
    "duration": 141888,
    "start_time": "2022-12-12T12:39:05.480Z"
   },
   {
    "duration": 14980,
    "start_time": "2022-12-12T12:41:27.370Z"
   },
   {
    "duration": 15985,
    "start_time": "2022-12-12T12:41:42.354Z"
   },
   {
    "duration": 74805,
    "start_time": "2022-12-12T12:41:58.341Z"
   },
   {
    "duration": 1201,
    "start_time": "2022-12-12T12:43:13.148Z"
   },
   {
    "duration": 177,
    "start_time": "2022-12-12T12:43:14.351Z"
   },
   {
    "duration": 13,
    "start_time": "2022-12-12T12:43:14.530Z"
   },
   {
    "duration": 37,
    "start_time": "2022-12-12T12:43:14.547Z"
   },
   {
    "duration": 20,
    "start_time": "2022-12-12T12:43:44.666Z"
   },
   {
    "duration": 116,
    "start_time": "2022-12-12T12:43:44.688Z"
   },
   {
    "duration": 30112,
    "start_time": "2022-12-12T12:44:15.677Z"
   },
   {
    "duration": 12,
    "start_time": "2022-12-12T12:44:45.791Z"
   },
   {
    "duration": 75,
    "start_time": "2022-12-12T12:44:45.805Z"
   },
   {
    "duration": 121,
    "start_time": "2022-12-12T12:44:45.882Z"
   },
   {
    "duration": 386880,
    "start_time": "2022-12-12T12:44:46.005Z"
   },
   {
    "duration": 11,
    "start_time": "2022-12-12T12:51:12.888Z"
   },
   {
    "duration": 149,
    "start_time": "2022-12-12T12:51:12.901Z"
   },
   {
    "duration": 12,
    "start_time": "2022-12-12T12:55:40.614Z"
   },
   {
    "duration": 104,
    "start_time": "2022-12-12T12:55:42.046Z"
   },
   {
    "duration": 29525,
    "start_time": "2022-12-12T12:55:49.870Z"
   },
   {
    "duration": 12,
    "start_time": "2022-12-12T12:56:19.397Z"
   },
   {
    "duration": 1100,
    "start_time": "2022-12-12T12:59:09.996Z"
   },
   {
    "duration": 51,
    "start_time": "2022-12-12T12:59:33.805Z"
   },
   {
    "duration": 1251,
    "start_time": "2022-12-12T12:59:42.694Z"
   },
   {
    "duration": 13,
    "start_time": "2022-12-12T13:00:39.486Z"
   },
   {
    "duration": 733,
    "start_time": "2022-12-12T13:00:55.098Z"
   },
   {
    "duration": 57,
    "start_time": "2022-12-12T13:01:15.299Z"
   },
   {
    "duration": 1150,
    "start_time": "2022-12-12T13:01:30.167Z"
   },
   {
    "duration": 6215,
    "start_time": "2022-12-13T04:15:56.598Z"
   },
   {
    "duration": 1353,
    "start_time": "2022-12-13T04:16:02.815Z"
   },
   {
    "duration": 89,
    "start_time": "2022-12-13T04:16:04.170Z"
   },
   {
    "duration": 16,
    "start_time": "2022-12-13T04:16:04.261Z"
   },
   {
    "duration": 13,
    "start_time": "2022-12-13T04:16:04.278Z"
   },
   {
    "duration": 5,
    "start_time": "2022-12-13T04:16:04.293Z"
   },
   {
    "duration": 7,
    "start_time": "2022-12-13T04:16:04.299Z"
   },
   {
    "duration": 7,
    "start_time": "2022-12-13T04:16:04.307Z"
   },
   {
    "duration": 11,
    "start_time": "2022-12-13T04:16:04.316Z"
   },
   {
    "duration": 4,
    "start_time": "2022-12-13T04:16:04.330Z"
   },
   {
    "duration": 18,
    "start_time": "2022-12-13T04:16:04.336Z"
   },
   {
    "duration": 7,
    "start_time": "2022-12-13T04:16:04.355Z"
   },
   {
    "duration": 4,
    "start_time": "2022-12-13T04:16:04.363Z"
   },
   {
    "duration": 10,
    "start_time": "2022-12-13T04:16:04.369Z"
   },
   {
    "duration": 23,
    "start_time": "2022-12-13T04:16:04.381Z"
   },
   {
    "duration": 17,
    "start_time": "2022-12-13T04:16:04.405Z"
   },
   {
    "duration": 12,
    "start_time": "2022-12-13T04:16:04.424Z"
   },
   {
    "duration": 13,
    "start_time": "2022-12-13T04:16:04.437Z"
   },
   {
    "duration": 10,
    "start_time": "2022-12-13T04:16:04.451Z"
   },
   {
    "duration": 19,
    "start_time": "2022-12-13T04:16:04.462Z"
   },
   {
    "duration": 12,
    "start_time": "2022-12-13T04:16:04.482Z"
   },
   {
    "duration": 66,
    "start_time": "2022-12-13T04:16:04.496Z"
   },
   {
    "duration": 135,
    "start_time": "2022-12-13T04:16:04.564Z"
   },
   {
    "duration": 41894,
    "start_time": "2022-12-13T04:16:04.701Z"
   },
   {
    "duration": 12,
    "start_time": "2022-12-13T04:16:46.597Z"
   },
   {
    "duration": 14,
    "start_time": "2022-12-13T04:16:46.611Z"
   },
   {
    "duration": 127391,
    "start_time": "2022-12-13T04:16:46.626Z"
   },
   {
    "duration": 197137,
    "start_time": "2022-12-13T04:18:54.023Z"
   },
   {
    "duration": 2834,
    "start_time": "2022-12-13T04:22:11.161Z"
   },
   {
    "duration": 10,
    "start_time": "2022-12-13T04:22:13.997Z"
   },
   {
    "duration": 13,
    "start_time": "2022-12-13T04:22:14.008Z"
   },
   {
    "duration": 7304,
    "start_time": "2022-12-13T04:22:14.023Z"
   },
   {
    "duration": 7667,
    "start_time": "2022-12-13T04:22:21.328Z"
   },
   {
    "duration": 3429,
    "start_time": "2022-12-13T04:22:28.997Z"
   },
   {
    "duration": 102,
    "start_time": "2022-12-13T04:22:32.428Z"
   },
   {
    "duration": 22,
    "start_time": "2022-12-13T04:22:32.532Z"
   },
   {
    "duration": 30976,
    "start_time": "2022-12-13T04:22:32.555Z"
   },
   {
    "duration": 8,
    "start_time": "2022-12-13T04:23:03.622Z"
   },
   {
    "duration": 15,
    "start_time": "2022-12-13T04:23:03.720Z"
   },
   {
    "duration": 103,
    "start_time": "2022-12-13T04:23:03.737Z"
   },
   {
    "duration": 55440,
    "start_time": "2022-12-13T04:23:03.842Z"
   },
   {
    "duration": 10,
    "start_time": "2022-12-13T04:23:59.284Z"
   },
   {
    "duration": 3507,
    "start_time": "2022-12-13T04:23:59.295Z"
   },
   {
    "duration": 10,
    "start_time": "2022-12-13T04:24:02.804Z"
   },
   {
    "duration": 3812,
    "start_time": "2022-12-13T04:24:02.821Z"
   },
   {
    "duration": 102,
    "start_time": "2022-12-13T04:24:06.720Z"
   },
   {
    "duration": 13,
    "start_time": "2022-12-13T04:24:06.824Z"
   },
   {
    "duration": 107,
    "start_time": "2022-12-13T04:24:06.838Z"
   },
   {
    "duration": 25069,
    "start_time": "2022-12-13T04:24:06.947Z"
   },
   {
    "duration": 12,
    "start_time": "2022-12-13T04:24:32.017Z"
   },
   {
    "duration": 1466,
    "start_time": "2022-12-13T04:24:32.031Z"
   },
   {
    "duration": 2623,
    "start_time": "2022-12-13T04:24:33.499Z"
   },
   {
    "duration": 101,
    "start_time": "2022-12-13T04:24:36.128Z"
   },
   {
    "duration": 50,
    "start_time": "2022-12-13T04:24:36.230Z"
   },
   {
    "duration": 96,
    "start_time": "2022-12-13T04:24:36.281Z"
   },
   {
    "duration": 226185,
    "start_time": "2022-12-13T04:24:36.378Z"
   },
   {
    "duration": 316365,
    "start_time": "2022-12-13T04:28:22.565Z"
   },
   {
    "duration": 12551,
    "start_time": "2022-12-13T04:33:38.932Z"
   },
   {
    "duration": 12994,
    "start_time": "2022-12-13T04:33:51.485Z"
   },
   {
    "duration": 37053,
    "start_time": "2022-12-13T04:34:04.480Z"
   },
   {
    "duration": 988,
    "start_time": "2022-12-13T04:34:41.535Z"
   },
   {
    "duration": 164,
    "start_time": "2022-12-13T04:34:42.524Z"
   },
   {
    "duration": 5,
    "start_time": "2022-12-13T04:34:42.690Z"
   },
   {
    "duration": 8,
    "start_time": "2022-12-13T04:34:42.696Z"
   },
   {
    "duration": 2095,
    "start_time": "2022-12-13T04:43:53.874Z"
   },
   {
    "duration": 1137,
    "start_time": "2022-12-13T04:43:55.971Z"
   },
   {
    "duration": 39,
    "start_time": "2022-12-13T04:43:57.110Z"
   },
   {
    "duration": 16,
    "start_time": "2022-12-13T04:43:57.151Z"
   },
   {
    "duration": 13,
    "start_time": "2022-12-13T04:43:57.168Z"
   },
   {
    "duration": 21,
    "start_time": "2022-12-13T04:43:57.183Z"
   },
   {
    "duration": 21,
    "start_time": "2022-12-13T04:43:57.205Z"
   },
   {
    "duration": 19,
    "start_time": "2022-12-13T04:43:57.227Z"
   },
   {
    "duration": 17,
    "start_time": "2022-12-13T04:43:57.247Z"
   },
   {
    "duration": 28,
    "start_time": "2022-12-13T04:43:57.266Z"
   },
   {
    "duration": 38,
    "start_time": "2022-12-13T04:43:57.296Z"
   },
   {
    "duration": 13,
    "start_time": "2022-12-13T04:43:57.335Z"
   },
   {
    "duration": 9,
    "start_time": "2022-12-13T04:43:57.349Z"
   },
   {
    "duration": 22,
    "start_time": "2022-12-13T04:43:57.360Z"
   },
   {
    "duration": 25,
    "start_time": "2022-12-13T04:43:57.384Z"
   },
   {
    "duration": 31,
    "start_time": "2022-12-13T04:43:57.411Z"
   },
   {
    "duration": 22,
    "start_time": "2022-12-13T04:43:57.443Z"
   },
   {
    "duration": 26,
    "start_time": "2022-12-13T04:43:57.467Z"
   },
   {
    "duration": 18,
    "start_time": "2022-12-13T04:43:57.495Z"
   },
   {
    "duration": 27,
    "start_time": "2022-12-13T04:43:57.515Z"
   },
   {
    "duration": 26,
    "start_time": "2022-12-13T04:43:57.544Z"
   },
   {
    "duration": 52,
    "start_time": "2022-12-13T04:43:57.572Z"
   },
   {
    "duration": 123,
    "start_time": "2022-12-13T04:43:57.626Z"
   },
   {
    "duration": 42865,
    "start_time": "2022-12-13T04:43:57.751Z"
   },
   {
    "duration": 11,
    "start_time": "2022-12-13T04:44:40.620Z"
   },
   {
    "duration": 16,
    "start_time": "2022-12-13T04:44:40.632Z"
   },
   {
    "duration": 128623,
    "start_time": "2022-12-13T04:44:40.650Z"
   },
   {
    "duration": 187754,
    "start_time": "2022-12-13T04:46:49.278Z"
   },
   {
    "duration": 2941,
    "start_time": "2022-12-13T04:49:57.034Z"
   },
   {
    "duration": 19,
    "start_time": "2022-12-13T04:49:59.977Z"
   },
   {
    "duration": 37,
    "start_time": "2022-12-13T04:49:59.998Z"
   },
   {
    "duration": 7653,
    "start_time": "2022-12-13T04:50:00.037Z"
   },
   {
    "duration": 7890,
    "start_time": "2022-12-13T04:50:07.692Z"
   },
   {
    "duration": 3343,
    "start_time": "2022-12-13T04:50:15.583Z"
   },
   {
    "duration": 101,
    "start_time": "2022-12-13T04:50:18.928Z"
   },
   {
    "duration": 9,
    "start_time": "2022-12-13T04:50:19.031Z"
   },
   {
    "duration": 31287,
    "start_time": "2022-12-13T04:50:19.041Z"
   },
   {
    "duration": 97,
    "start_time": "2022-12-13T04:50:50.331Z"
   },
   {
    "duration": 100,
    "start_time": "2022-12-13T04:50:50.432Z"
   },
   {
    "duration": 109,
    "start_time": "2022-12-13T04:50:50.534Z"
   },
   {
    "duration": 55465,
    "start_time": "2022-12-13T04:50:50.645Z"
   },
   {
    "duration": 13,
    "start_time": "2022-12-13T04:51:46.111Z"
   },
   {
    "duration": 3578,
    "start_time": "2022-12-13T04:51:46.126Z"
   },
   {
    "duration": 15,
    "start_time": "2022-12-13T04:51:49.706Z"
   },
   {
    "duration": 3808,
    "start_time": "2022-12-13T04:51:49.722Z"
   },
   {
    "duration": 100,
    "start_time": "2022-12-13T04:51:53.623Z"
   },
   {
    "duration": 37,
    "start_time": "2022-12-13T04:51:53.724Z"
   },
   {
    "duration": 96,
    "start_time": "2022-12-13T04:51:53.763Z"
   },
   {
    "duration": 25308,
    "start_time": "2022-12-13T04:51:53.861Z"
   },
   {
    "duration": 12,
    "start_time": "2022-12-13T04:52:19.170Z"
   },
   {
    "duration": 1481,
    "start_time": "2022-12-13T04:52:19.184Z"
   },
   {
    "duration": 11,
    "start_time": "2022-12-13T04:52:20.666Z"
   },
   {
    "duration": 44,
    "start_time": "2022-12-13T04:52:20.678Z"
   },
   {
    "duration": 0,
    "start_time": "2022-12-13T04:52:20.724Z"
   },
   {
    "duration": 0,
    "start_time": "2022-12-13T04:52:20.725Z"
   },
   {
    "duration": 0,
    "start_time": "2022-12-13T04:52:20.726Z"
   },
   {
    "duration": 0,
    "start_time": "2022-12-13T04:52:20.727Z"
   },
   {
    "duration": 0,
    "start_time": "2022-12-13T04:52:20.728Z"
   },
   {
    "duration": 0,
    "start_time": "2022-12-13T04:52:20.729Z"
   },
   {
    "duration": 0,
    "start_time": "2022-12-13T04:52:20.730Z"
   },
   {
    "duration": 0,
    "start_time": "2022-12-13T04:52:20.731Z"
   },
   {
    "duration": 0,
    "start_time": "2022-12-13T04:52:20.732Z"
   },
   {
    "duration": 0,
    "start_time": "2022-12-13T04:52:20.733Z"
   },
   {
    "duration": 0,
    "start_time": "2022-12-13T04:52:20.734Z"
   },
   {
    "duration": 0,
    "start_time": "2022-12-13T04:52:20.735Z"
   },
   {
    "duration": 0,
    "start_time": "2022-12-13T04:52:20.735Z"
   },
   {
    "duration": 2707,
    "start_time": "2022-12-13T04:55:54.113Z"
   },
   {
    "duration": 99,
    "start_time": "2022-12-13T04:55:56.824Z"
   },
   {
    "duration": 45,
    "start_time": "2022-12-13T04:55:56.924Z"
   },
   {
    "duration": 105,
    "start_time": "2022-12-13T04:55:56.971Z"
   },
   {
    "duration": 230890,
    "start_time": "2022-12-13T04:55:57.078Z"
   },
   {
    "duration": 349745,
    "start_time": "2022-12-13T04:59:47.970Z"
   },
   {
    "duration": 13200,
    "start_time": "2022-12-13T05:05:37.717Z"
   },
   {
    "duration": 13355,
    "start_time": "2022-12-13T05:05:50.920Z"
   },
   {
    "duration": 37549,
    "start_time": "2022-12-13T05:06:04.277Z"
   },
   {
    "duration": 273,
    "start_time": "2022-12-13T05:06:41.827Z"
   },
   {
    "duration": 20,
    "start_time": "2022-12-13T05:06:42.102Z"
   },
   {
    "duration": 122,
    "start_time": "2022-12-13T05:06:42.124Z"
   },
   {
    "duration": 3004,
    "start_time": "2022-12-13T05:12:02.988Z"
   },
   {
    "duration": 209,
    "start_time": "2022-12-13T05:12:09.853Z"
   },
   {
    "duration": 7,
    "start_time": "2022-12-13T05:12:12.132Z"
   },
   {
    "duration": 2812,
    "start_time": "2022-12-13T05:15:07.406Z"
   },
   {
    "duration": 2819,
    "start_time": "2022-12-13T05:15:47.425Z"
   },
   {
    "duration": 210,
    "start_time": "2022-12-13T05:16:01.084Z"
   },
   {
    "duration": 51,
    "start_time": "2022-12-13T05:16:41.683Z"
   },
   {
    "duration": 228942,
    "start_time": "2022-12-13T05:18:57.869Z"
   },
   {
    "duration": 539,
    "start_time": "2022-12-13T05:22:46.812Z"
   },
   {
    "duration": 468,
    "start_time": "2022-12-13T05:22:47.353Z"
   },
   {
    "duration": 3008,
    "start_time": "2022-12-13T05:24:12.095Z"
   },
   {
    "duration": 3011,
    "start_time": "2022-12-13T05:27:44.172Z"
   },
   {
    "duration": 217,
    "start_time": "2022-12-13T05:27:47.736Z"
   },
   {
    "duration": 6,
    "start_time": "2022-12-13T05:27:54.647Z"
   },
   {
    "duration": 5,
    "start_time": "2022-12-13T05:28:56.069Z"
   },
   {
    "duration": 6711,
    "start_time": "2022-12-13T10:10:52.867Z"
   },
   {
    "duration": 1353,
    "start_time": "2022-12-13T10:10:59.581Z"
   },
   {
    "duration": 181,
    "start_time": "2022-12-13T10:11:00.936Z"
   },
   {
    "duration": 17,
    "start_time": "2022-12-13T10:11:01.119Z"
   },
   {
    "duration": 15,
    "start_time": "2022-12-13T10:11:01.138Z"
   },
   {
    "duration": 6,
    "start_time": "2022-12-13T10:11:01.155Z"
   },
   {
    "duration": 11,
    "start_time": "2022-12-13T10:11:01.163Z"
   },
   {
    "duration": 22,
    "start_time": "2022-12-13T10:11:01.176Z"
   },
   {
    "duration": 18,
    "start_time": "2022-12-13T10:11:01.200Z"
   },
   {
    "duration": 7,
    "start_time": "2022-12-13T10:11:01.221Z"
   },
   {
    "duration": 14,
    "start_time": "2022-12-13T10:11:01.230Z"
   },
   {
    "duration": 11,
    "start_time": "2022-12-13T10:11:01.246Z"
   },
   {
    "duration": 5,
    "start_time": "2022-12-13T10:11:01.259Z"
   },
   {
    "duration": 8,
    "start_time": "2022-12-13T10:11:01.265Z"
   },
   {
    "duration": 10,
    "start_time": "2022-12-13T10:11:01.274Z"
   },
   {
    "duration": 15,
    "start_time": "2022-12-13T10:11:01.286Z"
   },
   {
    "duration": 18,
    "start_time": "2022-12-13T10:11:01.303Z"
   },
   {
    "duration": 10,
    "start_time": "2022-12-13T10:11:01.323Z"
   },
   {
    "duration": 22,
    "start_time": "2022-12-13T10:11:01.334Z"
   },
   {
    "duration": 14,
    "start_time": "2022-12-13T10:11:01.358Z"
   },
   {
    "duration": 15,
    "start_time": "2022-12-13T10:11:01.374Z"
   },
   {
    "duration": 68,
    "start_time": "2022-12-13T10:11:01.391Z"
   },
   {
    "duration": 136,
    "start_time": "2022-12-13T10:11:01.460Z"
   },
   {
    "duration": 47504,
    "start_time": "2022-12-13T10:11:01.598Z"
   },
   {
    "duration": 14,
    "start_time": "2022-12-13T10:11:49.104Z"
   },
   {
    "duration": 52,
    "start_time": "2022-12-13T10:11:49.120Z"
   },
   {
    "duration": 147828,
    "start_time": "2022-12-13T10:11:49.173Z"
   },
   {
    "duration": 225673,
    "start_time": "2022-12-13T10:14:17.005Z"
   },
   {
    "duration": 3188,
    "start_time": "2022-12-13T10:18:02.681Z"
   },
   {
    "duration": 12,
    "start_time": "2022-12-13T10:18:05.871Z"
   },
   {
    "duration": 21,
    "start_time": "2022-12-13T10:18:05.885Z"
   },
   {
    "duration": 8221,
    "start_time": "2022-12-13T10:18:05.908Z"
   },
   {
    "duration": 8559,
    "start_time": "2022-12-13T10:18:14.131Z"
   },
   {
    "duration": 3565,
    "start_time": "2022-12-13T10:18:22.692Z"
   },
   {
    "duration": 98,
    "start_time": "2022-12-13T10:18:26.259Z"
   },
   {
    "duration": 7,
    "start_time": "2022-12-13T10:18:26.359Z"
   },
   {
    "duration": 32987,
    "start_time": "2022-12-13T10:18:26.368Z"
   },
   {
    "duration": 90,
    "start_time": "2022-12-13T10:18:59.362Z"
   },
   {
    "duration": 17,
    "start_time": "2022-12-13T10:18:59.454Z"
   },
   {
    "duration": 118,
    "start_time": "2022-12-13T10:18:59.473Z"
   },
   {
    "duration": 62791,
    "start_time": "2022-12-13T10:18:59.594Z"
   },
   {
    "duration": 12,
    "start_time": "2022-12-13T10:20:02.386Z"
   },
   {
    "duration": 3876,
    "start_time": "2022-12-13T10:20:02.400Z"
   },
   {
    "duration": 10,
    "start_time": "2022-12-13T10:20:06.278Z"
   },
   {
    "duration": 3975,
    "start_time": "2022-12-13T10:20:06.290Z"
   },
   {
    "duration": 104,
    "start_time": "2022-12-13T10:20:10.352Z"
   },
   {
    "duration": 17,
    "start_time": "2022-12-13T10:20:10.457Z"
   },
   {
    "duration": 163,
    "start_time": "2022-12-13T10:20:10.476Z"
   },
   {
    "duration": 27635,
    "start_time": "2022-12-13T10:20:10.641Z"
   },
   {
    "duration": 15,
    "start_time": "2022-12-13T10:20:38.278Z"
   },
   {
    "duration": 1721,
    "start_time": "2022-12-13T10:20:38.295Z"
   },
   {
    "duration": 11,
    "start_time": "2022-12-13T10:20:40.017Z"
   },
   {
    "duration": 2626,
    "start_time": "2022-12-13T10:20:40.030Z"
   },
   {
    "duration": 101,
    "start_time": "2022-12-13T10:20:42.752Z"
   },
   {
    "duration": 69,
    "start_time": "2022-12-13T10:20:42.855Z"
   },
   {
    "duration": 99,
    "start_time": "2022-12-13T10:20:42.925Z"
   },
   {
    "duration": 261134,
    "start_time": "2022-12-13T10:20:43.026Z"
   },
   {
    "duration": 375059,
    "start_time": "2022-12-13T10:25:04.162Z"
   },
   {
    "duration": 13997,
    "start_time": "2022-12-13T10:31:19.223Z"
   },
   {
    "duration": 14522,
    "start_time": "2022-12-13T10:31:33.222Z"
   },
   {
    "duration": 41208,
    "start_time": "2022-12-13T10:31:47.746Z"
   },
   {
    "duration": 3465,
    "start_time": "2022-12-13T10:32:28.959Z"
   },
   {
    "duration": 246,
    "start_time": "2022-12-13T10:32:32.426Z"
   },
   {
    "duration": 6,
    "start_time": "2022-12-13T10:32:32.674Z"
   },
   {
    "duration": 13,
    "start_time": "2022-12-13T10:32:32.682Z"
   },
   {
    "duration": 51,
    "start_time": "2022-12-14T17:13:20.769Z"
   },
   {
    "duration": 41,
    "start_time": "2022-12-14T17:13:27.815Z"
   },
   {
    "duration": 8,
    "start_time": "2022-12-14T17:14:33.326Z"
   },
   {
    "duration": 6,
    "start_time": "2022-12-14T17:14:40.533Z"
   },
   {
    "duration": 2933,
    "start_time": "2022-12-14T17:16:10.366Z"
   },
   {
    "duration": 4439,
    "start_time": "2022-12-14T17:16:25.687Z"
   },
   {
    "duration": 6,
    "start_time": "2022-12-14T17:18:09.509Z"
   },
   {
    "duration": 35,
    "start_time": "2022-12-14T17:18:38.064Z"
   },
   {
    "duration": 50,
    "start_time": "2022-12-14T17:21:07.846Z"
   },
   {
    "duration": 37,
    "start_time": "2022-12-14T17:21:15.572Z"
   },
   {
    "duration": 38,
    "start_time": "2022-12-14T17:21:50.595Z"
   },
   {
    "duration": 35,
    "start_time": "2022-12-14T17:22:48.268Z"
   },
   {
    "duration": 486,
    "start_time": "2022-12-14T17:24:46.344Z"
   },
   {
    "duration": 57,
    "start_time": "2022-12-14T17:27:37.029Z"
   },
   {
    "duration": 437,
    "start_time": "2022-12-14T17:27:45.004Z"
   },
   {
    "duration": 4607,
    "start_time": "2022-12-14T17:28:21.115Z"
   },
   {
    "duration": 4651,
    "start_time": "2022-12-14T17:29:22.406Z"
   },
   {
    "duration": 450,
    "start_time": "2022-12-14T17:29:55.108Z"
   },
   {
    "duration": 380,
    "start_time": "2022-12-14T17:30:27.681Z"
   },
   {
    "duration": 316,
    "start_time": "2022-12-14T17:30:48.336Z"
   },
   {
    "duration": 8,
    "start_time": "2022-12-14T17:34:44.766Z"
   },
   {
    "duration": 221,
    "start_time": "2022-12-14T17:35:03.146Z"
   },
   {
    "duration": 289,
    "start_time": "2022-12-14T17:35:40.929Z"
   },
   {
    "duration": 435,
    "start_time": "2022-12-14T17:40:59.296Z"
   },
   {
    "duration": 385,
    "start_time": "2022-12-14T17:42:19.184Z"
   },
   {
    "duration": 553,
    "start_time": "2022-12-14T18:01:15.679Z"
   },
   {
    "duration": 560,
    "start_time": "2022-12-14T18:07:19.566Z"
   },
   {
    "duration": 206,
    "start_time": "2022-12-14T18:11:59.757Z"
   },
   {
    "duration": 201,
    "start_time": "2022-12-14T18:14:52.278Z"
   },
   {
    "duration": 223,
    "start_time": "2022-12-14T18:18:38.823Z"
   },
   {
    "duration": 229,
    "start_time": "2022-12-14T18:20:42.107Z"
   },
   {
    "duration": 177,
    "start_time": "2022-12-14T18:21:40.153Z"
   },
   {
    "duration": 177,
    "start_time": "2022-12-14T18:22:45.103Z"
   },
   {
    "duration": 180,
    "start_time": "2022-12-14T18:23:06.457Z"
   },
   {
    "duration": 178,
    "start_time": "2022-12-14T18:24:06.481Z"
   },
   {
    "duration": 178,
    "start_time": "2022-12-14T18:24:13.952Z"
   },
   {
    "duration": 784,
    "start_time": "2022-12-14T18:26:04.356Z"
   },
   {
    "duration": 1273,
    "start_time": "2022-12-14T18:26:58.524Z"
   },
   {
    "duration": 39,
    "start_time": "2022-12-14T18:33:49.798Z"
   },
   {
    "duration": 727,
    "start_time": "2022-12-14T18:33:59.480Z"
   },
   {
    "duration": 644,
    "start_time": "2022-12-14T18:34:45.016Z"
   },
   {
    "duration": 613,
    "start_time": "2022-12-14T18:35:17.391Z"
   },
   {
    "duration": 41,
    "start_time": "2022-12-14T18:42:39.858Z"
   },
   {
    "duration": 50,
    "start_time": "2022-12-14T18:42:56.555Z"
   },
   {
    "duration": 43,
    "start_time": "2022-12-14T18:43:52.460Z"
   },
   {
    "duration": 10,
    "start_time": "2022-12-14T18:43:58.435Z"
   },
   {
    "duration": 9,
    "start_time": "2022-12-14T18:59:55.770Z"
   },
   {
    "duration": 161,
    "start_time": "2022-12-14T19:00:10.100Z"
   },
   {
    "duration": 519,
    "start_time": "2022-12-14T19:00:31.131Z"
   },
   {
    "duration": 208,
    "start_time": "2022-12-14T19:03:12.759Z"
   },
   {
    "duration": 181,
    "start_time": "2022-12-14T19:03:26.327Z"
   },
   {
    "duration": 175,
    "start_time": "2022-12-14T19:05:36.981Z"
   },
   {
    "duration": 180,
    "start_time": "2022-12-14T19:06:47.845Z"
   },
   {
    "duration": 159,
    "start_time": "2022-12-14T19:06:55.763Z"
   },
   {
    "duration": 164,
    "start_time": "2022-12-14T19:07:03.842Z"
   },
   {
    "duration": 156,
    "start_time": "2022-12-14T19:07:09.562Z"
   },
   {
    "duration": 171,
    "start_time": "2022-12-14T19:07:44.682Z"
   },
   {
    "duration": 162,
    "start_time": "2022-12-14T19:07:52.161Z"
   },
   {
    "duration": 872,
    "start_time": "2022-12-14T19:07:58.744Z"
   },
   {
    "duration": 855,
    "start_time": "2022-12-14T19:08:07.608Z"
   },
   {
    "duration": 833,
    "start_time": "2022-12-14T19:08:18.616Z"
   },
   {
    "duration": 923,
    "start_time": "2022-12-14T19:08:27.408Z"
   },
   {
    "duration": 159,
    "start_time": "2022-12-14T19:08:34.343Z"
   },
   {
    "duration": 166,
    "start_time": "2022-12-14T19:08:46.175Z"
   },
   {
    "duration": 165,
    "start_time": "2022-12-14T19:08:58.703Z"
   },
   {
    "duration": 165,
    "start_time": "2022-12-14T19:09:05.679Z"
   },
   {
    "duration": 173,
    "start_time": "2022-12-14T19:13:34.706Z"
   },
   {
    "duration": 53,
    "start_time": "2022-12-15T02:23:15.909Z"
   },
   {
    "duration": 7,
    "start_time": "2022-12-15T02:23:39.848Z"
   },
   {
    "duration": 7,
    "start_time": "2022-12-15T02:26:32.716Z"
   },
   {
    "duration": 3,
    "start_time": "2022-12-15T02:26:59.331Z"
   },
   {
    "duration": 66,
    "start_time": "2022-12-15T02:27:16.003Z"
   },
   {
    "duration": 3,
    "start_time": "2022-12-15T02:27:22.451Z"
   },
   {
    "duration": 590,
    "start_time": "2022-12-15T02:29:20.392Z"
   },
   {
    "duration": 165,
    "start_time": "2022-12-15T02:29:33.367Z"
   },
   {
    "duration": 156,
    "start_time": "2022-12-15T02:29:57.268Z"
   },
   {
    "duration": 168,
    "start_time": "2022-12-15T02:30:11.919Z"
   },
   {
    "duration": 169,
    "start_time": "2022-12-15T02:30:28.430Z"
   },
   {
    "duration": 169,
    "start_time": "2022-12-15T02:44:14.940Z"
   },
   {
    "duration": 188,
    "start_time": "2022-12-15T03:00:37.847Z"
   },
   {
    "duration": 191,
    "start_time": "2022-12-15T03:01:12.036Z"
   },
   {
    "duration": 7,
    "start_time": "2022-12-15T03:01:26.204Z"
   },
   {
    "duration": 170,
    "start_time": "2022-12-15T03:02:11.307Z"
   },
   {
    "duration": 658,
    "start_time": "2023-02-18T11:08:04.726Z"
   },
   {
    "duration": 10376,
    "start_time": "2023-02-18T11:08:05.387Z"
   },
   {
    "duration": 903,
    "start_time": "2023-02-18T11:08:15.766Z"
   },
   {
    "duration": 214,
    "start_time": "2023-02-18T11:08:16.672Z"
   },
   {
    "duration": 28,
    "start_time": "2023-02-18T11:08:16.888Z"
   },
   {
    "duration": 40,
    "start_time": "2023-02-18T11:08:16.922Z"
   },
   {
    "duration": 6,
    "start_time": "2023-02-18T11:08:16.965Z"
   },
   {
    "duration": 10,
    "start_time": "2023-02-18T11:08:16.973Z"
   },
   {
    "duration": 8,
    "start_time": "2023-02-18T11:08:16.985Z"
   },
   {
    "duration": 26,
    "start_time": "2023-02-18T11:08:16.996Z"
   },
   {
    "duration": 24,
    "start_time": "2023-02-18T11:08:17.027Z"
   },
   {
    "duration": 13,
    "start_time": "2023-02-18T11:08:17.053Z"
   },
   {
    "duration": 8,
    "start_time": "2023-02-18T11:08:17.068Z"
   },
   {
    "duration": 5,
    "start_time": "2023-02-18T11:08:17.077Z"
   },
   {
    "duration": 16,
    "start_time": "2023-02-18T11:08:17.084Z"
   },
   {
    "duration": 55,
    "start_time": "2023-02-18T11:08:17.102Z"
   },
   {
    "duration": 12,
    "start_time": "2023-02-18T11:08:17.159Z"
   },
   {
    "duration": 13,
    "start_time": "2023-02-18T11:08:17.172Z"
   },
   {
    "duration": 9,
    "start_time": "2023-02-18T11:08:17.187Z"
   },
   {
    "duration": 14,
    "start_time": "2023-02-18T11:08:17.198Z"
   },
   {
    "duration": 36,
    "start_time": "2023-02-18T11:08:17.214Z"
   },
   {
    "duration": 13,
    "start_time": "2023-02-18T11:08:17.252Z"
   },
   {
    "duration": 90,
    "start_time": "2023-02-18T11:08:17.267Z"
   },
   {
    "duration": 0,
    "start_time": "2023-02-18T11:08:17.360Z"
   },
   {
    "duration": 0,
    "start_time": "2023-02-18T11:08:17.362Z"
   },
   {
    "duration": 0,
    "start_time": "2023-02-18T11:08:17.363Z"
   },
   {
    "duration": 0,
    "start_time": "2023-02-18T11:08:17.365Z"
   },
   {
    "duration": 0,
    "start_time": "2023-02-18T11:08:17.366Z"
   },
   {
    "duration": 0,
    "start_time": "2023-02-18T11:08:17.368Z"
   },
   {
    "duration": 0,
    "start_time": "2023-02-18T11:08:17.370Z"
   },
   {
    "duration": 1,
    "start_time": "2023-02-18T11:08:17.371Z"
   },
   {
    "duration": 0,
    "start_time": "2023-02-18T11:08:17.373Z"
   },
   {
    "duration": 0,
    "start_time": "2023-02-18T11:08:17.374Z"
   },
   {
    "duration": 1,
    "start_time": "2023-02-18T11:08:17.375Z"
   },
   {
    "duration": 0,
    "start_time": "2023-02-18T11:08:17.377Z"
   },
   {
    "duration": 0,
    "start_time": "2023-02-18T11:08:17.378Z"
   },
   {
    "duration": 0,
    "start_time": "2023-02-18T11:08:17.380Z"
   },
   {
    "duration": 0,
    "start_time": "2023-02-18T11:08:17.382Z"
   },
   {
    "duration": 0,
    "start_time": "2023-02-18T11:08:17.383Z"
   },
   {
    "duration": 0,
    "start_time": "2023-02-18T11:08:17.385Z"
   },
   {
    "duration": 0,
    "start_time": "2023-02-18T11:08:17.387Z"
   },
   {
    "duration": 0,
    "start_time": "2023-02-18T11:08:17.389Z"
   },
   {
    "duration": 0,
    "start_time": "2023-02-18T11:08:17.391Z"
   },
   {
    "duration": 0,
    "start_time": "2023-02-18T11:08:17.392Z"
   },
   {
    "duration": 0,
    "start_time": "2023-02-18T11:08:17.394Z"
   },
   {
    "duration": 0,
    "start_time": "2023-02-18T11:08:17.396Z"
   },
   {
    "duration": 0,
    "start_time": "2023-02-18T11:08:17.398Z"
   },
   {
    "duration": 0,
    "start_time": "2023-02-18T11:08:17.403Z"
   },
   {
    "duration": 0,
    "start_time": "2023-02-18T11:08:17.405Z"
   },
   {
    "duration": 0,
    "start_time": "2023-02-18T11:08:17.406Z"
   },
   {
    "duration": 0,
    "start_time": "2023-02-18T11:08:17.407Z"
   },
   {
    "duration": 0,
    "start_time": "2023-02-18T11:08:17.408Z"
   },
   {
    "duration": 0,
    "start_time": "2023-02-18T11:08:17.409Z"
   },
   {
    "duration": 0,
    "start_time": "2023-02-18T11:08:17.413Z"
   },
   {
    "duration": 0,
    "start_time": "2023-02-18T11:08:17.415Z"
   },
   {
    "duration": 0,
    "start_time": "2023-02-18T11:08:17.417Z"
   },
   {
    "duration": 0,
    "start_time": "2023-02-18T11:08:17.421Z"
   },
   {
    "duration": 0,
    "start_time": "2023-02-18T11:08:17.422Z"
   },
   {
    "duration": 0,
    "start_time": "2023-02-18T11:08:17.423Z"
   },
   {
    "duration": 0,
    "start_time": "2023-02-18T11:08:17.425Z"
   },
   {
    "duration": 0,
    "start_time": "2023-02-18T11:08:17.427Z"
   },
   {
    "duration": 0,
    "start_time": "2023-02-18T11:08:17.428Z"
   },
   {
    "duration": 0,
    "start_time": "2023-02-18T11:08:17.429Z"
   },
   {
    "duration": 0,
    "start_time": "2023-02-18T11:08:17.431Z"
   },
   {
    "duration": 0,
    "start_time": "2023-02-18T11:08:17.432Z"
   },
   {
    "duration": 0,
    "start_time": "2023-02-18T11:08:17.433Z"
   },
   {
    "duration": 0,
    "start_time": "2023-02-18T11:08:17.435Z"
   },
   {
    "duration": 0,
    "start_time": "2023-02-18T11:08:17.436Z"
   },
   {
    "duration": 9035,
    "start_time": "2023-08-21T08:00:26.675Z"
   },
   {
    "duration": 1616,
    "start_time": "2023-08-21T08:00:35.712Z"
   },
   {
    "duration": 89,
    "start_time": "2023-08-21T08:00:37.330Z"
   },
   {
    "duration": 27,
    "start_time": "2023-08-21T08:00:37.421Z"
   },
   {
    "duration": 15,
    "start_time": "2023-08-21T08:00:37.450Z"
   },
   {
    "duration": 32,
    "start_time": "2023-08-21T08:00:37.467Z"
   },
   {
    "duration": 20,
    "start_time": "2023-08-21T08:00:37.500Z"
   },
   {
    "duration": 29,
    "start_time": "2023-08-21T08:00:37.522Z"
   },
   {
    "duration": 42,
    "start_time": "2023-08-21T08:00:37.553Z"
   },
   {
    "duration": 17,
    "start_time": "2023-08-21T08:00:37.599Z"
   },
   {
    "duration": 27,
    "start_time": "2023-08-21T08:00:37.618Z"
   },
   {
    "duration": 33,
    "start_time": "2023-08-21T08:00:37.647Z"
   },
   {
    "duration": 27,
    "start_time": "2023-08-21T08:00:37.682Z"
   },
   {
    "duration": 60,
    "start_time": "2023-08-21T08:00:37.711Z"
   },
   {
    "duration": 37,
    "start_time": "2023-08-21T08:00:37.772Z"
   },
   {
    "duration": 44,
    "start_time": "2023-08-21T08:00:37.810Z"
   },
   {
    "duration": 61,
    "start_time": "2023-08-21T08:00:37.856Z"
   },
   {
    "duration": 150,
    "start_time": "2023-08-21T08:00:37.919Z"
   },
   {
    "duration": 67,
    "start_time": "2023-08-21T08:00:38.070Z"
   },
   {
    "duration": 156,
    "start_time": "2023-08-21T08:00:38.139Z"
   },
   {
    "duration": 69,
    "start_time": "2023-08-21T08:00:38.297Z"
   },
   {
    "duration": 65,
    "start_time": "2023-08-21T08:00:38.368Z"
   },
   {
    "duration": 66,
    "start_time": "2023-08-21T08:00:38.438Z"
   },
   {
    "duration": 155,
    "start_time": "2023-08-21T08:00:38.506Z"
   },
   {
    "duration": 56157,
    "start_time": "2023-08-21T08:00:38.663Z"
   },
   {
    "duration": 22,
    "start_time": "2023-08-21T08:01:34.824Z"
   },
   {
    "duration": 7,
    "start_time": "2023-08-21T08:01:34.848Z"
   },
   {
    "duration": 168472,
    "start_time": "2023-08-21T08:01:34.860Z"
   },
   {
    "duration": 243311,
    "start_time": "2023-08-21T08:04:23.334Z"
   },
   {
    "duration": 4198,
    "start_time": "2023-08-21T08:08:26.646Z"
   },
   {
    "duration": 13,
    "start_time": "2023-08-21T08:08:30.846Z"
   },
   {
    "duration": 42,
    "start_time": "2023-08-21T08:08:30.863Z"
   },
   {
    "duration": 10607,
    "start_time": "2023-08-21T08:08:30.908Z"
   },
   {
    "duration": 11038,
    "start_time": "2023-08-21T08:08:41.517Z"
   },
   {
    "duration": 3279,
    "start_time": "2023-08-21T08:08:52.557Z"
   },
   {
    "duration": 28,
    "start_time": "2023-08-21T08:08:55.924Z"
   },
   {
    "duration": 11,
    "start_time": "2023-08-21T08:08:55.957Z"
   },
   {
    "duration": 61954,
    "start_time": "2023-08-21T08:08:55.971Z"
   },
   {
    "duration": 6,
    "start_time": "2023-08-21T08:09:57.927Z"
   },
   {
    "duration": 123,
    "start_time": "2023-08-21T08:09:57.936Z"
   },
   {
    "duration": 210,
    "start_time": "2023-08-21T08:09:58.061Z"
   },
   {
    "duration": 70458,
    "start_time": "2023-08-21T08:09:58.273Z"
   },
   {
    "duration": 14,
    "start_time": "2023-08-21T08:11:08.733Z"
   },
   {
    "duration": 4552,
    "start_time": "2023-08-21T08:11:08.749Z"
   },
   {
    "duration": 12,
    "start_time": "2023-08-21T08:11:13.302Z"
   },
   {
    "duration": 3922,
    "start_time": "2023-08-21T08:11:13.316Z"
   },
   {
    "duration": 15,
    "start_time": "2023-08-21T08:11:17.325Z"
   },
   {
    "duration": 11,
    "start_time": "2023-08-21T08:11:17.342Z"
   },
   {
    "duration": 153,
    "start_time": "2023-08-21T08:11:17.354Z"
   },
   {
    "duration": 30278,
    "start_time": "2023-08-21T08:11:17.509Z"
   },
   {
    "duration": 13,
    "start_time": "2023-08-21T08:11:47.789Z"
   },
   {
    "duration": 2227,
    "start_time": "2023-08-21T08:11:47.804Z"
   },
   {
    "duration": 16,
    "start_time": "2023-08-21T08:11:50.032Z"
   },
   {
    "duration": 2778,
    "start_time": "2023-08-21T08:11:50.051Z"
   },
   {
    "duration": 97,
    "start_time": "2023-08-21T08:11:52.831Z"
   },
   {
    "duration": 89,
    "start_time": "2023-08-21T08:11:52.932Z"
   },
   {
    "duration": 121,
    "start_time": "2023-08-21T08:11:53.023Z"
   },
   {
    "duration": 310635,
    "start_time": "2023-08-21T08:11:53.146Z"
   },
   {
    "duration": 476926,
    "start_time": "2023-08-21T08:17:03.784Z"
   },
   {
    "duration": 17629,
    "start_time": "2023-08-21T08:25:00.712Z"
   },
   {
    "duration": 18374,
    "start_time": "2023-08-21T08:25:18.345Z"
   },
   {
    "duration": 74924,
    "start_time": "2023-08-21T08:25:36.721Z"
   },
   {
    "duration": 4314,
    "start_time": "2023-08-21T08:26:51.646Z"
   },
   {
    "duration": 277,
    "start_time": "2023-08-21T08:26:55.963Z"
   },
   {
    "duration": 16,
    "start_time": "2023-08-21T08:26:56.242Z"
   },
   {
    "duration": 5,
    "start_time": "2023-08-21T08:26:56.260Z"
   }
  ],
  "kernelspec": {
   "display_name": "Python 3 (ipykernel)",
   "language": "python",
   "name": "python3"
  },
  "language_info": {
   "codemirror_mode": {
    "name": "ipython",
    "version": 3
   },
   "file_extension": ".py",
   "mimetype": "text/x-python",
   "name": "python",
   "nbconvert_exporter": "python",
   "pygments_lexer": "ipython3",
   "version": "3.9.5"
  },
  "toc": {
   "base_numbering": 1,
   "nav_menu": {},
   "number_sections": true,
   "sideBar": true,
   "skip_h1_title": true,
   "title_cell": "Содержание",
   "title_sidebar": "Contents",
   "toc_cell": true,
   "toc_position": {
    "height": "842.205px",
    "left": "85px",
    "top": "175.441px",
    "width": "541px"
   },
   "toc_section_display": true,
   "toc_window_display": false
  }
 },
 "nbformat": 4,
 "nbformat_minor": 2
}
