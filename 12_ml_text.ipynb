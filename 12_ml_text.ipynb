{
 "cells": [
  {
   "attachments": {},
   "cell_type": "markdown",
   "metadata": {
    "toc": true
   },
   "source": [
    "<h1>Содержание<span class=\"tocSkip\"></span></h1>\n",
    "<div class=\"toc\"><ul class=\"toc-item\"><li><span><a href=\"#Ознакомление,-подготовка-данных-для-обучения-моделей\" data-toc-modified-id=\"Ознакомление,-подготовка-данных-для-обучения-моделей-1\"><span class=\"toc-item-num\">1&nbsp;&nbsp;</span>Ознакомление, подготовка данных для обучения моделей</a></span><ul class=\"toc-item\"><li><span><a href=\"#Вывод-по-разделу-1\" data-toc-modified-id=\"Вывод-по-разделу-1-1.1\"><span class=\"toc-item-num\">1.1&nbsp;&nbsp;</span>Вывод по разделу 1</a></span></li></ul></li><li><span><a href=\"#Обучение.-Модели-LogisticRegression,-RandomForestClassifier-и-LGBMClassifier\" data-toc-modified-id=\"Обучение.-Модели-LogisticRegression,-RandomForestClassifier-и-LGBMClassifier-2\"><span class=\"toc-item-num\">2&nbsp;&nbsp;</span>Обучение. Модели LogisticRegression, RandomForestClassifier и LGBMClassifier</a></span><ul class=\"toc-item\"><li><span><a href=\"#LogisticRegression\" data-toc-modified-id=\"LogisticRegression-2.1\"><span class=\"toc-item-num\">2.1&nbsp;&nbsp;</span>LogisticRegression</a></span></li><li><span><a href=\"#RandomForestClassifier\" data-toc-modified-id=\"RandomForestClassifier-2.2\"><span class=\"toc-item-num\">2.2&nbsp;&nbsp;</span>RandomForestClassifier</a></span></li><li><span><a href=\"#LGBMClassifier\" data-toc-modified-id=\"LGBMClassifier-2.3\"><span class=\"toc-item-num\">2.3&nbsp;&nbsp;</span>LGBMClassifier</a></span></li><li><span><a href=\"#Тестирование-выбранной-модели\" data-toc-modified-id=\"Тестирование-выбранной-модели-2.4\"><span class=\"toc-item-num\">2.4&nbsp;&nbsp;</span>Тестирование выбранной модели</a></span></li></ul></li><li><span><a href=\"#Общий-вывод\" data-toc-modified-id=\"Общий-вывод-3\"><span class=\"toc-item-num\">3&nbsp;&nbsp;</span>Общий вывод</a></span></li><li><span><a href=\"#Чек-лист-проверки\" data-toc-modified-id=\"Чек-лист-проверки-4\"><span class=\"toc-item-num\">4&nbsp;&nbsp;</span>Чек-лист проверки</a></span></li></ul></div>"
   ]
  },
  {
   "attachments": {},
   "cell_type": "markdown",
   "metadata": {},
   "source": [
    "Цель проекта: пользователи интернет магазина могут редактировать и дополнять описания товаров.  \n",
    "Необходимо разработать инструмент, который будет классифицировать комментарии на позитивные и негативные и отправлять их на модерацию.\n",
    "  \n",
    "Задача: построить модель со значением метрики качества F1 не меньше 0.75  \n",
    "  \n",
    "Имеющиеся данные: набор данных с разметкой о токсичности правок. Данные находятся в файле toxic_comments.csv. Столбец text в нём содержит текст комментария, а toxic — целевой признак\""
   ]
  },
  {
   "attachments": {},
   "cell_type": "markdown",
   "metadata": {},
   "source": [
    "## Ознакомление, подготовка данных для обучения моделей"
   ]
  },
  {
   "cell_type": "code",
   "execution_count": 1,
   "metadata": {},
   "outputs": [],
   "source": [
    "import matplotlib.pyplot as plt\n",
    "import numpy as np\n",
    "import pandas as pd\n",
    "import seaborn as sns\n",
    "import re\n",
    "import nltk\n",
    "import spacy\n",
    "\n",
    "from nltk.corpus import stopwords as nltk_stopwords\n",
    "from lightgbm import LGBMClassifier \n",
    "from sklearn.ensemble import RandomForestClassifier\n",
    "from sklearn.linear_model import LogisticRegression\n",
    "from sklearn.feature_extraction.text import TfidfVectorizer\n",
    "from sklearn.metrics import f1_score, accuracy_score\n",
    "from sklearn.model_selection import train_test_split, GridSearchCV\n",
    "from sklearn.pipeline import Pipeline\n",
    "\n",
    "from tqdm.notebook import tqdm\n",
    "tqdm.pandas()"
   ]
  },
  {
   "cell_type": "code",
   "execution_count": 2,
   "metadata": {},
   "outputs": [],
   "source": [
    "#загрузка данных\n",
    "data = pd.read_csv('/datasets/toxic_comments.csv')"
   ]
  },
  {
   "cell_type": "code",
   "execution_count": 3,
   "metadata": {},
   "outputs": [
    {
     "data": {
      "text/html": [
       "<div>\n",
       "<style scoped>\n",
       "    .dataframe tbody tr th:only-of-type {\n",
       "        vertical-align: middle;\n",
       "    }\n",
       "\n",
       "    .dataframe tbody tr th {\n",
       "        vertical-align: top;\n",
       "    }\n",
       "\n",
       "    .dataframe thead th {\n",
       "        text-align: right;\n",
       "    }\n",
       "</style>\n",
       "<table border=\"1\" class=\"dataframe\">\n",
       "  <thead>\n",
       "    <tr style=\"text-align: right;\">\n",
       "      <th></th>\n",
       "      <th>Unnamed: 0</th>\n",
       "      <th>text</th>\n",
       "      <th>toxic</th>\n",
       "    </tr>\n",
       "  </thead>\n",
       "  <tbody>\n",
       "    <tr>\n",
       "      <th>0</th>\n",
       "      <td>0</td>\n",
       "      <td>Explanation\\nWhy the edits made under my usern...</td>\n",
       "      <td>0</td>\n",
       "    </tr>\n",
       "    <tr>\n",
       "      <th>1</th>\n",
       "      <td>1</td>\n",
       "      <td>D'aww! He matches this background colour I'm s...</td>\n",
       "      <td>0</td>\n",
       "    </tr>\n",
       "    <tr>\n",
       "      <th>2</th>\n",
       "      <td>2</td>\n",
       "      <td>Hey man, I'm really not trying to edit war. It...</td>\n",
       "      <td>0</td>\n",
       "    </tr>\n",
       "    <tr>\n",
       "      <th>3</th>\n",
       "      <td>3</td>\n",
       "      <td>\"\\nMore\\nI can't make any real suggestions on ...</td>\n",
       "      <td>0</td>\n",
       "    </tr>\n",
       "    <tr>\n",
       "      <th>4</th>\n",
       "      <td>4</td>\n",
       "      <td>You, sir, are my hero. Any chance you remember...</td>\n",
       "      <td>0</td>\n",
       "    </tr>\n",
       "  </tbody>\n",
       "</table>\n",
       "</div>"
      ],
      "text/plain": [
       "   Unnamed: 0                                               text  toxic\n",
       "0           0  Explanation\\nWhy the edits made under my usern...      0\n",
       "1           1  D'aww! He matches this background colour I'm s...      0\n",
       "2           2  Hey man, I'm really not trying to edit war. It...      0\n",
       "3           3  \"\\nMore\\nI can't make any real suggestions on ...      0\n",
       "4           4  You, sir, are my hero. Any chance you remember...      0"
      ]
     },
     "execution_count": 3,
     "metadata": {},
     "output_type": "execute_result"
    }
   ],
   "source": [
    "#первые пять строк набора данных\n",
    "data.head()"
   ]
  },
  {
   "cell_type": "code",
   "execution_count": 4,
   "metadata": {},
   "outputs": [],
   "source": [
    "#столбец Unnamed: 0 не имеет смысловой нагрузки для решения поставленной задачи и дублирует индекс, удалим его\n",
    "data = data.drop('Unnamed: 0', axis=1)"
   ]
  },
  {
   "cell_type": "code",
   "execution_count": 5,
   "metadata": {},
   "outputs": [
    {
     "name": "stdout",
     "output_type": "stream",
     "text": [
      "<class 'pandas.core.frame.DataFrame'>\n",
      "RangeIndex: 159292 entries, 0 to 159291\n",
      "Data columns (total 2 columns):\n",
      " #   Column  Non-Null Count   Dtype \n",
      "---  ------  --------------   ----- \n",
      " 0   text    159292 non-null  object\n",
      " 1   toxic   159292 non-null  int64 \n",
      "dtypes: int64(1), object(1)\n",
      "memory usage: 2.4+ MB\n"
     ]
    }
   ],
   "source": [
    "#общая информация\n",
    "data.info()"
   ]
  },
  {
   "cell_type": "code",
   "execution_count": 6,
   "metadata": {},
   "outputs": [
    {
     "data": {
      "text/plain": [
       "0.0"
      ]
     },
     "execution_count": 6,
     "metadata": {},
     "output_type": "execute_result"
    }
   ],
   "source": [
    "#проверка на дубликаты\n",
    "data.duplicated().mean()"
   ]
  },
  {
   "cell_type": "code",
   "execution_count": 7,
   "metadata": {},
   "outputs": [
    {
     "data": {
      "image/png": "[encoded data removed]",
      "text/plain": [
       "<Figure size 576x576 with 1 Axes>"
      ]
     },
     "metadata": {},
     "output_type": "display_data"
    }
   ],
   "source": [
    "#посмотрим соотношение долей классов в наборе данных\n",
    "plt.figure(figsize=(8,8))\n",
    "plt.pie(data['toxic'].value_counts(normalize=True), autopct='%1.1f%%', labels=['Позитивные комментарии',\\\n",
    "        'Негативные комментарии'], wedgeprops={'linewidth': 3.0, 'edgecolor': 'black'}, textprops={'fontsize': 15})\n",
    "\n",
    "plt.title('Исходный набор данных. Соотношение классов', size = 20)\n",
    "plt.show()"
   ]
  },
  {
   "cell_type": "code",
   "execution_count": 8,
   "metadata": {},
   "outputs": [],
   "source": [
    "#для ускорения отладки кода ограничим количество данных. При подготовке работы параметры подбирались на сокращеной выборке\n",
    "#В конце была проведена проверка на полном наборе данных\n",
    "#data = data.sample(10000).reset_index(drop=True)"
   ]
  },
  {
   "attachments": {},
   "cell_type": "markdown",
   "metadata": {},
   "source": [
    "Подготовим функцию. Функция принимает на вход текст и выполняет с ним следующие действия:\n",
    "1. очищает текст от ссылок \n",
    "2. оставляет в тексте только латинские символы и пробелы\n",
    "3. Приводит текст к нижнему регистру\n",
    "4. устраняет лишние пробелы комбинацией функций join() и split()\n",
    "5. переобразует текст в лемматизированную строку\n",
    "6. в return возвращает строку из лемм функцией join()"
   ]
  },
  {
   "cell_type": "code",
   "execution_count": 9,
   "metadata": {},
   "outputs": [],
   "source": [
    "disabled_pipes = [ \"parser\",  \"ner\"]\n",
    "nlp = spacy.load('en_core_web_sm', disable=disabled_pipes)\n",
    "\n",
    "\n",
    "def clear_lemm_text(text):\n",
    "    text = re.sub(r'https?\\S+|www\\S+', '', text)\n",
    "    text = re.sub(r'[^a-zA-Z]', ' ', text)\n",
    "    text = text.lower()\n",
    "    clear_text = ' '.join(text.split()) \n",
    "    lemm_list = nlp(clear_text)\n",
    "    lemm_text = ' '.join([token.lemma_ for token in lemm_list])\n",
    "    return lemm_text"
   ]
  },
  {
   "cell_type": "code",
   "execution_count": 10,
   "metadata": {},
   "outputs": [
    {
     "name": "stdout",
     "output_type": "stream",
     "text": [
      "on the website and it say the stripe bat be hang on their foot for good\n"
     ]
    }
   ],
   "source": [
    "#проведем проверку правильности лемматизации\n",
    "sentence = 'on the website www.good_bat.ru and https://yandex.ru it says: \"The striped bats are hanging on their feet for best\"'\n",
    "print(clear_lemm_text(sentence))"
   ]
  },
  {
   "cell_type": "code",
   "execution_count": 11,
   "metadata": {},
   "outputs": [],
   "source": [
    "# %%time\n",
    "# #Создадим столбец 'lemm_text', применив функцию к столбцу 'text'\n",
    "# data['lemm_text'] = data['text'].apply(clear_lemm_text)"
   ]
  },
  {
   "cell_type": "code",
   "execution_count": 12,
   "metadata": {},
   "outputs": [
    {
     "data": {
      "application/vnd.jupyter.widget-view+json": {
       "model_id": "54bfcf4201934c4c9206355de9ed2541",
       "version_major": 2,
       "version_minor": 0
      },
      "text/plain": [
       "  0%|          | 0/159292 [00:00<?, ?it/s]"
      ]
     },
     "metadata": {},
     "output_type": "display_data"
    },
    {
     "name": "stdout",
     "output_type": "stream",
     "text": [
      "CPU times: user 17min 8s, sys: 6.61 s, total: 17min 14s\n",
      "Wall time: 17min 42s\n"
     ]
    }
   ],
   "source": [
    "%%time\n",
    "data['lemm_text'] = data['text'].progress_apply(clear_lemm_text)"
   ]
  },
  {
   "cell_type": "code",
   "execution_count": 13,
   "metadata": {},
   "outputs": [],
   "source": [
    "#столбец 'text' удалим\n",
    "data = data.drop('text', axis=1)"
   ]
  },
  {
   "cell_type": "code",
   "execution_count": 14,
   "metadata": {},
   "outputs": [
    {
     "data": {
      "text/html": [
       "<div>\n",
       "<style scoped>\n",
       "    .dataframe tbody tr th:only-of-type {\n",
       "        vertical-align: middle;\n",
       "    }\n",
       "\n",
       "    .dataframe tbody tr th {\n",
       "        vertical-align: top;\n",
       "    }\n",
       "\n",
       "    .dataframe thead th {\n",
       "        text-align: right;\n",
       "    }\n",
       "</style>\n",
       "<table border=\"1\" class=\"dataframe\">\n",
       "  <thead>\n",
       "    <tr style=\"text-align: right;\">\n",
       "      <th></th>\n",
       "      <th>toxic</th>\n",
       "      <th>lemm_text</th>\n",
       "    </tr>\n",
       "  </thead>\n",
       "  <tbody>\n",
       "    <tr>\n",
       "      <th>0</th>\n",
       "      <td>0</td>\n",
       "      <td>explanation why the edit make under my usernam...</td>\n",
       "    </tr>\n",
       "    <tr>\n",
       "      <th>1</th>\n",
       "      <td>0</td>\n",
       "      <td>d aww he match this background colour I m seem...</td>\n",
       "    </tr>\n",
       "    <tr>\n",
       "      <th>2</th>\n",
       "      <td>0</td>\n",
       "      <td>hey man I m really not try to edit war it s ju...</td>\n",
       "    </tr>\n",
       "    <tr>\n",
       "      <th>3</th>\n",
       "      <td>0</td>\n",
       "      <td>more I can t make any real suggestion on impro...</td>\n",
       "    </tr>\n",
       "    <tr>\n",
       "      <th>4</th>\n",
       "      <td>0</td>\n",
       "      <td>you sir be my hero any chance you remember wha...</td>\n",
       "    </tr>\n",
       "  </tbody>\n",
       "</table>\n",
       "</div>"
      ],
      "text/plain": [
       "   toxic                                          lemm_text\n",
       "0      0  explanation why the edit make under my usernam...\n",
       "1      0  d aww he match this background colour I m seem...\n",
       "2      0  hey man I m really not try to edit war it s ju...\n",
       "3      0  more I can t make any real suggestion on impro...\n",
       "4      0  you sir be my hero any chance you remember wha..."
      ]
     },
     "execution_count": 14,
     "metadata": {},
     "output_type": "execute_result"
    }
   ],
   "source": [
    "#первые пять строк набора данных\n",
    "data.head(5)"
   ]
  },
  {
   "cell_type": "code",
   "execution_count": 15,
   "metadata": {},
   "outputs": [],
   "source": [
    "#создадим features и target\n",
    "features = data.drop(['toxic'], axis=1)\n",
    "target = data['toxic']"
   ]
  },
  {
   "cell_type": "code",
   "execution_count": 16,
   "metadata": {},
   "outputs": [],
   "source": [
    "# укажем в параметрах stratify=target для сохранения баланса классов в обучающей и тестовой выборке\n",
    "features_train, features_test, target_train, target_test = train_test_split(\n",
    "    features['lemm_text'], target, test_size=0.1, random_state=12345, stratify=target)"
   ]
  },
  {
   "cell_type": "code",
   "execution_count": 17,
   "metadata": {},
   "outputs": [
    {
     "name": "stderr",
     "output_type": "stream",
     "text": [
      "[nltk_data] Downloading package stopwords to /home/jovyan/nltk_data...\n",
      "[nltk_data]   Package stopwords is already up-to-date!\n"
     ]
    }
   ],
   "source": [
    "#загрузим список стоп-слов. Функции stopwords.words() передадим аргумент 'english' (стоп-слова из английского языка)\n",
    "nltk.download('stopwords')\n",
    "stopwords = set(nltk_stopwords.words('english'))"
   ]
  },
  {
   "attachments": {},
   "cell_type": "markdown",
   "metadata": {},
   "source": [
    "### Вывод по разделу 1"
   ]
  },
  {
   "attachments": {},
   "cell_type": "markdown",
   "metadata": {},
   "source": [
    "В разделе 1 сделано следующее:  \n",
    "1. проведено ознакомление с данными;  \n",
    "2. удален столбец Unnamed: 0, не имеющий смысловой нагрузки для решения поставленной задачи;  \n",
    "3. проведена проверка на дубликаты;  \n",
    "4. выявлен дисбаланс классов в наборе данных (89.8% - положительных комментариев, 10.2% - негативных комментариев);  \n",
    "5. Создан столбец 'lemm_text', содержащий лемматизированные строки с латинскими символами (приведенные к нижнему регистру, очищенные от ссылок и лишних пробелов);  \n",
    "6. Столбец 'toxic' удален;  \n",
    "7. данные разбиты на треннеровочную и тестовую выборки;  \n",
    "8. Загружен список стоп-слов.  \n",
    "\n",
    "Данные подготовлены для использования в моделях ML"
   ]
  },
  {
   "attachments": {},
   "cell_type": "markdown",
   "metadata": {},
   "source": [
    "## Обучение. Модели LogisticRegression, RandomForestClassifier и LGBMClassifier"
   ]
  },
  {
   "attachments": {},
   "cell_type": "markdown",
   "metadata": {},
   "source": [
    "Для предотвращения утечки статистики (утечки признака) при крос-валидации, связанной с векторизацией текстов, будем использовать конвейер pipeline  \n",
    "  \n",
    "С помощью TfidfVectorizer создадим признаки cо значениями TF-IDF (величина, характеризующая количество упоминаний слова в отдельном комментарии и частоту употребления слова во всём корпусе).\n",
    "  \n",
    "В аргументы для TfidfVectorizer передадим список стоп-слов (слов не несущих смысловую нагрузку).\n",
    "  \n",
    "С помощью аргумента ngram_range для TfidfVectorizer зададим необходимое количество n-грамм (ngram_range (1, 1) - только униграммы, (1, 2) - униграммы и биграммы).\n",
    "  \n",
    "С помощью кросс-валидации определим количество n-грамм, обеспечивающее наибольшее значение метрики F1 и лучшие гиперпараметры модели-классификатора.\n",
    "  \n",
    "Протестируем выбранную модель  "
   ]
  },
  {
   "attachments": {},
   "cell_type": "markdown",
   "metadata": {},
   "source": [
    "### LogisticRegression"
   ]
  },
  {
   "cell_type": "code",
   "execution_count": 18,
   "metadata": {},
   "outputs": [],
   "source": [
    "#Принимая во внимание дисбаланс классов применим параметр class_weight='balanced' для автоматической настройки весов\n",
    "lr_pipe = Pipeline([\n",
    "    ('tfidf', TfidfVectorizer(stop_words=stopwords)),\n",
    "    ('lr', LogisticRegression(random_state=12345, class_weight='balanced', max_iter=500))])"
   ]
  },
  {
   "cell_type": "code",
   "execution_count": 19,
   "metadata": {},
   "outputs": [],
   "source": [
    "params_lr = {'tfidf__ngram_range': ((1, 1), (1, 2)),\n",
    "             'lr__C': [10, 30]}"
   ]
  },
  {
   "attachments": {},
   "cell_type": "markdown",
   "metadata": {},
   "source": [
    "Код в следующей ячейке закомментирован для экономии времени. Результат его выполнения приведен в ячейке ниже"
   ]
  },
  {
   "cell_type": "code",
   "execution_count": 20,
   "metadata": {},
   "outputs": [],
   "source": [
    "# %%time\n",
    "# lr_grid = GridSearchCV(estimator=lr_pipe, param_grid=params_lr, cv=3, scoring='f1', n_jobs=-1)\n",
    "# lr_grid.fit(features_train, target_train)\n",
    "# print('Лучшие гиперпараметры', lr_grid.best_params_)\n",
    "# print('Максимальное значение F1 = ', lr_grid.best_score_)"
   ]
  },
  {
   "attachments": {},
   "cell_type": "markdown",
   "metadata": {},
   "source": [
    "Лучшие гиперпараметры {'lr__C': 30, 'tfidf__ngram_range': (1, 2)}  \n",
    "Максимальное значение F1 =  0.7851441247795522  \n",
    "CPU times: user 18min 12s, sys: 19min 15s, total: 37min 27s  \n",
    "Wall time: 37min 30s  "
   ]
  },
  {
   "attachments": {},
   "cell_type": "markdown",
   "metadata": {},
   "source": [
    "### RandomForestClassifier"
   ]
  },
  {
   "cell_type": "code",
   "execution_count": 21,
   "metadata": {},
   "outputs": [],
   "source": [
    "#Принимая во внимание дисбаланс классов применим параметр class_weight='balanced' для автоматической настройки весов\n",
    "rf_pipe = Pipeline([\n",
    "    ('tfidf', TfidfVectorizer(stop_words=stopwords)),\n",
    "    ('rf', RandomForestClassifier(class_weight = 'balanced', random_state = 1234))])"
   ]
  },
  {
   "cell_type": "code",
   "execution_count": 22,
   "metadata": {},
   "outputs": [],
   "source": [
    "params_rf = {'tfidf__ngram_range': ((1, 1), (1, 2)),\n",
    "             'rf__max_depth': [50, 100]}"
   ]
  },
  {
   "attachments": {},
   "cell_type": "markdown",
   "metadata": {},
   "source": [
    "Код в следующей ячейке закомментирован для экономии времени. Результат его выполнения приведен в ячейке ниже"
   ]
  },
  {
   "cell_type": "code",
   "execution_count": 23,
   "metadata": {},
   "outputs": [],
   "source": [
    "# %%time\n",
    "# rf_grid = GridSearchCV(estimator=rf_pipe, param_grid=params_rf, cv=3, scoring='f1', n_jobs=-1)\n",
    "# rf_grid.fit(features_train, target_train)\n",
    "# print('Лучшие гиперпараметры', rf_grid.best_params_)\n",
    "# print('Максимальное значение F1 = ', rf_grid.best_score_)"
   ]
  },
  {
   "attachments": {},
   "cell_type": "markdown",
   "metadata": {},
   "source": [
    "Лучшие гиперпараметры {'rf__max_depth': 100, 'tfidf__ngram_range': (1, 1)}  \n",
    "Максимальное значение F1 =  0.5553147400630544  \n",
    "CPU times: user 38min 13s, sys: 13.9 s, total: 38min 27s  \n",
    "Wall time: 38min 28s  "
   ]
  },
  {
   "attachments": {},
   "cell_type": "markdown",
   "metadata": {},
   "source": [
    "### LGBMClassifier"
   ]
  },
  {
   "cell_type": "code",
   "execution_count": 24,
   "metadata": {},
   "outputs": [],
   "source": [
    "lgb_pipe = Pipeline([\n",
    "    ('tfidf', TfidfVectorizer(stop_words=stopwords)),\n",
    "    ('lgb', LGBMClassifier(random_state=12345))])"
   ]
  },
  {
   "cell_type": "code",
   "execution_count": 25,
   "metadata": {},
   "outputs": [],
   "source": [
    "params_lgb = {\n",
    "  'tfidf__ngram_range': ((1, 1), (1, 2)),\n",
    "  'lgb__max_depth': [-1, 10]}"
   ]
  },
  {
   "attachments": {},
   "cell_type": "markdown",
   "metadata": {},
   "source": [
    "Код в следующей ячейке закомментирован для экономии времени. Результат его выполнения приведен в ячейке ниже"
   ]
  },
  {
   "cell_type": "code",
   "execution_count": 26,
   "metadata": {},
   "outputs": [],
   "source": [
    "# %%time\n",
    "# lgb_grid = GridSearchCV(estimator=lgb_pipe, param_grid=params_lgb, cv=3, scoring='f1', n_jobs=-1, refit=False)\n",
    "# lgb_grid.fit(features_train, target_train)\n",
    "# print('Лучшие гиперпараметры', lgb_grid.best_params_)\n",
    "# print('Максимальное значение F1 = ', lgb_grid.best_score_)"
   ]
  },
  {
   "attachments": {},
   "cell_type": "markdown",
   "metadata": {},
   "source": [
    "Лучшие гиперпараметры {'lgb__max_depth': -1, 'tfidf__ngram_range': (1, 2)}  \n",
    "Максимальное значение F1 =  0.7586392540341852  \n",
    "CPU times: user 25min 55s, sys: 353 ms, total: 25min 56s  \n",
    "Wall time: 26min  "
   ]
  },
  {
   "attachments": {},
   "cell_type": "markdown",
   "metadata": {},
   "source": [
    "### Тестирование выбранной модели"
   ]
  },
  {
   "attachments": {},
   "cell_type": "markdown",
   "metadata": {},
   "source": [
    "Лучший результат показала модель LogisticRegression(C=30, class_weight='balanced', max_iter=500, random_state=12345).  \n",
    "\n",
    "Лучшее значение аргумента ngram_range в TfidfVectorizer = (1, 2) - n-граммы, содержащие одно и два слова после удаления стоп-слов.  \n",
    "  \n",
    "Проведем тестирование модели на тестовой выборке"
   ]
  },
  {
   "cell_type": "code",
   "execution_count": 27,
   "metadata": {},
   "outputs": [],
   "source": [
    "lr_best_pipe = Pipeline([\n",
    "    ('tfidf', TfidfVectorizer(ngram_range=(1, 2), stop_words=stopwords)),\n",
    "    ('lr', LogisticRegression(C=30, class_weight='balanced', max_iter=500, random_state=12345))])"
   ]
  },
  {
   "cell_type": "code",
   "execution_count": 28,
   "metadata": {},
   "outputs": [
    {
     "name": "stdout",
     "output_type": "stream",
     "text": [
      "CPU times: user 4min 14s, sys: 2min 13s, total: 6min 27s\n",
      "Wall time: 6min 29s\n"
     ]
    },
    {
     "data": {
      "text/plain": [
       "Pipeline(steps=[('tfidf',\n",
       "                 TfidfVectorizer(ngram_range=(1, 2),\n",
       "                                 stop_words={'a', 'about', 'above', 'after',\n",
       "                                             'again', 'against', 'ain', 'all',\n",
       "                                             'am', 'an', 'and', 'any', 'are',\n",
       "                                             'aren', \"aren't\", 'as', 'at', 'be',\n",
       "                                             'because', 'been', 'before',\n",
       "                                             'being', 'below', 'between',\n",
       "                                             'both', 'but', 'by', 'can',\n",
       "                                             'couldn', \"couldn't\", ...})),\n",
       "                ('lr',\n",
       "                 LogisticRegression(C=30, class_weight='balanced', max_iter=500,\n",
       "                                    random_state=12345))])"
      ]
     },
     "execution_count": 28,
     "metadata": {},
     "output_type": "execute_result"
    }
   ],
   "source": [
    "%%time\n",
    "lr_best_pipe.fit(features_train, target_train)"
   ]
  },
  {
   "cell_type": "code",
   "execution_count": 29,
   "metadata": {},
   "outputs": [
    {
     "name": "stdout",
     "output_type": "stream",
     "text": [
      "CPU times: user 1.69 s, sys: 8.93 ms, total: 1.7 s\n",
      "Wall time: 1.71 s\n"
     ]
    }
   ],
   "source": [
    "%%time\n",
    "predicted = lr_best_pipe.predict(features_test)"
   ]
  },
  {
   "cell_type": "code",
   "execution_count": 30,
   "metadata": {},
   "outputs": [
    {
     "name": "stdout",
     "output_type": "stream",
     "text": [
      "Значение F1 на тестовой выборке =  0.8022457891453524\n"
     ]
    }
   ],
   "source": [
    "print('Значение F1 на тестовой выборке = ', f1_score(predicted, target_test))"
   ]
  },
  {
   "cell_type": "code",
   "execution_count": 31,
   "metadata": {},
   "outputs": [
    {
     "name": "stdout",
     "output_type": "stream",
     "text": [
      "Значение accuracy на тестовой выборке =  0.9602008788449466\n"
     ]
    }
   ],
   "source": [
    "print('Значение accuracy на тестовой выборке = ', accuracy_score(predicted, target_test))"
   ]
  },
  {
   "attachments": {},
   "cell_type": "markdown",
   "metadata": {},
   "source": [
    "## Общий вывод"
   ]
  },
  {
   "attachments": {},
   "cell_type": "markdown",
   "metadata": {},
   "source": [
    "Для достижения цели классификации комментариев на позитивные и негативные со значением метрики качества F1 не меньше 0.75 было выполнено следующее.\n",
    "\n",
    "1) В разделе 1:\n",
    "\n",
    "- проведено ознакомление с данными;\n",
    "- удален столбец Unnamed: 0;\n",
    "- проведена проверка на дубликаты;\n",
    "- выявлен дисбаланс классов в наборе данных;\n",
    "- Создан столбец 'lemm_text', содержащий лемматизированные строки. Столбец 'toxic' удален;\n",
    "- данные разбиты на треннеровочную и тестовую выборки.\n",
    "\n",
    "2) В разделе 2 были рассмотрены три модели: LogisticRegression, RandomForestClassifier и LGBMClassifier.   \n",
    "Лучшая модель определена по максимальному значению метрики F1 (0.785) - LogisticRegression(C=30, class_weight='balanced', max_iter=500, random_state=12345)\n",
    "\n",
    "Выбранная модель была протестирована на тестовой выборке. Значение F1 на тестовой выборке =  0.7937\n",
    "\n",
    "Полученный для модели результат удовлетворяет поставленной задаче."
   ]
  }
 ],
 "metadata": {
  "ExecuteTimeLog": [
   {
    "duration": 3150,
    "start_time": "2023-02-28T16:43:43.784Z"
   },
   {
    "duration": 2762,
    "start_time": "2023-02-28T16:43:46.937Z"
   },
   {
    "duration": 19,
    "start_time": "2023-02-28T16:43:49.708Z"
   },
   {
    "duration": 59394,
    "start_time": "2023-02-28T16:43:49.729Z"
   },
   {
    "duration": 2862,
    "start_time": "2023-02-28T16:44:55.469Z"
   },
   {
    "duration": 830,
    "start_time": "2023-02-28T16:44:58.333Z"
   },
   {
    "duration": 21,
    "start_time": "2023-02-28T16:44:59.165Z"
   },
   {
    "duration": 13,
    "start_time": "2023-02-28T16:44:59.189Z"
   },
   {
    "duration": 852,
    "start_time": "2023-02-28T16:44:59.203Z"
   },
   {
    "duration": 2559,
    "start_time": "2023-03-03T15:01:17.582Z"
   },
   {
    "duration": 3075,
    "start_time": "2023-03-03T15:01:20.143Z"
   },
   {
    "duration": 11,
    "start_time": "2023-03-03T15:01:23.220Z"
   },
   {
    "duration": 8,
    "start_time": "2023-03-03T15:01:23.234Z"
   },
   {
    "duration": 27,
    "start_time": "2023-03-03T15:01:23.243Z"
   },
   {
    "duration": 246,
    "start_time": "2023-03-03T15:01:23.273Z"
   },
   {
    "duration": 127,
    "start_time": "2023-03-03T15:01:23.521Z"
   },
   {
    "duration": 13,
    "start_time": "2023-03-03T15:01:23.650Z"
   },
   {
    "duration": 4,
    "start_time": "2023-03-03T15:01:23.665Z"
   },
   {
    "duration": 689,
    "start_time": "2023-03-03T15:01:23.671Z"
   },
   {
    "duration": 4,
    "start_time": "2023-03-03T15:01:24.362Z"
   },
   {
    "duration": 16,
    "start_time": "2023-03-03T15:01:24.367Z"
   },
   {
    "duration": 6,
    "start_time": "2023-03-03T15:01:24.384Z"
   },
   {
    "duration": 5,
    "start_time": "2023-03-03T15:01:24.391Z"
   },
   {
    "duration": 42,
    "start_time": "2023-03-03T15:01:24.397Z"
   },
   {
    "duration": 0,
    "start_time": "2023-03-03T15:01:24.441Z"
   },
   {
    "duration": 0,
    "start_time": "2023-03-03T15:01:24.442Z"
   },
   {
    "duration": 0,
    "start_time": "2023-03-03T15:01:24.443Z"
   },
   {
    "duration": 0,
    "start_time": "2023-03-03T15:01:24.444Z"
   },
   {
    "duration": 0,
    "start_time": "2023-03-03T15:01:24.445Z"
   },
   {
    "duration": 0,
    "start_time": "2023-03-03T15:01:24.446Z"
   },
   {
    "duration": 0,
    "start_time": "2023-03-03T15:01:24.447Z"
   },
   {
    "duration": 40,
    "start_time": "2023-03-03T15:01:36.010Z"
   },
   {
    "duration": 185,
    "start_time": "2023-03-03T15:01:36.433Z"
   },
   {
    "duration": 225,
    "start_time": "2023-03-03T15:01:51.266Z"
   },
   {
    "duration": 2,
    "start_time": "2023-03-03T15:01:52.803Z"
   },
   {
    "duration": 9,
    "start_time": "2023-03-03T15:01:54.026Z"
   },
   {
    "duration": 4,
    "start_time": "2023-03-03T15:01:54.769Z"
   },
   {
    "duration": 2,
    "start_time": "2023-03-03T15:01:55.529Z"
   },
   {
    "duration": 12,
    "start_time": "2023-03-03T15:01:56.137Z"
   },
   {
    "duration": 4,
    "start_time": "2023-03-03T15:01:57.273Z"
   },
   {
    "duration": 5,
    "start_time": "2023-03-03T15:02:39.779Z"
   },
   {
    "duration": 2543,
    "start_time": "2023-03-03T15:02:58.914Z"
   },
   {
    "duration": 824,
    "start_time": "2023-03-03T15:03:01.459Z"
   },
   {
    "duration": 10,
    "start_time": "2023-03-03T15:03:02.284Z"
   },
   {
    "duration": 19,
    "start_time": "2023-03-03T15:03:02.296Z"
   },
   {
    "duration": 57,
    "start_time": "2023-03-03T15:03:02.317Z"
   },
   {
    "duration": 243,
    "start_time": "2023-03-03T15:03:02.376Z"
   },
   {
    "duration": 122,
    "start_time": "2023-03-03T15:03:02.620Z"
   },
   {
    "duration": 12,
    "start_time": "2023-03-03T15:03:02.743Z"
   },
   {
    "duration": 4,
    "start_time": "2023-03-03T15:03:02.756Z"
   },
   {
    "duration": 1232,
    "start_time": "2023-03-03T15:03:02.762Z"
   },
   {
    "duration": 5,
    "start_time": "2023-03-03T15:03:03.995Z"
   },
   {
    "duration": 10,
    "start_time": "2023-03-03T15:03:04.001Z"
   },
   {
    "duration": 5,
    "start_time": "2023-03-03T15:03:04.012Z"
   },
   {
    "duration": 6,
    "start_time": "2023-03-03T15:03:04.018Z"
   },
   {
    "duration": 220,
    "start_time": "2023-03-03T15:03:04.026Z"
   },
   {
    "duration": 2,
    "start_time": "2023-03-03T15:03:04.248Z"
   },
   {
    "duration": 89,
    "start_time": "2023-03-03T15:03:04.252Z"
   },
   {
    "duration": 4,
    "start_time": "2023-03-03T15:03:04.344Z"
   },
   {
    "duration": 3,
    "start_time": "2023-03-03T15:03:04.357Z"
   },
   {
    "duration": 41,
    "start_time": "2023-03-03T15:03:04.361Z"
   },
   {
    "duration": 4,
    "start_time": "2023-03-03T15:03:04.403Z"
   },
   {
    "duration": 7,
    "start_time": "2023-03-03T15:03:04.408Z"
   },
   {
    "duration": 2484,
    "start_time": "2023-03-03T15:03:21.678Z"
   },
   {
    "duration": 826,
    "start_time": "2023-03-03T15:03:24.164Z"
   },
   {
    "duration": 11,
    "start_time": "2023-03-03T15:03:24.992Z"
   },
   {
    "duration": 8,
    "start_time": "2023-03-03T15:03:25.004Z"
   },
   {
    "duration": 42,
    "start_time": "2023-03-03T15:03:25.014Z"
   },
   {
    "duration": 251,
    "start_time": "2023-03-03T15:03:25.058Z"
   },
   {
    "duration": 144,
    "start_time": "2023-03-03T15:03:25.311Z"
   },
   {
    "duration": 9,
    "start_time": "2023-03-03T15:03:25.456Z"
   },
   {
    "duration": 3,
    "start_time": "2023-03-03T15:03:25.467Z"
   },
   {
    "duration": 2927,
    "start_time": "2023-03-03T15:03:25.472Z"
   },
   {
    "duration": 5,
    "start_time": "2023-03-03T15:03:28.400Z"
   },
   {
    "duration": 8,
    "start_time": "2023-03-03T15:03:28.406Z"
   },
   {
    "duration": 4,
    "start_time": "2023-03-03T15:03:28.415Z"
   },
   {
    "duration": 6,
    "start_time": "2023-03-03T15:03:28.421Z"
   },
   {
    "duration": 156,
    "start_time": "2023-03-03T15:03:28.428Z"
   },
   {
    "duration": 2,
    "start_time": "2023-03-03T15:03:28.586Z"
   },
   {
    "duration": 215,
    "start_time": "2023-03-03T15:03:28.590Z"
   },
   {
    "duration": 4,
    "start_time": "2023-03-03T15:03:28.807Z"
   },
   {
    "duration": 3,
    "start_time": "2023-03-03T15:03:28.812Z"
   },
   {
    "duration": 1747,
    "start_time": "2023-03-03T15:03:28.816Z"
   },
   {
    "duration": 5,
    "start_time": "2023-03-03T15:03:30.654Z"
   },
   {
    "duration": 29,
    "start_time": "2023-03-03T15:03:30.661Z"
   },
   {
    "duration": 2617,
    "start_time": "2023-03-03T15:04:05.360Z"
   },
   {
    "duration": 909,
    "start_time": "2023-03-03T15:04:07.980Z"
   },
   {
    "duration": 10,
    "start_time": "2023-03-03T15:04:08.890Z"
   },
   {
    "duration": 6,
    "start_time": "2023-03-03T15:04:08.902Z"
   },
   {
    "duration": 20,
    "start_time": "2023-03-03T15:04:08.910Z"
   },
   {
    "duration": 258,
    "start_time": "2023-03-03T15:04:08.931Z"
   },
   {
    "duration": 122,
    "start_time": "2023-03-03T15:04:09.191Z"
   },
   {
    "duration": 13,
    "start_time": "2023-03-03T15:04:09.315Z"
   },
   {
    "duration": 5,
    "start_time": "2023-03-03T15:04:09.330Z"
   },
   {
    "duration": 4819,
    "start_time": "2023-03-03T15:04:09.337Z"
   },
   {
    "duration": 6,
    "start_time": "2023-03-03T15:04:14.157Z"
   },
   {
    "duration": 6,
    "start_time": "2023-03-03T15:04:14.165Z"
   },
   {
    "duration": 3,
    "start_time": "2023-03-03T15:04:14.173Z"
   },
   {
    "duration": 6,
    "start_time": "2023-03-03T15:04:14.179Z"
   },
   {
    "duration": 156,
    "start_time": "2023-03-03T15:04:14.186Z"
   },
   {
    "duration": 3,
    "start_time": "2023-03-03T15:04:14.343Z"
   },
   {
    "duration": 384,
    "start_time": "2023-03-03T15:04:14.347Z"
   },
   {
    "duration": 4,
    "start_time": "2023-03-03T15:04:14.732Z"
   },
   {
    "duration": 4,
    "start_time": "2023-03-03T15:04:14.737Z"
   },
   {
    "duration": 1617,
    "start_time": "2023-03-03T15:04:14.742Z"
   },
   {
    "duration": 5,
    "start_time": "2023-03-03T15:04:16.361Z"
   },
   {
    "duration": 6,
    "start_time": "2023-03-03T15:04:16.455Z"
   },
   {
    "duration": 139,
    "start_time": "2023-03-03T15:04:46.693Z"
   },
   {
    "duration": 110,
    "start_time": "2023-03-03T15:05:01.768Z"
   },
   {
    "duration": 109,
    "start_time": "2023-03-03T15:05:12.101Z"
   },
   {
    "duration": 126,
    "start_time": "2023-03-03T15:05:31.012Z"
   },
   {
    "duration": 169,
    "start_time": "2023-03-03T15:05:45.332Z"
   },
   {
    "duration": 152,
    "start_time": "2023-03-03T15:06:03.164Z"
   },
   {
    "duration": 119,
    "start_time": "2023-03-03T15:06:11.684Z"
   },
   {
    "duration": 116,
    "start_time": "2023-03-03T15:06:19.211Z"
   },
   {
    "duration": 458,
    "start_time": "2023-03-03T15:06:45.210Z"
   },
   {
    "duration": 121,
    "start_time": "2023-03-03T15:06:52.564Z"
   },
   {
    "duration": 6,
    "start_time": "2023-03-03T15:48:20.102Z"
   },
   {
    "duration": 2550,
    "start_time": "2023-03-03T17:35:15.608Z"
   },
   {
    "duration": 824,
    "start_time": "2023-03-03T17:35:18.160Z"
   },
   {
    "duration": 10,
    "start_time": "2023-03-03T17:35:18.986Z"
   },
   {
    "duration": 8,
    "start_time": "2023-03-03T17:35:18.998Z"
   },
   {
    "duration": 25,
    "start_time": "2023-03-03T17:35:19.007Z"
   },
   {
    "duration": 262,
    "start_time": "2023-03-03T17:35:19.034Z"
   },
   {
    "duration": 133,
    "start_time": "2023-03-03T17:35:19.298Z"
   },
   {
    "duration": 9,
    "start_time": "2023-03-03T17:35:19.433Z"
   },
   {
    "duration": 3,
    "start_time": "2023-03-03T17:35:19.455Z"
   },
   {
    "duration": 4414,
    "start_time": "2023-03-03T17:35:19.460Z"
   },
   {
    "duration": 6,
    "start_time": "2023-03-03T17:35:23.876Z"
   },
   {
    "duration": 8,
    "start_time": "2023-03-03T17:35:23.883Z"
   },
   {
    "duration": 3,
    "start_time": "2023-03-03T17:35:23.893Z"
   },
   {
    "duration": 19,
    "start_time": "2023-03-03T17:35:23.898Z"
   },
   {
    "duration": 229,
    "start_time": "2023-03-03T17:35:23.918Z"
   },
   {
    "duration": 3,
    "start_time": "2023-03-03T17:35:24.149Z"
   },
   {
    "duration": 21,
    "start_time": "2023-03-03T17:35:24.153Z"
   },
   {
    "duration": 4,
    "start_time": "2023-03-03T17:35:24.175Z"
   },
   {
    "duration": 355,
    "start_time": "2023-03-03T17:35:24.181Z"
   },
   {
    "duration": 49,
    "start_time": "2023-03-03T17:35:24.538Z"
   },
   {
    "duration": 0,
    "start_time": "2023-03-03T17:35:24.589Z"
   },
   {
    "duration": 0,
    "start_time": "2023-03-03T17:35:24.590Z"
   },
   {
    "duration": 0,
    "start_time": "2023-03-03T17:35:24.592Z"
   },
   {
    "duration": 0,
    "start_time": "2023-03-03T17:35:24.593Z"
   },
   {
    "duration": 0,
    "start_time": "2023-03-03T17:35:24.594Z"
   },
   {
    "duration": 0,
    "start_time": "2023-03-03T17:35:24.596Z"
   },
   {
    "duration": 0,
    "start_time": "2023-03-03T17:35:24.597Z"
   },
   {
    "duration": 38,
    "start_time": "2023-03-03T17:37:38.511Z"
   },
   {
    "duration": 3,
    "start_time": "2023-03-03T17:37:47.100Z"
   },
   {
    "duration": 2,
    "start_time": "2023-03-03T17:37:47.885Z"
   },
   {
    "duration": 3,
    "start_time": "2023-03-03T17:37:48.485Z"
   },
   {
    "duration": 178,
    "start_time": "2023-03-03T17:37:49.175Z"
   },
   {
    "duration": 2450,
    "start_time": "2023-03-03T17:43:03.137Z"
   },
   {
    "duration": 847,
    "start_time": "2023-03-03T17:43:05.589Z"
   },
   {
    "duration": 18,
    "start_time": "2023-03-03T17:43:06.438Z"
   },
   {
    "duration": 9,
    "start_time": "2023-03-03T17:43:06.457Z"
   },
   {
    "duration": 30,
    "start_time": "2023-03-03T17:43:06.468Z"
   },
   {
    "duration": 261,
    "start_time": "2023-03-03T17:43:06.499Z"
   },
   {
    "duration": 173,
    "start_time": "2023-03-03T17:43:06.761Z"
   },
   {
    "duration": 9,
    "start_time": "2023-03-03T17:43:06.936Z"
   },
   {
    "duration": 3,
    "start_time": "2023-03-03T17:43:06.955Z"
   },
   {
    "duration": 4641,
    "start_time": "2023-03-03T17:43:06.960Z"
   },
   {
    "duration": 6,
    "start_time": "2023-03-03T17:43:11.603Z"
   },
   {
    "duration": 7,
    "start_time": "2023-03-03T17:43:11.611Z"
   },
   {
    "duration": 5,
    "start_time": "2023-03-03T17:43:11.620Z"
   },
   {
    "duration": 31,
    "start_time": "2023-03-03T17:43:11.627Z"
   },
   {
    "duration": 151,
    "start_time": "2023-03-03T17:43:11.659Z"
   },
   {
    "duration": 3,
    "start_time": "2023-03-03T17:43:11.812Z"
   },
   {
    "duration": 5,
    "start_time": "2023-03-03T17:43:11.817Z"
   },
   {
    "duration": 3,
    "start_time": "2023-03-03T17:43:11.824Z"
   },
   {
    "duration": 366,
    "start_time": "2023-03-03T17:43:11.828Z"
   },
   {
    "duration": 48,
    "start_time": "2023-03-03T17:43:12.196Z"
   },
   {
    "duration": 0,
    "start_time": "2023-03-03T17:43:12.245Z"
   },
   {
    "duration": 0,
    "start_time": "2023-03-03T17:43:12.246Z"
   },
   {
    "duration": 0,
    "start_time": "2023-03-03T17:43:12.247Z"
   },
   {
    "duration": 0,
    "start_time": "2023-03-03T17:43:12.249Z"
   },
   {
    "duration": 0,
    "start_time": "2023-03-03T17:43:12.249Z"
   },
   {
    "duration": 0,
    "start_time": "2023-03-03T17:43:12.250Z"
   },
   {
    "duration": 0,
    "start_time": "2023-03-03T17:43:12.251Z"
   },
   {
    "duration": 4,
    "start_time": "2023-03-03T17:43:43.463Z"
   },
   {
    "duration": 2531,
    "start_time": "2023-03-03T17:44:27.126Z"
   },
   {
    "duration": 835,
    "start_time": "2023-03-03T17:44:29.659Z"
   },
   {
    "duration": 10,
    "start_time": "2023-03-03T17:44:30.496Z"
   },
   {
    "duration": 31,
    "start_time": "2023-03-03T17:44:30.508Z"
   },
   {
    "duration": 54,
    "start_time": "2023-03-03T17:44:30.540Z"
   },
   {
    "duration": 272,
    "start_time": "2023-03-03T17:44:30.595Z"
   },
   {
    "duration": 135,
    "start_time": "2023-03-03T17:44:30.868Z"
   },
   {
    "duration": 10,
    "start_time": "2023-03-03T17:44:31.005Z"
   },
   {
    "duration": 20,
    "start_time": "2023-03-03T17:44:31.017Z"
   },
   {
    "duration": 4701,
    "start_time": "2023-03-03T17:44:31.041Z"
   },
   {
    "duration": 16,
    "start_time": "2023-03-03T17:44:35.744Z"
   },
   {
    "duration": 14,
    "start_time": "2023-03-03T17:44:35.761Z"
   },
   {
    "duration": 4,
    "start_time": "2023-03-03T17:44:35.776Z"
   },
   {
    "duration": 7,
    "start_time": "2023-03-03T17:44:35.781Z"
   },
   {
    "duration": 242,
    "start_time": "2023-03-03T17:44:35.789Z"
   },
   {
    "duration": 4,
    "start_time": "2023-03-03T17:44:36.033Z"
   },
   {
    "duration": 6,
    "start_time": "2023-03-03T17:44:36.038Z"
   },
   {
    "duration": 6,
    "start_time": "2023-03-03T17:44:36.045Z"
   },
   {
    "duration": 15,
    "start_time": "2023-03-03T17:44:36.053Z"
   },
   {
    "duration": 345,
    "start_time": "2023-03-03T17:44:36.070Z"
   },
   {
    "duration": 4,
    "start_time": "2023-03-03T17:44:36.416Z"
   },
   {
    "duration": 40,
    "start_time": "2023-03-03T17:44:36.422Z"
   },
   {
    "duration": 0,
    "start_time": "2023-03-03T17:44:36.464Z"
   },
   {
    "duration": 0,
    "start_time": "2023-03-03T17:44:36.465Z"
   },
   {
    "duration": 0,
    "start_time": "2023-03-03T17:44:36.466Z"
   },
   {
    "duration": 0,
    "start_time": "2023-03-03T17:44:36.467Z"
   },
   {
    "duration": 0,
    "start_time": "2023-03-03T17:44:36.468Z"
   },
   {
    "duration": 0,
    "start_time": "2023-03-03T17:44:36.469Z"
   },
   {
    "duration": 0,
    "start_time": "2023-03-03T17:44:36.470Z"
   },
   {
    "duration": 2508,
    "start_time": "2023-03-03T17:45:34.278Z"
   },
   {
    "duration": 873,
    "start_time": "2023-03-03T17:45:36.788Z"
   },
   {
    "duration": 10,
    "start_time": "2023-03-03T17:45:37.663Z"
   },
   {
    "duration": 6,
    "start_time": "2023-03-03T17:45:37.675Z"
   },
   {
    "duration": 26,
    "start_time": "2023-03-03T17:45:37.683Z"
   },
   {
    "duration": 267,
    "start_time": "2023-03-03T17:45:37.710Z"
   },
   {
    "duration": 132,
    "start_time": "2023-03-03T17:45:37.978Z"
   },
   {
    "duration": 10,
    "start_time": "2023-03-03T17:45:38.112Z"
   },
   {
    "duration": 4,
    "start_time": "2023-03-03T17:45:38.123Z"
   },
   {
    "duration": 4577,
    "start_time": "2023-03-03T17:45:38.129Z"
   },
   {
    "duration": 6,
    "start_time": "2023-03-03T17:45:42.708Z"
   },
   {
    "duration": 10,
    "start_time": "2023-03-03T17:45:42.715Z"
   },
   {
    "duration": 4,
    "start_time": "2023-03-03T17:45:42.726Z"
   },
   {
    "duration": 27,
    "start_time": "2023-03-03T17:45:42.731Z"
   },
   {
    "duration": 145,
    "start_time": "2023-03-03T17:45:42.759Z"
   },
   {
    "duration": 4,
    "start_time": "2023-03-03T17:45:42.906Z"
   },
   {
    "duration": 8,
    "start_time": "2023-03-03T17:45:42.911Z"
   },
   {
    "duration": 3,
    "start_time": "2023-03-03T17:45:42.921Z"
   },
   {
    "duration": 4,
    "start_time": "2023-03-03T17:45:42.925Z"
   },
   {
    "duration": 354,
    "start_time": "2023-03-03T17:45:42.930Z"
   },
   {
    "duration": 4,
    "start_time": "2023-03-03T17:45:43.285Z"
   },
   {
    "duration": 41,
    "start_time": "2023-03-03T17:45:43.290Z"
   },
   {
    "duration": 0,
    "start_time": "2023-03-03T17:45:43.333Z"
   },
   {
    "duration": 0,
    "start_time": "2023-03-03T17:45:43.334Z"
   },
   {
    "duration": 0,
    "start_time": "2023-03-03T17:45:43.335Z"
   },
   {
    "duration": 0,
    "start_time": "2023-03-03T17:45:43.337Z"
   },
   {
    "duration": 0,
    "start_time": "2023-03-03T17:45:43.338Z"
   },
   {
    "duration": 0,
    "start_time": "2023-03-03T17:45:43.338Z"
   },
   {
    "duration": 0,
    "start_time": "2023-03-03T17:45:43.339Z"
   },
   {
    "duration": 2348,
    "start_time": "2023-03-03T18:13:12.497Z"
   },
   {
    "duration": 863,
    "start_time": "2023-03-03T18:13:14.847Z"
   },
   {
    "duration": 10,
    "start_time": "2023-03-03T18:13:15.711Z"
   },
   {
    "duration": 8,
    "start_time": "2023-03-03T18:13:15.723Z"
   },
   {
    "duration": 43,
    "start_time": "2023-03-03T18:13:15.733Z"
   },
   {
    "duration": 256,
    "start_time": "2023-03-03T18:13:15.777Z"
   },
   {
    "duration": 140,
    "start_time": "2023-03-03T18:13:16.034Z"
   },
   {
    "duration": 10,
    "start_time": "2023-03-03T18:13:16.176Z"
   },
   {
    "duration": 3,
    "start_time": "2023-03-03T18:13:16.187Z"
   },
   {
    "duration": 4584,
    "start_time": "2023-03-03T18:13:16.193Z"
   },
   {
    "duration": 6,
    "start_time": "2023-03-03T18:13:20.779Z"
   },
   {
    "duration": 15,
    "start_time": "2023-03-03T18:13:20.786Z"
   },
   {
    "duration": 14,
    "start_time": "2023-03-03T18:13:20.802Z"
   },
   {
    "duration": 12,
    "start_time": "2023-03-03T18:13:20.817Z"
   },
   {
    "duration": 225,
    "start_time": "2023-03-03T18:13:20.830Z"
   },
   {
    "duration": 3,
    "start_time": "2023-03-03T18:13:21.057Z"
   },
   {
    "duration": 5,
    "start_time": "2023-03-03T18:13:21.062Z"
   },
   {
    "duration": 3,
    "start_time": "2023-03-03T18:13:21.069Z"
   },
   {
    "duration": 3,
    "start_time": "2023-03-03T18:13:21.073Z"
   },
   {
    "duration": 386,
    "start_time": "2023-03-03T18:13:21.078Z"
   },
   {
    "duration": 4,
    "start_time": "2023-03-03T18:13:21.466Z"
   },
   {
    "duration": 40,
    "start_time": "2023-03-03T18:13:21.471Z"
   },
   {
    "duration": 0,
    "start_time": "2023-03-03T18:13:21.513Z"
   },
   {
    "duration": 0,
    "start_time": "2023-03-03T18:13:21.514Z"
   },
   {
    "duration": 0,
    "start_time": "2023-03-03T18:13:21.516Z"
   },
   {
    "duration": 0,
    "start_time": "2023-03-03T18:13:21.517Z"
   },
   {
    "duration": 0,
    "start_time": "2023-03-03T18:13:21.519Z"
   },
   {
    "duration": 0,
    "start_time": "2023-03-03T18:13:21.520Z"
   },
   {
    "duration": 0,
    "start_time": "2023-03-03T18:13:21.521Z"
   },
   {
    "duration": 2464,
    "start_time": "2023-03-03T18:16:54.691Z"
   },
   {
    "duration": 841,
    "start_time": "2023-03-03T18:16:57.157Z"
   },
   {
    "duration": 11,
    "start_time": "2023-03-03T18:16:58.000Z"
   },
   {
    "duration": 7,
    "start_time": "2023-03-03T18:16:58.012Z"
   },
   {
    "duration": 21,
    "start_time": "2023-03-03T18:16:58.021Z"
   },
   {
    "duration": 247,
    "start_time": "2023-03-03T18:16:58.055Z"
   },
   {
    "duration": 141,
    "start_time": "2023-03-03T18:16:58.304Z"
   },
   {
    "duration": 14,
    "start_time": "2023-03-03T18:16:58.446Z"
   },
   {
    "duration": 4,
    "start_time": "2023-03-03T18:16:58.462Z"
   },
   {
    "duration": 4455,
    "start_time": "2023-03-03T18:16:58.468Z"
   },
   {
    "duration": 6,
    "start_time": "2023-03-03T18:17:02.925Z"
   },
   {
    "duration": 15,
    "start_time": "2023-03-03T18:17:02.933Z"
   },
   {
    "duration": 4,
    "start_time": "2023-03-03T18:17:02.955Z"
   },
   {
    "duration": 7,
    "start_time": "2023-03-03T18:17:02.961Z"
   },
   {
    "duration": 148,
    "start_time": "2023-03-03T18:17:02.969Z"
   },
   {
    "duration": 4,
    "start_time": "2023-03-03T18:17:03.118Z"
   },
   {
    "duration": 20,
    "start_time": "2023-03-03T18:17:03.123Z"
   },
   {
    "duration": 15,
    "start_time": "2023-03-03T18:17:03.144Z"
   },
   {
    "duration": 15,
    "start_time": "2023-03-03T18:17:03.161Z"
   },
   {
    "duration": 354,
    "start_time": "2023-03-03T18:17:03.177Z"
   },
   {
    "duration": 3,
    "start_time": "2023-03-03T18:17:03.532Z"
   },
   {
    "duration": 42,
    "start_time": "2023-03-03T18:17:03.537Z"
   },
   {
    "duration": 0,
    "start_time": "2023-03-03T18:17:03.580Z"
   },
   {
    "duration": 0,
    "start_time": "2023-03-03T18:17:03.582Z"
   },
   {
    "duration": 0,
    "start_time": "2023-03-03T18:17:03.582Z"
   },
   {
    "duration": 0,
    "start_time": "2023-03-03T18:17:03.584Z"
   },
   {
    "duration": 0,
    "start_time": "2023-03-03T18:17:03.585Z"
   },
   {
    "duration": 0,
    "start_time": "2023-03-03T18:17:03.586Z"
   },
   {
    "duration": 0,
    "start_time": "2023-03-03T18:17:03.587Z"
   },
   {
    "duration": 171,
    "start_time": "2023-03-03T18:17:33.232Z"
   },
   {
    "duration": 2,
    "start_time": "2023-03-03T18:24:53.279Z"
   },
   {
    "duration": 3,
    "start_time": "2023-03-03T18:24:53.834Z"
   },
   {
    "duration": 136,
    "start_time": "2023-03-03T18:24:54.397Z"
   },
   {
    "duration": 4,
    "start_time": "2023-03-03T18:25:03.866Z"
   },
   {
    "duration": 4,
    "start_time": "2023-03-03T18:27:06.352Z"
   },
   {
    "duration": 3,
    "start_time": "2023-03-03T18:27:06.867Z"
   },
   {
    "duration": 3,
    "start_time": "2023-03-03T18:27:07.374Z"
   },
   {
    "duration": 157,
    "start_time": "2023-03-03T18:27:12.920Z"
   },
   {
    "duration": 6,
    "start_time": "2023-03-03T18:28:23.222Z"
   },
   {
    "duration": 3,
    "start_time": "2023-03-03T18:52:39.792Z"
   },
   {
    "duration": 3,
    "start_time": "2023-03-03T18:52:46.166Z"
   },
   {
    "duration": 102,
    "start_time": "2023-03-03T18:52:47.162Z"
   },
   {
    "duration": 75,
    "start_time": "2023-03-03T18:59:40.625Z"
   },
   {
    "duration": 58,
    "start_time": "2023-03-03T19:03:29.786Z"
   },
   {
    "duration": 2,
    "start_time": "2023-03-03T19:05:31.413Z"
   },
   {
    "duration": 121,
    "start_time": "2023-03-03T19:05:43.489Z"
   },
   {
    "duration": 73,
    "start_time": "2023-03-03T19:05:58.855Z"
   },
   {
    "duration": 2,
    "start_time": "2023-03-03T19:06:54.965Z"
   },
   {
    "duration": 70,
    "start_time": "2023-03-03T19:06:56.229Z"
   },
   {
    "duration": 11,
    "start_time": "2023-03-03T19:09:10.674Z"
   },
   {
    "duration": 11,
    "start_time": "2023-03-03T19:10:58.064Z"
   },
   {
    "duration": 762,
    "start_time": "2023-03-03T19:12:56.006Z"
   },
   {
    "duration": 4,
    "start_time": "2023-03-03T19:13:13.998Z"
   },
   {
    "duration": 2471,
    "start_time": "2023-03-03T19:14:20.982Z"
   },
   {
    "duration": 844,
    "start_time": "2023-03-03T19:14:23.455Z"
   },
   {
    "duration": 10,
    "start_time": "2023-03-03T19:14:24.301Z"
   },
   {
    "duration": 9,
    "start_time": "2023-03-03T19:14:24.313Z"
   },
   {
    "duration": 39,
    "start_time": "2023-03-03T19:14:24.323Z"
   },
   {
    "duration": 259,
    "start_time": "2023-03-03T19:14:24.364Z"
   },
   {
    "duration": 141,
    "start_time": "2023-03-03T19:14:24.625Z"
   },
   {
    "duration": 11,
    "start_time": "2023-03-03T19:14:24.767Z"
   },
   {
    "duration": 4,
    "start_time": "2023-03-03T19:14:24.779Z"
   },
   {
    "duration": 4750,
    "start_time": "2023-03-03T19:14:24.785Z"
   },
   {
    "duration": 6,
    "start_time": "2023-03-03T19:14:29.536Z"
   },
   {
    "duration": 8,
    "start_time": "2023-03-03T19:14:29.554Z"
   },
   {
    "duration": 5,
    "start_time": "2023-03-03T19:14:29.575Z"
   },
   {
    "duration": 8,
    "start_time": "2023-03-03T19:14:29.581Z"
   },
   {
    "duration": 203,
    "start_time": "2023-03-03T19:14:29.590Z"
   },
   {
    "duration": 3,
    "start_time": "2023-03-03T19:14:29.795Z"
   },
   {
    "duration": 4,
    "start_time": "2023-03-03T19:14:29.799Z"
   },
   {
    "duration": 173,
    "start_time": "2023-03-03T19:14:29.804Z"
   },
   {
    "duration": 0,
    "start_time": "2023-03-03T19:14:29.979Z"
   },
   {
    "duration": 0,
    "start_time": "2023-03-03T19:14:29.980Z"
   },
   {
    "duration": 0,
    "start_time": "2023-03-03T19:14:29.980Z"
   },
   {
    "duration": 0,
    "start_time": "2023-03-03T19:14:29.981Z"
   },
   {
    "duration": 0,
    "start_time": "2023-03-03T19:14:29.982Z"
   },
   {
    "duration": 0,
    "start_time": "2023-03-03T19:14:29.983Z"
   },
   {
    "duration": 0,
    "start_time": "2023-03-03T19:14:29.983Z"
   },
   {
    "duration": 0,
    "start_time": "2023-03-03T19:14:29.984Z"
   },
   {
    "duration": 0,
    "start_time": "2023-03-03T19:14:29.985Z"
   },
   {
    "duration": 0,
    "start_time": "2023-03-03T19:14:29.986Z"
   },
   {
    "duration": 11,
    "start_time": "2023-03-03T19:14:50.332Z"
   },
   {
    "duration": 3,
    "start_time": "2023-03-03T19:15:18.571Z"
   },
   {
    "duration": 5514,
    "start_time": "2023-03-03T19:15:21.819Z"
   },
   {
    "duration": 14,
    "start_time": "2023-03-03T19:16:25.626Z"
   },
   {
    "duration": 3,
    "start_time": "2023-03-03T19:16:46.921Z"
   },
   {
    "duration": 3,
    "start_time": "2023-03-03T19:16:47.626Z"
   },
   {
    "duration": 6833,
    "start_time": "2023-03-03T19:16:48.470Z"
   },
   {
    "duration": 2,
    "start_time": "2023-03-03T19:17:37.689Z"
   },
   {
    "duration": 3,
    "start_time": "2023-03-03T19:17:38.536Z"
   },
   {
    "duration": 11651,
    "start_time": "2023-03-03T19:17:40.473Z"
   },
   {
    "duration": 3,
    "start_time": "2023-03-03T19:18:47.567Z"
   },
   {
    "duration": 3,
    "start_time": "2023-03-03T19:18:52.102Z"
   },
   {
    "duration": 14192,
    "start_time": "2023-03-03T19:18:52.745Z"
   },
   {
    "duration": 3,
    "start_time": "2023-03-03T19:23:37.469Z"
   },
   {
    "duration": 3,
    "start_time": "2023-03-03T19:23:38.073Z"
   },
   {
    "duration": 12233,
    "start_time": "2023-03-03T19:23:38.729Z"
   },
   {
    "duration": 3,
    "start_time": "2023-03-03T19:23:59.274Z"
   },
   {
    "duration": 3,
    "start_time": "2023-03-03T19:23:59.920Z"
   },
   {
    "duration": 10179,
    "start_time": "2023-03-03T19:24:00.562Z"
   },
   {
    "duration": 2,
    "start_time": "2023-03-03T19:24:43.920Z"
   },
   {
    "duration": 3,
    "start_time": "2023-03-03T19:24:44.599Z"
   },
   {
    "duration": 19746,
    "start_time": "2023-03-03T19:24:45.383Z"
   },
   {
    "duration": 3,
    "start_time": "2023-03-03T19:25:45.591Z"
   },
   {
    "duration": 3,
    "start_time": "2023-03-03T19:25:46.278Z"
   },
   {
    "duration": 9433,
    "start_time": "2023-03-03T19:25:47.094Z"
   },
   {
    "duration": 2447,
    "start_time": "2023-03-03T19:27:06.489Z"
   },
   {
    "duration": 824,
    "start_time": "2023-03-03T19:27:08.938Z"
   },
   {
    "duration": 10,
    "start_time": "2023-03-03T19:27:09.763Z"
   },
   {
    "duration": 9,
    "start_time": "2023-03-03T19:27:09.775Z"
   },
   {
    "duration": 28,
    "start_time": "2023-03-03T19:27:09.785Z"
   },
   {
    "duration": 260,
    "start_time": "2023-03-03T19:27:09.815Z"
   },
   {
    "duration": 128,
    "start_time": "2023-03-03T19:27:10.076Z"
   },
   {
    "duration": 2,
    "start_time": "2023-03-03T19:27:10.206Z"
   },
   {
    "duration": 11,
    "start_time": "2023-03-03T19:27:10.209Z"
   },
   {
    "duration": 68921,
    "start_time": "2023-03-03T19:27:10.223Z"
   },
   {
    "duration": 35,
    "start_time": "2023-03-03T19:28:19.146Z"
   },
   {
    "duration": 6,
    "start_time": "2023-03-03T19:28:19.183Z"
   },
   {
    "duration": 8,
    "start_time": "2023-03-03T19:28:19.191Z"
   },
   {
    "duration": 71,
    "start_time": "2023-03-03T19:28:19.200Z"
   },
   {
    "duration": 220,
    "start_time": "2023-03-03T19:28:19.272Z"
   },
   {
    "duration": 4,
    "start_time": "2023-03-03T19:28:19.494Z"
   },
   {
    "duration": 4,
    "start_time": "2023-03-03T19:28:19.499Z"
   },
   {
    "duration": 4,
    "start_time": "2023-03-03T19:28:19.505Z"
   },
   {
    "duration": 27618,
    "start_time": "2023-03-03T19:28:19.510Z"
   },
   {
    "duration": 35,
    "start_time": "2023-03-03T19:28:47.130Z"
   },
   {
    "duration": 0,
    "start_time": "2023-03-03T19:28:47.166Z"
   },
   {
    "duration": 0,
    "start_time": "2023-03-03T19:28:47.167Z"
   },
   {
    "duration": 0,
    "start_time": "2023-03-03T19:28:47.168Z"
   },
   {
    "duration": 0,
    "start_time": "2023-03-03T19:28:47.170Z"
   },
   {
    "duration": 0,
    "start_time": "2023-03-03T19:28:47.170Z"
   },
   {
    "duration": 0,
    "start_time": "2023-03-03T19:28:47.172Z"
   },
   {
    "duration": 0,
    "start_time": "2023-03-03T19:28:47.172Z"
   },
   {
    "duration": 2432,
    "start_time": "2023-03-03T19:28:56.227Z"
   },
   {
    "duration": 831,
    "start_time": "2023-03-03T19:28:58.661Z"
   },
   {
    "duration": 9,
    "start_time": "2023-03-03T19:28:59.494Z"
   },
   {
    "duration": 7,
    "start_time": "2023-03-03T19:28:59.505Z"
   },
   {
    "duration": 24,
    "start_time": "2023-03-03T19:28:59.514Z"
   },
   {
    "duration": 248,
    "start_time": "2023-03-03T19:28:59.554Z"
   },
   {
    "duration": 132,
    "start_time": "2023-03-03T19:28:59.803Z"
   },
   {
    "duration": 10,
    "start_time": "2023-03-03T19:28:59.936Z"
   },
   {
    "duration": 3,
    "start_time": "2023-03-03T19:28:59.954Z"
   },
   {
    "duration": 4510,
    "start_time": "2023-03-03T19:28:59.960Z"
   },
   {
    "duration": 6,
    "start_time": "2023-03-03T19:29:04.472Z"
   },
   {
    "duration": 7,
    "start_time": "2023-03-03T19:29:04.479Z"
   },
   {
    "duration": 3,
    "start_time": "2023-03-03T19:29:04.488Z"
   },
   {
    "duration": 16,
    "start_time": "2023-03-03T19:29:04.493Z"
   },
   {
    "duration": 181,
    "start_time": "2023-03-03T19:29:04.511Z"
   },
   {
    "duration": 3,
    "start_time": "2023-03-03T19:29:04.694Z"
   },
   {
    "duration": 4,
    "start_time": "2023-03-03T19:29:04.699Z"
   },
   {
    "duration": 3,
    "start_time": "2023-03-03T19:29:04.704Z"
   },
   {
    "duration": 232,
    "start_time": "2023-03-03T19:29:04.709Z"
   },
   {
    "duration": 48,
    "start_time": "2023-03-03T19:29:04.943Z"
   },
   {
    "duration": 0,
    "start_time": "2023-03-03T19:29:04.993Z"
   },
   {
    "duration": 0,
    "start_time": "2023-03-03T19:29:04.994Z"
   },
   {
    "duration": 0,
    "start_time": "2023-03-03T19:29:04.996Z"
   },
   {
    "duration": 0,
    "start_time": "2023-03-03T19:29:04.997Z"
   },
   {
    "duration": 0,
    "start_time": "2023-03-03T19:29:04.999Z"
   },
   {
    "duration": 0,
    "start_time": "2023-03-03T19:29:05.000Z"
   },
   {
    "duration": 0,
    "start_time": "2023-03-03T19:29:05.001Z"
   },
   {
    "duration": 3,
    "start_time": "2023-03-03T19:29:34.816Z"
   },
   {
    "duration": 2,
    "start_time": "2023-03-03T19:29:35.473Z"
   },
   {
    "duration": 67,
    "start_time": "2023-03-03T19:29:36.205Z"
   },
   {
    "duration": 3,
    "start_time": "2023-03-03T19:30:29.695Z"
   },
   {
    "duration": 3,
    "start_time": "2023-03-03T19:30:30.335Z"
   },
   {
    "duration": 27028,
    "start_time": "2023-03-03T19:30:31.001Z"
   },
   {
    "duration": 3,
    "start_time": "2023-03-03T19:31:47.176Z"
   },
   {
    "duration": 3,
    "start_time": "2023-03-03T19:31:47.750Z"
   },
   {
    "duration": 2,
    "start_time": "2023-03-03T19:31:48.246Z"
   },
   {
    "duration": 68,
    "start_time": "2023-03-03T19:31:48.725Z"
   },
   {
    "duration": 3,
    "start_time": "2023-03-03T19:35:24.152Z"
   },
   {
    "duration": 2,
    "start_time": "2023-03-03T19:35:24.698Z"
   },
   {
    "duration": 4,
    "start_time": "2023-03-03T19:35:25.262Z"
   },
   {
    "duration": 69,
    "start_time": "2023-03-03T19:35:25.843Z"
   },
   {
    "duration": 3,
    "start_time": "2023-03-03T19:37:27.103Z"
   },
   {
    "duration": 3,
    "start_time": "2023-03-03T19:37:27.658Z"
   },
   {
    "duration": 3,
    "start_time": "2023-03-03T19:37:28.214Z"
   },
   {
    "duration": 23,
    "start_time": "2023-03-03T19:38:00.632Z"
   },
   {
    "duration": 34,
    "start_time": "2023-03-03T19:38:00.656Z"
   },
   {
    "duration": 29840,
    "start_time": "2023-03-03T19:38:00.691Z"
   },
   {
    "duration": 2687,
    "start_time": "2023-03-03T19:40:01.175Z"
   },
   {
    "duration": 850,
    "start_time": "2023-03-03T19:40:03.864Z"
   },
   {
    "duration": 10,
    "start_time": "2023-03-03T19:40:04.716Z"
   },
   {
    "duration": 7,
    "start_time": "2023-03-03T19:40:04.728Z"
   },
   {
    "duration": 43,
    "start_time": "2023-03-03T19:40:04.737Z"
   },
   {
    "duration": 252,
    "start_time": "2023-03-03T19:40:04.782Z"
   },
   {
    "duration": 138,
    "start_time": "2023-03-03T19:40:05.036Z"
   },
   {
    "duration": 11,
    "start_time": "2023-03-03T19:40:05.176Z"
   },
   {
    "duration": 17,
    "start_time": "2023-03-03T19:40:05.189Z"
   },
   {
    "duration": 9237,
    "start_time": "2023-03-03T19:40:05.208Z"
   },
   {
    "duration": 14,
    "start_time": "2023-03-03T19:40:14.447Z"
   },
   {
    "duration": 7,
    "start_time": "2023-03-03T19:40:14.462Z"
   },
   {
    "duration": 4,
    "start_time": "2023-03-03T19:40:14.471Z"
   },
   {
    "duration": 14,
    "start_time": "2023-03-03T19:40:14.476Z"
   },
   {
    "duration": 262,
    "start_time": "2023-03-03T19:40:14.491Z"
   },
   {
    "duration": 3,
    "start_time": "2023-03-03T19:40:14.755Z"
   },
   {
    "duration": 3,
    "start_time": "2023-03-03T19:40:14.760Z"
   },
   {
    "duration": 3,
    "start_time": "2023-03-03T19:40:14.764Z"
   },
   {
    "duration": 50187,
    "start_time": "2023-03-03T19:40:14.768Z"
   },
   {
    "duration": 37,
    "start_time": "2023-03-03T19:41:04.956Z"
   },
   {
    "duration": 0,
    "start_time": "2023-03-03T19:41:04.995Z"
   },
   {
    "duration": 0,
    "start_time": "2023-03-03T19:41:04.995Z"
   },
   {
    "duration": 0,
    "start_time": "2023-03-03T19:41:04.997Z"
   },
   {
    "duration": 0,
    "start_time": "2023-03-03T19:41:04.998Z"
   },
   {
    "duration": 0,
    "start_time": "2023-03-03T19:41:04.999Z"
   },
   {
    "duration": 0,
    "start_time": "2023-03-03T19:41:05.000Z"
   },
   {
    "duration": 0,
    "start_time": "2023-03-03T19:41:05.001Z"
   },
   {
    "duration": 2412,
    "start_time": "2023-03-03T19:45:41.846Z"
   },
   {
    "duration": 871,
    "start_time": "2023-03-03T19:45:44.260Z"
   },
   {
    "duration": 11,
    "start_time": "2023-03-03T19:45:45.132Z"
   },
   {
    "duration": 17,
    "start_time": "2023-03-03T19:45:45.145Z"
   },
   {
    "duration": 30,
    "start_time": "2023-03-03T19:45:45.163Z"
   },
   {
    "duration": 264,
    "start_time": "2023-03-03T19:45:45.195Z"
   },
   {
    "duration": 138,
    "start_time": "2023-03-03T19:45:45.461Z"
   },
   {
    "duration": 13,
    "start_time": "2023-03-03T19:45:45.601Z"
   },
   {
    "duration": 5,
    "start_time": "2023-03-03T19:45:45.616Z"
   },
   {
    "duration": 2921,
    "start_time": "2023-03-03T19:45:45.624Z"
   },
   {
    "duration": 11,
    "start_time": "2023-03-03T19:45:48.547Z"
   },
   {
    "duration": 11,
    "start_time": "2023-03-03T19:45:48.560Z"
   },
   {
    "duration": 17,
    "start_time": "2023-03-03T19:45:48.573Z"
   },
   {
    "duration": 9,
    "start_time": "2023-03-03T19:45:48.591Z"
   },
   {
    "duration": 175,
    "start_time": "2023-03-03T19:45:48.602Z"
   },
   {
    "duration": 4,
    "start_time": "2023-03-03T19:45:48.779Z"
   },
   {
    "duration": 4,
    "start_time": "2023-03-03T19:45:48.784Z"
   },
   {
    "duration": 7,
    "start_time": "2023-03-03T19:45:48.789Z"
   },
   {
    "duration": 20095,
    "start_time": "2023-03-03T19:45:48.797Z"
   },
   {
    "duration": 72,
    "start_time": "2023-03-03T19:46:08.894Z"
   },
   {
    "duration": 0,
    "start_time": "2023-03-03T19:46:08.967Z"
   },
   {
    "duration": 0,
    "start_time": "2023-03-03T19:46:08.969Z"
   },
   {
    "duration": 0,
    "start_time": "2023-03-03T19:46:08.970Z"
   },
   {
    "duration": 0,
    "start_time": "2023-03-03T19:46:08.971Z"
   },
   {
    "duration": 0,
    "start_time": "2023-03-03T19:46:08.972Z"
   },
   {
    "duration": 0,
    "start_time": "2023-03-03T19:46:08.973Z"
   },
   {
    "duration": 0,
    "start_time": "2023-03-03T19:46:08.974Z"
   },
   {
    "duration": 0,
    "start_time": "2023-03-03T19:46:08.975Z"
   },
   {
    "duration": 2510,
    "start_time": "2023-03-03T20:06:14.688Z"
   },
   {
    "duration": 850,
    "start_time": "2023-03-03T20:06:17.200Z"
   },
   {
    "duration": 10,
    "start_time": "2023-03-03T20:06:18.052Z"
   },
   {
    "duration": 8,
    "start_time": "2023-03-03T20:06:18.064Z"
   },
   {
    "duration": 26,
    "start_time": "2023-03-03T20:06:18.073Z"
   },
   {
    "duration": 263,
    "start_time": "2023-03-03T20:06:18.100Z"
   },
   {
    "duration": 141,
    "start_time": "2023-03-03T20:06:18.365Z"
   },
   {
    "duration": 10,
    "start_time": "2023-03-03T20:06:18.507Z"
   },
   {
    "duration": 4,
    "start_time": "2023-03-03T20:06:18.518Z"
   },
   {
    "duration": 3009,
    "start_time": "2023-03-03T20:06:18.524Z"
   },
   {
    "duration": 6,
    "start_time": "2023-03-03T20:06:21.535Z"
   },
   {
    "duration": 7,
    "start_time": "2023-03-03T20:06:21.556Z"
   },
   {
    "duration": 5,
    "start_time": "2023-03-03T20:06:21.564Z"
   },
   {
    "duration": 8,
    "start_time": "2023-03-03T20:06:21.571Z"
   },
   {
    "duration": 214,
    "start_time": "2023-03-03T20:06:21.581Z"
   },
   {
    "duration": 181,
    "start_time": "2023-03-03T20:06:21.797Z"
   },
   {
    "duration": 0,
    "start_time": "2023-03-03T20:06:21.980Z"
   },
   {
    "duration": 0,
    "start_time": "2023-03-03T20:06:21.981Z"
   },
   {
    "duration": 0,
    "start_time": "2023-03-03T20:06:21.983Z"
   },
   {
    "duration": 0,
    "start_time": "2023-03-03T20:06:21.985Z"
   },
   {
    "duration": 0,
    "start_time": "2023-03-03T20:06:21.986Z"
   },
   {
    "duration": 0,
    "start_time": "2023-03-03T20:06:21.987Z"
   },
   {
    "duration": 0,
    "start_time": "2023-03-03T20:06:21.988Z"
   },
   {
    "duration": 0,
    "start_time": "2023-03-03T20:06:21.990Z"
   },
   {
    "duration": 0,
    "start_time": "2023-03-03T20:06:21.991Z"
   },
   {
    "duration": 0,
    "start_time": "2023-03-03T20:06:21.993Z"
   },
   {
    "duration": 0,
    "start_time": "2023-03-03T20:06:21.994Z"
   },
   {
    "duration": 0,
    "start_time": "2023-03-03T20:06:21.995Z"
   },
   {
    "duration": 0,
    "start_time": "2023-03-03T20:06:21.997Z"
   },
   {
    "duration": 0,
    "start_time": "2023-03-03T20:06:21.998Z"
   },
   {
    "duration": 0,
    "start_time": "2023-03-03T20:06:22.000Z"
   },
   {
    "duration": 0,
    "start_time": "2023-03-03T20:06:22.001Z"
   },
   {
    "duration": 12,
    "start_time": "2023-03-03T20:07:04.565Z"
   },
   {
    "duration": 13,
    "start_time": "2023-03-03T20:07:13.130Z"
   },
   {
    "duration": 13,
    "start_time": "2023-03-03T20:07:13.883Z"
   },
   {
    "duration": 3,
    "start_time": "2023-03-03T20:07:17.586Z"
   },
   {
    "duration": 11,
    "start_time": "2023-03-03T20:07:18.194Z"
   },
   {
    "duration": 66,
    "start_time": "2023-03-03T20:07:20.482Z"
   },
   {
    "duration": 12,
    "start_time": "2023-03-03T20:09:00.522Z"
   },
   {
    "duration": 17,
    "start_time": "2023-03-03T20:10:16.864Z"
   },
   {
    "duration": 13,
    "start_time": "2023-03-03T20:10:26.369Z"
   },
   {
    "duration": 12,
    "start_time": "2023-03-03T20:10:34.466Z"
   },
   {
    "duration": 12,
    "start_time": "2023-03-03T20:10:42.661Z"
   },
   {
    "duration": 2425,
    "start_time": "2023-03-03T20:11:03.270Z"
   },
   {
    "duration": 820,
    "start_time": "2023-03-03T20:11:05.696Z"
   },
   {
    "duration": 10,
    "start_time": "2023-03-03T20:11:06.517Z"
   },
   {
    "duration": 6,
    "start_time": "2023-03-03T20:11:06.529Z"
   },
   {
    "duration": 35,
    "start_time": "2023-03-03T20:11:06.536Z"
   },
   {
    "duration": 255,
    "start_time": "2023-03-03T20:11:06.572Z"
   },
   {
    "duration": 171,
    "start_time": "2023-03-03T20:11:06.829Z"
   },
   {
    "duration": 11,
    "start_time": "2023-03-03T20:11:07.002Z"
   },
   {
    "duration": 5,
    "start_time": "2023-03-03T20:11:07.015Z"
   },
   {
    "duration": 2940,
    "start_time": "2023-03-03T20:11:07.022Z"
   },
   {
    "duration": 6,
    "start_time": "2023-03-03T20:11:09.963Z"
   },
   {
    "duration": 10,
    "start_time": "2023-03-03T20:11:09.970Z"
   },
   {
    "duration": 10,
    "start_time": "2023-03-03T20:11:09.981Z"
   },
   {
    "duration": 6,
    "start_time": "2023-03-03T20:11:09.994Z"
   },
   {
    "duration": 261,
    "start_time": "2023-03-03T20:11:10.002Z"
   },
   {
    "duration": 200,
    "start_time": "2023-03-03T20:11:10.266Z"
   },
   {
    "duration": 0,
    "start_time": "2023-03-03T20:11:10.469Z"
   },
   {
    "duration": 0,
    "start_time": "2023-03-03T20:11:10.470Z"
   },
   {
    "duration": 0,
    "start_time": "2023-03-03T20:11:10.472Z"
   },
   {
    "duration": 0,
    "start_time": "2023-03-03T20:11:10.473Z"
   },
   {
    "duration": 0,
    "start_time": "2023-03-03T20:11:10.474Z"
   },
   {
    "duration": 0,
    "start_time": "2023-03-03T20:11:10.476Z"
   },
   {
    "duration": 0,
    "start_time": "2023-03-03T20:11:10.477Z"
   },
   {
    "duration": 0,
    "start_time": "2023-03-03T20:11:10.479Z"
   },
   {
    "duration": 0,
    "start_time": "2023-03-03T20:11:10.480Z"
   },
   {
    "duration": 0,
    "start_time": "2023-03-03T20:11:10.481Z"
   },
   {
    "duration": 0,
    "start_time": "2023-03-03T20:11:10.483Z"
   },
   {
    "duration": 0,
    "start_time": "2023-03-03T20:11:10.484Z"
   },
   {
    "duration": 0,
    "start_time": "2023-03-03T20:11:10.485Z"
   },
   {
    "duration": 0,
    "start_time": "2023-03-03T20:11:10.486Z"
   },
   {
    "duration": 0,
    "start_time": "2023-03-03T20:11:10.487Z"
   },
   {
    "duration": 0,
    "start_time": "2023-03-03T20:11:10.489Z"
   },
   {
    "duration": 0,
    "start_time": "2023-03-03T20:11:10.490Z"
   },
   {
    "duration": 14,
    "start_time": "2023-03-03T20:11:41.701Z"
   },
   {
    "duration": 2,
    "start_time": "2023-03-03T20:13:35.883Z"
   },
   {
    "duration": 3,
    "start_time": "2023-03-03T20:13:38.452Z"
   },
   {
    "duration": 3,
    "start_time": "2023-03-03T20:13:40.667Z"
   },
   {
    "duration": 13343,
    "start_time": "2023-03-03T20:13:42.065Z"
   },
   {
    "duration": 2536,
    "start_time": "2023-03-03T20:21:24.967Z"
   },
   {
    "duration": 843,
    "start_time": "2023-03-03T20:21:27.505Z"
   },
   {
    "duration": 13,
    "start_time": "2023-03-03T20:21:28.350Z"
   },
   {
    "duration": 8,
    "start_time": "2023-03-03T20:21:28.365Z"
   },
   {
    "duration": 28,
    "start_time": "2023-03-03T20:21:28.374Z"
   },
   {
    "duration": 263,
    "start_time": "2023-03-03T20:21:28.403Z"
   },
   {
    "duration": 137,
    "start_time": "2023-03-03T20:21:28.668Z"
   },
   {
    "duration": 10,
    "start_time": "2023-03-03T20:21:28.806Z"
   },
   {
    "duration": 4,
    "start_time": "2023-03-03T20:21:28.817Z"
   },
   {
    "duration": 3038,
    "start_time": "2023-03-03T20:21:28.823Z"
   },
   {
    "duration": 5,
    "start_time": "2023-03-03T20:21:31.863Z"
   },
   {
    "duration": 20,
    "start_time": "2023-03-03T20:21:31.869Z"
   },
   {
    "duration": 6,
    "start_time": "2023-03-03T20:21:31.891Z"
   },
   {
    "duration": 7,
    "start_time": "2023-03-03T20:21:31.899Z"
   },
   {
    "duration": 164,
    "start_time": "2023-03-03T20:21:31.908Z"
   },
   {
    "duration": 3,
    "start_time": "2023-03-03T20:21:32.074Z"
   },
   {
    "duration": 19431,
    "start_time": "2023-03-03T20:21:32.079Z"
   },
   {
    "duration": 39,
    "start_time": "2023-03-03T20:21:51.512Z"
   },
   {
    "duration": 0,
    "start_time": "2023-03-03T20:21:51.553Z"
   },
   {
    "duration": 0,
    "start_time": "2023-03-03T20:21:51.554Z"
   },
   {
    "duration": 0,
    "start_time": "2023-03-03T20:21:51.555Z"
   },
   {
    "duration": 0,
    "start_time": "2023-03-03T20:21:51.556Z"
   },
   {
    "duration": 0,
    "start_time": "2023-03-03T20:21:51.557Z"
   },
   {
    "duration": 0,
    "start_time": "2023-03-03T20:21:51.558Z"
   },
   {
    "duration": 0,
    "start_time": "2023-03-03T20:21:51.559Z"
   },
   {
    "duration": 0,
    "start_time": "2023-03-03T20:21:51.561Z"
   },
   {
    "duration": 0,
    "start_time": "2023-03-03T20:21:51.562Z"
   },
   {
    "duration": 5,
    "start_time": "2023-03-03T20:22:25.815Z"
   },
   {
    "duration": 253,
    "start_time": "2023-03-03T20:22:26.798Z"
   },
   {
    "duration": 3,
    "start_time": "2023-03-03T20:22:32.093Z"
   },
   {
    "duration": 20445,
    "start_time": "2023-03-03T20:22:32.660Z"
   },
   {
    "duration": 5,
    "start_time": "2023-03-03T20:25:28.369Z"
   },
   {
    "duration": 16,
    "start_time": "2023-03-03T20:26:05.975Z"
   },
   {
    "duration": 16,
    "start_time": "2023-03-03T20:27:29.079Z"
   },
   {
    "duration": 6620,
    "start_time": "2023-03-03T20:27:30.861Z"
   },
   {
    "duration": 4,
    "start_time": "2023-03-03T20:28:03.958Z"
   },
   {
    "duration": 65,
    "start_time": "2023-03-03T20:28:05.488Z"
   },
   {
    "duration": 12,
    "start_time": "2023-03-03T20:29:51.461Z"
   },
   {
    "duration": 410,
    "start_time": "2023-03-03T20:30:30.255Z"
   },
   {
    "duration": 389,
    "start_time": "2023-03-03T20:30:44.881Z"
   },
   {
    "duration": 357,
    "start_time": "2023-03-03T20:30:54.690Z"
   },
   {
    "duration": 4,
    "start_time": "2023-03-03T20:32:30.366Z"
   },
   {
    "duration": 68,
    "start_time": "2023-03-03T20:32:30.976Z"
   },
   {
    "duration": 4,
    "start_time": "2023-03-03T20:34:25.820Z"
   },
   {
    "duration": 77,
    "start_time": "2023-03-03T20:34:26.614Z"
   },
   {
    "duration": 3,
    "start_time": "2023-03-03T20:34:37.237Z"
   },
   {
    "duration": 65,
    "start_time": "2023-03-03T20:34:37.982Z"
   },
   {
    "duration": 5,
    "start_time": "2023-03-03T20:35:00.156Z"
   },
   {
    "duration": 152,
    "start_time": "2023-03-03T20:35:02.517Z"
   },
   {
    "duration": 6,
    "start_time": "2023-03-03T20:39:46.635Z"
   },
   {
    "duration": 73,
    "start_time": "2023-03-03T20:39:47.285Z"
   },
   {
    "duration": 4,
    "start_time": "2023-03-03T20:41:47.286Z"
   },
   {
    "duration": 71,
    "start_time": "2023-03-03T20:41:48.188Z"
   },
   {
    "duration": 13,
    "start_time": "2023-03-03T20:42:44.971Z"
   },
   {
    "duration": 4,
    "start_time": "2023-03-03T20:43:20.872Z"
   },
   {
    "duration": 76,
    "start_time": "2023-03-03T20:43:22.266Z"
   },
   {
    "duration": 7,
    "start_time": "2023-03-03T20:44:36.806Z"
   },
   {
    "duration": 22333,
    "start_time": "2023-03-03T20:44:37.765Z"
   },
   {
    "duration": 4,
    "start_time": "2023-03-03T20:45:47.436Z"
   },
   {
    "duration": 1057,
    "start_time": "2023-03-03T20:45:49.236Z"
   },
   {
    "duration": 4,
    "start_time": "2023-03-03T20:46:04.070Z"
   },
   {
    "duration": 1115,
    "start_time": "2023-03-03T20:46:04.701Z"
   },
   {
    "duration": 4,
    "start_time": "2023-03-03T20:47:07.939Z"
   },
   {
    "duration": 1104,
    "start_time": "2023-03-03T20:47:09.027Z"
   },
   {
    "duration": 4,
    "start_time": "2023-03-03T20:47:33.482Z"
   },
   {
    "duration": 1093,
    "start_time": "2023-03-03T20:47:34.179Z"
   },
   {
    "duration": 3,
    "start_time": "2023-03-03T20:48:08.442Z"
   },
   {
    "duration": 1053,
    "start_time": "2023-03-03T20:48:11.866Z"
   },
   {
    "duration": 4,
    "start_time": "2023-03-03T20:58:08.768Z"
   },
   {
    "duration": 72,
    "start_time": "2023-03-03T20:58:09.439Z"
   },
   {
    "duration": 4,
    "start_time": "2023-03-03T20:58:24.987Z"
   },
   {
    "duration": 89,
    "start_time": "2023-03-03T20:58:25.694Z"
   },
   {
    "duration": 5,
    "start_time": "2023-03-03T20:58:33.499Z"
   },
   {
    "duration": 15942,
    "start_time": "2023-03-03T20:58:34.273Z"
   },
   {
    "duration": 4,
    "start_time": "2023-03-03T20:59:58.321Z"
   },
   {
    "duration": 75,
    "start_time": "2023-03-03T20:59:58.871Z"
   },
   {
    "duration": 3,
    "start_time": "2023-03-03T21:00:59.066Z"
   },
   {
    "duration": 12394,
    "start_time": "2023-03-03T21:00:59.698Z"
   },
   {
    "duration": 4,
    "start_time": "2023-03-03T21:01:45.831Z"
   },
   {
    "duration": 22514,
    "start_time": "2023-03-03T21:01:46.478Z"
   },
   {
    "duration": 4,
    "start_time": "2023-03-03T21:03:04.069Z"
   },
   {
    "duration": 6416,
    "start_time": "2023-03-03T21:03:05.073Z"
   },
   {
    "duration": 3,
    "start_time": "2023-03-03T21:05:36.178Z"
   },
   {
    "duration": 12992,
    "start_time": "2023-03-03T21:05:37.068Z"
   },
   {
    "duration": 4,
    "start_time": "2023-03-03T21:09:33.225Z"
   },
   {
    "duration": 35140,
    "start_time": "2023-03-03T21:09:34.255Z"
   },
   {
    "duration": 5,
    "start_time": "2023-03-03T21:11:04.755Z"
   },
   {
    "duration": 19862,
    "start_time": "2023-03-03T21:11:06.033Z"
   },
   {
    "duration": 5,
    "start_time": "2023-03-03T21:12:53.415Z"
   },
   {
    "duration": 22101,
    "start_time": "2023-03-03T21:13:21.791Z"
   },
   {
    "duration": 4,
    "start_time": "2023-03-03T21:14:15.877Z"
   },
   {
    "duration": 17005,
    "start_time": "2023-03-03T21:14:16.989Z"
   },
   {
    "duration": 3,
    "start_time": "2023-03-03T21:14:50.709Z"
   },
   {
    "duration": 17374,
    "start_time": "2023-03-03T21:14:51.411Z"
   },
   {
    "duration": 13,
    "start_time": "2023-03-03T21:15:33.467Z"
   },
   {
    "duration": 18038,
    "start_time": "2023-03-03T21:15:34.153Z"
   },
   {
    "duration": 167,
    "start_time": "2023-03-03T21:17:07.711Z"
   },
   {
    "duration": 2506,
    "start_time": "2023-03-03T21:17:16.051Z"
   },
   {
    "duration": 819,
    "start_time": "2023-03-03T21:17:18.559Z"
   },
   {
    "duration": 10,
    "start_time": "2023-03-03T21:17:19.379Z"
   },
   {
    "duration": 7,
    "start_time": "2023-03-03T21:17:19.391Z"
   },
   {
    "duration": 22,
    "start_time": "2023-03-03T21:17:19.400Z"
   },
   {
    "duration": 270,
    "start_time": "2023-03-03T21:17:19.423Z"
   },
   {
    "duration": 136,
    "start_time": "2023-03-03T21:17:19.694Z"
   },
   {
    "duration": 24,
    "start_time": "2023-03-03T21:17:19.831Z"
   },
   {
    "duration": 4,
    "start_time": "2023-03-03T21:17:19.857Z"
   },
   {
    "duration": 9683,
    "start_time": "2023-03-03T21:17:19.864Z"
   },
   {
    "duration": 8,
    "start_time": "2023-03-03T21:17:29.555Z"
   },
   {
    "duration": 7,
    "start_time": "2023-03-03T21:17:29.565Z"
   },
   {
    "duration": 4,
    "start_time": "2023-03-03T21:17:29.574Z"
   },
   {
    "duration": 11,
    "start_time": "2023-03-03T21:17:29.579Z"
   },
   {
    "duration": 189,
    "start_time": "2023-03-03T21:17:29.591Z"
   },
   {
    "duration": 5,
    "start_time": "2023-03-03T21:17:29.781Z"
   },
   {
    "duration": 28557,
    "start_time": "2023-03-03T21:17:29.787Z"
   },
   {
    "duration": 51,
    "start_time": "2023-03-03T21:17:58.345Z"
   },
   {
    "duration": 2448,
    "start_time": "2023-03-03T21:18:31.015Z"
   },
   {
    "duration": 853,
    "start_time": "2023-03-03T21:18:33.465Z"
   },
   {
    "duration": 10,
    "start_time": "2023-03-03T21:18:34.320Z"
   },
   {
    "duration": 10,
    "start_time": "2023-03-03T21:18:34.332Z"
   },
   {
    "duration": 49,
    "start_time": "2023-03-03T21:18:34.343Z"
   },
   {
    "duration": 250,
    "start_time": "2023-03-03T21:18:34.393Z"
   },
   {
    "duration": 139,
    "start_time": "2023-03-03T21:18:34.645Z"
   },
   {
    "duration": 15,
    "start_time": "2023-03-03T21:18:34.785Z"
   },
   {
    "duration": 4,
    "start_time": "2023-03-03T21:18:34.801Z"
   },
   {
    "duration": 22752,
    "start_time": "2023-03-03T21:18:34.808Z"
   },
   {
    "duration": 13,
    "start_time": "2023-03-03T21:18:57.562Z"
   },
   {
    "duration": 7,
    "start_time": "2023-03-03T21:18:57.577Z"
   },
   {
    "duration": 6,
    "start_time": "2023-03-03T21:18:57.586Z"
   },
   {
    "duration": 20,
    "start_time": "2023-03-03T21:18:57.593Z"
   },
   {
    "duration": 176,
    "start_time": "2023-03-03T21:18:57.614Z"
   },
   {
    "duration": 4,
    "start_time": "2023-03-03T21:18:57.792Z"
   },
   {
    "duration": 88670,
    "start_time": "2023-03-03T21:18:57.798Z"
   },
   {
    "duration": 42,
    "start_time": "2023-03-03T21:20:26.469Z"
   },
   {
    "duration": 2492,
    "start_time": "2023-03-03T21:21:00.893Z"
   },
   {
    "duration": 852,
    "start_time": "2023-03-03T21:21:03.387Z"
   },
   {
    "duration": 18,
    "start_time": "2023-03-03T21:21:04.241Z"
   },
   {
    "duration": 10,
    "start_time": "2023-03-03T21:21:04.261Z"
   },
   {
    "duration": 29,
    "start_time": "2023-03-03T21:21:04.273Z"
   },
   {
    "duration": 258,
    "start_time": "2023-03-03T21:21:04.303Z"
   },
   {
    "duration": 141,
    "start_time": "2023-03-03T21:21:04.563Z"
   },
   {
    "duration": 2,
    "start_time": "2023-03-03T21:21:04.705Z"
   },
   {
    "duration": 6,
    "start_time": "2023-03-03T21:21:04.709Z"
   },
   {
    "duration": 2096,
    "start_time": "2023-03-03T21:21:04.717Z"
   },
   {
    "duration": 6,
    "start_time": "2023-03-03T21:21:06.815Z"
   },
   {
    "duration": 14,
    "start_time": "2023-03-03T21:21:06.823Z"
   },
   {
    "duration": 18,
    "start_time": "2023-03-03T21:21:06.839Z"
   },
   {
    "duration": 706,
    "start_time": "2023-03-03T21:21:06.859Z"
   },
   {
    "duration": 0,
    "start_time": "2023-03-03T21:21:07.567Z"
   },
   {
    "duration": 0,
    "start_time": "2023-03-03T21:21:07.569Z"
   },
   {
    "duration": 0,
    "start_time": "2023-03-03T21:21:07.570Z"
   },
   {
    "duration": 0,
    "start_time": "2023-03-03T21:21:07.571Z"
   },
   {
    "duration": 2470,
    "start_time": "2023-03-03T21:21:22.383Z"
   },
   {
    "duration": 855,
    "start_time": "2023-03-03T21:21:24.855Z"
   },
   {
    "duration": 11,
    "start_time": "2023-03-03T21:21:25.712Z"
   },
   {
    "duration": 7,
    "start_time": "2023-03-03T21:21:25.726Z"
   },
   {
    "duration": 46,
    "start_time": "2023-03-03T21:21:25.735Z"
   },
   {
    "duration": 254,
    "start_time": "2023-03-03T21:21:25.783Z"
   },
   {
    "duration": 139,
    "start_time": "2023-03-03T21:21:26.038Z"
   },
   {
    "duration": 3,
    "start_time": "2023-03-03T21:21:26.179Z"
   },
   {
    "duration": 5,
    "start_time": "2023-03-03T21:21:26.183Z"
   },
   {
    "duration": 72170,
    "start_time": "2023-03-03T21:21:26.189Z"
   },
   {
    "duration": 32,
    "start_time": "2023-03-03T21:22:38.361Z"
   },
   {
    "duration": 7,
    "start_time": "2023-03-03T21:22:38.394Z"
   },
   {
    "duration": 9,
    "start_time": "2023-03-03T21:22:38.403Z"
   },
   {
    "duration": 82,
    "start_time": "2023-03-03T21:22:38.413Z"
   },
   {
    "duration": 203,
    "start_time": "2023-03-03T21:22:38.497Z"
   },
   {
    "duration": 4,
    "start_time": "2023-03-03T21:22:38.702Z"
   },
   {
    "duration": 224053,
    "start_time": "2023-03-03T21:22:38.708Z"
   },
   {
    "duration": 44,
    "start_time": "2023-03-03T21:26:22.763Z"
   },
   {
    "duration": 3296,
    "start_time": "2023-03-04T04:10:41.986Z"
   },
   {
    "duration": 2295,
    "start_time": "2023-03-04T04:10:45.284Z"
   },
   {
    "duration": 12,
    "start_time": "2023-03-04T04:10:47.581Z"
   },
   {
    "duration": 10,
    "start_time": "2023-03-04T04:10:47.595Z"
   },
   {
    "duration": 35,
    "start_time": "2023-03-04T04:10:47.607Z"
   },
   {
    "duration": 228,
    "start_time": "2023-03-04T04:10:47.644Z"
   },
   {
    "duration": 153,
    "start_time": "2023-03-04T04:10:47.873Z"
   },
   {
    "duration": 21,
    "start_time": "2023-03-04T04:10:48.028Z"
   },
   {
    "duration": 4,
    "start_time": "2023-03-04T04:10:48.050Z"
   },
   {
    "duration": 22479,
    "start_time": "2023-03-04T04:10:48.056Z"
   },
   {
    "duration": 17,
    "start_time": "2023-03-04T04:11:10.537Z"
   },
   {
    "duration": 10,
    "start_time": "2023-03-04T04:11:10.556Z"
   },
   {
    "duration": 7,
    "start_time": "2023-03-04T04:11:10.567Z"
   },
   {
    "duration": 21,
    "start_time": "2023-03-04T04:11:10.575Z"
   },
   {
    "duration": 211,
    "start_time": "2023-03-04T04:11:10.598Z"
   },
   {
    "duration": 3,
    "start_time": "2023-03-04T04:11:10.810Z"
   },
   {
    "duration": 12,
    "start_time": "2023-03-04T04:11:10.814Z"
   },
   {
    "duration": 4,
    "start_time": "2023-03-04T04:11:10.828Z"
   },
   {
    "duration": 3010100,
    "start_time": "2023-03-04T04:11:10.833Z"
   },
   {
    "duration": 97,
    "start_time": "2023-03-04T05:01:20.935Z"
   },
   {
    "duration": 0,
    "start_time": "2023-03-04T05:01:21.034Z"
   },
   {
    "duration": 0,
    "start_time": "2023-03-04T05:01:21.035Z"
   },
   {
    "duration": 2667,
    "start_time": "2023-03-04T05:02:32.205Z"
   },
   {
    "duration": 797,
    "start_time": "2023-03-04T05:02:34.874Z"
   },
   {
    "duration": 11,
    "start_time": "2023-03-04T05:02:35.673Z"
   },
   {
    "duration": 13,
    "start_time": "2023-03-04T05:02:35.686Z"
   },
   {
    "duration": 56,
    "start_time": "2023-03-04T05:02:35.701Z"
   },
   {
    "duration": 216,
    "start_time": "2023-03-04T05:02:35.758Z"
   },
   {
    "duration": 132,
    "start_time": "2023-03-04T05:02:35.976Z"
   },
   {
    "duration": 247,
    "start_time": "2023-03-04T05:02:36.110Z"
   },
   {
    "duration": 14,
    "start_time": "2023-03-04T05:02:36.359Z"
   },
   {
    "duration": 5,
    "start_time": "2023-03-04T05:02:36.376Z"
   },
   {
    "duration": 2811,
    "start_time": "2023-03-04T05:02:36.383Z"
   },
   {
    "duration": 6,
    "start_time": "2023-03-04T05:02:39.196Z"
   },
   {
    "duration": 14,
    "start_time": "2023-03-04T05:02:39.204Z"
   },
   {
    "duration": 12,
    "start_time": "2023-03-04T05:02:39.220Z"
   },
   {
    "duration": 15,
    "start_time": "2023-03-04T05:02:39.234Z"
   },
   {
    "duration": 178,
    "start_time": "2023-03-04T05:02:39.251Z"
   },
   {
    "duration": 3,
    "start_time": "2023-03-04T05:02:39.431Z"
   },
   {
    "duration": 16,
    "start_time": "2023-03-04T05:02:39.436Z"
   },
   {
    "duration": 17,
    "start_time": "2023-03-04T05:02:39.454Z"
   },
   {
    "duration": 56658,
    "start_time": "2023-03-04T05:02:39.473Z"
   },
   {
    "duration": 76,
    "start_time": "2023-03-04T05:03:36.132Z"
   },
   {
    "duration": 0,
    "start_time": "2023-03-04T05:03:36.210Z"
   },
   {
    "duration": 2726,
    "start_time": "2023-03-04T05:04:21.144Z"
   },
   {
    "duration": 782,
    "start_time": "2023-03-04T05:04:23.872Z"
   },
   {
    "duration": 11,
    "start_time": "2023-03-04T05:04:24.656Z"
   },
   {
    "duration": 11,
    "start_time": "2023-03-04T05:04:24.669Z"
   },
   {
    "duration": 34,
    "start_time": "2023-03-04T05:04:24.682Z"
   },
   {
    "duration": 242,
    "start_time": "2023-03-04T05:04:24.718Z"
   },
   {
    "duration": 140,
    "start_time": "2023-03-04T05:04:24.961Z"
   },
   {
    "duration": 220,
    "start_time": "2023-03-04T05:04:25.102Z"
   },
   {
    "duration": 11,
    "start_time": "2023-03-04T05:04:25.324Z"
   },
   {
    "duration": 12,
    "start_time": "2023-03-04T05:04:25.338Z"
   },
   {
    "duration": 2732,
    "start_time": "2023-03-04T05:04:25.352Z"
   },
   {
    "duration": 6,
    "start_time": "2023-03-04T05:04:28.086Z"
   },
   {
    "duration": 10,
    "start_time": "2023-03-04T05:04:28.094Z"
   },
   {
    "duration": 6,
    "start_time": "2023-03-04T05:04:28.105Z"
   },
   {
    "duration": 9,
    "start_time": "2023-03-04T05:04:28.112Z"
   },
   {
    "duration": 236,
    "start_time": "2023-03-04T05:04:28.123Z"
   },
   {
    "duration": 3,
    "start_time": "2023-03-04T05:04:28.361Z"
   },
   {
    "duration": 5,
    "start_time": "2023-03-04T05:04:28.365Z"
   },
   {
    "duration": 6,
    "start_time": "2023-03-04T05:04:28.372Z"
   },
   {
    "duration": 2786,
    "start_time": "2023-03-04T05:05:21.849Z"
   },
   {
    "duration": 788,
    "start_time": "2023-03-04T05:05:24.637Z"
   },
   {
    "duration": 12,
    "start_time": "2023-03-04T05:05:25.426Z"
   },
   {
    "duration": 13,
    "start_time": "2023-03-04T05:05:25.440Z"
   },
   {
    "duration": 33,
    "start_time": "2023-03-04T05:05:25.455Z"
   },
   {
    "duration": 223,
    "start_time": "2023-03-04T05:05:25.490Z"
   },
   {
    "duration": 139,
    "start_time": "2023-03-04T05:05:25.715Z"
   },
   {
    "duration": 231,
    "start_time": "2023-03-04T05:05:25.856Z"
   },
   {
    "duration": 11,
    "start_time": "2023-03-04T05:05:26.089Z"
   },
   {
    "duration": 5,
    "start_time": "2023-03-04T05:05:26.102Z"
   },
   {
    "duration": 2893,
    "start_time": "2023-03-04T05:05:26.108Z"
   },
   {
    "duration": 7,
    "start_time": "2023-03-04T05:05:29.003Z"
   },
   {
    "duration": 10,
    "start_time": "2023-03-04T05:05:29.012Z"
   },
   {
    "duration": 6,
    "start_time": "2023-03-04T05:05:29.024Z"
   },
   {
    "duration": 8,
    "start_time": "2023-03-04T05:05:29.049Z"
   },
   {
    "duration": 217,
    "start_time": "2023-03-04T05:05:29.058Z"
   },
   {
    "duration": 3,
    "start_time": "2023-03-04T05:05:29.277Z"
   },
   {
    "duration": 5,
    "start_time": "2023-03-04T05:05:29.282Z"
   },
   {
    "duration": 8,
    "start_time": "2023-03-04T05:05:29.288Z"
   },
   {
    "duration": 2701,
    "start_time": "2023-03-04T05:06:54.215Z"
   },
   {
    "duration": 797,
    "start_time": "2023-03-04T05:06:56.918Z"
   },
   {
    "duration": 10,
    "start_time": "2023-03-04T05:06:57.716Z"
   },
   {
    "duration": 13,
    "start_time": "2023-03-04T05:06:57.728Z"
   },
   {
    "duration": 28,
    "start_time": "2023-03-04T05:06:57.748Z"
   },
   {
    "duration": 234,
    "start_time": "2023-03-04T05:06:57.778Z"
   },
   {
    "duration": 139,
    "start_time": "2023-03-04T05:06:58.014Z"
   },
   {
    "duration": 234,
    "start_time": "2023-03-04T05:06:58.155Z"
   },
   {
    "duration": 9,
    "start_time": "2023-03-04T05:06:58.391Z"
   },
   {
    "duration": 5,
    "start_time": "2023-03-04T05:06:58.402Z"
   },
   {
    "duration": 1075,
    "start_time": "2023-03-04T05:06:58.409Z"
   },
   {
    "duration": 4,
    "start_time": "2023-03-04T05:06:59.486Z"
   },
   {
    "duration": 10,
    "start_time": "2023-03-04T05:06:59.492Z"
   },
   {
    "duration": 9,
    "start_time": "2023-03-04T05:06:59.504Z"
   },
   {
    "duration": 7,
    "start_time": "2023-03-04T05:06:59.515Z"
   },
   {
    "duration": 228,
    "start_time": "2023-03-04T05:06:59.524Z"
   },
   {
    "duration": 3,
    "start_time": "2023-03-04T05:06:59.754Z"
   },
   {
    "duration": 8,
    "start_time": "2023-03-04T05:06:59.759Z"
   },
   {
    "duration": 10,
    "start_time": "2023-03-04T05:06:59.769Z"
   },
   {
    "duration": 2685,
    "start_time": "2023-03-04T05:07:59.422Z"
   },
   {
    "duration": 758,
    "start_time": "2023-03-04T05:08:02.109Z"
   },
   {
    "duration": 11,
    "start_time": "2023-03-04T05:08:02.869Z"
   },
   {
    "duration": 13,
    "start_time": "2023-03-04T05:08:02.881Z"
   },
   {
    "duration": 31,
    "start_time": "2023-03-04T05:08:02.896Z"
   },
   {
    "duration": 221,
    "start_time": "2023-03-04T05:08:02.930Z"
   },
   {
    "duration": 142,
    "start_time": "2023-03-04T05:08:03.153Z"
   },
   {
    "duration": 233,
    "start_time": "2023-03-04T05:08:03.297Z"
   },
   {
    "duration": 16,
    "start_time": "2023-03-04T05:08:03.532Z"
   },
   {
    "duration": 4,
    "start_time": "2023-03-04T05:08:03.551Z"
   },
   {
    "duration": 1193,
    "start_time": "2023-03-04T05:08:03.557Z"
   },
   {
    "duration": 5,
    "start_time": "2023-03-04T05:08:04.752Z"
   },
   {
    "duration": 12,
    "start_time": "2023-03-04T05:08:04.758Z"
   },
   {
    "duration": 10,
    "start_time": "2023-03-04T05:08:04.771Z"
   },
   {
    "duration": 8,
    "start_time": "2023-03-04T05:08:04.783Z"
   },
   {
    "duration": 205,
    "start_time": "2023-03-04T05:08:04.793Z"
   },
   {
    "duration": 3,
    "start_time": "2023-03-04T05:08:05.000Z"
   },
   {
    "duration": 8,
    "start_time": "2023-03-04T05:08:05.004Z"
   },
   {
    "duration": 7,
    "start_time": "2023-03-04T05:08:05.013Z"
   },
   {
    "duration": 2696,
    "start_time": "2023-03-04T05:10:27.592Z"
   },
   {
    "duration": 803,
    "start_time": "2023-03-04T05:10:30.290Z"
   },
   {
    "duration": 10,
    "start_time": "2023-03-04T05:10:31.095Z"
   },
   {
    "duration": 33,
    "start_time": "2023-03-04T05:10:31.107Z"
   },
   {
    "duration": 46,
    "start_time": "2023-03-04T05:10:31.142Z"
   },
   {
    "duration": 224,
    "start_time": "2023-03-04T05:10:31.190Z"
   },
   {
    "duration": 143,
    "start_time": "2023-03-04T05:10:31.416Z"
   },
   {
    "duration": 233,
    "start_time": "2023-03-04T05:10:31.560Z"
   },
   {
    "duration": 9,
    "start_time": "2023-03-04T05:10:31.795Z"
   },
   {
    "duration": 18,
    "start_time": "2023-03-04T05:10:31.807Z"
   },
   {
    "duration": 1097,
    "start_time": "2023-03-04T05:10:31.827Z"
   },
   {
    "duration": 5,
    "start_time": "2023-03-04T05:10:32.926Z"
   },
   {
    "duration": 20,
    "start_time": "2023-03-04T05:10:32.933Z"
   },
   {
    "duration": 12,
    "start_time": "2023-03-04T05:10:32.955Z"
   },
   {
    "duration": 8,
    "start_time": "2023-03-04T05:10:32.968Z"
   },
   {
    "duration": 210,
    "start_time": "2023-03-04T05:10:32.978Z"
   },
   {
    "duration": 3,
    "start_time": "2023-03-04T05:10:33.190Z"
   },
   {
    "duration": 7,
    "start_time": "2023-03-04T05:10:33.194Z"
   },
   {
    "duration": 8,
    "start_time": "2023-03-04T05:10:33.203Z"
   },
   {
    "duration": 2656,
    "start_time": "2023-03-04T05:10:47.628Z"
   },
   {
    "duration": 800,
    "start_time": "2023-03-04T05:10:50.286Z"
   },
   {
    "duration": 11,
    "start_time": "2023-03-04T05:10:51.087Z"
   },
   {
    "duration": 12,
    "start_time": "2023-03-04T05:10:51.099Z"
   },
   {
    "duration": 35,
    "start_time": "2023-03-04T05:10:51.113Z"
   },
   {
    "duration": 225,
    "start_time": "2023-03-04T05:10:51.150Z"
   },
   {
    "duration": 153,
    "start_time": "2023-03-04T05:10:51.377Z"
   },
   {
    "duration": 236,
    "start_time": "2023-03-04T05:10:51.531Z"
   },
   {
    "duration": 10,
    "start_time": "2023-03-04T05:10:51.769Z"
   },
   {
    "duration": 13,
    "start_time": "2023-03-04T05:10:51.780Z"
   },
   {
    "duration": 1126,
    "start_time": "2023-03-04T05:10:51.794Z"
   },
   {
    "duration": 5,
    "start_time": "2023-03-04T05:10:52.922Z"
   },
   {
    "duration": 21,
    "start_time": "2023-03-04T05:10:52.928Z"
   },
   {
    "duration": 3,
    "start_time": "2023-03-04T05:10:52.952Z"
   },
   {
    "duration": 8,
    "start_time": "2023-03-04T05:10:52.957Z"
   },
   {
    "duration": 196,
    "start_time": "2023-03-04T05:10:52.967Z"
   },
   {
    "duration": 3,
    "start_time": "2023-03-04T05:10:53.164Z"
   },
   {
    "duration": 8,
    "start_time": "2023-03-04T05:10:53.169Z"
   },
   {
    "duration": 12,
    "start_time": "2023-03-04T05:10:53.178Z"
   },
   {
    "duration": 2804,
    "start_time": "2023-03-04T05:11:35.615Z"
   },
   {
    "duration": 803,
    "start_time": "2023-03-04T05:11:38.421Z"
   },
   {
    "duration": 11,
    "start_time": "2023-03-04T05:11:39.225Z"
   },
   {
    "duration": 15,
    "start_time": "2023-03-04T05:11:39.237Z"
   },
   {
    "duration": 31,
    "start_time": "2023-03-04T05:11:39.254Z"
   },
   {
    "duration": 248,
    "start_time": "2023-03-04T05:11:39.286Z"
   },
   {
    "duration": 134,
    "start_time": "2023-03-04T05:11:39.535Z"
   },
   {
    "duration": 237,
    "start_time": "2023-03-04T05:11:39.671Z"
   },
   {
    "duration": 11,
    "start_time": "2023-03-04T05:11:39.910Z"
   },
   {
    "duration": 4,
    "start_time": "2023-03-04T05:11:39.923Z"
   },
   {
    "duration": 1114,
    "start_time": "2023-03-04T05:11:39.929Z"
   },
   {
    "duration": 4,
    "start_time": "2023-03-04T05:11:41.049Z"
   },
   {
    "duration": 127,
    "start_time": "2023-03-04T05:11:41.055Z"
   },
   {
    "duration": 15,
    "start_time": "2023-03-04T05:11:41.183Z"
   },
   {
    "duration": 16,
    "start_time": "2023-03-04T05:11:41.200Z"
   },
   {
    "duration": 209,
    "start_time": "2023-03-04T05:11:41.218Z"
   },
   {
    "duration": 3,
    "start_time": "2023-03-04T05:11:41.428Z"
   },
   {
    "duration": 5,
    "start_time": "2023-03-04T05:11:41.433Z"
   },
   {
    "duration": 7,
    "start_time": "2023-03-04T05:11:41.440Z"
   },
   {
    "duration": 245107,
    "start_time": "2023-03-04T05:11:41.448Z"
   },
   {
    "duration": 88,
    "start_time": "2023-03-04T05:15:46.557Z"
   },
   {
    "duration": 0,
    "start_time": "2023-03-04T05:15:46.646Z"
   },
   {
    "duration": 5,
    "start_time": "2023-03-04T05:17:11.661Z"
   },
   {
    "duration": 2706,
    "start_time": "2023-03-04T05:17:20.286Z"
   },
   {
    "duration": 823,
    "start_time": "2023-03-04T05:17:22.994Z"
   },
   {
    "duration": 14,
    "start_time": "2023-03-04T05:17:23.820Z"
   },
   {
    "duration": 16,
    "start_time": "2023-03-04T05:17:23.836Z"
   },
   {
    "duration": 35,
    "start_time": "2023-03-04T05:17:23.854Z"
   },
   {
    "duration": 242,
    "start_time": "2023-03-04T05:17:23.891Z"
   },
   {
    "duration": 137,
    "start_time": "2023-03-04T05:17:24.135Z"
   },
   {
    "duration": 236,
    "start_time": "2023-03-04T05:17:24.274Z"
   },
   {
    "duration": 11,
    "start_time": "2023-03-04T05:17:24.511Z"
   },
   {
    "duration": 5,
    "start_time": "2023-03-04T05:17:24.524Z"
   },
   {
    "duration": 1240,
    "start_time": "2023-03-04T05:17:24.530Z"
   },
   {
    "duration": 4,
    "start_time": "2023-03-04T05:17:25.772Z"
   },
   {
    "duration": 12,
    "start_time": "2023-03-04T05:17:25.778Z"
   },
   {
    "duration": 10,
    "start_time": "2023-03-04T05:17:25.792Z"
   },
   {
    "duration": 8,
    "start_time": "2023-03-04T05:17:25.803Z"
   },
   {
    "duration": 213,
    "start_time": "2023-03-04T05:17:25.812Z"
   },
   {
    "duration": 4,
    "start_time": "2023-03-04T05:17:26.026Z"
   },
   {
    "duration": 13,
    "start_time": "2023-03-04T05:17:26.032Z"
   },
   {
    "duration": 11,
    "start_time": "2023-03-04T05:17:26.046Z"
   },
   {
    "duration": 1262,
    "start_time": "2023-03-04T05:17:26.058Z"
   },
   {
    "duration": 87,
    "start_time": "2023-03-04T05:17:27.322Z"
   },
   {
    "duration": 0,
    "start_time": "2023-03-04T05:17:27.411Z"
   },
   {
    "duration": 2669,
    "start_time": "2023-03-04T05:18:32.261Z"
   },
   {
    "duration": 816,
    "start_time": "2023-03-04T05:18:34.932Z"
   },
   {
    "duration": 16,
    "start_time": "2023-03-04T05:18:35.749Z"
   },
   {
    "duration": 17,
    "start_time": "2023-03-04T05:18:35.768Z"
   },
   {
    "duration": 37,
    "start_time": "2023-03-04T05:18:35.787Z"
   },
   {
    "duration": 253,
    "start_time": "2023-03-04T05:18:35.826Z"
   },
   {
    "duration": 138,
    "start_time": "2023-03-04T05:18:36.081Z"
   },
   {
    "duration": 288,
    "start_time": "2023-03-04T05:18:36.222Z"
   },
   {
    "duration": 11,
    "start_time": "2023-03-04T05:18:36.512Z"
   },
   {
    "duration": 6,
    "start_time": "2023-03-04T05:18:36.525Z"
   },
   {
    "duration": 1151,
    "start_time": "2023-03-04T05:18:36.532Z"
   },
   {
    "duration": 5,
    "start_time": "2023-03-04T05:18:37.684Z"
   },
   {
    "duration": 11,
    "start_time": "2023-03-04T05:18:37.691Z"
   },
   {
    "duration": 5,
    "start_time": "2023-03-04T05:18:37.704Z"
   },
   {
    "duration": 8,
    "start_time": "2023-03-04T05:18:37.710Z"
   },
   {
    "duration": 148,
    "start_time": "2023-03-04T05:18:37.719Z"
   },
   {
    "duration": 4,
    "start_time": "2023-03-04T05:18:37.869Z"
   },
   {
    "duration": 8,
    "start_time": "2023-03-04T05:18:37.874Z"
   },
   {
    "duration": 5,
    "start_time": "2023-03-04T05:18:37.883Z"
   },
   {
    "duration": 365,
    "start_time": "2023-03-04T05:18:37.890Z"
   },
   {
    "duration": 64,
    "start_time": "2023-03-04T05:18:38.257Z"
   },
   {
    "duration": 0,
    "start_time": "2023-03-04T05:18:38.322Z"
   },
   {
    "duration": 0,
    "start_time": "2023-03-04T05:18:38.323Z"
   },
   {
    "duration": 0,
    "start_time": "2023-03-04T05:18:38.324Z"
   },
   {
    "duration": 0,
    "start_time": "2023-03-04T05:18:38.326Z"
   },
   {
    "duration": 2707,
    "start_time": "2023-03-04T05:19:04.576Z"
   },
   {
    "duration": 811,
    "start_time": "2023-03-04T05:19:07.285Z"
   },
   {
    "duration": 11,
    "start_time": "2023-03-04T05:19:08.097Z"
   },
   {
    "duration": 13,
    "start_time": "2023-03-04T05:19:08.110Z"
   },
   {
    "duration": 46,
    "start_time": "2023-03-04T05:19:08.126Z"
   },
   {
    "duration": 237,
    "start_time": "2023-03-04T05:19:08.174Z"
   },
   {
    "duration": 141,
    "start_time": "2023-03-04T05:19:08.413Z"
   },
   {
    "duration": 231,
    "start_time": "2023-03-04T05:19:08.556Z"
   },
   {
    "duration": 17,
    "start_time": "2023-03-04T05:19:08.790Z"
   },
   {
    "duration": 5,
    "start_time": "2023-03-04T05:19:08.810Z"
   },
   {
    "duration": 1184,
    "start_time": "2023-03-04T05:19:08.817Z"
   },
   {
    "duration": 5,
    "start_time": "2023-03-04T05:19:10.002Z"
   },
   {
    "duration": 11,
    "start_time": "2023-03-04T05:19:10.009Z"
   },
   {
    "duration": 4,
    "start_time": "2023-03-04T05:19:10.023Z"
   },
   {
    "duration": 6,
    "start_time": "2023-03-04T05:19:10.049Z"
   },
   {
    "duration": 158,
    "start_time": "2023-03-04T05:19:10.057Z"
   },
   {
    "duration": 3,
    "start_time": "2023-03-04T05:19:10.217Z"
   },
   {
    "duration": 8,
    "start_time": "2023-03-04T05:19:10.221Z"
   },
   {
    "duration": 7,
    "start_time": "2023-03-04T05:19:10.231Z"
   },
   {
    "duration": 12905,
    "start_time": "2023-03-04T05:19:10.240Z"
   },
   {
    "duration": 71,
    "start_time": "2023-03-04T05:19:23.147Z"
   },
   {
    "duration": 0,
    "start_time": "2023-03-04T05:19:23.219Z"
   },
   {
    "duration": 0,
    "start_time": "2023-03-04T05:19:23.221Z"
   },
   {
    "duration": 0,
    "start_time": "2023-03-04T05:19:23.221Z"
   },
   {
    "duration": 0,
    "start_time": "2023-03-04T05:19:23.222Z"
   },
   {
    "duration": 2647,
    "start_time": "2023-03-04T05:19:49.294Z"
   },
   {
    "duration": 830,
    "start_time": "2023-03-04T05:19:51.943Z"
   },
   {
    "duration": 12,
    "start_time": "2023-03-04T05:19:52.774Z"
   },
   {
    "duration": 19,
    "start_time": "2023-03-04T05:19:52.789Z"
   },
   {
    "duration": 41,
    "start_time": "2023-03-04T05:19:52.810Z"
   },
   {
    "duration": 272,
    "start_time": "2023-03-04T05:19:52.853Z"
   },
   {
    "duration": 156,
    "start_time": "2023-03-04T05:19:53.127Z"
   },
   {
    "duration": 271,
    "start_time": "2023-03-04T05:19:53.284Z"
   },
   {
    "duration": 10,
    "start_time": "2023-03-04T05:19:53.557Z"
   },
   {
    "duration": 6,
    "start_time": "2023-03-04T05:19:53.570Z"
   },
   {
    "duration": 1132,
    "start_time": "2023-03-04T05:19:53.577Z"
   },
   {
    "duration": 6,
    "start_time": "2023-03-04T05:19:54.711Z"
   },
   {
    "duration": 15,
    "start_time": "2023-03-04T05:19:54.718Z"
   },
   {
    "duration": 14,
    "start_time": "2023-03-04T05:19:54.735Z"
   },
   {
    "duration": 9,
    "start_time": "2023-03-04T05:19:54.751Z"
   },
   {
    "duration": 168,
    "start_time": "2023-03-04T05:19:54.762Z"
   },
   {
    "duration": 3,
    "start_time": "2023-03-04T05:19:54.932Z"
   },
   {
    "duration": 9,
    "start_time": "2023-03-04T05:19:54.936Z"
   },
   {
    "duration": 21,
    "start_time": "2023-03-04T05:19:54.946Z"
   },
   {
    "duration": 80344,
    "start_time": "2023-03-04T05:19:54.969Z"
   },
   {
    "duration": 78,
    "start_time": "2023-03-04T05:21:15.315Z"
   },
   {
    "duration": 0,
    "start_time": "2023-03-04T05:21:15.395Z"
   },
   {
    "duration": 0,
    "start_time": "2023-03-04T05:21:15.397Z"
   },
   {
    "duration": 0,
    "start_time": "2023-03-04T05:21:15.398Z"
   },
   {
    "duration": 0,
    "start_time": "2023-03-04T05:21:15.400Z"
   },
   {
    "duration": 2742,
    "start_time": "2023-03-04T05:21:34.368Z"
   },
   {
    "duration": 834,
    "start_time": "2023-03-04T05:21:37.112Z"
   },
   {
    "duration": 11,
    "start_time": "2023-03-04T05:21:37.948Z"
   },
   {
    "duration": 16,
    "start_time": "2023-03-04T05:21:37.961Z"
   },
   {
    "duration": 32,
    "start_time": "2023-03-04T05:21:37.978Z"
   },
   {
    "duration": 246,
    "start_time": "2023-03-04T05:21:38.012Z"
   },
   {
    "duration": 138,
    "start_time": "2023-03-04T05:21:38.260Z"
   },
   {
    "duration": 229,
    "start_time": "2023-03-04T05:21:38.399Z"
   },
   {
    "duration": 18,
    "start_time": "2023-03-04T05:21:38.630Z"
   },
   {
    "duration": 4,
    "start_time": "2023-03-04T05:21:38.651Z"
   },
   {
    "duration": 1215,
    "start_time": "2023-03-04T05:21:38.657Z"
   },
   {
    "duration": 5,
    "start_time": "2023-03-04T05:21:39.874Z"
   },
   {
    "duration": 17,
    "start_time": "2023-03-04T05:21:39.880Z"
   },
   {
    "duration": 20,
    "start_time": "2023-03-04T05:21:39.899Z"
   },
   {
    "duration": 14,
    "start_time": "2023-03-04T05:21:39.921Z"
   },
   {
    "duration": 176,
    "start_time": "2023-03-04T05:21:39.938Z"
   },
   {
    "duration": 3,
    "start_time": "2023-03-04T05:21:40.116Z"
   },
   {
    "duration": 6,
    "start_time": "2023-03-04T05:21:40.121Z"
   },
   {
    "duration": 8,
    "start_time": "2023-03-04T05:21:40.128Z"
   },
   {
    "duration": 265,
    "start_time": "2023-03-04T05:21:40.137Z"
   },
   {
    "duration": 73,
    "start_time": "2023-03-04T05:21:40.404Z"
   },
   {
    "duration": 0,
    "start_time": "2023-03-04T05:21:40.479Z"
   },
   {
    "duration": 0,
    "start_time": "2023-03-04T05:21:40.480Z"
   },
   {
    "duration": 0,
    "start_time": "2023-03-04T05:21:40.481Z"
   },
   {
    "duration": 0,
    "start_time": "2023-03-04T05:21:40.483Z"
   },
   {
    "duration": 2635,
    "start_time": "2023-03-04T05:24:04.918Z"
   },
   {
    "duration": 1827,
    "start_time": "2023-03-04T05:24:36.948Z"
   },
   {
    "duration": 1834,
    "start_time": "2023-03-04T05:24:45.771Z"
   },
   {
    "duration": 48157,
    "start_time": "2023-03-04T05:26:05.809Z"
   },
   {
    "duration": 2718,
    "start_time": "2023-03-04T05:31:02.196Z"
   },
   {
    "duration": 846,
    "start_time": "2023-03-04T05:31:04.916Z"
   },
   {
    "duration": 12,
    "start_time": "2023-03-04T05:31:05.764Z"
   },
   {
    "duration": 15,
    "start_time": "2023-03-04T05:31:05.779Z"
   },
   {
    "duration": 54,
    "start_time": "2023-03-04T05:31:05.796Z"
   },
   {
    "duration": 245,
    "start_time": "2023-03-04T05:31:05.852Z"
   },
   {
    "duration": 167,
    "start_time": "2023-03-04T05:31:06.098Z"
   },
   {
    "duration": 297,
    "start_time": "2023-03-04T05:31:06.270Z"
   },
   {
    "duration": 15,
    "start_time": "2023-03-04T05:31:06.569Z"
   },
   {
    "duration": 5,
    "start_time": "2023-03-04T05:31:06.588Z"
   },
   {
    "duration": 1197,
    "start_time": "2023-03-04T05:31:06.596Z"
   },
   {
    "duration": 5,
    "start_time": "2023-03-04T05:31:07.795Z"
   },
   {
    "duration": 16,
    "start_time": "2023-03-04T05:31:07.802Z"
   },
   {
    "duration": 5,
    "start_time": "2023-03-04T05:31:07.821Z"
   },
   {
    "duration": 21,
    "start_time": "2023-03-04T05:31:07.828Z"
   },
   {
    "duration": 139,
    "start_time": "2023-03-04T05:31:07.851Z"
   },
   {
    "duration": 2,
    "start_time": "2023-03-04T05:31:07.992Z"
   },
   {
    "duration": 265,
    "start_time": "2023-03-04T05:31:07.996Z"
   },
   {
    "duration": 68,
    "start_time": "2023-03-04T05:31:08.263Z"
   },
   {
    "duration": 0,
    "start_time": "2023-03-04T05:31:08.334Z"
   },
   {
    "duration": 0,
    "start_time": "2023-03-04T05:31:08.335Z"
   },
   {
    "duration": 0,
    "start_time": "2023-03-04T05:31:08.337Z"
   },
   {
    "duration": 0,
    "start_time": "2023-03-04T05:31:08.339Z"
   },
   {
    "duration": 0,
    "start_time": "2023-03-04T05:31:08.340Z"
   },
   {
    "duration": 0,
    "start_time": "2023-03-04T05:31:08.342Z"
   },
   {
    "duration": 0,
    "start_time": "2023-03-04T05:31:08.343Z"
   },
   {
    "duration": 0,
    "start_time": "2023-03-04T05:31:08.345Z"
   },
   {
    "duration": 0,
    "start_time": "2023-03-04T05:31:08.346Z"
   },
   {
    "duration": 0,
    "start_time": "2023-03-04T05:31:08.347Z"
   },
   {
    "duration": 0,
    "start_time": "2023-03-04T05:31:08.348Z"
   },
   {
    "duration": 0,
    "start_time": "2023-03-04T05:31:08.350Z"
   },
   {
    "duration": 62185,
    "start_time": "2023-03-04T05:31:31.414Z"
   },
   {
    "duration": 2809,
    "start_time": "2023-03-04T05:32:43.690Z"
   },
   {
    "duration": 847,
    "start_time": "2023-03-04T05:32:46.502Z"
   },
   {
    "duration": 12,
    "start_time": "2023-03-04T05:32:47.350Z"
   },
   {
    "duration": 12,
    "start_time": "2023-03-04T05:32:47.364Z"
   },
   {
    "duration": 56,
    "start_time": "2023-03-04T05:32:47.377Z"
   },
   {
    "duration": 246,
    "start_time": "2023-03-04T05:32:47.436Z"
   },
   {
    "duration": 143,
    "start_time": "2023-03-04T05:32:47.683Z"
   },
   {
    "duration": 248,
    "start_time": "2023-03-04T05:32:47.828Z"
   },
   {
    "duration": 11,
    "start_time": "2023-03-04T05:32:48.077Z"
   },
   {
    "duration": 4,
    "start_time": "2023-03-04T05:32:48.091Z"
   },
   {
    "duration": 1309,
    "start_time": "2023-03-04T05:32:48.097Z"
   },
   {
    "duration": 5,
    "start_time": "2023-03-04T05:32:49.408Z"
   },
   {
    "duration": 15,
    "start_time": "2023-03-04T05:32:49.414Z"
   },
   {
    "duration": 7,
    "start_time": "2023-03-04T05:32:49.430Z"
   },
   {
    "duration": 7,
    "start_time": "2023-03-04T05:32:49.448Z"
   },
   {
    "duration": 138,
    "start_time": "2023-03-04T05:32:49.457Z"
   },
   {
    "duration": 42267,
    "start_time": "2023-03-04T05:32:49.596Z"
   },
   {
    "duration": 69,
    "start_time": "2023-03-04T05:33:31.866Z"
   },
   {
    "duration": 0,
    "start_time": "2023-03-04T05:33:31.937Z"
   },
   {
    "duration": 0,
    "start_time": "2023-03-04T05:33:31.938Z"
   },
   {
    "duration": 0,
    "start_time": "2023-03-04T05:33:31.939Z"
   },
   {
    "duration": 0,
    "start_time": "2023-03-04T05:33:31.941Z"
   },
   {
    "duration": 0,
    "start_time": "2023-03-04T05:33:31.942Z"
   },
   {
    "duration": 0,
    "start_time": "2023-03-04T05:33:31.943Z"
   },
   {
    "duration": 0,
    "start_time": "2023-03-04T05:33:31.944Z"
   },
   {
    "duration": 0,
    "start_time": "2023-03-04T05:33:31.946Z"
   },
   {
    "duration": 0,
    "start_time": "2023-03-04T05:33:31.947Z"
   },
   {
    "duration": 0,
    "start_time": "2023-03-04T05:33:31.948Z"
   },
   {
    "duration": 0,
    "start_time": "2023-03-04T05:33:31.949Z"
   },
   {
    "duration": 0,
    "start_time": "2023-03-04T05:33:31.950Z"
   },
   {
    "duration": 0,
    "start_time": "2023-03-04T05:33:31.951Z"
   },
   {
    "duration": 0,
    "start_time": "2023-03-04T05:33:31.952Z"
   },
   {
    "duration": 0,
    "start_time": "2023-03-04T05:33:31.953Z"
   },
   {
    "duration": 15862,
    "start_time": "2023-03-04T05:34:10.792Z"
   },
   {
    "duration": 53488,
    "start_time": "2023-03-04T05:34:59.592Z"
   },
   {
    "duration": 2806,
    "start_time": "2023-03-04T05:36:59.314Z"
   },
   {
    "duration": 791,
    "start_time": "2023-03-04T05:37:02.122Z"
   },
   {
    "duration": 11,
    "start_time": "2023-03-04T05:37:02.914Z"
   },
   {
    "duration": 10,
    "start_time": "2023-03-04T05:37:02.928Z"
   },
   {
    "duration": 34,
    "start_time": "2023-03-04T05:37:02.948Z"
   },
   {
    "duration": 233,
    "start_time": "2023-03-04T05:37:02.984Z"
   },
   {
    "duration": 143,
    "start_time": "2023-03-04T05:37:03.219Z"
   },
   {
    "duration": 253,
    "start_time": "2023-03-04T05:37:03.364Z"
   },
   {
    "duration": 14,
    "start_time": "2023-03-04T05:37:03.619Z"
   },
   {
    "duration": 4,
    "start_time": "2023-03-04T05:37:03.649Z"
   },
   {
    "duration": 5396,
    "start_time": "2023-03-04T05:37:03.655Z"
   },
   {
    "duration": 7,
    "start_time": "2023-03-04T05:37:09.053Z"
   },
   {
    "duration": 11,
    "start_time": "2023-03-04T05:37:09.062Z"
   },
   {
    "duration": 7,
    "start_time": "2023-03-04T05:37:09.074Z"
   },
   {
    "duration": 12,
    "start_time": "2023-03-04T05:37:09.083Z"
   },
   {
    "duration": 158,
    "start_time": "2023-03-04T05:37:09.097Z"
   },
   {
    "duration": 182262,
    "start_time": "2023-03-04T05:37:09.257Z"
   },
   {
    "duration": 81,
    "start_time": "2023-03-04T05:40:11.521Z"
   },
   {
    "duration": 0,
    "start_time": "2023-03-04T05:40:11.604Z"
   },
   {
    "duration": 0,
    "start_time": "2023-03-04T05:40:11.605Z"
   },
   {
    "duration": 0,
    "start_time": "2023-03-04T05:40:11.606Z"
   },
   {
    "duration": 0,
    "start_time": "2023-03-04T05:40:11.608Z"
   },
   {
    "duration": 0,
    "start_time": "2023-03-04T05:40:11.609Z"
   },
   {
    "duration": 0,
    "start_time": "2023-03-04T05:40:11.611Z"
   },
   {
    "duration": 0,
    "start_time": "2023-03-04T05:40:11.613Z"
   },
   {
    "duration": 0,
    "start_time": "2023-03-04T05:40:11.614Z"
   },
   {
    "duration": 0,
    "start_time": "2023-03-04T05:40:11.616Z"
   },
   {
    "duration": 0,
    "start_time": "2023-03-04T05:40:11.617Z"
   },
   {
    "duration": 0,
    "start_time": "2023-03-04T05:40:11.619Z"
   },
   {
    "duration": 0,
    "start_time": "2023-03-04T05:40:11.621Z"
   },
   {
    "duration": 0,
    "start_time": "2023-03-04T05:40:11.622Z"
   },
   {
    "duration": 0,
    "start_time": "2023-03-04T05:40:11.624Z"
   },
   {
    "duration": 0,
    "start_time": "2023-03-04T05:40:11.625Z"
   },
   {
    "duration": 3344,
    "start_time": "2023-03-04T05:42:44.996Z"
   },
   {
    "duration": 850,
    "start_time": "2023-03-04T05:42:48.342Z"
   },
   {
    "duration": 11,
    "start_time": "2023-03-04T05:42:49.194Z"
   },
   {
    "duration": 12,
    "start_time": "2023-03-04T05:42:49.207Z"
   },
   {
    "duration": 55,
    "start_time": "2023-03-04T05:42:49.221Z"
   },
   {
    "duration": 261,
    "start_time": "2023-03-04T05:42:49.278Z"
   },
   {
    "duration": 150,
    "start_time": "2023-03-04T05:42:49.548Z"
   },
   {
    "duration": 241,
    "start_time": "2023-03-04T05:42:49.700Z"
   },
   {
    "duration": 24,
    "start_time": "2023-03-04T05:42:49.943Z"
   },
   {
    "duration": 3,
    "start_time": "2023-03-04T05:42:49.970Z"
   },
   {
    "duration": 23681,
    "start_time": "2023-03-04T05:42:49.975Z"
   },
   {
    "duration": 16,
    "start_time": "2023-03-04T05:43:13.658Z"
   },
   {
    "duration": 7,
    "start_time": "2023-03-04T05:43:13.676Z"
   },
   {
    "duration": 6,
    "start_time": "2023-03-04T05:43:13.685Z"
   },
   {
    "duration": 21,
    "start_time": "2023-03-04T05:43:13.693Z"
   },
   {
    "duration": 247,
    "start_time": "2023-03-04T05:43:13.716Z"
   },
   {
    "duration": 816742,
    "start_time": "2023-03-04T05:43:13.965Z"
   },
   {
    "duration": 90,
    "start_time": "2023-03-04T05:56:50.709Z"
   },
   {
    "duration": 0,
    "start_time": "2023-03-04T05:56:50.801Z"
   },
   {
    "duration": 0,
    "start_time": "2023-03-04T05:56:50.802Z"
   },
   {
    "duration": 0,
    "start_time": "2023-03-04T05:56:50.803Z"
   },
   {
    "duration": 0,
    "start_time": "2023-03-04T05:56:50.804Z"
   },
   {
    "duration": 1,
    "start_time": "2023-03-04T05:56:50.805Z"
   },
   {
    "duration": 0,
    "start_time": "2023-03-04T05:56:50.807Z"
   },
   {
    "duration": 0,
    "start_time": "2023-03-04T05:56:50.808Z"
   },
   {
    "duration": 0,
    "start_time": "2023-03-04T05:56:50.809Z"
   },
   {
    "duration": 0,
    "start_time": "2023-03-04T05:56:50.811Z"
   },
   {
    "duration": 0,
    "start_time": "2023-03-04T05:56:50.812Z"
   },
   {
    "duration": 0,
    "start_time": "2023-03-04T05:56:50.813Z"
   },
   {
    "duration": 0,
    "start_time": "2023-03-04T05:56:50.814Z"
   },
   {
    "duration": 0,
    "start_time": "2023-03-04T05:56:50.815Z"
   },
   {
    "duration": 0,
    "start_time": "2023-03-04T05:56:50.817Z"
   },
   {
    "duration": 0,
    "start_time": "2023-03-04T05:56:50.818Z"
   },
   {
    "duration": 2990,
    "start_time": "2023-03-05T11:44:04.588Z"
   },
   {
    "duration": 2261,
    "start_time": "2023-03-05T11:44:07.580Z"
   },
   {
    "duration": 0,
    "start_time": "2023-03-05T11:45:17.373Z"
   },
   {
    "duration": 165,
    "start_time": "2023-03-05T11:45:22.604Z"
   },
   {
    "duration": 157,
    "start_time": "2023-03-05T11:45:54.949Z"
   },
   {
    "duration": 78,
    "start_time": "2023-03-05T11:46:04.014Z"
   },
   {
    "duration": 107,
    "start_time": "2023-03-05T11:46:14.133Z"
   },
   {
    "duration": 93,
    "start_time": "2023-03-05T11:46:47.316Z"
   },
   {
    "duration": 108,
    "start_time": "2023-03-05T11:47:29.516Z"
   },
   {
    "duration": 162,
    "start_time": "2023-03-05T11:48:30.692Z"
   },
   {
    "duration": 132,
    "start_time": "2023-03-05T11:48:49.299Z"
   },
   {
    "duration": 60,
    "start_time": "2023-03-05T11:49:16.984Z"
   },
   {
    "duration": 141,
    "start_time": "2023-03-05T11:49:23.217Z"
   },
   {
    "duration": 126,
    "start_time": "2023-03-05T11:49:50.120Z"
   },
   {
    "duration": 172,
    "start_time": "2023-03-05T11:50:00.794Z"
   },
   {
    "duration": 146,
    "start_time": "2023-03-05T11:50:18.111Z"
   },
   {
    "duration": 130,
    "start_time": "2023-03-05T11:50:36.395Z"
   },
   {
    "duration": 334,
    "start_time": "2023-03-05T11:51:42.880Z"
   },
   {
    "duration": 205,
    "start_time": "2023-03-05T11:55:39.682Z"
   },
   {
    "duration": 184,
    "start_time": "2023-03-05T11:55:59.878Z"
   },
   {
    "duration": 128,
    "start_time": "2023-03-05T11:56:27.294Z"
   },
   {
    "duration": 129,
    "start_time": "2023-03-05T11:57:34.370Z"
   },
   {
    "duration": 13,
    "start_time": "2023-03-05T11:59:29.219Z"
   },
   {
    "duration": 8,
    "start_time": "2023-03-05T12:00:02.178Z"
   },
   {
    "duration": 129,
    "start_time": "2023-03-05T12:00:29.462Z"
   },
   {
    "duration": 3020,
    "start_time": "2023-03-05T12:05:29.078Z"
   },
   {
    "duration": 826,
    "start_time": "2023-03-05T12:05:32.100Z"
   },
   {
    "duration": 11,
    "start_time": "2023-03-05T12:05:32.928Z"
   },
   {
    "duration": 11,
    "start_time": "2023-03-05T12:05:32.948Z"
   },
   {
    "duration": 44,
    "start_time": "2023-03-05T12:05:32.961Z"
   },
   {
    "duration": 238,
    "start_time": "2023-03-05T12:05:33.007Z"
   },
   {
    "duration": 137,
    "start_time": "2023-03-05T12:05:33.249Z"
   },
   {
    "duration": 14,
    "start_time": "2023-03-05T12:05:33.388Z"
   },
   {
    "duration": 4,
    "start_time": "2023-03-05T12:05:33.404Z"
   },
   {
    "duration": 5701,
    "start_time": "2023-03-05T12:05:33.412Z"
   },
   {
    "duration": 9,
    "start_time": "2023-03-05T12:05:39.115Z"
   },
   {
    "duration": 24,
    "start_time": "2023-03-05T12:05:39.126Z"
   },
   {
    "duration": 6,
    "start_time": "2023-03-05T12:05:39.152Z"
   },
   {
    "duration": 17,
    "start_time": "2023-03-05T12:05:39.160Z"
   },
   {
    "duration": 170,
    "start_time": "2023-03-05T12:05:39.178Z"
   },
   {
    "duration": 4,
    "start_time": "2023-03-05T12:05:39.350Z"
   },
   {
    "duration": 6,
    "start_time": "2023-03-05T12:05:39.356Z"
   },
   {
    "duration": 199915,
    "start_time": "2023-03-05T12:05:39.364Z"
   },
   {
    "duration": 5,
    "start_time": "2023-03-05T12:08:59.281Z"
   },
   {
    "duration": 125,
    "start_time": "2023-03-05T12:08:59.288Z"
   },
   {
    "duration": 0,
    "start_time": "2023-03-05T12:08:59.415Z"
   },
   {
    "duration": 0,
    "start_time": "2023-03-05T12:08:59.417Z"
   },
   {
    "duration": 0,
    "start_time": "2023-03-05T12:08:59.419Z"
   },
   {
    "duration": 0,
    "start_time": "2023-03-05T12:08:59.420Z"
   },
   {
    "duration": 0,
    "start_time": "2023-03-05T12:08:59.422Z"
   },
   {
    "duration": 0,
    "start_time": "2023-03-05T12:08:59.423Z"
   },
   {
    "duration": 0,
    "start_time": "2023-03-05T12:08:59.425Z"
   },
   {
    "duration": 0,
    "start_time": "2023-03-05T12:08:59.427Z"
   },
   {
    "duration": 0,
    "start_time": "2023-03-05T12:08:59.428Z"
   },
   {
    "duration": 0,
    "start_time": "2023-03-05T12:08:59.430Z"
   },
   {
    "duration": 0,
    "start_time": "2023-03-05T12:08:59.432Z"
   },
   {
    "duration": 0,
    "start_time": "2023-03-05T12:08:59.433Z"
   },
   {
    "duration": 0,
    "start_time": "2023-03-05T12:08:59.435Z"
   },
   {
    "duration": 0,
    "start_time": "2023-03-05T12:08:59.436Z"
   },
   {
    "duration": 1,
    "start_time": "2023-03-05T12:08:59.438Z"
   },
   {
    "duration": 0,
    "start_time": "2023-03-05T12:08:59.447Z"
   },
   {
    "duration": 0,
    "start_time": "2023-03-05T12:08:59.449Z"
   },
   {
    "duration": 5,
    "start_time": "2023-03-05T12:10:36.648Z"
   },
   {
    "duration": 215916,
    "start_time": "2023-03-05T12:10:55.582Z"
   },
   {
    "duration": 2883,
    "start_time": "2023-03-05T12:16:27.824Z"
   },
   {
    "duration": 859,
    "start_time": "2023-03-05T12:16:30.712Z"
   },
   {
    "duration": 14,
    "start_time": "2023-03-05T12:16:31.573Z"
   },
   {
    "duration": 24,
    "start_time": "2023-03-05T12:16:31.590Z"
   },
   {
    "duration": 83,
    "start_time": "2023-03-05T12:16:31.616Z"
   },
   {
    "duration": 260,
    "start_time": "2023-03-05T12:16:31.701Z"
   },
   {
    "duration": 144,
    "start_time": "2023-03-05T12:16:31.963Z"
   },
   {
    "duration": 13,
    "start_time": "2023-03-05T12:16:32.109Z"
   },
   {
    "duration": 13,
    "start_time": "2023-03-05T12:16:32.123Z"
   },
   {
    "duration": 1399,
    "start_time": "2023-03-05T12:16:32.151Z"
   },
   {
    "duration": 6,
    "start_time": "2023-03-05T12:16:33.552Z"
   },
   {
    "duration": 11,
    "start_time": "2023-03-05T12:16:33.559Z"
   },
   {
    "duration": 6,
    "start_time": "2023-03-05T12:16:33.573Z"
   },
   {
    "duration": 14,
    "start_time": "2023-03-05T12:16:33.581Z"
   },
   {
    "duration": 225,
    "start_time": "2023-03-05T12:16:33.597Z"
   },
   {
    "duration": 4,
    "start_time": "2023-03-05T12:16:33.825Z"
   },
   {
    "duration": 11,
    "start_time": "2023-03-05T12:16:33.831Z"
   },
   {
    "duration": 32813,
    "start_time": "2023-03-05T12:16:33.843Z"
   },
   {
    "duration": 4,
    "start_time": "2023-03-05T12:17:06.661Z"
   },
   {
    "duration": 73,
    "start_time": "2023-03-05T12:17:06.667Z"
   },
   {
    "duration": 0,
    "start_time": "2023-03-05T12:17:06.742Z"
   },
   {
    "duration": 0,
    "start_time": "2023-03-05T12:17:06.743Z"
   },
   {
    "duration": 0,
    "start_time": "2023-03-05T12:17:06.744Z"
   },
   {
    "duration": 0,
    "start_time": "2023-03-05T12:17:06.745Z"
   },
   {
    "duration": 0,
    "start_time": "2023-03-05T12:17:06.750Z"
   },
   {
    "duration": 0,
    "start_time": "2023-03-05T12:17:06.751Z"
   },
   {
    "duration": 0,
    "start_time": "2023-03-05T12:17:06.752Z"
   },
   {
    "duration": 0,
    "start_time": "2023-03-05T12:17:06.756Z"
   },
   {
    "duration": 0,
    "start_time": "2023-03-05T12:17:06.761Z"
   },
   {
    "duration": 0,
    "start_time": "2023-03-05T12:17:06.762Z"
   },
   {
    "duration": 0,
    "start_time": "2023-03-05T12:17:06.763Z"
   },
   {
    "duration": 0,
    "start_time": "2023-03-05T12:17:06.764Z"
   },
   {
    "duration": 0,
    "start_time": "2023-03-05T12:17:06.766Z"
   },
   {
    "duration": 0,
    "start_time": "2023-03-05T12:17:06.767Z"
   },
   {
    "duration": 0,
    "start_time": "2023-03-05T12:17:06.768Z"
   },
   {
    "duration": 0,
    "start_time": "2023-03-05T12:17:06.768Z"
   },
   {
    "duration": 0,
    "start_time": "2023-03-05T12:17:06.770Z"
   },
   {
    "duration": 3046,
    "start_time": "2023-03-05T12:24:33.215Z"
   },
   {
    "duration": 816,
    "start_time": "2023-03-05T12:24:36.264Z"
   },
   {
    "duration": 10,
    "start_time": "2023-03-05T12:24:37.082Z"
   },
   {
    "duration": 11,
    "start_time": "2023-03-05T12:24:37.094Z"
   },
   {
    "duration": 46,
    "start_time": "2023-03-05T12:24:37.107Z"
   },
   {
    "duration": 225,
    "start_time": "2023-03-05T12:24:37.162Z"
   },
   {
    "duration": 138,
    "start_time": "2023-03-05T12:24:37.388Z"
   },
   {
    "duration": 10,
    "start_time": "2023-03-05T12:24:37.528Z"
   },
   {
    "duration": 12,
    "start_time": "2023-03-05T12:24:37.548Z"
   },
   {
    "duration": 1400,
    "start_time": "2023-03-05T12:24:37.563Z"
   },
   {
    "duration": 6,
    "start_time": "2023-03-05T12:24:38.966Z"
   },
   {
    "duration": 22,
    "start_time": "2023-03-05T12:24:38.974Z"
   },
   {
    "duration": 8,
    "start_time": "2023-03-05T12:24:38.999Z"
   },
   {
    "duration": 8,
    "start_time": "2023-03-05T12:24:39.010Z"
   },
   {
    "duration": 186,
    "start_time": "2023-03-05T12:24:39.020Z"
   },
   {
    "duration": 3,
    "start_time": "2023-03-05T12:24:39.208Z"
   },
   {
    "duration": 7,
    "start_time": "2023-03-05T12:24:39.212Z"
   },
   {
    "duration": 24651,
    "start_time": "2023-03-05T12:24:39.221Z"
   },
   {
    "duration": 125,
    "start_time": "2023-03-05T12:25:03.875Z"
   },
   {
    "duration": 0,
    "start_time": "2023-03-05T12:25:04.002Z"
   },
   {
    "duration": 0,
    "start_time": "2023-03-05T12:25:04.004Z"
   },
   {
    "duration": 0,
    "start_time": "2023-03-05T12:25:04.005Z"
   },
   {
    "duration": 3,
    "start_time": "2023-03-05T12:25:23.604Z"
   },
   {
    "duration": 57998,
    "start_time": "2023-03-05T12:25:24.474Z"
   },
   {
    "duration": 2734,
    "start_time": "2023-03-05T13:39:51.766Z"
   },
   {
    "duration": 839,
    "start_time": "2023-03-05T13:39:54.502Z"
   },
   {
    "duration": 16,
    "start_time": "2023-03-05T13:39:55.343Z"
   },
   {
    "duration": 16,
    "start_time": "2023-03-05T13:39:55.362Z"
   },
   {
    "duration": 56,
    "start_time": "2023-03-05T13:39:55.381Z"
   },
   {
    "duration": 254,
    "start_time": "2023-03-05T13:39:55.439Z"
   },
   {
    "duration": 139,
    "start_time": "2023-03-05T13:39:55.696Z"
   },
   {
    "duration": 17,
    "start_time": "2023-03-05T13:39:55.836Z"
   },
   {
    "duration": 6,
    "start_time": "2023-03-05T13:39:55.855Z"
   },
   {
    "duration": 1259,
    "start_time": "2023-03-05T13:39:55.864Z"
   },
   {
    "duration": 5,
    "start_time": "2023-03-05T13:39:57.125Z"
   },
   {
    "duration": 17,
    "start_time": "2023-03-05T13:39:57.132Z"
   },
   {
    "duration": 7,
    "start_time": "2023-03-05T13:39:57.151Z"
   },
   {
    "duration": 7,
    "start_time": "2023-03-05T13:39:57.160Z"
   },
   {
    "duration": 141,
    "start_time": "2023-03-05T13:39:57.169Z"
   },
   {
    "duration": 3,
    "start_time": "2023-03-05T13:39:57.312Z"
   },
   {
    "duration": 8,
    "start_time": "2023-03-05T13:39:57.317Z"
   },
   {
    "duration": 39127,
    "start_time": "2023-03-05T13:39:57.326Z"
   },
   {
    "duration": 74,
    "start_time": "2023-03-05T13:40:36.455Z"
   },
   {
    "duration": 0,
    "start_time": "2023-03-05T13:40:36.531Z"
   },
   {
    "duration": 0,
    "start_time": "2023-03-05T13:40:36.532Z"
   },
   {
    "duration": 0,
    "start_time": "2023-03-05T13:40:36.534Z"
   },
   {
    "duration": 170,
    "start_time": "2023-03-05T14:03:50.328Z"
   },
   {
    "duration": 5,
    "start_time": "2023-03-05T14:04:22.242Z"
   },
   {
    "duration": 3,
    "start_time": "2023-03-05T14:06:23.725Z"
   },
   {
    "duration": 3,
    "start_time": "2023-03-05T14:10:22.725Z"
   },
   {
    "duration": 37523,
    "start_time": "2023-03-05T14:10:23.393Z"
   },
   {
    "duration": 72,
    "start_time": "2023-03-05T14:11:07.063Z"
   },
   {
    "duration": 3,
    "start_time": "2023-03-05T14:11:15.166Z"
   },
   {
    "duration": 3,
    "start_time": "2023-03-05T14:11:15.739Z"
   },
   {
    "duration": 67,
    "start_time": "2023-03-05T14:11:16.616Z"
   },
   {
    "duration": 68,
    "start_time": "2023-03-05T14:12:19.246Z"
   },
   {
    "duration": 15,
    "start_time": "2023-03-05T14:25:11.610Z"
   },
   {
    "duration": 14,
    "start_time": "2023-03-05T14:26:30.947Z"
   },
   {
    "duration": 4,
    "start_time": "2023-03-05T14:26:36.746Z"
   },
   {
    "duration": 3,
    "start_time": "2023-03-05T14:26:37.514Z"
   },
   {
    "duration": 147,
    "start_time": "2023-03-05T14:26:38.313Z"
   },
   {
    "duration": 2746,
    "start_time": "2023-03-05T14:27:54.768Z"
   },
   {
    "duration": 791,
    "start_time": "2023-03-05T14:27:57.516Z"
   },
   {
    "duration": 10,
    "start_time": "2023-03-05T14:27:58.308Z"
   },
   {
    "duration": 10,
    "start_time": "2023-03-05T14:27:58.320Z"
   },
   {
    "duration": 43,
    "start_time": "2023-03-05T14:27:58.332Z"
   },
   {
    "duration": 235,
    "start_time": "2023-03-05T14:27:58.377Z"
   },
   {
    "duration": 139,
    "start_time": "2023-03-05T14:27:58.614Z"
   },
   {
    "duration": 11,
    "start_time": "2023-03-05T14:27:58.754Z"
   },
   {
    "duration": 11,
    "start_time": "2023-03-05T14:27:58.767Z"
   },
   {
    "duration": 1304,
    "start_time": "2023-03-05T14:27:58.782Z"
   },
   {
    "duration": 5,
    "start_time": "2023-03-05T14:28:00.087Z"
   },
   {
    "duration": 18,
    "start_time": "2023-03-05T14:28:00.094Z"
   },
   {
    "duration": 21,
    "start_time": "2023-03-05T14:28:00.113Z"
   },
   {
    "duration": 17,
    "start_time": "2023-03-05T14:28:00.136Z"
   },
   {
    "duration": 236,
    "start_time": "2023-03-05T14:28:00.155Z"
   },
   {
    "duration": 4,
    "start_time": "2023-03-05T14:28:00.392Z"
   },
   {
    "duration": 31,
    "start_time": "2023-03-05T14:28:00.398Z"
   },
   {
    "duration": 21,
    "start_time": "2023-03-05T14:28:00.432Z"
   },
   {
    "duration": 33,
    "start_time": "2023-03-05T14:28:00.455Z"
   },
   {
    "duration": 4,
    "start_time": "2023-03-05T14:28:00.493Z"
   },
   {
    "duration": 230,
    "start_time": "2023-03-05T14:28:00.499Z"
   },
   {
    "duration": 114,
    "start_time": "2023-03-05T14:28:00.731Z"
   },
   {
    "duration": 0,
    "start_time": "2023-03-05T14:28:00.847Z"
   },
   {
    "duration": 0,
    "start_time": "2023-03-05T14:28:00.849Z"
   },
   {
    "duration": 0,
    "start_time": "2023-03-05T14:28:00.850Z"
   },
   {
    "duration": 412,
    "start_time": "2023-03-05T14:29:01.164Z"
   },
   {
    "duration": 11443,
    "start_time": "2023-03-05T14:29:35.631Z"
   },
   {
    "duration": 3,
    "start_time": "2023-03-05T14:30:23.740Z"
   },
   {
    "duration": 12476,
    "start_time": "2023-03-05T14:30:24.423Z"
   },
   {
    "duration": 26,
    "start_time": "2023-03-05T14:52:40.136Z"
   },
   {
    "duration": 6,
    "start_time": "2023-03-05T14:52:45.493Z"
   },
   {
    "duration": 3,
    "start_time": "2023-03-05T14:52:46.143Z"
   },
   {
    "duration": 104,
    "start_time": "2023-03-05T14:52:46.871Z"
   },
   {
    "duration": 3,
    "start_time": "2023-03-05T14:53:17.429Z"
   },
   {
    "duration": 118,
    "start_time": "2023-03-05T14:53:17.975Z"
   },
   {
    "duration": 3,
    "start_time": "2023-03-05T14:54:07.011Z"
   },
   {
    "duration": 110,
    "start_time": "2023-03-05T14:54:07.678Z"
   },
   {
    "duration": 6053,
    "start_time": "2023-03-05T14:57:37.215Z"
   },
   {
    "duration": 5639,
    "start_time": "2023-03-05T14:58:31.630Z"
   },
   {
    "duration": 13250,
    "start_time": "2023-03-05T15:00:00.729Z"
   },
   {
    "duration": 6822,
    "start_time": "2023-03-05T15:01:12.870Z"
   },
   {
    "duration": 3,
    "start_time": "2023-03-05T15:02:23.328Z"
   },
   {
    "duration": 6876,
    "start_time": "2023-03-05T15:02:24.293Z"
   },
   {
    "duration": 6876,
    "start_time": "2023-03-05T15:02:44.303Z"
   },
   {
    "duration": 2660,
    "start_time": "2023-03-05T15:03:45.352Z"
   },
   {
    "duration": 806,
    "start_time": "2023-03-05T15:03:48.014Z"
   },
   {
    "duration": 11,
    "start_time": "2023-03-05T15:03:48.822Z"
   },
   {
    "duration": 17,
    "start_time": "2023-03-05T15:03:48.835Z"
   },
   {
    "duration": 30,
    "start_time": "2023-03-05T15:03:48.853Z"
   },
   {
    "duration": 230,
    "start_time": "2023-03-05T15:03:48.885Z"
   },
   {
    "duration": 136,
    "start_time": "2023-03-05T15:03:49.117Z"
   },
   {
    "duration": 11,
    "start_time": "2023-03-05T15:03:49.254Z"
   },
   {
    "duration": 9,
    "start_time": "2023-03-05T15:03:49.267Z"
   },
   {
    "duration": 1316,
    "start_time": "2023-03-05T15:03:49.280Z"
   },
   {
    "duration": 5,
    "start_time": "2023-03-05T15:03:50.597Z"
   },
   {
    "duration": 10,
    "start_time": "2023-03-05T15:03:50.603Z"
   },
   {
    "duration": 5,
    "start_time": "2023-03-05T15:03:50.614Z"
   },
   {
    "duration": 12,
    "start_time": "2023-03-05T15:03:50.621Z"
   },
   {
    "duration": 219,
    "start_time": "2023-03-05T15:03:50.635Z"
   },
   {
    "duration": 5,
    "start_time": "2023-03-05T15:03:50.856Z"
   },
   {
    "duration": 17,
    "start_time": "2023-03-05T15:03:50.863Z"
   },
   {
    "duration": 54024,
    "start_time": "2023-03-05T15:03:50.881Z"
   },
   {
    "duration": 3,
    "start_time": "2023-03-05T15:04:44.907Z"
   },
   {
    "duration": 7,
    "start_time": "2023-03-05T15:04:44.911Z"
   },
   {
    "duration": 12716,
    "start_time": "2023-03-05T15:04:44.919Z"
   },
   {
    "duration": 3,
    "start_time": "2023-03-05T15:04:57.637Z"
   },
   {
    "duration": 15,
    "start_time": "2023-03-05T15:04:57.641Z"
   },
   {
    "duration": 7110,
    "start_time": "2023-03-05T15:04:57.657Z"
   },
   {
    "duration": 72,
    "start_time": "2023-03-05T15:05:04.769Z"
   },
   {
    "duration": 2753,
    "start_time": "2023-03-05T15:07:29.046Z"
   },
   {
    "duration": 803,
    "start_time": "2023-03-05T15:07:31.801Z"
   },
   {
    "duration": 10,
    "start_time": "2023-03-05T15:07:32.606Z"
   },
   {
    "duration": 16,
    "start_time": "2023-03-05T15:07:32.618Z"
   },
   {
    "duration": 39,
    "start_time": "2023-03-05T15:07:32.635Z"
   },
   {
    "duration": 242,
    "start_time": "2023-03-05T15:07:32.676Z"
   },
   {
    "duration": 143,
    "start_time": "2023-03-05T15:07:32.920Z"
   },
   {
    "duration": 3,
    "start_time": "2023-03-05T15:07:33.065Z"
   },
   {
    "duration": 14,
    "start_time": "2023-03-05T15:07:33.069Z"
   },
   {
    "duration": 70744,
    "start_time": "2023-03-05T15:07:33.087Z"
   },
   {
    "duration": 47,
    "start_time": "2023-03-05T15:08:43.833Z"
   },
   {
    "duration": 8,
    "start_time": "2023-03-05T15:08:43.882Z"
   },
   {
    "duration": 17,
    "start_time": "2023-03-05T15:08:43.892Z"
   },
   {
    "duration": 84,
    "start_time": "2023-03-05T15:08:43.911Z"
   },
   {
    "duration": 147,
    "start_time": "2023-03-05T15:08:43.997Z"
   },
   {
    "duration": 6,
    "start_time": "2023-03-05T15:08:44.146Z"
   },
   {
    "duration": 10,
    "start_time": "2023-03-05T15:08:44.154Z"
   },
   {
    "duration": 3992709,
    "start_time": "2023-03-05T15:08:44.165Z"
   },
   {
    "duration": 4,
    "start_time": "2023-03-05T16:15:16.876Z"
   },
   {
    "duration": 10,
    "start_time": "2023-03-05T16:15:16.882Z"
   },
   {
    "duration": 2684,
    "start_time": "2023-03-05T16:15:31.699Z"
   },
   {
    "duration": 821,
    "start_time": "2023-03-05T16:15:34.385Z"
   },
   {
    "duration": 11,
    "start_time": "2023-03-05T16:15:35.207Z"
   },
   {
    "duration": 74,
    "start_time": "2023-03-05T16:15:35.220Z"
   },
   {
    "duration": 59,
    "start_time": "2023-03-05T16:15:35.296Z"
   },
   {
    "duration": 308,
    "start_time": "2023-03-05T16:15:35.357Z"
   },
   {
    "duration": 133,
    "start_time": "2023-03-05T16:15:35.667Z"
   },
   {
    "duration": 19,
    "start_time": "2023-03-05T16:15:35.802Z"
   },
   {
    "duration": 25,
    "start_time": "2023-03-05T16:15:35.822Z"
   },
   {
    "duration": 22504,
    "start_time": "2023-03-05T16:15:35.849Z"
   },
   {
    "duration": 15,
    "start_time": "2023-03-05T16:15:58.355Z"
   },
   {
    "duration": 7,
    "start_time": "2023-03-05T16:15:58.371Z"
   },
   {
    "duration": 9,
    "start_time": "2023-03-05T16:15:58.379Z"
   },
   {
    "duration": 22,
    "start_time": "2023-03-05T16:15:58.390Z"
   },
   {
    "duration": 156,
    "start_time": "2023-03-05T16:15:58.413Z"
   },
   {
    "duration": 6,
    "start_time": "2023-03-05T16:15:58.570Z"
   },
   {
    "duration": 6,
    "start_time": "2023-03-05T16:15:58.578Z"
   },
   {
    "duration": 6,
    "start_time": "2023-03-05T16:15:58.585Z"
   },
   {
    "duration": 415156,
    "start_time": "2023-03-05T16:15:58.593Z"
   },
   {
    "duration": 93,
    "start_time": "2023-03-05T16:22:53.751Z"
   },
   {
    "duration": 0,
    "start_time": "2023-03-05T16:22:53.846Z"
   },
   {
    "duration": 0,
    "start_time": "2023-03-05T16:22:53.847Z"
   },
   {
    "duration": 0,
    "start_time": "2023-03-05T16:22:53.848Z"
   },
   {
    "duration": 0,
    "start_time": "2023-03-05T16:22:53.850Z"
   },
   {
    "duration": 0,
    "start_time": "2023-03-05T16:22:53.851Z"
   },
   {
    "duration": 0,
    "start_time": "2023-03-05T16:22:53.852Z"
   },
   {
    "duration": 0,
    "start_time": "2023-03-05T16:22:53.853Z"
   },
   {
    "duration": 2791,
    "start_time": "2023-03-05T16:25:14.559Z"
   },
   {
    "duration": 830,
    "start_time": "2023-03-05T16:25:17.352Z"
   },
   {
    "duration": 11,
    "start_time": "2023-03-05T16:25:18.184Z"
   },
   {
    "duration": 10,
    "start_time": "2023-03-05T16:25:18.197Z"
   },
   {
    "duration": 47,
    "start_time": "2023-03-05T16:25:18.209Z"
   },
   {
    "duration": 233,
    "start_time": "2023-03-05T16:25:18.258Z"
   },
   {
    "duration": 134,
    "start_time": "2023-03-05T16:25:18.493Z"
   },
   {
    "duration": 26,
    "start_time": "2023-03-05T16:25:18.629Z"
   },
   {
    "duration": 4,
    "start_time": "2023-03-05T16:25:18.657Z"
   },
   {
    "duration": 22802,
    "start_time": "2023-03-05T16:25:18.662Z"
   },
   {
    "duration": 16,
    "start_time": "2023-03-05T16:25:41.466Z"
   },
   {
    "duration": 8,
    "start_time": "2023-03-05T16:25:41.483Z"
   },
   {
    "duration": 7,
    "start_time": "2023-03-05T16:25:41.493Z"
   },
   {
    "duration": 46,
    "start_time": "2023-03-05T16:25:41.502Z"
   },
   {
    "duration": 250,
    "start_time": "2023-03-05T16:25:41.550Z"
   },
   {
    "duration": 6,
    "start_time": "2023-03-05T16:25:41.801Z"
   },
   {
    "duration": 5,
    "start_time": "2023-03-05T16:25:41.809Z"
   },
   {
    "duration": 5,
    "start_time": "2023-03-05T16:25:41.816Z"
   },
   {
    "duration": 603235,
    "start_time": "2023-03-05T16:25:41.822Z"
   },
   {
    "duration": 93,
    "start_time": "2023-03-05T16:35:45.059Z"
   },
   {
    "duration": 0,
    "start_time": "2023-03-05T16:35:45.155Z"
   },
   {
    "duration": 0,
    "start_time": "2023-03-05T16:35:45.157Z"
   },
   {
    "duration": 0,
    "start_time": "2023-03-05T16:35:45.159Z"
   },
   {
    "duration": 0,
    "start_time": "2023-03-05T16:35:45.161Z"
   },
   {
    "duration": 0,
    "start_time": "2023-03-05T16:35:45.163Z"
   },
   {
    "duration": 0,
    "start_time": "2023-03-05T16:35:45.164Z"
   },
   {
    "duration": 0,
    "start_time": "2023-03-05T16:35:45.165Z"
   },
   {
    "duration": 3041,
    "start_time": "2023-03-05T16:37:21.852Z"
   },
   {
    "duration": 932,
    "start_time": "2023-03-05T16:37:24.895Z"
   },
   {
    "duration": 12,
    "start_time": "2023-03-05T16:37:25.829Z"
   },
   {
    "duration": 22,
    "start_time": "2023-03-05T16:37:25.849Z"
   },
   {
    "duration": 49,
    "start_time": "2023-03-05T16:37:25.874Z"
   },
   {
    "duration": 258,
    "start_time": "2023-03-05T16:37:25.925Z"
   },
   {
    "duration": 142,
    "start_time": "2023-03-05T16:37:26.185Z"
   },
   {
    "duration": 28,
    "start_time": "2023-03-05T16:37:26.330Z"
   },
   {
    "duration": 7,
    "start_time": "2023-03-05T16:37:26.360Z"
   },
   {
    "duration": 24982,
    "start_time": "2023-03-05T16:37:26.369Z"
   },
   {
    "duration": 19,
    "start_time": "2023-03-05T16:37:51.353Z"
   },
   {
    "duration": 7,
    "start_time": "2023-03-05T16:37:51.374Z"
   },
   {
    "duration": 20,
    "start_time": "2023-03-05T16:37:51.383Z"
   },
   {
    "duration": 42,
    "start_time": "2023-03-05T16:37:51.406Z"
   },
   {
    "duration": 156,
    "start_time": "2023-03-05T16:37:51.449Z"
   },
   {
    "duration": 6,
    "start_time": "2023-03-05T16:37:51.607Z"
   },
   {
    "duration": 14,
    "start_time": "2023-03-05T16:37:51.615Z"
   },
   {
    "duration": 11,
    "start_time": "2023-03-05T16:37:51.631Z"
   },
   {
    "duration": 834319,
    "start_time": "2023-03-05T16:37:51.644Z"
   },
   {
    "duration": 180,
    "start_time": "2023-03-05T16:51:45.969Z"
   },
   {
    "duration": 0,
    "start_time": "2023-03-05T16:51:46.154Z"
   },
   {
    "duration": 0,
    "start_time": "2023-03-05T16:51:46.162Z"
   },
   {
    "duration": 0,
    "start_time": "2023-03-05T16:51:46.164Z"
   },
   {
    "duration": 0,
    "start_time": "2023-03-05T16:51:46.165Z"
   },
   {
    "duration": 0,
    "start_time": "2023-03-05T16:51:46.166Z"
   },
   {
    "duration": 0,
    "start_time": "2023-03-05T16:51:46.167Z"
   },
   {
    "duration": 0,
    "start_time": "2023-03-05T16:51:46.168Z"
   },
   {
    "duration": 2804,
    "start_time": "2023-03-05T16:55:34.167Z"
   },
   {
    "duration": 839,
    "start_time": "2023-03-05T16:55:36.972Z"
   },
   {
    "duration": 12,
    "start_time": "2023-03-05T16:55:37.812Z"
   },
   {
    "duration": 22,
    "start_time": "2023-03-05T16:55:37.826Z"
   },
   {
    "duration": 37,
    "start_time": "2023-03-05T16:55:37.850Z"
   },
   {
    "duration": 237,
    "start_time": "2023-03-05T16:55:37.889Z"
   },
   {
    "duration": 136,
    "start_time": "2023-03-05T16:55:38.127Z"
   },
   {
    "duration": 19,
    "start_time": "2023-03-05T16:55:38.264Z"
   },
   {
    "duration": 5,
    "start_time": "2023-03-05T16:55:38.284Z"
   },
   {
    "duration": 22511,
    "start_time": "2023-03-05T16:55:38.292Z"
   },
   {
    "duration": 18,
    "start_time": "2023-03-05T16:56:00.805Z"
   },
   {
    "duration": 46,
    "start_time": "2023-03-05T16:56:00.825Z"
   },
   {
    "duration": 17,
    "start_time": "2023-03-05T16:56:00.872Z"
   },
   {
    "duration": 37,
    "start_time": "2023-03-05T16:56:00.891Z"
   },
   {
    "duration": 244,
    "start_time": "2023-03-05T16:56:00.929Z"
   },
   {
    "duration": 6,
    "start_time": "2023-03-05T16:56:01.175Z"
   },
   {
    "duration": 15,
    "start_time": "2023-03-05T16:56:01.183Z"
   },
   {
    "duration": 14,
    "start_time": "2023-03-05T16:56:01.200Z"
   },
   {
    "duration": 735241,
    "start_time": "2023-03-05T16:56:01.217Z"
   },
   {
    "duration": 108,
    "start_time": "2023-03-05T17:08:16.549Z"
   },
   {
    "duration": 0,
    "start_time": "2023-03-05T17:08:16.659Z"
   },
   {
    "duration": 0,
    "start_time": "2023-03-05T17:08:16.660Z"
   },
   {
    "duration": 0,
    "start_time": "2023-03-05T17:08:16.661Z"
   },
   {
    "duration": 0,
    "start_time": "2023-03-05T17:08:16.663Z"
   },
   {
    "duration": 0,
    "start_time": "2023-03-05T17:08:16.663Z"
   },
   {
    "duration": 0,
    "start_time": "2023-03-05T17:08:16.665Z"
   },
   {
    "duration": 0,
    "start_time": "2023-03-05T17:08:16.666Z"
   },
   {
    "duration": 3,
    "start_time": "2023-03-05T17:10:49.835Z"
   },
   {
    "duration": 2,
    "start_time": "2023-03-05T17:10:51.189Z"
   },
   {
    "duration": 85,
    "start_time": "2023-03-05T17:10:51.773Z"
   },
   {
    "duration": 3,
    "start_time": "2023-03-05T17:11:22.980Z"
   },
   {
    "duration": 1487661,
    "start_time": "2023-03-05T17:11:23.788Z"
   },
   {
    "duration": 2647,
    "start_time": "2023-03-05T17:48:48.169Z"
   },
   {
    "duration": 804,
    "start_time": "2023-03-05T17:48:50.818Z"
   },
   {
    "duration": 10,
    "start_time": "2023-03-05T17:48:51.624Z"
   },
   {
    "duration": 20,
    "start_time": "2023-03-05T17:48:51.637Z"
   },
   {
    "duration": 43,
    "start_time": "2023-03-05T17:48:51.659Z"
   },
   {
    "duration": 235,
    "start_time": "2023-03-05T17:48:51.704Z"
   },
   {
    "duration": 135,
    "start_time": "2023-03-05T17:48:51.941Z"
   },
   {
    "duration": 2,
    "start_time": "2023-03-05T17:48:52.078Z"
   },
   {
    "duration": 14,
    "start_time": "2023-03-05T17:48:52.081Z"
   },
   {
    "duration": 69956,
    "start_time": "2023-03-05T17:48:52.098Z"
   },
   {
    "duration": 46,
    "start_time": "2023-03-05T17:50:02.056Z"
   },
   {
    "duration": 26,
    "start_time": "2023-03-05T17:50:02.104Z"
   },
   {
    "duration": 29,
    "start_time": "2023-03-05T17:50:02.132Z"
   },
   {
    "duration": 75,
    "start_time": "2023-03-05T17:50:02.163Z"
   },
   {
    "duration": 156,
    "start_time": "2023-03-05T17:50:02.240Z"
   },
   {
    "duration": 6,
    "start_time": "2023-03-05T17:50:02.398Z"
   },
   {
    "duration": 31,
    "start_time": "2023-03-05T17:50:02.406Z"
   },
   {
    "duration": 39,
    "start_time": "2023-03-05T17:50:02.438Z"
   },
   {
    "duration": 1843318,
    "start_time": "2023-03-05T17:50:02.478Z"
   },
   {
    "duration": 81,
    "start_time": "2023-03-05T18:20:45.798Z"
   },
   {
    "duration": 0,
    "start_time": "2023-03-05T18:20:45.881Z"
   },
   {
    "duration": 0,
    "start_time": "2023-03-05T18:20:45.882Z"
   },
   {
    "duration": 0,
    "start_time": "2023-03-05T18:20:45.884Z"
   },
   {
    "duration": 0,
    "start_time": "2023-03-05T18:20:45.885Z"
   },
   {
    "duration": 0,
    "start_time": "2023-03-05T18:20:45.886Z"
   },
   {
    "duration": 0,
    "start_time": "2023-03-05T18:20:45.888Z"
   },
   {
    "duration": 0,
    "start_time": "2023-03-05T18:20:45.889Z"
   },
   {
    "duration": 3008,
    "start_time": "2023-03-05T18:25:32.903Z"
   },
   {
    "duration": 831,
    "start_time": "2023-03-05T18:25:35.914Z"
   },
   {
    "duration": 12,
    "start_time": "2023-03-05T18:25:36.746Z"
   },
   {
    "duration": 18,
    "start_time": "2023-03-05T18:25:36.761Z"
   },
   {
    "duration": 37,
    "start_time": "2023-03-05T18:25:36.781Z"
   },
   {
    "duration": 247,
    "start_time": "2023-03-05T18:25:36.820Z"
   },
   {
    "duration": 143,
    "start_time": "2023-03-05T18:25:37.068Z"
   },
   {
    "duration": 2,
    "start_time": "2023-03-05T18:25:37.213Z"
   },
   {
    "duration": 17,
    "start_time": "2023-03-05T18:25:37.217Z"
   },
   {
    "duration": 75925,
    "start_time": "2023-03-05T18:25:37.238Z"
   },
   {
    "duration": 46,
    "start_time": "2023-03-05T18:26:53.165Z"
   },
   {
    "duration": 7,
    "start_time": "2023-03-05T18:26:53.213Z"
   },
   {
    "duration": 32,
    "start_time": "2023-03-05T18:26:53.222Z"
   },
   {
    "duration": 65,
    "start_time": "2023-03-05T18:26:53.255Z"
   },
   {
    "duration": 145,
    "start_time": "2023-03-05T18:26:53.322Z"
   },
   {
    "duration": 7,
    "start_time": "2023-03-05T18:26:53.470Z"
   },
   {
    "duration": 11,
    "start_time": "2023-03-05T18:26:53.479Z"
   },
   {
    "duration": 4063693,
    "start_time": "2023-03-05T18:26:53.492Z"
   },
   {
    "duration": 3,
    "start_time": "2023-03-05T19:34:37.187Z"
   },
   {
    "duration": 6,
    "start_time": "2023-03-05T19:34:37.192Z"
   },
   {
    "duration": 1076283,
    "start_time": "2023-03-05T19:34:37.199Z"
   },
   {
    "duration": 3,
    "start_time": "2023-03-05T19:52:33.484Z"
   },
   {
    "duration": 8,
    "start_time": "2023-03-05T19:52:33.489Z"
   },
   {
    "duration": 3048,
    "start_time": "2023-03-06T01:28:32.428Z"
   },
   {
    "duration": 2494,
    "start_time": "2023-03-06T01:28:35.478Z"
   },
   {
    "duration": 11,
    "start_time": "2023-03-06T01:28:37.974Z"
   },
   {
    "duration": 12,
    "start_time": "2023-03-06T01:28:37.988Z"
   },
   {
    "duration": 33,
    "start_time": "2023-03-06T01:28:38.002Z"
   },
   {
    "duration": 241,
    "start_time": "2023-03-06T01:28:38.036Z"
   },
   {
    "duration": 137,
    "start_time": "2023-03-06T01:28:38.279Z"
   },
   {
    "duration": 3,
    "start_time": "2023-03-06T01:28:38.417Z"
   },
   {
    "duration": 10,
    "start_time": "2023-03-06T01:28:38.421Z"
   },
   {
    "duration": 69874,
    "start_time": "2023-03-06T01:28:38.433Z"
   },
   {
    "duration": 60,
    "start_time": "2023-03-06T01:29:48.309Z"
   },
   {
    "duration": 10,
    "start_time": "2023-03-06T01:29:48.371Z"
   },
   {
    "duration": 19,
    "start_time": "2023-03-06T01:29:48.383Z"
   },
   {
    "duration": 83,
    "start_time": "2023-03-06T01:29:48.404Z"
   },
   {
    "duration": 137,
    "start_time": "2023-03-06T01:29:48.489Z"
   },
   {
    "duration": 7,
    "start_time": "2023-03-06T01:29:48.628Z"
   },
   {
    "duration": 19,
    "start_time": "2023-03-06T01:29:48.637Z"
   },
   {
    "duration": 7,
    "start_time": "2023-03-06T01:29:48.657Z"
   },
   {
    "duration": 9,
    "start_time": "2023-03-06T01:29:48.665Z"
   },
   {
    "duration": 5,
    "start_time": "2023-03-06T01:29:48.676Z"
   },
   {
    "duration": 13,
    "start_time": "2023-03-06T01:29:48.683Z"
   },
   {
    "duration": 8,
    "start_time": "2023-03-06T01:29:48.698Z"
   },
   {
    "duration": 6,
    "start_time": "2023-03-06T01:29:48.708Z"
   },
   {
    "duration": 2192607,
    "start_time": "2023-03-06T01:29:48.715Z"
   },
   {
    "duration": 2691,
    "start_time": "2023-03-06T02:18:24.619Z"
   },
   {
    "duration": 797,
    "start_time": "2023-03-06T02:18:27.312Z"
   },
   {
    "duration": 11,
    "start_time": "2023-03-06T02:18:28.110Z"
   },
   {
    "duration": 13,
    "start_time": "2023-03-06T02:18:28.123Z"
   },
   {
    "duration": 37,
    "start_time": "2023-03-06T02:18:28.138Z"
   },
   {
    "duration": 234,
    "start_time": "2023-03-06T02:18:28.177Z"
   },
   {
    "duration": 130,
    "start_time": "2023-03-06T02:18:28.413Z"
   },
   {
    "duration": 3,
    "start_time": "2023-03-06T02:18:28.547Z"
   },
   {
    "duration": 8,
    "start_time": "2023-03-06T02:18:28.552Z"
   },
   {
    "duration": 67679,
    "start_time": "2023-03-06T02:18:28.562Z"
   },
   {
    "duration": 43,
    "start_time": "2023-03-06T02:19:36.248Z"
   },
   {
    "duration": 9,
    "start_time": "2023-03-06T02:19:36.292Z"
   },
   {
    "duration": 18,
    "start_time": "2023-03-06T02:19:36.303Z"
   },
   {
    "duration": 79,
    "start_time": "2023-03-06T02:19:36.322Z"
   },
   {
    "duration": 196,
    "start_time": "2023-03-06T02:19:36.402Z"
   },
   {
    "duration": 5,
    "start_time": "2023-03-06T02:19:36.600Z"
   },
   {
    "duration": 9,
    "start_time": "2023-03-06T02:19:36.606Z"
   },
   {
    "duration": 9,
    "start_time": "2023-03-06T02:19:36.616Z"
   },
   {
    "duration": 10,
    "start_time": "2023-03-06T02:19:36.626Z"
   },
   {
    "duration": 6,
    "start_time": "2023-03-06T02:19:36.637Z"
   },
   {
    "duration": 1058944,
    "start_time": "2023-03-06T02:19:36.644Z"
   },
   {
    "duration": 4,
    "start_time": "2023-03-06T02:37:15.590Z"
   },
   {
    "duration": 8,
    "start_time": "2023-03-06T02:37:15.595Z"
   },
   {
    "duration": 6,
    "start_time": "2023-03-06T02:37:15.605Z"
   },
   {
    "duration": 3162,
    "start_time": "2023-03-06T04:12:39.286Z"
   },
   {
    "duration": 2561,
    "start_time": "2023-03-06T04:12:42.456Z"
   },
   {
    "duration": 11,
    "start_time": "2023-03-06T04:12:45.019Z"
   },
   {
    "duration": 20,
    "start_time": "2023-03-06T04:12:45.033Z"
   },
   {
    "duration": 53,
    "start_time": "2023-03-06T04:12:45.055Z"
   },
   {
    "duration": 254,
    "start_time": "2023-03-06T04:12:45.110Z"
   },
   {
    "duration": 149,
    "start_time": "2023-03-06T04:12:45.366Z"
   },
   {
    "duration": 3,
    "start_time": "2023-03-06T04:12:45.517Z"
   },
   {
    "duration": 8,
    "start_time": "2023-03-06T04:12:45.522Z"
   },
   {
    "duration": 78008,
    "start_time": "2023-03-06T04:12:45.532Z"
   },
   {
    "duration": 54,
    "start_time": "2023-03-06T04:14:03.541Z"
   },
   {
    "duration": 8,
    "start_time": "2023-03-06T04:14:03.597Z"
   },
   {
    "duration": 15,
    "start_time": "2023-03-06T04:14:03.607Z"
   },
   {
    "duration": 76,
    "start_time": "2023-03-06T04:14:03.624Z"
   },
   {
    "duration": 207,
    "start_time": "2023-03-06T04:14:03.701Z"
   },
   {
    "duration": 6,
    "start_time": "2023-03-06T04:14:03.910Z"
   },
   {
    "duration": 5,
    "start_time": "2023-03-06T04:14:03.918Z"
   },
   {
    "duration": 6,
    "start_time": "2023-03-06T04:14:03.925Z"
   },
   {
    "duration": 12,
    "start_time": "2023-03-06T04:14:03.933Z"
   },
   {
    "duration": 35,
    "start_time": "2023-03-06T04:14:03.947Z"
   },
   {
    "duration": 598554,
    "start_time": "2023-03-06T04:14:03.984Z"
   },
   {
    "duration": 3,
    "start_time": "2023-03-06T04:24:02.540Z"
   },
   {
    "duration": 35,
    "start_time": "2023-03-06T04:24:02.544Z"
   },
   {
    "duration": 7,
    "start_time": "2023-03-06T04:24:02.581Z"
   },
   {
    "duration": 3,
    "start_time": "2023-03-06T04:28:20.680Z"
   },
   {
    "duration": 1647618,
    "start_time": "2023-03-06T04:28:21.373Z"
   },
   {
    "duration": 3,
    "start_time": "2023-03-06T04:58:55.912Z"
   },
   {
    "duration": 2607942,
    "start_time": "2023-03-06T04:59:36.323Z"
   },
   {
    "duration": 2,
    "start_time": "2023-03-06T05:45:32.390Z"
   },
   {
    "duration": 5039729,
    "start_time": "2023-03-06T05:45:33.711Z"
   },
   {
    "duration": 1706,
    "start_time": "2023-03-06T07:32:45.909Z"
   },
   {
    "duration": 839,
    "start_time": "2023-03-06T07:32:47.617Z"
   },
   {
    "duration": 11,
    "start_time": "2023-03-06T07:32:48.458Z"
   },
   {
    "duration": 11,
    "start_time": "2023-03-06T07:32:48.471Z"
   },
   {
    "duration": 35,
    "start_time": "2023-03-06T07:32:48.483Z"
   },
   {
    "duration": 258,
    "start_time": "2023-03-06T07:32:48.520Z"
   },
   {
    "duration": 133,
    "start_time": "2023-03-06T07:32:48.779Z"
   },
   {
    "duration": 2,
    "start_time": "2023-03-06T07:32:48.914Z"
   },
   {
    "duration": 7,
    "start_time": "2023-03-06T07:32:48.918Z"
   },
   {
    "duration": 74482,
    "start_time": "2023-03-06T07:32:48.928Z"
   },
   {
    "duration": 52,
    "start_time": "2023-03-06T07:34:03.412Z"
   },
   {
    "duration": 7,
    "start_time": "2023-03-06T07:34:03.466Z"
   },
   {
    "duration": 27,
    "start_time": "2023-03-06T07:34:03.475Z"
   },
   {
    "duration": 63,
    "start_time": "2023-03-06T07:34:03.503Z"
   },
   {
    "duration": 208,
    "start_time": "2023-03-06T07:34:03.567Z"
   },
   {
    "duration": 3,
    "start_time": "2023-03-06T07:34:03.777Z"
   },
   {
    "duration": 17,
    "start_time": "2023-03-06T07:34:03.782Z"
   },
   {
    "duration": 71,
    "start_time": "2023-03-06T07:34:03.801Z"
   },
   {
    "duration": 0,
    "start_time": "2023-03-06T07:34:03.874Z"
   },
   {
    "duration": 0,
    "start_time": "2023-03-06T07:34:03.875Z"
   },
   {
    "duration": 0,
    "start_time": "2023-03-06T07:34:03.876Z"
   },
   {
    "duration": 0,
    "start_time": "2023-03-06T07:34:03.877Z"
   },
   {
    "duration": 0,
    "start_time": "2023-03-06T07:34:03.878Z"
   },
   {
    "duration": 0,
    "start_time": "2023-03-06T07:34:03.879Z"
   },
   {
    "duration": 0,
    "start_time": "2023-03-06T07:34:03.880Z"
   },
   {
    "duration": 0,
    "start_time": "2023-03-06T07:34:03.881Z"
   },
   {
    "duration": 0,
    "start_time": "2023-03-06T07:34:03.883Z"
   },
   {
    "duration": 0,
    "start_time": "2023-03-06T07:34:03.884Z"
   },
   {
    "duration": 446,
    "start_time": "2023-03-06T07:35:46.953Z"
   },
   {
    "duration": 4,
    "start_time": "2023-03-06T07:36:26.420Z"
   },
   {
    "duration": 3,
    "start_time": "2023-03-06T07:36:26.847Z"
   },
   {
    "duration": 2,
    "start_time": "2023-03-06T07:36:27.671Z"
   },
   {
    "duration": 282,
    "start_time": "2023-03-06T07:36:28.256Z"
   },
   {
    "duration": 3,
    "start_time": "2023-03-06T07:36:51.835Z"
   },
   {
    "duration": 2,
    "start_time": "2023-03-06T07:36:53.085Z"
   },
   {
    "duration": 290,
    "start_time": "2023-03-06T07:36:53.357Z"
   },
   {
    "duration": 3,
    "start_time": "2023-03-06T07:37:28.264Z"
   },
   {
    "duration": 4066650,
    "start_time": "2023-03-06T07:37:29.144Z"
   },
   {
    "duration": 3,
    "start_time": "2023-03-06T08:49:39.985Z"
   },
   {
    "duration": 479208,
    "start_time": "2023-03-06T08:49:41.969Z"
   },
   {
    "duration": 3019,
    "start_time": "2023-03-06T08:57:52.882Z"
   },
   {
    "duration": 12,
    "start_time": "2023-03-06T08:57:57.973Z"
   },
   {
    "duration": 4,
    "start_time": "2023-03-06T09:00:37.560Z"
   },
   {
    "duration": 4,
    "start_time": "2023-03-06T09:00:38.327Z"
   },
   {
    "duration": 1990806,
    "start_time": "2023-03-06T09:00:41.216Z"
   },
   {
    "duration": 1911,
    "start_time": "2023-03-06T09:51:06.181Z"
   },
   {
    "duration": 856,
    "start_time": "2023-03-06T09:51:08.094Z"
   },
   {
    "duration": 10,
    "start_time": "2023-03-06T09:51:08.952Z"
   },
   {
    "duration": 12,
    "start_time": "2023-03-06T09:51:08.964Z"
   },
   {
    "duration": 42,
    "start_time": "2023-03-06T09:51:08.978Z"
   },
   {
    "duration": 237,
    "start_time": "2023-03-06T09:51:09.022Z"
   },
   {
    "duration": 144,
    "start_time": "2023-03-06T09:51:09.261Z"
   },
   {
    "duration": 3,
    "start_time": "2023-03-06T09:51:09.407Z"
   },
   {
    "duration": 10,
    "start_time": "2023-03-06T09:51:09.411Z"
   },
   {
    "duration": 71338,
    "start_time": "2023-03-06T09:51:09.424Z"
   },
   {
    "duration": 45,
    "start_time": "2023-03-06T09:52:20.764Z"
   },
   {
    "duration": 14,
    "start_time": "2023-03-06T09:52:20.811Z"
   },
   {
    "duration": 35,
    "start_time": "2023-03-06T09:52:20.827Z"
   },
   {
    "duration": 76,
    "start_time": "2023-03-06T09:52:20.863Z"
   },
   {
    "duration": 234,
    "start_time": "2023-03-06T09:52:20.941Z"
   },
   {
    "duration": 4,
    "start_time": "2023-03-06T09:52:21.176Z"
   },
   {
    "duration": 22,
    "start_time": "2023-03-06T09:52:21.181Z"
   },
   {
    "duration": 37,
    "start_time": "2023-03-06T09:52:21.205Z"
   },
   {
    "duration": 45,
    "start_time": "2023-03-06T09:52:21.243Z"
   },
   {
    "duration": 37,
    "start_time": "2023-03-06T09:52:21.290Z"
   },
   {
    "duration": 28,
    "start_time": "2023-03-06T09:52:21.329Z"
   },
   {
    "duration": 33,
    "start_time": "2023-03-06T09:52:21.358Z"
   },
   {
    "duration": 32,
    "start_time": "2023-03-06T09:52:21.393Z"
   },
   {
    "duration": 22,
    "start_time": "2023-03-06T09:52:21.427Z"
   },
   {
    "duration": 21,
    "start_time": "2023-03-06T09:52:21.450Z"
   },
   {
    "duration": 460344,
    "start_time": "2023-03-06T09:52:21.473Z"
   },
   {
    "duration": 2985,
    "start_time": "2023-03-06T10:00:01.819Z"
   },
   {
    "duration": 17,
    "start_time": "2023-03-06T10:00:04.808Z"
   },
   {
    "duration": 4294,
    "start_time": "2023-03-08T06:41:38.092Z"
   },
   {
    "duration": 2326,
    "start_time": "2023-03-08T06:41:42.388Z"
   },
   {
    "duration": 12,
    "start_time": "2023-03-08T06:41:44.716Z"
   },
   {
    "duration": 20,
    "start_time": "2023-03-08T06:41:44.730Z"
   },
   {
    "duration": 47,
    "start_time": "2023-03-08T06:41:44.751Z"
   },
   {
    "duration": 243,
    "start_time": "2023-03-08T06:41:44.799Z"
   },
   {
    "duration": 136,
    "start_time": "2023-03-08T06:41:45.044Z"
   },
   {
    "duration": 3,
    "start_time": "2023-03-08T06:41:45.182Z"
   },
   {
    "duration": 26,
    "start_time": "2023-03-08T06:41:45.186Z"
   },
   {
    "duration": 484,
    "start_time": "2023-03-08T06:41:45.215Z"
   },
   {
    "duration": 16506,
    "start_time": "2023-03-08T06:41:45.701Z"
   },
   {
    "duration": 5,
    "start_time": "2023-03-08T06:42:02.209Z"
   },
   {
    "duration": 23,
    "start_time": "2023-03-08T06:42:02.216Z"
   },
   {
    "duration": 15,
    "start_time": "2023-03-08T06:42:02.241Z"
   },
   {
    "duration": 1303,
    "start_time": "2023-03-08T06:42:02.258Z"
   },
   {
    "duration": 0,
    "start_time": "2023-03-08T06:42:03.563Z"
   },
   {
    "duration": 0,
    "start_time": "2023-03-08T06:42:03.564Z"
   },
   {
    "duration": 0,
    "start_time": "2023-03-08T06:42:03.565Z"
   },
   {
    "duration": 0,
    "start_time": "2023-03-08T06:42:03.566Z"
   },
   {
    "duration": 0,
    "start_time": "2023-03-08T06:42:03.567Z"
   },
   {
    "duration": 0,
    "start_time": "2023-03-08T06:42:03.568Z"
   },
   {
    "duration": 0,
    "start_time": "2023-03-08T06:42:03.570Z"
   },
   {
    "duration": 0,
    "start_time": "2023-03-08T06:42:03.571Z"
   },
   {
    "duration": 0,
    "start_time": "2023-03-08T06:42:03.572Z"
   },
   {
    "duration": 0,
    "start_time": "2023-03-08T06:42:03.572Z"
   },
   {
    "duration": 0,
    "start_time": "2023-03-08T06:42:03.573Z"
   },
   {
    "duration": 0,
    "start_time": "2023-03-08T06:42:03.574Z"
   },
   {
    "duration": 0,
    "start_time": "2023-03-08T06:42:03.576Z"
   },
   {
    "duration": 0,
    "start_time": "2023-03-08T06:42:03.577Z"
   },
   {
    "duration": 5034,
    "start_time": "2023-03-08T06:50:01.962Z"
   },
   {
    "duration": 817,
    "start_time": "2023-03-08T06:50:06.998Z"
   },
   {
    "duration": 11,
    "start_time": "2023-03-08T06:50:07.817Z"
   },
   {
    "duration": 15,
    "start_time": "2023-03-08T06:50:07.830Z"
   },
   {
    "duration": 55,
    "start_time": "2023-03-08T06:50:07.847Z"
   },
   {
    "duration": 260,
    "start_time": "2023-03-08T06:50:07.904Z"
   },
   {
    "duration": 154,
    "start_time": "2023-03-08T06:50:08.166Z"
   },
   {
    "duration": 2,
    "start_time": "2023-03-08T06:50:08.322Z"
   },
   {
    "duration": 40,
    "start_time": "2023-03-08T06:50:08.326Z"
   },
   {
    "duration": 508,
    "start_time": "2023-03-08T06:50:08.368Z"
   },
   {
    "duration": 331,
    "start_time": "2023-03-08T06:50:08.878Z"
   },
   {
    "duration": 0,
    "start_time": "2023-03-08T06:50:09.211Z"
   },
   {
    "duration": 1,
    "start_time": "2023-03-08T06:50:09.212Z"
   },
   {
    "duration": 0,
    "start_time": "2023-03-08T06:50:09.213Z"
   },
   {
    "duration": 0,
    "start_time": "2023-03-08T06:50:09.215Z"
   },
   {
    "duration": 0,
    "start_time": "2023-03-08T06:50:09.216Z"
   },
   {
    "duration": 0,
    "start_time": "2023-03-08T06:50:09.217Z"
   },
   {
    "duration": 0,
    "start_time": "2023-03-08T06:50:09.218Z"
   },
   {
    "duration": 0,
    "start_time": "2023-03-08T06:50:09.220Z"
   },
   {
    "duration": 0,
    "start_time": "2023-03-08T06:50:09.220Z"
   },
   {
    "duration": 0,
    "start_time": "2023-03-08T06:50:09.221Z"
   },
   {
    "duration": 0,
    "start_time": "2023-03-08T06:50:09.222Z"
   },
   {
    "duration": 0,
    "start_time": "2023-03-08T06:50:09.224Z"
   },
   {
    "duration": 0,
    "start_time": "2023-03-08T06:50:09.225Z"
   },
   {
    "duration": 0,
    "start_time": "2023-03-08T06:50:09.226Z"
   },
   {
    "duration": 0,
    "start_time": "2023-03-08T06:50:09.227Z"
   },
   {
    "duration": 1,
    "start_time": "2023-03-08T06:50:09.227Z"
   },
   {
    "duration": 0,
    "start_time": "2023-03-08T06:50:09.228Z"
   },
   {
    "duration": 0,
    "start_time": "2023-03-08T06:50:09.229Z"
   },
   {
    "duration": 0,
    "start_time": "2023-03-08T06:50:09.230Z"
   },
   {
    "duration": 0,
    "start_time": "2023-03-08T06:50:09.231Z"
   },
   {
    "duration": 37,
    "start_time": "2023-03-08T06:50:26.726Z"
   },
   {
    "duration": 444,
    "start_time": "2023-03-08T06:50:55.108Z"
   },
   {
    "duration": 14,
    "start_time": "2023-03-08T06:50:58.403Z"
   },
   {
    "duration": 13,
    "start_time": "2023-03-08T06:56:22.967Z"
   },
   {
    "duration": 5,
    "start_time": "2023-03-08T06:59:02.190Z"
   },
   {
    "duration": 4052,
    "start_time": "2023-03-08T06:59:21.734Z"
   },
   {
    "duration": 788,
    "start_time": "2023-03-08T06:59:25.787Z"
   },
   {
    "duration": 15,
    "start_time": "2023-03-08T06:59:26.577Z"
   },
   {
    "duration": 18,
    "start_time": "2023-03-08T06:59:26.594Z"
   },
   {
    "duration": 39,
    "start_time": "2023-03-08T06:59:26.614Z"
   },
   {
    "duration": 321,
    "start_time": "2023-03-08T06:59:26.655Z"
   },
   {
    "duration": 139,
    "start_time": "2023-03-08T06:59:26.977Z"
   },
   {
    "duration": 14,
    "start_time": "2023-03-08T06:59:27.118Z"
   },
   {
    "duration": 27,
    "start_time": "2023-03-08T06:59:27.133Z"
   },
   {
    "duration": 478,
    "start_time": "2023-03-08T06:59:27.162Z"
   },
   {
    "duration": 15,
    "start_time": "2023-03-08T06:59:27.642Z"
   },
   {
    "duration": 2,
    "start_time": "2023-03-08T06:59:27.658Z"
   },
   {
    "duration": 336,
    "start_time": "2023-03-08T06:59:27.661Z"
   },
   {
    "duration": 0,
    "start_time": "2023-03-08T06:59:27.999Z"
   },
   {
    "duration": 0,
    "start_time": "2023-03-08T06:59:28.001Z"
   },
   {
    "duration": 0,
    "start_time": "2023-03-08T06:59:28.002Z"
   },
   {
    "duration": 0,
    "start_time": "2023-03-08T06:59:28.003Z"
   },
   {
    "duration": 0,
    "start_time": "2023-03-08T06:59:28.004Z"
   },
   {
    "duration": 0,
    "start_time": "2023-03-08T06:59:28.005Z"
   },
   {
    "duration": 0,
    "start_time": "2023-03-08T06:59:28.006Z"
   },
   {
    "duration": 0,
    "start_time": "2023-03-08T06:59:28.007Z"
   },
   {
    "duration": 0,
    "start_time": "2023-03-08T06:59:28.008Z"
   },
   {
    "duration": 1,
    "start_time": "2023-03-08T06:59:28.009Z"
   },
   {
    "duration": 0,
    "start_time": "2023-03-08T06:59:28.011Z"
   },
   {
    "duration": 0,
    "start_time": "2023-03-08T06:59:28.012Z"
   },
   {
    "duration": 0,
    "start_time": "2023-03-08T06:59:28.013Z"
   },
   {
    "duration": 0,
    "start_time": "2023-03-08T06:59:28.014Z"
   },
   {
    "duration": 0,
    "start_time": "2023-03-08T06:59:28.015Z"
   },
   {
    "duration": 0,
    "start_time": "2023-03-08T06:59:28.016Z"
   },
   {
    "duration": 0,
    "start_time": "2023-03-08T06:59:28.017Z"
   },
   {
    "duration": 0,
    "start_time": "2023-03-08T06:59:28.018Z"
   },
   {
    "duration": 155649,
    "start_time": "2023-03-08T06:59:46.886Z"
   },
   {
    "duration": 142,
    "start_time": "2023-03-08T07:02:40.818Z"
   },
   {
    "duration": 8,
    "start_time": "2023-03-08T07:02:49.376Z"
   },
   {
    "duration": 8,
    "start_time": "2023-03-08T07:02:51.376Z"
   },
   {
    "duration": 5,
    "start_time": "2023-03-08T07:02:52.224Z"
   },
   {
    "duration": 9,
    "start_time": "2023-03-08T07:02:52.897Z"
   },
   {
    "duration": 143,
    "start_time": "2023-03-08T07:02:55.128Z"
   },
   {
    "duration": 3,
    "start_time": "2023-03-08T07:02:59.472Z"
   },
   {
    "duration": 4,
    "start_time": "2023-03-08T07:03:01.615Z"
   },
   {
    "duration": 209110,
    "start_time": "2023-03-08T07:03:03.392Z"
   },
   {
    "duration": 4264,
    "start_time": "2023-03-08T07:07:12.728Z"
   },
   {
    "duration": 805,
    "start_time": "2023-03-08T07:07:16.994Z"
   },
   {
    "duration": 13,
    "start_time": "2023-03-08T07:07:17.802Z"
   },
   {
    "duration": 19,
    "start_time": "2023-03-08T07:07:17.817Z"
   },
   {
    "duration": 39,
    "start_time": "2023-03-08T07:07:17.837Z"
   },
   {
    "duration": 264,
    "start_time": "2023-03-08T07:07:17.878Z"
   },
   {
    "duration": 154,
    "start_time": "2023-03-08T07:07:18.143Z"
   },
   {
    "duration": 3,
    "start_time": "2023-03-08T07:07:18.299Z"
   },
   {
    "duration": 47,
    "start_time": "2023-03-08T07:07:18.304Z"
   },
   {
    "duration": 487,
    "start_time": "2023-03-08T07:07:18.354Z"
   },
   {
    "duration": 15,
    "start_time": "2023-03-08T07:07:18.843Z"
   },
   {
    "duration": 2,
    "start_time": "2023-03-08T07:07:18.860Z"
   },
   {
    "duration": 2328976,
    "start_time": "2023-03-08T07:07:18.864Z"
   },
   {
    "duration": 42,
    "start_time": "2023-03-08T07:46:07.842Z"
   },
   {
    "duration": 21,
    "start_time": "2023-03-08T07:46:07.886Z"
   },
   {
    "duration": 16,
    "start_time": "2023-03-08T07:46:07.908Z"
   },
   {
    "duration": 83,
    "start_time": "2023-03-08T07:46:07.926Z"
   },
   {
    "duration": 206,
    "start_time": "2023-03-08T07:46:08.011Z"
   },
   {
    "duration": 5,
    "start_time": "2023-03-08T07:46:08.219Z"
   },
   {
    "duration": 13,
    "start_time": "2023-03-08T07:46:08.226Z"
   },
   {
    "duration": 2250767,
    "start_time": "2023-03-08T07:46:08.242Z"
   },
   {
    "duration": 5,
    "start_time": "2023-03-08T08:23:39.012Z"
   },
   {
    "duration": 5,
    "start_time": "2023-03-08T08:23:39.020Z"
   },
   {
    "duration": 2308405,
    "start_time": "2023-03-08T08:23:39.027Z"
   },
   {
    "duration": 4,
    "start_time": "2023-03-08T09:02:07.434Z"
   },
   {
    "duration": 7,
    "start_time": "2023-03-08T09:02:07.440Z"
   },
   {
    "duration": 1560038,
    "start_time": "2023-03-08T09:02:07.449Z"
   },
   {
    "duration": 4,
    "start_time": "2023-03-08T09:28:07.489Z"
   },
   {
    "duration": 197704,
    "start_time": "2023-03-08T09:28:07.494Z"
   },
   {
    "duration": 3255,
    "start_time": "2023-03-08T09:31:25.199Z"
   },
   {
    "duration": 15,
    "start_time": "2023-03-08T09:31:28.456Z"
   },
   {
    "duration": 6136,
    "start_time": "2023-03-09T04:08:55.034Z"
   },
   {
    "duration": 3412,
    "start_time": "2023-03-09T04:09:01.173Z"
   },
   {
    "duration": 12,
    "start_time": "2023-03-09T04:09:04.586Z"
   },
   {
    "duration": 16,
    "start_time": "2023-03-09T04:09:04.600Z"
   },
   {
    "duration": 43,
    "start_time": "2023-03-09T04:09:04.617Z"
   },
   {
    "duration": 245,
    "start_time": "2023-03-09T04:09:04.662Z"
   },
   {
    "duration": 142,
    "start_time": "2023-03-09T04:09:04.908Z"
   },
   {
    "duration": 3,
    "start_time": "2023-03-09T04:09:05.052Z"
   },
   {
    "duration": 673,
    "start_time": "2023-03-09T04:09:05.057Z"
   },
   {
    "duration": 47,
    "start_time": "2023-03-09T04:09:05.733Z"
   },
   {
    "duration": 2,
    "start_time": "2023-03-09T04:09:05.782Z"
   },
   {
    "duration": 4173,
    "start_time": "2023-03-09T04:11:58.982Z"
   },
   {
    "duration": 844,
    "start_time": "2023-03-09T04:12:03.157Z"
   },
   {
    "duration": 12,
    "start_time": "2023-03-09T04:12:04.002Z"
   },
   {
    "duration": 10,
    "start_time": "2023-03-09T04:12:04.016Z"
   },
   {
    "duration": 37,
    "start_time": "2023-03-09T04:12:04.044Z"
   },
   {
    "duration": 245,
    "start_time": "2023-03-09T04:12:04.083Z"
   },
   {
    "duration": 147,
    "start_time": "2023-03-09T04:12:04.330Z"
   },
   {
    "duration": 2,
    "start_time": "2023-03-09T04:12:04.479Z"
   },
   {
    "duration": 516,
    "start_time": "2023-03-09T04:12:04.483Z"
   },
   {
    "duration": 12,
    "start_time": "2023-03-09T04:12:05.002Z"
   },
   {
    "duration": 3,
    "start_time": "2023-03-09T04:12:05.016Z"
   },
   {
    "duration": 1062015,
    "start_time": "2023-03-09T04:12:05.020Z"
   },
   {
    "duration": 44,
    "start_time": "2023-03-09T04:29:47.045Z"
   },
   {
    "duration": 8,
    "start_time": "2023-03-09T04:29:47.092Z"
   },
   {
    "duration": 13,
    "start_time": "2023-03-09T04:29:47.102Z"
   },
   {
    "duration": 101,
    "start_time": "2023-03-09T04:29:47.117Z"
   },
   {
    "duration": 272,
    "start_time": "2023-03-09T04:29:47.220Z"
   },
   {
    "duration": 4,
    "start_time": "2023-03-09T04:29:47.494Z"
   },
   {
    "duration": 11,
    "start_time": "2023-03-09T04:29:47.501Z"
   },
   {
    "duration": 5,
    "start_time": "2023-03-09T04:29:47.514Z"
   },
   {
    "duration": 5,
    "start_time": "2023-03-09T04:29:47.522Z"
   },
   {
    "duration": 27,
    "start_time": "2023-03-09T04:29:47.529Z"
   },
   {
    "duration": 14,
    "start_time": "2023-03-09T04:29:47.565Z"
   },
   {
    "duration": 4,
    "start_time": "2023-03-09T04:29:47.582Z"
   },
   {
    "duration": 15,
    "start_time": "2023-03-09T04:29:47.589Z"
   },
   {
    "duration": 21,
    "start_time": "2023-03-09T04:29:47.606Z"
   },
   {
    "duration": 26,
    "start_time": "2023-03-09T04:29:47.629Z"
   },
   {
    "duration": 389532,
    "start_time": "2023-03-09T04:29:47.660Z"
   },
   {
    "duration": 1718,
    "start_time": "2023-03-09T04:36:17.193Z"
   },
   {
    "duration": 8,
    "start_time": "2023-03-09T04:36:18.913Z"
   },
   {
    "duration": 4,
    "start_time": "2023-03-09T04:36:18.923Z"
   }
  ],
  "kernelspec": {
   "display_name": "Python 3 (ipykernel)",
   "language": "python",
   "name": "python3"
  },
  "language_info": {
   "codemirror_mode": {
    "name": "ipython",
    "version": 3
   },
   "file_extension": ".py",
   "mimetype": "text/x-python",
   "name": "python",
   "nbconvert_exporter": "python",
   "pygments_lexer": "ipython3",
   "version": "3.9.5"
  },
  "toc": {
   "base_numbering": 1,
   "nav_menu": {},
   "number_sections": true,
   "sideBar": true,
   "skip_h1_title": true,
   "title_cell": "Содержание",
   "title_sidebar": "Contents",
   "toc_cell": true,
   "toc_position": {
    "height": "calc(100% - 180px)",
    "left": "10px",
    "top": "150px",
    "width": "302.391px"
   },
   "toc_section_display": true,
   "toc_window_display": false
  }
 },
 "nbformat": 4,
 "nbformat_minor": 2
}
