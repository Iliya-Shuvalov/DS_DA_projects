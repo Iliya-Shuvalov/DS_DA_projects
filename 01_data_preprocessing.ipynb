{
 "cells": [
  {
   "attachments": {},
   "cell_type": "markdown",
   "id": "5b7d4572",
   "metadata": {
    "deletable": false,
    "editable": false,
    "id": "c81daeeb"
   },
   "source": [
    "# Исследование надежности заемщиков\n"
   ]
  },
  {
   "attachments": {},
   "cell_type": "markdown",
   "id": "5231b7c4",
   "metadata": {
    "deletable": false,
    "editable": false,
    "id": "827c20bf"
   },
   "source": [
    "Задача: используя Python и библиотеку pandas провести исследование надёжности заёмщиков. Определить риск появления задолженности у различных категорий заёмщиков\n",
    "\n"
   ]
  },
  {
   "attachments": {},
   "cell_type": "markdown",
   "id": "3042e4ae",
   "metadata": {
    "deletable": false,
    "editable": false,
    "id": "744d7639"
   },
   "source": [
    "## Откроем таблицу и изучим общую информацию о данных"
   ]
  },
  {
   "attachments": {},
   "cell_type": "markdown",
   "id": "05687dce",
   "metadata": {
    "deletable": false,
    "editable": false,
    "id": "e7a14c31"
   },
   "source": [
    "**Импорт библиотеки pandas. Путь к файлу: `/datasets/data.csv`**"
   ]
  },
  {
   "cell_type": "code",
   "execution_count": 1,
   "id": "4e58ff51",
   "metadata": {
    "deletable": false,
    "id": "7bcf75c9"
   },
   "outputs": [],
   "source": [
    "import pandas as pd\n",
    "\n",
    "try:\n",
    "    data = pd.read_csv('/datasets/data.csv')\n",
    "except:\n",
    "    data = pd.read_csv('https://code.s3.yandex.net/datasets/data.csv')"
   ]
  },
  {
   "attachments": {},
   "cell_type": "markdown",
   "id": "f429a3a2",
   "metadata": {
    "deletable": false,
    "editable": false,
    "id": "b8038fe3"
   },
   "source": [
    "**Вывод первых 20 строк датафрейма `data` на экран.**"
   ]
  },
  {
   "cell_type": "code",
   "execution_count": 2,
   "id": "60b9e7e7",
   "metadata": {
    "deletable": false,
    "id": "2a7cab99",
    "outputId": "1a8f3ef2-d323-4ec2-ddf7-89670b5944c4"
   },
   "outputs": [
    {
     "data": {
      "text/html": [
       "<div>\n",
       "<style scoped>\n",
       "    .dataframe tbody tr th:only-of-type {\n",
       "        vertical-align: middle;\n",
       "    }\n",
       "\n",
       "    .dataframe tbody tr th {\n",
       "        vertical-align: top;\n",
       "    }\n",
       "\n",
       "    .dataframe thead th {\n",
       "        text-align: right;\n",
       "    }\n",
       "</style>\n",
       "<table border=\"1\" class=\"dataframe\">\n",
       "  <thead>\n",
       "    <tr style=\"text-align: right;\">\n",
       "      <th></th>\n",
       "      <th>children</th>\n",
       "      <th>days_employed</th>\n",
       "      <th>dob_years</th>\n",
       "      <th>education</th>\n",
       "      <th>education_id</th>\n",
       "      <th>family_status</th>\n",
       "      <th>family_status_id</th>\n",
       "      <th>gender</th>\n",
       "      <th>income_type</th>\n",
       "      <th>debt</th>\n",
       "      <th>total_income</th>\n",
       "      <th>purpose</th>\n",
       "    </tr>\n",
       "  </thead>\n",
       "  <tbody>\n",
       "    <tr>\n",
       "      <th>0</th>\n",
       "      <td>1</td>\n",
       "      <td>-8437.673028</td>\n",
       "      <td>42</td>\n",
       "      <td>высшее</td>\n",
       "      <td>0</td>\n",
       "      <td>женат / замужем</td>\n",
       "      <td>0</td>\n",
       "      <td>F</td>\n",
       "      <td>сотрудник</td>\n",
       "      <td>0</td>\n",
       "      <td>253875.639453</td>\n",
       "      <td>покупка жилья</td>\n",
       "    </tr>\n",
       "    <tr>\n",
       "      <th>1</th>\n",
       "      <td>1</td>\n",
       "      <td>-4024.803754</td>\n",
       "      <td>36</td>\n",
       "      <td>среднее</td>\n",
       "      <td>1</td>\n",
       "      <td>женат / замужем</td>\n",
       "      <td>0</td>\n",
       "      <td>F</td>\n",
       "      <td>сотрудник</td>\n",
       "      <td>0</td>\n",
       "      <td>112080.014102</td>\n",
       "      <td>приобретение автомобиля</td>\n",
       "    </tr>\n",
       "    <tr>\n",
       "      <th>2</th>\n",
       "      <td>0</td>\n",
       "      <td>-5623.422610</td>\n",
       "      <td>33</td>\n",
       "      <td>Среднее</td>\n",
       "      <td>1</td>\n",
       "      <td>женат / замужем</td>\n",
       "      <td>0</td>\n",
       "      <td>M</td>\n",
       "      <td>сотрудник</td>\n",
       "      <td>0</td>\n",
       "      <td>145885.952297</td>\n",
       "      <td>покупка жилья</td>\n",
       "    </tr>\n",
       "    <tr>\n",
       "      <th>3</th>\n",
       "      <td>3</td>\n",
       "      <td>-4124.747207</td>\n",
       "      <td>32</td>\n",
       "      <td>среднее</td>\n",
       "      <td>1</td>\n",
       "      <td>женат / замужем</td>\n",
       "      <td>0</td>\n",
       "      <td>M</td>\n",
       "      <td>сотрудник</td>\n",
       "      <td>0</td>\n",
       "      <td>267628.550329</td>\n",
       "      <td>дополнительное образование</td>\n",
       "    </tr>\n",
       "    <tr>\n",
       "      <th>4</th>\n",
       "      <td>0</td>\n",
       "      <td>340266.072047</td>\n",
       "      <td>53</td>\n",
       "      <td>среднее</td>\n",
       "      <td>1</td>\n",
       "      <td>гражданский брак</td>\n",
       "      <td>1</td>\n",
       "      <td>F</td>\n",
       "      <td>пенсионер</td>\n",
       "      <td>0</td>\n",
       "      <td>158616.077870</td>\n",
       "      <td>сыграть свадьбу</td>\n",
       "    </tr>\n",
       "    <tr>\n",
       "      <th>5</th>\n",
       "      <td>0</td>\n",
       "      <td>-926.185831</td>\n",
       "      <td>27</td>\n",
       "      <td>высшее</td>\n",
       "      <td>0</td>\n",
       "      <td>гражданский брак</td>\n",
       "      <td>1</td>\n",
       "      <td>M</td>\n",
       "      <td>компаньон</td>\n",
       "      <td>0</td>\n",
       "      <td>255763.565419</td>\n",
       "      <td>покупка жилья</td>\n",
       "    </tr>\n",
       "    <tr>\n",
       "      <th>6</th>\n",
       "      <td>0</td>\n",
       "      <td>-2879.202052</td>\n",
       "      <td>43</td>\n",
       "      <td>высшее</td>\n",
       "      <td>0</td>\n",
       "      <td>женат / замужем</td>\n",
       "      <td>0</td>\n",
       "      <td>F</td>\n",
       "      <td>компаньон</td>\n",
       "      <td>0</td>\n",
       "      <td>240525.971920</td>\n",
       "      <td>операции с жильем</td>\n",
       "    </tr>\n",
       "    <tr>\n",
       "      <th>7</th>\n",
       "      <td>0</td>\n",
       "      <td>-152.779569</td>\n",
       "      <td>50</td>\n",
       "      <td>СРЕДНЕЕ</td>\n",
       "      <td>1</td>\n",
       "      <td>женат / замужем</td>\n",
       "      <td>0</td>\n",
       "      <td>M</td>\n",
       "      <td>сотрудник</td>\n",
       "      <td>0</td>\n",
       "      <td>135823.934197</td>\n",
       "      <td>образование</td>\n",
       "    </tr>\n",
       "    <tr>\n",
       "      <th>8</th>\n",
       "      <td>2</td>\n",
       "      <td>-6929.865299</td>\n",
       "      <td>35</td>\n",
       "      <td>ВЫСШЕЕ</td>\n",
       "      <td>0</td>\n",
       "      <td>гражданский брак</td>\n",
       "      <td>1</td>\n",
       "      <td>F</td>\n",
       "      <td>сотрудник</td>\n",
       "      <td>0</td>\n",
       "      <td>95856.832424</td>\n",
       "      <td>на проведение свадьбы</td>\n",
       "    </tr>\n",
       "    <tr>\n",
       "      <th>9</th>\n",
       "      <td>0</td>\n",
       "      <td>-2188.756445</td>\n",
       "      <td>41</td>\n",
       "      <td>среднее</td>\n",
       "      <td>1</td>\n",
       "      <td>женат / замужем</td>\n",
       "      <td>0</td>\n",
       "      <td>M</td>\n",
       "      <td>сотрудник</td>\n",
       "      <td>0</td>\n",
       "      <td>144425.938277</td>\n",
       "      <td>покупка жилья для семьи</td>\n",
       "    </tr>\n",
       "    <tr>\n",
       "      <th>10</th>\n",
       "      <td>2</td>\n",
       "      <td>-4171.483647</td>\n",
       "      <td>36</td>\n",
       "      <td>высшее</td>\n",
       "      <td>0</td>\n",
       "      <td>женат / замужем</td>\n",
       "      <td>0</td>\n",
       "      <td>M</td>\n",
       "      <td>компаньон</td>\n",
       "      <td>0</td>\n",
       "      <td>113943.491460</td>\n",
       "      <td>покупка недвижимости</td>\n",
       "    </tr>\n",
       "    <tr>\n",
       "      <th>11</th>\n",
       "      <td>0</td>\n",
       "      <td>-792.701887</td>\n",
       "      <td>40</td>\n",
       "      <td>среднее</td>\n",
       "      <td>1</td>\n",
       "      <td>женат / замужем</td>\n",
       "      <td>0</td>\n",
       "      <td>F</td>\n",
       "      <td>сотрудник</td>\n",
       "      <td>0</td>\n",
       "      <td>77069.234271</td>\n",
       "      <td>покупка коммерческой недвижимости</td>\n",
       "    </tr>\n",
       "    <tr>\n",
       "      <th>12</th>\n",
       "      <td>0</td>\n",
       "      <td>NaN</td>\n",
       "      <td>65</td>\n",
       "      <td>среднее</td>\n",
       "      <td>1</td>\n",
       "      <td>гражданский брак</td>\n",
       "      <td>1</td>\n",
       "      <td>M</td>\n",
       "      <td>пенсионер</td>\n",
       "      <td>0</td>\n",
       "      <td>NaN</td>\n",
       "      <td>сыграть свадьбу</td>\n",
       "    </tr>\n",
       "    <tr>\n",
       "      <th>13</th>\n",
       "      <td>0</td>\n",
       "      <td>-1846.641941</td>\n",
       "      <td>54</td>\n",
       "      <td>неоконченное высшее</td>\n",
       "      <td>2</td>\n",
       "      <td>женат / замужем</td>\n",
       "      <td>0</td>\n",
       "      <td>F</td>\n",
       "      <td>сотрудник</td>\n",
       "      <td>0</td>\n",
       "      <td>130458.228857</td>\n",
       "      <td>приобретение автомобиля</td>\n",
       "    </tr>\n",
       "    <tr>\n",
       "      <th>14</th>\n",
       "      <td>0</td>\n",
       "      <td>-1844.956182</td>\n",
       "      <td>56</td>\n",
       "      <td>высшее</td>\n",
       "      <td>0</td>\n",
       "      <td>гражданский брак</td>\n",
       "      <td>1</td>\n",
       "      <td>F</td>\n",
       "      <td>компаньон</td>\n",
       "      <td>1</td>\n",
       "      <td>165127.911772</td>\n",
       "      <td>покупка жилой недвижимости</td>\n",
       "    </tr>\n",
       "    <tr>\n",
       "      <th>15</th>\n",
       "      <td>1</td>\n",
       "      <td>-972.364419</td>\n",
       "      <td>26</td>\n",
       "      <td>среднее</td>\n",
       "      <td>1</td>\n",
       "      <td>женат / замужем</td>\n",
       "      <td>0</td>\n",
       "      <td>F</td>\n",
       "      <td>сотрудник</td>\n",
       "      <td>0</td>\n",
       "      <td>116820.904450</td>\n",
       "      <td>строительство собственной недвижимости</td>\n",
       "    </tr>\n",
       "    <tr>\n",
       "      <th>16</th>\n",
       "      <td>0</td>\n",
       "      <td>-1719.934226</td>\n",
       "      <td>35</td>\n",
       "      <td>среднее</td>\n",
       "      <td>1</td>\n",
       "      <td>женат / замужем</td>\n",
       "      <td>0</td>\n",
       "      <td>F</td>\n",
       "      <td>сотрудник</td>\n",
       "      <td>0</td>\n",
       "      <td>289202.704229</td>\n",
       "      <td>недвижимость</td>\n",
       "    </tr>\n",
       "    <tr>\n",
       "      <th>17</th>\n",
       "      <td>0</td>\n",
       "      <td>-2369.999720</td>\n",
       "      <td>33</td>\n",
       "      <td>высшее</td>\n",
       "      <td>0</td>\n",
       "      <td>гражданский брак</td>\n",
       "      <td>1</td>\n",
       "      <td>M</td>\n",
       "      <td>сотрудник</td>\n",
       "      <td>0</td>\n",
       "      <td>90410.586745</td>\n",
       "      <td>строительство недвижимости</td>\n",
       "    </tr>\n",
       "    <tr>\n",
       "      <th>18</th>\n",
       "      <td>0</td>\n",
       "      <td>400281.136913</td>\n",
       "      <td>53</td>\n",
       "      <td>среднее</td>\n",
       "      <td>1</td>\n",
       "      <td>вдовец / вдова</td>\n",
       "      <td>2</td>\n",
       "      <td>F</td>\n",
       "      <td>пенсионер</td>\n",
       "      <td>0</td>\n",
       "      <td>56823.777243</td>\n",
       "      <td>на покупку подержанного автомобиля</td>\n",
       "    </tr>\n",
       "    <tr>\n",
       "      <th>19</th>\n",
       "      <td>0</td>\n",
       "      <td>-10038.818549</td>\n",
       "      <td>48</td>\n",
       "      <td>СРЕДНЕЕ</td>\n",
       "      <td>1</td>\n",
       "      <td>в разводе</td>\n",
       "      <td>3</td>\n",
       "      <td>F</td>\n",
       "      <td>сотрудник</td>\n",
       "      <td>0</td>\n",
       "      <td>242831.107982</td>\n",
       "      <td>на покупку своего автомобиля</td>\n",
       "    </tr>\n",
       "  </tbody>\n",
       "</table>\n",
       "</div>"
      ],
      "text/plain": [
       "    children  days_employed  dob_years            education  education_id  \\\n",
       "0          1   -8437.673028         42               высшее             0   \n",
       "1          1   -4024.803754         36              среднее             1   \n",
       "2          0   -5623.422610         33              Среднее             1   \n",
       "3          3   -4124.747207         32              среднее             1   \n",
       "4          0  340266.072047         53              среднее             1   \n",
       "5          0    -926.185831         27               высшее             0   \n",
       "6          0   -2879.202052         43               высшее             0   \n",
       "7          0    -152.779569         50              СРЕДНЕЕ             1   \n",
       "8          2   -6929.865299         35               ВЫСШЕЕ             0   \n",
       "9          0   -2188.756445         41              среднее             1   \n",
       "10         2   -4171.483647         36               высшее             0   \n",
       "11         0    -792.701887         40              среднее             1   \n",
       "12         0            NaN         65              среднее             1   \n",
       "13         0   -1846.641941         54  неоконченное высшее             2   \n",
       "14         0   -1844.956182         56               высшее             0   \n",
       "15         1    -972.364419         26              среднее             1   \n",
       "16         0   -1719.934226         35              среднее             1   \n",
       "17         0   -2369.999720         33               высшее             0   \n",
       "18         0  400281.136913         53              среднее             1   \n",
       "19         0  -10038.818549         48              СРЕДНЕЕ             1   \n",
       "\n",
       "       family_status  family_status_id gender income_type  debt  \\\n",
       "0    женат / замужем                 0      F   сотрудник     0   \n",
       "1    женат / замужем                 0      F   сотрудник     0   \n",
       "2    женат / замужем                 0      M   сотрудник     0   \n",
       "3    женат / замужем                 0      M   сотрудник     0   \n",
       "4   гражданский брак                 1      F   пенсионер     0   \n",
       "5   гражданский брак                 1      M   компаньон     0   \n",
       "6    женат / замужем                 0      F   компаньон     0   \n",
       "7    женат / замужем                 0      M   сотрудник     0   \n",
       "8   гражданский брак                 1      F   сотрудник     0   \n",
       "9    женат / замужем                 0      M   сотрудник     0   \n",
       "10   женат / замужем                 0      M   компаньон     0   \n",
       "11   женат / замужем                 0      F   сотрудник     0   \n",
       "12  гражданский брак                 1      M   пенсионер     0   \n",
       "13   женат / замужем                 0      F   сотрудник     0   \n",
       "14  гражданский брак                 1      F   компаньон     1   \n",
       "15   женат / замужем                 0      F   сотрудник     0   \n",
       "16   женат / замужем                 0      F   сотрудник     0   \n",
       "17  гражданский брак                 1      M   сотрудник     0   \n",
       "18    вдовец / вдова                 2      F   пенсионер     0   \n",
       "19         в разводе                 3      F   сотрудник     0   \n",
       "\n",
       "     total_income                                 purpose  \n",
       "0   253875.639453                           покупка жилья  \n",
       "1   112080.014102                 приобретение автомобиля  \n",
       "2   145885.952297                           покупка жилья  \n",
       "3   267628.550329              дополнительное образование  \n",
       "4   158616.077870                         сыграть свадьбу  \n",
       "5   255763.565419                           покупка жилья  \n",
       "6   240525.971920                       операции с жильем  \n",
       "7   135823.934197                             образование  \n",
       "8    95856.832424                   на проведение свадьбы  \n",
       "9   144425.938277                 покупка жилья для семьи  \n",
       "10  113943.491460                    покупка недвижимости  \n",
       "11   77069.234271       покупка коммерческой недвижимости  \n",
       "12            NaN                         сыграть свадьбу  \n",
       "13  130458.228857                 приобретение автомобиля  \n",
       "14  165127.911772              покупка жилой недвижимости  \n",
       "15  116820.904450  строительство собственной недвижимости  \n",
       "16  289202.704229                            недвижимость  \n",
       "17   90410.586745              строительство недвижимости  \n",
       "18   56823.777243      на покупку подержанного автомобиля  \n",
       "19  242831.107982            на покупку своего автомобиля  "
      ]
     },
     "execution_count": 2,
     "metadata": {},
     "output_type": "execute_result"
    }
   ],
   "source": [
    "data.head(20)"
   ]
  },
  {
   "attachments": {},
   "cell_type": "markdown",
   "id": "a0be7290",
   "metadata": {
    "deletable": false,
    "editable": false,
    "id": "1c12e233"
   },
   "source": [
    "**Вывед основной информации о датафрейме с помощью метода `info()`.**"
   ]
  },
  {
   "cell_type": "code",
   "execution_count": 3,
   "id": "eb6e98ea",
   "metadata": {
    "deletable": false,
    "id": "2b757bca",
    "outputId": "15376089-8dad-46c9-b520-c05248d43158"
   },
   "outputs": [
    {
     "name": "stdout",
     "output_type": "stream",
     "text": [
      "<class 'pandas.core.frame.DataFrame'>\n",
      "RangeIndex: 21525 entries, 0 to 21524\n",
      "Data columns (total 12 columns):\n",
      " #   Column            Non-Null Count  Dtype  \n",
      "---  ------            --------------  -----  \n",
      " 0   children          21525 non-null  int64  \n",
      " 1   days_employed     19351 non-null  float64\n",
      " 2   dob_years         21525 non-null  int64  \n",
      " 3   education         21525 non-null  object \n",
      " 4   education_id      21525 non-null  int64  \n",
      " 5   family_status     21525 non-null  object \n",
      " 6   family_status_id  21525 non-null  int64  \n",
      " 7   gender            21525 non-null  object \n",
      " 8   income_type       21525 non-null  object \n",
      " 9   debt              21525 non-null  int64  \n",
      " 10  total_income      19351 non-null  float64\n",
      " 11  purpose           21525 non-null  object \n",
      "dtypes: float64(2), int64(5), object(5)\n",
      "memory usage: 2.0+ MB\n"
     ]
    }
   ],
   "source": [
    "data.info()"
   ]
  },
  {
   "attachments": {},
   "cell_type": "markdown",
   "id": "d4c3af9c",
   "metadata": {
    "deletable": false,
    "editable": false,
    "id": "333ec665"
   },
   "source": [
    "## Предобработка данных"
   ]
  },
  {
   "attachments": {},
   "cell_type": "markdown",
   "id": "0dedbf01",
   "metadata": {
    "deletable": false,
    "editable": false,
    "id": "02d92d53"
   },
   "source": [
    "### Удаление пропусков"
   ]
  },
  {
   "attachments": {},
   "cell_type": "markdown",
   "id": "e71a8683",
   "metadata": {
    "deletable": false,
    "editable": false,
    "id": "cd84967c"
   },
   "source": [
    "**Вывод на экран количества пропущенных значений для каждого столбца**"
   ]
  },
  {
   "cell_type": "code",
   "execution_count": 4,
   "id": "5c63f884",
   "metadata": {
    "deletable": false,
    "id": "7f9b2309",
    "outputId": "81f4d817-781c-465c-ed15-91ce4446810d"
   },
   "outputs": [
    {
     "data": {
      "text/plain": [
       "children               0\n",
       "days_employed       2174\n",
       "dob_years              0\n",
       "education              0\n",
       "education_id           0\n",
       "family_status          0\n",
       "family_status_id       0\n",
       "gender                 0\n",
       "income_type            0\n",
       "debt                   0\n",
       "total_income        2174\n",
       "purpose                0\n",
       "dtype: int64"
      ]
     },
     "execution_count": 4,
     "metadata": {},
     "output_type": "execute_result"
    }
   ],
   "source": [
    "data.isna().sum()"
   ]
  },
  {
   "attachments": {},
   "cell_type": "markdown",
   "id": "6b6dd7a2",
   "metadata": {
    "deletable": false,
    "editable": false,
    "id": "db86e27b"
   },
   "source": [
    "В двух столбцах есть пропущенные значения `days_employed` и `total_income` — хранит данные о доходах. На сумму дохода сильнее всего влияет тип занятости, поэтому заполнить пропуски в этом столбце нужно медианным значением по каждому типу из столбца `income_type`. Например, у человека с типом занятости `сотрудник` пропуск в столбце `total_income` должен быть заполнен медианным доходом среди всех записей с тем же типом"
   ]
  },
  {
   "cell_type": "code",
   "execution_count": 5,
   "id": "05284669",
   "metadata": {
    "deletable": false,
    "id": "42006a93"
   },
   "outputs": [],
   "source": [
    "for t in data['income_type'].unique():\n",
    "    data.loc[(data['income_type'] == t) & (data['total_income'].isna()), 'total_income'] = \\\n",
    "    data.loc[(data['income_type'] == t), 'total_income'].median()"
   ]
  },
  {
   "attachments": {},
   "cell_type": "markdown",
   "id": "c8fea2bd",
   "metadata": {
    "deletable": false,
    "editable": false,
    "id": "89da5ece"
   },
   "source": [
    "### Обработка аномальных значений"
   ]
  },
  {
   "attachments": {},
   "cell_type": "markdown",
   "id": "345e7e53",
   "metadata": {
    "deletable": false,
    "editable": false,
    "id": "57964554"
   },
   "source": [
    "В данных могут встречаться артефакты (аномалии) — значения, которые не отражают действительность и появились по какой-то ошибке. таким артефактом будет отрицательное количество дней трудового стажа в столбце `days_employed`. Заменим все отрицательные значения положительными с помощью метода `abs()`.**"
   ]
  },
  {
   "cell_type": "code",
   "execution_count": 6,
   "id": "b2a5631f",
   "metadata": {
    "deletable": false,
    "id": "f6f055bf"
   },
   "outputs": [],
   "source": [
    "data['days_employed'] = data['days_employed'].abs()"
   ]
  },
  {
   "attachments": {},
   "cell_type": "markdown",
   "id": "1672eec4",
   "metadata": {
    "deletable": false,
    "editable": false,
    "id": "6107dd2f"
   },
   "source": [
    "**Для каждого типа занятости выведем медианное значение трудового стажа `days_employed` в днях.**"
   ]
  },
  {
   "cell_type": "code",
   "execution_count": 7,
   "id": "c42c5d9b",
   "metadata": {
    "deletable": false,
    "id": "85a5faf6",
    "outputId": "801ef80e-522b-4668-f34e-565af7432bcf"
   },
   "outputs": [
    {
     "data": {
      "text/plain": [
       "income_type\n",
       "безработный        366413.652744\n",
       "в декрете            3296.759962\n",
       "госслужащий          2689.368353\n",
       "компаньон            1547.382223\n",
       "пенсионер          365213.306266\n",
       "предприниматель       520.848083\n",
       "сотрудник            1574.202821\n",
       "студент               578.751554\n",
       "Name: days_employed, dtype: float64"
      ]
     },
     "execution_count": 7,
     "metadata": {},
     "output_type": "execute_result"
    }
   ],
   "source": [
    "data.groupby('income_type')['days_employed'].agg('median')"
   ]
  },
  {
   "attachments": {},
   "cell_type": "markdown",
   "id": "6b743847",
   "metadata": {
    "deletable": false,
    "editable": false,
    "id": "38d1a030"
   },
   "source": [
    "У двух типов (безработные и пенсионеры) получатся аномально большие значения. Исправить такие значения сложно, поэтому оставим их как есть. Тем более этот столбец не понадобится для дальнейшего исследования."
   ]
  },
  {
   "attachments": {},
   "cell_type": "markdown",
   "id": "956b10e7",
   "metadata": {
    "deletable": false,
    "editable": false,
    "id": "d8a9f147"
   },
   "source": [
    "**Выведите перечень уникальных значений столбца `children`.**"
   ]
  },
  {
   "cell_type": "code",
   "execution_count": 8,
   "id": "b202bfa5",
   "metadata": {
    "deletable": false,
    "id": "ef5056eb",
    "outputId": "6975b15c-7f95-4697-d16d-a0c79b657b03"
   },
   "outputs": [
    {
     "data": {
      "text/plain": [
       "array([ 1,  0,  3,  2, -1,  4, 20,  5])"
      ]
     },
     "execution_count": 8,
     "metadata": {},
     "output_type": "execute_result"
    }
   ],
   "source": [
    "data['children'].unique()"
   ]
  },
  {
   "attachments": {},
   "cell_type": "markdown",
   "id": "6a5cc43b",
   "metadata": {
    "deletable": false,
    "editable": false,
    "id": "40b9ebf2"
   },
   "source": [
    "**В столбце `children` есть два аномальных значения. Удалим строки, в которых встречаются такие аномальные значения из датафрейма `data`.**"
   ]
  },
  {
   "cell_type": "code",
   "execution_count": 9,
   "id": "a9dc354d",
   "metadata": {
    "deletable": false,
    "id": "3ff9801d"
   },
   "outputs": [],
   "source": [
    "data = data[(data['children'] != -1) & (data['children'] != 20)]"
   ]
  },
  {
   "attachments": {},
   "cell_type": "markdown",
   "id": "f06be91e",
   "metadata": {
    "deletable": false,
    "editable": false,
    "id": "bbc4d0ce"
   },
   "source": [
    "Ещё раз выведем перечень уникальных значений столбца `children`, чтобы убедиться, что артефакты удалены"
   ]
  },
  {
   "cell_type": "code",
   "execution_count": 10,
   "id": "6eaac579",
   "metadata": {
    "deletable": false,
    "id": "ad4fa8b7",
    "outputId": "b2097101-d49d-44d9-901b-32a65c9463d1"
   },
   "outputs": [
    {
     "data": {
      "text/plain": [
       "array([1, 0, 3, 2, 4, 5])"
      ]
     },
     "execution_count": 10,
     "metadata": {},
     "output_type": "execute_result"
    }
   ],
   "source": [
    "data['children'].unique()"
   ]
  },
  {
   "attachments": {},
   "cell_type": "markdown",
   "id": "39181cc7",
   "metadata": {
    "deletable": false,
    "editable": false,
    "id": "75440b63"
   },
   "source": [
    "### Удаление пропусков (продолжение)"
   ]
  },
  {
   "attachments": {},
   "cell_type": "markdown",
   "id": "9229b097",
   "metadata": {
    "deletable": false,
    "editable": false,
    "id": "f4ea573f"
   },
   "source": [
    "**Заполним пропуски в столбце `days_employed` медианными значениями по каждому типу занятости `income_type`.**"
   ]
  },
  {
   "cell_type": "code",
   "execution_count": 11,
   "id": "fb2c57a7",
   "metadata": {
    "deletable": false,
    "id": "af6b1a7e"
   },
   "outputs": [],
   "source": [
    "for t in data['income_type'].unique():\n",
    "    data.loc[(data['income_type'] == t) & (data['days_employed'].isna()), 'days_employed'] = \\\n",
    "    data.loc[(data['income_type'] == t), 'days_employed'].median()"
   ]
  },
  {
   "attachments": {},
   "cell_type": "markdown",
   "id": "0666ec00",
   "metadata": {
    "deletable": false,
    "editable": false,
    "id": "2753f40d"
   },
   "source": [
    "Убедимся, что все пропуски заполнены"
   ]
  },
  {
   "cell_type": "code",
   "execution_count": 12,
   "id": "e5f96a31",
   "metadata": {
    "deletable": false,
    "id": "55f78bc2",
    "outputId": "8da1e4e1-358e-4e87-98c9-f261bce0a7b2"
   },
   "outputs": [
    {
     "data": {
      "text/plain": [
       "children            0\n",
       "days_employed       0\n",
       "dob_years           0\n",
       "education           0\n",
       "education_id        0\n",
       "family_status       0\n",
       "family_status_id    0\n",
       "gender              0\n",
       "income_type         0\n",
       "debt                0\n",
       "total_income        0\n",
       "purpose             0\n",
       "dtype: int64"
      ]
     },
     "execution_count": 12,
     "metadata": {},
     "output_type": "execute_result"
    }
   ],
   "source": [
    "data.isna().sum()"
   ]
  },
  {
   "attachments": {},
   "cell_type": "markdown",
   "id": "704bad97",
   "metadata": {
    "deletable": false,
    "editable": false,
    "id": "ddc81e43"
   },
   "source": [
    "### Изменение типов данных"
   ]
  },
  {
   "attachments": {},
   "cell_type": "markdown",
   "id": "35f9c7ee",
   "metadata": {
    "deletable": false,
    "editable": false,
    "id": "42d19d24"
   },
   "source": [
    "**Заменим вещественный тип данных в столбце `total_income` на целочисленный с помощью метода `astype()`.**"
   ]
  },
  {
   "cell_type": "code",
   "execution_count": 13,
   "id": "9f4f2a42",
   "metadata": {
    "deletable": false,
    "id": "920b65ad"
   },
   "outputs": [],
   "source": [
    "data['total_income'] = data['total_income'].astype(int)"
   ]
  },
  {
   "attachments": {},
   "cell_type": "markdown",
   "id": "685d9c53",
   "metadata": {
    "deletable": false,
    "editable": false,
    "id": "80c420ba"
   },
   "source": [
    "### Обработка дубликатов"
   ]
  },
  {
   "attachments": {},
   "cell_type": "markdown",
   "id": "f755fdd4",
   "metadata": {
    "deletable": false,
    "editable": false
   },
   "source": [
    "**Обработаем неявные дубликаты в столбце `education`. В этом столбце есть одни и те же значения, но записанные по-разному: с использованием заглавных и строчных букв. Приведём их к нижнему регистру. Проверим остальные столбцы.**"
   ]
  },
  {
   "cell_type": "code",
   "execution_count": 14,
   "id": "a7544824",
   "metadata": {
    "deletable": false
   },
   "outputs": [],
   "source": [
    "data['education'] = data['education'].str.lower()"
   ]
  },
  {
   "attachments": {},
   "cell_type": "markdown",
   "id": "d4a6b11e",
   "metadata": {
    "deletable": false,
    "editable": false,
    "id": "dc587695"
   },
   "source": [
    "**Выведем на экран количество строк-дубликатов в данных. Если такие строки присутствуют, удалим их.**"
   ]
  },
  {
   "cell_type": "code",
   "execution_count": 15,
   "id": "39a6663e",
   "metadata": {
    "deletable": false,
    "id": "3ee445e4",
    "outputId": "9684deba-1934-42d1-99e1-cda61740f822"
   },
   "outputs": [
    {
     "data": {
      "text/plain": [
       "71"
      ]
     },
     "execution_count": 15,
     "metadata": {},
     "output_type": "execute_result"
    }
   ],
   "source": [
    "data.duplicated().sum()"
   ]
  },
  {
   "cell_type": "code",
   "execution_count": 16,
   "id": "2c8c6a4e",
   "metadata": {
    "deletable": false,
    "id": "8575fe05"
   },
   "outputs": [],
   "source": [
    "data = data.drop_duplicates()"
   ]
  },
  {
   "attachments": {},
   "cell_type": "markdown",
   "id": "0d87bad6",
   "metadata": {
    "deletable": false,
    "editable": false,
    "id": "9904cf55"
   },
   "source": [
    "### Категоризация данных"
   ]
  },
  {
   "attachments": {},
   "cell_type": "markdown",
   "id": "3405e002",
   "metadata": {
    "deletable": false,
    "editable": false,
    "id": "72fcc8a2"
   },
   "source": [
    "**На основании диапазонов, указанных ниже, создадим в датафрейме `data` столбец `total_income_category` с категориями:**\n",
    "\n",
    "- 0–30000 — `'E'`;\n",
    "- 30001–50000 — `'D'`;\n",
    "- 50001–200000 — `'C'`;\n",
    "- 200001–1000000 — `'B'`;\n",
    "- 1000001 и выше — `'A'`.\n",
    "\n",
    "\n",
    "**Например, кредитополучателю с доходом 25000 нужно назначить категорию `'E'`, а клиенту, получающему 235000, — `'B'`. Используем собственную функцию с именем `categorize_income()` и метод `apply()`.**"
   ]
  },
  {
   "cell_type": "code",
   "execution_count": 17,
   "id": "c11c6005",
   "metadata": {
    "deletable": false,
    "id": "e1771346"
   },
   "outputs": [],
   "source": [
    "def categorize_income(income):\n",
    "    try:\n",
    "        if 0 <= income <= 30000:\n",
    "            return 'E'\n",
    "        elif 30001 <= income <= 50000:\n",
    "            return 'D'\n",
    "        elif 50001 <= income <= 200000:\n",
    "            return 'C'\n",
    "        elif 200001 <= income <= 1000000:\n",
    "            return 'B'\n",
    "        elif income >= 1000001:\n",
    "            return 'A'\n",
    "    except:\n",
    "        pass"
   ]
  },
  {
   "cell_type": "code",
   "execution_count": 18,
   "id": "7b220996",
   "metadata": {
    "deletable": false,
    "id": "d5f3586d"
   },
   "outputs": [],
   "source": [
    "data['total_income_category'] = data['total_income'].apply(categorize_income)"
   ]
  },
  {
   "attachments": {},
   "cell_type": "markdown",
   "id": "71ceef74",
   "metadata": {
    "deletable": false,
    "editable": false,
    "id": "dde49b5c"
   },
   "source": [
    "**Выведем на экран перечень уникальных целей взятия кредита из столбца `purpose`.**"
   ]
  },
  {
   "cell_type": "code",
   "execution_count": 19,
   "id": "a511fdf3",
   "metadata": {
    "deletable": false,
    "id": "f67ce9b3",
    "outputId": "673c12d9-7d7e-4ae0-9812-c622c89dd244"
   },
   "outputs": [
    {
     "data": {
      "text/plain": [
       "array(['покупка жилья', 'приобретение автомобиля',\n",
       "       'дополнительное образование', 'сыграть свадьбу',\n",
       "       'операции с жильем', 'образование', 'на проведение свадьбы',\n",
       "       'покупка жилья для семьи', 'покупка недвижимости',\n",
       "       'покупка коммерческой недвижимости', 'покупка жилой недвижимости',\n",
       "       'строительство собственной недвижимости', 'недвижимость',\n",
       "       'строительство недвижимости', 'на покупку подержанного автомобиля',\n",
       "       'на покупку своего автомобиля',\n",
       "       'операции с коммерческой недвижимостью',\n",
       "       'строительство жилой недвижимости', 'жилье',\n",
       "       'операции со своей недвижимостью', 'автомобили',\n",
       "       'заняться образованием', 'сделка с подержанным автомобилем',\n",
       "       'получение образования', 'автомобиль', 'свадьба',\n",
       "       'получение дополнительного образования', 'покупка своего жилья',\n",
       "       'операции с недвижимостью', 'получение высшего образования',\n",
       "       'свой автомобиль', 'сделка с автомобилем',\n",
       "       'профильное образование', 'высшее образование',\n",
       "       'покупка жилья для сдачи', 'на покупку автомобиля', 'ремонт жилью',\n",
       "       'заняться высшим образованием'], dtype=object)"
      ]
     },
     "execution_count": 19,
     "metadata": {},
     "output_type": "execute_result"
    }
   ],
   "source": [
    "data['purpose'].unique()"
   ]
  },
  {
   "attachments": {},
   "cell_type": "markdown",
   "id": "4a585b49",
   "metadata": {
    "deletable": false,
    "editable": false,
    "id": "85d0aef0"
   },
   "source": [
    "**Создадим функцию, которая на основании данных из столбца `purpose` сформирует новый столбец `purpose_category`, в который войдут следующие категории:**\n",
    "\n",
    "- `'операции с автомобилем'`,\n",
    "- `'операции с недвижимостью'`,\n",
    "- `'проведение свадьбы'`,\n",
    "- `'получение образования'`.\n",
    "\n",
    "**Например, если в столбце `purpose` находится подстрока `'на покупку автомобиля'`, то в столбце `purpose_category` должна появиться строка `'операции с автомобилем'`.**\n",
    "\n",
    "**Используем собственную функцию с именем `categorize_purpose()` и метод `apply()`. Изучим данные в столбце `purpose` и определим, какие подстроки помогут правильно определить категорию.**"
   ]
  },
  {
   "cell_type": "code",
   "execution_count": 20,
   "id": "0f140fde",
   "metadata": {
    "deletable": false,
    "id": "e149fab4"
   },
   "outputs": [],
   "source": [
    "def categorize_purpose(row):\n",
    "    try:\n",
    "        if 'автом' in row:\n",
    "            return 'операции с автомобилем'\n",
    "        elif 'жил' in row or 'недвиж' in row:\n",
    "            return 'операции с недвижимостью'\n",
    "        elif 'свад' in row:\n",
    "            return 'проведение свадьбы'\n",
    "        elif 'образов' in row:\n",
    "            return 'получение образования'\n",
    "    except:\n",
    "        return 'нет категории'"
   ]
  },
  {
   "cell_type": "code",
   "execution_count": 21,
   "id": "618c1577",
   "metadata": {
    "deletable": false,
    "id": "bf36e69b"
   },
   "outputs": [],
   "source": [
    "data['purpose_category'] = data['purpose'].apply(categorize_purpose)"
   ]
  },
  {
   "attachments": {},
   "cell_type": "markdown",
   "id": "28cfe226",
   "metadata": {
    "deletable": false,
    "editable": false,
    "id": "c5d66278"
   },
   "source": [
    "#### Определим существует ли зависимость между количеством детей и возвратом кредита в срок?"
   ]
  },
  {
   "attachments": {},
   "cell_type": "markdown",
   "id": "e3ae8a29",
   "metadata": {
    "deletable": false,
    "editable": false,
    "id": "09b242bf"
   },
   "source": [
    "### Исследуем данные"
   ]
  },
  {
   "cell_type": "code",
   "execution_count": null,
   "id": "45f29be0",
   "metadata": {
    "deletable": false,
    "id": "2cacfc4a"
   },
   "outputs": [
    {
     "name": "stdout",
     "output_type": "stream",
     "text": [
      "Доля заёмщиков с задолженностью среди всех заёмщиков с количеством детей: 0 составляет 7.5%\n",
      "Доля заёмщиков с задолженностью среди всех заёмщиков с количеством детей: 1 составляет 9.2%\n",
      "Доля заёмщиков с задолженностью среди всех заёмщиков с количеством детей: 2 составляет 9.5%\n",
      "Доля заёмщиков с задолженностью среди всех заёмщиков с количеством детей: 3 составляет 8.2%\n",
      "Доля заёмщиков с задолженностью среди всех заёмщиков с количеством детей: 4 составляет 9.8%\n",
      "Доля заёмщиков с задолженностью среди всех заёмщиков с количеством детей: 5 составляет 0.0%\n"
     ]
    }
   ],
   "source": [
    "#Ранее было установленно, что уникальные значения столбца children принимают значения от 0 до 5\n",
    "#Опредилим (используя цикл for и сокращенную логическую индексацию) процентное соотношение между заёмщиками имевшими задолженность и всеми заёмщиками, имеющими одинаковое число детей\n",
    "for i in range(0,6):\n",
    "    relation = (data[(data['children'] == i) & (data['debt'] == 1)]['children'].count() / data[data['children'] == i]['children'].count())\n",
    "    print(f'Доля заёмщиков с задолженностью среди всех заёмщиков с количеством детей: {i} составляет {relation:.1%}')  "
   ]
  },
  {
   "cell_type": "code",
   "execution_count": 23,
   "id": "4a28acdb",
   "metadata": {},
   "outputs": [
    {
     "data": {
      "text/html": [
       "<div>\n",
       "<style scoped>\n",
       "    .dataframe tbody tr th:only-of-type {\n",
       "        vertical-align: middle;\n",
       "    }\n",
       "\n",
       "    .dataframe tbody tr th {\n",
       "        vertical-align: top;\n",
       "    }\n",
       "\n",
       "    .dataframe thead th {\n",
       "        text-align: right;\n",
       "    }\n",
       "</style>\n",
       "<table border=\"1\" class=\"dataframe\">\n",
       "  <thead>\n",
       "    <tr style=\"text-align: right;\">\n",
       "      <th></th>\n",
       "      <th>вероятность просрочки</th>\n",
       "      <th>количество клиентов в группе</th>\n",
       "      <th>количество просрочек в группе</th>\n",
       "    </tr>\n",
       "    <tr>\n",
       "      <th>children</th>\n",
       "      <th></th>\n",
       "      <th></th>\n",
       "      <th></th>\n",
       "    </tr>\n",
       "  </thead>\n",
       "  <tbody>\n",
       "    <tr>\n",
       "      <th>0</th>\n",
       "      <td>0.075438</td>\n",
       "      <td>14091</td>\n",
       "      <td>1063</td>\n",
       "    </tr>\n",
       "    <tr>\n",
       "      <th>1</th>\n",
       "      <td>0.092346</td>\n",
       "      <td>4808</td>\n",
       "      <td>444</td>\n",
       "    </tr>\n",
       "    <tr>\n",
       "      <th>2</th>\n",
       "      <td>0.094542</td>\n",
       "      <td>2052</td>\n",
       "      <td>194</td>\n",
       "    </tr>\n",
       "    <tr>\n",
       "      <th>3</th>\n",
       "      <td>0.081818</td>\n",
       "      <td>330</td>\n",
       "      <td>27</td>\n",
       "    </tr>\n",
       "    <tr>\n",
       "      <th>4</th>\n",
       "      <td>0.097561</td>\n",
       "      <td>41</td>\n",
       "      <td>4</td>\n",
       "    </tr>\n",
       "    <tr>\n",
       "      <th>5</th>\n",
       "      <td>0.000000</td>\n",
       "      <td>9</td>\n",
       "      <td>0</td>\n",
       "    </tr>\n",
       "  </tbody>\n",
       "</table>\n",
       "</div>"
      ],
      "text/plain": [
       "          вероятность просрочки  количество клиентов в группе  \\\n",
       "children                                                        \n",
       "0                      0.075438                         14091   \n",
       "1                      0.092346                          4808   \n",
       "2                      0.094542                          2052   \n",
       "3                      0.081818                           330   \n",
       "4                      0.097561                            41   \n",
       "5                      0.000000                             9   \n",
       "\n",
       "          количество просрочек в группе  \n",
       "children                                 \n",
       "0                                  1063  \n",
       "1                                   444  \n",
       "2                                   194  \n",
       "3                                    27  \n",
       "4                                     4  \n",
       "5                                     0  "
      ]
     },
     "metadata": {},
     "output_type": "display_data"
    }
   ],
   "source": [
    "# создадим сводную таблицу по количеству детей у заёмщиков \n",
    "data_pivot_children = data.pivot_table(index=['children'], values=['debt'], aggfunc = ['mean', 'count', 'sum']) \n",
    "data_pivot_children.columns = ['вероятность просрочки','количество клиентов в группе','количество просрочек в группе']\n",
    "display(data_pivot_children)"
   ]
  },
  {
   "attachments": {},
   "cell_type": "markdown",
   "id": "83413a6a",
   "metadata": {
    "deletable": false,
    "id": "3a6b99ec"
   },
   "source": [
    "**Вывод: вероятность появления задолженности по кредиту меньше у заёмщиков не имеющих детей**\n",
    "\n",
    "При этом, количество детей существенно не влияет на вероятность образования задолженности. Отсутствие выявленной взаимосвязи между количеством детей и вероятностью просрочки может объясняться разным количеством выборки ( с 1 ребёнком - 4808 заёмщиков, с 2 детьми - 2052 заёмщика, 3 ребенка - 330 заёмщиков, 4 ребенка - 41 заёмщик и 5 детей всего 9 заёмщиков)   "
   ]
  },
  {
   "attachments": {},
   "cell_type": "markdown",
   "id": "0e4abd0f",
   "metadata": {
    "deletable": false,
    "editable": false,
    "id": "97be82ca"
   },
   "source": [
    "#### Определим существует ли зависимость между семейным положением и возвратом кредита в срок?"
   ]
  },
  {
   "cell_type": "code",
   "execution_count": 24,
   "id": "4f6330cd",
   "metadata": {
    "deletable": false,
    "id": "dc3f7ee8",
    "scrolled": false
   },
   "outputs": [
    {
     "data": {
      "text/html": [
       "<div>\n",
       "<style scoped>\n",
       "    .dataframe tbody tr th:only-of-type {\n",
       "        vertical-align: middle;\n",
       "    }\n",
       "\n",
       "    .dataframe tbody tr th {\n",
       "        vertical-align: top;\n",
       "    }\n",
       "\n",
       "    .dataframe thead th {\n",
       "        text-align: right;\n",
       "    }\n",
       "</style>\n",
       "<table border=\"1\" class=\"dataframe\">\n",
       "  <thead>\n",
       "    <tr style=\"text-align: right;\">\n",
       "      <th></th>\n",
       "      <th>вероятность просрочки</th>\n",
       "      <th>количество клиентов в группе</th>\n",
       "      <th>количество просрочек в группе</th>\n",
       "    </tr>\n",
       "    <tr>\n",
       "      <th>family_status</th>\n",
       "      <th></th>\n",
       "      <th></th>\n",
       "      <th></th>\n",
       "    </tr>\n",
       "  </thead>\n",
       "  <tbody>\n",
       "    <tr>\n",
       "      <th>Не женат / не замужем</th>\n",
       "      <td>0.097639</td>\n",
       "      <td>2796</td>\n",
       "      <td>273</td>\n",
       "    </tr>\n",
       "    <tr>\n",
       "      <th>в разводе</th>\n",
       "      <td>0.070648</td>\n",
       "      <td>1189</td>\n",
       "      <td>84</td>\n",
       "    </tr>\n",
       "    <tr>\n",
       "      <th>вдовец / вдова</th>\n",
       "      <td>0.066246</td>\n",
       "      <td>951</td>\n",
       "      <td>63</td>\n",
       "    </tr>\n",
       "    <tr>\n",
       "      <th>гражданский брак</th>\n",
       "      <td>0.093130</td>\n",
       "      <td>4134</td>\n",
       "      <td>385</td>\n",
       "    </tr>\n",
       "    <tr>\n",
       "      <th>женат / замужем</th>\n",
       "      <td>0.075606</td>\n",
       "      <td>12261</td>\n",
       "      <td>927</td>\n",
       "    </tr>\n",
       "  </tbody>\n",
       "</table>\n",
       "</div>"
      ],
      "text/plain": [
       "                       вероятность просрочки  количество клиентов в группе  \\\n",
       "family_status                                                                \n",
       "Не женат / не замужем               0.097639                          2796   \n",
       "в разводе                           0.070648                          1189   \n",
       "вдовец / вдова                      0.066246                           951   \n",
       "гражданский брак                    0.093130                          4134   \n",
       "женат / замужем                     0.075606                         12261   \n",
       "\n",
       "                       количество просрочек в группе  \n",
       "family_status                                         \n",
       "Не женат / не замужем                            273  \n",
       "в разводе                                         84  \n",
       "вдовец / вдова                                    63  \n",
       "гражданский брак                                 385  \n",
       "женат / замужем                                  927  "
      ]
     },
     "metadata": {},
     "output_type": "display_data"
    }
   ],
   "source": [
    "# создадим сводную таблицу по колонке  \n",
    "data_pivot_married = data.pivot_table(index=['family_status'], values=['debt'], aggfunc = ['mean', 'count', 'sum']) \n",
    "data_pivot_married.columns = ['вероятность просрочки','количество клиентов в группе','количество просрочек в группе']\n",
    "display(data_pivot_married)"
   ]
  },
  {
   "attachments": {},
   "cell_type": "markdown",
   "id": "d8228053",
   "metadata": {
    "deletable": false,
    "id": "1cef7837"
   },
   "source": [
    "**Вывод: самая низкая вероятность появления задолженности по кредиту у заёмщиков, имеющих статус 'вдовец / вдова' и 'в разводе'** \n",
    "\n"
   ]
  },
  {
   "attachments": {},
   "cell_type": "markdown",
   "id": "f824f566",
   "metadata": {
    "deletable": false,
    "editable": false,
    "id": "1e8b2fca"
   },
   "source": [
    "#### Определим существует ли зависимость между уровнем дохода и возвратом кредита в срок?"
   ]
  },
  {
   "cell_type": "code",
   "execution_count": 25,
   "id": "e996b255",
   "metadata": {
    "deletable": false,
    "id": "cd7e3720"
   },
   "outputs": [
    {
     "name": "stdout",
     "output_type": "stream",
     "text": [
      "Риск задолженности для категории B составляет, 7.1%\n",
      "Риск задолженности для категории C составляет, 8.5%\n",
      "Риск задолженности для категории D составляет, 6.0%\n",
      "Риск задолженности для категории E составляет, 9.1%\n",
      "Риск задолженности для категории A составляет, 8.0%\n"
     ]
    },
    {
     "data": {
      "text/html": [
       "<div>\n",
       "<style scoped>\n",
       "    .dataframe tbody tr th:only-of-type {\n",
       "        vertical-align: middle;\n",
       "    }\n",
       "\n",
       "    .dataframe tbody tr th {\n",
       "        vertical-align: top;\n",
       "    }\n",
       "\n",
       "    .dataframe thead th {\n",
       "        text-align: right;\n",
       "    }\n",
       "</style>\n",
       "<table border=\"1\" class=\"dataframe\">\n",
       "  <thead>\n",
       "    <tr style=\"text-align: right;\">\n",
       "      <th></th>\n",
       "      <th>вероятность просрочки</th>\n",
       "      <th>количество клиентов в группе</th>\n",
       "      <th>количество просрочек в группе</th>\n",
       "    </tr>\n",
       "    <tr>\n",
       "      <th>total_income_category</th>\n",
       "      <th></th>\n",
       "      <th></th>\n",
       "      <th></th>\n",
       "    </tr>\n",
       "  </thead>\n",
       "  <tbody>\n",
       "    <tr>\n",
       "      <th>A</th>\n",
       "      <td>0.080000</td>\n",
       "      <td>25</td>\n",
       "      <td>2</td>\n",
       "    </tr>\n",
       "    <tr>\n",
       "      <th>B</th>\n",
       "      <td>0.070602</td>\n",
       "      <td>5014</td>\n",
       "      <td>354</td>\n",
       "    </tr>\n",
       "    <tr>\n",
       "      <th>C</th>\n",
       "      <td>0.084982</td>\n",
       "      <td>15921</td>\n",
       "      <td>1353</td>\n",
       "    </tr>\n",
       "    <tr>\n",
       "      <th>D</th>\n",
       "      <td>0.060172</td>\n",
       "      <td>349</td>\n",
       "      <td>21</td>\n",
       "    </tr>\n",
       "    <tr>\n",
       "      <th>E</th>\n",
       "      <td>0.090909</td>\n",
       "      <td>22</td>\n",
       "      <td>2</td>\n",
       "    </tr>\n",
       "  </tbody>\n",
       "</table>\n",
       "</div>"
      ],
      "text/plain": [
       "                       вероятность просрочки  количество клиентов в группе  \\\n",
       "total_income_category                                                        \n",
       "A                                   0.080000                            25   \n",
       "B                                   0.070602                          5014   \n",
       "C                                   0.084982                         15921   \n",
       "D                                   0.060172                           349   \n",
       "E                                   0.090909                            22   \n",
       "\n",
       "                       количество просрочек в группе  \n",
       "total_income_category                                 \n",
       "A                                                  2  \n",
       "B                                                354  \n",
       "C                                               1353  \n",
       "D                                                 21  \n",
       "E                                                  2  "
      ]
     },
     "metadata": {},
     "output_type": "display_data"
    }
   ],
   "source": [
    "# Установим возможную зависимось между уровнем дохода и возвратом кредита в срок путем группировки по категории доходов (столбец 'total_income_category')\n",
    "# Иттерируем по уникальным значениям 'total_income_category'. Применим сокращенную логическую индексацию. Метод .sum() т.к. значениями столбца 'debt' могут быть только числа 1 или 0 в зависимости от наличия или отсутствия задолженности\n",
    "for category in data['total_income_category'].unique():\n",
    "    category_count = data[data['total_income_category'] == category]['total_income_category'].count() #Количество человек имеющих категорию доходов category\n",
    "    category_debt = data[(data['total_income_category'] == category) & (data['debt'] != 0)]['debt'].sum() #Количество человек имеющих категорию доходов category и имеющих просрочку\n",
    "    print(f'Риск задолженности для категории {category} составляет, {category_debt/category_count:.1%}')\n",
    "\n",
    "#Создадим сводную таблицу \n",
    "data_pivot_category_incom = data.pivot_table(index=['total_income_category'], values=['debt'], aggfunc = ['mean', 'count', 'sum']) \n",
    "data_pivot_category_incom.columns = ['вероятность просрочки','количество клиентов в группе','количество просрочек в группе']\n",
    "display(data_pivot_category_incom)    \n"
   ]
  },
  {
   "attachments": {},
   "cell_type": "markdown",
   "id": "1f28b23e",
   "metadata": {
    "deletable": false,
    "id": "e8593def"
   },
   "source": [
    "**Вывод: Вероятность появления задолженности по кредитам у заёмщиков категории \"С\" больше чем у заёмщиков категории \"В\". В связи с малой выборкой заёмщиков с категориями \"A\", \"E\" и \"D\" сделать достоверные выводы о наличии зависимости между уровнем дохода и возвратом кредита в срок по данным категориям не представляется возможным** "
   ]
  },
  {
   "attachments": {},
   "cell_type": "markdown",
   "id": "24e6d8c7",
   "metadata": {
    "deletable": false,
    "editable": false,
    "id": "99ecbd1f"
   },
   "source": [
    "#### Определим как разные цели кредита влияют на его возврат в срок?"
   ]
  },
  {
   "cell_type": "code",
   "execution_count": 26,
   "id": "e360991b",
   "metadata": {
    "deletable": false,
    "id": "2b687290"
   },
   "outputs": [
    {
     "name": "stdout",
     "output_type": "stream",
     "text": [
      "Риск для категории: операции с недвижимостью составляет, 7.3%\n",
      "Риск для категории: операции с автомобилем составляет, 9.3%\n",
      "Риск для категории: получение образования составляет, 9.3%\n",
      "Риск для категории: проведение свадьбы составляет, 7.9%\n"
     ]
    },
    {
     "data": {
      "text/html": [
       "<div>\n",
       "<style scoped>\n",
       "    .dataframe tbody tr th:only-of-type {\n",
       "        vertical-align: middle;\n",
       "    }\n",
       "\n",
       "    .dataframe tbody tr th {\n",
       "        vertical-align: top;\n",
       "    }\n",
       "\n",
       "    .dataframe thead th {\n",
       "        text-align: right;\n",
       "    }\n",
       "</style>\n",
       "<table border=\"1\" class=\"dataframe\">\n",
       "  <thead>\n",
       "    <tr style=\"text-align: right;\">\n",
       "      <th></th>\n",
       "      <th>вероятность просрочки</th>\n",
       "      <th>количество клиентов в группе</th>\n",
       "      <th>количество просрочек в группе</th>\n",
       "    </tr>\n",
       "    <tr>\n",
       "      <th>purpose_category</th>\n",
       "      <th></th>\n",
       "      <th></th>\n",
       "      <th></th>\n",
       "    </tr>\n",
       "  </thead>\n",
       "  <tbody>\n",
       "    <tr>\n",
       "      <th>операции с автомобилем</th>\n",
       "      <td>0.093480</td>\n",
       "      <td>4279</td>\n",
       "      <td>400</td>\n",
       "    </tr>\n",
       "    <tr>\n",
       "      <th>операции с недвижимостью</th>\n",
       "      <td>0.072551</td>\n",
       "      <td>10751</td>\n",
       "      <td>780</td>\n",
       "    </tr>\n",
       "    <tr>\n",
       "      <th>получение образования</th>\n",
       "      <td>0.092528</td>\n",
       "      <td>3988</td>\n",
       "      <td>369</td>\n",
       "    </tr>\n",
       "    <tr>\n",
       "      <th>проведение свадьбы</th>\n",
       "      <td>0.079118</td>\n",
       "      <td>2313</td>\n",
       "      <td>183</td>\n",
       "    </tr>\n",
       "  </tbody>\n",
       "</table>\n",
       "</div>"
      ],
      "text/plain": [
       "                          вероятность просрочки  количество клиентов в группе  \\\n",
       "purpose_category                                                                \n",
       "операции с автомобилем                 0.093480                          4279   \n",
       "операции с недвижимостью               0.072551                         10751   \n",
       "получение образования                  0.092528                          3988   \n",
       "проведение свадьбы                     0.079118                          2313   \n",
       "\n",
       "                          количество просрочек в группе  \n",
       "purpose_category                                         \n",
       "операции с автомобилем                              400  \n",
       "операции с недвижимостью                            780  \n",
       "получение образования                               369  \n",
       "проведение свадьбы                                  183  "
      ]
     },
     "metadata": {},
     "output_type": "display_data"
    }
   ],
   "source": [
    "# Установим возможную зависимось между целями кредитования и возвратом кредита в срок путем группировки по категории дохода заёмщиков\n",
    "# Применим метод .sum() т.к. значениями столбца 'debt' могут быть числа 1 или 0 в зависимости от наличия или отсутствия задолженности\n",
    "for purpose_category in data['purpose_category'].unique():\n",
    "    category_count = data[data['purpose_category'] == purpose_category]['purpose_category'].count() #Количество человек имеющих категорию доходов category\n",
    "    category_debt = data[(data['purpose_category'] == purpose_category) & (data['debt'] != 0)]['debt'].sum() #Количество человек имеющих категорию доходов category и имеющих просрочку\n",
    "    print(f'Риск для категории: {purpose_category} составляет, {category_debt/category_count:.1%}')\n",
    "\n",
    "#Создадим сводную таблицу \n",
    "data_pivot_purpose_category = data.pivot_table(index=['purpose_category'], values=['debt'], aggfunc = ['mean', 'count', 'sum']) \n",
    "data_pivot_purpose_category.columns = ['вероятность просрочки','количество клиентов в группе','количество просрочек в группе']\n",
    "display(data_pivot_purpose_category)    \n"
   ]
  },
  {
   "attachments": {},
   "cell_type": "markdown",
   "id": "595028e2",
   "metadata": {
    "deletable": false,
    "id": "b4bb2ce6"
   },
   "source": [
    "**Вывод: более высокий риск появления задолженности для кредитов, связанных с покупкой автотранспорта и с получением образования**\n",
    "\n",
    "Но в целом, разница между вероятностью появления просрочки для разных целей не велика и может быть связана с недостаточным количеством данных:\n",
    "1. Риск для категории: операции с недвижимостью составляет, 7.3%\n",
    "2. Риск для категории: операции с автомобилем составляет, 9.3%\n",
    "3. Риск для категории: получение образования составляет, 9.3%\n",
    "4. Риск для категории: проведение свадьбы составляет, 7.9%"
   ]
  },
  {
   "attachments": {},
   "cell_type": "markdown",
   "id": "7e3716d3",
   "metadata": {
    "deletable": false,
    "editable": false,
    "id": "6db5255a"
   },
   "source": [
    "### Общий вывод"
   ]
  },
  {
   "attachments": {},
   "cell_type": "markdown",
   "id": "b10ab8e0",
   "metadata": {
    "deletable": false,
    "id": "bad65432"
   },
   "source": [
    "С помощью Python и библиотеки pandas было проведено исследование надёжности заёмщиков. Используя при анализе данных методы Python и библиотеки pandas были сделаны следующие выводы:\n",
    "1. вероятность появления задолженности по кредиту больше у заёмщиков имеющих детей;\n",
    "2. самая низкая вероятность появления задолженности по кредиту у заёмщиков, имеющих статус 'вдовец / вдова' и 'в разводе', а самая высокая вероятность у заёмщиков с категорией 'гражданский брак';\n",
    "3. вероятность появления задолженности по кредитам у заёмщиков категории \"С\" больше чем у заёмщиков категории \"В\". \n",
    "\n",
    "*Выводы, которые нуждаются в дополнительной проверке и могут быть сделаны в данном исследовании из-за различного количества данных по категориям заёмщиков:*\n",
    "1. более высокий риск появления задолженности по кредитам у заёмщиков, имеющих категорию дохода «Е» (0–30000) и «С» (50001–200000)\n",
    "2. более высокий риск появления задолженности возникает для кредитов, связанных с покупкой автотранспорта и с получением образования."
   ]
  }
 ],
 "metadata": {
  "ExecuteTimeLog": [
   {
    "duration": 44,
    "start_time": "2022-09-27T08:36:42.801Z"
   },
   {
    "duration": 437,
    "start_time": "2022-09-27T08:36:51.412Z"
   },
   {
    "duration": 22,
    "start_time": "2022-09-27T08:36:51.851Z"
   },
   {
    "duration": 15,
    "start_time": "2022-09-27T08:36:51.875Z"
   },
   {
    "duration": 9,
    "start_time": "2022-09-27T08:36:51.892Z"
   },
   {
    "duration": 35,
    "start_time": "2022-09-27T08:36:51.903Z"
   },
   {
    "duration": 4,
    "start_time": "2022-09-27T08:36:51.940Z"
   },
   {
    "duration": 11,
    "start_time": "2022-09-27T08:36:51.945Z"
   },
   {
    "duration": 24,
    "start_time": "2022-09-27T08:36:51.958Z"
   },
   {
    "duration": 11,
    "start_time": "2022-09-27T08:36:51.984Z"
   },
   {
    "duration": 8,
    "start_time": "2022-09-27T08:36:51.997Z"
   },
   {
    "duration": 34,
    "start_time": "2022-09-27T08:36:52.006Z"
   },
   {
    "duration": 9,
    "start_time": "2022-09-27T08:36:52.042Z"
   },
   {
    "duration": 27,
    "start_time": "2022-09-27T08:36:52.053Z"
   },
   {
    "duration": 14,
    "start_time": "2022-09-27T08:36:52.082Z"
   },
   {
    "duration": 21,
    "start_time": "2022-09-27T08:36:52.098Z"
   },
   {
    "duration": 17,
    "start_time": "2022-09-27T08:36:52.121Z"
   },
   {
    "duration": 6,
    "start_time": "2022-09-27T08:36:52.139Z"
   },
   {
    "duration": 37,
    "start_time": "2022-09-27T08:36:52.146Z"
   },
   {
    "duration": 5,
    "start_time": "2022-09-27T08:36:52.185Z"
   },
   {
    "duration": 4,
    "start_time": "2022-09-27T08:36:52.192Z"
   },
   {
    "duration": 13,
    "start_time": "2022-09-27T08:36:52.197Z"
   },
   {
    "duration": 15,
    "start_time": "2022-09-27T08:36:52.212Z"
   },
   {
    "duration": 57,
    "start_time": "2022-09-27T08:36:52.229Z"
   },
   {
    "duration": 0,
    "start_time": "2022-09-27T08:36:52.288Z"
   },
   {
    "duration": 0,
    "start_time": "2022-09-27T08:36:52.290Z"
   },
   {
    "duration": 0,
    "start_time": "2022-09-27T08:36:52.291Z"
   },
   {
    "duration": 3,
    "start_time": "2022-09-27T08:41:10.500Z"
   },
   {
    "duration": 6,
    "start_time": "2022-09-27T08:41:22.096Z"
   },
   {
    "duration": 5,
    "start_time": "2022-09-27T18:00:14.145Z"
   },
   {
    "duration": 437,
    "start_time": "2022-09-27T18:00:32.401Z"
   },
   {
    "duration": 21,
    "start_time": "2022-09-27T18:00:32.840Z"
   },
   {
    "duration": 17,
    "start_time": "2022-09-27T18:00:32.862Z"
   },
   {
    "duration": 9,
    "start_time": "2022-09-27T18:00:32.882Z"
   },
   {
    "duration": 33,
    "start_time": "2022-09-27T18:00:32.893Z"
   },
   {
    "duration": 3,
    "start_time": "2022-09-27T18:00:32.928Z"
   },
   {
    "duration": 10,
    "start_time": "2022-09-27T18:00:32.933Z"
   },
   {
    "duration": 35,
    "start_time": "2022-09-27T18:00:32.944Z"
   },
   {
    "duration": 8,
    "start_time": "2022-09-27T18:00:32.981Z"
   },
   {
    "duration": 4,
    "start_time": "2022-09-27T18:00:32.993Z"
   },
   {
    "duration": 36,
    "start_time": "2022-09-27T18:00:32.998Z"
   },
   {
    "duration": 43,
    "start_time": "2022-09-27T18:00:33.036Z"
   },
   {
    "duration": 4,
    "start_time": "2022-09-27T18:00:33.081Z"
   },
   {
    "duration": 12,
    "start_time": "2022-09-27T18:00:33.087Z"
   },
   {
    "duration": 22,
    "start_time": "2022-09-27T18:00:33.100Z"
   },
   {
    "duration": 17,
    "start_time": "2022-09-27T18:00:33.124Z"
   },
   {
    "duration": 3,
    "start_time": "2022-09-27T18:00:33.142Z"
   },
   {
    "duration": 10,
    "start_time": "2022-09-27T18:00:33.176Z"
   },
   {
    "duration": 9,
    "start_time": "2022-09-27T18:00:33.187Z"
   },
   {
    "duration": 3,
    "start_time": "2022-09-27T18:00:33.198Z"
   },
   {
    "duration": 13,
    "start_time": "2022-09-27T18:00:33.202Z"
   },
   {
    "duration": 4,
    "start_time": "2022-09-27T18:00:33.216Z"
   },
   {
    "duration": 56,
    "start_time": "2022-09-27T18:00:33.222Z"
   },
   {
    "duration": 0,
    "start_time": "2022-09-27T18:00:33.280Z"
   },
   {
    "duration": 0,
    "start_time": "2022-09-27T18:00:33.281Z"
   },
   {
    "duration": 0,
    "start_time": "2022-09-27T18:00:33.282Z"
   },
   {
    "duration": 5,
    "start_time": "2022-09-27T18:00:53.845Z"
   },
   {
    "duration": 27,
    "start_time": "2022-09-27T18:01:09.662Z"
   },
   {
    "duration": 22,
    "start_time": "2022-09-27T18:15:52.674Z"
   },
   {
    "duration": 24,
    "start_time": "2022-09-27T18:16:10.307Z"
   },
   {
    "duration": 48,
    "start_time": "2022-09-27T18:17:33.394Z"
   },
   {
    "duration": 36,
    "start_time": "2022-09-27T18:17:47.871Z"
   },
   {
    "duration": 25,
    "start_time": "2022-09-27T18:19:02.897Z"
   },
   {
    "duration": 25,
    "start_time": "2022-09-27T18:19:55.877Z"
   },
   {
    "duration": 25,
    "start_time": "2022-09-27T18:20:17.766Z"
   },
   {
    "duration": 32,
    "start_time": "2022-09-27T18:20:45.788Z"
   },
   {
    "duration": 15,
    "start_time": "2022-09-27T18:21:40.075Z"
   },
   {
    "duration": 15,
    "start_time": "2022-09-27T18:22:34.041Z"
   },
   {
    "duration": 14,
    "start_time": "2022-09-27T18:25:25.509Z"
   },
   {
    "duration": 20,
    "start_time": "2022-09-27T18:26:45.566Z"
   },
   {
    "duration": 72,
    "start_time": "2022-09-27T18:32:42.265Z"
   },
   {
    "duration": 18,
    "start_time": "2022-09-27T18:33:33.829Z"
   },
   {
    "duration": 17,
    "start_time": "2022-09-27T18:35:13.282Z"
   },
   {
    "duration": 18,
    "start_time": "2022-09-27T18:36:27.360Z"
   },
   {
    "duration": 23,
    "start_time": "2022-09-27T18:38:55.972Z"
   },
   {
    "duration": 19,
    "start_time": "2022-09-27T18:39:28.714Z"
   },
   {
    "duration": 19,
    "start_time": "2022-09-27T18:44:31.514Z"
   },
   {
    "duration": 18,
    "start_time": "2022-09-27T18:46:21.570Z"
   },
   {
    "duration": 17,
    "start_time": "2022-09-27T18:46:30.097Z"
   },
   {
    "duration": 16,
    "start_time": "2022-09-27T18:52:06.807Z"
   },
   {
    "duration": 17,
    "start_time": "2022-09-27T18:56:14.171Z"
   },
   {
    "duration": 17,
    "start_time": "2022-09-27T18:56:45.148Z"
   },
   {
    "duration": 19,
    "start_time": "2022-09-27T19:03:15.473Z"
   },
   {
    "duration": 16,
    "start_time": "2022-09-27T19:03:22.305Z"
   },
   {
    "duration": 17,
    "start_time": "2022-09-27T19:06:29.365Z"
   },
   {
    "duration": 55,
    "start_time": "2022-09-28T03:58:02.555Z"
   },
   {
    "duration": 534,
    "start_time": "2022-09-28T03:58:13.198Z"
   },
   {
    "duration": 22,
    "start_time": "2022-09-28T03:58:13.734Z"
   },
   {
    "duration": 19,
    "start_time": "2022-09-28T03:58:13.758Z"
   },
   {
    "duration": 11,
    "start_time": "2022-09-28T03:58:13.779Z"
   },
   {
    "duration": 35,
    "start_time": "2022-09-28T03:58:13.791Z"
   },
   {
    "duration": 3,
    "start_time": "2022-09-28T03:58:13.828Z"
   },
   {
    "duration": 12,
    "start_time": "2022-09-28T03:58:13.833Z"
   },
   {
    "duration": 6,
    "start_time": "2022-09-28T03:58:13.848Z"
   },
   {
    "duration": 10,
    "start_time": "2022-09-28T03:58:13.856Z"
   },
   {
    "duration": 6,
    "start_time": "2022-09-28T03:58:13.888Z"
   },
   {
    "duration": 39,
    "start_time": "2022-09-28T03:58:13.896Z"
   },
   {
    "duration": 9,
    "start_time": "2022-09-28T03:58:13.937Z"
   },
   {
    "duration": 4,
    "start_time": "2022-09-28T03:58:13.947Z"
   },
   {
    "duration": 13,
    "start_time": "2022-09-28T03:58:13.952Z"
   },
   {
    "duration": 42,
    "start_time": "2022-09-28T03:58:13.966Z"
   },
   {
    "duration": 18,
    "start_time": "2022-09-28T03:58:14.010Z"
   },
   {
    "duration": 4,
    "start_time": "2022-09-28T03:58:14.029Z"
   },
   {
    "duration": 19,
    "start_time": "2022-09-28T03:58:14.034Z"
   },
   {
    "duration": 10,
    "start_time": "2022-09-28T03:58:14.055Z"
   },
   {
    "duration": 22,
    "start_time": "2022-09-28T03:58:14.068Z"
   },
   {
    "duration": 13,
    "start_time": "2022-09-28T03:58:14.092Z"
   },
   {
    "duration": 95,
    "start_time": "2022-09-28T03:58:14.107Z"
   },
   {
    "duration": 0,
    "start_time": "2022-09-28T03:58:14.203Z"
   },
   {
    "duration": 0,
    "start_time": "2022-09-28T03:58:14.205Z"
   },
   {
    "duration": 0,
    "start_time": "2022-09-28T03:58:14.206Z"
   },
   {
    "duration": 35,
    "start_time": "2022-09-28T03:58:38.747Z"
   },
   {
    "duration": 31,
    "start_time": "2022-09-28T03:59:26.712Z"
   },
   {
    "duration": 24,
    "start_time": "2022-09-28T03:59:58.172Z"
   },
   {
    "duration": 20,
    "start_time": "2022-09-28T04:00:19.288Z"
   },
   {
    "duration": 85,
    "start_time": "2022-09-28T04:05:42.951Z"
   },
   {
    "duration": 27,
    "start_time": "2022-09-28T04:07:00.409Z"
   },
   {
    "duration": 26,
    "start_time": "2022-09-28T04:07:41.613Z"
   },
   {
    "duration": 27,
    "start_time": "2022-09-28T04:08:07.174Z"
   },
   {
    "duration": 24,
    "start_time": "2022-09-28T04:08:44.085Z"
   },
   {
    "duration": 26,
    "start_time": "2022-09-28T04:09:35.521Z"
   },
   {
    "duration": 25,
    "start_time": "2022-09-28T04:10:21.946Z"
   },
   {
    "duration": 32,
    "start_time": "2022-09-28T04:10:51.848Z"
   },
   {
    "duration": 23,
    "start_time": "2022-09-28T04:11:10.782Z"
   },
   {
    "duration": 26,
    "start_time": "2022-09-28T04:11:39.702Z"
   },
   {
    "duration": 27,
    "start_time": "2022-09-28T04:14:04.218Z"
   },
   {
    "duration": 77,
    "start_time": "2022-09-28T04:14:25.510Z"
   },
   {
    "duration": 78,
    "start_time": "2022-09-28T04:14:43.623Z"
   },
   {
    "duration": 29,
    "start_time": "2022-09-28T04:15:45.838Z"
   },
   {
    "duration": 501,
    "start_time": "2022-09-28T04:16:01.308Z"
   },
   {
    "duration": 28,
    "start_time": "2022-09-28T04:16:01.812Z"
   },
   {
    "duration": 21,
    "start_time": "2022-09-28T04:16:01.842Z"
   },
   {
    "duration": 29,
    "start_time": "2022-09-28T04:16:01.866Z"
   },
   {
    "duration": 56,
    "start_time": "2022-09-28T04:16:01.897Z"
   },
   {
    "duration": 4,
    "start_time": "2022-09-28T04:16:01.955Z"
   },
   {
    "duration": 17,
    "start_time": "2022-09-28T04:16:01.961Z"
   },
   {
    "duration": 5,
    "start_time": "2022-09-28T04:16:01.988Z"
   },
   {
    "duration": 8,
    "start_time": "2022-09-28T04:16:01.994Z"
   },
   {
    "duration": 6,
    "start_time": "2022-09-28T04:16:02.004Z"
   },
   {
    "duration": 38,
    "start_time": "2022-09-28T04:16:02.012Z"
   },
   {
    "duration": 10,
    "start_time": "2022-09-28T04:16:02.051Z"
   },
   {
    "duration": 29,
    "start_time": "2022-09-28T04:16:02.062Z"
   },
   {
    "duration": 17,
    "start_time": "2022-09-28T04:16:02.093Z"
   },
   {
    "duration": 30,
    "start_time": "2022-09-28T04:16:02.111Z"
   },
   {
    "duration": 16,
    "start_time": "2022-09-28T04:16:02.143Z"
   },
   {
    "duration": 3,
    "start_time": "2022-09-28T04:16:02.161Z"
   },
   {
    "duration": 23,
    "start_time": "2022-09-28T04:16:02.166Z"
   },
   {
    "duration": 6,
    "start_time": "2022-09-28T04:16:02.190Z"
   },
   {
    "duration": 5,
    "start_time": "2022-09-28T04:16:02.198Z"
   },
   {
    "duration": 24,
    "start_time": "2022-09-28T04:16:02.205Z"
   },
   {
    "duration": 88,
    "start_time": "2022-09-28T04:16:02.230Z"
   },
   {
    "duration": 0,
    "start_time": "2022-09-28T04:16:02.320Z"
   },
   {
    "duration": 0,
    "start_time": "2022-09-28T04:16:02.322Z"
   },
   {
    "duration": 0,
    "start_time": "2022-09-28T04:16:02.323Z"
   },
   {
    "duration": 26,
    "start_time": "2022-09-28T04:16:10.706Z"
   },
   {
    "duration": 22,
    "start_time": "2022-09-28T04:16:20.290Z"
   },
   {
    "duration": 6,
    "start_time": "2022-09-28T04:17:01.484Z"
   },
   {
    "duration": 699,
    "start_time": "2022-09-28T04:17:30.151Z"
   },
   {
    "duration": 26,
    "start_time": "2022-09-28T04:21:05.005Z"
   },
   {
    "duration": 8,
    "start_time": "2022-09-28T04:23:28.876Z"
   },
   {
    "duration": 22,
    "start_time": "2022-09-28T04:23:54.784Z"
   },
   {
    "duration": 25,
    "start_time": "2022-09-28T04:25:26.053Z"
   },
   {
    "duration": 24,
    "start_time": "2022-09-28T04:27:24.169Z"
   },
   {
    "duration": 25,
    "start_time": "2022-09-28T04:27:48.699Z"
   },
   {
    "duration": 38,
    "start_time": "2022-09-28T04:36:48.275Z"
   },
   {
    "duration": 31,
    "start_time": "2022-09-28T04:36:59.179Z"
   },
   {
    "duration": 27,
    "start_time": "2022-09-28T04:37:10.819Z"
   },
   {
    "duration": 30,
    "start_time": "2022-09-28T04:46:54.819Z"
   },
   {
    "duration": 28,
    "start_time": "2022-09-28T04:47:13.254Z"
   },
   {
    "duration": 30,
    "start_time": "2022-09-28T04:47:59.442Z"
   },
   {
    "duration": 96,
    "start_time": "2022-09-28T04:51:09.415Z"
   },
   {
    "duration": 30,
    "start_time": "2022-09-28T04:53:17.626Z"
   },
   {
    "duration": 83,
    "start_time": "2022-09-28T04:56:09.968Z"
   },
   {
    "duration": 44,
    "start_time": "2022-09-28T04:56:21.328Z"
   },
   {
    "duration": 39,
    "start_time": "2022-09-28T04:57:36.421Z"
   },
   {
    "duration": 44,
    "start_time": "2022-09-28T04:57:44.284Z"
   },
   {
    "duration": 48,
    "start_time": "2022-09-28T04:58:38.053Z"
   },
   {
    "duration": 40,
    "start_time": "2022-09-28T04:59:48.417Z"
   },
   {
    "duration": 81,
    "start_time": "2022-09-28T05:00:40.969Z"
   },
   {
    "duration": 38,
    "start_time": "2022-09-28T05:01:34.465Z"
   },
   {
    "duration": 38,
    "start_time": "2022-09-28T05:02:26.835Z"
   },
   {
    "duration": 36,
    "start_time": "2022-09-28T05:04:24.649Z"
   },
   {
    "duration": 42,
    "start_time": "2022-09-28T05:05:08.214Z"
   },
   {
    "duration": 31,
    "start_time": "2022-09-28T05:05:22.698Z"
   },
   {
    "duration": 31,
    "start_time": "2022-09-28T05:05:58.626Z"
   },
   {
    "duration": 31,
    "start_time": "2022-09-28T05:06:07.961Z"
   },
   {
    "duration": 30,
    "start_time": "2022-09-28T05:07:08.799Z"
   },
   {
    "duration": 25,
    "start_time": "2022-09-28T05:14:27.332Z"
   },
   {
    "duration": 26,
    "start_time": "2022-09-28T05:16:29.273Z"
   },
   {
    "duration": 26,
    "start_time": "2022-09-28T05:16:44.481Z"
   },
   {
    "duration": 17,
    "start_time": "2022-09-28T05:19:12.258Z"
   },
   {
    "duration": 13,
    "start_time": "2022-09-28T05:19:16.957Z"
   },
   {
    "duration": 15,
    "start_time": "2022-09-28T05:21:44.447Z"
   },
   {
    "duration": 20,
    "start_time": "2022-09-28T05:54:08.490Z"
   },
   {
    "duration": 18,
    "start_time": "2022-09-28T05:54:46.298Z"
   },
   {
    "duration": 746,
    "start_time": "2022-09-28T06:06:11.754Z"
   },
   {
    "duration": 1244,
    "start_time": "2022-09-28T06:06:33.338Z"
   },
   {
    "duration": 72,
    "start_time": "2022-09-28T06:15:59.318Z"
   },
   {
    "duration": 73,
    "start_time": "2022-09-28T06:17:32.877Z"
   },
   {
    "duration": 192,
    "start_time": "2022-09-28T06:18:25.380Z"
   },
   {
    "duration": 93,
    "start_time": "2022-09-28T06:30:20.407Z"
   },
   {
    "duration": 18,
    "start_time": "2022-09-28T06:32:47.740Z"
   },
   {
    "duration": 15,
    "start_time": "2022-09-28T06:33:08.405Z"
   },
   {
    "duration": 40,
    "start_time": "2022-09-28T06:36:44.096Z"
   },
   {
    "duration": 46,
    "start_time": "2022-09-28T06:39:49.459Z"
   },
   {
    "duration": 30,
    "start_time": "2022-09-28T06:40:16.666Z"
   },
   {
    "duration": 25,
    "start_time": "2022-09-28T06:40:36.956Z"
   },
   {
    "duration": 28,
    "start_time": "2022-09-28T06:40:53.219Z"
   },
   {
    "duration": 514,
    "start_time": "2022-09-28T06:41:06.680Z"
   },
   {
    "duration": 23,
    "start_time": "2022-09-28T06:41:07.196Z"
   },
   {
    "duration": 15,
    "start_time": "2022-09-28T06:41:07.220Z"
   },
   {
    "duration": 12,
    "start_time": "2022-09-28T06:41:07.237Z"
   },
   {
    "duration": 54,
    "start_time": "2022-09-28T06:41:07.251Z"
   },
   {
    "duration": 4,
    "start_time": "2022-09-28T06:41:07.307Z"
   },
   {
    "duration": 19,
    "start_time": "2022-09-28T06:41:07.313Z"
   },
   {
    "duration": 5,
    "start_time": "2022-09-28T06:41:07.334Z"
   },
   {
    "duration": 10,
    "start_time": "2022-09-28T06:41:07.340Z"
   },
   {
    "duration": 5,
    "start_time": "2022-09-28T06:41:07.354Z"
   },
   {
    "duration": 63,
    "start_time": "2022-09-28T06:41:07.361Z"
   },
   {
    "duration": 10,
    "start_time": "2022-09-28T06:41:07.425Z"
   },
   {
    "duration": 4,
    "start_time": "2022-09-28T06:41:07.437Z"
   },
   {
    "duration": 18,
    "start_time": "2022-09-28T06:41:07.443Z"
   },
   {
    "duration": 31,
    "start_time": "2022-09-28T06:41:07.463Z"
   },
   {
    "duration": 18,
    "start_time": "2022-09-28T06:41:07.496Z"
   },
   {
    "duration": 4,
    "start_time": "2022-09-28T06:41:07.516Z"
   },
   {
    "duration": 18,
    "start_time": "2022-09-28T06:41:07.522Z"
   },
   {
    "duration": 10,
    "start_time": "2022-09-28T06:41:07.542Z"
   },
   {
    "duration": 5,
    "start_time": "2022-09-28T06:41:07.554Z"
   },
   {
    "duration": 34,
    "start_time": "2022-09-28T06:41:07.560Z"
   },
   {
    "duration": 14,
    "start_time": "2022-09-28T06:41:07.596Z"
   },
   {
    "duration": 16,
    "start_time": "2022-09-28T06:41:07.612Z"
   },
   {
    "duration": 120,
    "start_time": "2022-09-28T06:41:07.629Z"
   },
   {
    "duration": 0,
    "start_time": "2022-09-28T06:41:07.751Z"
   },
   {
    "duration": 0,
    "start_time": "2022-09-28T06:41:07.752Z"
   },
   {
    "duration": 29,
    "start_time": "2022-09-28T06:42:35.631Z"
   },
   {
    "duration": 27,
    "start_time": "2022-09-28T06:42:49.740Z"
   },
   {
    "duration": 26,
    "start_time": "2022-09-28T06:43:19.512Z"
   },
   {
    "duration": 33,
    "start_time": "2022-09-28T06:44:23.539Z"
   },
   {
    "duration": 40,
    "start_time": "2022-09-28T06:44:44.147Z"
   },
   {
    "duration": 449,
    "start_time": "2022-09-28T06:44:59.224Z"
   },
   {
    "duration": 22,
    "start_time": "2022-09-28T06:44:59.676Z"
   },
   {
    "duration": 17,
    "start_time": "2022-09-28T06:44:59.700Z"
   },
   {
    "duration": 10,
    "start_time": "2022-09-28T06:44:59.720Z"
   },
   {
    "duration": 48,
    "start_time": "2022-09-28T06:44:59.732Z"
   },
   {
    "duration": 4,
    "start_time": "2022-09-28T06:44:59.788Z"
   },
   {
    "duration": 21,
    "start_time": "2022-09-28T06:44:59.794Z"
   },
   {
    "duration": 11,
    "start_time": "2022-09-28T06:44:59.816Z"
   },
   {
    "duration": 15,
    "start_time": "2022-09-28T06:44:59.829Z"
   },
   {
    "duration": 15,
    "start_time": "2022-09-28T06:44:59.846Z"
   },
   {
    "duration": 40,
    "start_time": "2022-09-28T06:44:59.863Z"
   },
   {
    "duration": 10,
    "start_time": "2022-09-28T06:44:59.904Z"
   },
   {
    "duration": 17,
    "start_time": "2022-09-28T06:44:59.916Z"
   },
   {
    "duration": 31,
    "start_time": "2022-09-28T06:44:59.935Z"
   },
   {
    "duration": 38,
    "start_time": "2022-09-28T06:44:59.968Z"
   },
   {
    "duration": 28,
    "start_time": "2022-09-28T06:45:00.008Z"
   },
   {
    "duration": 19,
    "start_time": "2022-09-28T06:45:00.038Z"
   },
   {
    "duration": 20,
    "start_time": "2022-09-28T06:45:00.058Z"
   },
   {
    "duration": 17,
    "start_time": "2022-09-28T06:45:00.080Z"
   },
   {
    "duration": 13,
    "start_time": "2022-09-28T06:45:00.098Z"
   },
   {
    "duration": 22,
    "start_time": "2022-09-28T06:45:00.113Z"
   },
   {
    "duration": 33,
    "start_time": "2022-09-28T06:45:00.137Z"
   },
   {
    "duration": 37,
    "start_time": "2022-09-28T06:45:00.172Z"
   },
   {
    "duration": 88,
    "start_time": "2022-09-28T06:45:00.211Z"
   },
   {
    "duration": 2,
    "start_time": "2022-09-28T06:45:00.301Z"
   },
   {
    "duration": 30,
    "start_time": "2022-09-28T06:45:00.305Z"
   },
   {
    "duration": 44,
    "start_time": "2022-09-28T06:45:04.637Z"
   },
   {
    "duration": 33,
    "start_time": "2022-09-28T06:45:50.431Z"
   },
   {
    "duration": 530,
    "start_time": "2022-09-28T06:46:01.496Z"
   },
   {
    "duration": 34,
    "start_time": "2022-09-28T06:46:02.029Z"
   },
   {
    "duration": 38,
    "start_time": "2022-09-28T06:46:02.066Z"
   },
   {
    "duration": 41,
    "start_time": "2022-09-28T06:46:02.107Z"
   },
   {
    "duration": 59,
    "start_time": "2022-09-28T06:46:02.151Z"
   },
   {
    "duration": 4,
    "start_time": "2022-09-28T06:46:02.212Z"
   },
   {
    "duration": 21,
    "start_time": "2022-09-28T06:46:02.217Z"
   },
   {
    "duration": 12,
    "start_time": "2022-09-28T06:46:02.241Z"
   },
   {
    "duration": 28,
    "start_time": "2022-09-28T06:46:02.254Z"
   },
   {
    "duration": 17,
    "start_time": "2022-09-28T06:46:02.285Z"
   },
   {
    "duration": 67,
    "start_time": "2022-09-28T06:46:02.304Z"
   },
   {
    "duration": 20,
    "start_time": "2022-09-28T06:46:02.373Z"
   },
   {
    "duration": 30,
    "start_time": "2022-09-28T06:46:02.394Z"
   },
   {
    "duration": 39,
    "start_time": "2022-09-28T06:46:02.426Z"
   },
   {
    "duration": 51,
    "start_time": "2022-09-28T06:46:02.467Z"
   },
   {
    "duration": 21,
    "start_time": "2022-09-28T06:46:02.520Z"
   },
   {
    "duration": 16,
    "start_time": "2022-09-28T06:46:02.542Z"
   },
   {
    "duration": 38,
    "start_time": "2022-09-28T06:46:02.560Z"
   },
   {
    "duration": 27,
    "start_time": "2022-09-28T06:46:02.600Z"
   },
   {
    "duration": 16,
    "start_time": "2022-09-28T06:46:02.629Z"
   },
   {
    "duration": 37,
    "start_time": "2022-09-28T06:46:02.647Z"
   },
   {
    "duration": 30,
    "start_time": "2022-09-28T06:46:02.686Z"
   },
   {
    "duration": 35,
    "start_time": "2022-09-28T06:46:02.717Z"
   },
   {
    "duration": 66,
    "start_time": "2022-09-28T06:46:02.753Z"
   },
   {
    "duration": 3,
    "start_time": "2022-09-28T06:46:02.821Z"
   },
   {
    "duration": 24,
    "start_time": "2022-09-28T06:46:02.826Z"
   },
   {
    "duration": 33,
    "start_time": "2022-09-28T06:46:05.958Z"
   },
   {
    "duration": 36,
    "start_time": "2022-09-28T06:47:02.285Z"
   },
   {
    "duration": 22,
    "start_time": "2022-09-28T06:47:49.558Z"
   },
   {
    "duration": 506,
    "start_time": "2022-09-28T06:48:03.285Z"
   },
   {
    "duration": 25,
    "start_time": "2022-09-28T06:48:03.793Z"
   },
   {
    "duration": 20,
    "start_time": "2022-09-28T06:48:03.820Z"
   },
   {
    "duration": 11,
    "start_time": "2022-09-28T06:48:03.842Z"
   },
   {
    "duration": 57,
    "start_time": "2022-09-28T06:48:03.855Z"
   },
   {
    "duration": 4,
    "start_time": "2022-09-28T06:48:03.914Z"
   },
   {
    "duration": 13,
    "start_time": "2022-09-28T06:48:03.919Z"
   },
   {
    "duration": 6,
    "start_time": "2022-09-28T06:48:03.934Z"
   },
   {
    "duration": 11,
    "start_time": "2022-09-28T06:48:03.942Z"
   },
   {
    "duration": 5,
    "start_time": "2022-09-28T06:48:03.957Z"
   },
   {
    "duration": 57,
    "start_time": "2022-09-28T06:48:03.963Z"
   },
   {
    "duration": 10,
    "start_time": "2022-09-28T06:48:04.021Z"
   },
   {
    "duration": 18,
    "start_time": "2022-09-28T06:48:04.033Z"
   },
   {
    "duration": 35,
    "start_time": "2022-09-28T06:48:04.052Z"
   },
   {
    "duration": 48,
    "start_time": "2022-09-28T06:48:04.088Z"
   },
   {
    "duration": 18,
    "start_time": "2022-09-28T06:48:04.138Z"
   },
   {
    "duration": 17,
    "start_time": "2022-09-28T06:48:04.158Z"
   },
   {
    "duration": 30,
    "start_time": "2022-09-28T06:48:04.177Z"
   },
   {
    "duration": 35,
    "start_time": "2022-09-28T06:48:04.208Z"
   },
   {
    "duration": 17,
    "start_time": "2022-09-28T06:48:04.245Z"
   },
   {
    "duration": 25,
    "start_time": "2022-09-28T06:48:04.264Z"
   },
   {
    "duration": 43,
    "start_time": "2022-09-28T06:48:04.291Z"
   },
   {
    "duration": 25,
    "start_time": "2022-09-28T06:48:04.336Z"
   },
   {
    "duration": 37,
    "start_time": "2022-09-28T06:48:04.363Z"
   },
   {
    "duration": 3,
    "start_time": "2022-09-28T06:48:04.402Z"
   },
   {
    "duration": 30,
    "start_time": "2022-09-28T06:48:04.406Z"
   },
   {
    "duration": 29,
    "start_time": "2022-09-28T06:48:51.654Z"
   },
   {
    "duration": 494,
    "start_time": "2022-09-28T06:49:23.590Z"
   },
   {
    "duration": 23,
    "start_time": "2022-09-28T06:49:24.086Z"
   },
   {
    "duration": 17,
    "start_time": "2022-09-28T06:49:24.110Z"
   },
   {
    "duration": 16,
    "start_time": "2022-09-28T06:49:24.130Z"
   },
   {
    "duration": 54,
    "start_time": "2022-09-28T06:49:24.148Z"
   },
   {
    "duration": 4,
    "start_time": "2022-09-28T06:49:24.204Z"
   },
   {
    "duration": 12,
    "start_time": "2022-09-28T06:49:24.210Z"
   },
   {
    "duration": 5,
    "start_time": "2022-09-28T06:49:24.224Z"
   },
   {
    "duration": 14,
    "start_time": "2022-09-28T06:49:24.231Z"
   },
   {
    "duration": 4,
    "start_time": "2022-09-28T06:49:24.249Z"
   },
   {
    "duration": 58,
    "start_time": "2022-09-28T06:49:24.255Z"
   },
   {
    "duration": 11,
    "start_time": "2022-09-28T06:49:24.315Z"
   },
   {
    "duration": 12,
    "start_time": "2022-09-28T06:49:24.327Z"
   },
   {
    "duration": 14,
    "start_time": "2022-09-28T06:49:24.341Z"
   },
   {
    "duration": 34,
    "start_time": "2022-09-28T06:49:24.356Z"
   },
   {
    "duration": 18,
    "start_time": "2022-09-28T06:49:24.392Z"
   },
   {
    "duration": 3,
    "start_time": "2022-09-28T06:49:24.412Z"
   },
   {
    "duration": 19,
    "start_time": "2022-09-28T06:49:24.417Z"
   },
   {
    "duration": 9,
    "start_time": "2022-09-28T06:49:24.437Z"
   },
   {
    "duration": 9,
    "start_time": "2022-09-28T06:49:24.449Z"
   },
   {
    "duration": 32,
    "start_time": "2022-09-28T06:49:24.459Z"
   },
   {
    "duration": 16,
    "start_time": "2022-09-28T06:49:24.493Z"
   },
   {
    "duration": 17,
    "start_time": "2022-09-28T06:49:24.512Z"
   },
   {
    "duration": 25,
    "start_time": "2022-09-28T06:49:24.532Z"
   },
   {
    "duration": 2,
    "start_time": "2022-09-28T06:49:24.559Z"
   },
   {
    "duration": 13,
    "start_time": "2022-09-28T06:49:24.590Z"
   },
   {
    "duration": 10,
    "start_time": "2022-09-28T08:15:14.242Z"
   },
   {
    "duration": 14,
    "start_time": "2022-09-28T08:22:11.976Z"
   },
   {
    "duration": 7,
    "start_time": "2022-09-28T08:23:12.136Z"
   },
   {
    "duration": 473,
    "start_time": "2022-09-28T08:23:17.143Z"
   },
   {
    "duration": 23,
    "start_time": "2022-09-28T08:23:17.618Z"
   },
   {
    "duration": 15,
    "start_time": "2022-09-28T08:23:17.642Z"
   },
   {
    "duration": 10,
    "start_time": "2022-09-28T08:23:17.658Z"
   },
   {
    "duration": 51,
    "start_time": "2022-09-28T08:23:17.669Z"
   },
   {
    "duration": 3,
    "start_time": "2022-09-28T08:23:17.722Z"
   },
   {
    "duration": 16,
    "start_time": "2022-09-28T08:23:17.727Z"
   },
   {
    "duration": 8,
    "start_time": "2022-09-28T08:23:17.744Z"
   },
   {
    "duration": 8,
    "start_time": "2022-09-28T08:23:17.754Z"
   },
   {
    "duration": 4,
    "start_time": "2022-09-28T08:23:17.766Z"
   },
   {
    "duration": 36,
    "start_time": "2022-09-28T08:23:17.788Z"
   },
   {
    "duration": 10,
    "start_time": "2022-09-28T08:23:17.825Z"
   },
   {
    "duration": 4,
    "start_time": "2022-09-28T08:23:17.837Z"
   },
   {
    "duration": 14,
    "start_time": "2022-09-28T08:23:17.842Z"
   },
   {
    "duration": 41,
    "start_time": "2022-09-28T08:23:17.858Z"
   },
   {
    "duration": 18,
    "start_time": "2022-09-28T08:23:17.900Z"
   },
   {
    "duration": 4,
    "start_time": "2022-09-28T08:23:17.919Z"
   },
   {
    "duration": 17,
    "start_time": "2022-09-28T08:23:17.924Z"
   },
   {
    "duration": 6,
    "start_time": "2022-09-28T08:23:17.942Z"
   },
   {
    "duration": 5,
    "start_time": "2022-09-28T08:23:17.950Z"
   },
   {
    "duration": 37,
    "start_time": "2022-09-28T08:23:17.956Z"
   },
   {
    "duration": 14,
    "start_time": "2022-09-28T08:23:17.995Z"
   },
   {
    "duration": 16,
    "start_time": "2022-09-28T08:23:18.011Z"
   },
   {
    "duration": 14,
    "start_time": "2022-09-28T08:23:18.029Z"
   },
   {
    "duration": 10,
    "start_time": "2022-09-28T08:23:18.045Z"
   },
   {
    "duration": 5,
    "start_time": "2022-09-28T08:23:18.057Z"
   },
   {
    "duration": 10,
    "start_time": "2022-09-28T08:23:18.090Z"
   },
   {
    "duration": 101,
    "start_time": "2022-09-28T08:27:11.927Z"
   },
   {
    "duration": 9,
    "start_time": "2022-09-28T08:27:28.344Z"
   },
   {
    "duration": 6,
    "start_time": "2022-09-28T08:28:39.635Z"
   },
   {
    "duration": 6,
    "start_time": "2022-09-28T08:31:52.287Z"
   },
   {
    "duration": 90,
    "start_time": "2022-09-28T08:32:59.908Z"
   },
   {
    "duration": 7,
    "start_time": "2022-09-28T08:35:16.116Z"
   },
   {
    "duration": 7,
    "start_time": "2022-09-28T08:40:32.918Z"
   },
   {
    "duration": 8,
    "start_time": "2022-09-28T08:42:00.714Z"
   },
   {
    "duration": 7,
    "start_time": "2022-09-28T08:43:39.012Z"
   },
   {
    "duration": 8,
    "start_time": "2022-09-28T08:44:19.816Z"
   },
   {
    "duration": 8,
    "start_time": "2022-09-28T08:45:31.766Z"
   },
   {
    "duration": 10,
    "start_time": "2022-09-28T10:09:22.128Z"
   },
   {
    "duration": 9,
    "start_time": "2022-09-28T11:04:49.126Z"
   },
   {
    "duration": 103,
    "start_time": "2022-09-28T11:10:39.748Z"
   },
   {
    "duration": 23,
    "start_time": "2022-09-28T11:10:52.564Z"
   },
   {
    "duration": 1265,
    "start_time": "2022-09-28T11:13:00.792Z"
   },
   {
    "duration": 1248,
    "start_time": "2022-09-28T11:13:19.621Z"
   },
   {
    "duration": 23,
    "start_time": "2022-09-28T11:14:02.736Z"
   },
   {
    "duration": 24,
    "start_time": "2022-09-28T11:14:58.377Z"
   },
   {
    "duration": 40,
    "start_time": "2022-09-28T11:17:56.737Z"
   },
   {
    "duration": 26,
    "start_time": "2022-09-28T11:18:11.018Z"
   },
   {
    "duration": 25,
    "start_time": "2022-09-28T11:19:06.321Z"
   },
   {
    "duration": 30,
    "start_time": "2022-09-28T11:23:33.056Z"
   },
   {
    "duration": 34,
    "start_time": "2022-09-28T11:25:55.479Z"
   },
   {
    "duration": 31,
    "start_time": "2022-09-28T11:27:08.631Z"
   },
   {
    "duration": 33,
    "start_time": "2022-09-28T11:30:50.004Z"
   },
   {
    "duration": 31,
    "start_time": "2022-09-28T11:32:04.393Z"
   },
   {
    "duration": 37,
    "start_time": "2022-09-28T11:32:19.413Z"
   },
   {
    "duration": 33,
    "start_time": "2022-09-28T11:47:11.529Z"
   },
   {
    "duration": 28,
    "start_time": "2022-09-28T11:48:14.333Z"
   },
   {
    "duration": 38,
    "start_time": "2022-09-28T11:48:52.116Z"
   },
   {
    "duration": 98,
    "start_time": "2022-09-28T11:49:59.633Z"
   },
   {
    "duration": 31,
    "start_time": "2022-09-28T11:50:13.600Z"
   },
   {
    "duration": 694,
    "start_time": "2022-09-28T11:55:51.735Z"
   },
   {
    "duration": 37,
    "start_time": "2022-09-28T11:55:52.432Z"
   },
   {
    "duration": 34,
    "start_time": "2022-09-28T11:55:52.472Z"
   },
   {
    "duration": 12,
    "start_time": "2022-09-28T11:55:52.509Z"
   },
   {
    "duration": 87,
    "start_time": "2022-09-28T11:55:52.523Z"
   },
   {
    "duration": 4,
    "start_time": "2022-09-28T11:55:52.613Z"
   },
   {
    "duration": 15,
    "start_time": "2022-09-28T11:55:52.618Z"
   },
   {
    "duration": 8,
    "start_time": "2022-09-28T11:55:52.635Z"
   },
   {
    "duration": 17,
    "start_time": "2022-09-28T11:55:52.644Z"
   },
   {
    "duration": 26,
    "start_time": "2022-09-28T11:55:52.665Z"
   },
   {
    "duration": 48,
    "start_time": "2022-09-28T11:55:52.694Z"
   },
   {
    "duration": 13,
    "start_time": "2022-09-28T11:55:52.744Z"
   },
   {
    "duration": 32,
    "start_time": "2022-09-28T11:55:52.759Z"
   },
   {
    "duration": 20,
    "start_time": "2022-09-28T11:55:52.793Z"
   },
   {
    "duration": 23,
    "start_time": "2022-09-28T11:55:52.815Z"
   },
   {
    "duration": 19,
    "start_time": "2022-09-28T11:55:52.840Z"
   },
   {
    "duration": 29,
    "start_time": "2022-09-28T11:55:52.860Z"
   },
   {
    "duration": 13,
    "start_time": "2022-09-28T11:55:52.891Z"
   },
   {
    "duration": 10,
    "start_time": "2022-09-28T11:55:52.906Z"
   },
   {
    "duration": 3,
    "start_time": "2022-09-28T11:55:52.918Z"
   },
   {
    "duration": 12,
    "start_time": "2022-09-28T11:55:52.923Z"
   },
   {
    "duration": 18,
    "start_time": "2022-09-28T11:55:52.937Z"
   },
   {
    "duration": 21,
    "start_time": "2022-09-28T11:55:52.990Z"
   },
   {
    "duration": 22,
    "start_time": "2022-09-28T11:55:53.013Z"
   },
   {
    "duration": 15,
    "start_time": "2022-09-28T11:55:53.037Z"
   },
   {
    "duration": 65,
    "start_time": "2022-09-28T11:55:53.055Z"
   },
   {
    "duration": 29,
    "start_time": "2022-09-28T11:55:53.122Z"
   },
   {
    "duration": 11,
    "start_time": "2022-09-28T11:58:28.344Z"
   },
   {
    "duration": 32,
    "start_time": "2022-09-28T12:00:19.421Z"
   },
   {
    "duration": 13,
    "start_time": "2022-09-28T12:09:01.210Z"
   },
   {
    "duration": 15,
    "start_time": "2022-09-28T12:09:14.711Z"
   },
   {
    "duration": 17,
    "start_time": "2022-09-28T12:09:44.363Z"
   },
   {
    "duration": 10,
    "start_time": "2022-09-28T12:11:19.192Z"
   },
   {
    "duration": 574,
    "start_time": "2022-09-28T12:11:30.312Z"
   },
   {
    "duration": 23,
    "start_time": "2022-09-28T12:11:30.888Z"
   },
   {
    "duration": 53,
    "start_time": "2022-09-28T12:11:30.913Z"
   },
   {
    "duration": 28,
    "start_time": "2022-09-28T12:11:30.968Z"
   },
   {
    "duration": 81,
    "start_time": "2022-09-28T12:11:30.998Z"
   },
   {
    "duration": 4,
    "start_time": "2022-09-28T12:11:31.081Z"
   },
   {
    "duration": 33,
    "start_time": "2022-09-28T12:11:31.087Z"
   },
   {
    "duration": 21,
    "start_time": "2022-09-28T12:11:31.122Z"
   },
   {
    "duration": 21,
    "start_time": "2022-09-28T12:11:31.145Z"
   },
   {
    "duration": 23,
    "start_time": "2022-09-28T12:11:31.170Z"
   },
   {
    "duration": 49,
    "start_time": "2022-09-28T12:11:31.194Z"
   },
   {
    "duration": 10,
    "start_time": "2022-09-28T12:11:31.245Z"
   },
   {
    "duration": 29,
    "start_time": "2022-09-28T12:11:31.257Z"
   },
   {
    "duration": 26,
    "start_time": "2022-09-28T12:11:31.287Z"
   },
   {
    "duration": 46,
    "start_time": "2022-09-28T12:11:31.315Z"
   },
   {
    "duration": 24,
    "start_time": "2022-09-28T12:11:31.363Z"
   },
   {
    "duration": 19,
    "start_time": "2022-09-28T12:11:31.389Z"
   },
   {
    "duration": 29,
    "start_time": "2022-09-28T12:11:31.409Z"
   },
   {
    "duration": 15,
    "start_time": "2022-09-28T12:11:31.440Z"
   },
   {
    "duration": 20,
    "start_time": "2022-09-28T12:11:31.456Z"
   },
   {
    "duration": 21,
    "start_time": "2022-09-28T12:11:31.478Z"
   },
   {
    "duration": 21,
    "start_time": "2022-09-28T12:11:31.500Z"
   },
   {
    "duration": 21,
    "start_time": "2022-09-28T12:11:31.523Z"
   },
   {
    "duration": 14,
    "start_time": "2022-09-28T12:11:31.546Z"
   },
   {
    "duration": 11,
    "start_time": "2022-09-28T12:11:31.562Z"
   },
   {
    "duration": 33,
    "start_time": "2022-09-28T12:11:31.589Z"
   },
   {
    "duration": 24,
    "start_time": "2022-09-28T12:11:31.623Z"
   },
   {
    "duration": 498,
    "start_time": "2022-09-28T12:51:19.209Z"
   },
   {
    "duration": 23,
    "start_time": "2022-09-28T12:51:19.709Z"
   },
   {
    "duration": 17,
    "start_time": "2022-09-28T12:51:19.734Z"
   },
   {
    "duration": 10,
    "start_time": "2022-09-28T12:51:19.754Z"
   },
   {
    "duration": 60,
    "start_time": "2022-09-28T12:51:19.765Z"
   },
   {
    "duration": 3,
    "start_time": "2022-09-28T12:51:19.827Z"
   },
   {
    "duration": 17,
    "start_time": "2022-09-28T12:51:19.832Z"
   },
   {
    "duration": 5,
    "start_time": "2022-09-28T12:51:19.850Z"
   },
   {
    "duration": 39,
    "start_time": "2022-09-28T12:51:19.856Z"
   },
   {
    "duration": 5,
    "start_time": "2022-09-28T12:51:19.902Z"
   },
   {
    "duration": 37,
    "start_time": "2022-09-28T12:51:19.909Z"
   },
   {
    "duration": 11,
    "start_time": "2022-09-28T12:51:19.948Z"
   },
   {
    "duration": 4,
    "start_time": "2022-09-28T12:51:19.961Z"
   },
   {
    "duration": 39,
    "start_time": "2022-09-28T12:51:19.967Z"
   },
   {
    "duration": 41,
    "start_time": "2022-09-28T12:51:20.008Z"
   },
   {
    "duration": 19,
    "start_time": "2022-09-28T12:51:20.051Z"
   },
   {
    "duration": 4,
    "start_time": "2022-09-28T12:51:20.072Z"
   },
   {
    "duration": 18,
    "start_time": "2022-09-28T12:51:20.092Z"
   },
   {
    "duration": 12,
    "start_time": "2022-09-28T12:51:20.112Z"
   },
   {
    "duration": 8,
    "start_time": "2022-09-28T12:51:20.125Z"
   },
   {
    "duration": 14,
    "start_time": "2022-09-28T12:51:20.134Z"
   },
   {
    "duration": 22,
    "start_time": "2022-09-28T12:51:20.150Z"
   },
   {
    "duration": 31,
    "start_time": "2022-09-28T12:51:20.174Z"
   },
   {
    "duration": 26,
    "start_time": "2022-09-28T12:51:20.207Z"
   },
   {
    "duration": 11,
    "start_time": "2022-09-28T12:51:20.235Z"
   },
   {
    "duration": 59,
    "start_time": "2022-09-28T12:51:20.247Z"
   },
   {
    "duration": 27,
    "start_time": "2022-09-28T12:51:20.308Z"
   },
   {
    "duration": 48,
    "start_time": "2022-09-29T07:47:18.067Z"
   },
   {
    "duration": 690,
    "start_time": "2022-09-29T07:47:30.907Z"
   },
   {
    "duration": 21,
    "start_time": "2022-09-29T07:47:31.598Z"
   },
   {
    "duration": 14,
    "start_time": "2022-09-29T07:47:31.621Z"
   },
   {
    "duration": 8,
    "start_time": "2022-09-29T07:47:31.637Z"
   },
   {
    "duration": 33,
    "start_time": "2022-09-29T07:47:31.647Z"
   },
   {
    "duration": 4,
    "start_time": "2022-09-29T07:47:31.681Z"
   },
   {
    "duration": 24,
    "start_time": "2022-09-29T07:47:31.686Z"
   },
   {
    "duration": 4,
    "start_time": "2022-09-29T07:47:31.711Z"
   },
   {
    "duration": 9,
    "start_time": "2022-09-29T07:47:31.717Z"
   },
   {
    "duration": 7,
    "start_time": "2022-09-29T07:47:31.729Z"
   },
   {
    "duration": 32,
    "start_time": "2022-09-29T07:47:31.737Z"
   },
   {
    "duration": 9,
    "start_time": "2022-09-29T07:47:31.771Z"
   },
   {
    "duration": 6,
    "start_time": "2022-09-29T07:47:31.781Z"
   },
   {
    "duration": 11,
    "start_time": "2022-09-29T07:47:31.808Z"
   },
   {
    "duration": 22,
    "start_time": "2022-09-29T07:47:31.820Z"
   },
   {
    "duration": 17,
    "start_time": "2022-09-29T07:47:31.843Z"
   },
   {
    "duration": 4,
    "start_time": "2022-09-29T07:47:31.862Z"
   },
   {
    "duration": 11,
    "start_time": "2022-09-29T07:47:31.868Z"
   },
   {
    "duration": 29,
    "start_time": "2022-09-29T07:47:31.881Z"
   },
   {
    "duration": 4,
    "start_time": "2022-09-29T07:47:31.912Z"
   },
   {
    "duration": 13,
    "start_time": "2022-09-29T07:47:31.917Z"
   },
   {
    "duration": 11,
    "start_time": "2022-09-29T07:47:31.932Z"
   },
   {
    "duration": 12,
    "start_time": "2022-09-29T07:47:31.945Z"
   },
   {
    "duration": 12,
    "start_time": "2022-09-29T07:47:31.958Z"
   },
   {
    "duration": 49,
    "start_time": "2022-09-29T07:47:31.971Z"
   },
   {
    "duration": 9,
    "start_time": "2022-09-29T07:47:32.022Z"
   },
   {
    "duration": 27,
    "start_time": "2022-09-29T07:47:32.032Z"
   },
   {
    "duration": 22,
    "start_time": "2022-09-29T07:47:32.062Z"
   },
   {
    "duration": 12,
    "start_time": "2022-09-29T07:54:35.345Z"
   },
   {
    "duration": 15,
    "start_time": "2022-09-29T07:59:40.998Z"
   },
   {
    "duration": 14,
    "start_time": "2022-09-29T08:00:35.235Z"
   },
   {
    "duration": 27,
    "start_time": "2022-09-29T08:08:25.716Z"
   },
   {
    "duration": 79,
    "start_time": "2022-09-29T08:10:24.968Z"
   },
   {
    "duration": 14,
    "start_time": "2022-09-29T08:12:40.284Z"
   },
   {
    "duration": 12,
    "start_time": "2022-09-29T08:13:01.554Z"
   },
   {
    "duration": 18,
    "start_time": "2022-09-29T08:13:21.104Z"
   },
   {
    "duration": 31,
    "start_time": "2022-09-29T08:13:56.158Z"
   },
   {
    "duration": 9,
    "start_time": "2022-09-29T08:33:30.682Z"
   },
   {
    "duration": 5,
    "start_time": "2022-09-29T08:34:06.641Z"
   },
   {
    "duration": 35,
    "start_time": "2022-09-29T08:40:41.890Z"
   },
   {
    "duration": 99,
    "start_time": "2022-09-29T08:47:50.721Z"
   },
   {
    "duration": 1799,
    "start_time": "2022-09-29T08:48:24.560Z"
   },
   {
    "duration": 15,
    "start_time": "2022-09-29T08:49:48.860Z"
   },
   {
    "duration": 7,
    "start_time": "2022-09-29T08:56:06.356Z"
   },
   {
    "duration": 7,
    "start_time": "2022-09-29T08:57:38.098Z"
   },
   {
    "duration": 7,
    "start_time": "2022-09-29T08:57:56.857Z"
   },
   {
    "duration": 7,
    "start_time": "2022-09-29T09:06:53.659Z"
   },
   {
    "duration": 50,
    "start_time": "2022-09-29T15:45:20.019Z"
   },
   {
    "duration": 812,
    "start_time": "2022-09-29T15:45:27.714Z"
   },
   {
    "duration": 27,
    "start_time": "2022-09-29T15:45:28.528Z"
   },
   {
    "duration": 48,
    "start_time": "2022-09-29T15:45:28.556Z"
   },
   {
    "duration": 11,
    "start_time": "2022-09-29T15:45:28.606Z"
   },
   {
    "duration": 133,
    "start_time": "2022-09-29T15:45:28.619Z"
   },
   {
    "duration": 89,
    "start_time": "2022-09-29T15:45:28.754Z"
   },
   {
    "duration": 178,
    "start_time": "2022-09-29T15:45:28.845Z"
   },
   {
    "duration": 205,
    "start_time": "2022-09-29T15:45:29.025Z"
   },
   {
    "duration": 26,
    "start_time": "2022-09-29T15:45:29.232Z"
   },
   {
    "duration": 9,
    "start_time": "2022-09-29T15:45:29.262Z"
   },
   {
    "duration": 51,
    "start_time": "2022-09-29T15:45:29.273Z"
   },
   {
    "duration": 10,
    "start_time": "2022-09-29T15:45:29.325Z"
   },
   {
    "duration": 12,
    "start_time": "2022-09-29T15:45:29.336Z"
   },
   {
    "duration": 18,
    "start_time": "2022-09-29T15:45:29.350Z"
   },
   {
    "duration": 30,
    "start_time": "2022-09-29T15:45:29.370Z"
   },
   {
    "duration": 18,
    "start_time": "2022-09-29T15:45:29.403Z"
   },
   {
    "duration": 5,
    "start_time": "2022-09-29T15:45:29.423Z"
   },
   {
    "duration": 29,
    "start_time": "2022-09-29T15:45:29.429Z"
   },
   {
    "duration": 17,
    "start_time": "2022-09-29T15:45:29.460Z"
   },
   {
    "duration": 10,
    "start_time": "2022-09-29T15:45:29.479Z"
   },
   {
    "duration": 20,
    "start_time": "2022-09-29T15:45:29.491Z"
   },
   {
    "duration": 30,
    "start_time": "2022-09-29T15:45:29.513Z"
   },
   {
    "duration": 17,
    "start_time": "2022-09-29T15:45:29.545Z"
   },
   {
    "duration": 34,
    "start_time": "2022-09-29T15:45:29.564Z"
   },
   {
    "duration": 14,
    "start_time": "2022-09-29T15:45:29.599Z"
   },
   {
    "duration": 25,
    "start_time": "2022-09-29T15:45:29.614Z"
   },
   {
    "duration": 35,
    "start_time": "2022-09-29T15:45:29.641Z"
   },
   {
    "duration": 26,
    "start_time": "2022-09-29T15:45:29.680Z"
   },
   {
    "duration": 38,
    "start_time": "2022-09-29T15:46:25.501Z"
   },
   {
    "duration": 37,
    "start_time": "2022-09-29T15:48:15.097Z"
   },
   {
    "duration": 33,
    "start_time": "2022-09-29T15:48:32.048Z"
   },
   {
    "duration": 39,
    "start_time": "2022-09-29T15:48:46.767Z"
   },
   {
    "duration": 79,
    "start_time": "2022-09-29T15:49:40.960Z"
   },
   {
    "duration": 51,
    "start_time": "2022-09-29T15:49:54.301Z"
   },
   {
    "duration": 33,
    "start_time": "2022-09-29T16:04:57.281Z"
   },
   {
    "duration": 392,
    "start_time": "2022-09-29T16:06:24.895Z"
   },
   {
    "duration": 471,
    "start_time": "2022-09-29T16:07:50.467Z"
   },
   {
    "duration": 23,
    "start_time": "2022-09-29T16:07:50.940Z"
   },
   {
    "duration": 16,
    "start_time": "2022-09-29T16:07:50.965Z"
   },
   {
    "duration": 9,
    "start_time": "2022-09-29T16:07:50.984Z"
   },
   {
    "duration": 35,
    "start_time": "2022-09-29T16:07:50.994Z"
   },
   {
    "duration": 3,
    "start_time": "2022-09-29T16:07:51.031Z"
   },
   {
    "duration": 8,
    "start_time": "2022-09-29T16:07:51.054Z"
   },
   {
    "duration": 15,
    "start_time": "2022-09-29T16:07:51.064Z"
   },
   {
    "duration": 10,
    "start_time": "2022-09-29T16:07:51.080Z"
   },
   {
    "duration": 4,
    "start_time": "2022-09-29T16:07:51.093Z"
   },
   {
    "duration": 35,
    "start_time": "2022-09-29T16:07:51.099Z"
   },
   {
    "duration": 23,
    "start_time": "2022-09-29T16:07:51.136Z"
   },
   {
    "duration": 11,
    "start_time": "2022-09-29T16:07:51.160Z"
   },
   {
    "duration": 13,
    "start_time": "2022-09-29T16:07:51.172Z"
   },
   {
    "duration": 25,
    "start_time": "2022-09-29T16:07:51.186Z"
   },
   {
    "duration": 17,
    "start_time": "2022-09-29T16:07:51.213Z"
   },
   {
    "duration": 5,
    "start_time": "2022-09-29T16:07:51.232Z"
   },
   {
    "duration": 16,
    "start_time": "2022-09-29T16:07:51.254Z"
   },
   {
    "duration": 16,
    "start_time": "2022-09-29T16:07:51.271Z"
   },
   {
    "duration": 4,
    "start_time": "2022-09-29T16:07:51.289Z"
   },
   {
    "duration": 16,
    "start_time": "2022-09-29T16:07:51.295Z"
   },
   {
    "duration": 19,
    "start_time": "2022-09-29T16:07:51.312Z"
   },
   {
    "duration": 29,
    "start_time": "2022-09-29T16:07:51.333Z"
   },
   {
    "duration": 18,
    "start_time": "2022-09-29T16:08:41.517Z"
   },
   {
    "duration": 40,
    "start_time": "2022-09-29T16:08:41.537Z"
   },
   {
    "duration": 51,
    "start_time": "2022-09-29T16:08:41.579Z"
   },
   {
    "duration": 34,
    "start_time": "2022-09-29T16:08:41.634Z"
   },
   {
    "duration": 0,
    "start_time": "2022-09-29T16:10:22.220Z"
   },
   {
    "duration": 0,
    "start_time": "2022-09-29T16:10:22.222Z"
   },
   {
    "duration": 13,
    "start_time": "2022-09-29T16:10:24.682Z"
   },
   {
    "duration": 468,
    "start_time": "2022-09-29T16:13:12.077Z"
   },
   {
    "duration": 22,
    "start_time": "2022-09-29T16:13:12.547Z"
   },
   {
    "duration": 14,
    "start_time": "2022-09-29T16:13:12.571Z"
   },
   {
    "duration": 8,
    "start_time": "2022-09-29T16:13:12.587Z"
   },
   {
    "duration": 37,
    "start_time": "2022-09-29T16:13:12.597Z"
   },
   {
    "duration": 5,
    "start_time": "2022-09-29T16:13:12.654Z"
   },
   {
    "duration": 34,
    "start_time": "2022-09-29T16:13:12.661Z"
   },
   {
    "duration": 11,
    "start_time": "2022-09-29T16:13:12.697Z"
   },
   {
    "duration": 21,
    "start_time": "2022-09-29T16:13:12.709Z"
   },
   {
    "duration": 5,
    "start_time": "2022-09-29T16:13:12.735Z"
   },
   {
    "duration": 39,
    "start_time": "2022-09-29T16:13:12.741Z"
   },
   {
    "duration": 11,
    "start_time": "2022-09-29T16:13:12.782Z"
   },
   {
    "duration": 44,
    "start_time": "2022-09-29T16:13:12.795Z"
   },
   {
    "duration": 36,
    "start_time": "2022-09-29T16:13:12.841Z"
   },
   {
    "duration": 25,
    "start_time": "2022-09-29T16:13:12.879Z"
   },
   {
    "duration": 18,
    "start_time": "2022-09-29T16:13:12.906Z"
   },
   {
    "duration": 4,
    "start_time": "2022-09-29T16:13:12.925Z"
   },
   {
    "duration": 14,
    "start_time": "2022-09-29T16:13:12.931Z"
   },
   {
    "duration": 11,
    "start_time": "2022-09-29T16:13:12.947Z"
   },
   {
    "duration": 5,
    "start_time": "2022-09-29T16:13:12.959Z"
   },
   {
    "duration": 15,
    "start_time": "2022-09-29T16:13:12.966Z"
   },
   {
    "duration": 14,
    "start_time": "2022-09-29T16:13:12.982Z"
   },
   {
    "duration": 15,
    "start_time": "2022-09-29T16:13:12.998Z"
   },
   {
    "duration": 0,
    "start_time": "2022-09-29T16:14:04.364Z"
   },
   {
    "duration": 462,
    "start_time": "2022-09-29T16:14:50.217Z"
   },
   {
    "duration": 24,
    "start_time": "2022-09-29T16:14:50.682Z"
   },
   {
    "duration": 14,
    "start_time": "2022-09-29T16:14:50.707Z"
   },
   {
    "duration": 9,
    "start_time": "2022-09-29T16:14:50.723Z"
   },
   {
    "duration": 51,
    "start_time": "2022-09-29T16:14:50.733Z"
   },
   {
    "duration": 4,
    "start_time": "2022-09-29T16:14:50.785Z"
   },
   {
    "duration": 11,
    "start_time": "2022-09-29T16:14:50.790Z"
   },
   {
    "duration": 8,
    "start_time": "2022-09-29T16:14:50.802Z"
   },
   {
    "duration": 10,
    "start_time": "2022-09-29T16:14:50.811Z"
   },
   {
    "duration": 4,
    "start_time": "2022-09-29T16:14:50.823Z"
   },
   {
    "duration": 33,
    "start_time": "2022-09-29T16:14:50.853Z"
   },
   {
    "duration": 8,
    "start_time": "2022-09-29T16:14:50.888Z"
   },
   {
    "duration": 17,
    "start_time": "2022-09-29T16:14:50.898Z"
   },
   {
    "duration": 22,
    "start_time": "2022-09-29T16:14:50.917Z"
   },
   {
    "duration": 33,
    "start_time": "2022-09-29T16:14:50.942Z"
   },
   {
    "duration": 21,
    "start_time": "2022-09-29T16:14:50.977Z"
   },
   {
    "duration": 4,
    "start_time": "2022-09-29T16:14:51.000Z"
   },
   {
    "duration": 18,
    "start_time": "2022-09-29T16:14:51.005Z"
   },
   {
    "duration": 30,
    "start_time": "2022-09-29T16:14:51.024Z"
   },
   {
    "duration": 14,
    "start_time": "2022-09-29T16:14:51.056Z"
   },
   {
    "duration": 28,
    "start_time": "2022-09-29T16:14:51.071Z"
   },
   {
    "duration": 39,
    "start_time": "2022-09-29T16:14:51.101Z"
   },
   {
    "duration": 16,
    "start_time": "2022-09-29T16:14:51.143Z"
   },
   {
    "duration": 23,
    "start_time": "2022-09-29T16:14:51.161Z"
   },
   {
    "duration": 64,
    "start_time": "2022-09-29T16:14:51.185Z"
   },
   {
    "duration": 0,
    "start_time": "2022-09-29T16:14:51.251Z"
   },
   {
    "duration": 0,
    "start_time": "2022-09-29T16:14:51.252Z"
   },
   {
    "duration": 0,
    "start_time": "2022-09-29T16:14:51.253Z"
   },
   {
    "duration": 0,
    "start_time": "2022-09-29T16:14:51.254Z"
   },
   {
    "duration": 13,
    "start_time": "2022-09-29T16:15:06.885Z"
   },
   {
    "duration": 55,
    "start_time": "2022-09-29T16:15:17.803Z"
   },
   {
    "duration": 49918,
    "start_time": "2022-09-29T16:15:39.018Z"
   },
   {
    "duration": 53,
    "start_time": "2022-09-29T16:17:39.022Z"
   },
   {
    "duration": 69,
    "start_time": "2022-09-29T16:18:03.406Z"
   },
   {
    "duration": 49479,
    "start_time": "2022-09-29T16:18:13.558Z"
   },
   {
    "duration": 50229,
    "start_time": "2022-09-29T16:19:13.181Z"
   },
   {
    "duration": 52230,
    "start_time": "2022-09-29T16:23:28.769Z"
   },
   {
    "duration": 531,
    "start_time": "2022-09-29T16:27:41.762Z"
   },
   {
    "duration": 22,
    "start_time": "2022-09-29T16:27:42.295Z"
   },
   {
    "duration": 26,
    "start_time": "2022-09-29T16:27:42.319Z"
   },
   {
    "duration": 10,
    "start_time": "2022-09-29T16:27:42.353Z"
   },
   {
    "duration": 41,
    "start_time": "2022-09-29T16:27:42.364Z"
   },
   {
    "duration": 3,
    "start_time": "2022-09-29T16:27:42.407Z"
   },
   {
    "duration": 15,
    "start_time": "2022-09-29T16:27:42.412Z"
   },
   {
    "duration": 5,
    "start_time": "2022-09-29T16:27:42.429Z"
   },
   {
    "duration": 23,
    "start_time": "2022-09-29T16:27:42.435Z"
   },
   {
    "duration": 5,
    "start_time": "2022-09-29T16:27:42.460Z"
   },
   {
    "duration": 42,
    "start_time": "2022-09-29T16:27:42.466Z"
   },
   {
    "duration": 10,
    "start_time": "2022-09-29T16:27:42.510Z"
   },
   {
    "duration": 4,
    "start_time": "2022-09-29T16:27:42.522Z"
   },
   {
    "duration": 32,
    "start_time": "2022-09-29T16:27:42.527Z"
   },
   {
    "duration": 25,
    "start_time": "2022-09-29T16:27:42.561Z"
   },
   {
    "duration": 17,
    "start_time": "2022-09-29T16:27:42.588Z"
   },
   {
    "duration": 4,
    "start_time": "2022-09-29T16:27:42.606Z"
   },
   {
    "duration": 16,
    "start_time": "2022-09-29T16:27:42.611Z"
   },
   {
    "duration": 6,
    "start_time": "2022-09-29T16:27:42.628Z"
   },
   {
    "duration": 10,
    "start_time": "2022-09-29T16:27:42.654Z"
   },
   {
    "duration": 13,
    "start_time": "2022-09-29T16:27:42.665Z"
   },
   {
    "duration": 24,
    "start_time": "2022-09-29T16:27:42.679Z"
   },
   {
    "duration": 26,
    "start_time": "2022-09-29T16:27:42.704Z"
   },
   {
    "duration": 50791,
    "start_time": "2022-09-29T16:27:42.731Z"
   },
   {
    "duration": 2,
    "start_time": "2022-09-29T16:28:33.523Z"
   },
   {
    "duration": 66,
    "start_time": "2022-09-29T16:28:33.527Z"
   },
   {
    "duration": 0,
    "start_time": "2022-09-29T16:28:33.594Z"
   },
   {
    "duration": 0,
    "start_time": "2022-09-29T16:28:33.596Z"
   },
   {
    "duration": 0,
    "start_time": "2022-09-29T16:28:33.597Z"
   },
   {
    "duration": 0,
    "start_time": "2022-09-29T16:28:33.598Z"
   },
   {
    "duration": 21,
    "start_time": "2022-09-29T16:35:58.374Z"
   },
   {
    "duration": 52841,
    "start_time": "2022-09-29T16:39:05.101Z"
   },
   {
    "duration": 33,
    "start_time": "2022-09-29T16:44:26.364Z"
   },
   {
    "duration": 169,
    "start_time": "2022-09-29T16:45:01.283Z"
   },
   {
    "duration": 176,
    "start_time": "2022-09-29T16:45:23.536Z"
   },
   {
    "duration": 23,
    "start_time": "2022-09-29T16:48:02.459Z"
   },
   {
    "duration": 53379,
    "start_time": "2022-09-29T16:48:30.517Z"
   },
   {
    "duration": 38,
    "start_time": "2022-09-29T16:49:40.230Z"
   },
   {
    "duration": 29,
    "start_time": "2022-09-29T16:49:55.515Z"
   },
   {
    "duration": 66,
    "start_time": "2022-09-29T16:55:38.047Z"
   },
   {
    "duration": 10,
    "start_time": "2022-09-29T16:56:26.177Z"
   },
   {
    "duration": 9,
    "start_time": "2022-09-29T16:57:00.929Z"
   },
   {
    "duration": 69,
    "start_time": "2022-09-29T16:57:12.914Z"
   },
   {
    "duration": 23,
    "start_time": "2022-09-29T16:57:46.041Z"
   },
   {
    "duration": 19,
    "start_time": "2022-09-29T16:58:17.087Z"
   },
   {
    "duration": 20,
    "start_time": "2022-09-29T16:58:35.940Z"
   },
   {
    "duration": 14,
    "start_time": "2022-09-29T16:58:47.448Z"
   },
   {
    "duration": 18,
    "start_time": "2022-09-29T16:59:39.789Z"
   },
   {
    "duration": 137,
    "start_time": "2022-09-29T17:03:18.888Z"
   },
   {
    "duration": 66,
    "start_time": "2022-09-29T17:04:04.415Z"
   },
   {
    "duration": 68,
    "start_time": "2022-09-29T17:04:18.237Z"
   },
   {
    "duration": 69,
    "start_time": "2022-09-29T17:04:25.656Z"
   },
   {
    "duration": 324,
    "start_time": "2022-09-29T17:04:57.614Z"
   },
   {
    "duration": 18,
    "start_time": "2022-09-29T17:05:28.965Z"
   },
   {
    "duration": 16,
    "start_time": "2022-09-29T17:13:30.388Z"
   },
   {
    "duration": 12,
    "start_time": "2022-09-29T17:14:21.377Z"
   },
   {
    "duration": 15,
    "start_time": "2022-09-29T17:15:18.351Z"
   },
   {
    "duration": 16,
    "start_time": "2022-09-29T17:15:38.799Z"
   },
   {
    "duration": 14,
    "start_time": "2022-09-29T17:15:55.317Z"
   },
   {
    "duration": 20,
    "start_time": "2022-09-29T17:18:07.236Z"
   },
   {
    "duration": 15,
    "start_time": "2022-09-29T17:18:33.449Z"
   },
   {
    "duration": 15,
    "start_time": "2022-09-29T17:19:18.522Z"
   },
   {
    "duration": 21,
    "start_time": "2022-09-29T17:19:30.017Z"
   },
   {
    "duration": 25,
    "start_time": "2022-09-29T17:19:50.776Z"
   },
   {
    "duration": 12,
    "start_time": "2022-09-29T17:26:50.739Z"
   },
   {
    "duration": 1183,
    "start_time": "2022-09-29T17:28:11.875Z"
   },
   {
    "duration": 28,
    "start_time": "2022-09-29T17:28:45.995Z"
   },
   {
    "duration": 39,
    "start_time": "2022-09-29T17:31:20.343Z"
   },
   {
    "duration": 26,
    "start_time": "2022-09-29T17:31:47.681Z"
   },
   {
    "duration": 30,
    "start_time": "2022-09-29T17:36:12.240Z"
   },
   {
    "duration": 9,
    "start_time": "2022-09-29T17:38:40.173Z"
   },
   {
    "duration": 15,
    "start_time": "2022-09-29T17:39:34.075Z"
   },
   {
    "duration": 26,
    "start_time": "2022-09-29T17:40:02.347Z"
   },
   {
    "duration": 26,
    "start_time": "2022-09-29T17:40:21.858Z"
   },
   {
    "duration": 500,
    "start_time": "2022-09-29T17:41:14.636Z"
   },
   {
    "duration": 22,
    "start_time": "2022-09-29T17:41:15.138Z"
   },
   {
    "duration": 15,
    "start_time": "2022-09-29T17:41:15.162Z"
   },
   {
    "duration": 9,
    "start_time": "2022-09-29T17:41:15.178Z"
   },
   {
    "duration": 35,
    "start_time": "2022-09-29T17:41:15.189Z"
   },
   {
    "duration": 3,
    "start_time": "2022-09-29T17:41:15.226Z"
   },
   {
    "duration": 12,
    "start_time": "2022-09-29T17:41:15.255Z"
   },
   {
    "duration": 10,
    "start_time": "2022-09-29T17:41:15.269Z"
   },
   {
    "duration": 11,
    "start_time": "2022-09-29T17:41:15.281Z"
   },
   {
    "duration": 7,
    "start_time": "2022-09-29T17:41:15.293Z"
   },
   {
    "duration": 54,
    "start_time": "2022-09-29T17:41:15.302Z"
   },
   {
    "duration": 10,
    "start_time": "2022-09-29T17:41:15.358Z"
   },
   {
    "duration": 9,
    "start_time": "2022-09-29T17:41:15.369Z"
   },
   {
    "duration": 18,
    "start_time": "2022-09-29T17:41:15.380Z"
   },
   {
    "duration": 25,
    "start_time": "2022-09-29T17:41:15.400Z"
   },
   {
    "duration": 28,
    "start_time": "2022-09-29T17:41:15.426Z"
   },
   {
    "duration": 3,
    "start_time": "2022-09-29T17:41:15.456Z"
   },
   {
    "duration": 25,
    "start_time": "2022-09-29T17:41:15.461Z"
   },
   {
    "duration": 15,
    "start_time": "2022-09-29T17:41:15.488Z"
   },
   {
    "duration": 22,
    "start_time": "2022-09-29T17:41:15.504Z"
   },
   {
    "duration": 26,
    "start_time": "2022-09-29T17:41:15.528Z"
   },
   {
    "duration": 27,
    "start_time": "2022-09-29T17:41:15.555Z"
   },
   {
    "duration": 28,
    "start_time": "2022-09-29T17:41:15.584Z"
   },
   {
    "duration": 50455,
    "start_time": "2022-09-29T17:41:15.614Z"
   },
   {
    "duration": 0,
    "start_time": "2022-09-29T17:42:06.156Z"
   },
   {
    "duration": 0,
    "start_time": "2022-09-29T17:42:06.157Z"
   },
   {
    "duration": 0,
    "start_time": "2022-09-29T17:42:06.158Z"
   },
   {
    "duration": 0,
    "start_time": "2022-09-29T17:42:06.159Z"
   },
   {
    "duration": 0,
    "start_time": "2022-09-29T17:42:06.160Z"
   },
   {
    "duration": 58,
    "start_time": "2022-09-29T17:42:12.574Z"
   },
   {
    "duration": 2,
    "start_time": "2022-09-29T17:42:20.205Z"
   },
   {
    "duration": 26,
    "start_time": "2022-09-29T17:42:23.211Z"
   },
   {
    "duration": 29,
    "start_time": "2022-09-29T17:42:48.044Z"
   },
   {
    "duration": 27,
    "start_time": "2022-09-29T17:44:15.666Z"
   },
   {
    "duration": 27,
    "start_time": "2022-09-29T17:44:42.486Z"
   },
   {
    "duration": 27,
    "start_time": "2022-09-29T17:45:11.897Z"
   },
   {
    "duration": 35,
    "start_time": "2022-09-29T17:46:21.487Z"
   },
   {
    "duration": 25,
    "start_time": "2022-09-29T17:48:45.195Z"
   },
   {
    "duration": 26,
    "start_time": "2022-09-29T17:48:54.140Z"
   },
   {
    "duration": 25,
    "start_time": "2022-09-29T17:49:00.573Z"
   },
   {
    "duration": 29,
    "start_time": "2022-09-29T17:49:46.473Z"
   },
   {
    "duration": 25,
    "start_time": "2022-09-29T17:50:56.913Z"
   },
   {
    "duration": 25,
    "start_time": "2022-09-29T17:51:30.224Z"
   },
   {
    "duration": 21,
    "start_time": "2022-09-29T17:54:35.273Z"
   },
   {
    "duration": 24,
    "start_time": "2022-09-29T17:54:49.730Z"
   },
   {
    "duration": 29,
    "start_time": "2022-09-29T18:05:01.616Z"
   },
   {
    "duration": 21,
    "start_time": "2022-09-29T18:05:34.039Z"
   },
   {
    "duration": 34,
    "start_time": "2022-09-29T18:05:48.347Z"
   },
   {
    "duration": 24,
    "start_time": "2022-09-29T18:07:16.738Z"
   },
   {
    "duration": 25,
    "start_time": "2022-09-29T18:08:15.631Z"
   },
   {
    "duration": 27,
    "start_time": "2022-09-29T18:08:39.775Z"
   },
   {
    "duration": 12,
    "start_time": "2022-09-29T18:10:55.963Z"
   },
   {
    "duration": 502,
    "start_time": "2022-09-29T18:11:06.874Z"
   },
   {
    "duration": 23,
    "start_time": "2022-09-29T18:11:07.378Z"
   },
   {
    "duration": 31,
    "start_time": "2022-09-29T18:11:07.403Z"
   },
   {
    "duration": 10,
    "start_time": "2022-09-29T18:11:07.437Z"
   },
   {
    "duration": 36,
    "start_time": "2022-09-29T18:11:07.449Z"
   },
   {
    "duration": 4,
    "start_time": "2022-09-29T18:11:07.486Z"
   },
   {
    "duration": 15,
    "start_time": "2022-09-29T18:11:07.491Z"
   },
   {
    "duration": 20,
    "start_time": "2022-09-29T18:11:07.508Z"
   },
   {
    "duration": 11,
    "start_time": "2022-09-29T18:11:07.529Z"
   },
   {
    "duration": 11,
    "start_time": "2022-09-29T18:11:07.543Z"
   },
   {
    "duration": 38,
    "start_time": "2022-09-29T18:11:07.556Z"
   },
   {
    "duration": 9,
    "start_time": "2022-09-29T18:11:07.596Z"
   },
   {
    "duration": 4,
    "start_time": "2022-09-29T18:11:07.607Z"
   },
   {
    "duration": 41,
    "start_time": "2022-09-29T18:11:07.613Z"
   },
   {
    "duration": 78,
    "start_time": "2022-09-29T18:11:07.656Z"
   },
   {
    "duration": 19,
    "start_time": "2022-09-29T18:11:07.735Z"
   },
   {
    "duration": 4,
    "start_time": "2022-09-29T18:11:07.755Z"
   },
   {
    "duration": 13,
    "start_time": "2022-09-29T18:11:07.761Z"
   },
   {
    "duration": 11,
    "start_time": "2022-09-29T18:11:07.776Z"
   },
   {
    "duration": 9,
    "start_time": "2022-09-29T18:11:07.789Z"
   },
   {
    "duration": 20,
    "start_time": "2022-09-29T18:11:07.800Z"
   },
   {
    "duration": 31,
    "start_time": "2022-09-29T18:11:07.823Z"
   },
   {
    "duration": 26,
    "start_time": "2022-09-29T18:11:07.856Z"
   },
   {
    "duration": 13,
    "start_time": "2022-09-29T18:11:07.884Z"
   },
   {
    "duration": 95,
    "start_time": "2022-09-29T18:11:07.898Z"
   },
   {
    "duration": 0,
    "start_time": "2022-09-29T18:11:07.995Z"
   },
   {
    "duration": 0,
    "start_time": "2022-09-29T18:11:07.996Z"
   },
   {
    "duration": 0,
    "start_time": "2022-09-29T18:11:07.997Z"
   },
   {
    "duration": 3,
    "start_time": "2022-09-29T18:12:40.815Z"
   },
   {
    "duration": 30,
    "start_time": "2022-09-29T18:12:42.745Z"
   },
   {
    "duration": 9,
    "start_time": "2022-09-29T18:14:08.902Z"
   },
   {
    "duration": 30,
    "start_time": "2022-09-29T18:14:11.318Z"
   },
   {
    "duration": 31,
    "start_time": "2022-09-29T18:14:33.543Z"
   },
   {
    "duration": 7,
    "start_time": "2022-09-29T18:14:43.660Z"
   },
   {
    "duration": 4,
    "start_time": "2022-09-29T18:14:45.521Z"
   },
   {
    "duration": 29,
    "start_time": "2022-09-29T18:14:45.726Z"
   },
   {
    "duration": 7,
    "start_time": "2022-09-29T18:15:53.748Z"
   },
   {
    "duration": 41,
    "start_time": "2022-09-29T18:16:09.331Z"
   },
   {
    "duration": 499,
    "start_time": "2022-09-29T18:16:14.124Z"
   },
   {
    "duration": 26,
    "start_time": "2022-09-29T18:16:14.625Z"
   },
   {
    "duration": 16,
    "start_time": "2022-09-29T18:16:14.653Z"
   },
   {
    "duration": 14,
    "start_time": "2022-09-29T18:16:14.671Z"
   },
   {
    "duration": 37,
    "start_time": "2022-09-29T18:16:14.686Z"
   },
   {
    "duration": 3,
    "start_time": "2022-09-29T18:16:14.725Z"
   },
   {
    "duration": 30,
    "start_time": "2022-09-29T18:16:14.730Z"
   },
   {
    "duration": 7,
    "start_time": "2022-09-29T18:16:14.762Z"
   },
   {
    "duration": 20,
    "start_time": "2022-09-29T18:16:14.770Z"
   },
   {
    "duration": 5,
    "start_time": "2022-09-29T18:16:14.792Z"
   },
   {
    "duration": 41,
    "start_time": "2022-09-29T18:16:14.799Z"
   },
   {
    "duration": 19,
    "start_time": "2022-09-29T18:16:14.842Z"
   },
   {
    "duration": 14,
    "start_time": "2022-09-29T18:16:14.863Z"
   },
   {
    "duration": 18,
    "start_time": "2022-09-29T18:16:14.879Z"
   },
   {
    "duration": 24,
    "start_time": "2022-09-29T18:16:14.899Z"
   },
   {
    "duration": 20,
    "start_time": "2022-09-29T18:16:14.924Z"
   },
   {
    "duration": 9,
    "start_time": "2022-09-29T18:16:14.945Z"
   },
   {
    "duration": 23,
    "start_time": "2022-09-29T18:16:14.956Z"
   },
   {
    "duration": 26,
    "start_time": "2022-09-29T18:16:14.981Z"
   },
   {
    "duration": 28,
    "start_time": "2022-09-29T18:16:15.009Z"
   },
   {
    "duration": 22,
    "start_time": "2022-09-29T18:16:15.038Z"
   },
   {
    "duration": 36,
    "start_time": "2022-09-29T18:16:15.061Z"
   },
   {
    "duration": 28,
    "start_time": "2022-09-29T18:16:15.099Z"
   },
   {
    "duration": 30,
    "start_time": "2022-09-29T18:16:15.129Z"
   },
   {
    "duration": 3,
    "start_time": "2022-09-29T18:16:15.161Z"
   },
   {
    "duration": 41,
    "start_time": "2022-09-29T18:16:15.167Z"
   },
   {
    "duration": 46,
    "start_time": "2022-09-29T18:16:15.209Z"
   },
   {
    "duration": 26,
    "start_time": "2022-09-29T18:16:15.258Z"
   },
   {
    "duration": 9,
    "start_time": "2022-09-29T18:16:29.660Z"
   },
   {
    "duration": 30,
    "start_time": "2022-09-29T18:16:32.459Z"
   },
   {
    "duration": 38,
    "start_time": "2022-09-29T18:16:41.195Z"
   },
   {
    "duration": 502,
    "start_time": "2022-09-29T18:16:46.921Z"
   },
   {
    "duration": 24,
    "start_time": "2022-09-29T18:16:47.425Z"
   },
   {
    "duration": 16,
    "start_time": "2022-09-29T18:16:47.451Z"
   },
   {
    "duration": 10,
    "start_time": "2022-09-29T18:16:47.469Z"
   },
   {
    "duration": 41,
    "start_time": "2022-09-29T18:16:47.481Z"
   },
   {
    "duration": 3,
    "start_time": "2022-09-29T18:16:47.524Z"
   },
   {
    "duration": 28,
    "start_time": "2022-09-29T18:16:47.528Z"
   },
   {
    "duration": 5,
    "start_time": "2022-09-29T18:16:47.557Z"
   },
   {
    "duration": 13,
    "start_time": "2022-09-29T18:16:47.564Z"
   },
   {
    "duration": 4,
    "start_time": "2022-09-29T18:16:47.581Z"
   },
   {
    "duration": 38,
    "start_time": "2022-09-29T18:16:47.587Z"
   },
   {
    "duration": 29,
    "start_time": "2022-09-29T18:16:47.626Z"
   },
   {
    "duration": 5,
    "start_time": "2022-09-29T18:16:47.657Z"
   },
   {
    "duration": 13,
    "start_time": "2022-09-29T18:16:47.667Z"
   },
   {
    "duration": 24,
    "start_time": "2022-09-29T18:16:47.681Z"
   },
   {
    "duration": 20,
    "start_time": "2022-09-29T18:16:47.707Z"
   },
   {
    "duration": 28,
    "start_time": "2022-09-29T18:16:47.729Z"
   },
   {
    "duration": 19,
    "start_time": "2022-09-29T18:16:47.759Z"
   },
   {
    "duration": 7,
    "start_time": "2022-09-29T18:16:47.780Z"
   },
   {
    "duration": 10,
    "start_time": "2022-09-29T18:16:47.789Z"
   },
   {
    "duration": 20,
    "start_time": "2022-09-29T18:16:47.801Z"
   },
   {
    "duration": 42,
    "start_time": "2022-09-29T18:16:47.823Z"
   },
   {
    "duration": 26,
    "start_time": "2022-09-29T18:16:47.866Z"
   },
   {
    "duration": 22,
    "start_time": "2022-09-29T18:16:47.893Z"
   },
   {
    "duration": 25,
    "start_time": "2022-09-29T18:16:47.917Z"
   },
   {
    "duration": 95,
    "start_time": "2022-09-29T18:16:47.944Z"
   },
   {
    "duration": 33,
    "start_time": "2022-09-29T18:16:48.041Z"
   },
   {
    "duration": 27,
    "start_time": "2022-09-29T18:16:48.078Z"
   },
   {
    "duration": 461,
    "start_time": "2022-09-29T18:17:53.180Z"
   },
   {
    "duration": 24,
    "start_time": "2022-09-29T18:17:53.643Z"
   },
   {
    "duration": 14,
    "start_time": "2022-09-29T18:17:53.669Z"
   },
   {
    "duration": 9,
    "start_time": "2022-09-29T18:17:53.685Z"
   },
   {
    "duration": 58,
    "start_time": "2022-09-29T18:17:53.696Z"
   },
   {
    "duration": 4,
    "start_time": "2022-09-29T18:17:53.756Z"
   },
   {
    "duration": 12,
    "start_time": "2022-09-29T18:17:53.761Z"
   },
   {
    "duration": 6,
    "start_time": "2022-09-29T18:17:53.775Z"
   },
   {
    "duration": 12,
    "start_time": "2022-09-29T18:17:53.782Z"
   },
   {
    "duration": 4,
    "start_time": "2022-09-29T18:17:53.797Z"
   },
   {
    "duration": 56,
    "start_time": "2022-09-29T18:17:53.803Z"
   },
   {
    "duration": 10,
    "start_time": "2022-09-29T18:17:53.861Z"
   },
   {
    "duration": 6,
    "start_time": "2022-09-29T18:17:53.872Z"
   },
   {
    "duration": 14,
    "start_time": "2022-09-29T18:17:53.880Z"
   },
   {
    "duration": 22,
    "start_time": "2022-09-29T18:17:53.895Z"
   },
   {
    "duration": 37,
    "start_time": "2022-09-29T18:17:53.918Z"
   },
   {
    "duration": 4,
    "start_time": "2022-09-29T18:17:53.956Z"
   },
   {
    "duration": 19,
    "start_time": "2022-09-29T18:17:53.962Z"
   },
   {
    "duration": 12,
    "start_time": "2022-09-29T18:17:53.983Z"
   },
   {
    "duration": 5,
    "start_time": "2022-09-29T18:17:53.997Z"
   },
   {
    "duration": 24,
    "start_time": "2022-09-29T18:17:54.004Z"
   },
   {
    "duration": 31,
    "start_time": "2022-09-29T18:17:54.029Z"
   },
   {
    "duration": 27,
    "start_time": "2022-09-29T18:17:54.062Z"
   },
   {
    "duration": 30,
    "start_time": "2022-09-29T18:17:54.090Z"
   },
   {
    "duration": 39,
    "start_time": "2022-09-29T18:17:54.122Z"
   },
   {
    "duration": 31,
    "start_time": "2022-09-29T18:17:54.163Z"
   },
   {
    "duration": 57,
    "start_time": "2022-09-29T18:17:54.197Z"
   },
   {
    "duration": 29,
    "start_time": "2022-09-29T18:17:54.258Z"
   },
   {
    "duration": 11,
    "start_time": "2022-09-29T18:19:37.101Z"
   },
   {
    "duration": 33,
    "start_time": "2022-09-29T18:19:39.046Z"
   },
   {
    "duration": 474,
    "start_time": "2022-09-29T18:19:57.784Z"
   },
   {
    "duration": 27,
    "start_time": "2022-09-29T18:19:58.260Z"
   },
   {
    "duration": 16,
    "start_time": "2022-09-29T18:19:58.288Z"
   },
   {
    "duration": 12,
    "start_time": "2022-09-29T18:19:58.306Z"
   },
   {
    "duration": 59,
    "start_time": "2022-09-29T18:19:58.319Z"
   },
   {
    "duration": 4,
    "start_time": "2022-09-29T18:19:58.380Z"
   },
   {
    "duration": 19,
    "start_time": "2022-09-29T18:19:58.386Z"
   },
   {
    "duration": 32,
    "start_time": "2022-09-29T18:19:58.407Z"
   },
   {
    "duration": 22,
    "start_time": "2022-09-29T18:19:58.441Z"
   },
   {
    "duration": 16,
    "start_time": "2022-09-29T18:19:58.466Z"
   },
   {
    "duration": 41,
    "start_time": "2022-09-29T18:19:58.484Z"
   },
   {
    "duration": 11,
    "start_time": "2022-09-29T18:19:58.526Z"
   },
   {
    "duration": 9,
    "start_time": "2022-09-29T18:19:58.538Z"
   },
   {
    "duration": 41,
    "start_time": "2022-09-29T18:19:58.549Z"
   },
   {
    "duration": 30,
    "start_time": "2022-09-29T18:19:58.593Z"
   },
   {
    "duration": 36,
    "start_time": "2022-09-29T18:19:58.624Z"
   },
   {
    "duration": 5,
    "start_time": "2022-09-29T18:19:58.662Z"
   },
   {
    "duration": 19,
    "start_time": "2022-09-29T18:19:58.669Z"
   },
   {
    "duration": 28,
    "start_time": "2022-09-29T18:19:58.690Z"
   },
   {
    "duration": 10,
    "start_time": "2022-09-29T18:19:58.720Z"
   },
   {
    "duration": 24,
    "start_time": "2022-09-29T18:19:58.732Z"
   },
   {
    "duration": 34,
    "start_time": "2022-09-29T18:19:58.758Z"
   },
   {
    "duration": 26,
    "start_time": "2022-09-29T18:19:58.794Z"
   },
   {
    "duration": 41,
    "start_time": "2022-09-29T18:19:58.821Z"
   },
   {
    "duration": 15,
    "start_time": "2022-09-29T18:19:58.864Z"
   },
   {
    "duration": 31,
    "start_time": "2022-09-29T18:19:58.881Z"
   },
   {
    "duration": 55,
    "start_time": "2022-09-29T18:19:58.914Z"
   },
   {
    "duration": 28,
    "start_time": "2022-09-29T18:19:58.973Z"
   },
   {
    "duration": 116,
    "start_time": "2022-09-29T18:27:37.833Z"
   },
   {
    "duration": 55,
    "start_time": "2022-09-29T18:28:12.846Z"
   },
   {
    "duration": 460,
    "start_time": "2022-09-29T18:28:50.516Z"
   },
   {
    "duration": 28,
    "start_time": "2022-09-29T18:28:50.978Z"
   },
   {
    "duration": 16,
    "start_time": "2022-09-29T18:28:51.008Z"
   },
   {
    "duration": 29,
    "start_time": "2022-09-29T18:28:51.026Z"
   },
   {
    "duration": 35,
    "start_time": "2022-09-29T18:28:51.056Z"
   },
   {
    "duration": 3,
    "start_time": "2022-09-29T18:28:51.093Z"
   },
   {
    "duration": 10,
    "start_time": "2022-09-29T18:28:51.098Z"
   },
   {
    "duration": 4,
    "start_time": "2022-09-29T18:28:51.110Z"
   },
   {
    "duration": 38,
    "start_time": "2022-09-29T18:28:51.116Z"
   },
   {
    "duration": 5,
    "start_time": "2022-09-29T18:28:51.157Z"
   },
   {
    "duration": 37,
    "start_time": "2022-09-29T18:28:51.164Z"
   },
   {
    "duration": 11,
    "start_time": "2022-09-29T18:28:51.203Z"
   },
   {
    "duration": 11,
    "start_time": "2022-09-29T18:28:51.216Z"
   },
   {
    "duration": 34,
    "start_time": "2022-09-29T18:28:51.229Z"
   },
   {
    "duration": 21,
    "start_time": "2022-09-29T18:28:51.265Z"
   },
   {
    "duration": 18,
    "start_time": "2022-09-29T18:28:51.287Z"
   },
   {
    "duration": 5,
    "start_time": "2022-09-29T18:28:51.306Z"
   },
   {
    "duration": 12,
    "start_time": "2022-09-29T18:28:51.313Z"
   },
   {
    "duration": 37,
    "start_time": "2022-09-29T18:28:51.327Z"
   },
   {
    "duration": 19,
    "start_time": "2022-09-29T18:28:51.366Z"
   },
   {
    "duration": 17,
    "start_time": "2022-09-29T18:28:51.387Z"
   },
   {
    "duration": 41,
    "start_time": "2022-09-29T18:28:51.406Z"
   },
   {
    "duration": 32,
    "start_time": "2022-09-29T18:28:51.448Z"
   },
   {
    "duration": 36,
    "start_time": "2022-09-29T18:28:51.483Z"
   },
   {
    "duration": 80,
    "start_time": "2022-09-29T18:28:51.521Z"
   },
   {
    "duration": 32,
    "start_time": "2022-09-29T18:28:51.602Z"
   },
   {
    "duration": 51,
    "start_time": "2022-09-29T18:29:24.125Z"
   },
   {
    "duration": 49,
    "start_time": "2022-09-29T18:36:47.740Z"
   },
   {
    "duration": 53,
    "start_time": "2022-09-29T18:37:00.005Z"
   },
   {
    "duration": 484,
    "start_time": "2022-09-29T18:54:36.758Z"
   },
   {
    "duration": 27,
    "start_time": "2022-09-29T18:54:37.244Z"
   },
   {
    "duration": 15,
    "start_time": "2022-09-29T18:54:37.273Z"
   },
   {
    "duration": 14,
    "start_time": "2022-09-29T18:54:37.291Z"
   },
   {
    "duration": 48,
    "start_time": "2022-09-29T18:54:37.307Z"
   },
   {
    "duration": 4,
    "start_time": "2022-09-29T18:54:37.357Z"
   },
   {
    "duration": 30,
    "start_time": "2022-09-29T18:54:37.363Z"
   },
   {
    "duration": 27,
    "start_time": "2022-09-29T18:54:37.395Z"
   },
   {
    "duration": 10,
    "start_time": "2022-09-29T18:54:37.424Z"
   },
   {
    "duration": 9,
    "start_time": "2022-09-29T18:54:37.438Z"
   },
   {
    "duration": 42,
    "start_time": "2022-09-29T18:54:37.448Z"
   },
   {
    "duration": 11,
    "start_time": "2022-09-29T18:54:37.492Z"
   },
   {
    "duration": 8,
    "start_time": "2022-09-29T18:54:37.505Z"
   },
   {
    "duration": 23,
    "start_time": "2022-09-29T18:54:37.514Z"
   },
   {
    "duration": 34,
    "start_time": "2022-09-29T18:54:37.539Z"
   },
   {
    "duration": 17,
    "start_time": "2022-09-29T18:54:37.575Z"
   },
   {
    "duration": 4,
    "start_time": "2022-09-29T18:54:37.594Z"
   },
   {
    "duration": 18,
    "start_time": "2022-09-29T18:54:37.599Z"
   },
   {
    "duration": 12,
    "start_time": "2022-09-29T18:54:37.618Z"
   },
   {
    "duration": 20,
    "start_time": "2022-09-29T18:54:37.631Z"
   },
   {
    "duration": 18,
    "start_time": "2022-09-29T18:54:37.653Z"
   },
   {
    "duration": 48,
    "start_time": "2022-09-29T18:54:37.673Z"
   },
   {
    "duration": 26,
    "start_time": "2022-09-29T18:54:37.723Z"
   },
   {
    "duration": 30,
    "start_time": "2022-09-29T18:54:37.751Z"
   },
   {
    "duration": 53,
    "start_time": "2022-09-29T18:54:37.784Z"
   },
   {
    "duration": 69,
    "start_time": "2022-09-29T18:54:37.838Z"
   },
   {
    "duration": 60,
    "start_time": "2022-09-29T20:42:40.955Z"
   }
  ],
  "colab": {
   "name": "dpp_template_part2.ipynb",
   "provenance": []
  },
  "kernelspec": {
   "display_name": "Python 3 (ipykernel)",
   "language": "python",
   "name": "python3"
  },
  "language_info": {
   "codemirror_mode": {
    "name": "ipython",
    "version": 3
   },
   "file_extension": ".py",
   "mimetype": "text/x-python",
   "name": "python",
   "nbconvert_exporter": "python",
   "pygments_lexer": "ipython3",
   "version": "3.9.5"
  },
  "toc": {
   "base_numbering": 1,
   "nav_menu": {},
   "number_sections": true,
   "sideBar": true,
   "skip_h1_title": true,
   "title_cell": "Table of Contents",
   "title_sidebar": "Contents",
   "toc_cell": false,
   "toc_position": {},
   "toc_section_display": true,
   "toc_window_display": false
  }
 },
 "nbformat": 4,
 "nbformat_minor": 5
}
