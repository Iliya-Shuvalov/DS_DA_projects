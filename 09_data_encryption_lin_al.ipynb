{
 "cells": [
  {
   "attachments": {},
   "cell_type": "markdown",
   "metadata": {
    "toc": true
   },
   "source": [
    "<h1>Содержание<span class=\"tocSkip\"></span></h1>\n",
    "<div class=\"toc\"><ul class=\"toc-item\"><li><span><a href=\"#Загрузка-данных\" data-toc-modified-id=\"Загрузка-данных-1\"><span class=\"toc-item-num\">1&nbsp;&nbsp;</span>Загрузка данных</a></span><ul class=\"toc-item\"><li><span><a href=\"#подключение-необходходимых-для-работы-библиотек,-модулей\" data-toc-modified-id=\"подключение-необходходимых-для-работы-библиотек,-модулей-1.1\"><span class=\"toc-item-num\">1.1&nbsp;&nbsp;</span>подключение необходходимых для работы библиотек, модулей</a></span></li><li><span><a href=\"#Загрузка-и-ознакомление-с-данными\" data-toc-modified-id=\"Загрузка-и-ознакомление-с-данными-1.2\"><span class=\"toc-item-num\">1.2&nbsp;&nbsp;</span>Загрузка и ознакомление с данными</a></span></li><li><span><a href=\"#Предобработка-данных\" data-toc-modified-id=\"Предобработка-данных-1.3\"><span class=\"toc-item-num\">1.3&nbsp;&nbsp;</span>Предобработка данных</a></span></li><li><span><a href=\"#Вывод-по-разделу-1\" data-toc-modified-id=\"Вывод-по-разделу-1-1.4\"><span class=\"toc-item-num\">1.4&nbsp;&nbsp;</span>Вывод по разделу 1</a></span></li></ul></li><li><span><a href=\"#Умножение-матриц\" data-toc-modified-id=\"Умножение-матриц-2\"><span class=\"toc-item-num\">2&nbsp;&nbsp;</span>Умножение матриц</a></span></li><li><span><a href=\"#Алгоритм-преобразования\" data-toc-modified-id=\"Алгоритм-преобразования-3\"><span class=\"toc-item-num\">3&nbsp;&nbsp;</span>Алгоритм преобразования</a></span></li><li><span><a href=\"#Проверка-алгоритма\" data-toc-modified-id=\"Проверка-алгоритма-4\"><span class=\"toc-item-num\">4&nbsp;&nbsp;</span>Проверка алгоритма</a></span><ul class=\"toc-item\"><li><span><a href=\"#Шифрование-признаков\" data-toc-modified-id=\"Шифрование-признаков-4.1\"><span class=\"toc-item-num\">4.1&nbsp;&nbsp;</span>Шифрование признаков</a></span></li><li><span><a href=\"#Дешифрование-признаков\" data-toc-modified-id=\"Дешифрование-признаков-4.2\"><span class=\"toc-item-num\">4.2&nbsp;&nbsp;</span>Дешифрование признаков</a></span></li><li><span><a href=\"#Сравнение-качества-моделей-до-и-после-преобразования\" data-toc-modified-id=\"Сравнение-качества-моделей-до-и-после-преобразования-4.3\"><span class=\"toc-item-num\">4.3&nbsp;&nbsp;</span>Сравнение качества моделей до и после преобразования</a></span></li></ul></li><li><span><a href=\"#Общий-вывод\" data-toc-modified-id=\"Общий-вывод-5\"><span class=\"toc-item-num\">5&nbsp;&nbsp;</span>Общий вывод</a></span></li><li><span><a href=\"#Чек-лист-проверки\" data-toc-modified-id=\"Чек-лист-проверки-6\"><span class=\"toc-item-num\">6&nbsp;&nbsp;</span>Чек-лист проверки</a></span></li></ul></div>"
   ]
  },
  {
   "attachments": {},
   "cell_type": "markdown",
   "metadata": {},
   "source": [
    "# Защита персональных данных клиентов"
   ]
  },
  {
   "attachments": {},
   "cell_type": "markdown",
   "metadata": {},
   "source": [
    "Цель: защитить данные клиентов страховой компании. \n",
    "Необходимо разработать такой метод преобразования данных, чтобы по ним было сложно восстановить персональную информацию."
   ]
  },
  {
   "attachments": {},
   "cell_type": "markdown",
   "metadata": {},
   "source": [
    "## Загрузка данных"
   ]
  },
  {
   "attachments": {},
   "cell_type": "markdown",
   "metadata": {},
   "source": [
    "### подключение необходходимых для работы библиотек, модулей"
   ]
  },
  {
   "cell_type": "code",
   "execution_count": 1,
   "metadata": {},
   "outputs": [],
   "source": [
    "import matplotlib.pyplot as plt\n",
    "import numpy as np\n",
    "import pandas as pd\n",
    "\n",
    "from sklearn.metrics import r2_score"
   ]
  },
  {
   "attachments": {},
   "cell_type": "markdown",
   "metadata": {},
   "source": [
    "### Загрузка и ознакомление с данными"
   ]
  },
  {
   "cell_type": "code",
   "execution_count": 2,
   "metadata": {},
   "outputs": [],
   "source": [
    "df = pd.read_csv('/datasets/insurance.csv')"
   ]
  },
  {
   "cell_type": "code",
   "execution_count": 3,
   "metadata": {},
   "outputs": [
    {
     "data": {
      "text/html": [
       "<div>\n",
       "<style scoped>\n",
       "    .dataframe tbody tr th:only-of-type {\n",
       "        vertical-align: middle;\n",
       "    }\n",
       "\n",
       "    .dataframe tbody tr th {\n",
       "        vertical-align: top;\n",
       "    }\n",
       "\n",
       "    .dataframe thead th {\n",
       "        text-align: right;\n",
       "    }\n",
       "</style>\n",
       "<table border=\"1\" class=\"dataframe\">\n",
       "  <thead>\n",
       "    <tr style=\"text-align: right;\">\n",
       "      <th></th>\n",
       "      <th>Пол</th>\n",
       "      <th>Возраст</th>\n",
       "      <th>Зарплата</th>\n",
       "      <th>Члены семьи</th>\n",
       "      <th>Страховые выплаты</th>\n",
       "    </tr>\n",
       "  </thead>\n",
       "  <tbody>\n",
       "    <tr>\n",
       "      <th>0</th>\n",
       "      <td>1</td>\n",
       "      <td>41.0</td>\n",
       "      <td>49600.0</td>\n",
       "      <td>1</td>\n",
       "      <td>0</td>\n",
       "    </tr>\n",
       "    <tr>\n",
       "      <th>1</th>\n",
       "      <td>0</td>\n",
       "      <td>46.0</td>\n",
       "      <td>38000.0</td>\n",
       "      <td>1</td>\n",
       "      <td>1</td>\n",
       "    </tr>\n",
       "    <tr>\n",
       "      <th>2</th>\n",
       "      <td>0</td>\n",
       "      <td>29.0</td>\n",
       "      <td>21000.0</td>\n",
       "      <td>0</td>\n",
       "      <td>0</td>\n",
       "    </tr>\n",
       "    <tr>\n",
       "      <th>3</th>\n",
       "      <td>0</td>\n",
       "      <td>21.0</td>\n",
       "      <td>41700.0</td>\n",
       "      <td>2</td>\n",
       "      <td>0</td>\n",
       "    </tr>\n",
       "    <tr>\n",
       "      <th>4</th>\n",
       "      <td>1</td>\n",
       "      <td>28.0</td>\n",
       "      <td>26100.0</td>\n",
       "      <td>0</td>\n",
       "      <td>0</td>\n",
       "    </tr>\n",
       "  </tbody>\n",
       "</table>\n",
       "</div>"
      ],
      "text/plain": [
       "   Пол  Возраст  Зарплата  Члены семьи  Страховые выплаты\n",
       "0    1     41.0   49600.0            1                  0\n",
       "1    0     46.0   38000.0            1                  1\n",
       "2    0     29.0   21000.0            0                  0\n",
       "3    0     21.0   41700.0            2                  0\n",
       "4    1     28.0   26100.0            0                  0"
      ]
     },
     "execution_count": 3,
     "metadata": {},
     "output_type": "execute_result"
    }
   ],
   "source": [
    "df.head()"
   ]
  },
  {
   "cell_type": "code",
   "execution_count": 4,
   "metadata": {},
   "outputs": [
    {
     "data": {
      "image/png": "[encoded data removed]",
      "text/plain": [
       "<Figure size 720x720 with 6 Axes>"
      ]
     },
     "metadata": {
      "needs_background": "light"
     },
     "output_type": "display_data"
    }
   ],
   "source": [
    "df.hist(figsize=(10,10)) #построим гистограммы для data размером 10 на 10 дюймов\n",
    "plt.show()"
   ]
  },
  {
   "cell_type": "code",
   "execution_count": 5,
   "metadata": {},
   "outputs": [
    {
     "name": "stdout",
     "output_type": "stream",
     "text": [
      "<class 'pandas.core.frame.DataFrame'>\n",
      "RangeIndex: 5000 entries, 0 to 4999\n",
      "Data columns (total 5 columns):\n",
      " #   Column             Non-Null Count  Dtype  \n",
      "---  ------             --------------  -----  \n",
      " 0   Пол                5000 non-null   int64  \n",
      " 1   Возраст            5000 non-null   float64\n",
      " 2   Зарплата           5000 non-null   float64\n",
      " 3   Члены семьи        5000 non-null   int64  \n",
      " 4   Страховые выплаты  5000 non-null   int64  \n",
      "dtypes: float64(2), int64(3)\n",
      "memory usage: 195.4 KB\n"
     ]
    }
   ],
   "source": [
    "df.info()"
   ]
  },
  {
   "attachments": {},
   "cell_type": "markdown",
   "metadata": {},
   "source": [
    "Аномалии и пропуски в данных не обнаружены. Столбцы 'Зарплата','Возраст' имеют тип float, изучим возможность их преобразования к int"
   ]
  },
  {
   "attachments": {},
   "cell_type": "markdown",
   "metadata": {},
   "source": [
    "### Предобработка данных"
   ]
  },
  {
   "attachments": {},
   "cell_type": "markdown",
   "metadata": {},
   "source": [
    "Проверим значения в столбцах Зарплата и Возраст на наличие в них дробной части"
   ]
  },
  {
   "cell_type": "code",
   "execution_count": 6,
   "metadata": {},
   "outputs": [
    {
     "name": "stdout",
     "output_type": "stream",
     "text": [
      "0\n",
      "0\n"
     ]
    }
   ],
   "source": [
    "def fraction(x): #Функция, которая возвращает 1, если число имеет дробную часть больше 0.001\n",
    "    count = 0\n",
    "    if (x - round(x)) >= 0.001:\n",
    "        count += 1\n",
    "    return count\n",
    "\n",
    "print(df['Возраст'].apply(fraction).sum())\n",
    "print(df['Зарплата'].apply(fraction).sum())"
   ]
  },
  {
   "cell_type": "code",
   "execution_count": 7,
   "metadata": {},
   "outputs": [],
   "source": [
    "#Преобразуем столбцы 'Зарплата','Возраст' к int, после округления до ближайшего целого числа\n",
    "df[['Зарплата','Возраст']] = df[['Зарплата','Возраст']].round().astype(int)"
   ]
  },
  {
   "attachments": {},
   "cell_type": "markdown",
   "metadata": {},
   "source": [
    "Создадим признаки и целевые признаки из представленных данных"
   ]
  },
  {
   "cell_type": "code",
   "execution_count": 8,
   "metadata": {},
   "outputs": [],
   "source": [
    "features = df.drop('Страховые выплаты', axis=1) #Признаки\n",
    "target = df['Страховые выплаты'] #Целевые признаки"
   ]
  },
  {
   "attachments": {},
   "cell_type": "markdown",
   "metadata": {},
   "source": [
    "Создадим класс LinearRegression и методы fit(), predict()"
   ]
  },
  {
   "cell_type": "code",
   "execution_count": 9,
   "metadata": {},
   "outputs": [],
   "source": [
    "class LinearRegression:\n",
    "    def fit(self, train_features, train_target):\n",
    "        X = np.concatenate((np.ones((train_features.shape[0], 1)),\\\n",
    "                            train_features), axis=1) #в обучающую выборку добавим столбец с единицами\n",
    "        y = train_target\n",
    "        w = ((np.linalg.inv(X.T.dot(X))).dot(X.T)).dot(y)\n",
    "        self.w = w[1:]\n",
    "        self.w0 = w[0]\n",
    "\n",
    "    def predict(self, test_features):\n",
    "        return test_features.dot(self.w) + self.w0"
   ]
  },
  {
   "attachments": {},
   "cell_type": "markdown",
   "metadata": {},
   "source": [
    "Обучим получившуюся модель на созданных ранее features и target, найдём значение метрики R2 по предсказанным моделью данным и целевым значениям  "
   ]
  },
  {
   "cell_type": "code",
   "execution_count": 10,
   "metadata": {},
   "outputs": [
    {
     "name": "stdout",
     "output_type": "stream",
     "text": [
      "0.42495\n"
     ]
    }
   ],
   "source": [
    "model = LinearRegression() \n",
    "model.fit(features, target)\n",
    "predictions = model.predict(features)\n",
    "r2 = round(r2_score(target, predictions), 5)\n",
    "print(r2)"
   ]
  },
  {
   "attachments": {},
   "cell_type": "markdown",
   "metadata": {},
   "source": [
    "### Вывод по разделу 1"
   ]
  },
  {
   "attachments": {},
   "cell_type": "markdown",
   "metadata": {},
   "source": [
    "В разделе 1 было выполнено:\n",
    "\n",
    "- подключены необходходимые для дальнейшей работы библиотеки, модули;  \n",
    "- проведено ознакомиление с данными;  \n",
    "- аномалии и пропуски в данных отсутствуют;  \n",
    "- данные приведены к типу int;  \n",
    "- из данных пыли созданы столбцы признаков и целевых признаков (features и target);  \n",
    "- создадан класс LinearRegression и методы fit(), predict();  \n",
    "- на полученных признаках было проведено обучение модели и найдено значение метрики R2 = 0.4249455021641366.   \n",
    "\n",
    "Полученное значение метрики R2 больше нуля и меньше единицы, что говорит о работоспособности созданной модели."
   ]
  },
  {
   "attachments": {},
   "cell_type": "markdown",
   "metadata": {},
   "source": [
    "## Умножение матриц"
   ]
  },
  {
   "attachments": {},
   "cell_type": "markdown",
   "metadata": {},
   "source": [
    "Обозначения:\n",
    "\n",
    "- $X$ — матрица признаков (нулевой столбец состоит из единиц), содержащая данные о клиентах\n",
    "\n",
    "- $y$ — вектор целевого признака\n",
    "\n",
    "- $P$ — матрица, на которую умножаются признаки (данные о клиентах)\n",
    "  \n",
    "- $E$ — единичная матрица  \n",
    "  \n",
    "- $w$ — вектор весов линейной регрессии (нулевой элемент равен сдвигу)\n",
    "\n",
    "- $wp$ — вектор весов линейной регрессии (нулевой элемент равен сдвигу) для зашифрованной матрицы, содержащей данные клиентов\n",
    "\n",
    "- a - предсказания, полученные для матрицы признаков  \n",
    "\n",
    "- ap - предсказания, полученные для зашифрованной матрицы признаков "
   ]
  },
  {
   "attachments": {},
   "cell_type": "markdown",
   "metadata": {},
   "source": [
    "Задача обучения: $ w = \\arg\\min_w MSE(Xw, y) $\n",
    "\n"
   ]
  },
  {
   "attachments": {},
   "cell_type": "markdown",
   "metadata": {},
   "source": [
    "**Рассмотрим, как преобразуется формула обучения $ w = (X^T X)^{-1} X^Ty $ при домножении матрицы признаков $ X $ на матрицу $ P $:**  \n",
    "  \n",
    "$ w_p = ((XP)^T (XP))^{-1} (XP)^T y $  \n",
    "  \n",
    "$ w_p = (P^T(X^TX)P)^{-1} (XP)^T y $ \n",
    "  \n",
    "$ w_p = P^{-1}(X^TX)^{-1}(P^T)^{-1}P^TX^T y $  \n",
    "  \n",
    "учитывая, что $ (P^T)^{-1}P^T = E $ и $ EX^T = X^T $, получим:  \n",
    "    \n",
    "$ w_p = P^{-1}(X^T X)^{-1} X^T y $\n",
    "  \n",
    "т.к. $ (X^T X)^{-1} X^T y = w $, следовательно $ w_p = P^{-1}w $ или $ w = Pw_p $\n",
    "  \n",
    " \n",
    "**Рассмотрим, как преобразуется формула для предсказаний модели $ a = Xw $ при домножении матрицы признаков $ X $ на матрицу $ P $:**\n",
    "  \n",
    "$ a_p = XPw_p $ \n",
    "  \n",
    "учитывая, что $ w_p = P^{-1}w $, получаем:\n",
    "  \n",
    "$ a_p = XPP^{-1}w $, т.к. $ PP^{-1} = E $ и $ XE = X $ получаем:\n",
    "  \n",
    "$ a_p = Xw $, следовательно $ a_p = a $  \n",
    "  \n",
    "**Таким образом, предсказания модели при домножении матрицы признаков $ X $ на матрицу $ P $ не изменются. Вектор весов преобразуется по полученной формуле $ w_p = P^{-1}w $ или $ w = Pw_p $**  \n",
    "  \n",
    "Определим требования которым должна удовлетворять матрица $ P $:  \n",
    "1) Для матрицы $ P $ должна существовать обратная матрица $ P^{-1} $ - это означает, что матрица $ P $ должна быть квадратная и невырожденная ($ det(P) $ != 0);  \n",
    "  \n",
    "2) Поскольку имеются 4 столбца с признаками, то матрица $ P $ должна иметь размер (4 х 4)."
   ]
  },
  {
   "attachments": {},
   "cell_type": "markdown",
   "metadata": {},
   "source": [
    "## Алгоритм преобразования"
   ]
  },
  {
   "attachments": {},
   "cell_type": "markdown",
   "metadata": {},
   "source": [
    "Для шифрования данных домножим признаки на матрицу $ P $ размером 4х4:  \n",
    "$ X_p = XP $ \n",
    "  \n",
    "Для дешифрования данных домножим зашифрованные признаки на матрицу $ P^{-1} $:     \n",
    "$ X_pP^{-1} = XPP^{-1} $  \n",
    "$ X_pP^{-1} = XE $  \n",
    "$ X_pP^{-1} = X $"
   ]
  },
  {
   "cell_type": "code",
   "execution_count": 11,
   "metadata": {},
   "outputs": [],
   "source": [
    "# зададим начальные условия для генератора случайных чисел\n",
    "np.random.seed(12345) "
   ]
  },
  {
   "cell_type": "code",
   "execution_count": 12,
   "metadata": {},
   "outputs": [],
   "source": [
    "#создадим матрицу размером 4х4 из целых псевдослучайных чисел до 10\n",
    "p_matrix = np.random.randint(10, size=(4, 4))"
   ]
  },
  {
   "cell_type": "code",
   "execution_count": 13,
   "metadata": {},
   "outputs": [
    {
     "name": "stdout",
     "output_type": "stream",
     "text": [
      "матрица - ключ:\n",
      "[[2 5 1 4]\n",
      " [9 5 2 1]\n",
      " [6 1 9 7]\n",
      " [6 0 2 9]]\n"
     ]
    }
   ],
   "source": [
    "print('матрица - ключ:')\n",
    "print(p_matrix)"
   ]
  },
  {
   "cell_type": "code",
   "execution_count": 14,
   "metadata": {},
   "outputs": [
    {
     "name": "stdout",
     "output_type": "stream",
     "text": [
      "[[-0.11015193  0.11533149 -0.02589779  0.05628453]\n",
      " [ 0.18542818  0.01588398 -0.00656077 -0.07907459]\n",
      " [-0.00517956 -0.02279006  0.13984807 -0.10393646]\n",
      " [ 0.07458564 -0.0718232  -0.01381215  0.09668508]]\n"
     ]
    }
   ],
   "source": [
    "#обратная матрица к p_matrix\n",
    "p_matrix_inv = np.linalg.inv(p_matrix)\n",
    "\n",
    "print(p_matrix_inv)"
   ]
  },
  {
   "attachments": {},
   "cell_type": "markdown",
   "metadata": {},
   "source": [
    "## Проверка алгоритма"
   ]
  },
  {
   "attachments": {},
   "cell_type": "markdown",
   "metadata": {},
   "source": [
    "### Шифрование признаков"
   ]
  },
  {
   "attachments": {},
   "cell_type": "markdown",
   "metadata": {},
   "source": [
    "Напишем функцию для шифрования признаков (данных о клиентах)"
   ]
  },
  {
   "cell_type": "code",
   "execution_count": 15,
   "metadata": {},
   "outputs": [],
   "source": [
    "def coding_operation (x, p):\n",
    "    column=x.columns\n",
    "    return pd.DataFrame((x.values) @ p, columns=column)"
   ]
  },
  {
   "cell_type": "code",
   "execution_count": 16,
   "metadata": {},
   "outputs": [],
   "source": [
    "#датафрейм с зашифрованными данными клиентов\n",
    "features_coding = coding_operation(features, p_matrix)"
   ]
  },
  {
   "cell_type": "code",
   "execution_count": 17,
   "metadata": {},
   "outputs": [
    {
     "data": {
      "text/html": [
       "<div>\n",
       "<style scoped>\n",
       "    .dataframe tbody tr th:only-of-type {\n",
       "        vertical-align: middle;\n",
       "    }\n",
       "\n",
       "    .dataframe tbody tr th {\n",
       "        vertical-align: top;\n",
       "    }\n",
       "\n",
       "    .dataframe thead th {\n",
       "        text-align: right;\n",
       "    }\n",
       "</style>\n",
       "<table border=\"1\" class=\"dataframe\">\n",
       "  <thead>\n",
       "    <tr style=\"text-align: right;\">\n",
       "      <th></th>\n",
       "      <th>Пол</th>\n",
       "      <th>Возраст</th>\n",
       "      <th>Зарплата</th>\n",
       "      <th>Члены семьи</th>\n",
       "    </tr>\n",
       "  </thead>\n",
       "  <tbody>\n",
       "    <tr>\n",
       "      <th>0</th>\n",
       "      <td>297977</td>\n",
       "      <td>49810</td>\n",
       "      <td>446485</td>\n",
       "      <td>347254</td>\n",
       "    </tr>\n",
       "    <tr>\n",
       "      <th>1</th>\n",
       "      <td>228420</td>\n",
       "      <td>38230</td>\n",
       "      <td>342094</td>\n",
       "      <td>266055</td>\n",
       "    </tr>\n",
       "    <tr>\n",
       "      <th>2</th>\n",
       "      <td>126261</td>\n",
       "      <td>21145</td>\n",
       "      <td>189058</td>\n",
       "      <td>147029</td>\n",
       "    </tr>\n",
       "    <tr>\n",
       "      <th>3</th>\n",
       "      <td>250401</td>\n",
       "      <td>41805</td>\n",
       "      <td>375346</td>\n",
       "      <td>291939</td>\n",
       "    </tr>\n",
       "    <tr>\n",
       "      <th>4</th>\n",
       "      <td>156854</td>\n",
       "      <td>26245</td>\n",
       "      <td>234957</td>\n",
       "      <td>182732</td>\n",
       "    </tr>\n",
       "  </tbody>\n",
       "</table>\n",
       "</div>"
      ],
      "text/plain": [
       "      Пол  Возраст  Зарплата  Члены семьи\n",
       "0  297977    49810    446485       347254\n",
       "1  228420    38230    342094       266055\n",
       "2  126261    21145    189058       147029\n",
       "3  250401    41805    375346       291939\n",
       "4  156854    26245    234957       182732"
      ]
     },
     "execution_count": 17,
     "metadata": {},
     "output_type": "execute_result"
    }
   ],
   "source": [
    "features_coding.head()"
   ]
  },
  {
   "attachments": {},
   "cell_type": "markdown",
   "metadata": {},
   "source": [
    "### Дешифрование признаков"
   ]
  },
  {
   "attachments": {},
   "cell_type": "markdown",
   "metadata": {},
   "source": [
    "Напишем функцию для дешифрования признаков"
   ]
  },
  {
   "attachments": {},
   "cell_type": "markdown",
   "metadata": {},
   "source": [
    "Использование численных методов даст незначительную погрешность, в связи с чем, данные необходимо будет округлить до ближайшего целого числа и вернуть данным тип int"
   ]
  },
  {
   "cell_type": "code",
   "execution_count": 18,
   "metadata": {},
   "outputs": [],
   "source": [
    "def decoding_operation (x, p):\n",
    "    p_inv = np.linalg.inv(p)\n",
    "    column=x.columns\n",
    "    return pd.DataFrame((x.values) @ p_inv, columns=column).round().astype(int)"
   ]
  },
  {
   "cell_type": "code",
   "execution_count": 19,
   "metadata": {},
   "outputs": [
    {
     "data": {
      "text/html": [
       "<div>\n",
       "<style scoped>\n",
       "    .dataframe tbody tr th:only-of-type {\n",
       "        vertical-align: middle;\n",
       "    }\n",
       "\n",
       "    .dataframe tbody tr th {\n",
       "        vertical-align: top;\n",
       "    }\n",
       "\n",
       "    .dataframe thead th {\n",
       "        text-align: right;\n",
       "    }\n",
       "</style>\n",
       "<table border=\"1\" class=\"dataframe\">\n",
       "  <thead>\n",
       "    <tr style=\"text-align: right;\">\n",
       "      <th></th>\n",
       "      <th>Пол</th>\n",
       "      <th>Возраст</th>\n",
       "      <th>Зарплата</th>\n",
       "      <th>Члены семьи</th>\n",
       "    </tr>\n",
       "  </thead>\n",
       "  <tbody>\n",
       "    <tr>\n",
       "      <th>0</th>\n",
       "      <td>1</td>\n",
       "      <td>41</td>\n",
       "      <td>49600</td>\n",
       "      <td>1</td>\n",
       "    </tr>\n",
       "    <tr>\n",
       "      <th>1</th>\n",
       "      <td>0</td>\n",
       "      <td>46</td>\n",
       "      <td>38000</td>\n",
       "      <td>1</td>\n",
       "    </tr>\n",
       "    <tr>\n",
       "      <th>2</th>\n",
       "      <td>0</td>\n",
       "      <td>29</td>\n",
       "      <td>21000</td>\n",
       "      <td>0</td>\n",
       "    </tr>\n",
       "    <tr>\n",
       "      <th>3</th>\n",
       "      <td>0</td>\n",
       "      <td>21</td>\n",
       "      <td>41700</td>\n",
       "      <td>2</td>\n",
       "    </tr>\n",
       "    <tr>\n",
       "      <th>4</th>\n",
       "      <td>1</td>\n",
       "      <td>28</td>\n",
       "      <td>26100</td>\n",
       "      <td>0</td>\n",
       "    </tr>\n",
       "  </tbody>\n",
       "</table>\n",
       "</div>"
      ],
      "text/plain": [
       "   Пол  Возраст  Зарплата  Члены семьи\n",
       "0    1       41     49600            1\n",
       "1    0       46     38000            1\n",
       "2    0       29     21000            0\n",
       "3    0       21     41700            2\n",
       "4    1       28     26100            0"
      ]
     },
     "execution_count": 19,
     "metadata": {},
     "output_type": "execute_result"
    }
   ],
   "source": [
    "#датафрейм с зашифрованными данными клиентов\n",
    "features_decoding = decoding_operation(features_coding, p_matrix)\n",
    "features_decoding.head()"
   ]
  },
  {
   "attachments": {},
   "cell_type": "markdown",
   "metadata": {},
   "source": [
    "Определим имеются ли различия между признаками клиентов до шифрования и после дешифрования:"
   ]
  },
  {
   "cell_type": "code",
   "execution_count": 20,
   "metadata": {},
   "outputs": [
    {
     "name": "stdout",
     "output_type": "stream",
     "text": [
      "0\n"
     ]
    }
   ],
   "source": [
    "print(features.compare(features_decoding).shape[0])"
   ]
  },
  {
   "attachments": {},
   "cell_type": "markdown",
   "metadata": {},
   "source": [
    "Различия между признаками и дешифрованными признаками отсутствуют. Алгоритм шифрования/дешифрования реализован  "
   ]
  },
  {
   "attachments": {},
   "cell_type": "markdown",
   "metadata": {},
   "source": [
    "### Сравнение качества моделей до и после преобразования"
   ]
  },
  {
   "cell_type": "code",
   "execution_count": 21,
   "metadata": {},
   "outputs": [
    {
     "name": "stdout",
     "output_type": "stream",
     "text": [
      "0.42495\n",
      "разница значений R2 после шифрования признаков сотавила = 0.0\n"
     ]
    }
   ],
   "source": [
    "model = LinearRegression() \n",
    "model.fit(features_coding, target) #обучим модель на зашифрованных данных\n",
    "predictions = model.predict(features_coding)\n",
    "r2_coding = round(r2_score(target, predictions), 5)\n",
    "print(r2_coding)\n",
    "\n",
    "print('разница значений R2 после шифрования признаков сотавила =', r2-r2_coding )"
   ]
  },
  {
   "attachments": {},
   "cell_type": "markdown",
   "metadata": {},
   "source": [
    "В разделе 2 был сделан вывод о том, что предсказания модели при домножении матрицы признаков  𝑋  на матрицу  𝑃  не изменются. Таким образом, получено подтверждение сделанному. Отличие результата от 0 на 6 знаке после запятой является погрешностью при использовании численных методов  "
   ]
  },
  {
   "attachments": {},
   "cell_type": "markdown",
   "metadata": {},
   "source": [
    "## Общий вывод"
   ]
  },
  {
   "attachments": {},
   "cell_type": "markdown",
   "metadata": {},
   "source": [
    "Для достижения цели работы был реализован метод шифрования данных с использованием разновидности шифра Хилла.\n",
    "Метод заключается в домножении данных о пользователях на заранее подготовленную матрицу - ключ.  \n",
    "Для дешифрования данных происходит их умножение на обратную матрицу к матрице ключу.  \n",
    "  \n",
    "Достоинствами данного метода является:  \n",
    "- простота реализации;  \n",
    "- возможность быстрой смены матрицы, используемой для шифрования данных;  \n",
    "- предсказания модели при умножении матрицы признаков на матрицу-ключ не изменются;\n",
    "\n",
    "Недостатками шифра Хилла является никая криптостойкость.\n",
    "  \n",
    "В процессе выполнения работы было теоретически установлено:  \n",
    "-  формула преобразования вектора весов: $ w_p = P^{-1}w $ или $ w = Pw_p $;\n",
    "- предсказания модели при домножении матрицы признаков $ X $ на матрицу $ P $ не изменются (качества моделей до и после преобразования не измелилось);\n",
    "- матрица, используемая для шифрования данных, должна быть квадратной и иметь размер равный количеству шифруемых признаков\n",
    "\n"
   ]
  }
 ],
 "metadata": {
  "ExecuteTimeLog": [
   {
    "duration": 1686,
    "start_time": "2023-01-22T06:03:25.684Z"
   },
   {
    "duration": 126,
    "start_time": "2023-01-22T06:03:28.133Z"
   },
   {
    "duration": 18,
    "start_time": "2023-01-22T06:03:44.677Z"
   },
   {
    "duration": 6,
    "start_time": "2023-01-22T06:04:28.804Z"
   },
   {
    "duration": 13,
    "start_time": "2023-01-22T06:05:09.586Z"
   },
   {
    "duration": 12,
    "start_time": "2023-01-22T06:05:23.252Z"
   },
   {
    "duration": 5,
    "start_time": "2023-01-22T06:06:57.825Z"
   },
   {
    "duration": 4,
    "start_time": "2023-01-22T06:07:07.552Z"
   },
   {
    "duration": 7,
    "start_time": "2023-01-22T06:07:33.048Z"
   },
   {
    "duration": 112,
    "start_time": "2023-01-22T06:20:37.283Z"
   },
   {
    "duration": 118,
    "start_time": "2023-01-22T06:20:45.823Z"
   },
   {
    "duration": 15,
    "start_time": "2023-01-22T06:21:11.541Z"
   },
   {
    "duration": 20,
    "start_time": "2023-01-22T06:22:16.107Z"
   },
   {
    "duration": 8,
    "start_time": "2023-01-22T06:22:38.125Z"
   },
   {
    "duration": 10,
    "start_time": "2023-01-22T06:23:06.634Z"
   },
   {
    "duration": 9,
    "start_time": "2023-01-22T06:23:30.594Z"
   },
   {
    "duration": 10,
    "start_time": "2023-01-22T06:25:16.240Z"
   },
   {
    "duration": 7,
    "start_time": "2023-01-22T06:27:53.268Z"
   },
   {
    "duration": 36,
    "start_time": "2023-01-22T06:29:33.497Z"
   },
   {
    "duration": 73,
    "start_time": "2023-01-22T06:30:14.785Z"
   },
   {
    "duration": 49,
    "start_time": "2023-01-22T06:30:38.272Z"
   },
   {
    "duration": 6,
    "start_time": "2023-01-22T06:31:09.259Z"
   },
   {
    "duration": 11,
    "start_time": "2023-01-22T06:31:29.775Z"
   },
   {
    "duration": 6,
    "start_time": "2023-01-22T06:33:27.158Z"
   },
   {
    "duration": 16,
    "start_time": "2023-01-22T06:33:28.214Z"
   },
   {
    "duration": 9,
    "start_time": "2023-01-22T06:33:45.350Z"
   },
   {
    "duration": 4,
    "start_time": "2023-01-22T06:34:56.659Z"
   },
   {
    "duration": 16,
    "start_time": "2023-01-22T06:35:45.434Z"
   },
   {
    "duration": 8,
    "start_time": "2023-01-22T06:35:46.714Z"
   },
   {
    "duration": 17,
    "start_time": "2023-01-22T06:35:51.409Z"
   },
   {
    "duration": 3,
    "start_time": "2023-01-22T06:35:53.601Z"
   },
   {
    "duration": 16,
    "start_time": "2023-01-22T06:36:19.374Z"
   },
   {
    "duration": 9,
    "start_time": "2023-01-22T06:36:22.193Z"
   },
   {
    "duration": 17,
    "start_time": "2023-01-22T06:36:23.072Z"
   },
   {
    "duration": 3,
    "start_time": "2023-01-22T06:36:32.024Z"
   },
   {
    "duration": 4,
    "start_time": "2023-01-22T06:41:07.477Z"
   },
   {
    "duration": 24,
    "start_time": "2023-01-22T06:54:59.398Z"
   },
   {
    "duration": 12,
    "start_time": "2023-01-22T06:55:00.014Z"
   },
   {
    "duration": 9,
    "start_time": "2023-01-22T06:55:01.007Z"
   },
   {
    "duration": 14,
    "start_time": "2023-01-22T06:55:01.910Z"
   },
   {
    "duration": 8,
    "start_time": "2023-01-22T06:55:03.622Z"
   },
   {
    "duration": 12,
    "start_time": "2023-01-22T06:55:04.438Z"
   },
   {
    "duration": 4,
    "start_time": "2023-01-22T06:55:46.555Z"
   },
   {
    "duration": 17,
    "start_time": "2023-01-22T06:56:18.807Z"
   },
   {
    "duration": 10,
    "start_time": "2023-01-22T06:56:19.854Z"
   },
   {
    "duration": 13,
    "start_time": "2023-01-22T06:56:20.469Z"
   },
   {
    "duration": 27,
    "start_time": "2023-01-22T06:57:07.667Z"
   },
   {
    "duration": 15,
    "start_time": "2023-01-22T06:57:08.131Z"
   },
   {
    "duration": 12,
    "start_time": "2023-01-22T06:57:08.763Z"
   },
   {
    "duration": 18,
    "start_time": "2023-01-22T06:57:09.602Z"
   },
   {
    "duration": 10,
    "start_time": "2023-01-22T06:57:10.455Z"
   },
   {
    "duration": 39,
    "start_time": "2023-01-22T06:57:57.615Z"
   },
   {
    "duration": 11,
    "start_time": "2023-01-22T06:57:58.058Z"
   },
   {
    "duration": 8,
    "start_time": "2023-01-22T06:57:58.490Z"
   },
   {
    "duration": 15,
    "start_time": "2023-01-22T06:57:59.513Z"
   },
   {
    "duration": 21,
    "start_time": "2023-01-22T06:58:09.603Z"
   },
   {
    "duration": 15,
    "start_time": "2023-01-22T06:59:54.542Z"
   },
   {
    "duration": 10,
    "start_time": "2023-01-22T07:00:35.086Z"
   },
   {
    "duration": 4,
    "start_time": "2023-01-22T07:02:45.523Z"
   },
   {
    "duration": 10,
    "start_time": "2023-01-22T07:02:48.770Z"
   },
   {
    "duration": 30,
    "start_time": "2023-01-22T07:02:55.916Z"
   },
   {
    "duration": 4,
    "start_time": "2023-01-22T07:03:15.329Z"
   },
   {
    "duration": 1235,
    "start_time": "2023-01-22T07:05:19.134Z"
   },
   {
    "duration": 1216,
    "start_time": "2023-01-22T07:05:25.630Z"
   },
   {
    "duration": 1216,
    "start_time": "2023-01-22T07:07:12.740Z"
   },
   {
    "duration": 1169,
    "start_time": "2023-01-22T07:08:25.594Z"
   },
   {
    "duration": 1144,
    "start_time": "2023-01-22T07:08:31.706Z"
   },
   {
    "duration": 1128,
    "start_time": "2023-01-22T07:08:42.084Z"
   },
   {
    "duration": 25,
    "start_time": "2023-01-22T07:08:51.608Z"
   },
   {
    "duration": 11,
    "start_time": "2023-01-22T07:08:52.097Z"
   },
   {
    "duration": 9,
    "start_time": "2023-01-22T07:08:52.672Z"
   },
   {
    "duration": 10,
    "start_time": "2023-01-22T07:08:53.264Z"
   },
   {
    "duration": 1172,
    "start_time": "2023-01-22T07:08:54.041Z"
   },
   {
    "duration": 1150,
    "start_time": "2023-01-22T07:11:00.342Z"
   },
   {
    "duration": 5,
    "start_time": "2023-01-22T07:11:30.358Z"
   },
   {
    "duration": 12,
    "start_time": "2023-01-22T07:11:53.021Z"
   },
   {
    "duration": 19,
    "start_time": "2023-01-22T07:12:14.628Z"
   },
   {
    "duration": 5,
    "start_time": "2023-01-22T07:12:17.502Z"
   },
   {
    "duration": 10,
    "start_time": "2023-01-22T07:12:18.227Z"
   },
   {
    "duration": 5,
    "start_time": "2023-01-22T07:12:21.436Z"
   },
   {
    "duration": 1138,
    "start_time": "2023-01-22T07:13:55.473Z"
   },
   {
    "duration": 5,
    "start_time": "2023-01-22T07:14:19.009Z"
   },
   {
    "duration": 9,
    "start_time": "2023-01-22T07:14:21.529Z"
   },
   {
    "duration": 13,
    "start_time": "2023-01-22T07:15:30.775Z"
   },
   {
    "duration": 6,
    "start_time": "2023-01-22T07:16:29.557Z"
   },
   {
    "duration": 8,
    "start_time": "2023-01-22T07:16:30.933Z"
   },
   {
    "duration": 6,
    "start_time": "2023-01-22T07:17:43.300Z"
   },
   {
    "duration": 5,
    "start_time": "2023-01-22T07:18:57.865Z"
   },
   {
    "duration": 1437,
    "start_time": "2023-01-22T07:21:28.259Z"
   },
   {
    "duration": 24,
    "start_time": "2023-01-22T07:21:29.698Z"
   },
   {
    "duration": 11,
    "start_time": "2023-01-22T07:21:29.724Z"
   },
   {
    "duration": 16,
    "start_time": "2023-01-22T07:21:29.737Z"
   },
   {
    "duration": 24,
    "start_time": "2023-01-22T07:21:29.755Z"
   },
   {
    "duration": 23,
    "start_time": "2023-01-22T07:21:29.781Z"
   },
   {
    "duration": 440,
    "start_time": "2023-01-22T07:22:04.734Z"
   },
   {
    "duration": 492,
    "start_time": "2023-01-22T07:24:41.385Z"
   },
   {
    "duration": 550,
    "start_time": "2023-01-22T07:27:00.649Z"
   },
   {
    "duration": 10,
    "start_time": "2023-01-22T07:27:49.309Z"
   },
   {
    "duration": 1444,
    "start_time": "2023-01-22T07:29:46.479Z"
   },
   {
    "duration": 27,
    "start_time": "2023-01-22T07:29:47.926Z"
   },
   {
    "duration": 11,
    "start_time": "2023-01-22T07:29:47.956Z"
   },
   {
    "duration": 570,
    "start_time": "2023-01-22T07:29:47.969Z"
   },
   {
    "duration": 16,
    "start_time": "2023-01-22T07:29:48.540Z"
   },
   {
    "duration": 19,
    "start_time": "2023-01-22T07:29:48.558Z"
   },
   {
    "duration": 16,
    "start_time": "2023-01-22T07:29:48.579Z"
   },
   {
    "duration": 287,
    "start_time": "2023-01-22T09:00:00.570Z"
   },
   {
    "duration": 3,
    "start_time": "2023-01-22T09:00:44.975Z"
   },
   {
    "duration": 1385,
    "start_time": "2023-01-22T09:00:49.482Z"
   },
   {
    "duration": 25,
    "start_time": "2023-01-22T09:00:50.869Z"
   },
   {
    "duration": 13,
    "start_time": "2023-01-22T09:00:50.896Z"
   },
   {
    "duration": 570,
    "start_time": "2023-01-22T09:00:50.911Z"
   },
   {
    "duration": 15,
    "start_time": "2023-01-22T09:00:51.483Z"
   },
   {
    "duration": 22,
    "start_time": "2023-01-22T09:00:51.500Z"
   },
   {
    "duration": 10,
    "start_time": "2023-01-22T09:00:51.525Z"
   },
   {
    "duration": 101,
    "start_time": "2023-01-22T09:00:51.554Z"
   },
   {
    "duration": 6,
    "start_time": "2023-01-22T09:08:26.276Z"
   },
   {
    "duration": 1353,
    "start_time": "2023-01-22T09:23:31.145Z"
   },
   {
    "duration": 25,
    "start_time": "2023-01-22T09:23:32.500Z"
   },
   {
    "duration": 14,
    "start_time": "2023-01-22T09:23:32.527Z"
   },
   {
    "duration": 576,
    "start_time": "2023-01-22T09:23:32.543Z"
   },
   {
    "duration": 10,
    "start_time": "2023-01-22T09:23:33.121Z"
   },
   {
    "duration": 36,
    "start_time": "2023-01-22T09:23:33.133Z"
   },
   {
    "duration": 27,
    "start_time": "2023-01-22T09:23:33.171Z"
   },
   {
    "duration": 11,
    "start_time": "2023-01-22T09:23:33.200Z"
   },
   {
    "duration": 19,
    "start_time": "2023-01-22T09:23:33.212Z"
   },
   {
    "duration": 32,
    "start_time": "2023-01-22T09:23:33.233Z"
   },
   {
    "duration": 1383,
    "start_time": "2023-01-22T09:24:59.299Z"
   },
   {
    "duration": 26,
    "start_time": "2023-01-22T09:25:00.685Z"
   },
   {
    "duration": 51,
    "start_time": "2023-01-22T09:25:00.713Z"
   },
   {
    "duration": 646,
    "start_time": "2023-01-22T09:25:00.765Z"
   },
   {
    "duration": 12,
    "start_time": "2023-01-22T09:25:01.413Z"
   },
   {
    "duration": 40,
    "start_time": "2023-01-22T09:25:01.427Z"
   },
   {
    "duration": 46,
    "start_time": "2023-01-22T09:25:01.469Z"
   },
   {
    "duration": 25,
    "start_time": "2023-01-22T09:25:01.517Z"
   },
   {
    "duration": 23,
    "start_time": "2023-01-22T09:25:01.544Z"
   },
   {
    "duration": 33,
    "start_time": "2023-01-22T09:25:01.569Z"
   },
   {
    "duration": 1844,
    "start_time": "2023-01-22T14:16:22.075Z"
   },
   {
    "duration": 134,
    "start_time": "2023-01-22T14:16:23.922Z"
   },
   {
    "duration": 15,
    "start_time": "2023-01-22T14:16:24.058Z"
   },
   {
    "duration": 647,
    "start_time": "2023-01-22T14:16:24.075Z"
   },
   {
    "duration": 23,
    "start_time": "2023-01-22T14:16:24.725Z"
   },
   {
    "duration": 37,
    "start_time": "2023-01-22T14:16:24.750Z"
   },
   {
    "duration": 41,
    "start_time": "2023-01-22T14:16:24.789Z"
   },
   {
    "duration": 53,
    "start_time": "2023-01-22T14:16:24.833Z"
   },
   {
    "duration": 23,
    "start_time": "2023-01-22T14:16:24.888Z"
   },
   {
    "duration": 45,
    "start_time": "2023-01-22T14:16:24.913Z"
   },
   {
    "duration": 53,
    "start_time": "2023-01-22T17:25:14.905Z"
   },
   {
    "duration": 1423,
    "start_time": "2023-01-22T17:25:25.339Z"
   },
   {
    "duration": 124,
    "start_time": "2023-01-22T17:25:26.764Z"
   },
   {
    "duration": 13,
    "start_time": "2023-01-22T17:25:26.890Z"
   },
   {
    "duration": 586,
    "start_time": "2023-01-22T17:25:26.905Z"
   },
   {
    "duration": 14,
    "start_time": "2023-01-22T17:25:27.493Z"
   },
   {
    "duration": 20,
    "start_time": "2023-01-22T17:25:27.509Z"
   },
   {
    "duration": 8,
    "start_time": "2023-01-22T17:25:27.531Z"
   },
   {
    "duration": 6,
    "start_time": "2023-01-22T17:25:27.540Z"
   },
   {
    "duration": 6,
    "start_time": "2023-01-22T17:25:27.548Z"
   },
   {
    "duration": 55,
    "start_time": "2023-01-22T17:25:27.557Z"
   },
   {
    "duration": 4,
    "start_time": "2023-01-22T17:25:27.700Z"
   },
   {
    "duration": 3,
    "start_time": "2023-01-22T17:25:53.404Z"
   },
   {
    "duration": 4,
    "start_time": "2023-01-22T17:26:43.891Z"
   },
   {
    "duration": 3,
    "start_time": "2023-01-22T17:26:44.946Z"
   },
   {
    "duration": 2,
    "start_time": "2023-01-22T17:26:50.946Z"
   },
   {
    "duration": 4,
    "start_time": "2023-01-22T17:26:51.858Z"
   },
   {
    "duration": 3,
    "start_time": "2023-01-22T17:29:43.958Z"
   },
   {
    "duration": 3,
    "start_time": "2023-01-22T17:29:44.662Z"
   },
   {
    "duration": 3,
    "start_time": "2023-01-22T17:29:45.766Z"
   },
   {
    "duration": 4,
    "start_time": "2023-01-22T17:29:52.349Z"
   },
   {
    "duration": 4,
    "start_time": "2023-01-22T17:29:52.846Z"
   },
   {
    "duration": 4,
    "start_time": "2023-01-22T17:29:53.373Z"
   },
   {
    "duration": 2,
    "start_time": "2023-01-22T17:29:57.470Z"
   },
   {
    "duration": 3,
    "start_time": "2023-01-22T17:29:57.894Z"
   },
   {
    "duration": 3,
    "start_time": "2023-01-22T17:29:58.405Z"
   },
   {
    "duration": 3,
    "start_time": "2023-01-22T17:30:08.309Z"
   },
   {
    "duration": 3,
    "start_time": "2023-01-22T17:30:08.988Z"
   },
   {
    "duration": 4,
    "start_time": "2023-01-22T17:30:09.565Z"
   },
   {
    "duration": 4,
    "start_time": "2023-01-22T17:30:13.573Z"
   },
   {
    "duration": 4,
    "start_time": "2023-01-22T17:30:14.077Z"
   },
   {
    "duration": 4,
    "start_time": "2023-01-22T17:30:14.780Z"
   },
   {
    "duration": 3,
    "start_time": "2023-01-22T17:30:17.694Z"
   },
   {
    "duration": 3,
    "start_time": "2023-01-22T17:30:18.133Z"
   },
   {
    "duration": 4,
    "start_time": "2023-01-22T17:30:18.613Z"
   },
   {
    "duration": 1310,
    "start_time": "2023-01-22T17:30:38.872Z"
   },
   {
    "duration": 24,
    "start_time": "2023-01-22T17:30:40.184Z"
   },
   {
    "duration": 15,
    "start_time": "2023-01-22T17:30:40.210Z"
   },
   {
    "duration": 545,
    "start_time": "2023-01-22T17:30:40.227Z"
   },
   {
    "duration": 13,
    "start_time": "2023-01-22T17:30:40.774Z"
   },
   {
    "duration": 22,
    "start_time": "2023-01-22T17:30:40.799Z"
   },
   {
    "duration": 12,
    "start_time": "2023-01-22T17:30:40.823Z"
   },
   {
    "duration": 7,
    "start_time": "2023-01-22T17:30:40.836Z"
   },
   {
    "duration": 8,
    "start_time": "2023-01-22T17:30:40.844Z"
   },
   {
    "duration": 48,
    "start_time": "2023-01-22T17:30:40.854Z"
   },
   {
    "duration": 104,
    "start_time": "2023-01-22T17:30:40.903Z"
   },
   {
    "duration": 15,
    "start_time": "2023-01-22T17:30:41.009Z"
   },
   {
    "duration": 9,
    "start_time": "2023-01-22T17:30:41.026Z"
   },
   {
    "duration": 1362,
    "start_time": "2023-01-22T17:31:17.177Z"
   },
   {
    "duration": 27,
    "start_time": "2023-01-22T17:31:18.541Z"
   },
   {
    "duration": 16,
    "start_time": "2023-01-22T17:31:18.569Z"
   },
   {
    "duration": 584,
    "start_time": "2023-01-22T17:31:18.587Z"
   },
   {
    "duration": 11,
    "start_time": "2023-01-22T17:31:19.173Z"
   },
   {
    "duration": 35,
    "start_time": "2023-01-22T17:31:19.186Z"
   },
   {
    "duration": 10,
    "start_time": "2023-01-22T17:31:19.222Z"
   },
   {
    "duration": 7,
    "start_time": "2023-01-22T17:31:19.234Z"
   },
   {
    "duration": 5,
    "start_time": "2023-01-22T17:31:19.243Z"
   },
   {
    "duration": 52,
    "start_time": "2023-01-22T17:31:19.250Z"
   },
   {
    "duration": 100,
    "start_time": "2023-01-22T17:31:19.304Z"
   },
   {
    "duration": 5,
    "start_time": "2023-01-22T17:31:19.406Z"
   },
   {
    "duration": 6,
    "start_time": "2023-01-22T17:31:19.413Z"
   },
   {
    "duration": 3,
    "start_time": "2023-01-22T17:33:39.217Z"
   },
   {
    "duration": 3,
    "start_time": "2023-01-22T17:33:39.820Z"
   },
   {
    "duration": 3,
    "start_time": "2023-01-22T17:33:40.320Z"
   },
   {
    "duration": 5,
    "start_time": "2023-01-22T17:36:18.885Z"
   },
   {
    "duration": 3,
    "start_time": "2023-01-22T17:37:48.660Z"
   },
   {
    "duration": 2,
    "start_time": "2023-01-22T17:38:22.595Z"
   },
   {
    "duration": 4,
    "start_time": "2023-01-22T17:39:20.151Z"
   },
   {
    "duration": 4,
    "start_time": "2023-01-22T17:40:19.158Z"
   },
   {
    "duration": 9,
    "start_time": "2023-01-22T17:52:22.931Z"
   },
   {
    "duration": 11,
    "start_time": "2023-01-22T17:52:30.878Z"
   },
   {
    "duration": 3,
    "start_time": "2023-01-22T17:53:51.043Z"
   },
   {
    "duration": 5,
    "start_time": "2023-01-22T17:55:18.328Z"
   },
   {
    "duration": 3,
    "start_time": "2023-01-22T17:57:40.093Z"
   },
   {
    "duration": 120,
    "start_time": "2023-01-22T17:58:28.528Z"
   },
   {
    "duration": 7,
    "start_time": "2023-01-22T17:58:57.638Z"
   },
   {
    "duration": 1335,
    "start_time": "2023-01-22T18:00:28.299Z"
   },
   {
    "duration": 25,
    "start_time": "2023-01-22T18:00:29.635Z"
   },
   {
    "duration": 15,
    "start_time": "2023-01-22T18:00:29.661Z"
   },
   {
    "duration": 643,
    "start_time": "2023-01-22T18:00:29.685Z"
   },
   {
    "duration": 11,
    "start_time": "2023-01-22T18:00:30.333Z"
   },
   {
    "duration": 29,
    "start_time": "2023-01-22T18:00:30.346Z"
   },
   {
    "duration": 16,
    "start_time": "2023-01-22T18:00:30.376Z"
   },
   {
    "duration": 24,
    "start_time": "2023-01-22T18:00:30.394Z"
   },
   {
    "duration": 53,
    "start_time": "2023-01-22T18:00:30.419Z"
   },
   {
    "duration": 60,
    "start_time": "2023-01-22T18:00:30.475Z"
   },
   {
    "duration": 65,
    "start_time": "2023-01-22T18:00:30.538Z"
   },
   {
    "duration": 164,
    "start_time": "2023-01-22T18:00:30.604Z"
   },
   {
    "duration": 72,
    "start_time": "2023-01-22T18:00:30.769Z"
   },
   {
    "duration": 42,
    "start_time": "2023-01-22T18:00:30.843Z"
   },
   {
    "duration": 111,
    "start_time": "2023-01-22T18:00:30.887Z"
   },
   {
    "duration": 64,
    "start_time": "2023-01-22T18:00:31.000Z"
   },
   {
    "duration": 1359,
    "start_time": "2023-01-22T18:01:27.076Z"
   },
   {
    "duration": 24,
    "start_time": "2023-01-22T18:01:28.437Z"
   },
   {
    "duration": 14,
    "start_time": "2023-01-22T18:01:28.462Z"
   },
   {
    "duration": 586,
    "start_time": "2023-01-22T18:01:28.478Z"
   },
   {
    "duration": 12,
    "start_time": "2023-01-22T18:01:29.066Z"
   },
   {
    "duration": 33,
    "start_time": "2023-01-22T18:01:29.080Z"
   },
   {
    "duration": 27,
    "start_time": "2023-01-22T18:01:29.115Z"
   },
   {
    "duration": 25,
    "start_time": "2023-01-22T18:01:29.143Z"
   },
   {
    "duration": 8,
    "start_time": "2023-01-22T18:01:29.170Z"
   },
   {
    "duration": 62,
    "start_time": "2023-01-22T18:01:29.180Z"
   },
   {
    "duration": 188,
    "start_time": "2023-01-22T18:01:29.245Z"
   },
   {
    "duration": 7,
    "start_time": "2023-01-22T18:01:29.435Z"
   },
   {
    "duration": 14,
    "start_time": "2023-01-22T18:01:29.444Z"
   },
   {
    "duration": 8,
    "start_time": "2023-01-22T18:01:29.460Z"
   },
   {
    "duration": 32,
    "start_time": "2023-01-22T18:01:29.470Z"
   },
   {
    "duration": 98,
    "start_time": "2023-01-22T18:01:29.503Z"
   },
   {
    "duration": 47,
    "start_time": "2023-01-22T18:01:29.603Z"
   },
   {
    "duration": 3,
    "start_time": "2023-01-22T18:13:32.781Z"
   },
   {
    "duration": 8,
    "start_time": "2023-01-22T18:13:33.314Z"
   },
   {
    "duration": 254,
    "start_time": "2023-01-22T18:14:36.926Z"
   },
   {
    "duration": 8,
    "start_time": "2023-01-22T18:14:45.372Z"
   },
   {
    "duration": 1224,
    "start_time": "2023-01-22T18:16:10.148Z"
   },
   {
    "duration": 36,
    "start_time": "2023-01-22T18:16:11.373Z"
   },
   {
    "duration": 14,
    "start_time": "2023-01-22T18:16:11.411Z"
   },
   {
    "duration": 540,
    "start_time": "2023-01-22T18:16:11.427Z"
   },
   {
    "duration": 10,
    "start_time": "2023-01-22T18:16:11.969Z"
   },
   {
    "duration": 38,
    "start_time": "2023-01-22T18:16:11.981Z"
   },
   {
    "duration": 7,
    "start_time": "2023-01-22T18:16:12.021Z"
   },
   {
    "duration": 9,
    "start_time": "2023-01-22T18:16:12.029Z"
   },
   {
    "duration": 8,
    "start_time": "2023-01-22T18:16:12.040Z"
   },
   {
    "duration": 85,
    "start_time": "2023-01-22T18:16:12.051Z"
   },
   {
    "duration": 0,
    "start_time": "2023-01-22T18:16:12.138Z"
   },
   {
    "duration": 0,
    "start_time": "2023-01-22T18:16:12.139Z"
   },
   {
    "duration": 0,
    "start_time": "2023-01-22T18:16:12.140Z"
   },
   {
    "duration": 0,
    "start_time": "2023-01-22T18:16:12.141Z"
   },
   {
    "duration": 0,
    "start_time": "2023-01-22T18:16:12.142Z"
   },
   {
    "duration": 0,
    "start_time": "2023-01-22T18:16:12.143Z"
   },
   {
    "duration": 0,
    "start_time": "2023-01-22T18:16:12.144Z"
   },
   {
    "duration": 0,
    "start_time": "2023-01-22T18:16:12.145Z"
   },
   {
    "duration": 1210,
    "start_time": "2023-01-22T18:19:41.859Z"
   },
   {
    "duration": 26,
    "start_time": "2023-01-22T18:19:43.072Z"
   },
   {
    "duration": 16,
    "start_time": "2023-01-22T18:19:43.099Z"
   },
   {
    "duration": 536,
    "start_time": "2023-01-22T18:19:43.117Z"
   },
   {
    "duration": 13,
    "start_time": "2023-01-22T18:19:43.654Z"
   },
   {
    "duration": 36,
    "start_time": "2023-01-22T18:19:43.668Z"
   },
   {
    "duration": 10,
    "start_time": "2023-01-22T18:19:43.705Z"
   },
   {
    "duration": 6,
    "start_time": "2023-01-22T18:19:43.717Z"
   },
   {
    "duration": 7,
    "start_time": "2023-01-22T18:19:43.724Z"
   },
   {
    "duration": 270,
    "start_time": "2023-01-22T18:19:43.733Z"
   },
   {
    "duration": 0,
    "start_time": "2023-01-22T18:19:44.005Z"
   },
   {
    "duration": 0,
    "start_time": "2023-01-22T18:19:44.007Z"
   },
   {
    "duration": 0,
    "start_time": "2023-01-22T18:19:44.009Z"
   },
   {
    "duration": 0,
    "start_time": "2023-01-22T18:19:44.011Z"
   },
   {
    "duration": 0,
    "start_time": "2023-01-22T18:19:44.012Z"
   },
   {
    "duration": 0,
    "start_time": "2023-01-22T18:19:44.013Z"
   },
   {
    "duration": 0,
    "start_time": "2023-01-22T18:19:44.014Z"
   },
   {
    "duration": 0,
    "start_time": "2023-01-22T18:19:44.015Z"
   },
   {
    "duration": 1318,
    "start_time": "2023-01-22T18:20:30.017Z"
   },
   {
    "duration": 26,
    "start_time": "2023-01-22T18:20:31.337Z"
   },
   {
    "duration": 14,
    "start_time": "2023-01-22T18:20:31.365Z"
   },
   {
    "duration": 565,
    "start_time": "2023-01-22T18:20:31.381Z"
   },
   {
    "duration": 10,
    "start_time": "2023-01-22T18:20:31.948Z"
   },
   {
    "duration": 25,
    "start_time": "2023-01-22T18:20:31.960Z"
   },
   {
    "duration": 7,
    "start_time": "2023-01-22T18:20:31.999Z"
   },
   {
    "duration": 15,
    "start_time": "2023-01-22T18:20:32.007Z"
   },
   {
    "duration": 7,
    "start_time": "2023-01-22T18:20:32.023Z"
   },
   {
    "duration": 13,
    "start_time": "2023-01-22T18:20:32.032Z"
   },
   {
    "duration": 98,
    "start_time": "2023-01-22T18:20:32.104Z"
   },
   {
    "duration": 9,
    "start_time": "2023-01-22T18:20:32.204Z"
   },
   {
    "duration": 9,
    "start_time": "2023-01-22T18:20:32.215Z"
   },
   {
    "duration": 24,
    "start_time": "2023-01-22T18:20:32.225Z"
   },
   {
    "duration": 9,
    "start_time": "2023-01-22T18:20:32.251Z"
   },
   {
    "duration": 45,
    "start_time": "2023-01-22T18:20:32.262Z"
   },
   {
    "duration": 92,
    "start_time": "2023-01-22T18:20:32.310Z"
   },
   {
    "duration": 8,
    "start_time": "2023-01-22T18:20:32.405Z"
   },
   {
    "duration": 3,
    "start_time": "2023-01-22T18:25:04.956Z"
   },
   {
    "duration": 1295,
    "start_time": "2023-01-22T18:27:09.693Z"
   },
   {
    "duration": 25,
    "start_time": "2023-01-22T18:27:10.990Z"
   },
   {
    "duration": 14,
    "start_time": "2023-01-22T18:27:11.017Z"
   },
   {
    "duration": 511,
    "start_time": "2023-01-22T18:27:11.033Z"
   },
   {
    "duration": 10,
    "start_time": "2023-01-22T18:27:11.546Z"
   },
   {
    "duration": 20,
    "start_time": "2023-01-22T18:27:11.557Z"
   },
   {
    "duration": 22,
    "start_time": "2023-01-22T18:27:11.578Z"
   },
   {
    "duration": 3,
    "start_time": "2023-01-22T18:27:11.602Z"
   },
   {
    "duration": 7,
    "start_time": "2023-01-22T18:27:11.607Z"
   },
   {
    "duration": 10,
    "start_time": "2023-01-22T18:27:11.616Z"
   },
   {
    "duration": 8,
    "start_time": "2023-01-22T18:27:11.699Z"
   },
   {
    "duration": 94,
    "start_time": "2023-01-22T18:27:11.709Z"
   },
   {
    "duration": 6,
    "start_time": "2023-01-22T18:27:11.804Z"
   },
   {
    "duration": 6,
    "start_time": "2023-01-22T18:27:11.812Z"
   },
   {
    "duration": 6,
    "start_time": "2023-01-22T18:27:11.820Z"
   },
   {
    "duration": 71,
    "start_time": "2023-01-22T18:27:11.828Z"
   },
   {
    "duration": 10,
    "start_time": "2023-01-22T18:27:11.901Z"
   },
   {
    "duration": 91,
    "start_time": "2023-01-22T18:27:11.912Z"
   },
   {
    "duration": 4,
    "start_time": "2023-01-22T18:27:12.004Z"
   },
   {
    "duration": 349,
    "start_time": "2023-01-22T18:27:12.102Z"
   },
   {
    "duration": 3,
    "start_time": "2023-01-22T18:30:09.569Z"
   },
   {
    "duration": 1297,
    "start_time": "2023-01-22T18:31:08.289Z"
   },
   {
    "duration": 25,
    "start_time": "2023-01-22T18:31:09.588Z"
   },
   {
    "duration": 14,
    "start_time": "2023-01-22T18:31:09.614Z"
   },
   {
    "duration": 529,
    "start_time": "2023-01-22T18:31:09.630Z"
   },
   {
    "duration": 11,
    "start_time": "2023-01-22T18:31:10.160Z"
   },
   {
    "duration": 30,
    "start_time": "2023-01-22T18:31:10.172Z"
   },
   {
    "duration": 20,
    "start_time": "2023-01-22T18:31:10.204Z"
   },
   {
    "duration": 27,
    "start_time": "2023-01-22T18:31:10.226Z"
   },
   {
    "duration": 12,
    "start_time": "2023-01-22T18:31:10.254Z"
   },
   {
    "duration": 32,
    "start_time": "2023-01-22T18:31:10.268Z"
   },
   {
    "duration": 98,
    "start_time": "2023-01-22T18:31:10.301Z"
   },
   {
    "duration": 3,
    "start_time": "2023-01-22T18:31:10.401Z"
   },
   {
    "duration": 13,
    "start_time": "2023-01-22T18:31:10.405Z"
   },
   {
    "duration": 23,
    "start_time": "2023-01-22T18:31:10.420Z"
   },
   {
    "duration": 54,
    "start_time": "2023-01-22T18:31:10.445Z"
   },
   {
    "duration": 269,
    "start_time": "2023-01-22T18:31:10.501Z"
   },
   {
    "duration": 0,
    "start_time": "2023-01-22T18:31:10.771Z"
   },
   {
    "duration": 0,
    "start_time": "2023-01-22T18:31:10.773Z"
   },
   {
    "duration": 0,
    "start_time": "2023-01-22T18:31:10.774Z"
   },
   {
    "duration": 0,
    "start_time": "2023-01-22T18:31:10.774Z"
   },
   {
    "duration": 3,
    "start_time": "2023-01-22T18:37:11.861Z"
   },
   {
    "duration": 4,
    "start_time": "2023-01-22T18:37:13.206Z"
   },
   {
    "duration": 12,
    "start_time": "2023-01-22T18:37:14.137Z"
   },
   {
    "duration": 3,
    "start_time": "2023-01-22T18:38:08.555Z"
   },
   {
    "duration": 3,
    "start_time": "2023-01-22T18:38:09.222Z"
   },
   {
    "duration": 7,
    "start_time": "2023-01-22T18:38:09.764Z"
   },
   {
    "duration": 101,
    "start_time": "2023-01-22T18:38:13.700Z"
   },
   {
    "duration": 3,
    "start_time": "2023-01-22T18:38:59.387Z"
   },
   {
    "duration": 16,
    "start_time": "2023-01-22T18:38:59.931Z"
   },
   {
    "duration": 3,
    "start_time": "2023-01-22T18:39:45.138Z"
   },
   {
    "duration": 16,
    "start_time": "2023-01-22T18:39:46.842Z"
   },
   {
    "duration": 4,
    "start_time": "2023-01-22T18:42:14.903Z"
   },
   {
    "duration": 10,
    "start_time": "2023-01-22T18:42:15.487Z"
   },
   {
    "duration": 13,
    "start_time": "2023-01-22T18:47:16.701Z"
   },
   {
    "duration": 6,
    "start_time": "2023-01-22T18:47:40.241Z"
   },
   {
    "duration": 1443,
    "start_time": "2023-01-22T19:07:48.991Z"
   },
   {
    "duration": 28,
    "start_time": "2023-01-22T19:07:50.438Z"
   },
   {
    "duration": 18,
    "start_time": "2023-01-22T19:07:50.469Z"
   },
   {
    "duration": 602,
    "start_time": "2023-01-22T19:07:50.491Z"
   },
   {
    "duration": 13,
    "start_time": "2023-01-22T19:07:51.095Z"
   },
   {
    "duration": 27,
    "start_time": "2023-01-22T19:07:51.110Z"
   },
   {
    "duration": 11,
    "start_time": "2023-01-22T19:07:51.139Z"
   },
   {
    "duration": 14,
    "start_time": "2023-01-22T19:07:51.152Z"
   },
   {
    "duration": 7,
    "start_time": "2023-01-22T19:07:51.167Z"
   },
   {
    "duration": 26,
    "start_time": "2023-01-22T19:07:51.177Z"
   },
   {
    "duration": 197,
    "start_time": "2023-01-22T19:07:51.205Z"
   },
   {
    "duration": 9,
    "start_time": "2023-01-22T19:07:51.404Z"
   },
   {
    "duration": 17,
    "start_time": "2023-01-22T19:07:51.414Z"
   },
   {
    "duration": 9,
    "start_time": "2023-01-22T19:07:51.432Z"
   },
   {
    "duration": 63,
    "start_time": "2023-01-22T19:07:51.443Z"
   },
   {
    "duration": 14,
    "start_time": "2023-01-22T19:07:51.508Z"
   },
   {
    "duration": 94,
    "start_time": "2023-01-22T19:07:51.525Z"
   },
   {
    "duration": 22,
    "start_time": "2023-01-22T19:07:51.621Z"
   },
   {
    "duration": 159,
    "start_time": "2023-01-22T19:07:51.644Z"
   },
   {
    "duration": 19,
    "start_time": "2023-01-22T19:07:51.804Z"
   },
   {
    "duration": 94,
    "start_time": "2023-01-22T19:07:51.825Z"
   },
   {
    "duration": 3,
    "start_time": "2023-01-22T19:09:17.545Z"
   },
   {
    "duration": 16,
    "start_time": "2023-01-22T19:09:18.107Z"
   },
   {
    "duration": 28,
    "start_time": "2023-01-22T19:09:19.960Z"
   },
   {
    "duration": 12,
    "start_time": "2023-01-22T19:10:00.304Z"
   },
   {
    "duration": 4,
    "start_time": "2023-01-22T19:12:16.373Z"
   },
   {
    "duration": 12,
    "start_time": "2023-01-22T19:12:17.293Z"
   },
   {
    "duration": 3,
    "start_time": "2023-01-22T19:12:40.131Z"
   },
   {
    "duration": 16,
    "start_time": "2023-01-22T19:12:41.269Z"
   },
   {
    "duration": 3,
    "start_time": "2023-01-22T19:14:07.394Z"
   },
   {
    "duration": 257,
    "start_time": "2023-01-22T19:14:08.194Z"
   },
   {
    "duration": 4,
    "start_time": "2023-01-22T19:14:54.088Z"
   },
   {
    "duration": 14,
    "start_time": "2023-01-22T19:14:54.608Z"
   },
   {
    "duration": 3,
    "start_time": "2023-01-22T19:15:19.127Z"
   },
   {
    "duration": 11,
    "start_time": "2023-01-22T19:15:19.864Z"
   },
   {
    "duration": 12,
    "start_time": "2023-01-22T19:15:23.064Z"
   },
   {
    "duration": 11,
    "start_time": "2023-01-22T19:15:45.567Z"
   },
   {
    "duration": 17,
    "start_time": "2023-01-22T19:15:59.886Z"
   },
   {
    "duration": 10,
    "start_time": "2023-01-22T19:16:29.464Z"
   },
   {
    "duration": 1422,
    "start_time": "2023-01-22T19:17:09.183Z"
   },
   {
    "duration": 24,
    "start_time": "2023-01-22T19:17:10.607Z"
   },
   {
    "duration": 13,
    "start_time": "2023-01-22T19:17:10.633Z"
   },
   {
    "duration": 562,
    "start_time": "2023-01-22T19:17:10.648Z"
   },
   {
    "duration": 11,
    "start_time": "2023-01-22T19:17:11.212Z"
   },
   {
    "duration": 19,
    "start_time": "2023-01-22T19:17:11.224Z"
   },
   {
    "duration": 8,
    "start_time": "2023-01-22T19:17:11.245Z"
   },
   {
    "duration": 5,
    "start_time": "2023-01-22T19:17:11.255Z"
   },
   {
    "duration": 7,
    "start_time": "2023-01-22T19:17:11.262Z"
   },
   {
    "duration": 36,
    "start_time": "2023-01-22T19:17:11.270Z"
   },
   {
    "duration": 197,
    "start_time": "2023-01-22T19:17:11.307Z"
   },
   {
    "duration": 5,
    "start_time": "2023-01-22T19:17:11.506Z"
   },
   {
    "duration": 8,
    "start_time": "2023-01-22T19:17:11.513Z"
   },
   {
    "duration": 9,
    "start_time": "2023-01-22T19:17:11.523Z"
   },
   {
    "duration": 14,
    "start_time": "2023-01-22T19:17:11.534Z"
   },
   {
    "duration": 14,
    "start_time": "2023-01-22T19:17:11.600Z"
   },
   {
    "duration": 85,
    "start_time": "2023-01-22T19:17:11.616Z"
   },
   {
    "duration": 11,
    "start_time": "2023-01-22T19:17:11.703Z"
   },
   {
    "duration": 87,
    "start_time": "2023-01-22T19:17:11.716Z"
   },
   {
    "duration": 101,
    "start_time": "2023-01-22T19:17:11.805Z"
   },
   {
    "duration": 89,
    "start_time": "2023-01-22T19:17:11.909Z"
   },
   {
    "duration": 1268,
    "start_time": "2023-01-22T19:26:12.408Z"
   },
   {
    "duration": 25,
    "start_time": "2023-01-22T19:26:13.678Z"
   },
   {
    "duration": 13,
    "start_time": "2023-01-22T19:26:13.705Z"
   },
   {
    "duration": 626,
    "start_time": "2023-01-22T19:26:13.720Z"
   },
   {
    "duration": 12,
    "start_time": "2023-01-22T19:26:14.348Z"
   },
   {
    "duration": 41,
    "start_time": "2023-01-22T19:26:14.362Z"
   },
   {
    "duration": 9,
    "start_time": "2023-01-22T19:26:14.405Z"
   },
   {
    "duration": 6,
    "start_time": "2023-01-22T19:26:14.415Z"
   },
   {
    "duration": 4,
    "start_time": "2023-01-22T19:26:14.422Z"
   },
   {
    "duration": 69,
    "start_time": "2023-01-22T19:26:14.429Z"
   },
   {
    "duration": 105,
    "start_time": "2023-01-22T19:26:14.501Z"
   },
   {
    "duration": 7,
    "start_time": "2023-01-22T19:26:14.608Z"
   },
   {
    "duration": 8,
    "start_time": "2023-01-22T19:26:14.617Z"
   },
   {
    "duration": 12,
    "start_time": "2023-01-22T19:26:14.627Z"
   },
   {
    "duration": 59,
    "start_time": "2023-01-22T19:26:14.640Z"
   },
   {
    "duration": 8,
    "start_time": "2023-01-22T19:26:14.702Z"
   },
   {
    "duration": 89,
    "start_time": "2023-01-22T19:26:14.712Z"
   },
   {
    "duration": 10,
    "start_time": "2023-01-22T19:26:14.803Z"
   },
   {
    "duration": 112,
    "start_time": "2023-01-22T19:26:14.815Z"
   },
   {
    "duration": 0,
    "start_time": "2023-01-22T19:26:14.929Z"
   },
   {
    "duration": 0,
    "start_time": "2023-01-22T19:26:14.931Z"
   },
   {
    "duration": 13,
    "start_time": "2023-01-22T19:26:52.673Z"
   },
   {
    "duration": 14,
    "start_time": "2023-01-22T19:27:07.014Z"
   },
   {
    "duration": 88,
    "start_time": "2023-01-22T19:27:10.119Z"
   },
   {
    "duration": 12,
    "start_time": "2023-01-22T19:28:22.517Z"
   },
   {
    "duration": 8,
    "start_time": "2023-01-22T19:28:28.837Z"
   },
   {
    "duration": 8,
    "start_time": "2023-01-22T19:28:35.893Z"
   },
   {
    "duration": 9,
    "start_time": "2023-01-22T19:29:36.603Z"
   },
   {
    "duration": 9,
    "start_time": "2023-01-22T19:29:52.283Z"
   },
   {
    "duration": 8,
    "start_time": "2023-01-22T19:39:10.345Z"
   },
   {
    "duration": 1303,
    "start_time": "2023-01-22T19:42:10.160Z"
   },
   {
    "duration": 25,
    "start_time": "2023-01-22T19:42:11.465Z"
   },
   {
    "duration": 15,
    "start_time": "2023-01-22T19:42:11.492Z"
   },
   {
    "duration": 542,
    "start_time": "2023-01-22T19:42:11.509Z"
   },
   {
    "duration": 12,
    "start_time": "2023-01-22T19:42:12.052Z"
   },
   {
    "duration": 26,
    "start_time": "2023-01-22T19:42:12.066Z"
   },
   {
    "duration": 15,
    "start_time": "2023-01-22T19:42:12.100Z"
   },
   {
    "duration": 22,
    "start_time": "2023-01-22T19:42:12.117Z"
   },
   {
    "duration": 18,
    "start_time": "2023-01-22T19:42:12.141Z"
   },
   {
    "duration": 38,
    "start_time": "2023-01-22T19:42:12.162Z"
   },
   {
    "duration": 206,
    "start_time": "2023-01-22T19:42:12.201Z"
   },
   {
    "duration": 16,
    "start_time": "2023-01-22T19:42:12.409Z"
   },
   {
    "duration": 25,
    "start_time": "2023-01-22T19:42:12.426Z"
   },
   {
    "duration": 11,
    "start_time": "2023-01-22T19:42:12.453Z"
   },
   {
    "duration": 33,
    "start_time": "2023-01-22T19:42:12.466Z"
   },
   {
    "duration": 97,
    "start_time": "2023-01-22T19:42:12.502Z"
   },
   {
    "duration": 9,
    "start_time": "2023-01-22T19:42:12.601Z"
   },
   {
    "duration": 37,
    "start_time": "2023-01-22T19:42:12.612Z"
   },
   {
    "duration": 28,
    "start_time": "2023-01-22T19:42:12.651Z"
   },
   {
    "duration": 109,
    "start_time": "2023-01-22T19:42:12.699Z"
   },
   {
    "duration": 7,
    "start_time": "2023-01-22T19:42:12.809Z"
   },
   {
    "duration": 1314,
    "start_time": "2023-01-22T20:13:06.300Z"
   },
   {
    "duration": 25,
    "start_time": "2023-01-22T20:13:07.616Z"
   },
   {
    "duration": 15,
    "start_time": "2023-01-22T20:13:07.643Z"
   },
   {
    "duration": 577,
    "start_time": "2023-01-22T20:13:07.660Z"
   },
   {
    "duration": 12,
    "start_time": "2023-01-22T20:13:08.238Z"
   },
   {
    "duration": 12,
    "start_time": "2023-01-22T20:13:08.251Z"
   },
   {
    "duration": 6,
    "start_time": "2023-01-22T20:13:08.264Z"
   },
   {
    "duration": 8,
    "start_time": "2023-01-22T20:13:08.272Z"
   },
   {
    "duration": 31,
    "start_time": "2023-01-22T20:13:08.281Z"
   },
   {
    "duration": 85,
    "start_time": "2023-01-22T20:13:08.315Z"
   },
   {
    "duration": 104,
    "start_time": "2023-01-22T20:13:08.401Z"
   },
   {
    "duration": 4,
    "start_time": "2023-01-22T20:13:08.507Z"
   },
   {
    "duration": 8,
    "start_time": "2023-01-22T20:13:08.513Z"
   },
   {
    "duration": 9,
    "start_time": "2023-01-22T20:13:08.522Z"
   },
   {
    "duration": 6,
    "start_time": "2023-01-22T20:13:08.533Z"
   },
   {
    "duration": 59,
    "start_time": "2023-01-22T20:13:08.541Z"
   },
   {
    "duration": 13,
    "start_time": "2023-01-22T20:13:08.602Z"
   },
   {
    "duration": 86,
    "start_time": "2023-01-22T20:13:08.616Z"
   },
   {
    "duration": 21,
    "start_time": "2023-01-22T20:13:08.704Z"
   },
   {
    "duration": 84,
    "start_time": "2023-01-22T20:13:08.726Z"
   },
   {
    "duration": 90,
    "start_time": "2023-01-22T20:13:08.812Z"
   },
   {
    "duration": 2463,
    "start_time": "2023-01-23T05:41:49.617Z"
   },
   {
    "duration": 104,
    "start_time": "2023-01-23T05:41:52.082Z"
   },
   {
    "duration": 16,
    "start_time": "2023-01-23T05:42:05.743Z"
   },
   {
    "duration": 793,
    "start_time": "2023-01-23T05:42:06.340Z"
   },
   {
    "duration": 19,
    "start_time": "2023-01-23T05:42:07.137Z"
   },
   {
    "duration": 11,
    "start_time": "2023-01-23T05:44:01.024Z"
   },
   {
    "duration": 9,
    "start_time": "2023-01-23T05:44:01.815Z"
   },
   {
    "duration": 5,
    "start_time": "2023-01-23T05:44:03.366Z"
   },
   {
    "duration": 6,
    "start_time": "2023-01-23T05:44:35.240Z"
   },
   {
    "duration": 9,
    "start_time": "2023-01-23T05:44:37.263Z"
   },
   {
    "duration": 21,
    "start_time": "2023-01-23T05:44:37.982Z"
   },
   {
    "duration": 4,
    "start_time": "2023-01-23T05:46:11.531Z"
   },
   {
    "duration": 4,
    "start_time": "2023-01-23T05:46:12.040Z"
   },
   {
    "duration": 5,
    "start_time": "2023-01-23T05:46:12.246Z"
   },
   {
    "duration": 6,
    "start_time": "2023-01-23T05:46:12.523Z"
   },
   {
    "duration": 4,
    "start_time": "2023-01-23T05:46:50.573Z"
   },
   {
    "duration": 4,
    "start_time": "2023-01-23T05:46:51.006Z"
   },
   {
    "duration": 9,
    "start_time": "2023-01-23T05:46:51.661Z"
   },
   {
    "duration": 7,
    "start_time": "2023-01-23T05:46:56.381Z"
   },
   {
    "duration": 57,
    "start_time": "2023-01-23T05:46:56.727Z"
   },
   {
    "duration": 28,
    "start_time": "2023-01-23T05:46:58.487Z"
   },
   {
    "duration": 18,
    "start_time": "2023-01-23T05:47:22.821Z"
   },
   {
    "duration": 1433,
    "start_time": "2023-01-28T12:14:51.629Z"
   },
   {
    "duration": 114,
    "start_time": "2023-01-28T12:14:53.064Z"
   },
   {
    "duration": 13,
    "start_time": "2023-01-28T12:14:53.180Z"
   },
   {
    "duration": 552,
    "start_time": "2023-01-28T12:14:53.194Z"
   },
   {
    "duration": 11,
    "start_time": "2023-01-28T12:14:53.748Z"
   },
   {
    "duration": 9,
    "start_time": "2023-01-28T12:14:53.760Z"
   },
   {
    "duration": 13,
    "start_time": "2023-01-28T12:14:53.771Z"
   },
   {
    "duration": 15,
    "start_time": "2023-01-28T12:14:53.786Z"
   },
   {
    "duration": 4,
    "start_time": "2023-01-28T12:14:53.803Z"
   },
   {
    "duration": 15,
    "start_time": "2023-01-28T12:14:53.810Z"
   },
   {
    "duration": 122,
    "start_time": "2023-01-28T12:14:53.900Z"
   },
   {
    "duration": 14,
    "start_time": "2023-01-28T12:14:54.024Z"
   },
   {
    "duration": 19,
    "start_time": "2023-01-28T12:14:54.040Z"
   },
   {
    "duration": 17,
    "start_time": "2023-01-28T12:14:54.061Z"
   },
   {
    "duration": 41,
    "start_time": "2023-01-28T12:14:54.080Z"
   },
   {
    "duration": 80,
    "start_time": "2023-01-28T12:14:54.123Z"
   },
   {
    "duration": 20,
    "start_time": "2023-01-28T12:14:54.205Z"
   },
   {
    "duration": 18,
    "start_time": "2023-01-28T12:14:54.226Z"
   },
   {
    "duration": 18,
    "start_time": "2023-01-28T12:14:54.246Z"
   },
   {
    "duration": 42,
    "start_time": "2023-01-28T12:14:54.266Z"
   },
   {
    "duration": 99,
    "start_time": "2023-01-28T12:14:54.310Z"
   }
  ],
  "kernelspec": {
   "display_name": "Python 3 (ipykernel)",
   "language": "python",
   "name": "python3"
  },
  "language_info": {
   "codemirror_mode": {
    "name": "ipython",
    "version": 3
   },
   "file_extension": ".py",
   "mimetype": "text/x-python",
   "name": "python",
   "nbconvert_exporter": "python",
   "pygments_lexer": "ipython3",
   "version": "3.9.5"
  },
  "toc": {
   "base_numbering": 1,
   "nav_menu": {},
   "number_sections": true,
   "sideBar": true,
   "skip_h1_title": true,
   "title_cell": "Содержание",
   "title_sidebar": "Contents",
   "toc_cell": true,
   "toc_position": {},
   "toc_section_display": true,
   "toc_window_display": true
  }
 },
 "nbformat": 4,
 "nbformat_minor": 2
}
